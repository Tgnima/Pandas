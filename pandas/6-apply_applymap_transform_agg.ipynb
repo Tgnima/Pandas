{
 "cells": [
  {
   "cell_type": "code",
   "execution_count": 2,
   "id": "fifty-hindu",
   "metadata": {
    "execution": {
     "iopub.execute_input": "2021-04-30T02:30:39.519531Z",
     "iopub.status.busy": "2021-04-30T02:30:39.519259Z",
     "iopub.status.idle": "2021-04-30T02:30:39.758666Z",
     "shell.execute_reply": "2021-04-30T02:30:39.758166Z",
     "shell.execute_reply.started": "2021-04-30T02:30:39.519500Z"
    },
    "tags": []
   },
   "outputs": [],
   "source": [
    "import pandas as pd\n",
    "import numpy as np"
   ]
  },
  {
   "cell_type": "code",
   "execution_count": null,
   "id": "6d892f6e-8f64-4505-b9f2-3e63cd6b8e71",
   "metadata": {},
   "outputs": [],
   "source": []
  },
  {
   "cell_type": "code",
   "execution_count": null,
   "id": "f1101727-0d22-4a34-b479-53a3e3805771",
   "metadata": {},
   "outputs": [],
   "source": []
  },
  {
   "cell_type": "markdown",
   "id": "6109126b-281d-49ab-931a-77bbbc52853a",
   "metadata": {},
   "source": [
    "### Applymap : applique une fonction élément par élément"
   ]
  },
  {
   "cell_type": "code",
   "execution_count": 3,
   "id": "concerned-iceland",
   "metadata": {
    "execution": {
     "iopub.execute_input": "2021-04-30T02:30:40.296743Z",
     "iopub.status.busy": "2021-04-30T02:30:40.296385Z",
     "iopub.status.idle": "2021-04-30T02:30:40.310874Z",
     "shell.execute_reply": "2021-04-30T02:30:40.310423Z",
     "shell.execute_reply.started": "2021-04-30T02:30:40.296709Z"
    },
    "tags": []
   },
   "outputs": [
    {
     "data": {
      "text/html": [
       "<div>\n",
       "<style scoped>\n",
       "    .dataframe tbody tr th:only-of-type {\n",
       "        vertical-align: middle;\n",
       "    }\n",
       "\n",
       "    .dataframe tbody tr th {\n",
       "        vertical-align: top;\n",
       "    }\n",
       "\n",
       "    .dataframe thead th {\n",
       "        text-align: right;\n",
       "    }\n",
       "</style>\n",
       "<table border=\"1\" class=\"dataframe\">\n",
       "  <thead>\n",
       "    <tr style=\"text-align: right;\">\n",
       "      <th></th>\n",
       "      <th>A</th>\n",
       "      <th>B</th>\n",
       "      <th>C</th>\n",
       "      <th>D</th>\n",
       "    </tr>\n",
       "  </thead>\n",
       "  <tbody>\n",
       "    <tr>\n",
       "      <th>0</th>\n",
       "      <td>8</td>\n",
       "      <td>9</td>\n",
       "      <td>6</td>\n",
       "      <td>2</td>\n",
       "    </tr>\n",
       "    <tr>\n",
       "      <th>1</th>\n",
       "      <td>3</td>\n",
       "      <td>7</td>\n",
       "      <td>0</td>\n",
       "      <td>6</td>\n",
       "    </tr>\n",
       "    <tr>\n",
       "      <th>2</th>\n",
       "      <td>4</td>\n",
       "      <td>7</td>\n",
       "      <td>2</td>\n",
       "      <td>3</td>\n",
       "    </tr>\n",
       "    <tr>\n",
       "      <th>3</th>\n",
       "      <td>1</td>\n",
       "      <td>5</td>\n",
       "      <td>0</td>\n",
       "      <td>2</td>\n",
       "    </tr>\n",
       "    <tr>\n",
       "      <th>4</th>\n",
       "      <td>2</td>\n",
       "      <td>2</td>\n",
       "      <td>8</td>\n",
       "      <td>0</td>\n",
       "    </tr>\n",
       "    <tr>\n",
       "      <th>5</th>\n",
       "      <td>6</td>\n",
       "      <td>3</td>\n",
       "      <td>8</td>\n",
       "      <td>7</td>\n",
       "    </tr>\n",
       "  </tbody>\n",
       "</table>\n",
       "</div>"
      ],
      "text/plain": [
       "   A  B  C  D\n",
       "0  8  9  6  2\n",
       "1  3  7  0  6\n",
       "2  4  7  2  3\n",
       "3  1  5  0  2\n",
       "4  2  2  8  0\n",
       "5  6  3  8  7"
      ]
     },
     "execution_count": 3,
     "metadata": {},
     "output_type": "execute_result"
    }
   ],
   "source": [
    "df = pd.DataFrame(np.random.randint(10, size=(6, 4)), columns=list('ABCD'))\n",
    "\n",
    "df"
   ]
  },
  {
   "cell_type": "code",
   "execution_count": 4,
   "id": "generic-heath",
   "metadata": {
    "execution": {
     "iopub.execute_input": "2021-04-30T02:30:40.477598Z",
     "iopub.status.busy": "2021-04-30T02:30:40.477324Z",
     "iopub.status.idle": "2021-04-30T02:30:40.491437Z",
     "shell.execute_reply": "2021-04-30T02:30:40.490977Z",
     "shell.execute_reply.started": "2021-04-30T02:30:40.477567Z"
    },
    "tags": []
   },
   "outputs": [
    {
     "data": {
      "text/html": [
       "<div>\n",
       "<style scoped>\n",
       "    .dataframe tbody tr th:only-of-type {\n",
       "        vertical-align: middle;\n",
       "    }\n",
       "\n",
       "    .dataframe tbody tr th {\n",
       "        vertical-align: top;\n",
       "    }\n",
       "\n",
       "    .dataframe thead th {\n",
       "        text-align: right;\n",
       "    }\n",
       "</style>\n",
       "<table border=\"1\" class=\"dataframe\">\n",
       "  <thead>\n",
       "    <tr style=\"text-align: right;\">\n",
       "      <th></th>\n",
       "      <th>A</th>\n",
       "      <th>B</th>\n",
       "      <th>C</th>\n",
       "      <th>D</th>\n",
       "    </tr>\n",
       "  </thead>\n",
       "  <tbody>\n",
       "    <tr>\n",
       "      <th>0</th>\n",
       "      <td>88888888</td>\n",
       "      <td>999999999</td>\n",
       "      <td>666666</td>\n",
       "      <td>22</td>\n",
       "    </tr>\n",
       "    <tr>\n",
       "      <th>1</th>\n",
       "      <td>333</td>\n",
       "      <td>7777777</td>\n",
       "      <td></td>\n",
       "      <td>666666</td>\n",
       "    </tr>\n",
       "    <tr>\n",
       "      <th>2</th>\n",
       "      <td>4444</td>\n",
       "      <td>7777777</td>\n",
       "      <td>22</td>\n",
       "      <td>333</td>\n",
       "    </tr>\n",
       "    <tr>\n",
       "      <th>3</th>\n",
       "      <td>1</td>\n",
       "      <td>55555</td>\n",
       "      <td></td>\n",
       "      <td>22</td>\n",
       "    </tr>\n",
       "    <tr>\n",
       "      <th>4</th>\n",
       "      <td>22</td>\n",
       "      <td>22</td>\n",
       "      <td>88888888</td>\n",
       "      <td></td>\n",
       "    </tr>\n",
       "    <tr>\n",
       "      <th>5</th>\n",
       "      <td>666666</td>\n",
       "      <td>333</td>\n",
       "      <td>88888888</td>\n",
       "      <td>7777777</td>\n",
       "    </tr>\n",
       "  </tbody>\n",
       "</table>\n",
       "</div>"
      ],
      "text/plain": [
       "          A          B         C        D\n",
       "0  88888888  999999999    666666       22\n",
       "1       333    7777777             666666\n",
       "2      4444    7777777        22      333\n",
       "3         1      55555                 22\n",
       "4        22         22  88888888         \n",
       "5    666666        333  88888888  7777777"
      ]
     },
     "execution_count": 4,
     "metadata": {},
     "output_type": "execute_result"
    }
   ],
   "source": [
    "df.applymap(lambda x: str(x) * x)"
   ]
  },
  {
   "cell_type": "markdown",
   "id": "45f547ab-1e91-48dc-829f-bbe33c29a4b9",
   "metadata": {
    "execution": {
     "iopub.execute_input": "2021-04-25T20:36:07.919699Z",
     "iopub.status.busy": "2021-04-25T20:36:07.919511Z",
     "iopub.status.idle": "2021-04-25T20:36:07.921770Z",
     "shell.execute_reply": "2021-04-25T20:36:07.921385Z",
     "shell.execute_reply.started": "2021-04-25T20:36:07.919677Z"
    }
   },
   "source": [
    "### Apply applique une fonction le long d'un axe"
   ]
  },
  {
   "cell_type": "code",
   "execution_count": 5,
   "id": "infrared-creation",
   "metadata": {
    "execution": {
     "iopub.execute_input": "2021-04-30T02:30:40.839160Z",
     "iopub.status.busy": "2021-04-30T02:30:40.838562Z",
     "iopub.status.idle": "2021-04-30T02:30:40.851255Z",
     "shell.execute_reply": "2021-04-30T02:30:40.850141Z",
     "shell.execute_reply.started": "2021-04-30T02:30:40.839067Z"
    },
    "tags": []
   },
   "outputs": [
    {
     "data": {
      "text/plain": [
       "0    999999999\n",
       "1      7777777\n",
       "2      7777777\n",
       "3        55555\n",
       "4           22\n",
       "5          333\n",
       "Name: B, dtype: object"
      ]
     },
     "execution_count": 5,
     "metadata": {},
     "output_type": "execute_result"
    }
   ],
   "source": [
    "df.B.apply(lambda x: str(x) * x)"
   ]
  },
  {
   "cell_type": "code",
   "execution_count": 6,
   "id": "f5a259f9-f3cf-451e-8e40-ff94bc82c122",
   "metadata": {
    "execution": {
     "iopub.execute_input": "2021-04-30T02:30:41.028443Z",
     "iopub.status.busy": "2021-04-30T02:30:41.028120Z",
     "iopub.status.idle": "2021-04-30T02:30:41.035060Z",
     "shell.execute_reply": "2021-04-30T02:30:41.034437Z",
     "shell.execute_reply.started": "2021-04-30T02:30:41.028406Z"
    },
    "tags": []
   },
   "outputs": [
    {
     "data": {
      "text/plain": [
       "0    9\n",
       "1    7\n",
       "2    7\n",
       "3    5\n",
       "4    2\n",
       "5    3\n",
       "Name: B, dtype: int64"
      ]
     },
     "execution_count": 6,
     "metadata": {},
     "output_type": "execute_result"
    }
   ],
   "source": [
    "df.B.apply(np.sum)"
   ]
  },
  {
   "cell_type": "code",
   "execution_count": 7,
   "id": "35a8eb6b-c8a7-4cb3-ad0f-57ba20ec09de",
   "metadata": {
    "execution": {
     "iopub.execute_input": "2021-04-30T02:30:41.198281Z",
     "iopub.status.busy": "2021-04-30T02:30:41.198090Z",
     "iopub.status.idle": "2021-04-30T02:30:41.203645Z",
     "shell.execute_reply": "2021-04-30T02:30:41.203018Z",
     "shell.execute_reply.started": "2021-04-30T02:30:41.198260Z"
    },
    "tags": []
   },
   "outputs": [
    {
     "data": {
      "text/plain": [
       "A    24\n",
       "B    33\n",
       "C    24\n",
       "D    20\n",
       "dtype: int64"
      ]
     },
     "execution_count": 7,
     "metadata": {},
     "output_type": "execute_result"
    }
   ],
   "source": [
    "df.apply(np.sum, axis=0)"
   ]
  },
  {
   "cell_type": "code",
   "execution_count": 8,
   "id": "738520bb-95f4-4318-b856-1c3cf4728654",
   "metadata": {
    "execution": {
     "iopub.execute_input": "2021-04-30T02:30:41.400207Z",
     "iopub.status.busy": "2021-04-30T02:30:41.399881Z",
     "iopub.status.idle": "2021-04-30T02:30:41.413157Z",
     "shell.execute_reply": "2021-04-30T02:30:41.412758Z",
     "shell.execute_reply.started": "2021-04-30T02:30:41.400170Z"
    },
    "tags": []
   },
   "outputs": [
    {
     "data": {
      "text/html": [
       "<div>\n",
       "<style scoped>\n",
       "    .dataframe tbody tr th:only-of-type {\n",
       "        vertical-align: middle;\n",
       "    }\n",
       "\n",
       "    .dataframe tbody tr th {\n",
       "        vertical-align: top;\n",
       "    }\n",
       "\n",
       "    .dataframe thead th {\n",
       "        text-align: right;\n",
       "    }\n",
       "</style>\n",
       "<table border=\"1\" class=\"dataframe\">\n",
       "  <thead>\n",
       "    <tr style=\"text-align: right;\">\n",
       "      <th></th>\n",
       "      <th>A</th>\n",
       "      <th>B</th>\n",
       "      <th>C</th>\n",
       "      <th>D</th>\n",
       "    </tr>\n",
       "  </thead>\n",
       "  <tbody>\n",
       "    <tr>\n",
       "      <th>0</th>\n",
       "      <td>1.533930</td>\n",
       "      <td>1.313527</td>\n",
       "      <td>0.527046</td>\n",
       "      <td>-0.501570</td>\n",
       "    </tr>\n",
       "    <tr>\n",
       "      <th>1</th>\n",
       "      <td>-0.383482</td>\n",
       "      <td>0.562940</td>\n",
       "      <td>-1.054093</td>\n",
       "      <td>1.003140</td>\n",
       "    </tr>\n",
       "    <tr>\n",
       "      <th>2</th>\n",
       "      <td>0.000000</td>\n",
       "      <td>0.562940</td>\n",
       "      <td>-0.527046</td>\n",
       "      <td>-0.125392</td>\n",
       "    </tr>\n",
       "    <tr>\n",
       "      <th>3</th>\n",
       "      <td>-1.150447</td>\n",
       "      <td>-0.187647</td>\n",
       "      <td>-1.054093</td>\n",
       "      <td>-0.501570</td>\n",
       "    </tr>\n",
       "    <tr>\n",
       "      <th>4</th>\n",
       "      <td>-0.766965</td>\n",
       "      <td>-1.313527</td>\n",
       "      <td>1.054093</td>\n",
       "      <td>-1.253925</td>\n",
       "    </tr>\n",
       "    <tr>\n",
       "      <th>5</th>\n",
       "      <td>0.766965</td>\n",
       "      <td>-0.938233</td>\n",
       "      <td>1.054093</td>\n",
       "      <td>1.379317</td>\n",
       "    </tr>\n",
       "  </tbody>\n",
       "</table>\n",
       "</div>"
      ],
      "text/plain": [
       "          A         B         C         D\n",
       "0  1.533930  1.313527  0.527046 -0.501570\n",
       "1 -0.383482  0.562940 -1.054093  1.003140\n",
       "2  0.000000  0.562940 -0.527046 -0.125392\n",
       "3 -1.150447 -0.187647 -1.054093 -0.501570\n",
       "4 -0.766965 -1.313527  1.054093 -1.253925\n",
       "5  0.766965 -0.938233  1.054093  1.379317"
      ]
     },
     "execution_count": 8,
     "metadata": {},
     "output_type": "execute_result"
    }
   ],
   "source": [
    "df.apply(lambda x: (x - x.mean()) / x.std())"
   ]
  },
  {
   "cell_type": "code",
   "execution_count": 9,
   "id": "f06ed6fe-7ead-41b8-9cc1-b1ed17b421f0",
   "metadata": {
    "execution": {
     "iopub.execute_input": "2021-04-30T02:30:41.858723Z",
     "iopub.status.busy": "2021-04-30T02:30:41.858119Z",
     "iopub.status.idle": "2021-04-30T02:30:41.867143Z",
     "shell.execute_reply": "2021-04-30T02:30:41.864947Z",
     "shell.execute_reply.started": "2021-04-30T02:30:41.858654Z"
    },
    "tags": []
   },
   "outputs": [],
   "source": [
    "def normalize_data(s):\n",
    "    return s - s.mean() / s.std()"
   ]
  },
  {
   "cell_type": "code",
   "execution_count": 10,
   "id": "bd4a3dd3-b54d-4bb5-b84c-32f2c973fb70",
   "metadata": {
    "execution": {
     "iopub.execute_input": "2021-04-30T02:30:42.445384Z",
     "iopub.status.busy": "2021-04-30T02:30:42.445060Z",
     "iopub.status.idle": "2021-04-30T02:30:42.459207Z",
     "shell.execute_reply": "2021-04-30T02:30:42.458564Z",
     "shell.execute_reply.started": "2021-04-30T02:30:42.445348Z"
    },
    "tags": []
   },
   "outputs": [
    {
     "data": {
      "text/html": [
       "<div>\n",
       "<style scoped>\n",
       "    .dataframe tbody tr th:only-of-type {\n",
       "        vertical-align: middle;\n",
       "    }\n",
       "\n",
       "    .dataframe tbody tr th {\n",
       "        vertical-align: top;\n",
       "    }\n",
       "\n",
       "    .dataframe thead th {\n",
       "        text-align: right;\n",
       "    }\n",
       "</style>\n",
       "<table border=\"1\" class=\"dataframe\">\n",
       "  <thead>\n",
       "    <tr style=\"text-align: right;\">\n",
       "      <th></th>\n",
       "      <th>A</th>\n",
       "      <th>B</th>\n",
       "      <th>C</th>\n",
       "      <th>D</th>\n",
       "    </tr>\n",
       "  </thead>\n",
       "  <tbody>\n",
       "    <tr>\n",
       "      <th>0</th>\n",
       "      <td>6.46607</td>\n",
       "      <td>6.935887</td>\n",
       "      <td>4.945907</td>\n",
       "      <td>0.746075</td>\n",
       "    </tr>\n",
       "    <tr>\n",
       "      <th>1</th>\n",
       "      <td>1.46607</td>\n",
       "      <td>4.935887</td>\n",
       "      <td>-1.054093</td>\n",
       "      <td>4.746075</td>\n",
       "    </tr>\n",
       "    <tr>\n",
       "      <th>2</th>\n",
       "      <td>2.46607</td>\n",
       "      <td>4.935887</td>\n",
       "      <td>0.945907</td>\n",
       "      <td>1.746075</td>\n",
       "    </tr>\n",
       "    <tr>\n",
       "      <th>3</th>\n",
       "      <td>-0.53393</td>\n",
       "      <td>2.935887</td>\n",
       "      <td>-1.054093</td>\n",
       "      <td>0.746075</td>\n",
       "    </tr>\n",
       "    <tr>\n",
       "      <th>4</th>\n",
       "      <td>0.46607</td>\n",
       "      <td>-0.064113</td>\n",
       "      <td>6.945907</td>\n",
       "      <td>-1.253925</td>\n",
       "    </tr>\n",
       "    <tr>\n",
       "      <th>5</th>\n",
       "      <td>4.46607</td>\n",
       "      <td>0.935887</td>\n",
       "      <td>6.945907</td>\n",
       "      <td>5.746075</td>\n",
       "    </tr>\n",
       "  </tbody>\n",
       "</table>\n",
       "</div>"
      ],
      "text/plain": [
       "         A         B         C         D\n",
       "0  6.46607  6.935887  4.945907  0.746075\n",
       "1  1.46607  4.935887 -1.054093  4.746075\n",
       "2  2.46607  4.935887  0.945907  1.746075\n",
       "3 -0.53393  2.935887 -1.054093  0.746075\n",
       "4  0.46607 -0.064113  6.945907 -1.253925\n",
       "5  4.46607  0.935887  6.945907  5.746075"
      ]
     },
     "execution_count": 10,
     "metadata": {},
     "output_type": "execute_result"
    }
   ],
   "source": [
    "df.apply(normalize_data)"
   ]
  },
  {
   "cell_type": "markdown",
   "id": "ec9e3a4e-b1ce-4921-b7a1-1e3cadb096b7",
   "metadata": {},
   "source": [
    "⚠️ Transform fait la même chose que apply quand ce n'est pas appliqué à un groupe. "
   ]
  },
  {
   "cell_type": "code",
   "execution_count": 14,
   "id": "6b26f0e5-31a1-4f55-a4e8-9a9e03d511a0",
   "metadata": {
    "execution": {
     "iopub.execute_input": "2021-04-30T02:31:11.038709Z",
     "iopub.status.busy": "2021-04-30T02:31:11.038539Z",
     "iopub.status.idle": "2021-04-30T02:31:11.048650Z",
     "shell.execute_reply": "2021-04-30T02:31:11.048175Z",
     "shell.execute_reply.started": "2021-04-30T02:31:11.038690Z"
    },
    "tags": []
   },
   "outputs": [
    {
     "data": {
      "text/html": [
       "<div>\n",
       "<style scoped>\n",
       "    .dataframe tbody tr th:only-of-type {\n",
       "        vertical-align: middle;\n",
       "    }\n",
       "\n",
       "    .dataframe tbody tr th {\n",
       "        vertical-align: top;\n",
       "    }\n",
       "\n",
       "    .dataframe thead th {\n",
       "        text-align: right;\n",
       "    }\n",
       "</style>\n",
       "<table border=\"1\" class=\"dataframe\">\n",
       "  <thead>\n",
       "    <tr style=\"text-align: right;\">\n",
       "      <th></th>\n",
       "      <th>A</th>\n",
       "      <th>B</th>\n",
       "      <th>C</th>\n",
       "      <th>D</th>\n",
       "    </tr>\n",
       "  </thead>\n",
       "  <tbody>\n",
       "    <tr>\n",
       "      <th>0</th>\n",
       "      <td>6.46607</td>\n",
       "      <td>6.935887</td>\n",
       "      <td>4.945907</td>\n",
       "      <td>0.746075</td>\n",
       "    </tr>\n",
       "    <tr>\n",
       "      <th>1</th>\n",
       "      <td>1.46607</td>\n",
       "      <td>4.935887</td>\n",
       "      <td>-1.054093</td>\n",
       "      <td>4.746075</td>\n",
       "    </tr>\n",
       "    <tr>\n",
       "      <th>2</th>\n",
       "      <td>2.46607</td>\n",
       "      <td>4.935887</td>\n",
       "      <td>0.945907</td>\n",
       "      <td>1.746075</td>\n",
       "    </tr>\n",
       "    <tr>\n",
       "      <th>3</th>\n",
       "      <td>-0.53393</td>\n",
       "      <td>2.935887</td>\n",
       "      <td>-1.054093</td>\n",
       "      <td>0.746075</td>\n",
       "    </tr>\n",
       "    <tr>\n",
       "      <th>4</th>\n",
       "      <td>0.46607</td>\n",
       "      <td>-0.064113</td>\n",
       "      <td>6.945907</td>\n",
       "      <td>-1.253925</td>\n",
       "    </tr>\n",
       "    <tr>\n",
       "      <th>5</th>\n",
       "      <td>4.46607</td>\n",
       "      <td>0.935887</td>\n",
       "      <td>6.945907</td>\n",
       "      <td>5.746075</td>\n",
       "    </tr>\n",
       "  </tbody>\n",
       "</table>\n",
       "</div>"
      ],
      "text/plain": [
       "         A         B         C         D\n",
       "0  6.46607  6.935887  4.945907  0.746075\n",
       "1  1.46607  4.935887 -1.054093  4.746075\n",
       "2  2.46607  4.935887  0.945907  1.746075\n",
       "3 -0.53393  2.935887 -1.054093  0.746075\n",
       "4  0.46607 -0.064113  6.945907 -1.253925\n",
       "5  4.46607  0.935887  6.945907  5.746075"
      ]
     },
     "execution_count": 14,
     "metadata": {},
     "output_type": "execute_result"
    }
   ],
   "source": [
    "df.transform(normalize_data)"
   ]
  },
  {
   "cell_type": "markdown",
   "id": "96af6bd7-ed75-43f4-a802-20833a7d0022",
   "metadata": {
    "execution": {
     "iopub.execute_input": "2021-04-30T02:35:57.059594Z",
     "iopub.status.busy": "2021-04-30T02:35:57.059341Z",
     "iopub.status.idle": "2021-04-30T02:35:57.063559Z",
     "shell.execute_reply": "2021-04-30T02:35:57.062876Z",
     "shell.execute_reply.started": "2021-04-30T02:35:57.059570Z"
    }
   },
   "source": [
    "Cependant elles ne se comportent pas parreil quand on les utilise sur des groupes (avec un groupby):\n",
    "- Apply  : envoie les groupes en DataFrame à la fonction appliquée\n",
    "- Transform : envoie les groupes en série à la fonction appliquée\n",
    "    \n",
    "[Plus d'information ici](https://stackoverflow.com/questions/27517425/apply-vs-transform-on-a-group-object)\n",
    "\n",
    "En règle générale, si on travaille sur un groupby, c'est plutôt `transform` qu'il faut utiliser."
   ]
  },
  {
   "cell_type": "code",
   "execution_count": null,
   "id": "b295883d-7b81-49e1-8cef-d5e08795d379",
   "metadata": {},
   "outputs": [],
   "source": []
  },
  {
   "cell_type": "code",
   "execution_count": null,
   "id": "887e0aed-47f9-4b1a-8338-c8dd8f3e2f64",
   "metadata": {},
   "outputs": [],
   "source": []
  },
  {
   "cell_type": "code",
   "execution_count": null,
   "id": "ec5e07a5-d3fb-48c3-8dcd-0be38ee3a7d4",
   "metadata": {},
   "outputs": [],
   "source": []
  },
  {
   "cell_type": "markdown",
   "id": "24291074-0d55-4de9-9bf0-25808d09f8ce",
   "metadata": {},
   "source": [
    "### Agg"
   ]
  },
  {
   "cell_type": "code",
   "execution_count": 16,
   "id": "6a35bad8-9eb1-4320-abf5-3ed1b6a25caf",
   "metadata": {
    "execution": {
     "iopub.execute_input": "2021-04-30T02:37:42.259296Z",
     "iopub.status.busy": "2021-04-30T02:37:42.258795Z",
     "iopub.status.idle": "2021-04-30T02:37:42.278892Z",
     "shell.execute_reply": "2021-04-30T02:37:42.278333Z",
     "shell.execute_reply.started": "2021-04-30T02:37:42.259239Z"
    },
    "tags": []
   },
   "outputs": [
    {
     "data": {
      "text/html": [
       "<div>\n",
       "<style scoped>\n",
       "    .dataframe tbody tr th:only-of-type {\n",
       "        vertical-align: middle;\n",
       "    }\n",
       "\n",
       "    .dataframe tbody tr th {\n",
       "        vertical-align: top;\n",
       "    }\n",
       "\n",
       "    .dataframe thead th {\n",
       "        text-align: right;\n",
       "    }\n",
       "</style>\n",
       "<table border=\"1\" class=\"dataframe\">\n",
       "  <thead>\n",
       "    <tr style=\"text-align: right;\">\n",
       "      <th></th>\n",
       "      <th>A</th>\n",
       "      <th>B</th>\n",
       "      <th>C</th>\n",
       "      <th>D</th>\n",
       "    </tr>\n",
       "  </thead>\n",
       "  <tbody>\n",
       "    <tr>\n",
       "      <th>sum</th>\n",
       "      <td>24.000000</td>\n",
       "      <td>33.000000</td>\n",
       "      <td>24.000000</td>\n",
       "      <td>20.00000</td>\n",
       "    </tr>\n",
       "    <tr>\n",
       "      <th>min</th>\n",
       "      <td>1.000000</td>\n",
       "      <td>2.000000</td>\n",
       "      <td>0.000000</td>\n",
       "      <td>0.00000</td>\n",
       "    </tr>\n",
       "    <tr>\n",
       "      <th>std</th>\n",
       "      <td>2.607681</td>\n",
       "      <td>2.664583</td>\n",
       "      <td>3.794733</td>\n",
       "      <td>2.65832</td>\n",
       "    </tr>\n",
       "  </tbody>\n",
       "</table>\n",
       "</div>"
      ],
      "text/plain": [
       "             A          B          C         D\n",
       "sum  24.000000  33.000000  24.000000  20.00000\n",
       "min   1.000000   2.000000   0.000000   0.00000\n",
       "std   2.607681   2.664583   3.794733   2.65832"
      ]
     },
     "execution_count": 16,
     "metadata": {},
     "output_type": "execute_result"
    }
   ],
   "source": [
    "df.agg(['sum', 'min', 'std'])"
   ]
  },
  {
   "cell_type": "markdown",
   "id": "91b3729a-96e2-447f-a314-413158281e1f",
   "metadata": {},
   "source": [
    "Note : on a vu les trois cas ou il faut souvent utiliser une fonction anonyme `lambda` (applymap, apply, transform), il en reste une dernière qui est apply."
   ]
  },
  {
   "cell_type": "code",
   "execution_count": 17,
   "id": "8ce5b370-5cc9-471f-b6b2-cc9ce73d04b6",
   "metadata": {
    "execution": {
     "iopub.execute_input": "2021-04-30T02:38:53.338317Z",
     "iopub.status.busy": "2021-04-30T02:38:53.338143Z",
     "iopub.status.idle": "2021-04-30T02:38:53.346882Z",
     "shell.execute_reply": "2021-04-30T02:38:53.346485Z",
     "shell.execute_reply.started": "2021-04-30T02:38:53.338298Z"
    },
    "tags": []
   },
   "outputs": [
    {
     "data": {
      "text/html": [
       "<div>\n",
       "<style scoped>\n",
       "    .dataframe tbody tr th:only-of-type {\n",
       "        vertical-align: middle;\n",
       "    }\n",
       "\n",
       "    .dataframe tbody tr th {\n",
       "        vertical-align: top;\n",
       "    }\n",
       "\n",
       "    .dataframe thead th {\n",
       "        text-align: right;\n",
       "    }\n",
       "</style>\n",
       "<table border=\"1\" class=\"dataframe\">\n",
       "  <thead>\n",
       "    <tr style=\"text-align: right;\">\n",
       "      <th></th>\n",
       "      <th>A</th>\n",
       "      <th>B</th>\n",
       "      <th>C</th>\n",
       "      <th>D</th>\n",
       "      <th>E</th>\n",
       "      <th>F</th>\n",
       "    </tr>\n",
       "  </thead>\n",
       "  <tbody>\n",
       "    <tr>\n",
       "      <th>0</th>\n",
       "      <td>8</td>\n",
       "      <td>9</td>\n",
       "      <td>6</td>\n",
       "      <td>2</td>\n",
       "      <td>0.888889</td>\n",
       "      <td>4.5</td>\n",
       "    </tr>\n",
       "    <tr>\n",
       "      <th>1</th>\n",
       "      <td>3</td>\n",
       "      <td>7</td>\n",
       "      <td>0</td>\n",
       "      <td>6</td>\n",
       "      <td>0.428571</td>\n",
       "      <td>3.5</td>\n",
       "    </tr>\n",
       "    <tr>\n",
       "      <th>2</th>\n",
       "      <td>4</td>\n",
       "      <td>7</td>\n",
       "      <td>2</td>\n",
       "      <td>3</td>\n",
       "      <td>0.571429</td>\n",
       "      <td>3.5</td>\n",
       "    </tr>\n",
       "    <tr>\n",
       "      <th>3</th>\n",
       "      <td>1</td>\n",
       "      <td>5</td>\n",
       "      <td>0</td>\n",
       "      <td>2</td>\n",
       "      <td>0.200000</td>\n",
       "      <td>2.5</td>\n",
       "    </tr>\n",
       "    <tr>\n",
       "      <th>4</th>\n",
       "      <td>2</td>\n",
       "      <td>2</td>\n",
       "      <td>8</td>\n",
       "      <td>0</td>\n",
       "      <td>1.000000</td>\n",
       "      <td>1.0</td>\n",
       "    </tr>\n",
       "    <tr>\n",
       "      <th>5</th>\n",
       "      <td>6</td>\n",
       "      <td>3</td>\n",
       "      <td>8</td>\n",
       "      <td>7</td>\n",
       "      <td>2.000000</td>\n",
       "      <td>1.5</td>\n",
       "    </tr>\n",
       "  </tbody>\n",
       "</table>\n",
       "</div>"
      ],
      "text/plain": [
       "   A  B  C  D         E    F\n",
       "0  8  9  6  2  0.888889  4.5\n",
       "1  3  7  0  6  0.428571  3.5\n",
       "2  4  7  2  3  0.571429  3.5\n",
       "3  1  5  0  2  0.200000  2.5\n",
       "4  2  2  8  0  1.000000  1.0\n",
       "5  6  3  8  7  2.000000  1.5"
      ]
     },
     "execution_count": 17,
     "metadata": {},
     "output_type": "execute_result"
    }
   ],
   "source": [
    "df.assign(E=lambda x: x.A/x.B, F=lambda x: x.B / 2)"
   ]
  },
  {
   "cell_type": "code",
   "execution_count": null,
   "id": "08b23b84-eeb1-4390-974b-b7d50adb42ee",
   "metadata": {},
   "outputs": [],
   "source": []
  }
 ],
 "metadata": {
  "kernelspec": {
   "display_name": "Python 3",
   "language": "python",
   "name": "python3"
  },
  "language_info": {
   "codemirror_mode": {
    "name": "ipython",
    "version": 3
   },
   "file_extension": ".py",
   "mimetype": "text/x-python",
   "name": "python",
   "nbconvert_exporter": "python",
   "pygments_lexer": "ipython3",
   "version": "3.8.8"
  }
 },
 "nbformat": 4,
 "nbformat_minor": 5
}
