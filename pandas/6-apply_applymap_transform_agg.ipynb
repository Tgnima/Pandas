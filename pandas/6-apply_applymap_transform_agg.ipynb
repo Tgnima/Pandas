{
 "cells": [
  {
   "cell_type": "code",
   "execution_count": 5,
   "id": "fifty-hindu",
   "metadata": {
    "execution": {
     "iopub.execute_input": "2021-04-25T20:34:52.669183Z",
     "iopub.status.busy": "2021-04-25T20:34:52.668989Z",
     "iopub.status.idle": "2021-04-25T20:34:52.671376Z",
     "shell.execute_reply": "2021-04-25T20:34:52.670987Z",
     "shell.execute_reply.started": "2021-04-25T20:34:52.669165Z"
    },
    "tags": []
   },
   "outputs": [],
   "source": [
    "import pandas as pd\n",
    "import numpy as np"
   ]
  },
  {
   "cell_type": "code",
   "execution_count": null,
   "id": "6d892f6e-8f64-4505-b9f2-3e63cd6b8e71",
   "metadata": {},
   "outputs": [],
   "source": []
  },
  {
   "cell_type": "code",
   "execution_count": null,
   "id": "f1101727-0d22-4a34-b479-53a3e3805771",
   "metadata": {},
   "outputs": [],
   "source": []
  },
  {
   "cell_type": "markdown",
   "id": "6109126b-281d-49ab-931a-77bbbc52853a",
   "metadata": {},
   "source": [
    "### Applymap : applique une fonction élément par élément"
   ]
  },
  {
   "cell_type": "code",
   "execution_count": 9,
   "id": "concerned-iceland",
   "metadata": {
    "execution": {
     "iopub.execute_input": "2021-04-25T20:35:50.570509Z",
     "iopub.status.busy": "2021-04-25T20:35:50.570217Z",
     "iopub.status.idle": "2021-04-25T20:35:50.579847Z",
     "shell.execute_reply": "2021-04-25T20:35:50.579262Z",
     "shell.execute_reply.started": "2021-04-25T20:35:50.570476Z"
    },
    "tags": []
   },
   "outputs": [
    {
     "data": {
      "text/html": [
       "<div>\n",
       "<style scoped>\n",
       "    .dataframe tbody tr th:only-of-type {\n",
       "        vertical-align: middle;\n",
       "    }\n",
       "\n",
       "    .dataframe tbody tr th {\n",
       "        vertical-align: top;\n",
       "    }\n",
       "\n",
       "    .dataframe thead th {\n",
       "        text-align: right;\n",
       "    }\n",
       "</style>\n",
       "<table border=\"1\" class=\"dataframe\">\n",
       "  <thead>\n",
       "    <tr style=\"text-align: right;\">\n",
       "      <th></th>\n",
       "      <th>A</th>\n",
       "      <th>B</th>\n",
       "      <th>C</th>\n",
       "      <th>D</th>\n",
       "    </tr>\n",
       "  </thead>\n",
       "  <tbody>\n",
       "    <tr>\n",
       "      <th>0</th>\n",
       "      <td>0</td>\n",
       "      <td>6</td>\n",
       "      <td>1</td>\n",
       "      <td>0</td>\n",
       "    </tr>\n",
       "    <tr>\n",
       "      <th>1</th>\n",
       "      <td>5</td>\n",
       "      <td>8</td>\n",
       "      <td>0</td>\n",
       "      <td>9</td>\n",
       "    </tr>\n",
       "    <tr>\n",
       "      <th>2</th>\n",
       "      <td>1</td>\n",
       "      <td>6</td>\n",
       "      <td>2</td>\n",
       "      <td>1</td>\n",
       "    </tr>\n",
       "    <tr>\n",
       "      <th>3</th>\n",
       "      <td>3</td>\n",
       "      <td>4</td>\n",
       "      <td>7</td>\n",
       "      <td>0</td>\n",
       "    </tr>\n",
       "    <tr>\n",
       "      <th>4</th>\n",
       "      <td>4</td>\n",
       "      <td>6</td>\n",
       "      <td>0</td>\n",
       "      <td>3</td>\n",
       "    </tr>\n",
       "    <tr>\n",
       "      <th>5</th>\n",
       "      <td>1</td>\n",
       "      <td>0</td>\n",
       "      <td>4</td>\n",
       "      <td>1</td>\n",
       "    </tr>\n",
       "  </tbody>\n",
       "</table>\n",
       "</div>"
      ],
      "text/plain": [
       "   A  B  C  D\n",
       "0  0  6  1  0\n",
       "1  5  8  0  9\n",
       "2  1  6  2  1\n",
       "3  3  4  7  0\n",
       "4  4  6  0  3\n",
       "5  1  0  4  1"
      ]
     },
     "execution_count": 9,
     "metadata": {},
     "output_type": "execute_result"
    }
   ],
   "source": [
    "df = pd.DataFrame(np.random.randint(10, size=(6, 4)), columns=list('ABCD'))\n",
    "\n",
    "df"
   ]
  },
  {
   "cell_type": "code",
   "execution_count": 10,
   "id": "generic-heath",
   "metadata": {
    "execution": {
     "iopub.execute_input": "2021-04-25T20:35:51.145586Z",
     "iopub.status.busy": "2021-04-25T20:35:51.145262Z",
     "iopub.status.idle": "2021-04-25T20:35:51.159937Z",
     "shell.execute_reply": "2021-04-25T20:35:51.159227Z",
     "shell.execute_reply.started": "2021-04-25T20:35:51.145549Z"
    },
    "tags": []
   },
   "outputs": [
    {
     "data": {
      "text/html": [
       "<div>\n",
       "<style scoped>\n",
       "    .dataframe tbody tr th:only-of-type {\n",
       "        vertical-align: middle;\n",
       "    }\n",
       "\n",
       "    .dataframe tbody tr th {\n",
       "        vertical-align: top;\n",
       "    }\n",
       "\n",
       "    .dataframe thead th {\n",
       "        text-align: right;\n",
       "    }\n",
       "</style>\n",
       "<table border=\"1\" class=\"dataframe\">\n",
       "  <thead>\n",
       "    <tr style=\"text-align: right;\">\n",
       "      <th></th>\n",
       "      <th>A</th>\n",
       "      <th>B</th>\n",
       "      <th>C</th>\n",
       "      <th>D</th>\n",
       "    </tr>\n",
       "  </thead>\n",
       "  <tbody>\n",
       "    <tr>\n",
       "      <th>0</th>\n",
       "      <td></td>\n",
       "      <td>666666</td>\n",
       "      <td>1</td>\n",
       "      <td></td>\n",
       "    </tr>\n",
       "    <tr>\n",
       "      <th>1</th>\n",
       "      <td>55555</td>\n",
       "      <td>88888888</td>\n",
       "      <td></td>\n",
       "      <td>999999999</td>\n",
       "    </tr>\n",
       "    <tr>\n",
       "      <th>2</th>\n",
       "      <td>1</td>\n",
       "      <td>666666</td>\n",
       "      <td>22</td>\n",
       "      <td>1</td>\n",
       "    </tr>\n",
       "    <tr>\n",
       "      <th>3</th>\n",
       "      <td>333</td>\n",
       "      <td>4444</td>\n",
       "      <td>7777777</td>\n",
       "      <td></td>\n",
       "    </tr>\n",
       "    <tr>\n",
       "      <th>4</th>\n",
       "      <td>4444</td>\n",
       "      <td>666666</td>\n",
       "      <td></td>\n",
       "      <td>333</td>\n",
       "    </tr>\n",
       "    <tr>\n",
       "      <th>5</th>\n",
       "      <td>1</td>\n",
       "      <td></td>\n",
       "      <td>4444</td>\n",
       "      <td>1</td>\n",
       "    </tr>\n",
       "  </tbody>\n",
       "</table>\n",
       "</div>"
      ],
      "text/plain": [
       "       A         B        C          D\n",
       "0           666666        1           \n",
       "1  55555  88888888           999999999\n",
       "2      1    666666       22          1\n",
       "3    333      4444  7777777           \n",
       "4   4444    666666                 333\n",
       "5      1               4444          1"
      ]
     },
     "execution_count": 10,
     "metadata": {},
     "output_type": "execute_result"
    }
   ],
   "source": [
    "df.applymap(lambda x: str(x) * x)"
   ]
  },
  {
   "cell_type": "markdown",
   "id": "45f547ab-1e91-48dc-829f-bbe33c29a4b9",
   "metadata": {
    "execution": {
     "iopub.execute_input": "2021-04-25T20:36:07.919699Z",
     "iopub.status.busy": "2021-04-25T20:36:07.919511Z",
     "iopub.status.idle": "2021-04-25T20:36:07.921770Z",
     "shell.execute_reply": "2021-04-25T20:36:07.921385Z",
     "shell.execute_reply.started": "2021-04-25T20:36:07.919677Z"
    }
   },
   "source": [
    "### Apply applique une fonction le long d'un axe"
   ]
  },
  {
   "cell_type": "code",
   "execution_count": 13,
   "id": "infrared-creation",
   "metadata": {
    "execution": {
     "iopub.execute_input": "2021-04-25T20:36:14.157998Z",
     "iopub.status.busy": "2021-04-25T20:36:14.157799Z",
     "iopub.status.idle": "2021-04-25T20:36:14.162588Z",
     "shell.execute_reply": "2021-04-25T20:36:14.162177Z",
     "shell.execute_reply.started": "2021-04-25T20:36:14.157976Z"
    },
    "tags": []
   },
   "outputs": [
    {
     "data": {
      "text/plain": [
       "0      666666\n",
       "1    88888888\n",
       "2      666666\n",
       "3        4444\n",
       "4      666666\n",
       "5            \n",
       "Name: B, dtype: object"
      ]
     },
     "execution_count": 13,
     "metadata": {},
     "output_type": "execute_result"
    }
   ],
   "source": [
    "df.B.apply(lambda x: str(x) * x)"
   ]
  },
  {
   "cell_type": "code",
   "execution_count": 14,
   "id": "f5a259f9-f3cf-451e-8e40-ff94bc82c122",
   "metadata": {
    "execution": {
     "iopub.execute_input": "2021-04-25T20:36:48.955455Z",
     "iopub.status.busy": "2021-04-25T20:36:48.955254Z",
     "iopub.status.idle": "2021-04-25T20:36:48.959795Z",
     "shell.execute_reply": "2021-04-25T20:36:48.959262Z",
     "shell.execute_reply.started": "2021-04-25T20:36:48.955434Z"
    }
   },
   "outputs": [
    {
     "data": {
      "text/plain": [
       "0    6\n",
       "1    8\n",
       "2    6\n",
       "3    4\n",
       "4    6\n",
       "5    0\n",
       "Name: B, dtype: int64"
      ]
     },
     "execution_count": 14,
     "metadata": {},
     "output_type": "execute_result"
    }
   ],
   "source": [
    "df.B.apply(np.sum)"
   ]
  },
  {
   "cell_type": "code",
   "execution_count": 17,
   "id": "35a8eb6b-c8a7-4cb3-ad0f-57ba20ec09de",
   "metadata": {
    "execution": {
     "iopub.execute_input": "2021-04-25T20:37:10.950202Z",
     "iopub.status.busy": "2021-04-25T20:37:10.950021Z",
     "iopub.status.idle": "2021-04-25T20:37:10.954857Z",
     "shell.execute_reply": "2021-04-25T20:37:10.954387Z",
     "shell.execute_reply.started": "2021-04-25T20:37:10.950182Z"
    },
    "tags": []
   },
   "outputs": [
    {
     "data": {
      "text/plain": [
       "A    14\n",
       "B    30\n",
       "C    14\n",
       "D    14\n",
       "dtype: int64"
      ]
     },
     "execution_count": 17,
     "metadata": {},
     "output_type": "execute_result"
    }
   ],
   "source": [
    "df.apply(np.sum, axis=0)"
   ]
  },
  {
   "cell_type": "code",
   "execution_count": 22,
   "id": "738520bb-95f4-4318-b856-1c3cf4728654",
   "metadata": {
    "execution": {
     "iopub.execute_input": "2021-04-25T20:44:11.334113Z",
     "iopub.status.busy": "2021-04-25T20:44:11.333920Z",
     "iopub.status.idle": "2021-04-25T20:44:11.344873Z",
     "shell.execute_reply": "2021-04-25T20:44:11.344344Z",
     "shell.execute_reply.started": "2021-04-25T20:44:11.334092Z"
    }
   },
   "outputs": [
    {
     "data": {
      "text/html": [
       "<div>\n",
       "<style scoped>\n",
       "    .dataframe tbody tr th:only-of-type {\n",
       "        vertical-align: middle;\n",
       "    }\n",
       "\n",
       "    .dataframe tbody tr th {\n",
       "        vertical-align: top;\n",
       "    }\n",
       "\n",
       "    .dataframe thead th {\n",
       "        text-align: right;\n",
       "    }\n",
       "</style>\n",
       "<table border=\"1\" class=\"dataframe\">\n",
       "  <thead>\n",
       "    <tr style=\"text-align: right;\">\n",
       "      <th></th>\n",
       "      <th>A</th>\n",
       "      <th>B</th>\n",
       "      <th>C</th>\n",
       "      <th>D</th>\n",
       "    </tr>\n",
       "  </thead>\n",
       "  <tbody>\n",
       "    <tr>\n",
       "      <th>0</th>\n",
       "      <td>-1.186611</td>\n",
       "      <td>0.362738</td>\n",
       "      <td>-0.487950</td>\n",
       "      <td>-0.677349</td>\n",
       "    </tr>\n",
       "    <tr>\n",
       "      <th>1</th>\n",
       "      <td>1.356127</td>\n",
       "      <td>1.088214</td>\n",
       "      <td>-0.853913</td>\n",
       "      <td>1.935282</td>\n",
       "    </tr>\n",
       "    <tr>\n",
       "      <th>2</th>\n",
       "      <td>-0.678064</td>\n",
       "      <td>0.362738</td>\n",
       "      <td>-0.121988</td>\n",
       "      <td>-0.387056</td>\n",
       "    </tr>\n",
       "    <tr>\n",
       "      <th>3</th>\n",
       "      <td>0.339032</td>\n",
       "      <td>-0.362738</td>\n",
       "      <td>1.707825</td>\n",
       "      <td>-0.677349</td>\n",
       "    </tr>\n",
       "    <tr>\n",
       "      <th>4</th>\n",
       "      <td>0.847579</td>\n",
       "      <td>0.362738</td>\n",
       "      <td>-0.853913</td>\n",
       "      <td>0.193528</td>\n",
       "    </tr>\n",
       "    <tr>\n",
       "      <th>5</th>\n",
       "      <td>-0.678064</td>\n",
       "      <td>-1.813691</td>\n",
       "      <td>0.609938</td>\n",
       "      <td>-0.387056</td>\n",
       "    </tr>\n",
       "  </tbody>\n",
       "</table>\n",
       "</div>"
      ],
      "text/plain": [
       "          A         B         C         D\n",
       "0 -1.186611  0.362738 -0.487950 -0.677349\n",
       "1  1.356127  1.088214 -0.853913  1.935282\n",
       "2 -0.678064  0.362738 -0.121988 -0.387056\n",
       "3  0.339032 -0.362738  1.707825 -0.677349\n",
       "4  0.847579  0.362738 -0.853913  0.193528\n",
       "5 -0.678064 -1.813691  0.609938 -0.387056"
      ]
     },
     "execution_count": 22,
     "metadata": {},
     "output_type": "execute_result"
    }
   ],
   "source": [
    "df.apply(lambda x: (x - x.mean()) / x.std())"
   ]
  },
  {
   "cell_type": "code",
   "execution_count": 26,
   "id": "f06ed6fe-7ead-41b8-9cc1-b1ed17b421f0",
   "metadata": {
    "execution": {
     "iopub.execute_input": "2021-04-25T20:45:31.414710Z",
     "iopub.status.busy": "2021-04-25T20:45:31.414534Z",
     "iopub.status.idle": "2021-04-25T20:45:31.417285Z",
     "shell.execute_reply": "2021-04-25T20:45:31.416682Z",
     "shell.execute_reply.started": "2021-04-25T20:45:31.414691Z"
    },
    "tags": []
   },
   "outputs": [],
   "source": [
    "def normalize_data(s):\n",
    "    return s - s.mean() /s.std()"
   ]
  },
  {
   "cell_type": "code",
   "execution_count": 27,
   "id": "bd4a3dd3-b54d-4bb5-b84c-32f2c973fb70",
   "metadata": {
    "execution": {
     "iopub.execute_input": "2021-04-25T20:45:32.078902Z",
     "iopub.status.busy": "2021-04-25T20:45:32.078727Z",
     "iopub.status.idle": "2021-04-25T20:45:32.087773Z",
     "shell.execute_reply": "2021-04-25T20:45:32.087311Z",
     "shell.execute_reply.started": "2021-04-25T20:45:32.078883Z"
    },
    "tags": []
   },
   "outputs": [
    {
     "data": {
      "text/html": [
       "<div>\n",
       "<style scoped>\n",
       "    .dataframe tbody tr th:only-of-type {\n",
       "        vertical-align: middle;\n",
       "    }\n",
       "\n",
       "    .dataframe tbody tr th {\n",
       "        vertical-align: top;\n",
       "    }\n",
       "\n",
       "    .dataframe thead th {\n",
       "        text-align: right;\n",
       "    }\n",
       "</style>\n",
       "<table border=\"1\" class=\"dataframe\">\n",
       "  <thead>\n",
       "    <tr style=\"text-align: right;\">\n",
       "      <th></th>\n",
       "      <th>A</th>\n",
       "      <th>B</th>\n",
       "      <th>C</th>\n",
       "      <th>D</th>\n",
       "    </tr>\n",
       "  </thead>\n",
       "  <tbody>\n",
       "    <tr>\n",
       "      <th>0</th>\n",
       "      <td>-1.186611</td>\n",
       "      <td>4.186309</td>\n",
       "      <td>0.146087</td>\n",
       "      <td>-0.677349</td>\n",
       "    </tr>\n",
       "    <tr>\n",
       "      <th>1</th>\n",
       "      <td>3.813389</td>\n",
       "      <td>6.186309</td>\n",
       "      <td>-0.853913</td>\n",
       "      <td>8.322651</td>\n",
       "    </tr>\n",
       "    <tr>\n",
       "      <th>2</th>\n",
       "      <td>-0.186611</td>\n",
       "      <td>4.186309</td>\n",
       "      <td>1.146087</td>\n",
       "      <td>0.322651</td>\n",
       "    </tr>\n",
       "    <tr>\n",
       "      <th>3</th>\n",
       "      <td>1.813389</td>\n",
       "      <td>2.186309</td>\n",
       "      <td>6.146087</td>\n",
       "      <td>-0.677349</td>\n",
       "    </tr>\n",
       "    <tr>\n",
       "      <th>4</th>\n",
       "      <td>2.813389</td>\n",
       "      <td>4.186309</td>\n",
       "      <td>-0.853913</td>\n",
       "      <td>2.322651</td>\n",
       "    </tr>\n",
       "    <tr>\n",
       "      <th>5</th>\n",
       "      <td>-0.186611</td>\n",
       "      <td>-1.813691</td>\n",
       "      <td>3.146087</td>\n",
       "      <td>0.322651</td>\n",
       "    </tr>\n",
       "  </tbody>\n",
       "</table>\n",
       "</div>"
      ],
      "text/plain": [
       "          A         B         C         D\n",
       "0 -1.186611  4.186309  0.146087 -0.677349\n",
       "1  3.813389  6.186309 -0.853913  8.322651\n",
       "2 -0.186611  4.186309  1.146087  0.322651\n",
       "3  1.813389  2.186309  6.146087 -0.677349\n",
       "4  2.813389  4.186309 -0.853913  2.322651\n",
       "5 -0.186611 -1.813691  3.146087  0.322651"
      ]
     },
     "execution_count": 27,
     "metadata": {},
     "output_type": "execute_result"
    }
   ],
   "source": [
    "df.apply(normalize_data)"
   ]
  },
  {
   "cell_type": "code",
   "execution_count": 29,
   "id": "6a35bad8-9eb1-4320-abf5-3ed1b6a25caf",
   "metadata": {
    "execution": {
     "iopub.execute_input": "2021-04-25T20:51:25.875195Z",
     "iopub.status.busy": "2021-04-25T20:51:25.875009Z",
     "iopub.status.idle": "2021-04-25T20:51:25.885569Z",
     "shell.execute_reply": "2021-04-25T20:51:25.885060Z",
     "shell.execute_reply.started": "2021-04-25T20:51:25.875174Z"
    },
    "tags": []
   },
   "outputs": [
    {
     "data": {
      "text/html": [
       "<div>\n",
       "<style scoped>\n",
       "    .dataframe tbody tr th:only-of-type {\n",
       "        vertical-align: middle;\n",
       "    }\n",
       "\n",
       "    .dataframe tbody tr th {\n",
       "        vertical-align: top;\n",
       "    }\n",
       "\n",
       "    .dataframe thead th {\n",
       "        text-align: right;\n",
       "    }\n",
       "</style>\n",
       "<table border=\"1\" class=\"dataframe\">\n",
       "  <thead>\n",
       "    <tr style=\"text-align: right;\">\n",
       "      <th></th>\n",
       "      <th>A</th>\n",
       "      <th>B</th>\n",
       "      <th>C</th>\n",
       "      <th>D</th>\n",
       "    </tr>\n",
       "  </thead>\n",
       "  <tbody>\n",
       "    <tr>\n",
       "      <th>sum</th>\n",
       "      <td>14.000000</td>\n",
       "      <td>30.00000</td>\n",
       "      <td>14.00000</td>\n",
       "      <td>14.000000</td>\n",
       "    </tr>\n",
       "    <tr>\n",
       "      <th>min</th>\n",
       "      <td>0.000000</td>\n",
       "      <td>0.00000</td>\n",
       "      <td>0.00000</td>\n",
       "      <td>0.000000</td>\n",
       "    </tr>\n",
       "    <tr>\n",
       "      <th>std</th>\n",
       "      <td>1.966384</td>\n",
       "      <td>2.75681</td>\n",
       "      <td>2.73252</td>\n",
       "      <td>3.444803</td>\n",
       "    </tr>\n",
       "  </tbody>\n",
       "</table>\n",
       "</div>"
      ],
      "text/plain": [
       "             A         B         C          D\n",
       "sum  14.000000  30.00000  14.00000  14.000000\n",
       "min   0.000000   0.00000   0.00000   0.000000\n",
       "std   1.966384   2.75681   2.73252   3.444803"
      ]
     },
     "execution_count": 29,
     "metadata": {},
     "output_type": "execute_result"
    }
   ],
   "source": [
    "df.agg(['sum', 'min', 'std'])"
   ]
  },
  {
   "cell_type": "code",
   "execution_count": 30,
   "id": "8ce5b370-5cc9-471f-b6b2-cc9ce73d04b6",
   "metadata": {
    "execution": {
     "iopub.execute_input": "2021-04-25T20:52:35.706229Z",
     "iopub.status.busy": "2021-04-25T20:52:35.705927Z",
     "iopub.status.idle": "2021-04-25T20:52:35.717834Z",
     "shell.execute_reply": "2021-04-25T20:52:35.717461Z",
     "shell.execute_reply.started": "2021-04-25T20:52:35.706199Z"
    }
   },
   "outputs": [
    {
     "data": {
      "text/html": [
       "<div>\n",
       "<style scoped>\n",
       "    .dataframe tbody tr th:only-of-type {\n",
       "        vertical-align: middle;\n",
       "    }\n",
       "\n",
       "    .dataframe tbody tr th {\n",
       "        vertical-align: top;\n",
       "    }\n",
       "\n",
       "    .dataframe thead th {\n",
       "        text-align: right;\n",
       "    }\n",
       "</style>\n",
       "<table border=\"1\" class=\"dataframe\">\n",
       "  <thead>\n",
       "    <tr style=\"text-align: right;\">\n",
       "      <th></th>\n",
       "      <th>A</th>\n",
       "      <th>B</th>\n",
       "      <th>C</th>\n",
       "      <th>D</th>\n",
       "      <th>E</th>\n",
       "      <th>F</th>\n",
       "    </tr>\n",
       "  </thead>\n",
       "  <tbody>\n",
       "    <tr>\n",
       "      <th>0</th>\n",
       "      <td>0</td>\n",
       "      <td>6</td>\n",
       "      <td>1</td>\n",
       "      <td>0</td>\n",
       "      <td>0.000000</td>\n",
       "      <td>3.0</td>\n",
       "    </tr>\n",
       "    <tr>\n",
       "      <th>1</th>\n",
       "      <td>5</td>\n",
       "      <td>8</td>\n",
       "      <td>0</td>\n",
       "      <td>9</td>\n",
       "      <td>0.625000</td>\n",
       "      <td>4.0</td>\n",
       "    </tr>\n",
       "    <tr>\n",
       "      <th>2</th>\n",
       "      <td>1</td>\n",
       "      <td>6</td>\n",
       "      <td>2</td>\n",
       "      <td>1</td>\n",
       "      <td>0.166667</td>\n",
       "      <td>3.0</td>\n",
       "    </tr>\n",
       "    <tr>\n",
       "      <th>3</th>\n",
       "      <td>3</td>\n",
       "      <td>4</td>\n",
       "      <td>7</td>\n",
       "      <td>0</td>\n",
       "      <td>0.750000</td>\n",
       "      <td>2.0</td>\n",
       "    </tr>\n",
       "    <tr>\n",
       "      <th>4</th>\n",
       "      <td>4</td>\n",
       "      <td>6</td>\n",
       "      <td>0</td>\n",
       "      <td>3</td>\n",
       "      <td>0.666667</td>\n",
       "      <td>3.0</td>\n",
       "    </tr>\n",
       "    <tr>\n",
       "      <th>5</th>\n",
       "      <td>1</td>\n",
       "      <td>0</td>\n",
       "      <td>4</td>\n",
       "      <td>1</td>\n",
       "      <td>inf</td>\n",
       "      <td>0.0</td>\n",
       "    </tr>\n",
       "  </tbody>\n",
       "</table>\n",
       "</div>"
      ],
      "text/plain": [
       "   A  B  C  D         E    F\n",
       "0  0  6  1  0  0.000000  3.0\n",
       "1  5  8  0  9  0.625000  4.0\n",
       "2  1  6  2  1  0.166667  3.0\n",
       "3  3  4  7  0  0.750000  2.0\n",
       "4  4  6  0  3  0.666667  3.0\n",
       "5  1  0  4  1       inf  0.0"
      ]
     },
     "execution_count": 30,
     "metadata": {},
     "output_type": "execute_result"
    }
   ],
   "source": [
    "df.assign(E= lambda x: x.A/x.B, F= lambda x: x.B/ 2)"
   ]
  }
 ],
 "metadata": {
  "kernelspec": {
   "display_name": "Python 3",
   "language": "python",
   "name": "python3"
  },
  "language_info": {
   "codemirror_mode": {
    "name": "ipython",
    "version": 3
   },
   "file_extension": ".py",
   "mimetype": "text/x-python",
   "name": "python",
   "nbconvert_exporter": "python",
   "pygments_lexer": "ipython3",
   "version": "3.8.8"
  }
 },
 "nbformat": 4,
 "nbformat_minor": 5
}
