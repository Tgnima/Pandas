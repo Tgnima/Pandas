{
 "cells": [
  {
   "cell_type": "markdown",
   "id": "7b7e81d7-1dcd-4e15-829a-2aed6f73e923",
   "metadata": {},
   "source": [
    "Notebook introduisant la notion (niveau débutant) : https://github.com/knathanieltucker/pandas-tutorial/blob/master/notebooks/Row-Column%20Transformations.ipynb"
   ]
  },
  {
   "cell_type": "markdown",
   "id": "9b223200-7748-4e1d-9b5e-8402254d4f9f",
   "metadata": {},
   "source": [
    "article très didactique sur la notion : https://nikgrozev.com/2015/07/01/reshaping-in-pandas-pivot-pivot-table-stack-and-unstack-explained-with-pictures/"
   ]
  }
 ],
 "metadata": {
  "kernelspec": {
   "display_name": "Python 3",
   "language": "python",
   "name": "python3"
  },
  "language_info": {
   "codemirror_mode": {
    "name": "ipython",
    "version": 3
   },
   "file_extension": ".py",
   "mimetype": "text/x-python",
   "name": "python",
   "nbconvert_exporter": "python",
   "pygments_lexer": "ipython3",
   "version": "3.8.8"
  }
 },
 "nbformat": 4,
 "nbformat_minor": 5
}
