{
 "cells": [
  {
   "cell_type": "code",
   "execution_count": 1,
   "id": "3ef92ff1-d175-4c80-a83d-807dd9e44f3a",
   "metadata": {
    "execution": {
     "iopub.execute_input": "2022-04-15T13:05:36.155006Z",
     "iopub.status.busy": "2022-04-15T13:05:36.154800Z",
     "iopub.status.idle": "2022-04-15T13:05:37.034589Z",
     "shell.execute_reply": "2022-04-15T13:05:37.034164Z",
     "shell.execute_reply.started": "2022-04-15T13:05:36.154944Z"
    },
    "tags": []
   },
   "outputs": [],
   "source": [
    "import seaborn as sns\n",
    "import pandas as pd\n",
    "import numpy as np"
   ]
  },
  {
   "cell_type": "code",
   "execution_count": 3,
   "id": "df215ab8-cee7-4c18-b67e-22a0e282c69a",
   "metadata": {
    "execution": {
     "iopub.execute_input": "2022-04-15T13:05:46.273850Z",
     "iopub.status.busy": "2022-04-15T13:05:46.273667Z",
     "iopub.status.idle": "2022-04-15T13:05:46.285632Z",
     "shell.execute_reply": "2022-04-15T13:05:46.285221Z",
     "shell.execute_reply.started": "2022-04-15T13:05:46.273820Z"
    },
    "tags": []
   },
   "outputs": [
    {
     "data": {
      "text/html": [
       "<div>\n",
       "<style scoped>\n",
       "    .dataframe tbody tr th:only-of-type {\n",
       "        vertical-align: middle;\n",
       "    }\n",
       "\n",
       "    .dataframe tbody tr th {\n",
       "        vertical-align: top;\n",
       "    }\n",
       "\n",
       "    .dataframe thead th {\n",
       "        text-align: right;\n",
       "    }\n",
       "</style>\n",
       "<table border=\"1\" class=\"dataframe\">\n",
       "  <thead>\n",
       "    <tr style=\"text-align: right;\">\n",
       "      <th></th>\n",
       "      <th>total_bill</th>\n",
       "      <th>tip</th>\n",
       "      <th>sex</th>\n",
       "      <th>smoker</th>\n",
       "      <th>day</th>\n",
       "      <th>time</th>\n",
       "      <th>size</th>\n",
       "    </tr>\n",
       "  </thead>\n",
       "  <tbody>\n",
       "    <tr>\n",
       "      <th>0</th>\n",
       "      <td>16.99</td>\n",
       "      <td>1.01</td>\n",
       "      <td>Female</td>\n",
       "      <td>No</td>\n",
       "      <td>Sun</td>\n",
       "      <td>Dinner</td>\n",
       "      <td>2</td>\n",
       "    </tr>\n",
       "    <tr>\n",
       "      <th>1</th>\n",
       "      <td>10.34</td>\n",
       "      <td>1.66</td>\n",
       "      <td>Male</td>\n",
       "      <td>No</td>\n",
       "      <td>Sun</td>\n",
       "      <td>Dinner</td>\n",
       "      <td>3</td>\n",
       "    </tr>\n",
       "    <tr>\n",
       "      <th>2</th>\n",
       "      <td>21.01</td>\n",
       "      <td>3.50</td>\n",
       "      <td>Male</td>\n",
       "      <td>No</td>\n",
       "      <td>Sun</td>\n",
       "      <td>Dinner</td>\n",
       "      <td>3</td>\n",
       "    </tr>\n",
       "  </tbody>\n",
       "</table>\n",
       "</div>"
      ],
      "text/plain": [
       "   total_bill   tip     sex smoker  day    time  size\n",
       "0       16.99  1.01  Female     No  Sun  Dinner     2\n",
       "1       10.34  1.66    Male     No  Sun  Dinner     3\n",
       "2       21.01  3.50    Male     No  Sun  Dinner     3"
      ]
     },
     "execution_count": 3,
     "metadata": {},
     "output_type": "execute_result"
    }
   ],
   "source": [
    "df_tips = sns.load_dataset('tips')\n",
    "df_tips.head(3)"
   ]
  },
  {
   "cell_type": "markdown",
   "id": "377d5bf4-4dd7-4a65-b23e-24da57b66500",
   "metadata": {
    "execution": {
     "iopub.execute_input": "2021-04-29T06:38:17.411837Z",
     "iopub.status.busy": "2021-04-29T06:38:17.411234Z",
     "iopub.status.idle": "2021-04-29T06:38:17.421794Z",
     "shell.execute_reply": "2021-04-29T06:38:17.419631Z",
     "shell.execute_reply.started": "2021-04-29T06:38:17.411767Z"
    }
   },
   "source": [
    "On peut grouper les données avec un groupy."
   ]
  },
  {
   "cell_type": "code",
   "execution_count": 4,
   "id": "f460c655-6b0c-48ab-b338-529451c10af1",
   "metadata": {
    "execution": {
     "iopub.execute_input": "2022-04-15T13:05:59.564030Z",
     "iopub.status.busy": "2022-04-15T13:05:59.563833Z",
     "iopub.status.idle": "2022-04-15T13:05:59.568244Z",
     "shell.execute_reply": "2022-04-15T13:05:59.567933Z",
     "shell.execute_reply.started": "2022-04-15T13:05:59.564012Z"
    },
    "tags": []
   },
   "outputs": [
    {
     "data": {
      "text/plain": [
       "<pandas.core.groupby.generic.DataFrameGroupBy object at 0x7f367a1789d0>"
      ]
     },
     "execution_count": 4,
     "metadata": {},
     "output_type": "execute_result"
    }
   ],
   "source": [
    "df_tips_gb = df_tips.groupby(['sex', 'smoker'])\n",
    "df_tips_gb"
   ]
  },
  {
   "cell_type": "markdown",
   "id": "61003899-808e-43a2-8752-8ba3533b6ab0",
   "metadata": {},
   "source": [
    "On peut ensuite appliquer des méthodes a ces groupes pour obtenir de l'information par groupe.  \n",
    "Exemple : "
   ]
  },
  {
   "cell_type": "code",
   "execution_count": 5,
   "id": "14aafd30-594b-402f-b55a-748f076ca823",
   "metadata": {
    "execution": {
     "iopub.execute_input": "2022-04-15T13:06:18.937025Z",
     "iopub.status.busy": "2022-04-15T13:06:18.936823Z",
     "iopub.status.idle": "2022-04-15T13:06:18.943677Z",
     "shell.execute_reply": "2022-04-15T13:06:18.943306Z",
     "shell.execute_reply.started": "2022-04-15T13:06:18.937008Z"
    },
    "tags": []
   },
   "outputs": [
    {
     "data": {
      "text/plain": [
       "sex     smoker\n",
       "Male    Yes       60\n",
       "        No        97\n",
       "Female  Yes       33\n",
       "        No        54\n",
       "dtype: int64"
      ]
     },
     "execution_count": 5,
     "metadata": {},
     "output_type": "execute_result"
    }
   ],
   "source": [
    "df_tips_gb.size()"
   ]
  },
  {
   "cell_type": "code",
   "execution_count": 7,
   "id": "38f0b7a8-21a3-4b3c-9819-1e4e6f398012",
   "metadata": {
    "execution": {
     "iopub.execute_input": "2022-04-15T13:07:10.302516Z",
     "iopub.status.busy": "2022-04-15T13:07:10.302327Z",
     "iopub.status.idle": "2022-04-15T13:07:10.312467Z",
     "shell.execute_reply": "2022-04-15T13:07:10.312063Z",
     "shell.execute_reply.started": "2022-04-15T13:07:10.302500Z"
    },
    "tags": []
   },
   "outputs": [
    {
     "data": {
      "text/html": [
       "<div>\n",
       "<style scoped>\n",
       "    .dataframe tbody tr th:only-of-type {\n",
       "        vertical-align: middle;\n",
       "    }\n",
       "\n",
       "    .dataframe tbody tr th {\n",
       "        vertical-align: top;\n",
       "    }\n",
       "\n",
       "    .dataframe thead th {\n",
       "        text-align: right;\n",
       "    }\n",
       "</style>\n",
       "<table border=\"1\" class=\"dataframe\">\n",
       "  <thead>\n",
       "    <tr style=\"text-align: right;\">\n",
       "      <th></th>\n",
       "      <th></th>\n",
       "      <th>total_bill</th>\n",
       "      <th>tip</th>\n",
       "      <th>size</th>\n",
       "    </tr>\n",
       "    <tr>\n",
       "      <th>sex</th>\n",
       "      <th>smoker</th>\n",
       "      <th></th>\n",
       "      <th></th>\n",
       "      <th></th>\n",
       "    </tr>\n",
       "  </thead>\n",
       "  <tbody>\n",
       "    <tr>\n",
       "      <th rowspan=\"2\" valign=\"top\">Male</th>\n",
       "      <th>Yes</th>\n",
       "      <td>22.284500</td>\n",
       "      <td>3.051167</td>\n",
       "      <td>2.500000</td>\n",
       "    </tr>\n",
       "    <tr>\n",
       "      <th>No</th>\n",
       "      <td>19.791237</td>\n",
       "      <td>3.113402</td>\n",
       "      <td>2.711340</td>\n",
       "    </tr>\n",
       "    <tr>\n",
       "      <th rowspan=\"2\" valign=\"top\">Female</th>\n",
       "      <th>Yes</th>\n",
       "      <td>17.977879</td>\n",
       "      <td>2.931515</td>\n",
       "      <td>2.242424</td>\n",
       "    </tr>\n",
       "    <tr>\n",
       "      <th>No</th>\n",
       "      <td>18.105185</td>\n",
       "      <td>2.773519</td>\n",
       "      <td>2.592593</td>\n",
       "    </tr>\n",
       "  </tbody>\n",
       "</table>\n",
       "</div>"
      ],
      "text/plain": [
       "               total_bill       tip      size\n",
       "sex    smoker                                \n",
       "Male   Yes      22.284500  3.051167  2.500000\n",
       "       No       19.791237  3.113402  2.711340\n",
       "Female Yes      17.977879  2.931515  2.242424\n",
       "       No       18.105185  2.773519  2.592593"
      ]
     },
     "execution_count": 7,
     "metadata": {},
     "output_type": "execute_result"
    }
   ],
   "source": [
    "df_tips_gb.mean()"
   ]
  },
  {
   "cell_type": "code",
   "execution_count": 8,
   "id": "e83836b9-e914-41d9-95a2-b30144559eb3",
   "metadata": {
    "execution": {
     "iopub.execute_input": "2022-04-15T13:07:57.036202Z",
     "iopub.status.busy": "2022-04-15T13:07:57.035654Z",
     "iopub.status.idle": "2022-04-15T13:07:57.047860Z",
     "shell.execute_reply": "2022-04-15T13:07:57.046988Z",
     "shell.execute_reply.started": "2022-04-15T13:07:57.036180Z"
    }
   },
   "outputs": [
    {
     "data": {
      "text/html": [
       "<div>\n",
       "<style scoped>\n",
       "    .dataframe tbody tr th:only-of-type {\n",
       "        vertical-align: middle;\n",
       "    }\n",
       "\n",
       "    .dataframe tbody tr th {\n",
       "        vertical-align: top;\n",
       "    }\n",
       "\n",
       "    .dataframe thead th {\n",
       "        text-align: right;\n",
       "    }\n",
       "</style>\n",
       "<table border=\"1\" class=\"dataframe\">\n",
       "  <thead>\n",
       "    <tr style=\"text-align: right;\">\n",
       "      <th></th>\n",
       "      <th></th>\n",
       "      <th>total_bill</th>\n",
       "      <th>tip</th>\n",
       "      <th>day</th>\n",
       "      <th>time</th>\n",
       "      <th>size</th>\n",
       "    </tr>\n",
       "    <tr>\n",
       "      <th>sex</th>\n",
       "      <th>smoker</th>\n",
       "      <th></th>\n",
       "      <th></th>\n",
       "      <th></th>\n",
       "      <th></th>\n",
       "      <th></th>\n",
       "    </tr>\n",
       "  </thead>\n",
       "  <tbody>\n",
       "    <tr>\n",
       "      <th rowspan=\"2\" valign=\"top\">Male</th>\n",
       "      <th>Yes</th>\n",
       "      <td>38.01</td>\n",
       "      <td>3.00</td>\n",
       "      <td>Sat</td>\n",
       "      <td>Dinner</td>\n",
       "      <td>4</td>\n",
       "    </tr>\n",
       "    <tr>\n",
       "      <th>No</th>\n",
       "      <td>10.34</td>\n",
       "      <td>1.66</td>\n",
       "      <td>Sun</td>\n",
       "      <td>Dinner</td>\n",
       "      <td>3</td>\n",
       "    </tr>\n",
       "    <tr>\n",
       "      <th rowspan=\"2\" valign=\"top\">Female</th>\n",
       "      <th>Yes</th>\n",
       "      <td>3.07</td>\n",
       "      <td>1.00</td>\n",
       "      <td>Sat</td>\n",
       "      <td>Dinner</td>\n",
       "      <td>1</td>\n",
       "    </tr>\n",
       "    <tr>\n",
       "      <th>No</th>\n",
       "      <td>16.99</td>\n",
       "      <td>1.01</td>\n",
       "      <td>Sun</td>\n",
       "      <td>Dinner</td>\n",
       "      <td>2</td>\n",
       "    </tr>\n",
       "  </tbody>\n",
       "</table>\n",
       "</div>"
      ],
      "text/plain": [
       "               total_bill   tip  day    time  size\n",
       "sex    smoker                                     \n",
       "Male   Yes          38.01  3.00  Sat  Dinner     4\n",
       "       No           10.34  1.66  Sun  Dinner     3\n",
       "Female Yes           3.07  1.00  Sat  Dinner     1\n",
       "       No           16.99  1.01  Sun  Dinner     2"
      ]
     },
     "execution_count": 8,
     "metadata": {},
     "output_type": "execute_result"
    }
   ],
   "source": [
    "df_tips_gb.first()"
   ]
  },
  {
   "cell_type": "code",
   "execution_count": 10,
   "id": "308e7e1f-6128-42fb-8a20-2a7776f754b2",
   "metadata": {
    "execution": {
     "iopub.execute_input": "2022-04-15T13:11:18.825361Z",
     "iopub.status.busy": "2022-04-15T13:11:18.825119Z",
     "iopub.status.idle": "2022-04-15T13:11:18.832638Z",
     "shell.execute_reply": "2022-04-15T13:11:18.832126Z",
     "shell.execute_reply.started": "2022-04-15T13:11:18.825341Z"
    }
   },
   "outputs": [
    {
     "data": {
      "text/plain": [
       "sex     smoker\n",
       "Male    Yes       4\n",
       "        No        4\n",
       "Female  Yes       4\n",
       "        No        4\n",
       "Name: day, dtype: int64"
      ]
     },
     "execution_count": 10,
     "metadata": {},
     "output_type": "execute_result"
    }
   ],
   "source": [
    "df_tips_gb.day.nunique()"
   ]
  },
  {
   "cell_type": "markdown",
   "id": "d93584ec-e542-474e-8204-fa7e0f8be263",
   "metadata": {
    "execution": {
     "iopub.execute_input": "2021-04-30T02:23:23.461139Z",
     "iopub.status.busy": "2021-04-30T02:23:23.460716Z",
     "iopub.status.idle": "2021-04-30T02:23:23.466970Z",
     "shell.execute_reply": "2021-04-30T02:23:23.465882Z",
     "shell.execute_reply.started": "2021-04-30T02:23:23.461090Z"
    }
   },
   "source": [
    "On trouvera une partie des fonctions d'aggrégations possibles [ici](https://pandas.pydata.org/pandas-docs/stable/user_guide/groupby.html#aggregation)."
   ]
  },
  {
   "cell_type": "markdown",
   "id": "46ebe7b9-3471-4d8e-9565-e4134aad479b",
   "metadata": {},
   "source": [
    "### Agg"
   ]
  },
  {
   "cell_type": "code",
   "execution_count": 11,
   "id": "6e3ef483-1841-4f4c-b673-c97a8a829798",
   "metadata": {
    "execution": {
     "iopub.execute_input": "2022-04-15T13:11:48.976731Z",
     "iopub.status.busy": "2022-04-15T13:11:48.976585Z",
     "iopub.status.idle": "2022-04-15T13:11:48.996689Z",
     "shell.execute_reply": "2022-04-15T13:11:48.995973Z",
     "shell.execute_reply.started": "2022-04-15T13:11:48.976714Z"
    },
    "tags": []
   },
   "outputs": [
    {
     "data": {
      "text/html": [
       "<div>\n",
       "<style scoped>\n",
       "    .dataframe tbody tr th:only-of-type {\n",
       "        vertical-align: middle;\n",
       "    }\n",
       "\n",
       "    .dataframe tbody tr th {\n",
       "        vertical-align: top;\n",
       "    }\n",
       "\n",
       "    .dataframe thead tr th {\n",
       "        text-align: left;\n",
       "    }\n",
       "\n",
       "    .dataframe thead tr:last-of-type th {\n",
       "        text-align: right;\n",
       "    }\n",
       "</style>\n",
       "<table border=\"1\" class=\"dataframe\">\n",
       "  <thead>\n",
       "    <tr>\n",
       "      <th></th>\n",
       "      <th></th>\n",
       "      <th colspan=\"2\" halign=\"left\">tip</th>\n",
       "      <th>day</th>\n",
       "      <th>total_bill</th>\n",
       "    </tr>\n",
       "    <tr>\n",
       "      <th></th>\n",
       "      <th></th>\n",
       "      <th>mean</th>\n",
       "      <th>min</th>\n",
       "      <th>first</th>\n",
       "      <th>size</th>\n",
       "    </tr>\n",
       "    <tr>\n",
       "      <th>sex</th>\n",
       "      <th>smoker</th>\n",
       "      <th></th>\n",
       "      <th></th>\n",
       "      <th></th>\n",
       "      <th></th>\n",
       "    </tr>\n",
       "  </thead>\n",
       "  <tbody>\n",
       "    <tr>\n",
       "      <th rowspan=\"2\" valign=\"top\">Male</th>\n",
       "      <th>Yes</th>\n",
       "      <td>3.051167</td>\n",
       "      <td>1.00</td>\n",
       "      <td>Sat</td>\n",
       "      <td>60</td>\n",
       "    </tr>\n",
       "    <tr>\n",
       "      <th>No</th>\n",
       "      <td>3.113402</td>\n",
       "      <td>1.25</td>\n",
       "      <td>Sun</td>\n",
       "      <td>97</td>\n",
       "    </tr>\n",
       "    <tr>\n",
       "      <th rowspan=\"2\" valign=\"top\">Female</th>\n",
       "      <th>Yes</th>\n",
       "      <td>2.931515</td>\n",
       "      <td>1.00</td>\n",
       "      <td>Sat</td>\n",
       "      <td>33</td>\n",
       "    </tr>\n",
       "    <tr>\n",
       "      <th>No</th>\n",
       "      <td>2.773519</td>\n",
       "      <td>1.00</td>\n",
       "      <td>Sun</td>\n",
       "      <td>54</td>\n",
       "    </tr>\n",
       "  </tbody>\n",
       "</table>\n",
       "</div>"
      ],
      "text/plain": [
       "                    tip         day total_bill\n",
       "                   mean   min first       size\n",
       "sex    smoker                                 \n",
       "Male   Yes     3.051167  1.00   Sat         60\n",
       "       No      3.113402  1.25   Sun         97\n",
       "Female Yes     2.931515  1.00   Sat         33\n",
       "       No      2.773519  1.00   Sun         54"
      ]
     },
     "execution_count": 11,
     "metadata": {},
     "output_type": "execute_result"
    }
   ],
   "source": [
    "df_tips_agg = df_tips_gb.agg({\n",
    "    'tip': ['mean', 'min'],\n",
    "    'day': 'first',\n",
    "    'total_bill': 'size'\n",
    "})\n",
    "\n",
    "df_tips_agg\n",
    "\n"
   ]
  },
  {
   "cell_type": "markdown",
   "id": "7912ca37-1334-48b0-9d7d-6bc4538061ad",
   "metadata": {},
   "source": [
    "On remarque que l'on obtient une multi-index. On peut revenir à un index normal en utilsant reset_index()."
   ]
  },
  {
   "cell_type": "code",
   "execution_count": 12,
   "id": "753d65c9-341e-47fc-a8c1-0c01ee81c730",
   "metadata": {
    "execution": {
     "iopub.execute_input": "2022-04-15T13:11:52.617086Z",
     "iopub.status.busy": "2022-04-15T13:11:52.616920Z",
     "iopub.status.idle": "2022-04-15T13:11:52.628272Z",
     "shell.execute_reply": "2022-04-15T13:11:52.627912Z",
     "shell.execute_reply.started": "2022-04-15T13:11:52.617070Z"
    },
    "tags": []
   },
   "outputs": [
    {
     "data": {
      "text/html": [
       "<div>\n",
       "<style scoped>\n",
       "    .dataframe tbody tr th:only-of-type {\n",
       "        vertical-align: middle;\n",
       "    }\n",
       "\n",
       "    .dataframe tbody tr th {\n",
       "        vertical-align: top;\n",
       "    }\n",
       "\n",
       "    .dataframe thead tr th {\n",
       "        text-align: left;\n",
       "    }\n",
       "</style>\n",
       "<table border=\"1\" class=\"dataframe\">\n",
       "  <thead>\n",
       "    <tr>\n",
       "      <th></th>\n",
       "      <th>sex</th>\n",
       "      <th>smoker</th>\n",
       "      <th colspan=\"2\" halign=\"left\">tip</th>\n",
       "      <th>day</th>\n",
       "      <th>total_bill</th>\n",
       "    </tr>\n",
       "    <tr>\n",
       "      <th></th>\n",
       "      <th></th>\n",
       "      <th></th>\n",
       "      <th>mean</th>\n",
       "      <th>min</th>\n",
       "      <th>first</th>\n",
       "      <th>size</th>\n",
       "    </tr>\n",
       "  </thead>\n",
       "  <tbody>\n",
       "    <tr>\n",
       "      <th>0</th>\n",
       "      <td>Male</td>\n",
       "      <td>Yes</td>\n",
       "      <td>3.051167</td>\n",
       "      <td>1.00</td>\n",
       "      <td>Sat</td>\n",
       "      <td>60</td>\n",
       "    </tr>\n",
       "    <tr>\n",
       "      <th>1</th>\n",
       "      <td>Male</td>\n",
       "      <td>No</td>\n",
       "      <td>3.113402</td>\n",
       "      <td>1.25</td>\n",
       "      <td>Sun</td>\n",
       "      <td>97</td>\n",
       "    </tr>\n",
       "    <tr>\n",
       "      <th>2</th>\n",
       "      <td>Female</td>\n",
       "      <td>Yes</td>\n",
       "      <td>2.931515</td>\n",
       "      <td>1.00</td>\n",
       "      <td>Sat</td>\n",
       "      <td>33</td>\n",
       "    </tr>\n",
       "    <tr>\n",
       "      <th>3</th>\n",
       "      <td>Female</td>\n",
       "      <td>No</td>\n",
       "      <td>2.773519</td>\n",
       "      <td>1.00</td>\n",
       "      <td>Sun</td>\n",
       "      <td>54</td>\n",
       "    </tr>\n",
       "  </tbody>\n",
       "</table>\n",
       "</div>"
      ],
      "text/plain": [
       "      sex smoker       tip         day total_bill\n",
       "                      mean   min first       size\n",
       "0    Male    Yes  3.051167  1.00   Sat         60\n",
       "1    Male     No  3.113402  1.25   Sun         97\n",
       "2  Female    Yes  2.931515  1.00   Sat         33\n",
       "3  Female     No  2.773519  1.00   Sun         54"
      ]
     },
     "execution_count": 12,
     "metadata": {},
     "output_type": "execute_result"
    }
   ],
   "source": [
    "df_tips_agg.reset_index()"
   ]
  },
  {
   "cell_type": "markdown",
   "id": "833e761b-8b3a-4ba7-9a46-a7586a08a137",
   "metadata": {},
   "source": [
    "On peut aussi reset l'index des colonnes:"
   ]
  },
  {
   "cell_type": "code",
   "execution_count": 17,
   "id": "54a74726-7cbb-464f-b8e4-86e94ef39512",
   "metadata": {
    "execution": {
     "iopub.execute_input": "2022-04-14T21:04:02.844248Z",
     "iopub.status.busy": "2022-04-14T21:04:02.844065Z",
     "iopub.status.idle": "2022-04-14T21:04:02.854809Z",
     "shell.execute_reply": "2022-04-14T21:04:02.854386Z",
     "shell.execute_reply.started": "2022-04-14T21:04:02.844217Z"
    },
    "tags": []
   },
   "outputs": [
    {
     "data": {
      "text/html": [
       "<div>\n",
       "<style scoped>\n",
       "    .dataframe tbody tr th:only-of-type {\n",
       "        vertical-align: middle;\n",
       "    }\n",
       "\n",
       "    .dataframe tbody tr th {\n",
       "        vertical-align: top;\n",
       "    }\n",
       "\n",
       "    .dataframe thead th {\n",
       "        text-align: right;\n",
       "    }\n",
       "</style>\n",
       "<table border=\"1\" class=\"dataframe\">\n",
       "  <thead>\n",
       "    <tr style=\"text-align: right;\">\n",
       "      <th></th>\n",
       "      <th></th>\n",
       "      <th></th>\n",
       "      <th>mean</th>\n",
       "      <th>min</th>\n",
       "      <th>first</th>\n",
       "      <th>size</th>\n",
       "    </tr>\n",
       "  </thead>\n",
       "  <tbody>\n",
       "    <tr>\n",
       "      <th>0</th>\n",
       "      <td>Male</td>\n",
       "      <td>Yes</td>\n",
       "      <td>3.051167</td>\n",
       "      <td>1.00</td>\n",
       "      <td>Sat</td>\n",
       "      <td>60</td>\n",
       "    </tr>\n",
       "    <tr>\n",
       "      <th>1</th>\n",
       "      <td>Male</td>\n",
       "      <td>No</td>\n",
       "      <td>3.113402</td>\n",
       "      <td>1.25</td>\n",
       "      <td>Sun</td>\n",
       "      <td>97</td>\n",
       "    </tr>\n",
       "    <tr>\n",
       "      <th>2</th>\n",
       "      <td>Female</td>\n",
       "      <td>Yes</td>\n",
       "      <td>2.931515</td>\n",
       "      <td>1.00</td>\n",
       "      <td>Sat</td>\n",
       "      <td>33</td>\n",
       "    </tr>\n",
       "    <tr>\n",
       "      <th>3</th>\n",
       "      <td>Female</td>\n",
       "      <td>No</td>\n",
       "      <td>2.773519</td>\n",
       "      <td>1.00</td>\n",
       "      <td>Sun</td>\n",
       "      <td>54</td>\n",
       "    </tr>\n",
       "  </tbody>\n",
       "</table>\n",
       "</div>"
      ],
      "text/plain": [
       "                    mean   min first  size\n",
       "0    Male  Yes  3.051167  1.00   Sat    60\n",
       "1    Male   No  3.113402  1.25   Sun    97\n",
       "2  Female  Yes  2.931515  1.00   Sat    33\n",
       "3  Female   No  2.773519  1.00   Sun    54"
      ]
     },
     "execution_count": 17,
     "metadata": {},
     "output_type": "execute_result"
    }
   ],
   "source": [
    "(\n",
    "df_tips_agg\n",
    "    .reset_index()\n",
    "    .droplevel(0, axis=1)\n",
    ")"
   ]
  },
  {
   "cell_type": "code",
   "execution_count": null,
   "id": "e5fee2d5-a347-41c8-983e-de5527458870",
   "metadata": {},
   "outputs": [],
   "source": []
  },
  {
   "cell_type": "code",
   "execution_count": null,
   "id": "692d024e-2de9-4742-94ac-bea48bb00faf",
   "metadata": {},
   "outputs": [],
   "source": []
  },
  {
   "cell_type": "code",
   "execution_count": null,
   "id": "ae1ba64a-365f-4b81-9b05-ef62a9040a76",
   "metadata": {},
   "outputs": [],
   "source": []
  }
 ],
 "metadata": {
  "kernelspec": {
   "display_name": "Python 3 (ipykernel)",
   "language": "python",
   "name": "python3"
  },
  "language_info": {
   "codemirror_mode": {
    "name": "ipython",
    "version": 3
   },
   "file_extension": ".py",
   "mimetype": "text/x-python",
   "name": "python",
   "nbconvert_exporter": "python",
   "pygments_lexer": "ipython3",
   "version": "3.7.12"
  }
 },
 "nbformat": 4,
 "nbformat_minor": 5
}
