{
 "cells": [
  {
   "cell_type": "code",
   "execution_count": 1,
   "id": "699cd688-8bc3-46f0-ae86-c4cced6a619e",
   "metadata": {
    "execution": {
     "iopub.execute_input": "2022-04-14T23:19:02.460921Z",
     "iopub.status.busy": "2022-04-14T23:19:02.460707Z",
     "iopub.status.idle": "2022-04-14T23:19:03.365252Z",
     "shell.execute_reply": "2022-04-14T23:19:03.364828Z",
     "shell.execute_reply.started": "2022-04-14T23:19:02.460901Z"
    }
   },
   "outputs": [],
   "source": [
    "import pandas as pd\n",
    "import seaborn as sns"
   ]
  },
  {
   "cell_type": "code",
   "execution_count": 3,
   "id": "6e223781-2fe9-4c96-ac01-7fee5967a67d",
   "metadata": {
    "execution": {
     "iopub.execute_input": "2022-04-14T23:20:31.801715Z",
     "iopub.status.busy": "2022-04-14T23:20:31.801575Z",
     "iopub.status.idle": "2022-04-14T23:20:31.806348Z",
     "shell.execute_reply": "2022-04-14T23:20:31.806052Z",
     "shell.execute_reply.started": "2022-04-14T23:20:31.801699Z"
    },
    "tags": []
   },
   "outputs": [],
   "source": [
    "df = sns.load_dataset(\"iris\")"
   ]
  },
  {
   "cell_type": "code",
   "execution_count": 8,
   "id": "f1a1228e-b064-4858-82fd-90852aa099b7",
   "metadata": {
    "execution": {
     "iopub.execute_input": "2022-04-14T23:22:14.018078Z",
     "iopub.status.busy": "2022-04-14T23:22:14.017907Z",
     "iopub.status.idle": "2022-04-14T23:22:14.085752Z",
     "shell.execute_reply": "2022-04-14T23:22:14.085260Z",
     "shell.execute_reply.started": "2022-04-14T23:22:14.018062Z"
    },
    "tags": []
   },
   "outputs": [
    {
     "data": {
      "text/html": [
       "<style type=\"text/css\">\n",
       "#T_fc2a3_row0_col0, #T_fc2a3_row0_col2, #T_fc2a3_row0_col3, #T_fc2a3_row1_col1 {\n",
       "  background-color: #ebf3eb;\n",
       "  color: #000000;\n",
       "}\n",
       "#T_fc2a3_row0_col1, #T_fc2a3_row2_col0, #T_fc2a3_row2_col2, #T_fc2a3_row2_col3 {\n",
       "  background-color: #008000;\n",
       "  color: #f1f1f1;\n",
       "}\n",
       "#T_fc2a3_row1_col0 {\n",
       "  background-color: #61af61;\n",
       "  color: #f1f1f1;\n",
       "}\n",
       "#T_fc2a3_row1_col2 {\n",
       "  background-color: #4aa44a;\n",
       "  color: #f1f1f1;\n",
       "}\n",
       "#T_fc2a3_row1_col3 {\n",
       "  background-color: #5cad5c;\n",
       "  color: #f1f1f1;\n",
       "}\n",
       "#T_fc2a3_row2_col1 {\n",
       "  background-color: #a2cfa2;\n",
       "  color: #000000;\n",
       "}\n",
       "</style>\n",
       "<table id=\"T_fc2a3_\">\n",
       "  <thead>\n",
       "    <tr>\n",
       "      <th class=\"blank level0\" >&nbsp;</th>\n",
       "      <th class=\"col_heading level0 col0\" >sepal_length</th>\n",
       "      <th class=\"col_heading level0 col1\" >sepal_width</th>\n",
       "      <th class=\"col_heading level0 col2\" >petal_length</th>\n",
       "      <th class=\"col_heading level0 col3\" >petal_width</th>\n",
       "    </tr>\n",
       "    <tr>\n",
       "      <th class=\"index_name level0\" >species</th>\n",
       "      <th class=\"blank col0\" >&nbsp;</th>\n",
       "      <th class=\"blank col1\" >&nbsp;</th>\n",
       "      <th class=\"blank col2\" >&nbsp;</th>\n",
       "      <th class=\"blank col3\" >&nbsp;</th>\n",
       "    </tr>\n",
       "  </thead>\n",
       "  <tbody>\n",
       "    <tr>\n",
       "      <th id=\"T_fc2a3_level0_row0\" class=\"row_heading level0 row0\" >setosa</th>\n",
       "      <td id=\"T_fc2a3_row0_col0\" class=\"data row0 col0\" >5.006000</td>\n",
       "      <td id=\"T_fc2a3_row0_col1\" class=\"data row0 col1\" >3.428000</td>\n",
       "      <td id=\"T_fc2a3_row0_col2\" class=\"data row0 col2\" >1.462000</td>\n",
       "      <td id=\"T_fc2a3_row0_col3\" class=\"data row0 col3\" >0.246000</td>\n",
       "    </tr>\n",
       "    <tr>\n",
       "      <th id=\"T_fc2a3_level0_row1\" class=\"row_heading level0 row1\" >versicolor</th>\n",
       "      <td id=\"T_fc2a3_row1_col0\" class=\"data row1 col0\" >5.936000</td>\n",
       "      <td id=\"T_fc2a3_row1_col1\" class=\"data row1 col1\" >2.770000</td>\n",
       "      <td id=\"T_fc2a3_row1_col2\" class=\"data row1 col2\" >4.260000</td>\n",
       "      <td id=\"T_fc2a3_row1_col3\" class=\"data row1 col3\" >1.326000</td>\n",
       "    </tr>\n",
       "    <tr>\n",
       "      <th id=\"T_fc2a3_level0_row2\" class=\"row_heading level0 row2\" >virginica</th>\n",
       "      <td id=\"T_fc2a3_row2_col0\" class=\"data row2 col0\" >6.588000</td>\n",
       "      <td id=\"T_fc2a3_row2_col1\" class=\"data row2 col1\" >2.974000</td>\n",
       "      <td id=\"T_fc2a3_row2_col2\" class=\"data row2 col2\" >5.552000</td>\n",
       "      <td id=\"T_fc2a3_row2_col3\" class=\"data row2 col3\" >2.026000</td>\n",
       "    </tr>\n",
       "  </tbody>\n",
       "</table>\n"
      ],
      "text/plain": [
       "<pandas.io.formats.style.Styler at 0x7faf9e3aa290>"
      ]
     },
     "execution_count": 8,
     "metadata": {},
     "output_type": "execute_result"
    }
   ],
   "source": [
    "cm = sns.light_palette(\"green\", as_cmap=True)\n",
    "df.groupby(\"species\").mean().style.background_gradient(cmap=cm)"
   ]
  },
  {
   "cell_type": "code",
   "execution_count": 10,
   "id": "0d3a4fe9-7d85-4cd7-acb5-fb8c61c8a1a1",
   "metadata": {
    "execution": {
     "iopub.execute_input": "2022-04-14T23:24:32.483265Z",
     "iopub.status.busy": "2022-04-14T23:24:32.483046Z",
     "iopub.status.idle": "2022-04-14T23:24:32.495661Z",
     "shell.execute_reply": "2022-04-14T23:24:32.495113Z",
     "shell.execute_reply.started": "2022-04-14T23:24:32.483235Z"
    },
    "tags": []
   },
   "outputs": [
    {
     "data": {
      "text/html": [
       "<style type=\"text/css\">\n",
       "#T_19e9f_row0_col0, #T_19e9f_row0_col2, #T_19e9f_row0_col3, #T_19e9f_row1_col1 {\n",
       "  background-color: #440154;\n",
       "  color: #f1f1f1;\n",
       "}\n",
       "#T_19e9f_row0_col1, #T_19e9f_row2_col0, #T_19e9f_row2_col2, #T_19e9f_row2_col3 {\n",
       "  background-color: #fde725;\n",
       "  color: #000000;\n",
       "}\n",
       "#T_19e9f_row1_col0 {\n",
       "  background-color: #21a585;\n",
       "  color: #f1f1f1;\n",
       "}\n",
       "#T_19e9f_row1_col2 {\n",
       "  background-color: #3dbc74;\n",
       "  color: #f1f1f1;\n",
       "}\n",
       "#T_19e9f_row1_col3 {\n",
       "  background-color: #24aa83;\n",
       "  color: #f1f1f1;\n",
       "}\n",
       "#T_19e9f_row2_col1 {\n",
       "  background-color: #33628d;\n",
       "  color: #f1f1f1;\n",
       "}\n",
       "</style>\n",
       "<table id=\"T_19e9f_\">\n",
       "  <thead>\n",
       "    <tr>\n",
       "      <th class=\"blank level0\" >&nbsp;</th>\n",
       "      <th class=\"col_heading level0 col0\" >sepal_length</th>\n",
       "      <th class=\"col_heading level0 col1\" >sepal_width</th>\n",
       "      <th class=\"col_heading level0 col2\" >petal_length</th>\n",
       "      <th class=\"col_heading level0 col3\" >petal_width</th>\n",
       "    </tr>\n",
       "    <tr>\n",
       "      <th class=\"index_name level0\" >species</th>\n",
       "      <th class=\"blank col0\" >&nbsp;</th>\n",
       "      <th class=\"blank col1\" >&nbsp;</th>\n",
       "      <th class=\"blank col2\" >&nbsp;</th>\n",
       "      <th class=\"blank col3\" >&nbsp;</th>\n",
       "    </tr>\n",
       "  </thead>\n",
       "  <tbody>\n",
       "    <tr>\n",
       "      <th id=\"T_19e9f_level0_row0\" class=\"row_heading level0 row0\" >setosa</th>\n",
       "      <td id=\"T_19e9f_row0_col0\" class=\"data row0 col0\" >5.006000</td>\n",
       "      <td id=\"T_19e9f_row0_col1\" class=\"data row0 col1\" >3.428000</td>\n",
       "      <td id=\"T_19e9f_row0_col2\" class=\"data row0 col2\" >1.462000</td>\n",
       "      <td id=\"T_19e9f_row0_col3\" class=\"data row0 col3\" >0.246000</td>\n",
       "    </tr>\n",
       "    <tr>\n",
       "      <th id=\"T_19e9f_level0_row1\" class=\"row_heading level0 row1\" >versicolor</th>\n",
       "      <td id=\"T_19e9f_row1_col0\" class=\"data row1 col0\" >5.936000</td>\n",
       "      <td id=\"T_19e9f_row1_col1\" class=\"data row1 col1\" >2.770000</td>\n",
       "      <td id=\"T_19e9f_row1_col2\" class=\"data row1 col2\" >4.260000</td>\n",
       "      <td id=\"T_19e9f_row1_col3\" class=\"data row1 col3\" >1.326000</td>\n",
       "    </tr>\n",
       "    <tr>\n",
       "      <th id=\"T_19e9f_level0_row2\" class=\"row_heading level0 row2\" >virginica</th>\n",
       "      <td id=\"T_19e9f_row2_col0\" class=\"data row2 col0\" >6.588000</td>\n",
       "      <td id=\"T_19e9f_row2_col1\" class=\"data row2 col1\" >2.974000</td>\n",
       "      <td id=\"T_19e9f_row2_col2\" class=\"data row2 col2\" >5.552000</td>\n",
       "      <td id=\"T_19e9f_row2_col3\" class=\"data row2 col3\" >2.026000</td>\n",
       "    </tr>\n",
       "  </tbody>\n",
       "</table>\n"
      ],
      "text/plain": [
       "<pandas.io.formats.style.Styler at 0x7faf9de41b10>"
      ]
     },
     "execution_count": 10,
     "metadata": {},
     "output_type": "execute_result"
    }
   ],
   "source": [
    "cm = sns.light_palette(\"green\", as_cmap=True)\n",
    "df.groupby(\"species\").mean().style.background_gradient(cmap=\"viridis\")"
   ]
  },
  {
   "cell_type": "code",
   "execution_count": null,
   "id": "b64164c7-04f0-4dd0-b184-aa7d2f84ea5e",
   "metadata": {},
   "outputs": [],
   "source": []
  }
 ],
 "metadata": {
  "kernelspec": {
   "display_name": "Python 3 (ipykernel)",
   "language": "python",
   "name": "python3"
  },
  "language_info": {
   "codemirror_mode": {
    "name": "ipython",
    "version": 3
   },
   "file_extension": ".py",
   "mimetype": "text/x-python",
   "name": "python",
   "nbconvert_exporter": "python",
   "pygments_lexer": "ipython3",
   "version": "3.7.12"
  }
 },
 "nbformat": 4,
 "nbformat_minor": 5
}
