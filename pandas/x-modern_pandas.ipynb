{
 "cells": [
  {
   "cell_type": "markdown",
   "id": "87bf4300-0994-49e4-90ff-2cfcfb032380",
   "metadata": {},
   "source": [
    "https://pyparis.org/static/slides/Herv%C3%A9+Mignot-2c465b89.pdf"
   ]
  },
  {
   "cell_type": "code",
   "execution_count": null,
   "id": "5fc312dd-8f32-4a09-a7ed-42d401f26816",
   "metadata": {},
   "outputs": [],
   "source": []
  }
 ],
 "metadata": {
  "kernelspec": {
   "display_name": "Python 3",
   "language": "python",
   "name": "python3"
  },
  "language_info": {
   "codemirror_mode": {
    "name": "ipython",
    "version": 3
   },
   "file_extension": ".py",
   "mimetype": "text/x-python",
   "name": "python",
   "nbconvert_exporter": "python",
   "pygments_lexer": "ipython3",
   "version": "3.8.8"
  }
 },
 "nbformat": 4,
 "nbformat_minor": 5
}
