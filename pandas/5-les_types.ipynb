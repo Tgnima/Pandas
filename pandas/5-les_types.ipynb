{
 "cells": [
  {
   "cell_type": "markdown",
   "id": "a6d7b7d4-e2ef-46c2-a927-65b5f6a417a2",
   "metadata": {},
   "source": [
    "https://pandas.pydata.org/docs/user_guide/basics.html?highlight=dtype#dtypes"
   ]
  },
  {
   "cell_type": "code",
   "execution_count": null,
   "id": "a8fa27b1-d9a0-4c09-a26a-061a09c78b10",
   "metadata": {},
   "outputs": [],
   "source": []
  },
  {
   "cell_type": "code",
   "execution_count": null,
   "id": "144d2bd0-8690-48e8-aaf1-ee63546c90c0",
   "metadata": {},
   "outputs": [],
   "source": []
  },
  {
   "cell_type": "code",
   "execution_count": null,
   "id": "35919e82-5238-4976-8cf4-1a60fd28e197",
   "metadata": {},
   "outputs": [],
   "source": []
  },
  {
   "cell_type": "code",
   "execution_count": null,
   "id": "0ad24eab-9f1e-4f3a-9f2f-1d316c8fb5d4",
   "metadata": {},
   "outputs": [],
   "source": []
  },
  {
   "cell_type": "markdown",
   "id": "8e41d4e5-24ef-4c23-acb5-82f67c38f14d",
   "metadata": {},
   "source": [
    "### Les nan "
   ]
  },
  {
   "cell_type": "markdown",
   "id": "0bc8e985-9afb-4b39-ba51-21b0352173d2",
   "metadata": {},
   "source": [
    "![](images/nan.jpeg)"
   ]
  },
  {
   "cell_type": "markdown",
   "id": "f4ecfbe9-5f68-45f2-8f42-e3f3b9a24c32",
   "metadata": {},
   "source": [
    "Un nan n'est pas égal à un nan"
   ]
  },
  {
   "cell_type": "code",
   "execution_count": 2,
   "id": "9c4317be-fe89-447e-9696-14f5dcdd9948",
   "metadata": {
    "execution": {
     "iopub.execute_input": "2021-04-27T20:23:10.847579Z",
     "iopub.status.busy": "2021-04-27T20:23:10.847352Z",
     "iopub.status.idle": "2021-04-27T20:23:10.850242Z",
     "shell.execute_reply": "2021-04-27T20:23:10.849633Z",
     "shell.execute_reply.started": "2021-04-27T20:23:10.847552Z"
    },
    "tags": []
   },
   "outputs": [],
   "source": [
    "import pandas as pd\n",
    "import numpy as np"
   ]
  },
  {
   "cell_type": "code",
   "execution_count": 5,
   "id": "704718ff-9d80-46df-8a61-859dbd92ae55",
   "metadata": {
    "execution": {
     "iopub.execute_input": "2021-04-27T20:23:27.169588Z",
     "iopub.status.busy": "2021-04-27T20:23:27.169419Z",
     "iopub.status.idle": "2021-04-27T20:23:27.172345Z",
     "shell.execute_reply": "2021-04-27T20:23:27.172000Z",
     "shell.execute_reply.started": "2021-04-27T20:23:27.169569Z"
    },
    "tags": []
   },
   "outputs": [
    {
     "data": {
      "text/plain": [
       "False"
      ]
     },
     "execution_count": 5,
     "metadata": {},
     "output_type": "execute_result"
    }
   ],
   "source": [
    "np.nan == np.nan "
   ]
  },
  {
   "cell_type": "code",
   "execution_count": null,
   "id": "8efe4a48-ef87-42fd-a35f-14ed6dc92499",
   "metadata": {},
   "outputs": [],
   "source": []
  },
  {
   "cell_type": "code",
   "execution_count": null,
   "id": "9225b54e-2ea8-427d-9c88-9a73e8eda675",
   "metadata": {},
   "outputs": [],
   "source": []
  },
  {
   "cell_type": "code",
   "execution_count": null,
   "id": "4e82aae5-46b4-4ebd-90b5-0265bb948f87",
   "metadata": {},
   "outputs": [],
   "source": []
  }
 ],
 "metadata": {
  "kernelspec": {
   "display_name": "Python 3",
   "language": "python",
   "name": "python3"
  },
  "language_info": {
   "codemirror_mode": {
    "name": "ipython",
    "version": 3
   },
   "file_extension": ".py",
   "mimetype": "text/x-python",
   "name": "python",
   "nbconvert_exporter": "python",
   "pygments_lexer": "ipython3",
   "version": "3.8.8"
  }
 },
 "nbformat": 4,
 "nbformat_minor": 5
}
