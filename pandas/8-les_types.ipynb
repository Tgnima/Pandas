{
 "cells": [
  {
   "cell_type": "markdown",
   "id": "a6d7b7d4-e2ef-46c2-a927-65b5f6a417a2",
   "metadata": {},
   "source": [
    "https://pandas.pydata.org/docs/user_guide/basics.html?highlight=dtype#dtypes"
   ]
  },
  {
   "cell_type": "code",
   "execution_count": 1,
   "id": "a8fa27b1-d9a0-4c09-a26a-061a09c78b10",
   "metadata": {
    "execution": {
     "iopub.execute_input": "2021-04-30T06:24:43.992302Z",
     "iopub.status.busy": "2021-04-30T06:24:43.992123Z",
     "iopub.status.idle": "2021-04-30T06:24:44.335657Z",
     "shell.execute_reply": "2021-04-30T06:24:44.334914Z",
     "shell.execute_reply.started": "2021-04-30T06:24:43.992278Z"
    },
    "tags": []
   },
   "outputs": [],
   "source": [
    "import numpy as np\n",
    "import pandas as pd"
   ]
  },
  {
   "cell_type": "markdown",
   "id": "c1b4248e-cacc-492c-817b-603c21d70114",
   "metadata": {},
   "source": [
    "`float` nombre à virgule, ou entiers avec na  \n",
    "`int` integer sans NA  \n",
    "`object` tout type d'objets (mixed dtypes entre autre).  "
   ]
  },
  {
   "cell_type": "markdown",
   "id": "af0b932f-d871-4483-bba4-e17e8254d58b",
   "metadata": {},
   "source": [
    "Ils sont souvent suivit d'un nombre qui indique le nombre de bit consacré à stocker de la donnée."
   ]
  },
  {
   "cell_type": "markdown",
   "id": "2169fb3a-0126-485e-b1aa-4a6308d2c0aa",
   "metadata": {
    "execution": {
     "iopub.execute_input": "2021-04-30T06:22:00.836393Z",
     "iopub.status.busy": "2021-04-30T06:22:00.836148Z",
     "iopub.status.idle": "2021-04-30T06:22:00.840644Z",
     "shell.execute_reply": "2021-04-30T06:22:00.839668Z",
     "shell.execute_reply.started": "2021-04-30T06:22:00.836366Z"
    }
   },
   "source": [
    "[la documentation numpy](https://numpy.org/doc/stable/user/basics.types.html)"
   ]
  },
  {
   "cell_type": "markdown",
   "id": "542ac9d2-17e9-45fb-9ba9-6676d4f11293",
   "metadata": {},
   "source": [
    "Et plus le type est petit, moins il prend de vive (ou sur disque en fonction du format de stockage)."
   ]
  },
  {
   "cell_type": "code",
   "execution_count": 3,
   "id": "fb8845ca-2713-4da6-8a3c-733376c65a5e",
   "metadata": {
    "execution": {
     "iopub.execute_input": "2021-04-30T06:24:52.609792Z",
     "iopub.status.busy": "2021-04-30T06:24:52.609543Z",
     "iopub.status.idle": "2021-04-30T06:24:55.256927Z",
     "shell.execute_reply": "2021-04-30T06:24:55.256100Z",
     "shell.execute_reply.started": "2021-04-30T06:24:52.609762Z"
    },
    "tags": []
   },
   "outputs": [],
   "source": [
    "s = pd.Series(list(range(10**7)))"
   ]
  },
  {
   "cell_type": "code",
   "execution_count": 9,
   "id": "3bde7a66-aa93-4b6d-8410-e38f7902c841",
   "metadata": {
    "execution": {
     "iopub.execute_input": "2021-04-30T06:25:52.766042Z",
     "iopub.status.busy": "2021-04-30T06:25:52.765810Z",
     "iopub.status.idle": "2021-04-30T06:25:52.770083Z",
     "shell.execute_reply": "2021-04-30T06:25:52.769388Z",
     "shell.execute_reply.started": "2021-04-30T06:25:52.766015Z"
    }
   },
   "outputs": [
    {
     "data": {
      "text/plain": [
       "80000128"
      ]
     },
     "execution_count": 9,
     "metadata": {},
     "output_type": "execute_result"
    }
   ],
   "source": [
    "s.memory_usage()"
   ]
  },
  {
   "cell_type": "code",
   "execution_count": 8,
   "id": "319d45a2-f3e3-4a73-837b-f0415e32c197",
   "metadata": {
    "execution": {
     "iopub.execute_input": "2021-04-30T06:25:40.032754Z",
     "iopub.status.busy": "2021-04-30T06:25:40.032335Z",
     "iopub.status.idle": "2021-04-30T06:25:40.060161Z",
     "shell.execute_reply": "2021-04-30T06:25:40.059385Z",
     "shell.execute_reply.started": "2021-04-30T06:25:40.032709Z"
    },
    "tags": []
   },
   "outputs": [
    {
     "data": {
      "text/plain": [
       "40000128"
      ]
     },
     "execution_count": 8,
     "metadata": {},
     "output_type": "execute_result"
    }
   ],
   "source": [
    "s.astype(\"int32\").memory_usage()"
   ]
  },
  {
   "cell_type": "code",
   "execution_count": 10,
   "id": "7b8fc1cf-a178-41be-b47e-062b8aab24c4",
   "metadata": {
    "execution": {
     "iopub.execute_input": "2021-04-30T06:26:30.039212Z",
     "iopub.status.busy": "2021-04-30T06:26:30.038969Z",
     "iopub.status.idle": "2021-04-30T06:26:30.061035Z",
     "shell.execute_reply": "2021-04-30T06:26:30.060393Z",
     "shell.execute_reply.started": "2021-04-30T06:26:30.039183Z"
    }
   },
   "outputs": [
    {
     "data": {
      "text/plain": [
       "40000128"
      ]
     },
     "execution_count": 10,
     "metadata": {},
     "output_type": "execute_result"
    }
   ],
   "source": [
    "s.astype(\"float32\").memory_usage()"
   ]
  },
  {
   "cell_type": "markdown",
   "id": "19ebbc9e-5614-4422-980d-5f85d0ff308c",
   "metadata": {},
   "source": [
    "### Exemple lecture csv"
   ]
  },
  {
   "cell_type": "code",
   "execution_count": 15,
   "id": "144d2bd0-8690-48e8-aaf1-ee63546c90c0",
   "metadata": {
    "execution": {
     "iopub.execute_input": "2021-04-30T06:31:43.906497Z",
     "iopub.status.busy": "2021-04-30T06:31:43.906257Z",
     "iopub.status.idle": "2021-04-30T06:31:55.072171Z",
     "shell.execute_reply": "2021-04-30T06:31:55.071436Z",
     "shell.execute_reply.started": "2021-04-30T06:31:43.906469Z"
    },
    "tags": []
   },
   "outputs": [],
   "source": [
    "df = pd.read_csv(\"../Download/2019.txt\", sep=\"|\")"
   ]
  },
  {
   "cell_type": "code",
   "execution_count": 12,
   "id": "ac794004-8c14-4b10-ae76-afb6adbf9be2",
   "metadata": {
    "execution": {
     "iopub.execute_input": "2021-04-30T06:27:21.999881Z",
     "iopub.status.busy": "2021-04-30T06:27:21.999643Z",
     "iopub.status.idle": "2021-04-30T06:27:22.010830Z",
     "shell.execute_reply": "2021-04-30T06:27:22.010062Z",
     "shell.execute_reply.started": "2021-04-30T06:27:21.999851Z"
    },
    "tags": []
   },
   "outputs": [
    {
     "name": "stdout",
     "output_type": "stream",
     "text": [
      "<class 'pandas.core.frame.DataFrame'>\n",
      "RangeIndex: 3142952 entries, 0 to 3142951\n",
      "Data columns (total 43 columns):\n",
      " #   Column                      Dtype  \n",
      "---  ------                      -----  \n",
      " 0   Code service CH             float64\n",
      " 1   Reference document          float64\n",
      " 2   1 Articles CGI              float64\n",
      " 3   2 Articles CGI              float64\n",
      " 4   3 Articles CGI              float64\n",
      " 5   4 Articles CGI              float64\n",
      " 6   5 Articles CGI              float64\n",
      " 7   No disposition              int64  \n",
      " 8   Date mutation               object \n",
      " 9   Nature mutation             object \n",
      " 10  Valeur fonciere             object \n",
      " 11  No voie                     float64\n",
      " 12  B/T/Q                       object \n",
      " 13  Type de voie                object \n",
      " 14  Code voie                   object \n",
      " 15  Voie                        object \n",
      " 16  Code postal                 float64\n",
      " 17  Commune                     object \n",
      " 18  Code departement            object \n",
      " 19  Code commune                int64  \n",
      " 20  Prefixe de section          float64\n",
      " 21  Section                     object \n",
      " 22  No plan                     int64  \n",
      " 23  No Volume                   object \n",
      " 24  1er lot                     object \n",
      " 25  Surface Carrez du 1er lot   object \n",
      " 26  2eme lot                    object \n",
      " 27  Surface Carrez du 2eme lot  object \n",
      " 28  3eme lot                    object \n",
      " 29  Surface Carrez du 3eme lot  object \n",
      " 30  4eme lot                    float64\n",
      " 31  Surface Carrez du 4eme lot  object \n",
      " 32  5eme lot                    float64\n",
      " 33  Surface Carrez du 5eme lot  object \n",
      " 34  Nombre de lots              int64  \n",
      " 35  Code type local             float64\n",
      " 36  Type local                  object \n",
      " 37  Identifiant local           float64\n",
      " 38  Surface reelle bati         float64\n",
      " 39  Nombre pieces principales   float64\n",
      " 40  Nature culture              object \n",
      " 41  Nature culture speciale     object \n",
      " 42  Surface terrain             float64\n",
      "dtypes: float64(17), int64(4), object(22)\n",
      "memory usage: 1.0+ GB\n"
     ]
    }
   ],
   "source": [
    "df.info()"
   ]
  },
  {
   "cell_type": "code",
   "execution_count": 13,
   "id": "62307ca7-0f59-450c-a83d-bca180d00010",
   "metadata": {
    "execution": {
     "iopub.execute_input": "2021-04-30T06:27:24.365251Z",
     "iopub.status.busy": "2021-04-30T06:27:24.364983Z",
     "iopub.status.idle": "2021-04-30T06:27:24.369422Z",
     "shell.execute_reply": "2021-04-30T06:27:24.368858Z",
     "shell.execute_reply.started": "2021-04-30T06:27:24.365220Z"
    },
    "tags": []
   },
   "outputs": [
    {
     "data": {
      "text/plain": [
       "3.142952"
      ]
     },
     "execution_count": 13,
     "metadata": {},
     "output_type": "execute_result"
    }
   ],
   "source": [
    "df.shape[0]/10**6"
   ]
  },
  {
   "cell_type": "code",
   "execution_count": null,
   "id": "ebe53017-8f29-46a6-ae5b-9e082f0d5dce",
   "metadata": {},
   "outputs": [],
   "source": []
  },
  {
   "cell_type": "markdown",
   "id": "64c6a5ef-0e69-4818-8471-e343ffa4b19f",
   "metadata": {},
   "source": [
    "On voit que la surface du premier lot n'est pas une float"
   ]
  },
  {
   "cell_type": "code",
   "execution_count": 14,
   "id": "e52bafb2-a4cc-4769-be44-595c1f82c516",
   "metadata": {
    "execution": {
     "iopub.execute_input": "2021-04-30T06:27:34.516102Z",
     "iopub.status.busy": "2021-04-30T06:27:34.515846Z",
     "iopub.status.idle": "2021-04-30T06:27:34.522033Z",
     "shell.execute_reply": "2021-04-30T06:27:34.521307Z",
     "shell.execute_reply.started": "2021-04-30T06:27:34.516073Z"
    },
    "tags": []
   },
   "outputs": [
    {
     "data": {
      "text/plain": [
       "0           19,27\n",
       "1             NaN\n",
       "2             NaN\n",
       "3             NaN\n",
       "4             NaN\n",
       "            ...  \n",
       "3142947    101,40\n",
       "3142948     43,70\n",
       "3142949     48,50\n",
       "3142950     38,65\n",
       "3142951       NaN\n",
       "Name: Surface Carrez du 1er lot, Length: 3142952, dtype: object"
      ]
     },
     "execution_count": 14,
     "metadata": {},
     "output_type": "execute_result"
    }
   ],
   "source": [
    "df.iloc[:, 25]"
   ]
  },
  {
   "cell_type": "markdown",
   "id": "4cadd503-54b3-401f-b07b-2677254b3e52",
   "metadata": {},
   "source": [
    "### On peut convertir un dtype sur un dtype différent"
   ]
  },
  {
   "cell_type": "code",
   "execution_count": 8,
   "id": "cac7827f-1acf-4c0f-be9d-67e870eb432c",
   "metadata": {
    "execution": {
     "iopub.execute_input": "2021-04-30T06:13:16.382865Z",
     "iopub.status.busy": "2021-04-30T06:13:16.382582Z",
     "iopub.status.idle": "2021-04-30T06:13:17.717166Z",
     "shell.execute_reply": "2021-04-30T06:13:17.716481Z",
     "shell.execute_reply.started": "2021-04-30T06:13:16.382833Z"
    },
    "tags": []
   },
   "outputs": [
    {
     "data": {
      "text/plain": [
       "0            37220.0\n",
       "1           185100.0\n",
       "2           185100.0\n",
       "3           209000.0\n",
       "4           134900.0\n",
       "             ...    \n",
       "3142947    1400000.0\n",
       "3142948    1400000.0\n",
       "3142949     620000.0\n",
       "3142950     370000.0\n",
       "3142951      44000.0\n",
       "Name: Valeur fonciere, Length: 3142952, dtype: float64"
      ]
     },
     "execution_count": 8,
     "metadata": {},
     "output_type": "execute_result"
    }
   ],
   "source": [
    "df[\"Valeur fonciere\"].str.replace(\",\", \".\").astype(\"float\")"
   ]
  },
  {
   "cell_type": "markdown",
   "id": "72240229-529c-4c74-8be7-23a0c6461fb3",
   "metadata": {},
   "source": [
    "⚠️ Il n'existe aucun méchanisme pour vérifier que la conversion se passe bien..."
   ]
  },
  {
   "cell_type": "code",
   "execution_count": 13,
   "id": "0ad24eab-9f1e-4f3a-9f2f-1d316c8fb5d4",
   "metadata": {
    "execution": {
     "iopub.execute_input": "2021-04-30T06:16:35.078628Z",
     "iopub.status.busy": "2021-04-30T06:16:35.078391Z",
     "iopub.status.idle": "2021-04-30T06:16:37.661236Z",
     "shell.execute_reply": "2021-04-30T06:16:37.660488Z",
     "shell.execute_reply.started": "2021-04-30T06:16:35.078601Z"
    },
    "tags": []
   },
   "outputs": [],
   "source": [
    "s = pd.Series(list(range(10**7)))"
   ]
  },
  {
   "cell_type": "code",
   "execution_count": 15,
   "id": "136a3cd4-534c-452a-87ab-d54899b4c5a5",
   "metadata": {
    "execution": {
     "iopub.execute_input": "2021-04-30T06:16:47.093994Z",
     "iopub.status.busy": "2021-04-30T06:16:47.093748Z",
     "iopub.status.idle": "2021-04-30T06:16:47.107845Z",
     "shell.execute_reply": "2021-04-30T06:16:47.107163Z",
     "shell.execute_reply.started": "2021-04-30T06:16:47.093967Z"
    },
    "tags": []
   },
   "outputs": [
    {
     "data": {
      "text/plain": [
       "0            0\n",
       "1            1\n",
       "2            2\n",
       "3            3\n",
       "4            4\n",
       "          ... \n",
       "9999995    123\n",
       "9999996    124\n",
       "9999997    125\n",
       "9999998    126\n",
       "9999999    127\n",
       "Length: 10000000, dtype: int8"
      ]
     },
     "execution_count": 15,
     "metadata": {},
     "output_type": "execute_result"
    }
   ],
   "source": [
    "s.astype(\"int8\")"
   ]
  },
  {
   "cell_type": "code",
   "execution_count": null,
   "id": "7d159d10-2f48-4c92-ace1-c663bef9cbef",
   "metadata": {},
   "outputs": [],
   "source": []
  },
  {
   "cell_type": "code",
   "execution_count": null,
   "id": "602d3c86-8ad9-4e84-a907-121f19ca363c",
   "metadata": {},
   "outputs": [],
   "source": []
  },
  {
   "cell_type": "code",
   "execution_count": null,
   "id": "14434dad-1ca4-46ef-a1c1-1f56ffd8357c",
   "metadata": {},
   "outputs": [],
   "source": []
  },
  {
   "cell_type": "markdown",
   "id": "f4ecfbe9-5f68-45f2-8f42-e3f3b9a24c32",
   "metadata": {},
   "source": [
    "Un nan n'est pas égal à un nan"
   ]
  },
  {
   "cell_type": "code",
   "execution_count": 2,
   "id": "9c4317be-fe89-447e-9696-14f5dcdd9948",
   "metadata": {
    "execution": {
     "iopub.execute_input": "2021-04-30T05:56:09.209422Z",
     "iopub.status.busy": "2021-04-30T05:56:09.209137Z",
     "iopub.status.idle": "2021-04-30T05:56:09.670621Z",
     "shell.execute_reply": "2021-04-30T05:56:09.669931Z",
     "shell.execute_reply.started": "2021-04-30T05:56:09.209390Z"
    },
    "tags": []
   },
   "outputs": [],
   "source": []
  },
  {
   "cell_type": "code",
   "execution_count": 3,
   "id": "704718ff-9d80-46df-8a61-859dbd92ae55",
   "metadata": {
    "execution": {
     "iopub.execute_input": "2021-04-30T05:56:09.676821Z",
     "iopub.status.busy": "2021-04-30T05:56:09.676620Z",
     "iopub.status.idle": "2021-04-30T05:56:09.681013Z",
     "shell.execute_reply": "2021-04-30T05:56:09.680326Z",
     "shell.execute_reply.started": "2021-04-30T05:56:09.676796Z"
    },
    "tags": []
   },
   "outputs": [
    {
     "data": {
      "text/plain": [
       "False"
      ]
     },
     "execution_count": 3,
     "metadata": {},
     "output_type": "execute_result"
    }
   ],
   "source": [
    "np.nan == np.nan"
   ]
  },
  {
   "cell_type": "code",
   "execution_count": 7,
   "id": "8efe4a48-ef87-42fd-a35f-14ed6dc92499",
   "metadata": {
    "execution": {
     "iopub.execute_input": "2021-04-30T05:56:27.318135Z",
     "iopub.status.busy": "2021-04-30T05:56:27.317883Z",
     "iopub.status.idle": "2021-04-30T05:56:27.322440Z",
     "shell.execute_reply": "2021-04-30T05:56:27.321768Z",
     "shell.execute_reply.started": "2021-04-30T05:56:27.318106Z"
    },
    "tags": []
   },
   "outputs": [
    {
     "data": {
      "text/plain": [
       "float"
      ]
     },
     "execution_count": 7,
     "metadata": {},
     "output_type": "execute_result"
    }
   ],
   "source": [
    "type(np.nan)"
   ]
  },
  {
   "cell_type": "code",
   "execution_count": null,
   "id": "9225b54e-2ea8-427d-9c88-9a73e8eda675",
   "metadata": {},
   "outputs": [],
   "source": []
  },
  {
   "cell_type": "code",
   "execution_count": null,
   "id": "4e82aae5-46b4-4ebd-90b5-0265bb948f87",
   "metadata": {},
   "outputs": [],
   "source": []
  }
 ],
 "metadata": {
  "kernelspec": {
   "display_name": "Python 3",
   "language": "python",
   "name": "python3"
  },
  "language_info": {
   "codemirror_mode": {
    "name": "ipython",
    "version": 3
   },
   "file_extension": ".py",
   "mimetype": "text/x-python",
   "name": "python",
   "nbconvert_exporter": "python",
   "pygments_lexer": "ipython3",
   "version": "3.8.8"
  }
 },
 "nbformat": 4,
 "nbformat_minor": 5
}
