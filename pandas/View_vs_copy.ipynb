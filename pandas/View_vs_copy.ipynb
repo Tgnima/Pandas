{
 "cells": [
  {
   "cell_type": "code",
   "execution_count": 11,
   "id": "united-float",
   "metadata": {
    "execution": {
     "iopub.execute_input": "2021-04-25T09:53:48.223774Z",
     "iopub.status.busy": "2021-04-25T09:53:48.223174Z",
     "iopub.status.idle": "2021-04-25T09:53:48.230189Z",
     "shell.execute_reply": "2021-04-25T09:53:48.228333Z",
     "shell.execute_reply.started": "2021-04-25T09:53:48.223708Z"
    },
    "tags": []
   },
   "outputs": [],
   "source": [
    "import pandas as pd"
   ]
  },
  {
   "cell_type": "code",
   "execution_count": 12,
   "id": "boxed-wheel",
   "metadata": {
    "execution": {
     "iopub.execute_input": "2021-04-25T09:53:48.674786Z",
     "iopub.status.busy": "2021-04-25T09:53:48.674181Z",
     "iopub.status.idle": "2021-04-25T09:53:48.854419Z",
     "shell.execute_reply": "2021-04-25T09:53:48.853362Z",
     "shell.execute_reply.started": "2021-04-25T09:53:48.674720Z"
    },
    "tags": []
   },
   "outputs": [],
   "source": [
    "df = pd.read_csv(\n",
    "    \"https://raw.githubusercontent.com/cs109/2014_data/master/countries.csv\")"
   ]
  },
  {
   "cell_type": "code",
   "execution_count": 13,
   "id": "diverse-importance",
   "metadata": {
    "execution": {
     "iopub.execute_input": "2021-04-25T09:53:49.383319Z",
     "iopub.status.busy": "2021-04-25T09:53:49.382898Z",
     "iopub.status.idle": "2021-04-25T09:53:49.394731Z",
     "shell.execute_reply": "2021-04-25T09:53:49.393970Z",
     "shell.execute_reply.started": "2021-04-25T09:53:49.383252Z"
    },
    "tags": []
   },
   "outputs": [
    {
     "data": {
      "text/html": [
       "<div>\n",
       "<style scoped>\n",
       "    .dataframe tbody tr th:only-of-type {\n",
       "        vertical-align: middle;\n",
       "    }\n",
       "\n",
       "    .dataframe tbody tr th {\n",
       "        vertical-align: top;\n",
       "    }\n",
       "\n",
       "    .dataframe thead th {\n",
       "        text-align: right;\n",
       "    }\n",
       "</style>\n",
       "<table border=\"1\" class=\"dataframe\">\n",
       "  <thead>\n",
       "    <tr style=\"text-align: right;\">\n",
       "      <th></th>\n",
       "      <th>Country</th>\n",
       "      <th>Region</th>\n",
       "    </tr>\n",
       "  </thead>\n",
       "  <tbody>\n",
       "    <tr>\n",
       "      <th>92</th>\n",
       "      <td>Turkey</td>\n",
       "      <td>ASIA</td>\n",
       "    </tr>\n",
       "  </tbody>\n",
       "</table>\n",
       "</div>"
      ],
      "text/plain": [
       "   Country Region\n",
       "92  Turkey   ASIA"
      ]
     },
     "execution_count": 13,
     "metadata": {},
     "output_type": "execute_result"
    }
   ],
   "source": [
    "df[(df.Country == \"Turkey\")]"
   ]
  },
  {
   "cell_type": "code",
   "execution_count": 14,
   "id": "thirty-think",
   "metadata": {
    "execution": {
     "iopub.execute_input": "2021-04-25T09:53:50.307111Z",
     "iopub.status.busy": "2021-04-25T09:53:50.306950Z",
     "iopub.status.idle": "2021-04-25T09:53:50.309870Z",
     "shell.execute_reply": "2021-04-25T09:53:50.309374Z",
     "shell.execute_reply.started": "2021-04-25T09:53:50.307093Z"
    },
    "tags": []
   },
   "outputs": [],
   "source": [
    "df_Asia = df[df.Region == \"ASIA\"]"
   ]
  },
  {
   "cell_type": "code",
   "execution_count": 5,
   "id": "mediterranean-embassy",
   "metadata": {
    "execution": {
     "iopub.execute_input": "2021-04-25T09:53:01.218046Z",
     "iopub.status.busy": "2021-04-25T09:53:01.217856Z",
     "iopub.status.idle": "2021-04-25T09:53:01.222343Z",
     "shell.execute_reply": "2021-04-25T09:53:01.221776Z",
     "shell.execute_reply.started": "2021-04-25T09:53:01.218025Z"
    },
    "tags": []
   },
   "outputs": [
    {
     "name": "stderr",
     "output_type": "stream",
     "text": [
      "/home/adrienpacifico/anaconda3/envs/cours_python_for_data_science/lib/python3.8/site-packages/pandas/core/indexing.py:1637: SettingWithCopyWarning: \n",
      "A value is trying to be set on a copy of a slice from a DataFrame\n",
      "\n",
      "See the caveats in the documentation: https://pandas.pydata.org/pandas-docs/stable/user_guide/indexing.html#returning-a-view-versus-a-copy\n",
      "  self._setitem_single_block(indexer, value, name)\n",
      "/home/adrienpacifico/anaconda3/envs/cours_python_for_data_science/lib/python3.8/site-packages/pandas/core/indexing.py:692: SettingWithCopyWarning: \n",
      "A value is trying to be set on a copy of a slice from a DataFrame\n",
      "\n",
      "See the caveats in the documentation: https://pandas.pydata.org/pandas-docs/stable/user_guide/indexing.html#returning-a-view-versus-a-copy\n",
      "  iloc._setitem_with_indexer(indexer, value, self.name)\n"
     ]
    }
   ],
   "source": [
    "df_Asia.loc[df_Asia[\"Country\"] == \"Turkey\", \"Region\"] = \"Europe\""
   ]
  },
  {
   "cell_type": "code",
   "execution_count": 6,
   "id": "valid-sheffield",
   "metadata": {
    "execution": {
     "iopub.execute_input": "2021-04-25T09:53:02.110549Z",
     "iopub.status.busy": "2021-04-25T09:53:02.110366Z",
     "iopub.status.idle": "2021-04-25T09:53:02.116368Z",
     "shell.execute_reply": "2021-04-25T09:53:02.116017Z",
     "shell.execute_reply.started": "2021-04-25T09:53:02.110530Z"
    },
    "tags": []
   },
   "outputs": [
    {
     "data": {
      "text/html": [
       "<div>\n",
       "<style scoped>\n",
       "    .dataframe tbody tr th:only-of-type {\n",
       "        vertical-align: middle;\n",
       "    }\n",
       "\n",
       "    .dataframe tbody tr th {\n",
       "        vertical-align: top;\n",
       "    }\n",
       "\n",
       "    .dataframe thead th {\n",
       "        text-align: right;\n",
       "    }\n",
       "</style>\n",
       "<table border=\"1\" class=\"dataframe\">\n",
       "  <thead>\n",
       "    <tr style=\"text-align: right;\">\n",
       "      <th></th>\n",
       "      <th>Country</th>\n",
       "      <th>Region</th>\n",
       "    </tr>\n",
       "  </thead>\n",
       "  <tbody>\n",
       "    <tr>\n",
       "      <th>88</th>\n",
       "      <td>Sri Lanka</td>\n",
       "      <td>ASIA</td>\n",
       "    </tr>\n",
       "    <tr>\n",
       "      <th>89</th>\n",
       "      <td>Syria</td>\n",
       "      <td>ASIA</td>\n",
       "    </tr>\n",
       "    <tr>\n",
       "      <th>90</th>\n",
       "      <td>Tajikistan</td>\n",
       "      <td>ASIA</td>\n",
       "    </tr>\n",
       "    <tr>\n",
       "      <th>91</th>\n",
       "      <td>Thailand</td>\n",
       "      <td>ASIA</td>\n",
       "    </tr>\n",
       "    <tr>\n",
       "      <th>92</th>\n",
       "      <td>Turkey</td>\n",
       "      <td>Europe</td>\n",
       "    </tr>\n",
       "    <tr>\n",
       "      <th>93</th>\n",
       "      <td>Turkmenistan</td>\n",
       "      <td>ASIA</td>\n",
       "    </tr>\n",
       "    <tr>\n",
       "      <th>94</th>\n",
       "      <td>United Arab Emirates</td>\n",
       "      <td>ASIA</td>\n",
       "    </tr>\n",
       "    <tr>\n",
       "      <th>95</th>\n",
       "      <td>Uzbekistan</td>\n",
       "      <td>ASIA</td>\n",
       "    </tr>\n",
       "    <tr>\n",
       "      <th>96</th>\n",
       "      <td>Vietnam</td>\n",
       "      <td>ASIA</td>\n",
       "    </tr>\n",
       "    <tr>\n",
       "      <th>97</th>\n",
       "      <td>Yemen</td>\n",
       "      <td>ASIA</td>\n",
       "    </tr>\n",
       "  </tbody>\n",
       "</table>\n",
       "</div>"
      ],
      "text/plain": [
       "                 Country  Region\n",
       "88             Sri Lanka    ASIA\n",
       "89                 Syria    ASIA\n",
       "90            Tajikistan    ASIA\n",
       "91              Thailand    ASIA\n",
       "92                Turkey  Europe\n",
       "93          Turkmenistan    ASIA\n",
       "94  United Arab Emirates    ASIA\n",
       "95            Uzbekistan    ASIA\n",
       "96               Vietnam    ASIA\n",
       "97                 Yemen    ASIA"
      ]
     },
     "execution_count": 6,
     "metadata": {},
     "output_type": "execute_result"
    }
   ],
   "source": [
    "df_Asia.tail(10)"
   ]
  },
  {
   "cell_type": "code",
   "execution_count": 7,
   "id": "animal-ecuador",
   "metadata": {
    "execution": {
     "iopub.execute_input": "2021-04-25T09:53:03.150535Z",
     "iopub.status.busy": "2021-04-25T09:53:03.150367Z",
     "iopub.status.idle": "2021-04-25T09:53:03.157638Z",
     "shell.execute_reply": "2021-04-25T09:53:03.157271Z",
     "shell.execute_reply.started": "2021-04-25T09:53:03.150517Z"
    },
    "tags": []
   },
   "outputs": [
    {
     "data": {
      "text/html": [
       "<div>\n",
       "<style scoped>\n",
       "    .dataframe tbody tr th:only-of-type {\n",
       "        vertical-align: middle;\n",
       "    }\n",
       "\n",
       "    .dataframe tbody tr th {\n",
       "        vertical-align: top;\n",
       "    }\n",
       "\n",
       "    .dataframe thead th {\n",
       "        text-align: right;\n",
       "    }\n",
       "</style>\n",
       "<table border=\"1\" class=\"dataframe\">\n",
       "  <thead>\n",
       "    <tr style=\"text-align: right;\">\n",
       "      <th></th>\n",
       "      <th>Country</th>\n",
       "      <th>Region</th>\n",
       "    </tr>\n",
       "  </thead>\n",
       "  <tbody>\n",
       "    <tr>\n",
       "      <th>92</th>\n",
       "      <td>Turkey</td>\n",
       "      <td>ASIA</td>\n",
       "    </tr>\n",
       "  </tbody>\n",
       "</table>\n",
       "</div>"
      ],
      "text/plain": [
       "   Country Region\n",
       "92  Turkey   ASIA"
      ]
     },
     "execution_count": 7,
     "metadata": {},
     "output_type": "execute_result"
    }
   ],
   "source": [
    "df.query(\"Country=='Turkey'\")"
   ]
  },
  {
   "cell_type": "code",
   "execution_count": 9,
   "id": "double-capability",
   "metadata": {
    "execution": {
     "iopub.execute_input": "2021-04-25T09:53:15.964009Z",
     "iopub.status.busy": "2021-04-25T09:53:15.963838Z",
     "iopub.status.idle": "2021-04-25T09:53:15.970404Z",
     "shell.execute_reply": "2021-04-25T09:53:15.970019Z",
     "shell.execute_reply.started": "2021-04-25T09:53:15.963990Z"
    },
    "tags": []
   },
   "outputs": [
    {
     "data": {
      "text/html": [
       "<div>\n",
       "<style scoped>\n",
       "    .dataframe tbody tr th:only-of-type {\n",
       "        vertical-align: middle;\n",
       "    }\n",
       "\n",
       "    .dataframe tbody tr th {\n",
       "        vertical-align: top;\n",
       "    }\n",
       "\n",
       "    .dataframe thead th {\n",
       "        text-align: right;\n",
       "    }\n",
       "</style>\n",
       "<table border=\"1\" class=\"dataframe\">\n",
       "  <thead>\n",
       "    <tr style=\"text-align: right;\">\n",
       "      <th></th>\n",
       "      <th>Country</th>\n",
       "      <th>Region</th>\n",
       "    </tr>\n",
       "  </thead>\n",
       "  <tbody>\n",
       "    <tr>\n",
       "      <th>92</th>\n",
       "      <td>Turkey</td>\n",
       "      <td>Europe</td>\n",
       "    </tr>\n",
       "  </tbody>\n",
       "</table>\n",
       "</div>"
      ],
      "text/plain": [
       "   Country  Region\n",
       "92  Turkey  Europe"
      ]
     },
     "execution_count": 9,
     "metadata": {},
     "output_type": "execute_result"
    }
   ],
   "source": [
    "df_Asia.query(\"Country=='Turkey'\")"
   ]
  },
  {
   "cell_type": "code",
   "execution_count": 17,
   "id": "interesting-navigator",
   "metadata": {
    "execution": {
     "iopub.execute_input": "2021-04-25T09:54:00.884968Z",
     "iopub.status.busy": "2021-04-25T09:54:00.884781Z",
     "iopub.status.idle": "2021-04-25T09:54:00.892327Z",
     "shell.execute_reply": "2021-04-25T09:54:00.891887Z",
     "shell.execute_reply.started": "2021-04-25T09:54:00.884948Z"
    },
    "tags": []
   },
   "outputs": [
    {
     "data": {
      "text/html": [
       "<div>\n",
       "<style scoped>\n",
       "    .dataframe tbody tr th:only-of-type {\n",
       "        vertical-align: middle;\n",
       "    }\n",
       "\n",
       "    .dataframe tbody tr th {\n",
       "        vertical-align: top;\n",
       "    }\n",
       "\n",
       "    .dataframe thead th {\n",
       "        text-align: right;\n",
       "    }\n",
       "</style>\n",
       "<table border=\"1\" class=\"dataframe\">\n",
       "  <thead>\n",
       "    <tr style=\"text-align: right;\">\n",
       "      <th></th>\n",
       "      <th>Country</th>\n",
       "      <th>Region</th>\n",
       "    </tr>\n",
       "  </thead>\n",
       "  <tbody>\n",
       "    <tr>\n",
       "      <th>0</th>\n",
       "      <td>Algeria</td>\n",
       "      <td>AFRICA</td>\n",
       "    </tr>\n",
       "    <tr>\n",
       "      <th>1</th>\n",
       "      <td>Angola</td>\n",
       "      <td>AFRICA</td>\n",
       "    </tr>\n",
       "    <tr>\n",
       "      <th>2</th>\n",
       "      <td>Benin</td>\n",
       "      <td>AFRICA</td>\n",
       "    </tr>\n",
       "    <tr>\n",
       "      <th>3</th>\n",
       "      <td>Botswana</td>\n",
       "      <td>AFRICA</td>\n",
       "    </tr>\n",
       "    <tr>\n",
       "      <th>4</th>\n",
       "      <td>Burkina</td>\n",
       "      <td>AFRICA</td>\n",
       "    </tr>\n",
       "    <tr>\n",
       "      <th>...</th>\n",
       "      <td>...</td>\n",
       "      <td>...</td>\n",
       "    </tr>\n",
       "    <tr>\n",
       "      <th>189</th>\n",
       "      <td>Paraguay</td>\n",
       "      <td>SOUTH AMERICA</td>\n",
       "    </tr>\n",
       "    <tr>\n",
       "      <th>190</th>\n",
       "      <td>Peru</td>\n",
       "      <td>SOUTH AMERICA</td>\n",
       "    </tr>\n",
       "    <tr>\n",
       "      <th>191</th>\n",
       "      <td>Suriname</td>\n",
       "      <td>SOUTH AMERICA</td>\n",
       "    </tr>\n",
       "    <tr>\n",
       "      <th>192</th>\n",
       "      <td>Uruguay</td>\n",
       "      <td>SOUTH AMERICA</td>\n",
       "    </tr>\n",
       "    <tr>\n",
       "      <th>193</th>\n",
       "      <td>Venezuela</td>\n",
       "      <td>SOUTH AMERICA</td>\n",
       "    </tr>\n",
       "  </tbody>\n",
       "</table>\n",
       "<p>194 rows × 2 columns</p>\n",
       "</div>"
      ],
      "text/plain": [
       "       Country         Region\n",
       "0      Algeria         AFRICA\n",
       "1       Angola         AFRICA\n",
       "2        Benin         AFRICA\n",
       "3     Botswana         AFRICA\n",
       "4      Burkina         AFRICA\n",
       "..         ...            ...\n",
       "189   Paraguay  SOUTH AMERICA\n",
       "190       Peru  SOUTH AMERICA\n",
       "191   Suriname  SOUTH AMERICA\n",
       "192    Uruguay  SOUTH AMERICA\n",
       "193  Venezuela  SOUTH AMERICA\n",
       "\n",
       "[194 rows x 2 columns]"
      ]
     },
     "execution_count": 17,
     "metadata": {},
     "output_type": "execute_result"
    }
   ],
   "source": [
    "df"
   ]
  },
  {
   "cell_type": "code",
   "execution_count": null,
   "id": "refined-consultancy",
   "metadata": {},
   "outputs": [],
   "source": []
  }
 ],
 "metadata": {
  "kernelspec": {
   "display_name": "Python 3",
   "language": "python",
   "name": "python3"
  },
  "language_info": {
   "codemirror_mode": {
    "name": "ipython",
    "version": 3
   },
   "file_extension": ".py",
   "mimetype": "text/x-python",
   "name": "python",
   "nbconvert_exporter": "python",
   "pygments_lexer": "ipython3",
   "version": "3.8.8"
  }
 },
 "nbformat": 4,
 "nbformat_minor": 5
}
