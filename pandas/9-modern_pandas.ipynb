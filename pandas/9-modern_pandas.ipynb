{
 "cells": [
  {
   "cell_type": "markdown",
   "id": "dde930c1-5d0c-4aed-b46b-5b0718b4eae2",
   "metadata": {},
   "source": [
    "Le modern pandas consiste entre autre à faire du méthod chaining et peut être vu comme le pendant de dplyr en R."
   ]
  },
  {
   "cell_type": "markdown",
   "id": "87bf4300-0994-49e4-90ff-2cfcfb032380",
   "metadata": {},
   "source": [
    "Un bon résumé : \n",
    "- slides : https://pyparis.org/static/slides/Herv%C3%A9+Mignot-2c465b89.pdf\n",
    "- youtube : https://www.youtube.com/watch?v=D_3nH3zVFWo"
   ]
  },
  {
   "cell_type": "markdown",
   "id": "500f20c2-4303-46ed-9ec8-f75b2d012921",
   "metadata": {},
   "source": [
    "Article original : https://tomaugspurger.github.io/modern-1-intro.html"
   ]
  },
  {
   "cell_type": "code",
   "execution_count": null,
   "id": "696c8618-8380-4550-a695-e05129a8ef3e",
   "metadata": {},
   "outputs": [],
   "source": []
  },
  {
   "cell_type": "code",
   "execution_count": null,
   "id": "7cf7e2c4-99c6-4ebb-8a57-1a92f8627cb3",
   "metadata": {},
   "outputs": [],
   "source": []
  }
 ],
 "metadata": {
  "kernelspec": {
   "display_name": "Python 3",
   "language": "python",
   "name": "python3"
  },
  "language_info": {
   "codemirror_mode": {
    "name": "ipython",
    "version": 3
   },
   "file_extension": ".py",
   "mimetype": "text/x-python",
   "name": "python",
   "nbconvert_exporter": "python",
   "pygments_lexer": "ipython3",
   "version": "3.8.8"
  }
 },
 "nbformat": 4,
 "nbformat_minor": 5
}
