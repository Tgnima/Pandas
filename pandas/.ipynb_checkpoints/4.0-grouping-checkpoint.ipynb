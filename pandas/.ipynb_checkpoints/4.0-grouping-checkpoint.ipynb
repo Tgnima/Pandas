{
 "cells": [
  {
   "cell_type": "code",
   "execution_count": 2,
   "id": "3ef92ff1-d175-4c80-a83d-807dd9e44f3a",
   "metadata": {
    "execution": {
     "iopub.execute_input": "2021-04-30T02:15:42.207959Z",
     "iopub.status.busy": "2021-04-30T02:15:42.207785Z",
     "iopub.status.idle": "2021-04-30T02:15:42.843146Z",
     "shell.execute_reply": "2021-04-30T02:15:42.842679Z",
     "shell.execute_reply.started": "2021-04-30T02:15:42.207940Z"
    },
    "tags": []
   },
   "outputs": [],
   "source": [
    "import seaborn as sns\n",
    "import pandas as pd\n",
    "import numpy as np"
   ]
  },
  {
   "cell_type": "code",
   "execution_count": 3,
   "id": "df215ab8-cee7-4c18-b67e-22a0e282c69a",
   "metadata": {
    "execution": {
     "iopub.execute_input": "2021-04-30T02:15:42.844073Z",
     "iopub.status.busy": "2021-04-30T02:15:42.843932Z",
     "iopub.status.idle": "2021-04-30T02:15:42.859936Z",
     "shell.execute_reply": "2021-04-30T02:15:42.859510Z",
     "shell.execute_reply.started": "2021-04-30T02:15:42.844056Z"
    },
    "tags": []
   },
   "outputs": [
    {
     "data": {
      "text/html": [
       "<div>\n",
       "<style scoped>\n",
       "    .dataframe tbody tr th:only-of-type {\n",
       "        vertical-align: middle;\n",
       "    }\n",
       "\n",
       "    .dataframe tbody tr th {\n",
       "        vertical-align: top;\n",
       "    }\n",
       "\n",
       "    .dataframe thead th {\n",
       "        text-align: right;\n",
       "    }\n",
       "</style>\n",
       "<table border=\"1\" class=\"dataframe\">\n",
       "  <thead>\n",
       "    <tr style=\"text-align: right;\">\n",
       "      <th></th>\n",
       "      <th>total_bill</th>\n",
       "      <th>tip</th>\n",
       "      <th>sex</th>\n",
       "      <th>smoker</th>\n",
       "      <th>day</th>\n",
       "      <th>time</th>\n",
       "      <th>size</th>\n",
       "    </tr>\n",
       "  </thead>\n",
       "  <tbody>\n",
       "    <tr>\n",
       "      <th>0</th>\n",
       "      <td>16.99</td>\n",
       "      <td>1.01</td>\n",
       "      <td>Female</td>\n",
       "      <td>No</td>\n",
       "      <td>Sun</td>\n",
       "      <td>Dinner</td>\n",
       "      <td>2</td>\n",
       "    </tr>\n",
       "    <tr>\n",
       "      <th>1</th>\n",
       "      <td>10.34</td>\n",
       "      <td>1.66</td>\n",
       "      <td>Male</td>\n",
       "      <td>No</td>\n",
       "      <td>Sun</td>\n",
       "      <td>Dinner</td>\n",
       "      <td>3</td>\n",
       "    </tr>\n",
       "    <tr>\n",
       "      <th>2</th>\n",
       "      <td>21.01</td>\n",
       "      <td>3.50</td>\n",
       "      <td>Male</td>\n",
       "      <td>No</td>\n",
       "      <td>Sun</td>\n",
       "      <td>Dinner</td>\n",
       "      <td>3</td>\n",
       "    </tr>\n",
       "  </tbody>\n",
       "</table>\n",
       "</div>"
      ],
      "text/plain": [
       "   total_bill   tip     sex smoker  day    time  size\n",
       "0       16.99  1.01  Female     No  Sun  Dinner     2\n",
       "1       10.34  1.66    Male     No  Sun  Dinner     3\n",
       "2       21.01  3.50    Male     No  Sun  Dinner     3"
      ]
     },
     "execution_count": 3,
     "metadata": {},
     "output_type": "execute_result"
    }
   ],
   "source": [
    "df_tips = sns.load_dataset('tips')\n",
    "df_tips.head(3)"
   ]
  },
  {
   "cell_type": "markdown",
   "id": "377d5bf4-4dd7-4a65-b23e-24da57b66500",
   "metadata": {
    "execution": {
     "iopub.execute_input": "2021-04-29T06:38:17.411837Z",
     "iopub.status.busy": "2021-04-29T06:38:17.411234Z",
     "iopub.status.idle": "2021-04-29T06:38:17.421794Z",
     "shell.execute_reply": "2021-04-29T06:38:17.419631Z",
     "shell.execute_reply.started": "2021-04-29T06:38:17.411767Z"
    }
   },
   "source": [
    "On peut grouper les données avec un groupy."
   ]
  },
  {
   "cell_type": "code",
   "execution_count": 4,
   "id": "f460c655-6b0c-48ab-b338-529451c10af1",
   "metadata": {
    "execution": {
     "iopub.execute_input": "2021-04-30T02:15:43.372374Z",
     "iopub.status.busy": "2021-04-30T02:15:43.372170Z",
     "iopub.status.idle": "2021-04-30T02:15:43.376882Z",
     "shell.execute_reply": "2021-04-30T02:15:43.376317Z",
     "shell.execute_reply.started": "2021-04-30T02:15:43.372351Z"
    },
    "tags": []
   },
   "outputs": [
    {
     "data": {
      "text/plain": [
       "<pandas.core.groupby.generic.DataFrameGroupBy object at 0x7fb95e8bc820>"
      ]
     },
     "execution_count": 4,
     "metadata": {},
     "output_type": "execute_result"
    }
   ],
   "source": [
    "df_tips_gb = df_tips.groupby(['sex', 'smoker'])\n",
    "df_tips_gb"
   ]
  },
  {
   "cell_type": "markdown",
   "id": "61003899-808e-43a2-8752-8ba3533b6ab0",
   "metadata": {},
   "source": [
    "On peut ensuite appliquer des méthodes a ces groupes pour obtenir de l'information par groupe.  \n",
    "Exemple : "
   ]
  },
  {
   "cell_type": "code",
   "execution_count": 5,
   "id": "14aafd30-594b-402f-b55a-748f076ca823",
   "metadata": {
    "execution": {
     "iopub.execute_input": "2021-04-30T02:15:43.910743Z",
     "iopub.status.busy": "2021-04-30T02:15:43.910158Z",
     "iopub.status.idle": "2021-04-30T02:15:43.920477Z",
     "shell.execute_reply": "2021-04-30T02:15:43.919940Z",
     "shell.execute_reply.started": "2021-04-30T02:15:43.910677Z"
    },
    "tags": []
   },
   "outputs": [
    {
     "data": {
      "text/plain": [
       "sex     smoker\n",
       "Male    Yes       60\n",
       "        No        97\n",
       "Female  Yes       33\n",
       "        No        54\n",
       "dtype: int64"
      ]
     },
     "execution_count": 5,
     "metadata": {},
     "output_type": "execute_result"
    }
   ],
   "source": [
    "df_tips_gb.size()"
   ]
  },
  {
   "cell_type": "code",
   "execution_count": 6,
   "id": "38f0b7a8-21a3-4b3c-9819-1e4e6f398012",
   "metadata": {
    "execution": {
     "iopub.execute_input": "2021-04-30T02:15:44.410525Z",
     "iopub.status.busy": "2021-04-30T02:15:44.410267Z",
     "iopub.status.idle": "2021-04-30T02:15:44.421678Z",
     "shell.execute_reply": "2021-04-30T02:15:44.421159Z",
     "shell.execute_reply.started": "2021-04-30T02:15:44.410499Z"
    },
    "tags": []
   },
   "outputs": [
    {
     "data": {
      "text/html": [
       "<div>\n",
       "<style scoped>\n",
       "    .dataframe tbody tr th:only-of-type {\n",
       "        vertical-align: middle;\n",
       "    }\n",
       "\n",
       "    .dataframe tbody tr th {\n",
       "        vertical-align: top;\n",
       "    }\n",
       "\n",
       "    .dataframe thead th {\n",
       "        text-align: right;\n",
       "    }\n",
       "</style>\n",
       "<table border=\"1\" class=\"dataframe\">\n",
       "  <thead>\n",
       "    <tr style=\"text-align: right;\">\n",
       "      <th></th>\n",
       "      <th></th>\n",
       "      <th>total_bill</th>\n",
       "      <th>tip</th>\n",
       "      <th>size</th>\n",
       "    </tr>\n",
       "    <tr>\n",
       "      <th>sex</th>\n",
       "      <th>smoker</th>\n",
       "      <th></th>\n",
       "      <th></th>\n",
       "      <th></th>\n",
       "    </tr>\n",
       "  </thead>\n",
       "  <tbody>\n",
       "    <tr>\n",
       "      <th rowspan=\"2\" valign=\"top\">Male</th>\n",
       "      <th>Yes</th>\n",
       "      <td>22.284500</td>\n",
       "      <td>3.051167</td>\n",
       "      <td>2.500000</td>\n",
       "    </tr>\n",
       "    <tr>\n",
       "      <th>No</th>\n",
       "      <td>19.791237</td>\n",
       "      <td>3.113402</td>\n",
       "      <td>2.711340</td>\n",
       "    </tr>\n",
       "    <tr>\n",
       "      <th rowspan=\"2\" valign=\"top\">Female</th>\n",
       "      <th>Yes</th>\n",
       "      <td>17.977879</td>\n",
       "      <td>2.931515</td>\n",
       "      <td>2.242424</td>\n",
       "    </tr>\n",
       "    <tr>\n",
       "      <th>No</th>\n",
       "      <td>18.105185</td>\n",
       "      <td>2.773519</td>\n",
       "      <td>2.592593</td>\n",
       "    </tr>\n",
       "  </tbody>\n",
       "</table>\n",
       "</div>"
      ],
      "text/plain": [
       "               total_bill       tip      size\n",
       "sex    smoker                                \n",
       "Male   Yes      22.284500  3.051167  2.500000\n",
       "       No       19.791237  3.113402  2.711340\n",
       "Female Yes      17.977879  2.931515  2.242424\n",
       "       No       18.105185  2.773519  2.592593"
      ]
     },
     "execution_count": 6,
     "metadata": {},
     "output_type": "execute_result"
    }
   ],
   "source": [
    "df_tips_gb.mean()"
   ]
  },
  {
   "cell_type": "markdown",
   "id": "d93584ec-e542-474e-8204-fa7e0f8be263",
   "metadata": {
    "execution": {
     "iopub.execute_input": "2021-04-30T02:23:23.461139Z",
     "iopub.status.busy": "2021-04-30T02:23:23.460716Z",
     "iopub.status.idle": "2021-04-30T02:23:23.466970Z",
     "shell.execute_reply": "2021-04-30T02:23:23.465882Z",
     "shell.execute_reply.started": "2021-04-30T02:23:23.461090Z"
    }
   },
   "source": [
    "On trouvera une partie des fonctions d'aggrégations possibles [ici](https://pandas.pydata.org/pandas-docs/stable/user_guide/groupby.html#aggregation)."
   ]
  },
  {
   "cell_type": "markdown",
   "id": "46ebe7b9-3471-4d8e-9565-e4134aad479b",
   "metadata": {},
   "source": [
    "### Agg"
   ]
  },
  {
   "cell_type": "code",
   "execution_count": 7,
   "id": "6e3ef483-1841-4f4c-b673-c97a8a829798",
   "metadata": {
    "execution": {
     "iopub.execute_input": "2021-04-30T02:15:45.171836Z",
     "iopub.status.busy": "2021-04-30T02:15:45.171404Z",
     "iopub.status.idle": "2021-04-30T02:15:45.199680Z",
     "shell.execute_reply": "2021-04-30T02:15:45.199270Z",
     "shell.execute_reply.started": "2021-04-30T02:15:45.171786Z"
    },
    "tags": []
   },
   "outputs": [
    {
     "data": {
      "text/html": [
       "<div>\n",
       "<style scoped>\n",
       "    .dataframe tbody tr th:only-of-type {\n",
       "        vertical-align: middle;\n",
       "    }\n",
       "\n",
       "    .dataframe tbody tr th {\n",
       "        vertical-align: top;\n",
       "    }\n",
       "\n",
       "    .dataframe thead tr th {\n",
       "        text-align: left;\n",
       "    }\n",
       "\n",
       "    .dataframe thead tr:last-of-type th {\n",
       "        text-align: right;\n",
       "    }\n",
       "</style>\n",
       "<table border=\"1\" class=\"dataframe\">\n",
       "  <thead>\n",
       "    <tr>\n",
       "      <th></th>\n",
       "      <th></th>\n",
       "      <th colspan=\"2\" halign=\"left\">tip</th>\n",
       "      <th>day</th>\n",
       "      <th>total_bill</th>\n",
       "    </tr>\n",
       "    <tr>\n",
       "      <th></th>\n",
       "      <th></th>\n",
       "      <th>mean</th>\n",
       "      <th>min</th>\n",
       "      <th>first</th>\n",
       "      <th>size</th>\n",
       "    </tr>\n",
       "    <tr>\n",
       "      <th>sex</th>\n",
       "      <th>smoker</th>\n",
       "      <th></th>\n",
       "      <th></th>\n",
       "      <th></th>\n",
       "      <th></th>\n",
       "    </tr>\n",
       "  </thead>\n",
       "  <tbody>\n",
       "    <tr>\n",
       "      <th rowspan=\"2\" valign=\"top\">Male</th>\n",
       "      <th>Yes</th>\n",
       "      <td>3.051167</td>\n",
       "      <td>1.00</td>\n",
       "      <td>Sat</td>\n",
       "      <td>60</td>\n",
       "    </tr>\n",
       "    <tr>\n",
       "      <th>No</th>\n",
       "      <td>3.113402</td>\n",
       "      <td>1.25</td>\n",
       "      <td>Sun</td>\n",
       "      <td>97</td>\n",
       "    </tr>\n",
       "    <tr>\n",
       "      <th rowspan=\"2\" valign=\"top\">Female</th>\n",
       "      <th>Yes</th>\n",
       "      <td>2.931515</td>\n",
       "      <td>1.00</td>\n",
       "      <td>Sat</td>\n",
       "      <td>33</td>\n",
       "    </tr>\n",
       "    <tr>\n",
       "      <th>No</th>\n",
       "      <td>2.773519</td>\n",
       "      <td>1.00</td>\n",
       "      <td>Sun</td>\n",
       "      <td>54</td>\n",
       "    </tr>\n",
       "  </tbody>\n",
       "</table>\n",
       "</div>"
      ],
      "text/plain": [
       "                    tip         day total_bill\n",
       "                   mean   min first       size\n",
       "sex    smoker                                 \n",
       "Male   Yes     3.051167  1.00   Sat         60\n",
       "       No      3.113402  1.25   Sun         97\n",
       "Female Yes     2.931515  1.00   Sat         33\n",
       "       No      2.773519  1.00   Sun         54"
      ]
     },
     "execution_count": 7,
     "metadata": {},
     "output_type": "execute_result"
    }
   ],
   "source": [
    "\n",
    "\n",
    "df_tips_agg = df_tips_gb.agg({\n",
    "    'tip': ['mean', 'min'],\n",
    "    'day': 'first',\n",
    "    'total_bill': 'size'\n",
    "})\n",
    "\n",
    "df_tips_agg\n",
    "\n"
   ]
  },
  {
   "cell_type": "markdown",
   "id": "7912ca37-1334-48b0-9d7d-6bc4538061ad",
   "metadata": {},
   "source": [
    "On remarque que l'on obtient une multi-index. On peut revenir à un index normal en utilsant reset_index()."
   ]
  },
  {
   "cell_type": "code",
   "execution_count": 8,
   "id": "753d65c9-341e-47fc-a8c1-0c01ee81c730",
   "metadata": {
    "execution": {
     "iopub.execute_input": "2021-04-30T02:16:48.420289Z",
     "iopub.status.busy": "2021-04-30T02:16:48.419916Z",
     "iopub.status.idle": "2021-04-30T02:16:48.434133Z",
     "shell.execute_reply": "2021-04-30T02:16:48.433674Z",
     "shell.execute_reply.started": "2021-04-30T02:16:48.420245Z"
    }
   },
   "outputs": [
    {
     "data": {
      "text/html": [
       "<div>\n",
       "<style scoped>\n",
       "    .dataframe tbody tr th:only-of-type {\n",
       "        vertical-align: middle;\n",
       "    }\n",
       "\n",
       "    .dataframe tbody tr th {\n",
       "        vertical-align: top;\n",
       "    }\n",
       "\n",
       "    .dataframe thead tr th {\n",
       "        text-align: left;\n",
       "    }\n",
       "</style>\n",
       "<table border=\"1\" class=\"dataframe\">\n",
       "  <thead>\n",
       "    <tr>\n",
       "      <th></th>\n",
       "      <th>sex</th>\n",
       "      <th>smoker</th>\n",
       "      <th colspan=\"2\" halign=\"left\">tip</th>\n",
       "      <th>day</th>\n",
       "      <th>total_bill</th>\n",
       "    </tr>\n",
       "    <tr>\n",
       "      <th></th>\n",
       "      <th></th>\n",
       "      <th></th>\n",
       "      <th>mean</th>\n",
       "      <th>min</th>\n",
       "      <th>first</th>\n",
       "      <th>size</th>\n",
       "    </tr>\n",
       "  </thead>\n",
       "  <tbody>\n",
       "    <tr>\n",
       "      <th>0</th>\n",
       "      <td>Male</td>\n",
       "      <td>Yes</td>\n",
       "      <td>3.051167</td>\n",
       "      <td>1.00</td>\n",
       "      <td>Sat</td>\n",
       "      <td>60</td>\n",
       "    </tr>\n",
       "    <tr>\n",
       "      <th>1</th>\n",
       "      <td>Male</td>\n",
       "      <td>No</td>\n",
       "      <td>3.113402</td>\n",
       "      <td>1.25</td>\n",
       "      <td>Sun</td>\n",
       "      <td>97</td>\n",
       "    </tr>\n",
       "    <tr>\n",
       "      <th>2</th>\n",
       "      <td>Female</td>\n",
       "      <td>Yes</td>\n",
       "      <td>2.931515</td>\n",
       "      <td>1.00</td>\n",
       "      <td>Sat</td>\n",
       "      <td>33</td>\n",
       "    </tr>\n",
       "    <tr>\n",
       "      <th>3</th>\n",
       "      <td>Female</td>\n",
       "      <td>No</td>\n",
       "      <td>2.773519</td>\n",
       "      <td>1.00</td>\n",
       "      <td>Sun</td>\n",
       "      <td>54</td>\n",
       "    </tr>\n",
       "  </tbody>\n",
       "</table>\n",
       "</div>"
      ],
      "text/plain": [
       "      sex smoker       tip         day total_bill\n",
       "                      mean   min first       size\n",
       "0    Male    Yes  3.051167  1.00   Sat         60\n",
       "1    Male     No  3.113402  1.25   Sun         97\n",
       "2  Female    Yes  2.931515  1.00   Sat         33\n",
       "3  Female     No  2.773519  1.00   Sun         54"
      ]
     },
     "execution_count": 8,
     "metadata": {},
     "output_type": "execute_result"
    }
   ],
   "source": [
    "df_tips_agg.reset_index()"
   ]
  },
  {
   "cell_type": "code",
   "execution_count": 17,
   "id": "479ca97b-5db3-4fe6-a34b-8a94d089df51",
   "metadata": {
    "execution": {
     "iopub.execute_input": "2021-04-30T02:20:35.448253Z",
     "iopub.status.busy": "2021-04-30T02:20:35.448066Z",
     "iopub.status.idle": "2021-04-30T02:20:35.466399Z",
     "shell.execute_reply": "2021-04-30T02:20:35.465852Z",
     "shell.execute_reply.started": "2021-04-30T02:20:35.448232Z"
    },
    "tags": []
   },
   "outputs": [
    {
     "data": {
      "text/html": [
       "<div>\n",
       "<style scoped>\n",
       "    .dataframe tbody tr th:only-of-type {\n",
       "        vertical-align: middle;\n",
       "    }\n",
       "\n",
       "    .dataframe tbody tr th {\n",
       "        vertical-align: top;\n",
       "    }\n",
       "\n",
       "    .dataframe thead tr th {\n",
       "        text-align: left;\n",
       "    }\n",
       "\n",
       "    .dataframe thead tr:last-of-type th {\n",
       "        text-align: right;\n",
       "    }\n",
       "</style>\n",
       "<table border=\"1\" class=\"dataframe\">\n",
       "  <thead>\n",
       "    <tr>\n",
       "      <th></th>\n",
       "      <th colspan=\"4\" halign=\"left\">tip</th>\n",
       "      <th colspan=\"2\" halign=\"left\">day</th>\n",
       "      <th colspan=\"2\" halign=\"left\">total_bill</th>\n",
       "    </tr>\n",
       "    <tr>\n",
       "      <th></th>\n",
       "      <th colspan=\"2\" halign=\"left\">mean</th>\n",
       "      <th colspan=\"2\" halign=\"left\">min</th>\n",
       "      <th colspan=\"2\" halign=\"left\">first</th>\n",
       "      <th colspan=\"2\" halign=\"left\">size</th>\n",
       "    </tr>\n",
       "    <tr>\n",
       "      <th>smoker</th>\n",
       "      <th>Yes</th>\n",
       "      <th>No</th>\n",
       "      <th>Yes</th>\n",
       "      <th>No</th>\n",
       "      <th>Yes</th>\n",
       "      <th>No</th>\n",
       "      <th>Yes</th>\n",
       "      <th>No</th>\n",
       "    </tr>\n",
       "    <tr>\n",
       "      <th>sex</th>\n",
       "      <th></th>\n",
       "      <th></th>\n",
       "      <th></th>\n",
       "      <th></th>\n",
       "      <th></th>\n",
       "      <th></th>\n",
       "      <th></th>\n",
       "      <th></th>\n",
       "    </tr>\n",
       "  </thead>\n",
       "  <tbody>\n",
       "    <tr>\n",
       "      <th>Male</th>\n",
       "      <td>3.051167</td>\n",
       "      <td>3.113402</td>\n",
       "      <td>1.0</td>\n",
       "      <td>1.25</td>\n",
       "      <td>Sat</td>\n",
       "      <td>Sun</td>\n",
       "      <td>60</td>\n",
       "      <td>97</td>\n",
       "    </tr>\n",
       "    <tr>\n",
       "      <th>Female</th>\n",
       "      <td>2.931515</td>\n",
       "      <td>2.773519</td>\n",
       "      <td>1.0</td>\n",
       "      <td>1.00</td>\n",
       "      <td>Sat</td>\n",
       "      <td>Sun</td>\n",
       "      <td>33</td>\n",
       "      <td>54</td>\n",
       "    </tr>\n",
       "  </tbody>\n",
       "</table>\n",
       "</div>"
      ],
      "text/plain": [
       "             tip                        day      total_bill    \n",
       "            mean            min       first            size    \n",
       "smoker       Yes        No  Yes    No   Yes   No        Yes  No\n",
       "sex                                                            \n",
       "Male    3.051167  3.113402  1.0  1.25   Sat  Sun         60  97\n",
       "Female  2.931515  2.773519  1.0  1.00   Sat  Sun         33  54"
      ]
     },
     "execution_count": 17,
     "metadata": {},
     "output_type": "execute_result"
    }
   ],
   "source": [
    "df_tips_agg.unstack(1)"
   ]
  },
  {
   "cell_type": "markdown",
   "id": "b4f07e43-f59c-45ba-9d52-a661cf048403",
   "metadata": {},
   "source": [
    "On peut ensuite appliquer les opérations "
   ]
  },
  {
   "cell_type": "code",
   "execution_count": null,
   "id": "e5fee2d5-a347-41c8-983e-de5527458870",
   "metadata": {},
   "outputs": [],
   "source": []
  },
  {
   "cell_type": "code",
   "execution_count": null,
   "id": "692d024e-2de9-4742-94ac-bea48bb00faf",
   "metadata": {},
   "outputs": [],
   "source": []
  },
  {
   "cell_type": "code",
   "execution_count": null,
   "id": "ae1ba64a-365f-4b81-9b05-ef62a9040a76",
   "metadata": {},
   "outputs": [],
   "source": []
  }
 ],
 "metadata": {
  "kernelspec": {
   "display_name": "Python 3",
   "language": "python",
   "name": "python3"
  },
  "language_info": {
   "codemirror_mode": {
    "name": "ipython",
    "version": 3
   },
   "file_extension": ".py",
   "mimetype": "text/x-python",
   "name": "python",
   "nbconvert_exporter": "python",
   "pygments_lexer": "ipython3",
   "version": "3.8.8"
  }
 },
 "nbformat": 4,
 "nbformat_minor": 5
}
