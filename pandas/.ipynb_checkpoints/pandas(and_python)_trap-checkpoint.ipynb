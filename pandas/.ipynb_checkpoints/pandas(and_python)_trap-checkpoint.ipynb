{
 "cells": [
  {
   "cell_type": "code",
   "execution_count": 1,
   "id": "da9a7832-5e43-4a16-bc59-2cda6392ffab",
   "metadata": {
    "execution": {
     "iopub.execute_input": "2021-04-30T02:50:55.660461Z",
     "iopub.status.busy": "2021-04-30T02:50:55.660231Z",
     "iopub.status.idle": "2021-04-30T02:50:55.862598Z",
     "shell.execute_reply": "2021-04-30T02:50:55.862088Z",
     "shell.execute_reply.started": "2021-04-30T02:50:55.660405Z"
    },
    "tags": []
   },
   "outputs": [],
   "source": [
    "import pandas as pd"
   ]
  },
  {
   "cell_type": "markdown",
   "id": "1b6a368b-7557-4509-9913-f20b43fda83a",
   "metadata": {
    "execution": {
     "iopub.execute_input": "2021-04-27T18:28:41.684158Z",
     "iopub.status.busy": "2021-04-27T18:28:41.683653Z",
     "iopub.status.idle": "2021-04-27T18:28:41.804164Z",
     "shell.execute_reply": "2021-04-27T18:28:41.803626Z",
     "shell.execute_reply.started": "2021-04-27T18:28:41.684097Z"
    }
   },
   "source": [
    "![](images/its_a_trap.jpeg)"
   ]
  },
  {
   "cell_type": "markdown",
   "id": "0c059b8d-9473-4ead-81e6-680bda73d33d",
   "metadata": {},
   "source": [
    "## Dtypes"
   ]
  },
  {
   "cell_type": "markdown",
   "id": "229f29c3-264a-4192-a5ba-544a187308ba",
   "metadata": {},
   "source": [
    "### Les conversions dangereuses"
   ]
  },
  {
   "cell_type": "code",
   "execution_count": 2,
   "id": "198b9be7-4182-42c7-9be2-41d73f0657a6",
   "metadata": {
    "execution": {
     "iopub.execute_input": "2021-04-30T02:50:56.725204Z",
     "iopub.status.busy": "2021-04-30T02:50:56.724633Z",
     "iopub.status.idle": "2021-04-30T02:50:56.733979Z",
     "shell.execute_reply": "2021-04-30T02:50:56.732620Z",
     "shell.execute_reply.started": "2021-04-30T02:50:56.725136Z"
    },
    "tags": []
   },
   "outputs": [],
   "source": [
    "df = pd.DataFrame({\"A\":[3.4, 3, 12]})"
   ]
  },
  {
   "cell_type": "code",
   "execution_count": 3,
   "id": "e43118ec-8a79-4e2f-9bdd-6858aa4dbae6",
   "metadata": {
    "execution": {
     "iopub.execute_input": "2021-04-30T02:50:56.961444Z",
     "iopub.status.busy": "2021-04-30T02:50:56.960869Z",
     "iopub.status.idle": "2021-04-30T02:50:56.980280Z",
     "shell.execute_reply": "2021-04-30T02:50:56.979528Z",
     "shell.execute_reply.started": "2021-04-30T02:50:56.961375Z"
    },
    "tags": []
   },
   "outputs": [
    {
     "data": {
      "text/plain": [
       "A    float64\n",
       "dtype: object"
      ]
     },
     "execution_count": 3,
     "metadata": {},
     "output_type": "execute_result"
    }
   ],
   "source": [
    "df.dtypes"
   ]
  },
  {
   "cell_type": "code",
   "execution_count": 4,
   "id": "70ec14bf-7574-461d-8cc2-ec2c9217c1b2",
   "metadata": {
    "execution": {
     "iopub.execute_input": "2021-04-30T02:50:57.269223Z",
     "iopub.status.busy": "2021-04-30T02:50:57.269032Z",
     "iopub.status.idle": "2021-04-30T02:50:57.275519Z",
     "shell.execute_reply": "2021-04-30T02:50:57.275027Z",
     "shell.execute_reply.started": "2021-04-30T02:50:57.269203Z"
    },
    "tags": []
   },
   "outputs": [
    {
     "data": {
      "text/html": [
       "<div>\n",
       "<style scoped>\n",
       "    .dataframe tbody tr th:only-of-type {\n",
       "        vertical-align: middle;\n",
       "    }\n",
       "\n",
       "    .dataframe tbody tr th {\n",
       "        vertical-align: top;\n",
       "    }\n",
       "\n",
       "    .dataframe thead th {\n",
       "        text-align: right;\n",
       "    }\n",
       "</style>\n",
       "<table border=\"1\" class=\"dataframe\">\n",
       "  <thead>\n",
       "    <tr style=\"text-align: right;\">\n",
       "      <th></th>\n",
       "      <th>A</th>\n",
       "    </tr>\n",
       "  </thead>\n",
       "  <tbody>\n",
       "    <tr>\n",
       "      <th>0</th>\n",
       "      <td>3</td>\n",
       "    </tr>\n",
       "    <tr>\n",
       "      <th>1</th>\n",
       "      <td>3</td>\n",
       "    </tr>\n",
       "    <tr>\n",
       "      <th>2</th>\n",
       "      <td>12</td>\n",
       "    </tr>\n",
       "  </tbody>\n",
       "</table>\n",
       "</div>"
      ],
      "text/plain": [
       "    A\n",
       "0   3\n",
       "1   3\n",
       "2  12"
      ]
     },
     "execution_count": 4,
     "metadata": {},
     "output_type": "execute_result"
    }
   ],
   "source": [
    "df.astype(\"int32\")"
   ]
  },
  {
   "cell_type": "markdown",
   "id": "db635c03-a977-49a8-aa4b-4e231bed05b7",
   "metadata": {},
   "source": [
    "Pas de souci, on peut convertir les float en int pour garder de la place en mémoire et pandas fait la troncation tout seul 🎉🥂 !"
   ]
  },
  {
   "cell_type": "code",
   "execution_count": 5,
   "id": "cee5ee1b-cf6e-4141-9def-d10790b92983",
   "metadata": {
    "execution": {
     "iopub.execute_input": "2021-04-30T02:50:58.018545Z",
     "iopub.status.busy": "2021-04-30T02:50:58.018325Z",
     "iopub.status.idle": "2021-04-30T02:50:58.023864Z",
     "shell.execute_reply": "2021-04-30T02:50:58.023397Z",
     "shell.execute_reply.started": "2021-04-30T02:50:58.018524Z"
    },
    "tags": []
   },
   "outputs": [
    {
     "data": {
      "text/html": [
       "<div>\n",
       "<style scoped>\n",
       "    .dataframe tbody tr th:only-of-type {\n",
       "        vertical-align: middle;\n",
       "    }\n",
       "\n",
       "    .dataframe tbody tr th {\n",
       "        vertical-align: top;\n",
       "    }\n",
       "\n",
       "    .dataframe thead th {\n",
       "        text-align: right;\n",
       "    }\n",
       "</style>\n",
       "<table border=\"1\" class=\"dataframe\">\n",
       "  <thead>\n",
       "    <tr style=\"text-align: right;\">\n",
       "      <th></th>\n",
       "      <th>A</th>\n",
       "    </tr>\n",
       "  </thead>\n",
       "  <tbody>\n",
       "    <tr>\n",
       "      <th>0</th>\n",
       "      <td>-128</td>\n",
       "    </tr>\n",
       "    <tr>\n",
       "      <th>1</th>\n",
       "      <td>3</td>\n",
       "    </tr>\n",
       "    <tr>\n",
       "      <th>2</th>\n",
       "      <td>12</td>\n",
       "    </tr>\n",
       "  </tbody>\n",
       "</table>\n",
       "</div>"
      ],
      "text/plain": [
       "     A\n",
       "0 -128\n",
       "1    3\n",
       "2   12"
      ]
     },
     "execution_count": 5,
     "metadata": {},
     "output_type": "execute_result"
    }
   ],
   "source": [
    "pd.DataFrame({\"A\":[30000000.4, 3, 12]}).astype(\"int8\")"
   ]
  },
  {
   "cell_type": "markdown",
   "id": "16fdac34-7cc0-4a1e-8395-3b17f05daf08",
   "metadata": {
    "execution": {
     "iopub.execute_input": "2021-04-27T18:38:32.728254Z",
     "iopub.status.busy": "2021-04-27T18:38:32.728084Z",
     "iopub.status.idle": "2021-04-27T18:38:32.731133Z",
     "shell.execute_reply": "2021-04-27T18:38:32.730520Z",
     "shell.execute_reply.started": "2021-04-27T18:38:32.728234Z"
    }
   },
   "source": [
    "😭"
   ]
  },
  {
   "cell_type": "markdown",
   "id": "136421f3-d914-4569-8952-a906d43a1605",
   "metadata": {},
   "source": [
    "Il faut faire attention sur les conversions et s'assurer que le type d'arrivée est compatible avec le type initial."
   ]
  },
  {
   "cell_type": "code",
   "execution_count": 6,
   "id": "0ff8c0aa-1fc0-40f0-b7c4-44874be946aa",
   "metadata": {
    "execution": {
     "iopub.execute_input": "2021-04-30T02:50:59.758487Z",
     "iopub.status.busy": "2021-04-30T02:50:59.758192Z",
     "iopub.status.idle": "2021-04-30T02:50:59.766790Z",
     "shell.execute_reply": "2021-04-30T02:50:59.766354Z",
     "shell.execute_reply.started": "2021-04-30T02:50:59.758453Z"
    },
    "tags": []
   },
   "outputs": [
    {
     "data": {
      "text/html": [
       "<div>\n",
       "<style scoped>\n",
       "    .dataframe tbody tr th:only-of-type {\n",
       "        vertical-align: middle;\n",
       "    }\n",
       "\n",
       "    .dataframe tbody tr th {\n",
       "        vertical-align: top;\n",
       "    }\n",
       "\n",
       "    .dataframe thead th {\n",
       "        text-align: right;\n",
       "    }\n",
       "</style>\n",
       "<table border=\"1\" class=\"dataframe\">\n",
       "  <thead>\n",
       "    <tr style=\"text-align: right;\">\n",
       "      <th></th>\n",
       "      <th>A</th>\n",
       "    </tr>\n",
       "  </thead>\n",
       "  <tbody>\n",
       "    <tr>\n",
       "      <th>0</th>\n",
       "      <td>3.141593</td>\n",
       "    </tr>\n",
       "    <tr>\n",
       "      <th>1</th>\n",
       "      <td>3.000000</td>\n",
       "    </tr>\n",
       "    <tr>\n",
       "      <th>2</th>\n",
       "      <td>12.000000</td>\n",
       "    </tr>\n",
       "  </tbody>\n",
       "</table>\n",
       "</div>"
      ],
      "text/plain": [
       "           A\n",
       "0   3.141593\n",
       "1   3.000000\n",
       "2  12.000000"
      ]
     },
     "execution_count": 6,
     "metadata": {},
     "output_type": "execute_result"
    }
   ],
   "source": [
    "pd.DataFrame({\"A\":[3.141592653589793238462643383279, 3.0, 12.0]})#.astype(\"int8\")"
   ]
  },
  {
   "cell_type": "code",
   "execution_count": 7,
   "id": "e628725d-5205-47eb-a4b1-41b3621f9d1e",
   "metadata": {
    "execution": {
     "iopub.execute_input": "2021-04-30T02:51:00.160715Z",
     "iopub.status.busy": "2021-04-30T02:51:00.160264Z",
     "iopub.status.idle": "2021-04-30T02:51:00.172803Z",
     "shell.execute_reply": "2021-04-30T02:51:00.171936Z",
     "shell.execute_reply.started": "2021-04-30T02:51:00.160665Z"
    },
    "tags": []
   },
   "outputs": [
    {
     "data": {
      "text/html": [
       "<div>\n",
       "<style scoped>\n",
       "    .dataframe tbody tr th:only-of-type {\n",
       "        vertical-align: middle;\n",
       "    }\n",
       "\n",
       "    .dataframe tbody tr th {\n",
       "        vertical-align: top;\n",
       "    }\n",
       "\n",
       "    .dataframe thead th {\n",
       "        text-align: right;\n",
       "    }\n",
       "</style>\n",
       "<table border=\"1\" class=\"dataframe\">\n",
       "  <thead>\n",
       "    <tr style=\"text-align: right;\">\n",
       "      <th></th>\n",
       "      <th>A</th>\n",
       "    </tr>\n",
       "  </thead>\n",
       "  <tbody>\n",
       "    <tr>\n",
       "      <th>0</th>\n",
       "      <td>3.140625</td>\n",
       "    </tr>\n",
       "    <tr>\n",
       "      <th>1</th>\n",
       "      <td>3.000000</td>\n",
       "    </tr>\n",
       "    <tr>\n",
       "      <th>2</th>\n",
       "      <td>12.000000</td>\n",
       "    </tr>\n",
       "  </tbody>\n",
       "</table>\n",
       "</div>"
      ],
      "text/plain": [
       "           A\n",
       "0   3.140625\n",
       "1   3.000000\n",
       "2  12.000000"
      ]
     },
     "execution_count": 7,
     "metadata": {},
     "output_type": "execute_result"
    }
   ],
   "source": [
    "pd.DataFrame({\"A\":[3.141592653589793238462643383279, 3.0, 12.0]}).astype(\"float16\")"
   ]
  },
  {
   "cell_type": "markdown",
   "id": "7571a5ad-a918-4775-8b11-338b8e4fa028",
   "metadata": {},
   "source": [
    "#### Mixed dtypes"
   ]
  },
  {
   "cell_type": "code",
   "execution_count": 8,
   "id": "104973cf-9a35-4a36-b56c-e0f5e3dc8589",
   "metadata": {
    "execution": {
     "iopub.execute_input": "2021-04-30T02:51:01.039958Z",
     "iopub.status.busy": "2021-04-30T02:51:01.039274Z",
     "iopub.status.idle": "2021-04-30T02:51:01.043692Z",
     "shell.execute_reply": "2021-04-30T02:51:01.043021Z",
     "shell.execute_reply.started": "2021-04-30T02:51:01.039888Z"
    },
    "tags": []
   },
   "outputs": [],
   "source": [
    "df = pd.DataFrame(list(range(100)))"
   ]
  },
  {
   "cell_type": "code",
   "execution_count": 9,
   "id": "925861ed-1533-435c-9f12-3b0004034e38",
   "metadata": {
    "execution": {
     "iopub.execute_input": "2021-04-30T02:51:02.088130Z",
     "iopub.status.busy": "2021-04-30T02:51:02.087933Z",
     "iopub.status.idle": "2021-04-30T02:51:02.092269Z",
     "shell.execute_reply": "2021-04-30T02:51:02.091824Z",
     "shell.execute_reply.started": "2021-04-30T02:51:02.088108Z"
    },
    "tags": []
   },
   "outputs": [
    {
     "data": {
      "text/plain": [
       "0    int64\n",
       "dtype: object"
      ]
     },
     "execution_count": 9,
     "metadata": {},
     "output_type": "execute_result"
    }
   ],
   "source": [
    "df.dtypes"
   ]
  },
  {
   "cell_type": "code",
   "execution_count": 10,
   "id": "9f517e60-d826-4290-b31a-0c7c8f20106d",
   "metadata": {
    "execution": {
     "iopub.execute_input": "2021-04-30T02:51:02.620679Z",
     "iopub.status.busy": "2021-04-30T02:51:02.620097Z",
     "iopub.status.idle": "2021-04-30T02:51:02.625813Z",
     "shell.execute_reply": "2021-04-30T02:51:02.625216Z",
     "shell.execute_reply.started": "2021-04-30T02:51:02.620610Z"
    },
    "tags": []
   },
   "outputs": [],
   "source": [
    "df.iloc[2] = \"coucou\""
   ]
  },
  {
   "cell_type": "code",
   "execution_count": 11,
   "id": "7360416a-a427-43bd-9ed0-e71f2516d747",
   "metadata": {
    "execution": {
     "iopub.execute_input": "2021-04-30T02:51:03.224793Z",
     "iopub.status.busy": "2021-04-30T02:51:03.224210Z",
     "iopub.status.idle": "2021-04-30T02:51:03.230982Z",
     "shell.execute_reply": "2021-04-30T02:51:03.230439Z",
     "shell.execute_reply.started": "2021-04-30T02:51:03.224727Z"
    },
    "tags": []
   },
   "outputs": [
    {
     "data": {
      "text/plain": [
       "0    object\n",
       "dtype: object"
      ]
     },
     "execution_count": 11,
     "metadata": {},
     "output_type": "execute_result"
    }
   ],
   "source": [
    "df.dtypes"
   ]
  },
  {
   "cell_type": "code",
   "execution_count": 12,
   "id": "8d6e4ad4-b93d-4ca7-8b05-62534d6eacd1",
   "metadata": {
    "execution": {
     "iopub.execute_input": "2021-04-30T02:51:03.670497Z",
     "iopub.status.busy": "2021-04-30T02:51:03.669952Z",
     "iopub.status.idle": "2021-04-30T02:51:03.679870Z",
     "shell.execute_reply": "2021-04-30T02:51:03.678392Z",
     "shell.execute_reply.started": "2021-04-30T02:51:03.670435Z"
    },
    "tags": []
   },
   "outputs": [
    {
     "data": {
      "text/plain": [
       "int"
      ]
     },
     "execution_count": 12,
     "metadata": {},
     "output_type": "execute_result"
    }
   ],
   "source": [
    "type(df.iloc[5].values[0])"
   ]
  },
  {
   "cell_type": "markdown",
   "id": "d0d8bcbe-bd87-4742-877e-58f6ea9bd9ad",
   "metadata": {},
   "source": [
    "Il arrive souvent d'avoir des mixed dtypes en lisant un csv car pandas les lis en chunk, puis attribue un type.   \n",
    "Souvent sur les départements, 2A et 2B vont générer des mixed dtypes sur la série."
   ]
  },
  {
   "cell_type": "markdown",
   "id": "b75b84f2-0009-4d44-b0d4-0110149f8fd1",
   "metadata": {},
   "source": [
    "#### L'index qui joue des tours"
   ]
  },
  {
   "cell_type": "code",
   "execution_count": 13,
   "id": "fe130cc5-300f-46c8-bbd4-272b7a9537ef",
   "metadata": {
    "execution": {
     "iopub.execute_input": "2021-04-30T02:51:07.280362Z",
     "iopub.status.busy": "2021-04-30T02:51:07.279818Z",
     "iopub.status.idle": "2021-04-30T02:51:07.289202Z",
     "shell.execute_reply": "2021-04-30T02:51:07.287509Z",
     "shell.execute_reply.started": "2021-04-30T02:51:07.280276Z"
    },
    "tags": []
   },
   "outputs": [],
   "source": [
    "df1 = pd.DataFrame(list(range(100)))\n",
    "df2 = pd.DataFrame(list(range(100)))"
   ]
  },
  {
   "cell_type": "code",
   "execution_count": 14,
   "id": "a1b9bd23-3f25-448b-a40e-daa365e43185",
   "metadata": {
    "execution": {
     "iopub.execute_input": "2021-04-30T02:51:07.919447Z",
     "iopub.status.busy": "2021-04-30T02:51:07.918894Z",
     "iopub.status.idle": "2021-04-30T02:51:07.930922Z",
     "shell.execute_reply": "2021-04-30T02:51:07.929251Z",
     "shell.execute_reply.started": "2021-04-30T02:51:07.919382Z"
    },
    "tags": []
   },
   "outputs": [],
   "source": [
    "df1[\"Somme\"] = df1+df2"
   ]
  },
  {
   "cell_type": "code",
   "execution_count": 15,
   "id": "fbcd8620-0645-465e-afb2-c2ae9cc09261",
   "metadata": {
    "execution": {
     "iopub.execute_input": "2021-04-30T02:51:08.468213Z",
     "iopub.status.busy": "2021-04-30T02:51:08.467785Z",
     "iopub.status.idle": "2021-04-30T02:51:08.480873Z",
     "shell.execute_reply": "2021-04-30T02:51:08.480220Z",
     "shell.execute_reply.started": "2021-04-30T02:51:08.468159Z"
    },
    "tags": []
   },
   "outputs": [
    {
     "data": {
      "text/html": [
       "<div>\n",
       "<style scoped>\n",
       "    .dataframe tbody tr th:only-of-type {\n",
       "        vertical-align: middle;\n",
       "    }\n",
       "\n",
       "    .dataframe tbody tr th {\n",
       "        vertical-align: top;\n",
       "    }\n",
       "\n",
       "    .dataframe thead th {\n",
       "        text-align: right;\n",
       "    }\n",
       "</style>\n",
       "<table border=\"1\" class=\"dataframe\">\n",
       "  <thead>\n",
       "    <tr style=\"text-align: right;\">\n",
       "      <th></th>\n",
       "      <th>0</th>\n",
       "      <th>Somme</th>\n",
       "    </tr>\n",
       "  </thead>\n",
       "  <tbody>\n",
       "    <tr>\n",
       "      <th>0</th>\n",
       "      <td>0</td>\n",
       "      <td>0</td>\n",
       "    </tr>\n",
       "    <tr>\n",
       "      <th>1</th>\n",
       "      <td>1</td>\n",
       "      <td>2</td>\n",
       "    </tr>\n",
       "    <tr>\n",
       "      <th>2</th>\n",
       "      <td>2</td>\n",
       "      <td>4</td>\n",
       "    </tr>\n",
       "    <tr>\n",
       "      <th>3</th>\n",
       "      <td>3</td>\n",
       "      <td>6</td>\n",
       "    </tr>\n",
       "    <tr>\n",
       "      <th>4</th>\n",
       "      <td>4</td>\n",
       "      <td>8</td>\n",
       "    </tr>\n",
       "    <tr>\n",
       "      <th>...</th>\n",
       "      <td>...</td>\n",
       "      <td>...</td>\n",
       "    </tr>\n",
       "    <tr>\n",
       "      <th>95</th>\n",
       "      <td>95</td>\n",
       "      <td>190</td>\n",
       "    </tr>\n",
       "    <tr>\n",
       "      <th>96</th>\n",
       "      <td>96</td>\n",
       "      <td>192</td>\n",
       "    </tr>\n",
       "    <tr>\n",
       "      <th>97</th>\n",
       "      <td>97</td>\n",
       "      <td>194</td>\n",
       "    </tr>\n",
       "    <tr>\n",
       "      <th>98</th>\n",
       "      <td>98</td>\n",
       "      <td>196</td>\n",
       "    </tr>\n",
       "    <tr>\n",
       "      <th>99</th>\n",
       "      <td>99</td>\n",
       "      <td>198</td>\n",
       "    </tr>\n",
       "  </tbody>\n",
       "</table>\n",
       "<p>100 rows × 2 columns</p>\n",
       "</div>"
      ],
      "text/plain": [
       "     0  Somme\n",
       "0    0      0\n",
       "1    1      2\n",
       "2    2      4\n",
       "3    3      6\n",
       "4    4      8\n",
       "..  ..    ...\n",
       "95  95    190\n",
       "96  96    192\n",
       "97  97    194\n",
       "98  98    196\n",
       "99  99    198\n",
       "\n",
       "[100 rows x 2 columns]"
      ]
     },
     "execution_count": 15,
     "metadata": {},
     "output_type": "execute_result"
    }
   ],
   "source": [
    "df1  # On a bien créé la somme de la colonne de df1  et de la conlonne de df2"
   ]
  },
  {
   "cell_type": "code",
   "execution_count": 16,
   "id": "5c49643c-476e-4f59-9a0c-0a1e3282b7f8",
   "metadata": {
    "execution": {
     "iopub.execute_input": "2021-04-30T02:51:18.857573Z",
     "iopub.status.busy": "2021-04-30T02:51:18.857375Z",
     "iopub.status.idle": "2021-04-30T02:51:18.860496Z",
     "shell.execute_reply": "2021-04-30T02:51:18.859991Z",
     "shell.execute_reply.started": "2021-04-30T02:51:18.857551Z"
    },
    "tags": []
   },
   "outputs": [],
   "source": [
    "df2.index = list(range(50, 150))"
   ]
  },
  {
   "cell_type": "code",
   "execution_count": 17,
   "id": "f1b821c3-27ef-4716-95f8-2a6d3fa09dd0",
   "metadata": {
    "execution": {
     "iopub.execute_input": "2021-04-30T02:51:19.178989Z",
     "iopub.status.busy": "2021-04-30T02:51:19.178520Z",
     "iopub.status.idle": "2021-04-30T02:51:19.189622Z",
     "shell.execute_reply": "2021-04-30T02:51:19.188827Z",
     "shell.execute_reply.started": "2021-04-30T02:51:19.178935Z"
    },
    "tags": []
   },
   "outputs": [
    {
     "data": {
      "text/html": [
       "<div>\n",
       "<style scoped>\n",
       "    .dataframe tbody tr th:only-of-type {\n",
       "        vertical-align: middle;\n",
       "    }\n",
       "\n",
       "    .dataframe tbody tr th {\n",
       "        vertical-align: top;\n",
       "    }\n",
       "\n",
       "    .dataframe thead th {\n",
       "        text-align: right;\n",
       "    }\n",
       "</style>\n",
       "<table border=\"1\" class=\"dataframe\">\n",
       "  <thead>\n",
       "    <tr style=\"text-align: right;\">\n",
       "      <th></th>\n",
       "      <th>0</th>\n",
       "    </tr>\n",
       "  </thead>\n",
       "  <tbody>\n",
       "    <tr>\n",
       "      <th>50</th>\n",
       "      <td>0</td>\n",
       "    </tr>\n",
       "    <tr>\n",
       "      <th>51</th>\n",
       "      <td>1</td>\n",
       "    </tr>\n",
       "    <tr>\n",
       "      <th>52</th>\n",
       "      <td>2</td>\n",
       "    </tr>\n",
       "    <tr>\n",
       "      <th>53</th>\n",
       "      <td>3</td>\n",
       "    </tr>\n",
       "    <tr>\n",
       "      <th>54</th>\n",
       "      <td>4</td>\n",
       "    </tr>\n",
       "    <tr>\n",
       "      <th>...</th>\n",
       "      <td>...</td>\n",
       "    </tr>\n",
       "    <tr>\n",
       "      <th>145</th>\n",
       "      <td>95</td>\n",
       "    </tr>\n",
       "    <tr>\n",
       "      <th>146</th>\n",
       "      <td>96</td>\n",
       "    </tr>\n",
       "    <tr>\n",
       "      <th>147</th>\n",
       "      <td>97</td>\n",
       "    </tr>\n",
       "    <tr>\n",
       "      <th>148</th>\n",
       "      <td>98</td>\n",
       "    </tr>\n",
       "    <tr>\n",
       "      <th>149</th>\n",
       "      <td>99</td>\n",
       "    </tr>\n",
       "  </tbody>\n",
       "</table>\n",
       "<p>100 rows × 1 columns</p>\n",
       "</div>"
      ],
      "text/plain": [
       "      0\n",
       "50    0\n",
       "51    1\n",
       "52    2\n",
       "53    3\n",
       "54    4\n",
       "..   ..\n",
       "145  95\n",
       "146  96\n",
       "147  97\n",
       "148  98\n",
       "149  99\n",
       "\n",
       "[100 rows x 1 columns]"
      ]
     },
     "execution_count": 17,
     "metadata": {},
     "output_type": "execute_result"
    }
   ],
   "source": [
    "df2"
   ]
  },
  {
   "cell_type": "code",
   "execution_count": 18,
   "id": "f16b4452-c5be-446e-b245-724bd099725e",
   "metadata": {
    "execution": {
     "iopub.execute_input": "2021-04-30T02:51:22.415997Z",
     "iopub.status.busy": "2021-04-30T02:51:22.415574Z",
     "iopub.status.idle": "2021-04-30T02:51:22.432066Z",
     "shell.execute_reply": "2021-04-30T02:51:22.430715Z",
     "shell.execute_reply.started": "2021-04-30T02:51:22.415948Z"
    },
    "tags": []
   },
   "outputs": [],
   "source": [
    "df1[\"Somme\"] = df1+df2"
   ]
  },
  {
   "cell_type": "code",
   "execution_count": 19,
   "id": "972c3b15-639f-4f1e-b033-80375376536e",
   "metadata": {
    "execution": {
     "iopub.execute_input": "2021-04-30T02:51:22.561668Z",
     "iopub.status.busy": "2021-04-30T02:51:22.561455Z",
     "iopub.status.idle": "2021-04-30T02:51:22.569647Z",
     "shell.execute_reply": "2021-04-30T02:51:22.569237Z",
     "shell.execute_reply.started": "2021-04-30T02:51:22.561642Z"
    },
    "tags": []
   },
   "outputs": [
    {
     "data": {
      "text/html": [
       "<div>\n",
       "<style scoped>\n",
       "    .dataframe tbody tr th:only-of-type {\n",
       "        vertical-align: middle;\n",
       "    }\n",
       "\n",
       "    .dataframe tbody tr th {\n",
       "        vertical-align: top;\n",
       "    }\n",
       "\n",
       "    .dataframe thead th {\n",
       "        text-align: right;\n",
       "    }\n",
       "</style>\n",
       "<table border=\"1\" class=\"dataframe\">\n",
       "  <thead>\n",
       "    <tr style=\"text-align: right;\">\n",
       "      <th></th>\n",
       "      <th>0</th>\n",
       "      <th>Somme</th>\n",
       "    </tr>\n",
       "  </thead>\n",
       "  <tbody>\n",
       "    <tr>\n",
       "      <th>0</th>\n",
       "      <td>0</td>\n",
       "      <td>NaN</td>\n",
       "    </tr>\n",
       "    <tr>\n",
       "      <th>1</th>\n",
       "      <td>1</td>\n",
       "      <td>NaN</td>\n",
       "    </tr>\n",
       "    <tr>\n",
       "      <th>2</th>\n",
       "      <td>2</td>\n",
       "      <td>NaN</td>\n",
       "    </tr>\n",
       "    <tr>\n",
       "      <th>3</th>\n",
       "      <td>3</td>\n",
       "      <td>NaN</td>\n",
       "    </tr>\n",
       "    <tr>\n",
       "      <th>4</th>\n",
       "      <td>4</td>\n",
       "      <td>NaN</td>\n",
       "    </tr>\n",
       "    <tr>\n",
       "      <th>...</th>\n",
       "      <td>...</td>\n",
       "      <td>...</td>\n",
       "    </tr>\n",
       "    <tr>\n",
       "      <th>95</th>\n",
       "      <td>95</td>\n",
       "      <td>140.0</td>\n",
       "    </tr>\n",
       "    <tr>\n",
       "      <th>96</th>\n",
       "      <td>96</td>\n",
       "      <td>142.0</td>\n",
       "    </tr>\n",
       "    <tr>\n",
       "      <th>97</th>\n",
       "      <td>97</td>\n",
       "      <td>144.0</td>\n",
       "    </tr>\n",
       "    <tr>\n",
       "      <th>98</th>\n",
       "      <td>98</td>\n",
       "      <td>146.0</td>\n",
       "    </tr>\n",
       "    <tr>\n",
       "      <th>99</th>\n",
       "      <td>99</td>\n",
       "      <td>148.0</td>\n",
       "    </tr>\n",
       "  </tbody>\n",
       "</table>\n",
       "<p>100 rows × 2 columns</p>\n",
       "</div>"
      ],
      "text/plain": [
       "     0  Somme\n",
       "0    0    NaN\n",
       "1    1    NaN\n",
       "2    2    NaN\n",
       "3    3    NaN\n",
       "4    4    NaN\n",
       "..  ..    ...\n",
       "95  95  140.0\n",
       "96  96  142.0\n",
       "97  97  144.0\n",
       "98  98  146.0\n",
       "99  99  148.0\n",
       "\n",
       "[100 rows x 2 columns]"
      ]
     },
     "execution_count": 19,
     "metadata": {},
     "output_type": "execute_result"
    }
   ],
   "source": [
    "df1"
   ]
  },
  {
   "cell_type": "markdown",
   "id": "60b89157-ceed-4458-b487-5017b498f6f0",
   "metadata": {},
   "source": [
    "Il manque les 50 premières valeurs. Ce comportement vaut aussi pour les conditions, les masks, etc !"
   ]
  },
  {
   "cell_type": "code",
   "execution_count": 20,
   "id": "4cf9dfbd-74b8-4a16-a425-58070788abe8",
   "metadata": {
    "execution": {
     "iopub.execute_input": "2021-04-30T02:51:28.429043Z",
     "iopub.status.busy": "2021-04-30T02:51:28.428463Z",
     "iopub.status.idle": "2021-04-30T02:51:28.434624Z",
     "shell.execute_reply": "2021-04-30T02:51:28.434029Z",
     "shell.execute_reply.started": "2021-04-30T02:51:28.428976Z"
    },
    "tags": []
   },
   "outputs": [],
   "source": [
    "df1 = pd.DataFrame(list(range(100)))\n",
    "df2 = pd.DataFrame(list(range(100)))"
   ]
  },
  {
   "cell_type": "code",
   "execution_count": 21,
   "id": "e8c138cd-586b-49dc-a13f-86baaab66acf",
   "metadata": {
    "execution": {
     "iopub.execute_input": "2021-04-30T02:51:28.705944Z",
     "iopub.status.busy": "2021-04-30T02:51:28.705528Z",
     "iopub.status.idle": "2021-04-30T02:51:28.715995Z",
     "shell.execute_reply": "2021-04-30T02:51:28.715285Z",
     "shell.execute_reply.started": "2021-04-30T02:51:28.705895Z"
    },
    "tags": []
   },
   "outputs": [
    {
     "data": {
      "text/html": [
       "<div>\n",
       "<style scoped>\n",
       "    .dataframe tbody tr th:only-of-type {\n",
       "        vertical-align: middle;\n",
       "    }\n",
       "\n",
       "    .dataframe tbody tr th {\n",
       "        vertical-align: top;\n",
       "    }\n",
       "\n",
       "    .dataframe thead th {\n",
       "        text-align: right;\n",
       "    }\n",
       "</style>\n",
       "<table border=\"1\" class=\"dataframe\">\n",
       "  <thead>\n",
       "    <tr style=\"text-align: right;\">\n",
       "      <th></th>\n",
       "      <th>0</th>\n",
       "    </tr>\n",
       "  </thead>\n",
       "  <tbody>\n",
       "    <tr>\n",
       "      <th>0</th>\n",
       "      <td>0</td>\n",
       "    </tr>\n",
       "    <tr>\n",
       "      <th>1</th>\n",
       "      <td>1</td>\n",
       "    </tr>\n",
       "    <tr>\n",
       "      <th>2</th>\n",
       "      <td>2</td>\n",
       "    </tr>\n",
       "    <tr>\n",
       "      <th>3</th>\n",
       "      <td>3</td>\n",
       "    </tr>\n",
       "    <tr>\n",
       "      <th>4</th>\n",
       "      <td>4</td>\n",
       "    </tr>\n",
       "    <tr>\n",
       "      <th>...</th>\n",
       "      <td>...</td>\n",
       "    </tr>\n",
       "    <tr>\n",
       "      <th>95</th>\n",
       "      <td>95</td>\n",
       "    </tr>\n",
       "    <tr>\n",
       "      <th>96</th>\n",
       "      <td>96</td>\n",
       "    </tr>\n",
       "    <tr>\n",
       "      <th>97</th>\n",
       "      <td>97</td>\n",
       "    </tr>\n",
       "    <tr>\n",
       "      <th>98</th>\n",
       "      <td>98</td>\n",
       "    </tr>\n",
       "    <tr>\n",
       "      <th>99</th>\n",
       "      <td>99</td>\n",
       "    </tr>\n",
       "  </tbody>\n",
       "</table>\n",
       "<p>100 rows × 1 columns</p>\n",
       "</div>"
      ],
      "text/plain": [
       "     0\n",
       "0    0\n",
       "1    1\n",
       "2    2\n",
       "3    3\n",
       "4    4\n",
       "..  ..\n",
       "95  95\n",
       "96  96\n",
       "97  97\n",
       "98  98\n",
       "99  99\n",
       "\n",
       "[100 rows x 1 columns]"
      ]
     },
     "execution_count": 21,
     "metadata": {},
     "output_type": "execute_result"
    }
   ],
   "source": [
    "df1"
   ]
  },
  {
   "cell_type": "markdown",
   "id": "7234eba3-9e12-47f8-8e1c-16d5a296b264",
   "metadata": {},
   "source": [
    "### View vs copy"
   ]
  },
  {
   "cell_type": "markdown",
   "id": "eaee4d50-f613-4113-8a85-3837e481b181",
   "metadata": {},
   "source": [
    "https://pandas.pydata.org/docs/user_guide/basics.html?highlight=dtype#copying"
   ]
  },
  {
   "cell_type": "code",
   "execution_count": null,
   "id": "19566f6c-aecf-48dd-80de-6b255e9ba33e",
   "metadata": {},
   "outputs": [],
   "source": []
  },
  {
   "cell_type": "markdown",
   "id": "89823f6a-5517-471b-ab90-14a50a30cc47",
   "metadata": {},
   "source": [
    "### Approximations en python"
   ]
  },
  {
   "cell_type": "code",
   "execution_count": 27,
   "id": "1bcc1b3d-f7a6-44df-b0ef-a5c9d871a432",
   "metadata": {
    "execution": {
     "iopub.execute_input": "2021-04-30T02:51:59.557793Z",
     "iopub.status.busy": "2021-04-30T02:51:59.557232Z",
     "iopub.status.idle": "2021-04-30T02:51:59.563434Z",
     "shell.execute_reply": "2021-04-30T02:51:59.562906Z",
     "shell.execute_reply.started": "2021-04-30T02:51:59.557727Z"
    },
    "tags": []
   },
   "outputs": [
    {
     "data": {
      "text/plain": [
       "0.9999999999999999"
      ]
     },
     "execution_count": 27,
     "metadata": {},
     "output_type": "execute_result"
    }
   ],
   "source": [
    "(19/155)*(155/19)"
   ]
  },
  {
   "cell_type": "code",
   "execution_count": 28,
   "id": "bd2e09dc-dd12-416c-9014-ee1ae81934df",
   "metadata": {
    "execution": {
     "iopub.execute_input": "2021-04-30T02:52:00.039487Z",
     "iopub.status.busy": "2021-04-30T02:52:00.038919Z",
     "iopub.status.idle": "2021-04-30T02:52:00.047008Z",
     "shell.execute_reply": "2021-04-30T02:52:00.045036Z",
     "shell.execute_reply.started": "2021-04-30T02:52:00.039419Z"
    },
    "tags": []
   },
   "outputs": [],
   "source": [
    "a = (19/155)"
   ]
  },
  {
   "cell_type": "code",
   "execution_count": 29,
   "id": "8a615848-5a26-48d5-bbdc-259d74c6fbef",
   "metadata": {
    "execution": {
     "iopub.execute_input": "2021-04-30T02:52:00.223076Z",
     "iopub.status.busy": "2021-04-30T02:52:00.222357Z",
     "iopub.status.idle": "2021-04-30T02:52:00.232139Z",
     "shell.execute_reply": "2021-04-30T02:52:00.230702Z",
     "shell.execute_reply.started": "2021-04-30T02:52:00.223006Z"
    },
    "tags": []
   },
   "outputs": [
    {
     "data": {
      "text/plain": [
       "1.0"
      ]
     },
     "execution_count": 29,
     "metadata": {},
     "output_type": "execute_result"
    }
   ],
   "source": [
    "a*(1/a)"
   ]
  },
  {
   "cell_type": "code",
   "execution_count": 30,
   "id": "096cd641-b6b7-4885-8e18-d1513e4a7cbd",
   "metadata": {
    "execution": {
     "iopub.execute_input": "2021-04-30T02:52:00.646130Z",
     "iopub.status.busy": "2021-04-30T02:52:00.645608Z",
     "iopub.status.idle": "2021-04-30T02:52:00.653313Z",
     "shell.execute_reply": "2021-04-30T02:52:00.651351Z",
     "shell.execute_reply.started": "2021-04-30T02:52:00.646068Z"
    },
    "tags": []
   },
   "outputs": [],
   "source": [
    "b = (155/19)"
   ]
  },
  {
   "cell_type": "code",
   "execution_count": 31,
   "id": "ebec8d4c-111c-4e83-82e6-e1e9fdd205e1",
   "metadata": {
    "execution": {
     "iopub.execute_input": "2021-04-30T02:52:00.926555Z",
     "iopub.status.busy": "2021-04-30T02:52:00.925975Z",
     "iopub.status.idle": "2021-04-30T02:52:00.936785Z",
     "shell.execute_reply": "2021-04-30T02:52:00.934806Z",
     "shell.execute_reply.started": "2021-04-30T02:52:00.926487Z"
    },
    "tags": []
   },
   "outputs": [
    {
     "data": {
      "text/plain": [
       "0.9999999999999999"
      ]
     },
     "execution_count": 31,
     "metadata": {},
     "output_type": "execute_result"
    }
   ],
   "source": [
    "a * b"
   ]
  },
  {
   "cell_type": "markdown",
   "id": "0e85c5d9-46b5-4bab-9279-f224db5a72f9",
   "metadata": {},
   "source": [
    "##### Heureusement il y a numpy"
   ]
  },
  {
   "cell_type": "code",
   "execution_count": 32,
   "id": "eebde816-f44b-4db5-ab25-8d2797dfff4d",
   "metadata": {
    "execution": {
     "iopub.execute_input": "2021-04-30T02:52:01.511411Z",
     "iopub.status.busy": "2021-04-30T02:52:01.510847Z",
     "iopub.status.idle": "2021-04-30T02:52:01.518656Z",
     "shell.execute_reply": "2021-04-30T02:52:01.516635Z",
     "shell.execute_reply.started": "2021-04-30T02:52:01.511343Z"
    },
    "tags": []
   },
   "outputs": [],
   "source": [
    "import numpy as np"
   ]
  },
  {
   "cell_type": "code",
   "execution_count": 33,
   "id": "e5cd616b-462a-4088-ab08-d20490dd0aa8",
   "metadata": {
    "execution": {
     "iopub.execute_input": "2021-04-30T02:52:01.883078Z",
     "iopub.status.busy": "2021-04-30T02:52:01.882504Z",
     "iopub.status.idle": "2021-04-30T02:52:01.888250Z",
     "shell.execute_reply": "2021-04-30T02:52:01.887691Z",
     "shell.execute_reply.started": "2021-04-30T02:52:01.883013Z"
    },
    "tags": []
   },
   "outputs": [],
   "source": [
    "a = np.array([19])/np.array([155])\n",
    "b = np.array([155])/np.array([19])"
   ]
  },
  {
   "cell_type": "code",
   "execution_count": 34,
   "id": "bedae8fa-580f-4acf-8352-db9309d431cd",
   "metadata": {
    "execution": {
     "iopub.execute_input": "2021-04-30T02:52:02.352013Z",
     "iopub.status.busy": "2021-04-30T02:52:02.351451Z",
     "iopub.status.idle": "2021-04-30T02:52:02.357604Z",
     "shell.execute_reply": "2021-04-30T02:52:02.357101Z",
     "shell.execute_reply.started": "2021-04-30T02:52:02.351946Z"
    },
    "tags": []
   },
   "outputs": [
    {
     "data": {
      "text/plain": [
       "array([1.])"
      ]
     },
     "execution_count": 34,
     "metadata": {},
     "output_type": "execute_result"
    }
   ],
   "source": [
    "a * b"
   ]
  },
  {
   "cell_type": "code",
   "execution_count": 35,
   "id": "d6c0e6ee-79b9-44a9-b5f0-c2545bc916e1",
   "metadata": {
    "execution": {
     "iopub.execute_input": "2021-04-30T02:52:03.397973Z",
     "iopub.status.busy": "2021-04-30T02:52:03.397788Z",
     "iopub.status.idle": "2021-04-30T02:52:03.402040Z",
     "shell.execute_reply": "2021-04-30T02:52:03.401461Z",
     "shell.execute_reply.started": "2021-04-30T02:52:03.397952Z"
    },
    "tags": []
   },
   "outputs": [
    {
     "data": {
      "text/plain": [
       "array([1.])"
      ]
     },
     "execution_count": 35,
     "metadata": {},
     "output_type": "execute_result"
    }
   ],
   "source": [
    "(\n",
    "    (np.array([19]) / np.array([155]))\n",
    "    * (np.array([155]) / np.array([19]))\n",
    ")"
   ]
  },
  {
   "cell_type": "code",
   "execution_count": 37,
   "id": "730fe43c-acdb-4c4b-88bf-ab9512ff5980",
   "metadata": {
    "execution": {
     "iopub.execute_input": "2021-04-30T02:56:17.606005Z",
     "iopub.status.busy": "2021-04-30T02:56:17.605823Z",
     "iopub.status.idle": "2021-04-30T02:56:17.609570Z",
     "shell.execute_reply": "2021-04-30T02:56:17.609152Z",
     "shell.execute_reply.started": "2021-04-30T02:56:17.605985Z"
    },
    "tags": []
   },
   "outputs": [
    {
     "data": {
      "text/plain": [
       "array([1.])"
      ]
     },
     "execution_count": 37,
     "metadata": {},
     "output_type": "execute_result"
    }
   ],
   "source": [
    "(\n",
    "    (np.array([7]) / np.array([2153]))\n",
    "    * (np.array([2153]) / np.array([7]))\n",
    ")"
   ]
  },
  {
   "cell_type": "code",
   "execution_count": null,
   "id": "4bcb4dc4-d0e7-4df0-b323-963a6664846e",
   "metadata": {},
   "outputs": [],
   "source": []
  }
 ],
 "metadata": {
  "kernelspec": {
   "display_name": "Python 3",
   "language": "python",
   "name": "python3"
  },
  "language_info": {
   "codemirror_mode": {
    "name": "ipython",
    "version": 3
   },
   "file_extension": ".py",
   "mimetype": "text/x-python",
   "name": "python",
   "nbconvert_exporter": "python",
   "pygments_lexer": "ipython3",
   "version": "3.8.8"
  }
 },
 "nbformat": 4,
 "nbformat_minor": 5
}
