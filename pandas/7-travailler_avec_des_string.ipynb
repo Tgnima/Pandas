{
 "cells": [
  {
   "cell_type": "code",
   "execution_count": 1,
   "id": "material-chorus",
   "metadata": {
    "collapsed": true,
    "execution": {
     "iopub.execute_input": "2021-04-28T23:36:49.139130Z",
     "iopub.status.busy": "2021-04-28T23:36:49.138949Z",
     "iopub.status.idle": "2021-04-28T23:36:49.352830Z",
     "shell.execute_reply": "2021-04-28T23:36:49.352263Z",
     "shell.execute_reply.started": "2021-04-28T23:36:49.139080Z"
    },
    "jupyter": {
     "outputs_hidden": true,
     "source_hidden": true
    },
    "tags": []
   },
   "outputs": [],
   "source": [
    "import pandas as pd"
   ]
  },
  {
   "cell_type": "code",
   "execution_count": null,
   "id": "breathing-guinea",
   "metadata": {
    "collapsed": true,
    "jupyter": {
     "outputs_hidden": true,
     "source_hidden": true
    }
   },
   "outputs": [],
   "source": []
  },
  {
   "cell_type": "markdown",
   "id": "6418ea84-d313-4f28-a88f-050d78afcc21",
   "metadata": {
    "execution": {
     "iopub.execute_input": "2021-04-28T23:36:49.353563Z",
     "iopub.status.busy": "2021-04-28T23:36:49.353425Z",
     "iopub.status.idle": "2021-04-28T23:36:49.355856Z",
     "shell.execute_reply": "2021-04-28T23:36:49.355215Z",
     "shell.execute_reply.started": "2021-04-28T23:36:49.353545Z"
    }
   },
   "source": [
    "### Retour sur la base de donnée des fréquentation des musées."
   ]
  },
  {
   "cell_type": "code",
   "execution_count": 4,
   "id": "controlled-spanish",
   "metadata": {
    "collapsed": true,
    "execution": {
     "iopub.execute_input": "2021-04-28T23:37:17.050721Z",
     "iopub.status.busy": "2021-04-28T23:37:17.050144Z",
     "iopub.status.idle": "2021-04-28T23:37:17.612576Z",
     "shell.execute_reply": "2021-04-28T23:37:17.611246Z",
     "shell.execute_reply.started": "2021-04-28T23:37:17.050649Z"
    },
    "jupyter": {
     "outputs_hidden": true,
     "source_hidden": true
    },
    "tags": []
   },
   "outputs": [],
   "source": [
    "# https://www.data.gouv.fr/fr/datasets/frequentation-des-musees-de-france/\n",
    "df = pd.read_csv(\n",
    "    \"https://www.data.gouv.fr/fr/datasets/r/81e9e4c0-296d-46b0-9c49-9d092c09dcc5\")"
   ]
  },
  {
   "cell_type": "markdown",
   "id": "833b6a93-9243-428e-b87d-14648ef2d360",
   "metadata": {
    "execution": {
     "iopub.execute_input": "2021-04-28T23:37:20.063531Z",
     "iopub.status.busy": "2021-04-28T23:37:20.063326Z",
     "iopub.status.idle": "2021-04-28T23:37:20.092007Z",
     "shell.execute_reply": "2021-04-28T23:37:20.091530Z",
     "shell.execute_reply.started": "2021-04-28T23:37:20.063508Z"
    },
    "tags": []
   },
   "source": [
    "On voit que l'information qui concerne la fréquentation est contenu dans la colonne `stats`, mais dans un format difficilement exploitable."
   ]
  },
  {
   "cell_type": "markdown",
   "id": "0dbfd621-11c0-4fcd-8110-3ecdb7c4ff90",
   "metadata": {},
   "source": [
    "`payant:0;gratuit:0;label-date:01/02/2003`"
   ]
  },
  {
   "cell_type": "markdown",
   "id": "693da786-a527-4291-8fd7-b707c8653f6c",
   "metadata": {},
   "source": [
    "Comment faire pour utiliser cette information ? \n",
    "\n",
    "Avec la methode de string accessor `.str` ! "
   ]
  },
  {
   "cell_type": "code",
   "execution_count": 8,
   "id": "5ced16b7-cbee-414a-9975-d3aff503fef3",
   "metadata": {
    "collapsed": true,
    "execution": {
     "iopub.execute_input": "2021-04-28T23:44:03.361065Z",
     "iopub.status.busy": "2021-04-28T23:44:03.360884Z",
     "iopub.status.idle": "2021-04-28T23:44:03.364828Z",
     "shell.execute_reply": "2021-04-28T23:44:03.364333Z",
     "shell.execute_reply.started": "2021-04-28T23:44:03.361045Z"
    },
    "jupyter": {
     "outputs_hidden": true,
     "source_hidden": true
    },
    "tags": []
   },
   "outputs": [
    {
     "data": {
      "text/plain": [
       "<pandas.core.strings.accessor.StringMethods at 0x7f6b8dbbf100>"
      ]
     },
     "execution_count": 8,
     "metadata": {},
     "output_type": "execute_result"
    }
   ],
   "source": [
    "df.stats.str"
   ]
  },
  {
   "cell_type": "code",
   "execution_count": 10,
   "id": "ca80debe-d08f-4b76-b855-defec5933b3d",
   "metadata": {
    "collapsed": true,
    "execution": {
     "iopub.execute_input": "2021-04-28T23:44:31.386291Z",
     "iopub.status.busy": "2021-04-28T23:44:31.386089Z",
     "iopub.status.idle": "2021-04-28T23:44:31.396844Z",
     "shell.execute_reply": "2021-04-28T23:44:31.396223Z",
     "shell.execute_reply.started": "2021-04-28T23:44:31.386268Z"
    },
    "jupyter": {
     "outputs_hidden": true,
     "source_hidden": true
    },
    "tags": []
   },
   "outputs": [
    {
     "ename": "AttributeError",
     "evalue": "Can only use .str accessor with string values!",
     "output_type": "error",
     "traceback": [
      "\u001b[0;31m---------------------------------------------------------------------------\u001b[0m",
      "\u001b[0;31mAttributeError\u001b[0m                            Traceback (most recent call last)",
      "\u001b[0;32m<ipython-input-10-f6e59591d4d1>\u001b[0m in \u001b[0;36m<module>\u001b[0;34m\u001b[0m\n\u001b[0;32m----> 1\u001b[0;31m \u001b[0mdf\u001b[0m\u001b[0;34m.\u001b[0m\u001b[0mlat\u001b[0m\u001b[0;34m.\u001b[0m\u001b[0mstr\u001b[0m\u001b[0;34m\u001b[0m\u001b[0;34m\u001b[0m\u001b[0m\n\u001b[0m",
      "\u001b[0;32m~/anaconda3/envs/pfds_new/lib/python3.8/site-packages/pandas/core/generic.py\u001b[0m in \u001b[0;36m__getattr__\u001b[0;34m(self, name)\u001b[0m\n\u001b[1;32m   5459\u001b[0m             \u001b[0;32mor\u001b[0m \u001b[0mname\u001b[0m \u001b[0;32min\u001b[0m \u001b[0mself\u001b[0m\u001b[0;34m.\u001b[0m\u001b[0m_accessors\u001b[0m\u001b[0;34m\u001b[0m\u001b[0;34m\u001b[0m\u001b[0m\n\u001b[1;32m   5460\u001b[0m         ):\n\u001b[0;32m-> 5461\u001b[0;31m             \u001b[0;32mreturn\u001b[0m \u001b[0mobject\u001b[0m\u001b[0;34m.\u001b[0m\u001b[0m__getattribute__\u001b[0m\u001b[0;34m(\u001b[0m\u001b[0mself\u001b[0m\u001b[0;34m,\u001b[0m \u001b[0mname\u001b[0m\u001b[0;34m)\u001b[0m\u001b[0;34m\u001b[0m\u001b[0;34m\u001b[0m\u001b[0m\n\u001b[0m\u001b[1;32m   5462\u001b[0m         \u001b[0;32melse\u001b[0m\u001b[0;34m:\u001b[0m\u001b[0;34m\u001b[0m\u001b[0;34m\u001b[0m\u001b[0m\n\u001b[1;32m   5463\u001b[0m             \u001b[0;32mif\u001b[0m \u001b[0mself\u001b[0m\u001b[0;34m.\u001b[0m\u001b[0m_info_axis\u001b[0m\u001b[0;34m.\u001b[0m\u001b[0m_can_hold_identifiers_and_holds_name\u001b[0m\u001b[0;34m(\u001b[0m\u001b[0mname\u001b[0m\u001b[0;34m)\u001b[0m\u001b[0;34m:\u001b[0m\u001b[0;34m\u001b[0m\u001b[0;34m\u001b[0m\u001b[0m\n",
      "\u001b[0;32m~/anaconda3/envs/pfds_new/lib/python3.8/site-packages/pandas/core/accessor.py\u001b[0m in \u001b[0;36m__get__\u001b[0;34m(self, obj, cls)\u001b[0m\n\u001b[1;32m    178\u001b[0m             \u001b[0;31m# we're accessing the attribute of the class, i.e., Dataset.geo\u001b[0m\u001b[0;34m\u001b[0m\u001b[0;34m\u001b[0m\u001b[0;34m\u001b[0m\u001b[0m\n\u001b[1;32m    179\u001b[0m             \u001b[0;32mreturn\u001b[0m \u001b[0mself\u001b[0m\u001b[0;34m.\u001b[0m\u001b[0m_accessor\u001b[0m\u001b[0;34m\u001b[0m\u001b[0;34m\u001b[0m\u001b[0m\n\u001b[0;32m--> 180\u001b[0;31m         \u001b[0maccessor_obj\u001b[0m \u001b[0;34m=\u001b[0m \u001b[0mself\u001b[0m\u001b[0;34m.\u001b[0m\u001b[0m_accessor\u001b[0m\u001b[0;34m(\u001b[0m\u001b[0mobj\u001b[0m\u001b[0;34m)\u001b[0m\u001b[0;34m\u001b[0m\u001b[0;34m\u001b[0m\u001b[0m\n\u001b[0m\u001b[1;32m    181\u001b[0m         \u001b[0;31m# Replace the property with the accessor object. Inspired by:\u001b[0m\u001b[0;34m\u001b[0m\u001b[0;34m\u001b[0m\u001b[0;34m\u001b[0m\u001b[0m\n\u001b[1;32m    182\u001b[0m         \u001b[0;31m# https://www.pydanny.com/cached-property.html\u001b[0m\u001b[0;34m\u001b[0m\u001b[0;34m\u001b[0m\u001b[0;34m\u001b[0m\u001b[0m\n",
      "\u001b[0;32m~/anaconda3/envs/pfds_new/lib/python3.8/site-packages/pandas/core/strings/accessor.py\u001b[0m in \u001b[0;36m__init__\u001b[0;34m(self, data)\u001b[0m\n\u001b[1;32m    152\u001b[0m         \u001b[0;32mfrom\u001b[0m \u001b[0mpandas\u001b[0m\u001b[0;34m.\u001b[0m\u001b[0mcore\u001b[0m\u001b[0;34m.\u001b[0m\u001b[0marrays\u001b[0m\u001b[0;34m.\u001b[0m\u001b[0mstring_\u001b[0m \u001b[0;32mimport\u001b[0m \u001b[0mStringDtype\u001b[0m\u001b[0;34m\u001b[0m\u001b[0;34m\u001b[0m\u001b[0m\n\u001b[1;32m    153\u001b[0m \u001b[0;34m\u001b[0m\u001b[0m\n\u001b[0;32m--> 154\u001b[0;31m         \u001b[0mself\u001b[0m\u001b[0;34m.\u001b[0m\u001b[0m_inferred_dtype\u001b[0m \u001b[0;34m=\u001b[0m \u001b[0mself\u001b[0m\u001b[0;34m.\u001b[0m\u001b[0m_validate\u001b[0m\u001b[0;34m(\u001b[0m\u001b[0mdata\u001b[0m\u001b[0;34m)\u001b[0m\u001b[0;34m\u001b[0m\u001b[0;34m\u001b[0m\u001b[0m\n\u001b[0m\u001b[1;32m    155\u001b[0m         \u001b[0mself\u001b[0m\u001b[0;34m.\u001b[0m\u001b[0m_is_categorical\u001b[0m \u001b[0;34m=\u001b[0m \u001b[0mis_categorical_dtype\u001b[0m\u001b[0;34m(\u001b[0m\u001b[0mdata\u001b[0m\u001b[0;34m.\u001b[0m\u001b[0mdtype\u001b[0m\u001b[0;34m)\u001b[0m\u001b[0;34m\u001b[0m\u001b[0;34m\u001b[0m\u001b[0m\n\u001b[1;32m    156\u001b[0m         \u001b[0mself\u001b[0m\u001b[0;34m.\u001b[0m\u001b[0m_is_string\u001b[0m \u001b[0;34m=\u001b[0m \u001b[0misinstance\u001b[0m\u001b[0;34m(\u001b[0m\u001b[0mdata\u001b[0m\u001b[0;34m.\u001b[0m\u001b[0mdtype\u001b[0m\u001b[0;34m,\u001b[0m \u001b[0mStringDtype\u001b[0m\u001b[0;34m)\u001b[0m\u001b[0;34m\u001b[0m\u001b[0;34m\u001b[0m\u001b[0m\n",
      "\u001b[0;32m~/anaconda3/envs/pfds_new/lib/python3.8/site-packages/pandas/core/strings/accessor.py\u001b[0m in \u001b[0;36m_validate\u001b[0;34m(data)\u001b[0m\n\u001b[1;32m    215\u001b[0m \u001b[0;34m\u001b[0m\u001b[0m\n\u001b[1;32m    216\u001b[0m         \u001b[0;32mif\u001b[0m \u001b[0minferred_dtype\u001b[0m \u001b[0;32mnot\u001b[0m \u001b[0;32min\u001b[0m \u001b[0mallowed_types\u001b[0m\u001b[0;34m:\u001b[0m\u001b[0;34m\u001b[0m\u001b[0;34m\u001b[0m\u001b[0m\n\u001b[0;32m--> 217\u001b[0;31m             \u001b[0;32mraise\u001b[0m \u001b[0mAttributeError\u001b[0m\u001b[0;34m(\u001b[0m\u001b[0;34m\"Can only use .str accessor with string values!\"\u001b[0m\u001b[0;34m)\u001b[0m\u001b[0;34m\u001b[0m\u001b[0;34m\u001b[0m\u001b[0m\n\u001b[0m\u001b[1;32m    218\u001b[0m         \u001b[0;32mreturn\u001b[0m \u001b[0minferred_dtype\u001b[0m\u001b[0;34m\u001b[0m\u001b[0;34m\u001b[0m\u001b[0m\n\u001b[1;32m    219\u001b[0m \u001b[0;34m\u001b[0m\u001b[0m\n",
      "\u001b[0;31mAttributeError\u001b[0m: Can only use .str accessor with string values!"
     ]
    }
   ],
   "source": [
    "# Remarque si la série n'est pas de type objet ou string, pas de méthode str !\n",
    "df.lat.str"
   ]
  },
  {
   "cell_type": "code",
   "execution_count": 15,
   "id": "b739653e-8e8b-48f5-a73f-e02a38bc43da",
   "metadata": {
    "collapsed": true,
    "execution": {
     "iopub.execute_input": "2021-04-28T23:46:50.875721Z",
     "iopub.status.busy": "2021-04-28T23:46:50.875540Z",
     "iopub.status.idle": "2021-04-28T23:46:50.880803Z",
     "shell.execute_reply": "2021-04-28T23:46:50.880396Z",
     "shell.execute_reply.started": "2021-04-28T23:46:50.875700Z"
    },
    "jupyter": {
     "outputs_hidden": true,
     "source_hidden": true
    },
    "tags": []
   },
   "outputs": [
    {
     "data": {
      "text/plain": [
       "0       label:\n",
       "1       label:\n",
       "2       label:\n",
       "3       label:\n",
       "4       label:\n",
       "         ...  \n",
       "1156    label:\n",
       "1157    label:\n",
       "1158    label:\n",
       "1159    label:\n",
       "1160    label:\n",
       "Name: tags, Length: 1161, dtype: object"
      ]
     },
     "execution_count": 15,
     "metadata": {},
     "output_type": "execute_result"
    }
   ],
   "source": [
    "df.tags.str[:6]"
   ]
  },
  {
   "cell_type": "code",
   "execution_count": 17,
   "id": "68458e2a-cc91-45c8-b5b8-f60af5f53bbc",
   "metadata": {
    "collapsed": true,
    "execution": {
     "iopub.execute_input": "2021-04-28T23:46:58.340515Z",
     "iopub.status.busy": "2021-04-28T23:46:58.340325Z",
     "iopub.status.idle": "2021-04-28T23:46:58.345844Z",
     "shell.execute_reply": "2021-04-28T23:46:58.345307Z",
     "shell.execute_reply.started": "2021-04-28T23:46:58.340492Z"
    },
    "jupyter": {
     "outputs_hidden": true,
     "source_hidden": true
    },
    "tags": []
   },
   "outputs": [
    {
     "data": {
      "text/plain": [
       "label:    1150\n",
       "unlabe      11\n",
       "Name: tags, dtype: int64"
      ]
     },
     "execution_count": 17,
     "metadata": {},
     "output_type": "execute_result"
    }
   ],
   "source": [
    "df.tags.str[:6].value_counts()"
   ]
  },
  {
   "cell_type": "markdown",
   "id": "379a7823-58cb-4fff-8e0a-9631db127db8",
   "metadata": {},
   "source": [
    "Str permet de manipuler chaque ligne de la colonne comme si c'était une string."
   ]
  },
  {
   "cell_type": "code",
   "execution_count": 18,
   "id": "f613a3ed-46ac-4860-8519-237f734008a5",
   "metadata": {
    "collapsed": true,
    "execution": {
     "iopub.execute_input": "2021-04-28T23:48:38.120598Z",
     "iopub.status.busy": "2021-04-28T23:48:38.120395Z",
     "iopub.status.idle": "2021-04-28T23:48:38.126148Z",
     "shell.execute_reply": "2021-04-28T23:48:38.125732Z",
     "shell.execute_reply.started": "2021-04-28T23:48:38.120574Z"
    },
    "jupyter": {
     "outputs_hidden": true,
     "source_hidden": true
    },
    "tags": []
   },
   "outputs": [
    {
     "data": {
      "text/plain": [
       "label:    1150\n",
       "unlabe      11\n",
       "Name: tags, dtype: int64"
      ]
     },
     "execution_count": 18,
     "metadata": {},
     "output_type": "execute_result"
    }
   ],
   "source": [
    "df.tags.str[:6].value_counts()"
   ]
  },
  {
   "cell_type": "code",
   "execution_count": 21,
   "id": "ff590431-9a08-43d2-a223-54ac4cc80ee8",
   "metadata": {
    "collapsed": true,
    "execution": {
     "iopub.execute_input": "2021-04-28T23:49:12.452446Z",
     "iopub.status.busy": "2021-04-28T23:49:12.452174Z",
     "iopub.status.idle": "2021-04-28T23:49:12.460978Z",
     "shell.execute_reply": "2021-04-28T23:49:12.460336Z",
     "shell.execute_reply.started": "2021-04-28T23:49:12.452414Z"
    },
    "jupyter": {
     "outputs_hidden": true,
     "source_hidden": true
    },
    "tags": []
   },
   "outputs": [
    {
     "data": {
      "text/plain": [
       "musee de france    1161\n",
       "Name: tags, dtype: int64"
      ]
     },
     "execution_count": 21,
     "metadata": {},
     "output_type": "execute_result"
    }
   ],
   "source": [
    "df.tags.str.split(\":\").str[1].value_counts()"
   ]
  },
  {
   "cell_type": "markdown",
   "id": "4e5cc382-23f7-4c2d-94ee-a23b7499ae76",
   "metadata": {},
   "source": [
    "### Exercice: \n",
    "    - créez deux colonnes qui contient respectivement le nombre d'entrée en gratuit et en payant par musée\n",
    "    - donnez le pourcentage d'entrée gratuite par musée, puis ce ratio moyen entre les musées, puis le ratio moyen général."
   ]
  },
  {
   "cell_type": "code",
   "execution_count": 47,
   "id": "1234fa29-63cf-4152-b52e-a4f3b3d9e512",
   "metadata": {
    "collapsed": true,
    "execution": {
     "iopub.execute_input": "2021-04-29T00:11:07.854048Z",
     "iopub.status.busy": "2021-04-29T00:11:07.853819Z",
     "iopub.status.idle": "2021-04-29T00:11:07.864864Z",
     "shell.execute_reply": "2021-04-29T00:11:07.864451Z",
     "shell.execute_reply.started": "2021-04-29T00:11:07.854023Z"
    },
    "jupyter": {
     "outputs_hidden": true,
     "source_hidden": true
    },
    "tags": []
   },
   "outputs": [
    {
     "data": {
      "text/html": [
       "<div>\n",
       "<style scoped>\n",
       "    .dataframe tbody tr th:only-of-type {\n",
       "        vertical-align: middle;\n",
       "    }\n",
       "\n",
       "    .dataframe tbody tr th {\n",
       "        vertical-align: top;\n",
       "    }\n",
       "\n",
       "    .dataframe thead th {\n",
       "        text-align: right;\n",
       "    }\n",
       "</style>\n",
       "<table border=\"1\" class=\"dataframe\">\n",
       "  <thead>\n",
       "    <tr style=\"text-align: right;\">\n",
       "      <th></th>\n",
       "      <th>0</th>\n",
       "      <th>1</th>\n",
       "      <th>2</th>\n",
       "    </tr>\n",
       "  </thead>\n",
       "  <tbody>\n",
       "    <tr>\n",
       "      <th>0</th>\n",
       "      <td>payant:0</td>\n",
       "      <td>gratuit:0</td>\n",
       "      <td>label-date:01/02/2003</td>\n",
       "    </tr>\n",
       "    <tr>\n",
       "      <th>1</th>\n",
       "      <td>payant:1644</td>\n",
       "      <td>gratuit:2174</td>\n",
       "      <td>label-date:01/02/2003</td>\n",
       "    </tr>\n",
       "    <tr>\n",
       "      <th>2</th>\n",
       "      <td>payant:1509</td>\n",
       "      <td>gratuit:2397</td>\n",
       "      <td>label-date:01/02/2003</td>\n",
       "    </tr>\n",
       "    <tr>\n",
       "      <th>3</th>\n",
       "      <td>payant:72733</td>\n",
       "      <td>gratuit:21431</td>\n",
       "      <td>label-date:23/10/2009</td>\n",
       "    </tr>\n",
       "    <tr>\n",
       "      <th>4</th>\n",
       "      <td>payant:0</td>\n",
       "      <td>gratuit:0</td>\n",
       "      <td>label-date:01/02/2003</td>\n",
       "    </tr>\n",
       "    <tr>\n",
       "      <th>...</th>\n",
       "      <td>...</td>\n",
       "      <td>...</td>\n",
       "      <td>...</td>\n",
       "    </tr>\n",
       "    <tr>\n",
       "      <th>1156</th>\n",
       "      <td>payant:0</td>\n",
       "      <td>gratuit:16705</td>\n",
       "      <td>label-date:06/01/2002</td>\n",
       "    </tr>\n",
       "    <tr>\n",
       "      <th>1157</th>\n",
       "      <td>payant:0</td>\n",
       "      <td>gratuit:0</td>\n",
       "      <td>label-date:01/02/2003</td>\n",
       "    </tr>\n",
       "    <tr>\n",
       "      <th>1158</th>\n",
       "      <td>payant:232</td>\n",
       "      <td>gratuit:963</td>\n",
       "      <td>label-date:01/02/2003</td>\n",
       "    </tr>\n",
       "    <tr>\n",
       "      <th>1159</th>\n",
       "      <td>payant:0</td>\n",
       "      <td>gratuit:425</td>\n",
       "      <td>label-date:01/02/2003</td>\n",
       "    </tr>\n",
       "    <tr>\n",
       "      <th>1160</th>\n",
       "      <td>payant:59378</td>\n",
       "      <td>gratuit:9957</td>\n",
       "      <td>label-date:01/02/2003</td>\n",
       "    </tr>\n",
       "  </tbody>\n",
       "</table>\n",
       "<p>1161 rows × 3 columns</p>\n",
       "</div>"
      ],
      "text/plain": [
       "                 0              1                      2\n",
       "0         payant:0      gratuit:0  label-date:01/02/2003\n",
       "1      payant:1644   gratuit:2174  label-date:01/02/2003\n",
       "2      payant:1509   gratuit:2397  label-date:01/02/2003\n",
       "3     payant:72733  gratuit:21431  label-date:23/10/2009\n",
       "4         payant:0      gratuit:0  label-date:01/02/2003\n",
       "...            ...            ...                    ...\n",
       "1156      payant:0  gratuit:16705  label-date:06/01/2002\n",
       "1157      payant:0      gratuit:0  label-date:01/02/2003\n",
       "1158    payant:232    gratuit:963  label-date:01/02/2003\n",
       "1159      payant:0    gratuit:425  label-date:01/02/2003\n",
       "1160  payant:59378   gratuit:9957  label-date:01/02/2003\n",
       "\n",
       "[1161 rows x 3 columns]"
      ]
     },
     "execution_count": 47,
     "metadata": {},
     "output_type": "execute_result"
    }
   ],
   "source": [
    "df.stats.str.split(\";\", expand=True)"
   ]
  },
  {
   "cell_type": "code",
   "execution_count": 48,
   "id": "02f572b0-c3df-45d9-985d-3ee3d48f65b9",
   "metadata": {
    "collapsed": true,
    "execution": {
     "iopub.execute_input": "2021-04-29T00:11:08.034963Z",
     "iopub.status.busy": "2021-04-29T00:11:08.034688Z",
     "iopub.status.idle": "2021-04-29T00:11:08.044703Z",
     "shell.execute_reply": "2021-04-29T00:11:08.043707Z",
     "shell.execute_reply.started": "2021-04-29T00:11:08.034931Z"
    },
    "jupyter": {
     "outputs_hidden": true,
     "source_hidden": true
    },
    "tags": []
   },
   "outputs": [],
   "source": [
    "df[[\"payant\", \"gratuit\", \"date\"]] = df.stats.str.split(\";\", expand=True)"
   ]
  },
  {
   "cell_type": "code",
   "execution_count": 49,
   "id": "da9f6bc1-c902-4942-bc8e-e5459d2ecb1d",
   "metadata": {
    "collapsed": true,
    "execution": {
     "iopub.execute_input": "2021-04-29T00:11:08.642933Z",
     "iopub.status.busy": "2021-04-29T00:11:08.642369Z",
     "iopub.status.idle": "2021-04-29T00:11:08.664637Z",
     "shell.execute_reply": "2021-04-29T00:11:08.663292Z",
     "shell.execute_reply.started": "2021-04-29T00:11:08.642864Z"
    },
    "jupyter": {
     "outputs_hidden": true,
     "source_hidden": true
    },
    "tags": []
   },
   "outputs": [],
   "source": [
    "df[\"payant\"] = df.payant.str.split(\":\").str[1].astype(\"int\")\n",
    "df[\"gratuit\"] = df.gratuit.str.split(\":\").str[1].astype(\"int\")"
   ]
  },
  {
   "cell_type": "code",
   "execution_count": 65,
   "id": "f8fa4088-3229-4d1c-a235-6f98193e176e",
   "metadata": {
    "collapsed": true,
    "execution": {
     "iopub.execute_input": "2021-04-29T00:32:00.178484Z",
     "iopub.status.busy": "2021-04-29T00:32:00.178268Z",
     "iopub.status.idle": "2021-04-29T00:32:00.188889Z",
     "shell.execute_reply": "2021-04-29T00:32:00.188348Z",
     "shell.execute_reply.started": "2021-04-29T00:32:00.178458Z"
    },
    "jupyter": {
     "outputs_hidden": true,
     "source_hidden": true
    },
    "tags": []
   },
   "outputs": [],
   "source": [
    "df_result = df[[\"payant\", \"gratuit\"]].assign(\n",
    "    part_payant=lambda x: (x[\"payant\"]/(x[\"gratuit\"]+x[\"payant\"]))*100\n",
    ")\n",
    "df_result = df_result.append(df_result.sum().rename('Total'), ignore_index=False\n",
    "                             ).append(df_result.iloc[:-1].mean().rename(\"Moyenne\"), ignore_index=False)"
   ]
  },
  {
   "cell_type": "code",
   "execution_count": 70,
   "id": "256626fe-1a3a-4123-9f78-b72ed76d6fdc",
   "metadata": {
    "collapsed": true,
    "execution": {
     "iopub.execute_input": "2021-04-29T00:34:26.250173Z",
     "iopub.status.busy": "2021-04-29T00:34:26.249989Z",
     "iopub.status.idle": "2021-04-29T00:34:26.254667Z",
     "shell.execute_reply": "2021-04-29T00:34:26.254216Z",
     "shell.execute_reply.started": "2021-04-29T00:34:26.250152Z"
    },
    "jupyter": {
     "outputs_hidden": true,
     "source_hidden": true
    },
    "tags": []
   },
   "outputs": [
    {
     "data": {
      "text/plain": [
       "payant           32442.400000\n",
       "gratuit          24525.124138\n",
       "part_payant         44.323997\n",
       "Moyenne_total             NaN\n",
       "Name: Moyenne, dtype: float64"
      ]
     },
     "execution_count": 70,
     "metadata": {},
     "output_type": "execute_result"
    }
   ],
   "source": [
    "df_result.loc[\"Moyenne\"]"
   ]
  },
  {
   "cell_type": "code",
   "execution_count": 72,
   "id": "5c116389-f10c-4ca1-920a-596df5cb7468",
   "metadata": {
    "collapsed": true,
    "execution": {
     "iopub.execute_input": "2021-04-29T00:34:53.038503Z",
     "iopub.status.busy": "2021-04-29T00:34:53.038324Z",
     "iopub.status.idle": "2021-04-29T00:34:53.043283Z",
     "shell.execute_reply": "2021-04-29T00:34:53.042816Z",
     "shell.execute_reply.started": "2021-04-29T00:34:53.038482Z"
    },
    "jupyter": {
     "outputs_hidden": true,
     "source_hidden": true
    },
    "tags": []
   },
   "outputs": [
    {
     "data": {
      "text/plain": [
       "0            NaN\n",
       "1       0.756210\n",
       "2       0.629537\n",
       "3       3.393822\n",
       "4            NaN\n",
       "          ...   \n",
       "1156    0.000000\n",
       "1157         NaN\n",
       "1158    0.240914\n",
       "1159    0.000000\n",
       "1160    5.963443\n",
       "Length: 1161, dtype: float64"
      ]
     },
     "execution_count": 72,
     "metadata": {},
     "output_type": "execute_result"
    }
   ],
   "source": [
    "(df.payant/df.gratuit)"
   ]
  },
  {
   "cell_type": "code",
   "execution_count": 79,
   "id": "ba176e70-309b-4702-8a4a-1fcdad715d98",
   "metadata": {
    "collapsed": true,
    "execution": {
     "iopub.execute_input": "2021-04-29T00:36:45.038983Z",
     "iopub.status.busy": "2021-04-29T00:36:45.038716Z",
     "iopub.status.idle": "2021-04-29T00:36:45.043356Z",
     "shell.execute_reply": "2021-04-29T00:36:45.042737Z",
     "shell.execute_reply.started": "2021-04-29T00:36:45.038943Z"
    },
    "jupyter": {
     "outputs_hidden": true,
     "source_hidden": true
    },
    "tags": []
   },
   "outputs": [],
   "source": [
    "df_result.loc[\"Moyenne\", \"Moyenne_total\"] = (df_result.payant /\n",
    "                                             (df_result.gratuit+df_result.payant)\n",
    "                                             ).loc[\"Moyenne\"]"
   ]
  },
  {
   "cell_type": "code",
   "execution_count": 80,
   "id": "9cdd48f9-b660-4020-bd43-d0df9c1ac3ca",
   "metadata": {
    "collapsed": true,
    "execution": {
     "iopub.execute_input": "2021-04-29T00:36:46.025593Z",
     "iopub.status.busy": "2021-04-29T00:36:46.025375Z",
     "iopub.status.idle": "2021-04-29T00:36:46.038898Z",
     "shell.execute_reply": "2021-04-29T00:36:46.038454Z",
     "shell.execute_reply.started": "2021-04-29T00:36:46.025568Z"
    },
    "jupyter": {
     "outputs_hidden": true,
     "source_hidden": true
    },
    "tags": []
   },
   "outputs": [
    {
     "data": {
      "text/html": [
       "<div>\n",
       "<style scoped>\n",
       "    .dataframe tbody tr th:only-of-type {\n",
       "        vertical-align: middle;\n",
       "    }\n",
       "\n",
       "    .dataframe tbody tr th {\n",
       "        vertical-align: top;\n",
       "    }\n",
       "\n",
       "    .dataframe thead th {\n",
       "        text-align: right;\n",
       "    }\n",
       "</style>\n",
       "<table border=\"1\" class=\"dataframe\">\n",
       "  <thead>\n",
       "    <tr style=\"text-align: right;\">\n",
       "      <th></th>\n",
       "      <th>payant</th>\n",
       "      <th>gratuit</th>\n",
       "      <th>part_payant</th>\n",
       "      <th>Moyenne_total</th>\n",
       "    </tr>\n",
       "  </thead>\n",
       "  <tbody>\n",
       "    <tr>\n",
       "      <th>0</th>\n",
       "      <td>0.0</td>\n",
       "      <td>0.000000e+00</td>\n",
       "      <td></td>\n",
       "      <td></td>\n",
       "    </tr>\n",
       "    <tr>\n",
       "      <th>1</th>\n",
       "      <td>1644.0</td>\n",
       "      <td>2.174000e+03</td>\n",
       "      <td>43.059193</td>\n",
       "      <td></td>\n",
       "    </tr>\n",
       "    <tr>\n",
       "      <th>2</th>\n",
       "      <td>1509.0</td>\n",
       "      <td>2.397000e+03</td>\n",
       "      <td>38.632873</td>\n",
       "      <td></td>\n",
       "    </tr>\n",
       "    <tr>\n",
       "      <th>3</th>\n",
       "      <td>72733.0</td>\n",
       "      <td>2.143100e+04</td>\n",
       "      <td>77.240771</td>\n",
       "      <td></td>\n",
       "    </tr>\n",
       "    <tr>\n",
       "      <th>4</th>\n",
       "      <td>0.0</td>\n",
       "      <td>0.000000e+00</td>\n",
       "      <td></td>\n",
       "      <td></td>\n",
       "    </tr>\n",
       "    <tr>\n",
       "      <th>...</th>\n",
       "      <td>...</td>\n",
       "      <td>...</td>\n",
       "      <td>...</td>\n",
       "      <td>...</td>\n",
       "    </tr>\n",
       "    <tr>\n",
       "      <th>1158</th>\n",
       "      <td>232.0</td>\n",
       "      <td>9.630000e+02</td>\n",
       "      <td>19.414226</td>\n",
       "      <td></td>\n",
       "    </tr>\n",
       "    <tr>\n",
       "      <th>1159</th>\n",
       "      <td>0.0</td>\n",
       "      <td>4.250000e+02</td>\n",
       "      <td>0.0</td>\n",
       "      <td></td>\n",
       "    </tr>\n",
       "    <tr>\n",
       "      <th>1160</th>\n",
       "      <td>59378.0</td>\n",
       "      <td>9.957000e+03</td>\n",
       "      <td>85.639288</td>\n",
       "      <td></td>\n",
       "    </tr>\n",
       "    <tr>\n",
       "      <th>Total</th>\n",
       "      <td>37692562.0</td>\n",
       "      <td>2.845910e+07</td>\n",
       "      <td>45517.735747</td>\n",
       "      <td></td>\n",
       "    </tr>\n",
       "    <tr>\n",
       "      <th>Moyenne</th>\n",
       "      <td>32442.4</td>\n",
       "      <td>2.452512e+04</td>\n",
       "      <td>44.323997</td>\n",
       "      <td>0.569489</td>\n",
       "    </tr>\n",
       "  </tbody>\n",
       "</table>\n",
       "<p>1163 rows × 4 columns</p>\n",
       "</div>"
      ],
      "text/plain": [
       "             payant       gratuit   part_payant Moyenne_total\n",
       "0               0.0  0.000000e+00                            \n",
       "1            1644.0  2.174000e+03     43.059193              \n",
       "2            1509.0  2.397000e+03     38.632873              \n",
       "3           72733.0  2.143100e+04     77.240771              \n",
       "4               0.0  0.000000e+00                            \n",
       "...             ...           ...           ...           ...\n",
       "1158          232.0  9.630000e+02     19.414226              \n",
       "1159            0.0  4.250000e+02           0.0              \n",
       "1160        59378.0  9.957000e+03     85.639288              \n",
       "Total    37692562.0  2.845910e+07  45517.735747              \n",
       "Moyenne     32442.4  2.452512e+04     44.323997      0.569489\n",
       "\n",
       "[1163 rows x 4 columns]"
      ]
     },
     "execution_count": 80,
     "metadata": {},
     "output_type": "execute_result"
    }
   ],
   "source": [
    "df_result.fillna(\"\")"
   ]
  }
 ],
 "metadata": {
  "kernelspec": {
   "display_name": "Python 3",
   "language": "python",
   "name": "python3"
  },
  "language_info": {
   "codemirror_mode": {
    "name": "ipython",
    "version": 3
   },
   "file_extension": ".py",
   "mimetype": "text/x-python",
   "name": "python",
   "nbconvert_exporter": "python",
   "pygments_lexer": "ipython3",
   "version": "3.8.8"
  }
 },
 "nbformat": 4,
 "nbformat_minor": 5
}
