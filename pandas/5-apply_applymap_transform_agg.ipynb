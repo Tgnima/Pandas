{
 "cells": [
  {
   "cell_type": "code",
   "execution_count": 1,
   "id": "fifty-hindu",
   "metadata": {
    "execution": {
     "iopub.execute_input": "2022-04-14T23:05:48.059664Z",
     "iopub.status.busy": "2022-04-14T23:05:48.059064Z",
     "iopub.status.idle": "2022-04-14T23:05:48.241189Z",
     "shell.execute_reply": "2022-04-14T23:05:48.240764Z",
     "shell.execute_reply.started": "2022-04-14T23:05:48.059606Z"
    },
    "tags": []
   },
   "outputs": [],
   "source": [
    "import pandas as pd\n",
    "import numpy as np"
   ]
  },
  {
   "cell_type": "markdown",
   "id": "6109126b-281d-49ab-931a-77bbbc52853a",
   "metadata": {},
   "source": [
    "### Applymap : applique une fonction élément par élément\n",
    "Applymap permet d'appliquer une fonction à chaque cellule de ma dataframe"
   ]
  },
  {
   "cell_type": "code",
   "execution_count": 2,
   "id": "concerned-iceland",
   "metadata": {
    "execution": {
     "iopub.execute_input": "2022-04-14T23:05:48.241863Z",
     "iopub.status.busy": "2022-04-14T23:05:48.241746Z",
     "iopub.status.idle": "2022-04-14T23:05:48.256639Z",
     "shell.execute_reply": "2022-04-14T23:05:48.256295Z",
     "shell.execute_reply.started": "2022-04-14T23:05:48.241846Z"
    },
    "tags": []
   },
   "outputs": [
    {
     "data": {
      "text/html": [
       "<div>\n",
       "<style scoped>\n",
       "    .dataframe tbody tr th:only-of-type {\n",
       "        vertical-align: middle;\n",
       "    }\n",
       "\n",
       "    .dataframe tbody tr th {\n",
       "        vertical-align: top;\n",
       "    }\n",
       "\n",
       "    .dataframe thead th {\n",
       "        text-align: right;\n",
       "    }\n",
       "</style>\n",
       "<table border=\"1\" class=\"dataframe\">\n",
       "  <thead>\n",
       "    <tr style=\"text-align: right;\">\n",
       "      <th></th>\n",
       "      <th>A</th>\n",
       "      <th>B</th>\n",
       "      <th>C</th>\n",
       "      <th>D</th>\n",
       "    </tr>\n",
       "  </thead>\n",
       "  <tbody>\n",
       "    <tr>\n",
       "      <th>0</th>\n",
       "      <td>1</td>\n",
       "      <td>0</td>\n",
       "      <td>0</td>\n",
       "      <td>4</td>\n",
       "    </tr>\n",
       "    <tr>\n",
       "      <th>1</th>\n",
       "      <td>5</td>\n",
       "      <td>2</td>\n",
       "      <td>3</td>\n",
       "      <td>7</td>\n",
       "    </tr>\n",
       "    <tr>\n",
       "      <th>2</th>\n",
       "      <td>3</td>\n",
       "      <td>6</td>\n",
       "      <td>6</td>\n",
       "      <td>8</td>\n",
       "    </tr>\n",
       "    <tr>\n",
       "      <th>3</th>\n",
       "      <td>8</td>\n",
       "      <td>9</td>\n",
       "      <td>4</td>\n",
       "      <td>9</td>\n",
       "    </tr>\n",
       "    <tr>\n",
       "      <th>4</th>\n",
       "      <td>4</td>\n",
       "      <td>2</td>\n",
       "      <td>5</td>\n",
       "      <td>0</td>\n",
       "    </tr>\n",
       "    <tr>\n",
       "      <th>5</th>\n",
       "      <td>7</td>\n",
       "      <td>5</td>\n",
       "      <td>5</td>\n",
       "      <td>5</td>\n",
       "    </tr>\n",
       "  </tbody>\n",
       "</table>\n",
       "</div>"
      ],
      "text/plain": [
       "   A  B  C  D\n",
       "0  1  0  0  4\n",
       "1  5  2  3  7\n",
       "2  3  6  6  8\n",
       "3  8  9  4  9\n",
       "4  4  2  5  0\n",
       "5  7  5  5  5"
      ]
     },
     "execution_count": 2,
     "metadata": {},
     "output_type": "execute_result"
    }
   ],
   "source": [
    "df = pd.DataFrame(np.random.randint(10, size=(6, 4)), columns=list('ABCD'))\n",
    "\n",
    "df"
   ]
  },
  {
   "cell_type": "code",
   "execution_count": 3,
   "id": "generic-heath",
   "metadata": {
    "execution": {
     "iopub.execute_input": "2022-04-14T23:05:48.257711Z",
     "iopub.status.busy": "2022-04-14T23:05:48.257218Z",
     "iopub.status.idle": "2022-04-14T23:05:48.270118Z",
     "shell.execute_reply": "2022-04-14T23:05:48.269689Z",
     "shell.execute_reply.started": "2022-04-14T23:05:48.257687Z"
    },
    "tags": []
   },
   "outputs": [
    {
     "data": {
      "text/html": [
       "<div>\n",
       "<style scoped>\n",
       "    .dataframe tbody tr th:only-of-type {\n",
       "        vertical-align: middle;\n",
       "    }\n",
       "\n",
       "    .dataframe tbody tr th {\n",
       "        vertical-align: top;\n",
       "    }\n",
       "\n",
       "    .dataframe thead th {\n",
       "        text-align: right;\n",
       "    }\n",
       "</style>\n",
       "<table border=\"1\" class=\"dataframe\">\n",
       "  <thead>\n",
       "    <tr style=\"text-align: right;\">\n",
       "      <th></th>\n",
       "      <th>A</th>\n",
       "      <th>B</th>\n",
       "      <th>C</th>\n",
       "      <th>D</th>\n",
       "    </tr>\n",
       "  </thead>\n",
       "  <tbody>\n",
       "    <tr>\n",
       "      <th>0</th>\n",
       "      <td>1</td>\n",
       "      <td></td>\n",
       "      <td></td>\n",
       "      <td>4444</td>\n",
       "    </tr>\n",
       "    <tr>\n",
       "      <th>1</th>\n",
       "      <td>55555</td>\n",
       "      <td>22</td>\n",
       "      <td>333</td>\n",
       "      <td>7777777</td>\n",
       "    </tr>\n",
       "    <tr>\n",
       "      <th>2</th>\n",
       "      <td>333</td>\n",
       "      <td>666666</td>\n",
       "      <td>666666</td>\n",
       "      <td>88888888</td>\n",
       "    </tr>\n",
       "    <tr>\n",
       "      <th>3</th>\n",
       "      <td>88888888</td>\n",
       "      <td>999999999</td>\n",
       "      <td>4444</td>\n",
       "      <td>999999999</td>\n",
       "    </tr>\n",
       "    <tr>\n",
       "      <th>4</th>\n",
       "      <td>4444</td>\n",
       "      <td>22</td>\n",
       "      <td>55555</td>\n",
       "      <td></td>\n",
       "    </tr>\n",
       "    <tr>\n",
       "      <th>5</th>\n",
       "      <td>7777777</td>\n",
       "      <td>55555</td>\n",
       "      <td>55555</td>\n",
       "      <td>55555</td>\n",
       "    </tr>\n",
       "  </tbody>\n",
       "</table>\n",
       "</div>"
      ],
      "text/plain": [
       "          A          B       C          D\n",
       "0         1                          4444\n",
       "1     55555         22     333    7777777\n",
       "2       333     666666  666666   88888888\n",
       "3  88888888  999999999    4444  999999999\n",
       "4      4444         22   55555           \n",
       "5   7777777      55555   55555      55555"
      ]
     },
     "execution_count": 3,
     "metadata": {},
     "output_type": "execute_result"
    }
   ],
   "source": [
    "df.applymap(lambda x: str(x) * x)"
   ]
  },
  {
   "cell_type": "markdown",
   "id": "45f547ab-1e91-48dc-829f-bbe33c29a4b9",
   "metadata": {
    "execution": {
     "iopub.execute_input": "2021-04-25T20:36:07.919699Z",
     "iopub.status.busy": "2021-04-25T20:36:07.919511Z",
     "iopub.status.idle": "2021-04-25T20:36:07.921770Z",
     "shell.execute_reply": "2021-04-25T20:36:07.921385Z",
     "shell.execute_reply.started": "2021-04-25T20:36:07.919677Z"
    }
   },
   "source": [
    "### Apply applique une fonction le long d'un axe"
   ]
  },
  {
   "cell_type": "code",
   "execution_count": 4,
   "id": "infrared-creation",
   "metadata": {
    "execution": {
     "iopub.execute_input": "2022-04-14T23:05:48.270944Z",
     "iopub.status.busy": "2022-04-14T23:05:48.270747Z",
     "iopub.status.idle": "2022-04-14T23:05:48.277374Z",
     "shell.execute_reply": "2022-04-14T23:05:48.276995Z",
     "shell.execute_reply.started": "2022-04-14T23:05:48.270923Z"
    },
    "tags": []
   },
   "outputs": [
    {
     "data": {
      "text/plain": [
       "0             \n",
       "1           22\n",
       "2       666666\n",
       "3    999999999\n",
       "4           22\n",
       "5        55555\n",
       "Name: B, dtype: object"
      ]
     },
     "execution_count": 4,
     "metadata": {},
     "output_type": "execute_result"
    }
   ],
   "source": [
    "df.B.apply(lambda x: str(x) * x)"
   ]
  },
  {
   "cell_type": "code",
   "execution_count": 5,
   "id": "f5a259f9-f3cf-451e-8e40-ff94bc82c122",
   "metadata": {
    "execution": {
     "iopub.execute_input": "2022-04-14T23:05:48.278174Z",
     "iopub.status.busy": "2022-04-14T23:05:48.277977Z",
     "iopub.status.idle": "2022-04-14T23:05:48.284421Z",
     "shell.execute_reply": "2022-04-14T23:05:48.284019Z",
     "shell.execute_reply.started": "2022-04-14T23:05:48.278155Z"
    },
    "tags": []
   },
   "outputs": [
    {
     "data": {
      "text/plain": [
       "0    0\n",
       "1    2\n",
       "2    6\n",
       "3    9\n",
       "4    2\n",
       "5    5\n",
       "Name: B, dtype: int64"
      ]
     },
     "execution_count": 5,
     "metadata": {},
     "output_type": "execute_result"
    }
   ],
   "source": [
    "df.B.apply(np.sum)"
   ]
  },
  {
   "cell_type": "code",
   "execution_count": 6,
   "id": "35a8eb6b-c8a7-4cb3-ad0f-57ba20ec09de",
   "metadata": {
    "execution": {
     "iopub.execute_input": "2022-04-14T23:05:48.285234Z",
     "iopub.status.busy": "2022-04-14T23:05:48.285045Z",
     "iopub.status.idle": "2022-04-14T23:05:48.292619Z",
     "shell.execute_reply": "2022-04-14T23:05:48.292143Z",
     "shell.execute_reply.started": "2022-04-14T23:05:48.285215Z"
    },
    "tags": []
   },
   "outputs": [
    {
     "data": {
      "text/plain": [
       "A    28\n",
       "B    24\n",
       "C    23\n",
       "D    33\n",
       "dtype: int64"
      ]
     },
     "execution_count": 6,
     "metadata": {},
     "output_type": "execute_result"
    }
   ],
   "source": [
    "df.apply(np.sum, axis=0)"
   ]
  },
  {
   "cell_type": "code",
   "execution_count": 7,
   "id": "738520bb-95f4-4318-b856-1c3cf4728654",
   "metadata": {
    "execution": {
     "iopub.execute_input": "2022-04-14T23:05:48.293496Z",
     "iopub.status.busy": "2022-04-14T23:05:48.293278Z",
     "iopub.status.idle": "2022-04-14T23:05:48.305228Z",
     "shell.execute_reply": "2022-04-14T23:05:48.304791Z",
     "shell.execute_reply.started": "2022-04-14T23:05:48.293476Z"
    },
    "tags": []
   },
   "outputs": [
    {
     "data": {
      "text/html": [
       "<div>\n",
       "<style scoped>\n",
       "    .dataframe tbody tr th:only-of-type {\n",
       "        vertical-align: middle;\n",
       "    }\n",
       "\n",
       "    .dataframe tbody tr th {\n",
       "        vertical-align: top;\n",
       "    }\n",
       "\n",
       "    .dataframe thead th {\n",
       "        text-align: right;\n",
       "    }\n",
       "</style>\n",
       "<table border=\"1\" class=\"dataframe\">\n",
       "  <thead>\n",
       "    <tr style=\"text-align: right;\">\n",
       "      <th></th>\n",
       "      <th>A</th>\n",
       "      <th>B</th>\n",
       "      <th>C</th>\n",
       "      <th>D</th>\n",
       "    </tr>\n",
       "  </thead>\n",
       "  <tbody>\n",
       "    <tr>\n",
       "      <th>0</th>\n",
       "      <td>-1.420094</td>\n",
       "      <td>-1.217161</td>\n",
       "      <td>-1.793812</td>\n",
       "      <td>-0.458563</td>\n",
       "    </tr>\n",
       "    <tr>\n",
       "      <th>1</th>\n",
       "      <td>0.129099</td>\n",
       "      <td>-0.608581</td>\n",
       "      <td>-0.389959</td>\n",
       "      <td>0.458563</td>\n",
       "    </tr>\n",
       "    <tr>\n",
       "      <th>2</th>\n",
       "      <td>-0.645497</td>\n",
       "      <td>0.608581</td>\n",
       "      <td>1.013894</td>\n",
       "      <td>0.764272</td>\n",
       "    </tr>\n",
       "    <tr>\n",
       "      <th>3</th>\n",
       "      <td>1.290994</td>\n",
       "      <td>1.521452</td>\n",
       "      <td>0.077992</td>\n",
       "      <td>1.069981</td>\n",
       "    </tr>\n",
       "    <tr>\n",
       "      <th>4</th>\n",
       "      <td>-0.258199</td>\n",
       "      <td>-0.608581</td>\n",
       "      <td>0.545943</td>\n",
       "      <td>-1.681399</td>\n",
       "    </tr>\n",
       "    <tr>\n",
       "      <th>5</th>\n",
       "      <td>0.903696</td>\n",
       "      <td>0.304290</td>\n",
       "      <td>0.545943</td>\n",
       "      <td>-0.152854</td>\n",
       "    </tr>\n",
       "  </tbody>\n",
       "</table>\n",
       "</div>"
      ],
      "text/plain": [
       "          A         B         C         D\n",
       "0 -1.420094 -1.217161 -1.793812 -0.458563\n",
       "1  0.129099 -0.608581 -0.389959  0.458563\n",
       "2 -0.645497  0.608581  1.013894  0.764272\n",
       "3  1.290994  1.521452  0.077992  1.069981\n",
       "4 -0.258199 -0.608581  0.545943 -1.681399\n",
       "5  0.903696  0.304290  0.545943 -0.152854"
      ]
     },
     "execution_count": 7,
     "metadata": {},
     "output_type": "execute_result"
    }
   ],
   "source": [
    "df.apply(lambda x: (x - x.mean()) / x.std())"
   ]
  },
  {
   "cell_type": "code",
   "execution_count": 8,
   "id": "f06ed6fe-7ead-41b8-9cc1-b1ed17b421f0",
   "metadata": {
    "execution": {
     "iopub.execute_input": "2022-04-14T23:05:48.306241Z",
     "iopub.status.busy": "2022-04-14T23:05:48.306049Z",
     "iopub.status.idle": "2022-04-14T23:05:48.310333Z",
     "shell.execute_reply": "2022-04-14T23:05:48.309835Z",
     "shell.execute_reply.started": "2022-04-14T23:05:48.306219Z"
    },
    "tags": []
   },
   "outputs": [],
   "source": [
    "def normalize_data(s):\n",
    "    return s - s.mean() /s.std()"
   ]
  },
  {
   "cell_type": "code",
   "execution_count": 9,
   "id": "bd4a3dd3-b54d-4bb5-b84c-32f2c973fb70",
   "metadata": {
    "execution": {
     "iopub.execute_input": "2022-04-14T23:05:48.311274Z",
     "iopub.status.busy": "2022-04-14T23:05:48.311049Z",
     "iopub.status.idle": "2022-04-14T23:05:48.323294Z",
     "shell.execute_reply": "2022-04-14T23:05:48.322690Z",
     "shell.execute_reply.started": "2022-04-14T23:05:48.311247Z"
    },
    "tags": []
   },
   "outputs": [
    {
     "data": {
      "text/html": [
       "<div>\n",
       "<style scoped>\n",
       "    .dataframe tbody tr th:only-of-type {\n",
       "        vertical-align: middle;\n",
       "    }\n",
       "\n",
       "    .dataframe tbody tr th {\n",
       "        vertical-align: top;\n",
       "    }\n",
       "\n",
       "    .dataframe thead th {\n",
       "        text-align: right;\n",
       "    }\n",
       "</style>\n",
       "<table border=\"1\" class=\"dataframe\">\n",
       "  <thead>\n",
       "    <tr style=\"text-align: right;\">\n",
       "      <th></th>\n",
       "      <th>A</th>\n",
       "      <th>B</th>\n",
       "      <th>C</th>\n",
       "      <th>D</th>\n",
       "    </tr>\n",
       "  </thead>\n",
       "  <tbody>\n",
       "    <tr>\n",
       "      <th>0</th>\n",
       "      <td>-0.807392</td>\n",
       "      <td>-1.217161</td>\n",
       "      <td>-1.793812</td>\n",
       "      <td>2.318601</td>\n",
       "    </tr>\n",
       "    <tr>\n",
       "      <th>1</th>\n",
       "      <td>3.192608</td>\n",
       "      <td>0.782839</td>\n",
       "      <td>1.206188</td>\n",
       "      <td>5.318601</td>\n",
       "    </tr>\n",
       "    <tr>\n",
       "      <th>2</th>\n",
       "      <td>1.192608</td>\n",
       "      <td>4.782839</td>\n",
       "      <td>4.206188</td>\n",
       "      <td>6.318601</td>\n",
       "    </tr>\n",
       "    <tr>\n",
       "      <th>3</th>\n",
       "      <td>6.192608</td>\n",
       "      <td>7.782839</td>\n",
       "      <td>2.206188</td>\n",
       "      <td>7.318601</td>\n",
       "    </tr>\n",
       "    <tr>\n",
       "      <th>4</th>\n",
       "      <td>2.192608</td>\n",
       "      <td>0.782839</td>\n",
       "      <td>3.206188</td>\n",
       "      <td>-1.681399</td>\n",
       "    </tr>\n",
       "    <tr>\n",
       "      <th>5</th>\n",
       "      <td>5.192608</td>\n",
       "      <td>3.782839</td>\n",
       "      <td>3.206188</td>\n",
       "      <td>3.318601</td>\n",
       "    </tr>\n",
       "  </tbody>\n",
       "</table>\n",
       "</div>"
      ],
      "text/plain": [
       "          A         B         C         D\n",
       "0 -0.807392 -1.217161 -1.793812  2.318601\n",
       "1  3.192608  0.782839  1.206188  5.318601\n",
       "2  1.192608  4.782839  4.206188  6.318601\n",
       "3  6.192608  7.782839  2.206188  7.318601\n",
       "4  2.192608  0.782839  3.206188 -1.681399\n",
       "5  5.192608  3.782839  3.206188  3.318601"
      ]
     },
     "execution_count": 9,
     "metadata": {},
     "output_type": "execute_result"
    }
   ],
   "source": [
    "df.apply(normalize_data)"
   ]
  },
  {
   "cell_type": "markdown",
   "id": "ec9e3a4e-b1ce-4921-b7a1-1e3cadb096b7",
   "metadata": {},
   "source": [
    "⚠️ Transform fait la même chose que apply quand ce n'est pas appliqué à un groupe. "
   ]
  },
  {
   "cell_type": "code",
   "execution_count": 10,
   "id": "6b26f0e5-31a1-4f55-a4e8-9a9e03d511a0",
   "metadata": {
    "execution": {
     "iopub.execute_input": "2022-04-14T23:05:48.325444Z",
     "iopub.status.busy": "2022-04-14T23:05:48.325271Z",
     "iopub.status.idle": "2022-04-14T23:05:48.335243Z",
     "shell.execute_reply": "2022-04-14T23:05:48.334846Z",
     "shell.execute_reply.started": "2022-04-14T23:05:48.325408Z"
    },
    "tags": []
   },
   "outputs": [
    {
     "data": {
      "text/html": [
       "<div>\n",
       "<style scoped>\n",
       "    .dataframe tbody tr th:only-of-type {\n",
       "        vertical-align: middle;\n",
       "    }\n",
       "\n",
       "    .dataframe tbody tr th {\n",
       "        vertical-align: top;\n",
       "    }\n",
       "\n",
       "    .dataframe thead th {\n",
       "        text-align: right;\n",
       "    }\n",
       "</style>\n",
       "<table border=\"1\" class=\"dataframe\">\n",
       "  <thead>\n",
       "    <tr style=\"text-align: right;\">\n",
       "      <th></th>\n",
       "      <th>A</th>\n",
       "      <th>B</th>\n",
       "      <th>C</th>\n",
       "      <th>D</th>\n",
       "    </tr>\n",
       "  </thead>\n",
       "  <tbody>\n",
       "    <tr>\n",
       "      <th>0</th>\n",
       "      <td>-0.807392</td>\n",
       "      <td>-1.217161</td>\n",
       "      <td>-1.793812</td>\n",
       "      <td>2.318601</td>\n",
       "    </tr>\n",
       "    <tr>\n",
       "      <th>1</th>\n",
       "      <td>3.192608</td>\n",
       "      <td>0.782839</td>\n",
       "      <td>1.206188</td>\n",
       "      <td>5.318601</td>\n",
       "    </tr>\n",
       "    <tr>\n",
       "      <th>2</th>\n",
       "      <td>1.192608</td>\n",
       "      <td>4.782839</td>\n",
       "      <td>4.206188</td>\n",
       "      <td>6.318601</td>\n",
       "    </tr>\n",
       "    <tr>\n",
       "      <th>3</th>\n",
       "      <td>6.192608</td>\n",
       "      <td>7.782839</td>\n",
       "      <td>2.206188</td>\n",
       "      <td>7.318601</td>\n",
       "    </tr>\n",
       "    <tr>\n",
       "      <th>4</th>\n",
       "      <td>2.192608</td>\n",
       "      <td>0.782839</td>\n",
       "      <td>3.206188</td>\n",
       "      <td>-1.681399</td>\n",
       "    </tr>\n",
       "    <tr>\n",
       "      <th>5</th>\n",
       "      <td>5.192608</td>\n",
       "      <td>3.782839</td>\n",
       "      <td>3.206188</td>\n",
       "      <td>3.318601</td>\n",
       "    </tr>\n",
       "  </tbody>\n",
       "</table>\n",
       "</div>"
      ],
      "text/plain": [
       "          A         B         C         D\n",
       "0 -0.807392 -1.217161 -1.793812  2.318601\n",
       "1  3.192608  0.782839  1.206188  5.318601\n",
       "2  1.192608  4.782839  4.206188  6.318601\n",
       "3  6.192608  7.782839  2.206188  7.318601\n",
       "4  2.192608  0.782839  3.206188 -1.681399\n",
       "5  5.192608  3.782839  3.206188  3.318601"
      ]
     },
     "execution_count": 10,
     "metadata": {},
     "output_type": "execute_result"
    }
   ],
   "source": [
    "df.transform(normalize_data)"
   ]
  },
  {
   "cell_type": "markdown",
   "id": "96af6bd7-ed75-43f4-a802-20833a7d0022",
   "metadata": {
    "execution": {
     "iopub.execute_input": "2021-04-30T02:35:57.059594Z",
     "iopub.status.busy": "2021-04-30T02:35:57.059341Z",
     "iopub.status.idle": "2021-04-30T02:35:57.063559Z",
     "shell.execute_reply": "2021-04-30T02:35:57.062876Z",
     "shell.execute_reply.started": "2021-04-30T02:35:57.059570Z"
    }
   },
   "source": [
    "Cependant elles ne se comportent pas parreil quand on les utilise sur des groupes (avec un groupby):\n",
    "- Apply  : envoie les groupes en DataFrame à la fonction appliquée\n",
    "- Transform : envoie les groupes en série à la fonction appliquée\n",
    "    \n",
    "[Plus d'information ici](https://stackoverflow.com/questions/27517425/apply-vs-transform-on-a-group-object)\n",
    "\n",
    "En règle générale, si on travaille sur un groupby, c'est plutôt `transform` qu'il faut utiliser."
   ]
  },
  {
   "cell_type": "code",
   "execution_count": 11,
   "id": "b295883d-7b81-49e1-8cef-d5e08795d379",
   "metadata": {
    "execution": {
     "iopub.execute_input": "2022-04-14T23:05:48.336178Z",
     "iopub.status.busy": "2022-04-14T23:05:48.336003Z",
     "iopub.status.idle": "2022-04-14T23:05:49.102092Z",
     "shell.execute_reply": "2022-04-14T23:05:49.101670Z",
     "shell.execute_reply.started": "2022-04-14T23:05:48.336159Z"
    },
    "tags": []
   },
   "outputs": [],
   "source": [
    "import seaborn as sns\n",
    "df = sns.load_dataset('penguins')"
   ]
  },
  {
   "cell_type": "code",
   "execution_count": 12,
   "id": "732f5d13-9c55-464a-95e7-278d0fe0f73d",
   "metadata": {
    "execution": {
     "iopub.execute_input": "2022-04-14T23:05:49.102817Z",
     "iopub.status.busy": "2022-04-14T23:05:49.102706Z",
     "iopub.status.idle": "2022-04-14T23:05:49.111005Z",
     "shell.execute_reply": "2022-04-14T23:05:49.110541Z",
     "shell.execute_reply.started": "2022-04-14T23:05:49.102802Z"
    }
   },
   "outputs": [
    {
     "data": {
      "text/html": [
       "<div>\n",
       "<style scoped>\n",
       "    .dataframe tbody tr th:only-of-type {\n",
       "        vertical-align: middle;\n",
       "    }\n",
       "\n",
       "    .dataframe tbody tr th {\n",
       "        vertical-align: top;\n",
       "    }\n",
       "\n",
       "    .dataframe thead th {\n",
       "        text-align: right;\n",
       "    }\n",
       "</style>\n",
       "<table border=\"1\" class=\"dataframe\">\n",
       "  <thead>\n",
       "    <tr style=\"text-align: right;\">\n",
       "      <th></th>\n",
       "      <th>species</th>\n",
       "      <th>island</th>\n",
       "      <th>bill_length_mm</th>\n",
       "      <th>bill_depth_mm</th>\n",
       "      <th>flipper_length_mm</th>\n",
       "      <th>body_mass_g</th>\n",
       "      <th>sex</th>\n",
       "    </tr>\n",
       "  </thead>\n",
       "  <tbody>\n",
       "    <tr>\n",
       "      <th>0</th>\n",
       "      <td>Adelie</td>\n",
       "      <td>Torgersen</td>\n",
       "      <td>39.1</td>\n",
       "      <td>18.7</td>\n",
       "      <td>181.0</td>\n",
       "      <td>3750.0</td>\n",
       "      <td>Male</td>\n",
       "    </tr>\n",
       "    <tr>\n",
       "      <th>1</th>\n",
       "      <td>Adelie</td>\n",
       "      <td>Torgersen</td>\n",
       "      <td>39.5</td>\n",
       "      <td>17.4</td>\n",
       "      <td>186.0</td>\n",
       "      <td>3800.0</td>\n",
       "      <td>Female</td>\n",
       "    </tr>\n",
       "    <tr>\n",
       "      <th>2</th>\n",
       "      <td>Adelie</td>\n",
       "      <td>Torgersen</td>\n",
       "      <td>40.3</td>\n",
       "      <td>18.0</td>\n",
       "      <td>195.0</td>\n",
       "      <td>3250.0</td>\n",
       "      <td>Female</td>\n",
       "    </tr>\n",
       "    <tr>\n",
       "      <th>3</th>\n",
       "      <td>Adelie</td>\n",
       "      <td>Torgersen</td>\n",
       "      <td>NaN</td>\n",
       "      <td>NaN</td>\n",
       "      <td>NaN</td>\n",
       "      <td>NaN</td>\n",
       "      <td>NaN</td>\n",
       "    </tr>\n",
       "    <tr>\n",
       "      <th>4</th>\n",
       "      <td>Adelie</td>\n",
       "      <td>Torgersen</td>\n",
       "      <td>36.7</td>\n",
       "      <td>19.3</td>\n",
       "      <td>193.0</td>\n",
       "      <td>3450.0</td>\n",
       "      <td>Female</td>\n",
       "    </tr>\n",
       "  </tbody>\n",
       "</table>\n",
       "</div>"
      ],
      "text/plain": [
       "  species     island  bill_length_mm  bill_depth_mm  flipper_length_mm  \\\n",
       "0  Adelie  Torgersen            39.1           18.7              181.0   \n",
       "1  Adelie  Torgersen            39.5           17.4              186.0   \n",
       "2  Adelie  Torgersen            40.3           18.0              195.0   \n",
       "3  Adelie  Torgersen             NaN            NaN                NaN   \n",
       "4  Adelie  Torgersen            36.7           19.3              193.0   \n",
       "\n",
       "   body_mass_g     sex  \n",
       "0       3750.0    Male  \n",
       "1       3800.0  Female  \n",
       "2       3250.0  Female  \n",
       "3          NaN     NaN  \n",
       "4       3450.0  Female  "
      ]
     },
     "execution_count": 12,
     "metadata": {},
     "output_type": "execute_result"
    }
   ],
   "source": [
    "df.head()"
   ]
  },
  {
   "cell_type": "code",
   "execution_count": 13,
   "id": "887e0aed-47f9-4b1a-8338-c8dd8f3e2f64",
   "metadata": {
    "execution": {
     "iopub.execute_input": "2022-04-14T23:05:49.112173Z",
     "iopub.status.busy": "2022-04-14T23:05:49.111894Z",
     "iopub.status.idle": "2022-04-14T23:05:49.132327Z",
     "shell.execute_reply": "2022-04-14T23:05:49.131709Z",
     "shell.execute_reply.started": "2022-04-14T23:05:49.112156Z"
    },
    "tags": []
   },
   "outputs": [
    {
     "data": {
      "text/html": [
       "<div>\n",
       "<style scoped>\n",
       "    .dataframe tbody tr th:only-of-type {\n",
       "        vertical-align: middle;\n",
       "    }\n",
       "\n",
       "    .dataframe tbody tr th {\n",
       "        vertical-align: top;\n",
       "    }\n",
       "\n",
       "    .dataframe thead th {\n",
       "        text-align: right;\n",
       "    }\n",
       "</style>\n",
       "<table border=\"1\" class=\"dataframe\">\n",
       "  <thead>\n",
       "    <tr style=\"text-align: right;\">\n",
       "      <th></th>\n",
       "      <th>bill_depth_mm</th>\n",
       "      <th>flipper_length_mm</th>\n",
       "      <th>body_mass_g</th>\n",
       "    </tr>\n",
       "    <tr>\n",
       "      <th>species</th>\n",
       "      <th></th>\n",
       "      <th></th>\n",
       "      <th></th>\n",
       "    </tr>\n",
       "  </thead>\n",
       "  <tbody>\n",
       "    <tr>\n",
       "      <th>Adelie</th>\n",
       "      <td>2770.3</td>\n",
       "      <td>28683.0</td>\n",
       "      <td>558800.0</td>\n",
       "    </tr>\n",
       "    <tr>\n",
       "      <th>Chinstrap</th>\n",
       "      <td>1252.6</td>\n",
       "      <td>13316.0</td>\n",
       "      <td>253850.0</td>\n",
       "    </tr>\n",
       "    <tr>\n",
       "      <th>Gentoo</th>\n",
       "      <td>1842.8</td>\n",
       "      <td>26714.0</td>\n",
       "      <td>624350.0</td>\n",
       "    </tr>\n",
       "  </tbody>\n",
       "</table>\n",
       "</div>"
      ],
      "text/plain": [
       "           bill_depth_mm  flipper_length_mm  body_mass_g\n",
       "species                                                 \n",
       "Adelie            2770.3            28683.0     558800.0\n",
       "Chinstrap         1252.6            13316.0     253850.0\n",
       "Gentoo            1842.8            26714.0     624350.0"
      ]
     },
     "execution_count": 13,
     "metadata": {},
     "output_type": "execute_result"
    }
   ],
   "source": [
    "df.groupby(\"species\")[[\"bill_depth_mm\",\"flipper_length_mm\",\"body_mass_g\"]\n",
    "                     ].apply(lambda x:  x.sum())"
   ]
  },
  {
   "cell_type": "code",
   "execution_count": 14,
   "id": "0eb8e647-8ccf-4cf9-b409-ad2d6dc3975a",
   "metadata": {
    "execution": {
     "iopub.execute_input": "2022-04-14T23:05:49.133330Z",
     "iopub.status.busy": "2022-04-14T23:05:49.133112Z",
     "iopub.status.idle": "2022-04-14T23:05:49.148353Z",
     "shell.execute_reply": "2022-04-14T23:05:49.147587Z",
     "shell.execute_reply.started": "2022-04-14T23:05:49.133311Z"
    },
    "tags": []
   },
   "outputs": [
    {
     "data": {
      "text/html": [
       "<div>\n",
       "<style scoped>\n",
       "    .dataframe tbody tr th:only-of-type {\n",
       "        vertical-align: middle;\n",
       "    }\n",
       "\n",
       "    .dataframe tbody tr th {\n",
       "        vertical-align: top;\n",
       "    }\n",
       "\n",
       "    .dataframe thead th {\n",
       "        text-align: right;\n",
       "    }\n",
       "</style>\n",
       "<table border=\"1\" class=\"dataframe\">\n",
       "  <thead>\n",
       "    <tr style=\"text-align: right;\">\n",
       "      <th></th>\n",
       "      <th>bill_depth_mm</th>\n",
       "      <th>flipper_length_mm</th>\n",
       "      <th>body_mass_g</th>\n",
       "    </tr>\n",
       "  </thead>\n",
       "  <tbody>\n",
       "    <tr>\n",
       "      <th>0</th>\n",
       "      <td>-2751.6</td>\n",
       "      <td>-28502.0</td>\n",
       "      <td>-555050.0</td>\n",
       "    </tr>\n",
       "    <tr>\n",
       "      <th>1</th>\n",
       "      <td>-2752.9</td>\n",
       "      <td>-28497.0</td>\n",
       "      <td>-555000.0</td>\n",
       "    </tr>\n",
       "    <tr>\n",
       "      <th>2</th>\n",
       "      <td>-2752.3</td>\n",
       "      <td>-28488.0</td>\n",
       "      <td>-555550.0</td>\n",
       "    </tr>\n",
       "    <tr>\n",
       "      <th>3</th>\n",
       "      <td>NaN</td>\n",
       "      <td>NaN</td>\n",
       "      <td>NaN</td>\n",
       "    </tr>\n",
       "    <tr>\n",
       "      <th>4</th>\n",
       "      <td>-2751.0</td>\n",
       "      <td>-28490.0</td>\n",
       "      <td>-555350.0</td>\n",
       "    </tr>\n",
       "    <tr>\n",
       "      <th>...</th>\n",
       "      <td>...</td>\n",
       "      <td>...</td>\n",
       "      <td>...</td>\n",
       "    </tr>\n",
       "    <tr>\n",
       "      <th>339</th>\n",
       "      <td>NaN</td>\n",
       "      <td>NaN</td>\n",
       "      <td>NaN</td>\n",
       "    </tr>\n",
       "    <tr>\n",
       "      <th>340</th>\n",
       "      <td>-1828.5</td>\n",
       "      <td>-26499.0</td>\n",
       "      <td>-619500.0</td>\n",
       "    </tr>\n",
       "    <tr>\n",
       "      <th>341</th>\n",
       "      <td>-1827.1</td>\n",
       "      <td>-26492.0</td>\n",
       "      <td>-618600.0</td>\n",
       "    </tr>\n",
       "    <tr>\n",
       "      <th>342</th>\n",
       "      <td>-1828.0</td>\n",
       "      <td>-26502.0</td>\n",
       "      <td>-619150.0</td>\n",
       "    </tr>\n",
       "    <tr>\n",
       "      <th>343</th>\n",
       "      <td>-1826.7</td>\n",
       "      <td>-26501.0</td>\n",
       "      <td>-618950.0</td>\n",
       "    </tr>\n",
       "  </tbody>\n",
       "</table>\n",
       "<p>344 rows × 3 columns</p>\n",
       "</div>"
      ],
      "text/plain": [
       "     bill_depth_mm  flipper_length_mm  body_mass_g\n",
       "0          -2751.6           -28502.0    -555050.0\n",
       "1          -2752.9           -28497.0    -555000.0\n",
       "2          -2752.3           -28488.0    -555550.0\n",
       "3              NaN                NaN          NaN\n",
       "4          -2751.0           -28490.0    -555350.0\n",
       "..             ...                ...          ...\n",
       "339            NaN                NaN          NaN\n",
       "340        -1828.5           -26499.0    -619500.0\n",
       "341        -1827.1           -26492.0    -618600.0\n",
       "342        -1828.0           -26502.0    -619150.0\n",
       "343        -1826.7           -26501.0    -618950.0\n",
       "\n",
       "[344 rows x 3 columns]"
      ]
     },
     "execution_count": 14,
     "metadata": {},
     "output_type": "execute_result"
    }
   ],
   "source": [
    "df.groupby(\"species\")[[\"bill_depth_mm\",\"flipper_length_mm\",\"body_mass_g\"]\n",
    "                     ].apply(lambda x:  x- x.sum())"
   ]
  },
  {
   "cell_type": "code",
   "execution_count": 15,
   "id": "ec5e07a5-d3fb-48c3-8dcd-0be38ee3a7d4",
   "metadata": {
    "execution": {
     "iopub.execute_input": "2022-04-14T23:05:49.149438Z",
     "iopub.status.busy": "2022-04-14T23:05:49.149232Z",
     "iopub.status.idle": "2022-04-14T23:05:49.165867Z",
     "shell.execute_reply": "2022-04-14T23:05:49.165391Z",
     "shell.execute_reply.started": "2022-04-14T23:05:49.149418Z"
    },
    "tags": []
   },
   "outputs": [
    {
     "data": {
      "text/html": [
       "<div>\n",
       "<style scoped>\n",
       "    .dataframe tbody tr th:only-of-type {\n",
       "        vertical-align: middle;\n",
       "    }\n",
       "\n",
       "    .dataframe tbody tr th {\n",
       "        vertical-align: top;\n",
       "    }\n",
       "\n",
       "    .dataframe thead th {\n",
       "        text-align: right;\n",
       "    }\n",
       "</style>\n",
       "<table border=\"1\" class=\"dataframe\">\n",
       "  <thead>\n",
       "    <tr style=\"text-align: right;\">\n",
       "      <th></th>\n",
       "      <th>bill_depth_mm</th>\n",
       "      <th>flipper_length_mm</th>\n",
       "      <th>body_mass_g</th>\n",
       "    </tr>\n",
       "  </thead>\n",
       "  <tbody>\n",
       "    <tr>\n",
       "      <th>0</th>\n",
       "      <td>2770.3</td>\n",
       "      <td>28683.0</td>\n",
       "      <td>558800.0</td>\n",
       "    </tr>\n",
       "    <tr>\n",
       "      <th>1</th>\n",
       "      <td>2770.3</td>\n",
       "      <td>28683.0</td>\n",
       "      <td>558800.0</td>\n",
       "    </tr>\n",
       "    <tr>\n",
       "      <th>2</th>\n",
       "      <td>2770.3</td>\n",
       "      <td>28683.0</td>\n",
       "      <td>558800.0</td>\n",
       "    </tr>\n",
       "    <tr>\n",
       "      <th>3</th>\n",
       "      <td>2770.3</td>\n",
       "      <td>28683.0</td>\n",
       "      <td>558800.0</td>\n",
       "    </tr>\n",
       "    <tr>\n",
       "      <th>4</th>\n",
       "      <td>2770.3</td>\n",
       "      <td>28683.0</td>\n",
       "      <td>558800.0</td>\n",
       "    </tr>\n",
       "    <tr>\n",
       "      <th>...</th>\n",
       "      <td>...</td>\n",
       "      <td>...</td>\n",
       "      <td>...</td>\n",
       "    </tr>\n",
       "    <tr>\n",
       "      <th>339</th>\n",
       "      <td>1842.8</td>\n",
       "      <td>26714.0</td>\n",
       "      <td>624350.0</td>\n",
       "    </tr>\n",
       "    <tr>\n",
       "      <th>340</th>\n",
       "      <td>1842.8</td>\n",
       "      <td>26714.0</td>\n",
       "      <td>624350.0</td>\n",
       "    </tr>\n",
       "    <tr>\n",
       "      <th>341</th>\n",
       "      <td>1842.8</td>\n",
       "      <td>26714.0</td>\n",
       "      <td>624350.0</td>\n",
       "    </tr>\n",
       "    <tr>\n",
       "      <th>342</th>\n",
       "      <td>1842.8</td>\n",
       "      <td>26714.0</td>\n",
       "      <td>624350.0</td>\n",
       "    </tr>\n",
       "    <tr>\n",
       "      <th>343</th>\n",
       "      <td>1842.8</td>\n",
       "      <td>26714.0</td>\n",
       "      <td>624350.0</td>\n",
       "    </tr>\n",
       "  </tbody>\n",
       "</table>\n",
       "<p>344 rows × 3 columns</p>\n",
       "</div>"
      ],
      "text/plain": [
       "     bill_depth_mm  flipper_length_mm  body_mass_g\n",
       "0           2770.3            28683.0     558800.0\n",
       "1           2770.3            28683.0     558800.0\n",
       "2           2770.3            28683.0     558800.0\n",
       "3           2770.3            28683.0     558800.0\n",
       "4           2770.3            28683.0     558800.0\n",
       "..             ...                ...          ...\n",
       "339         1842.8            26714.0     624350.0\n",
       "340         1842.8            26714.0     624350.0\n",
       "341         1842.8            26714.0     624350.0\n",
       "342         1842.8            26714.0     624350.0\n",
       "343         1842.8            26714.0     624350.0\n",
       "\n",
       "[344 rows x 3 columns]"
      ]
     },
     "execution_count": 15,
     "metadata": {},
     "output_type": "execute_result"
    }
   ],
   "source": [
    "df.groupby(\"species\")[[\"bill_depth_mm\",\"flipper_length_mm\",\"body_mass_g\"]\n",
    "                     ].transform(lambda x: x.sum())"
   ]
  },
  {
   "cell_type": "code",
   "execution_count": 16,
   "id": "55fce5e8-d3ef-45c2-978d-422867d0fc58",
   "metadata": {
    "execution": {
     "iopub.execute_input": "2022-04-14T23:05:49.166745Z",
     "iopub.status.busy": "2022-04-14T23:05:49.166569Z",
     "iopub.status.idle": "2022-04-14T23:05:49.184560Z",
     "shell.execute_reply": "2022-04-14T23:05:49.184010Z",
     "shell.execute_reply.started": "2022-04-14T23:05:49.166725Z"
    },
    "tags": []
   },
   "outputs": [
    {
     "data": {
      "text/html": [
       "<div>\n",
       "<style scoped>\n",
       "    .dataframe tbody tr th:only-of-type {\n",
       "        vertical-align: middle;\n",
       "    }\n",
       "\n",
       "    .dataframe tbody tr th {\n",
       "        vertical-align: top;\n",
       "    }\n",
       "\n",
       "    .dataframe thead th {\n",
       "        text-align: right;\n",
       "    }\n",
       "</style>\n",
       "<table border=\"1\" class=\"dataframe\">\n",
       "  <thead>\n",
       "    <tr style=\"text-align: right;\">\n",
       "      <th></th>\n",
       "      <th>bill_depth_mm</th>\n",
       "      <th>flipper_length_mm</th>\n",
       "      <th>body_mass_g</th>\n",
       "    </tr>\n",
       "  </thead>\n",
       "  <tbody>\n",
       "    <tr>\n",
       "      <th>0</th>\n",
       "      <td>-2751.6</td>\n",
       "      <td>-28502.0</td>\n",
       "      <td>-555050.0</td>\n",
       "    </tr>\n",
       "    <tr>\n",
       "      <th>1</th>\n",
       "      <td>-2752.9</td>\n",
       "      <td>-28497.0</td>\n",
       "      <td>-555000.0</td>\n",
       "    </tr>\n",
       "    <tr>\n",
       "      <th>2</th>\n",
       "      <td>-2752.3</td>\n",
       "      <td>-28488.0</td>\n",
       "      <td>-555550.0</td>\n",
       "    </tr>\n",
       "    <tr>\n",
       "      <th>3</th>\n",
       "      <td>NaN</td>\n",
       "      <td>NaN</td>\n",
       "      <td>NaN</td>\n",
       "    </tr>\n",
       "    <tr>\n",
       "      <th>4</th>\n",
       "      <td>-2751.0</td>\n",
       "      <td>-28490.0</td>\n",
       "      <td>-555350.0</td>\n",
       "    </tr>\n",
       "    <tr>\n",
       "      <th>...</th>\n",
       "      <td>...</td>\n",
       "      <td>...</td>\n",
       "      <td>...</td>\n",
       "    </tr>\n",
       "    <tr>\n",
       "      <th>339</th>\n",
       "      <td>NaN</td>\n",
       "      <td>NaN</td>\n",
       "      <td>NaN</td>\n",
       "    </tr>\n",
       "    <tr>\n",
       "      <th>340</th>\n",
       "      <td>-1828.5</td>\n",
       "      <td>-26499.0</td>\n",
       "      <td>-619500.0</td>\n",
       "    </tr>\n",
       "    <tr>\n",
       "      <th>341</th>\n",
       "      <td>-1827.1</td>\n",
       "      <td>-26492.0</td>\n",
       "      <td>-618600.0</td>\n",
       "    </tr>\n",
       "    <tr>\n",
       "      <th>342</th>\n",
       "      <td>-1828.0</td>\n",
       "      <td>-26502.0</td>\n",
       "      <td>-619150.0</td>\n",
       "    </tr>\n",
       "    <tr>\n",
       "      <th>343</th>\n",
       "      <td>-1826.7</td>\n",
       "      <td>-26501.0</td>\n",
       "      <td>-618950.0</td>\n",
       "    </tr>\n",
       "  </tbody>\n",
       "</table>\n",
       "<p>344 rows × 3 columns</p>\n",
       "</div>"
      ],
      "text/plain": [
       "     bill_depth_mm  flipper_length_mm  body_mass_g\n",
       "0          -2751.6           -28502.0    -555050.0\n",
       "1          -2752.9           -28497.0    -555000.0\n",
       "2          -2752.3           -28488.0    -555550.0\n",
       "3              NaN                NaN          NaN\n",
       "4          -2751.0           -28490.0    -555350.0\n",
       "..             ...                ...          ...\n",
       "339            NaN                NaN          NaN\n",
       "340        -1828.5           -26499.0    -619500.0\n",
       "341        -1827.1           -26492.0    -618600.0\n",
       "342        -1828.0           -26502.0    -619150.0\n",
       "343        -1826.7           -26501.0    -618950.0\n",
       "\n",
       "[344 rows x 3 columns]"
      ]
     },
     "execution_count": 16,
     "metadata": {},
     "output_type": "execute_result"
    }
   ],
   "source": [
    "df.groupby(\"species\")[[\"bill_depth_mm\",\"flipper_length_mm\",\"body_mass_g\"]\n",
    "                     ].transform(lambda x: x-x.sum())"
   ]
  },
  {
   "cell_type": "markdown",
   "id": "24291074-0d55-4de9-9bf0-25808d09f8ce",
   "metadata": {},
   "source": [
    "### Agg"
   ]
  },
  {
   "cell_type": "code",
   "execution_count": 18,
   "id": "6a35bad8-9eb1-4320-abf5-3ed1b6a25caf",
   "metadata": {
    "execution": {
     "iopub.execute_input": "2022-04-14T23:06:18.711299Z",
     "iopub.status.busy": "2022-04-14T23:06:18.711009Z",
     "iopub.status.idle": "2022-04-14T23:06:18.725094Z",
     "shell.execute_reply": "2022-04-14T23:06:18.724722Z",
     "shell.execute_reply.started": "2022-04-14T23:06:18.711259Z"
    },
    "tags": []
   },
   "outputs": [
    {
     "data": {
      "text/html": [
       "<div>\n",
       "<style scoped>\n",
       "    .dataframe tbody tr th:only-of-type {\n",
       "        vertical-align: middle;\n",
       "    }\n",
       "\n",
       "    .dataframe tbody tr th {\n",
       "        vertical-align: top;\n",
       "    }\n",
       "\n",
       "    .dataframe thead th {\n",
       "        text-align: right;\n",
       "    }\n",
       "</style>\n",
       "<table border=\"1\" class=\"dataframe\">\n",
       "  <thead>\n",
       "    <tr style=\"text-align: right;\">\n",
       "      <th></th>\n",
       "      <th>A</th>\n",
       "      <th>B</th>\n",
       "      <th>C</th>\n",
       "      <th>D</th>\n",
       "    </tr>\n",
       "  </thead>\n",
       "  <tbody>\n",
       "    <tr>\n",
       "      <th>sum</th>\n",
       "      <td>25.000000</td>\n",
       "      <td>29.000000</td>\n",
       "      <td>39.000000</td>\n",
       "      <td>27.000000</td>\n",
       "    </tr>\n",
       "    <tr>\n",
       "      <th>min</th>\n",
       "      <td>0.000000</td>\n",
       "      <td>1.000000</td>\n",
       "      <td>1.000000</td>\n",
       "      <td>0.000000</td>\n",
       "    </tr>\n",
       "    <tr>\n",
       "      <th>std</th>\n",
       "      <td>3.488075</td>\n",
       "      <td>3.250641</td>\n",
       "      <td>3.885872</td>\n",
       "      <td>3.209361</td>\n",
       "    </tr>\n",
       "  </tbody>\n",
       "</table>\n",
       "</div>"
      ],
      "text/plain": [
       "             A          B          C          D\n",
       "sum  25.000000  29.000000  39.000000  27.000000\n",
       "min   0.000000   1.000000   1.000000   0.000000\n",
       "std   3.488075   3.250641   3.885872   3.209361"
      ]
     },
     "execution_count": 18,
     "metadata": {},
     "output_type": "execute_result"
    }
   ],
   "source": [
    "df = pd.DataFrame(np.random.randint(10, size=(6, 4)), columns=list('ABCD'))\n",
    "df.agg(['sum', 'min', 'std'])"
   ]
  },
  {
   "cell_type": "code",
   "execution_count": null,
   "id": "08b23b84-eeb1-4390-974b-b7d50adb42ee",
   "metadata": {},
   "outputs": [],
   "source": []
  }
 ],
 "metadata": {
  "kernelspec": {
   "display_name": "Python 3 (ipykernel)",
   "language": "python",
   "name": "python3"
  },
  "language_info": {
   "codemirror_mode": {
    "name": "ipython",
    "version": 3
   },
   "file_extension": ".py",
   "mimetype": "text/x-python",
   "name": "python",
   "nbconvert_exporter": "python",
   "pygments_lexer": "ipython3",
   "version": "3.7.12"
  }
 },
 "nbformat": 4,
 "nbformat_minor": 5
}
