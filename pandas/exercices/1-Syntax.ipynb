{
 "cells": [
  {
   "cell_type": "markdown",
   "id": "1e4ce945-5aee-4495-b36b-3bebb50a428d",
   "metadata": {},
   "source": [
    "Créer une dataframe qui contient deux colonnes A et B. A contient les nombres de 0 à 99 et B contient les 99 premiers nombres pairs."
   ]
  },
  {
   "cell_type": "code",
   "execution_count": 1,
   "id": "13241463-096b-4e8f-90cf-c25ca8956224",
   "metadata": {
    "execution": {
     "iopub.execute_input": "2021-04-27T16:50:50.582084Z",
     "iopub.status.busy": "2021-04-27T16:50:50.581868Z",
     "iopub.status.idle": "2021-04-27T16:50:50.828424Z",
     "shell.execute_reply": "2021-04-27T16:50:50.827906Z",
     "shell.execute_reply.started": "2021-04-27T16:50:50.582024Z"
    },
    "tags": []
   },
   "outputs": [],
   "source": [
    "import pandas as pd"
   ]
  },
  {
   "cell_type": "code",
   "execution_count": 2,
   "id": "d4a613c3-95fc-48e9-bb3f-9195cbdff833",
   "metadata": {
    "execution": {
     "iopub.execute_input": "2021-04-27T16:50:52.479630Z",
     "iopub.status.busy": "2021-04-27T16:50:52.479329Z",
     "iopub.status.idle": "2021-04-27T16:50:52.491032Z",
     "shell.execute_reply": "2021-04-27T16:50:52.490540Z",
     "shell.execute_reply.started": "2021-04-27T16:50:52.479595Z"
    },
    "tags": []
   },
   "outputs": [
    {
     "data": {
      "text/html": [
       "<div>\n",
       "<style scoped>\n",
       "    .dataframe tbody tr th:only-of-type {\n",
       "        vertical-align: middle;\n",
       "    }\n",
       "\n",
       "    .dataframe tbody tr th {\n",
       "        vertical-align: top;\n",
       "    }\n",
       "\n",
       "    .dataframe thead th {\n",
       "        text-align: right;\n",
       "    }\n",
       "</style>\n",
       "<table border=\"1\" class=\"dataframe\">\n",
       "  <thead>\n",
       "    <tr style=\"text-align: right;\">\n",
       "      <th></th>\n",
       "      <th>A</th>\n",
       "      <th>B</th>\n",
       "    </tr>\n",
       "  </thead>\n",
       "  <tbody>\n",
       "    <tr>\n",
       "      <th>0</th>\n",
       "      <td>0</td>\n",
       "      <td>0</td>\n",
       "    </tr>\n",
       "    <tr>\n",
       "      <th>1</th>\n",
       "      <td>1</td>\n",
       "      <td>2</td>\n",
       "    </tr>\n",
       "    <tr>\n",
       "      <th>2</th>\n",
       "      <td>2</td>\n",
       "      <td>4</td>\n",
       "    </tr>\n",
       "    <tr>\n",
       "      <th>3</th>\n",
       "      <td>3</td>\n",
       "      <td>6</td>\n",
       "    </tr>\n",
       "    <tr>\n",
       "      <th>4</th>\n",
       "      <td>4</td>\n",
       "      <td>8</td>\n",
       "    </tr>\n",
       "    <tr>\n",
       "      <th>...</th>\n",
       "      <td>...</td>\n",
       "      <td>...</td>\n",
       "    </tr>\n",
       "    <tr>\n",
       "      <th>95</th>\n",
       "      <td>95</td>\n",
       "      <td>190</td>\n",
       "    </tr>\n",
       "    <tr>\n",
       "      <th>96</th>\n",
       "      <td>96</td>\n",
       "      <td>192</td>\n",
       "    </tr>\n",
       "    <tr>\n",
       "      <th>97</th>\n",
       "      <td>97</td>\n",
       "      <td>194</td>\n",
       "    </tr>\n",
       "    <tr>\n",
       "      <th>98</th>\n",
       "      <td>98</td>\n",
       "      <td>196</td>\n",
       "    </tr>\n",
       "    <tr>\n",
       "      <th>99</th>\n",
       "      <td>99</td>\n",
       "      <td>198</td>\n",
       "    </tr>\n",
       "  </tbody>\n",
       "</table>\n",
       "<p>100 rows × 2 columns</p>\n",
       "</div>"
      ],
      "text/plain": [
       "     A    B\n",
       "0    0    0\n",
       "1    1    2\n",
       "2    2    4\n",
       "3    3    6\n",
       "4    4    8\n",
       "..  ..  ...\n",
       "95  95  190\n",
       "96  96  192\n",
       "97  97  194\n",
       "98  98  196\n",
       "99  99  198\n",
       "\n",
       "[100 rows x 2 columns]"
      ]
     },
     "execution_count": 2,
     "metadata": {},
     "output_type": "execute_result"
    }
   ],
   "source": [
    "pd.DataFrame({\"A\": range(100), \"B\": list(range(200))[::2]})"
   ]
  },
  {
   "cell_type": "code",
   "execution_count": null,
   "id": "d7d04ac7-4248-4db3-a6c5-53f2603e0909",
   "metadata": {},
   "outputs": [],
   "source": []
  },
  {
   "cell_type": "code",
   "execution_count": null,
   "id": "7891f899-4a0d-498f-b8a4-4f441287a126",
   "metadata": {},
   "outputs": [],
   "source": []
  },
  {
   "cell_type": "code",
   "execution_count": null,
   "id": "b125683e-61b1-4d51-b6bc-a64d2b15935e",
   "metadata": {},
   "outputs": [],
   "source": []
  },
  {
   "cell_type": "code",
   "execution_count": null,
   "id": "1e507af0-8d48-444a-b911-0153126795bf",
   "metadata": {},
   "outputs": [],
   "source": []
  }
 ],
 "metadata": {
  "kernelspec": {
   "display_name": "Python 3",
   "language": "python",
   "name": "python3"
  },
  "language_info": {
   "codemirror_mode": {
    "name": "ipython",
    "version": 3
   },
   "file_extension": ".py",
   "mimetype": "text/x-python",
   "name": "python",
   "nbconvert_exporter": "python",
   "pygments_lexer": "ipython3",
   "version": "3.8.8"
  }
 },
 "nbformat": 4,
 "nbformat_minor": 5
}
