{
 "cells": [
  {
   "cell_type": "code",
   "execution_count": 1,
   "id": "da9a7832-5e43-4a16-bc59-2cda6392ffab",
   "metadata": {
    "execution": {
     "iopub.execute_input": "2021-04-27T18:34:04.686695Z",
     "iopub.status.busy": "2021-04-27T18:34:04.686462Z",
     "iopub.status.idle": "2021-04-27T18:34:04.987561Z",
     "shell.execute_reply": "2021-04-27T18:34:04.986881Z",
     "shell.execute_reply.started": "2021-04-27T18:34:04.686663Z"
    },
    "tags": []
   },
   "outputs": [],
   "source": [
    "import pandas as pd"
   ]
  },
  {
   "cell_type": "markdown",
   "id": "1b6a368b-7557-4509-9913-f20b43fda83a",
   "metadata": {
    "execution": {
     "iopub.execute_input": "2021-04-27T18:28:41.684158Z",
     "iopub.status.busy": "2021-04-27T18:28:41.683653Z",
     "iopub.status.idle": "2021-04-27T18:28:41.804164Z",
     "shell.execute_reply": "2021-04-27T18:28:41.803626Z",
     "shell.execute_reply.started": "2021-04-27T18:28:41.684097Z"
    }
   },
   "source": [
    "![](images/its_a_trap.jpeg)"
   ]
  },
  {
   "cell_type": "markdown",
   "id": "0c059b8d-9473-4ead-81e6-680bda73d33d",
   "metadata": {},
   "source": [
    "## Dtypes"
   ]
  },
  {
   "cell_type": "markdown",
   "id": "229f29c3-264a-4192-a5ba-544a187308ba",
   "metadata": {},
   "source": [
    "### La conversion de la mort"
   ]
  },
  {
   "cell_type": "code",
   "execution_count": 11,
   "id": "198b9be7-4182-42c7-9be2-41d73f0657a6",
   "metadata": {
    "execution": {
     "iopub.execute_input": "2021-04-27T18:36:02.636570Z",
     "iopub.status.busy": "2021-04-27T18:36:02.636337Z",
     "iopub.status.idle": "2021-04-27T18:36:02.640063Z",
     "shell.execute_reply": "2021-04-27T18:36:02.639484Z",
     "shell.execute_reply.started": "2021-04-27T18:36:02.636543Z"
    },
    "tags": []
   },
   "outputs": [],
   "source": [
    "df = pd.DataFrame({\"A\":[3.4, 3, 12]})"
   ]
  },
  {
   "cell_type": "code",
   "execution_count": 12,
   "id": "e43118ec-8a79-4e2f-9bdd-6858aa4dbae6",
   "metadata": {
    "execution": {
     "iopub.execute_input": "2021-04-27T18:36:03.446521Z",
     "iopub.status.busy": "2021-04-27T18:36:03.446324Z",
     "iopub.status.idle": "2021-04-27T18:36:03.450549Z",
     "shell.execute_reply": "2021-04-27T18:36:03.450141Z",
     "shell.execute_reply.started": "2021-04-27T18:36:03.446499Z"
    },
    "tags": []
   },
   "outputs": [
    {
     "data": {
      "text/plain": [
       "A    float64\n",
       "dtype: object"
      ]
     },
     "execution_count": 12,
     "metadata": {},
     "output_type": "execute_result"
    }
   ],
   "source": [
    "df.dtypes"
   ]
  },
  {
   "cell_type": "code",
   "execution_count": 13,
   "id": "70ec14bf-7574-461d-8cc2-ec2c9217c1b2",
   "metadata": {
    "execution": {
     "iopub.execute_input": "2021-04-27T18:36:04.625145Z",
     "iopub.status.busy": "2021-04-27T18:36:04.624776Z",
     "iopub.status.idle": "2021-04-27T18:36:04.635080Z",
     "shell.execute_reply": "2021-04-27T18:36:04.634172Z",
     "shell.execute_reply.started": "2021-04-27T18:36:04.625101Z"
    },
    "tags": []
   },
   "outputs": [
    {
     "data": {
      "text/html": [
       "<div>\n",
       "<style scoped>\n",
       "    .dataframe tbody tr th:only-of-type {\n",
       "        vertical-align: middle;\n",
       "    }\n",
       "\n",
       "    .dataframe tbody tr th {\n",
       "        vertical-align: top;\n",
       "    }\n",
       "\n",
       "    .dataframe thead th {\n",
       "        text-align: right;\n",
       "    }\n",
       "</style>\n",
       "<table border=\"1\" class=\"dataframe\">\n",
       "  <thead>\n",
       "    <tr style=\"text-align: right;\">\n",
       "      <th></th>\n",
       "      <th>A</th>\n",
       "    </tr>\n",
       "  </thead>\n",
       "  <tbody>\n",
       "    <tr>\n",
       "      <th>0</th>\n",
       "      <td>3</td>\n",
       "    </tr>\n",
       "    <tr>\n",
       "      <th>1</th>\n",
       "      <td>3</td>\n",
       "    </tr>\n",
       "    <tr>\n",
       "      <th>2</th>\n",
       "      <td>12</td>\n",
       "    </tr>\n",
       "  </tbody>\n",
       "</table>\n",
       "</div>"
      ],
      "text/plain": [
       "    A\n",
       "0   3\n",
       "1   3\n",
       "2  12"
      ]
     },
     "execution_count": 13,
     "metadata": {},
     "output_type": "execute_result"
    }
   ],
   "source": [
    "df.astype(\"int32\")"
   ]
  },
  {
   "cell_type": "markdown",
   "id": "db635c03-a977-49a8-aa4b-4e231bed05b7",
   "metadata": {},
   "source": [
    "Pas de souci, on peut convertir les float en int pour garder de la place en mémoire et pandas fait la troncation tout seul 🎉🥂 !"
   ]
  },
  {
   "cell_type": "code",
   "execution_count": 15,
   "id": "cee5ee1b-cf6e-4141-9def-d10790b92983",
   "metadata": {
    "execution": {
     "iopub.execute_input": "2021-04-27T18:37:55.459680Z",
     "iopub.status.busy": "2021-04-27T18:37:55.459491Z",
     "iopub.status.idle": "2021-04-27T18:37:55.465524Z",
     "shell.execute_reply": "2021-04-27T18:37:55.465015Z",
     "shell.execute_reply.started": "2021-04-27T18:37:55.459658Z"
    },
    "tags": []
   },
   "outputs": [
    {
     "data": {
      "text/html": [
       "<div>\n",
       "<style scoped>\n",
       "    .dataframe tbody tr th:only-of-type {\n",
       "        vertical-align: middle;\n",
       "    }\n",
       "\n",
       "    .dataframe tbody tr th {\n",
       "        vertical-align: top;\n",
       "    }\n",
       "\n",
       "    .dataframe thead th {\n",
       "        text-align: right;\n",
       "    }\n",
       "</style>\n",
       "<table border=\"1\" class=\"dataframe\">\n",
       "  <thead>\n",
       "    <tr style=\"text-align: right;\">\n",
       "      <th></th>\n",
       "      <th>A</th>\n",
       "    </tr>\n",
       "  </thead>\n",
       "  <tbody>\n",
       "    <tr>\n",
       "      <th>0</th>\n",
       "      <td>-128</td>\n",
       "    </tr>\n",
       "    <tr>\n",
       "      <th>1</th>\n",
       "      <td>3</td>\n",
       "    </tr>\n",
       "    <tr>\n",
       "      <th>2</th>\n",
       "      <td>12</td>\n",
       "    </tr>\n",
       "  </tbody>\n",
       "</table>\n",
       "</div>"
      ],
      "text/plain": [
       "     A\n",
       "0 -128\n",
       "1    3\n",
       "2   12"
      ]
     },
     "execution_count": 15,
     "metadata": {},
     "output_type": "execute_result"
    }
   ],
   "source": [
    "pd.DataFrame({\"A\":[30000000.4, 3, 12]}).astype(\"int8\")"
   ]
  },
  {
   "cell_type": "markdown",
   "id": "16fdac34-7cc0-4a1e-8395-3b17f05daf08",
   "metadata": {
    "execution": {
     "iopub.execute_input": "2021-04-27T18:38:32.728254Z",
     "iopub.status.busy": "2021-04-27T18:38:32.728084Z",
     "iopub.status.idle": "2021-04-27T18:38:32.731133Z",
     "shell.execute_reply": "2021-04-27T18:38:32.730520Z",
     "shell.execute_reply.started": "2021-04-27T18:38:32.728234Z"
    }
   },
   "source": [
    "😭"
   ]
  },
  {
   "cell_type": "markdown",
   "id": "136421f3-d914-4569-8952-a906d43a1605",
   "metadata": {},
   "source": [
    "Il faut faire attention sur les conversions et s'assurer que le type d'arrivée est compatible avec le type initial."
   ]
  },
  {
   "cell_type": "code",
   "execution_count": 20,
   "id": "0ff8c0aa-1fc0-40f0-b7c4-44874be946aa",
   "metadata": {
    "execution": {
     "iopub.execute_input": "2021-04-27T18:42:15.949875Z",
     "iopub.status.busy": "2021-04-27T18:42:15.949118Z",
     "iopub.status.idle": "2021-04-27T18:42:15.968718Z",
     "shell.execute_reply": "2021-04-27T18:42:15.967464Z",
     "shell.execute_reply.started": "2021-04-27T18:42:15.949768Z"
    }
   },
   "outputs": [
    {
     "data": {
      "text/html": [
       "<div>\n",
       "<style scoped>\n",
       "    .dataframe tbody tr th:only-of-type {\n",
       "        vertical-align: middle;\n",
       "    }\n",
       "\n",
       "    .dataframe tbody tr th {\n",
       "        vertical-align: top;\n",
       "    }\n",
       "\n",
       "    .dataframe thead th {\n",
       "        text-align: right;\n",
       "    }\n",
       "</style>\n",
       "<table border=\"1\" class=\"dataframe\">\n",
       "  <thead>\n",
       "    <tr style=\"text-align: right;\">\n",
       "      <th></th>\n",
       "      <th>A</th>\n",
       "    </tr>\n",
       "  </thead>\n",
       "  <tbody>\n",
       "    <tr>\n",
       "      <th>0</th>\n",
       "      <td>3.141593</td>\n",
       "    </tr>\n",
       "    <tr>\n",
       "      <th>1</th>\n",
       "      <td>3.000000</td>\n",
       "    </tr>\n",
       "    <tr>\n",
       "      <th>2</th>\n",
       "      <td>12.000000</td>\n",
       "    </tr>\n",
       "  </tbody>\n",
       "</table>\n",
       "</div>"
      ],
      "text/plain": [
       "           A\n",
       "0   3.141593\n",
       "1   3.000000\n",
       "2  12.000000"
      ]
     },
     "execution_count": 20,
     "metadata": {},
     "output_type": "execute_result"
    }
   ],
   "source": [
    "pd.DataFrame({\"A\":[3.141592653589793238462643383279, 3.0, 12.0]})#.astype(\"int8\")"
   ]
  },
  {
   "cell_type": "code",
   "execution_count": 23,
   "id": "e628725d-5205-47eb-a4b1-41b3621f9d1e",
   "metadata": {
    "execution": {
     "iopub.execute_input": "2021-04-27T18:42:40.183752Z",
     "iopub.status.busy": "2021-04-27T18:42:40.183554Z",
     "iopub.status.idle": "2021-04-27T18:42:40.190096Z",
     "shell.execute_reply": "2021-04-27T18:42:40.189549Z",
     "shell.execute_reply.started": "2021-04-27T18:42:40.183730Z"
    },
    "tags": []
   },
   "outputs": [
    {
     "data": {
      "text/html": [
       "<div>\n",
       "<style scoped>\n",
       "    .dataframe tbody tr th:only-of-type {\n",
       "        vertical-align: middle;\n",
       "    }\n",
       "\n",
       "    .dataframe tbody tr th {\n",
       "        vertical-align: top;\n",
       "    }\n",
       "\n",
       "    .dataframe thead th {\n",
       "        text-align: right;\n",
       "    }\n",
       "</style>\n",
       "<table border=\"1\" class=\"dataframe\">\n",
       "  <thead>\n",
       "    <tr style=\"text-align: right;\">\n",
       "      <th></th>\n",
       "      <th>A</th>\n",
       "    </tr>\n",
       "  </thead>\n",
       "  <tbody>\n",
       "    <tr>\n",
       "      <th>0</th>\n",
       "      <td>3.140625</td>\n",
       "    </tr>\n",
       "    <tr>\n",
       "      <th>1</th>\n",
       "      <td>3.000000</td>\n",
       "    </tr>\n",
       "    <tr>\n",
       "      <th>2</th>\n",
       "      <td>12.000000</td>\n",
       "    </tr>\n",
       "  </tbody>\n",
       "</table>\n",
       "</div>"
      ],
      "text/plain": [
       "           A\n",
       "0   3.140625\n",
       "1   3.000000\n",
       "2  12.000000"
      ]
     },
     "execution_count": 23,
     "metadata": {},
     "output_type": "execute_result"
    }
   ],
   "source": [
    "pd.DataFrame({\"A\":[3.141592653589793238462643383279, 3.0, 12.0]}).astype(\"float16\")"
   ]
  },
  {
   "cell_type": "markdown",
   "id": "7571a5ad-a918-4775-8b11-338b8e4fa028",
   "metadata": {},
   "source": [
    "#### Mixed dtypes"
   ]
  },
  {
   "cell_type": "code",
   "execution_count": 33,
   "id": "104973cf-9a35-4a36-b56c-e0f5e3dc8589",
   "metadata": {
    "execution": {
     "iopub.execute_input": "2021-04-27T18:47:12.704803Z",
     "iopub.status.busy": "2021-04-27T18:47:12.704634Z",
     "iopub.status.idle": "2021-04-27T18:47:12.707318Z",
     "shell.execute_reply": "2021-04-27T18:47:12.706897Z",
     "shell.execute_reply.started": "2021-04-27T18:47:12.704783Z"
    },
    "tags": []
   },
   "outputs": [],
   "source": [
    "df = pd.DataFrame(list(range(100)))"
   ]
  },
  {
   "cell_type": "code",
   "execution_count": 34,
   "id": "925861ed-1533-435c-9f12-3b0004034e38",
   "metadata": {
    "execution": {
     "iopub.execute_input": "2021-04-27T18:47:12.939565Z",
     "iopub.status.busy": "2021-04-27T18:47:12.939375Z",
     "iopub.status.idle": "2021-04-27T18:47:12.943287Z",
     "shell.execute_reply": "2021-04-27T18:47:12.942819Z",
     "shell.execute_reply.started": "2021-04-27T18:47:12.939537Z"
    },
    "tags": []
   },
   "outputs": [
    {
     "data": {
      "text/plain": [
       "0    int64\n",
       "dtype: object"
      ]
     },
     "execution_count": 34,
     "metadata": {},
     "output_type": "execute_result"
    }
   ],
   "source": [
    "df.dtypes"
   ]
  },
  {
   "cell_type": "code",
   "execution_count": 38,
   "id": "9f517e60-d826-4290-b31a-0c7c8f20106d",
   "metadata": {
    "execution": {
     "iopub.execute_input": "2021-04-27T18:47:36.459373Z",
     "iopub.status.busy": "2021-04-27T18:47:36.459172Z",
     "iopub.status.idle": "2021-04-27T18:47:36.462144Z",
     "shell.execute_reply": "2021-04-27T18:47:36.461659Z",
     "shell.execute_reply.started": "2021-04-27T18:47:36.459350Z"
    },
    "tags": []
   },
   "outputs": [],
   "source": [
    "df.iloc[2] = \"coucou\""
   ]
  },
  {
   "cell_type": "code",
   "execution_count": 39,
   "id": "7360416a-a427-43bd-9ed0-e71f2516d747",
   "metadata": {
    "execution": {
     "iopub.execute_input": "2021-04-27T18:47:37.224823Z",
     "iopub.status.busy": "2021-04-27T18:47:37.224653Z",
     "iopub.status.idle": "2021-04-27T18:47:37.228562Z",
     "shell.execute_reply": "2021-04-27T18:47:37.228184Z",
     "shell.execute_reply.started": "2021-04-27T18:47:37.224804Z"
    },
    "tags": []
   },
   "outputs": [
    {
     "data": {
      "text/plain": [
       "0    object\n",
       "dtype: object"
      ]
     },
     "execution_count": 39,
     "metadata": {},
     "output_type": "execute_result"
    }
   ],
   "source": [
    "df.dtypes"
   ]
  },
  {
   "cell_type": "code",
   "execution_count": 51,
   "id": "8d6e4ad4-b93d-4ca7-8b05-62534d6eacd1",
   "metadata": {
    "execution": {
     "iopub.execute_input": "2021-04-27T18:48:58.349248Z",
     "iopub.status.busy": "2021-04-27T18:48:58.349050Z",
     "iopub.status.idle": "2021-04-27T18:48:58.353294Z",
     "shell.execute_reply": "2021-04-27T18:48:58.352679Z",
     "shell.execute_reply.started": "2021-04-27T18:48:58.349224Z"
    },
    "tags": []
   },
   "outputs": [
    {
     "data": {
      "text/plain": [
       "int"
      ]
     },
     "execution_count": 51,
     "metadata": {},
     "output_type": "execute_result"
    }
   ],
   "source": [
    "type(df.iloc[5].values[0])"
   ]
  },
  {
   "cell_type": "markdown",
   "id": "d0d8bcbe-bd87-4742-877e-58f6ea9bd9ad",
   "metadata": {},
   "source": [
    "Il arrive souvent d'avoir des mixed dtypes en lisant un csv car pandas les lis en chunk, puis attribue un type.   \n",
    "Souvent sur les départements, 2A et 2B vont générer des mixed dtypes sur la série."
   ]
  },
  {
   "cell_type": "markdown",
   "id": "b75b84f2-0009-4d44-b0d4-0110149f8fd1",
   "metadata": {},
   "source": [
    "#### L'index qui joue des tours"
   ]
  },
  {
   "cell_type": "code",
   "execution_count": 53,
   "id": "fe130cc5-300f-46c8-bbd4-272b7a9537ef",
   "metadata": {
    "execution": {
     "iopub.execute_input": "2021-04-27T18:50:41.069852Z",
     "iopub.status.busy": "2021-04-27T18:50:41.069649Z",
     "iopub.status.idle": "2021-04-27T18:50:41.072951Z",
     "shell.execute_reply": "2021-04-27T18:50:41.072527Z",
     "shell.execute_reply.started": "2021-04-27T18:50:41.069817Z"
    },
    "tags": []
   },
   "outputs": [],
   "source": [
    "df1 = pd.DataFrame(list(range(100)))\n",
    "df2 = pd.DataFrame(list(range(100)))"
   ]
  },
  {
   "cell_type": "code",
   "execution_count": 55,
   "id": "a1b9bd23-3f25-448b-a40e-daa365e43185",
   "metadata": {
    "execution": {
     "iopub.execute_input": "2021-04-27T18:51:07.852284Z",
     "iopub.status.busy": "2021-04-27T18:51:07.852038Z",
     "iopub.status.idle": "2021-04-27T18:51:07.856285Z",
     "shell.execute_reply": "2021-04-27T18:51:07.855721Z",
     "shell.execute_reply.started": "2021-04-27T18:51:07.852255Z"
    },
    "tags": []
   },
   "outputs": [],
   "source": [
    "df1[\"Somme\"] = df1+df2"
   ]
  },
  {
   "cell_type": "code",
   "execution_count": 64,
   "id": "fbcd8620-0645-465e-afb2-c2ae9cc09261",
   "metadata": {
    "execution": {
     "iopub.execute_input": "2021-04-27T18:53:42.237717Z",
     "iopub.status.busy": "2021-04-27T18:53:42.237519Z",
     "iopub.status.idle": "2021-04-27T18:53:42.246183Z",
     "shell.execute_reply": "2021-04-27T18:53:42.245762Z",
     "shell.execute_reply.started": "2021-04-27T18:53:42.237694Z"
    },
    "tags": []
   },
   "outputs": [
    {
     "data": {
      "text/html": [
       "<div>\n",
       "<style scoped>\n",
       "    .dataframe tbody tr th:only-of-type {\n",
       "        vertical-align: middle;\n",
       "    }\n",
       "\n",
       "    .dataframe tbody tr th {\n",
       "        vertical-align: top;\n",
       "    }\n",
       "\n",
       "    .dataframe thead th {\n",
       "        text-align: right;\n",
       "    }\n",
       "</style>\n",
       "<table border=\"1\" class=\"dataframe\">\n",
       "  <thead>\n",
       "    <tr style=\"text-align: right;\">\n",
       "      <th></th>\n",
       "      <th>0</th>\n",
       "      <th>Somme</th>\n",
       "    </tr>\n",
       "  </thead>\n",
       "  <tbody>\n",
       "    <tr>\n",
       "      <th>0</th>\n",
       "      <td>0</td>\n",
       "      <td>NaN</td>\n",
       "    </tr>\n",
       "    <tr>\n",
       "      <th>1</th>\n",
       "      <td>1</td>\n",
       "      <td>NaN</td>\n",
       "    </tr>\n",
       "    <tr>\n",
       "      <th>2</th>\n",
       "      <td>2</td>\n",
       "      <td>NaN</td>\n",
       "    </tr>\n",
       "    <tr>\n",
       "      <th>3</th>\n",
       "      <td>3</td>\n",
       "      <td>NaN</td>\n",
       "    </tr>\n",
       "    <tr>\n",
       "      <th>4</th>\n",
       "      <td>4</td>\n",
       "      <td>NaN</td>\n",
       "    </tr>\n",
       "    <tr>\n",
       "      <th>...</th>\n",
       "      <td>...</td>\n",
       "      <td>...</td>\n",
       "    </tr>\n",
       "    <tr>\n",
       "      <th>95</th>\n",
       "      <td>95</td>\n",
       "      <td>140.0</td>\n",
       "    </tr>\n",
       "    <tr>\n",
       "      <th>96</th>\n",
       "      <td>96</td>\n",
       "      <td>142.0</td>\n",
       "    </tr>\n",
       "    <tr>\n",
       "      <th>97</th>\n",
       "      <td>97</td>\n",
       "      <td>144.0</td>\n",
       "    </tr>\n",
       "    <tr>\n",
       "      <th>98</th>\n",
       "      <td>98</td>\n",
       "      <td>146.0</td>\n",
       "    </tr>\n",
       "    <tr>\n",
       "      <th>99</th>\n",
       "      <td>99</td>\n",
       "      <td>148.0</td>\n",
       "    </tr>\n",
       "  </tbody>\n",
       "</table>\n",
       "<p>100 rows × 2 columns</p>\n",
       "</div>"
      ],
      "text/plain": [
       "     0  Somme\n",
       "0    0    NaN\n",
       "1    1    NaN\n",
       "2    2    NaN\n",
       "3    3    NaN\n",
       "4    4    NaN\n",
       "..  ..    ...\n",
       "95  95  140.0\n",
       "96  96  142.0\n",
       "97  97  144.0\n",
       "98  98  146.0\n",
       "99  99  148.0\n",
       "\n",
       "[100 rows x 2 columns]"
      ]
     },
     "execution_count": 64,
     "metadata": {},
     "output_type": "execute_result"
    }
   ],
   "source": [
    "df1  # On a bien créé la somme de la colonne de df1  et de la conlonne de df2"
   ]
  },
  {
   "cell_type": "code",
   "execution_count": 65,
   "id": "5c49643c-476e-4f59-9a0c-0a1e3282b7f8",
   "metadata": {
    "execution": {
     "iopub.execute_input": "2021-04-27T18:53:43.120289Z",
     "iopub.status.busy": "2021-04-27T18:53:43.120066Z",
     "iopub.status.idle": "2021-04-27T18:53:43.123396Z",
     "shell.execute_reply": "2021-04-27T18:53:43.122779Z",
     "shell.execute_reply.started": "2021-04-27T18:53:43.120265Z"
    },
    "tags": []
   },
   "outputs": [],
   "source": [
    "df2.index = list(range(50, 150))"
   ]
  },
  {
   "cell_type": "code",
   "execution_count": 67,
   "id": "f1b821c3-27ef-4716-95f8-2a6d3fa09dd0",
   "metadata": {
    "execution": {
     "iopub.execute_input": "2021-04-27T18:53:51.253280Z",
     "iopub.status.busy": "2021-04-27T18:53:51.253087Z",
     "iopub.status.idle": "2021-04-27T18:53:51.259794Z",
     "shell.execute_reply": "2021-04-27T18:53:51.259240Z",
     "shell.execute_reply.started": "2021-04-27T18:53:51.253258Z"
    },
    "tags": []
   },
   "outputs": [
    {
     "data": {
      "text/html": [
       "<div>\n",
       "<style scoped>\n",
       "    .dataframe tbody tr th:only-of-type {\n",
       "        vertical-align: middle;\n",
       "    }\n",
       "\n",
       "    .dataframe tbody tr th {\n",
       "        vertical-align: top;\n",
       "    }\n",
       "\n",
       "    .dataframe thead th {\n",
       "        text-align: right;\n",
       "    }\n",
       "</style>\n",
       "<table border=\"1\" class=\"dataframe\">\n",
       "  <thead>\n",
       "    <tr style=\"text-align: right;\">\n",
       "      <th></th>\n",
       "      <th>0</th>\n",
       "    </tr>\n",
       "  </thead>\n",
       "  <tbody>\n",
       "    <tr>\n",
       "      <th>50</th>\n",
       "      <td>0</td>\n",
       "    </tr>\n",
       "    <tr>\n",
       "      <th>51</th>\n",
       "      <td>1</td>\n",
       "    </tr>\n",
       "    <tr>\n",
       "      <th>52</th>\n",
       "      <td>2</td>\n",
       "    </tr>\n",
       "    <tr>\n",
       "      <th>53</th>\n",
       "      <td>3</td>\n",
       "    </tr>\n",
       "    <tr>\n",
       "      <th>54</th>\n",
       "      <td>4</td>\n",
       "    </tr>\n",
       "    <tr>\n",
       "      <th>...</th>\n",
       "      <td>...</td>\n",
       "    </tr>\n",
       "    <tr>\n",
       "      <th>145</th>\n",
       "      <td>95</td>\n",
       "    </tr>\n",
       "    <tr>\n",
       "      <th>146</th>\n",
       "      <td>96</td>\n",
       "    </tr>\n",
       "    <tr>\n",
       "      <th>147</th>\n",
       "      <td>97</td>\n",
       "    </tr>\n",
       "    <tr>\n",
       "      <th>148</th>\n",
       "      <td>98</td>\n",
       "    </tr>\n",
       "    <tr>\n",
       "      <th>149</th>\n",
       "      <td>99</td>\n",
       "    </tr>\n",
       "  </tbody>\n",
       "</table>\n",
       "<p>100 rows × 1 columns</p>\n",
       "</div>"
      ],
      "text/plain": [
       "      0\n",
       "50    0\n",
       "51    1\n",
       "52    2\n",
       "53    3\n",
       "54    4\n",
       "..   ..\n",
       "145  95\n",
       "146  96\n",
       "147  97\n",
       "148  98\n",
       "149  99\n",
       "\n",
       "[100 rows x 1 columns]"
      ]
     },
     "execution_count": 67,
     "metadata": {},
     "output_type": "execute_result"
    }
   ],
   "source": [
    "df2"
   ]
  },
  {
   "cell_type": "code",
   "execution_count": 68,
   "id": "f16b4452-c5be-446e-b245-724bd099725e",
   "metadata": {
    "execution": {
     "iopub.execute_input": "2021-04-27T18:53:51.452723Z",
     "iopub.status.busy": "2021-04-27T18:53:51.452287Z",
     "iopub.status.idle": "2021-04-27T18:53:51.463415Z",
     "shell.execute_reply": "2021-04-27T18:53:51.462970Z",
     "shell.execute_reply.started": "2021-04-27T18:53:51.452682Z"
    },
    "tags": []
   },
   "outputs": [],
   "source": [
    "df1[\"Somme\"] = df1+df2"
   ]
  },
  {
   "cell_type": "code",
   "execution_count": 69,
   "id": "972c3b15-639f-4f1e-b033-80375376536e",
   "metadata": {
    "execution": {
     "iopub.execute_input": "2021-04-27T18:53:51.853131Z",
     "iopub.status.busy": "2021-04-27T18:53:51.852827Z",
     "iopub.status.idle": "2021-04-27T18:53:51.866331Z",
     "shell.execute_reply": "2021-04-27T18:53:51.865717Z",
     "shell.execute_reply.started": "2021-04-27T18:53:51.853099Z"
    },
    "tags": []
   },
   "outputs": [
    {
     "data": {
      "text/html": [
       "<div>\n",
       "<style scoped>\n",
       "    .dataframe tbody tr th:only-of-type {\n",
       "        vertical-align: middle;\n",
       "    }\n",
       "\n",
       "    .dataframe tbody tr th {\n",
       "        vertical-align: top;\n",
       "    }\n",
       "\n",
       "    .dataframe thead th {\n",
       "        text-align: right;\n",
       "    }\n",
       "</style>\n",
       "<table border=\"1\" class=\"dataframe\">\n",
       "  <thead>\n",
       "    <tr style=\"text-align: right;\">\n",
       "      <th></th>\n",
       "      <th>0</th>\n",
       "      <th>Somme</th>\n",
       "    </tr>\n",
       "  </thead>\n",
       "  <tbody>\n",
       "    <tr>\n",
       "      <th>0</th>\n",
       "      <td>0</td>\n",
       "      <td>NaN</td>\n",
       "    </tr>\n",
       "    <tr>\n",
       "      <th>1</th>\n",
       "      <td>1</td>\n",
       "      <td>NaN</td>\n",
       "    </tr>\n",
       "    <tr>\n",
       "      <th>2</th>\n",
       "      <td>2</td>\n",
       "      <td>NaN</td>\n",
       "    </tr>\n",
       "    <tr>\n",
       "      <th>3</th>\n",
       "      <td>3</td>\n",
       "      <td>NaN</td>\n",
       "    </tr>\n",
       "    <tr>\n",
       "      <th>4</th>\n",
       "      <td>4</td>\n",
       "      <td>NaN</td>\n",
       "    </tr>\n",
       "    <tr>\n",
       "      <th>...</th>\n",
       "      <td>...</td>\n",
       "      <td>...</td>\n",
       "    </tr>\n",
       "    <tr>\n",
       "      <th>95</th>\n",
       "      <td>95</td>\n",
       "      <td>140.0</td>\n",
       "    </tr>\n",
       "    <tr>\n",
       "      <th>96</th>\n",
       "      <td>96</td>\n",
       "      <td>142.0</td>\n",
       "    </tr>\n",
       "    <tr>\n",
       "      <th>97</th>\n",
       "      <td>97</td>\n",
       "      <td>144.0</td>\n",
       "    </tr>\n",
       "    <tr>\n",
       "      <th>98</th>\n",
       "      <td>98</td>\n",
       "      <td>146.0</td>\n",
       "    </tr>\n",
       "    <tr>\n",
       "      <th>99</th>\n",
       "      <td>99</td>\n",
       "      <td>148.0</td>\n",
       "    </tr>\n",
       "  </tbody>\n",
       "</table>\n",
       "<p>100 rows × 2 columns</p>\n",
       "</div>"
      ],
      "text/plain": [
       "     0  Somme\n",
       "0    0    NaN\n",
       "1    1    NaN\n",
       "2    2    NaN\n",
       "3    3    NaN\n",
       "4    4    NaN\n",
       "..  ..    ...\n",
       "95  95  140.0\n",
       "96  96  142.0\n",
       "97  97  144.0\n",
       "98  98  146.0\n",
       "99  99  148.0\n",
       "\n",
       "[100 rows x 2 columns]"
      ]
     },
     "execution_count": 69,
     "metadata": {},
     "output_type": "execute_result"
    }
   ],
   "source": [
    "df1"
   ]
  },
  {
   "cell_type": "markdown",
   "id": "60b89157-ceed-4458-b487-5017b498f6f0",
   "metadata": {},
   "source": [
    "Il manque les 50 premières valeurs. Ce comportement vaut aussi pour les conditions, les masks, etc !"
   ]
  },
  {
   "cell_type": "code",
   "execution_count": 70,
   "id": "4cf9dfbd-74b8-4a16-a425-58070788abe8",
   "metadata": {
    "execution": {
     "iopub.execute_input": "2021-04-27T18:55:26.350285Z",
     "iopub.status.busy": "2021-04-27T18:55:26.349694Z",
     "iopub.status.idle": "2021-04-27T18:55:26.358997Z",
     "shell.execute_reply": "2021-04-27T18:55:26.357397Z",
     "shell.execute_reply.started": "2021-04-27T18:55:26.350216Z"
    }
   },
   "outputs": [],
   "source": [
    "df1 = pd.DataFrame(list(range(100)))\n",
    "df2 = pd.DataFrame(list(range(100)))"
   ]
  },
  {
   "cell_type": "code",
   "execution_count": 72,
   "id": "e8c138cd-586b-49dc-a13f-86baaab66acf",
   "metadata": {
    "execution": {
     "iopub.execute_input": "2021-04-27T18:55:29.280171Z",
     "iopub.status.busy": "2021-04-27T18:55:29.279615Z",
     "iopub.status.idle": "2021-04-27T18:55:29.292650Z",
     "shell.execute_reply": "2021-04-27T18:55:29.291575Z",
     "shell.execute_reply.started": "2021-04-27T18:55:29.280104Z"
    },
    "tags": []
   },
   "outputs": [
    {
     "data": {
      "text/html": [
       "<div>\n",
       "<style scoped>\n",
       "    .dataframe tbody tr th:only-of-type {\n",
       "        vertical-align: middle;\n",
       "    }\n",
       "\n",
       "    .dataframe tbody tr th {\n",
       "        vertical-align: top;\n",
       "    }\n",
       "\n",
       "    .dataframe thead th {\n",
       "        text-align: right;\n",
       "    }\n",
       "</style>\n",
       "<table border=\"1\" class=\"dataframe\">\n",
       "  <thead>\n",
       "    <tr style=\"text-align: right;\">\n",
       "      <th></th>\n",
       "      <th>0</th>\n",
       "    </tr>\n",
       "  </thead>\n",
       "  <tbody>\n",
       "    <tr>\n",
       "      <th>0</th>\n",
       "      <td>0</td>\n",
       "    </tr>\n",
       "    <tr>\n",
       "      <th>1</th>\n",
       "      <td>1</td>\n",
       "    </tr>\n",
       "    <tr>\n",
       "      <th>2</th>\n",
       "      <td>2</td>\n",
       "    </tr>\n",
       "    <tr>\n",
       "      <th>3</th>\n",
       "      <td>3</td>\n",
       "    </tr>\n",
       "    <tr>\n",
       "      <th>4</th>\n",
       "      <td>4</td>\n",
       "    </tr>\n",
       "    <tr>\n",
       "      <th>...</th>\n",
       "      <td>...</td>\n",
       "    </tr>\n",
       "    <tr>\n",
       "      <th>95</th>\n",
       "      <td>95</td>\n",
       "    </tr>\n",
       "    <tr>\n",
       "      <th>96</th>\n",
       "      <td>96</td>\n",
       "    </tr>\n",
       "    <tr>\n",
       "      <th>97</th>\n",
       "      <td>97</td>\n",
       "    </tr>\n",
       "    <tr>\n",
       "      <th>98</th>\n",
       "      <td>98</td>\n",
       "    </tr>\n",
       "    <tr>\n",
       "      <th>99</th>\n",
       "      <td>99</td>\n",
       "    </tr>\n",
       "  </tbody>\n",
       "</table>\n",
       "<p>100 rows × 1 columns</p>\n",
       "</div>"
      ],
      "text/plain": [
       "     0\n",
       "0    0\n",
       "1    1\n",
       "2    2\n",
       "3    3\n",
       "4    4\n",
       "..  ..\n",
       "95  95\n",
       "96  96\n",
       "97  97\n",
       "98  98\n",
       "99  99\n",
       "\n",
       "[100 rows x 1 columns]"
      ]
     },
     "execution_count": 72,
     "metadata": {},
     "output_type": "execute_result"
    }
   ],
   "source": [
    "df1"
   ]
  },
  {
   "cell_type": "markdown",
   "id": "7234eba3-9e12-47f8-8e1c-16d5a296b264",
   "metadata": {},
   "source": [
    "### View vs copy"
   ]
  },
  {
   "cell_type": "markdown",
   "id": "eaee4d50-f613-4113-8a85-3837e481b181",
   "metadata": {},
   "source": [
    "https://pandas.pydata.org/docs/user_guide/basics.html?highlight=dtype#copying"
   ]
  },
  {
   "cell_type": "code",
   "execution_count": null,
   "id": "19566f6c-aecf-48dd-80de-6b255e9ba33e",
   "metadata": {},
   "outputs": [],
   "source": []
  },
  {
   "cell_type": "code",
   "execution_count": null,
   "id": "8c810720-db26-488b-bc89-4f3395feb416",
   "metadata": {},
   "outputs": [],
   "source": []
  },
  {
   "cell_type": "code",
   "execution_count": 80,
   "id": "1bcc1b3d-f7a6-44df-b0ef-a5c9d871a432",
   "metadata": {
    "execution": {
     "iopub.execute_input": "2021-04-27T23:17:50.419784Z",
     "iopub.status.busy": "2021-04-27T23:17:50.419605Z",
     "iopub.status.idle": "2021-04-27T23:17:50.423419Z",
     "shell.execute_reply": "2021-04-27T23:17:50.422883Z",
     "shell.execute_reply.started": "2021-04-27T23:17:50.419764Z"
    },
    "tags": []
   },
   "outputs": [
    {
     "data": {
      "text/plain": [
       "0.9999999999999999"
      ]
     },
     "execution_count": 80,
     "metadata": {},
     "output_type": "execute_result"
    }
   ],
   "source": [
    "(19/155)*(155/19)"
   ]
  },
  {
   "cell_type": "code",
   "execution_count": 85,
   "id": "bd2e09dc-dd12-416c-9014-ee1ae81934df",
   "metadata": {
    "execution": {
     "iopub.execute_input": "2021-04-27T23:18:59.437249Z",
     "iopub.status.busy": "2021-04-27T23:18:59.437052Z",
     "iopub.status.idle": "2021-04-27T23:18:59.439870Z",
     "shell.execute_reply": "2021-04-27T23:18:59.439411Z",
     "shell.execute_reply.started": "2021-04-27T23:18:59.437226Z"
    }
   },
   "outputs": [],
   "source": [
    "a = (19/155)"
   ]
  },
  {
   "cell_type": "code",
   "execution_count": 87,
   "id": "8a615848-5a26-48d5-bbdc-259d74c6fbef",
   "metadata": {
    "execution": {
     "iopub.execute_input": "2021-04-27T23:19:19.053779Z",
     "iopub.status.busy": "2021-04-27T23:19:19.053605Z",
     "iopub.status.idle": "2021-04-27T23:19:19.057048Z",
     "shell.execute_reply": "2021-04-27T23:19:19.056563Z",
     "shell.execute_reply.started": "2021-04-27T23:19:19.053759Z"
    },
    "tags": []
   },
   "outputs": [
    {
     "data": {
      "text/plain": [
       "1.0"
      ]
     },
     "execution_count": 87,
     "metadata": {},
     "output_type": "execute_result"
    }
   ],
   "source": [
    "a*(1/a)"
   ]
  },
  {
   "cell_type": "code",
   "execution_count": 93,
   "id": "096cd641-b6b7-4885-8e18-d1513e4a7cbd",
   "metadata": {
    "execution": {
     "iopub.execute_input": "2021-04-27T23:22:34.492958Z",
     "iopub.status.busy": "2021-04-27T23:22:34.492775Z",
     "iopub.status.idle": "2021-04-27T23:22:34.495382Z",
     "shell.execute_reply": "2021-04-27T23:22:34.494852Z",
     "shell.execute_reply.started": "2021-04-27T23:22:34.492936Z"
    }
   },
   "outputs": [],
   "source": [
    "b = (155/19)"
   ]
  },
  {
   "cell_type": "code",
   "execution_count": 94,
   "id": "ebec8d4c-111c-4e83-82e6-e1e9fdd205e1",
   "metadata": {
    "execution": {
     "iopub.execute_input": "2021-04-27T23:22:40.657343Z",
     "iopub.status.busy": "2021-04-27T23:22:40.656630Z",
     "iopub.status.idle": "2021-04-27T23:22:40.668589Z",
     "shell.execute_reply": "2021-04-27T23:22:40.666775Z",
     "shell.execute_reply.started": "2021-04-27T23:22:40.657241Z"
    }
   },
   "outputs": [
    {
     "data": {
      "text/plain": [
       "0.9999999999999999"
      ]
     },
     "execution_count": 94,
     "metadata": {},
     "output_type": "execute_result"
    }
   ],
   "source": [
    "a * b"
   ]
  },
  {
   "cell_type": "markdown",
   "id": "0e85c5d9-46b5-4bab-9279-f224db5a72f9",
   "metadata": {},
   "source": [
    "##### Heureusement il y a numpy"
   ]
  },
  {
   "cell_type": "code",
   "execution_count": 95,
   "id": "eebde816-f44b-4db5-ab25-8d2797dfff4d",
   "metadata": {
    "execution": {
     "iopub.execute_input": "2021-04-27T23:22:58.763396Z",
     "iopub.status.busy": "2021-04-27T23:22:58.762827Z",
     "iopub.status.idle": "2021-04-27T23:22:58.769923Z",
     "shell.execute_reply": "2021-04-27T23:22:58.768162Z",
     "shell.execute_reply.started": "2021-04-27T23:22:58.763327Z"
    },
    "tags": []
   },
   "outputs": [],
   "source": [
    "import numpy as np"
   ]
  },
  {
   "cell_type": "code",
   "execution_count": 98,
   "id": "e5cd616b-462a-4088-ab08-d20490dd0aa8",
   "metadata": {
    "execution": {
     "iopub.execute_input": "2021-04-27T23:23:19.729761Z",
     "iopub.status.busy": "2021-04-27T23:23:19.729555Z",
     "iopub.status.idle": "2021-04-27T23:23:19.732849Z",
     "shell.execute_reply": "2021-04-27T23:23:19.732244Z",
     "shell.execute_reply.started": "2021-04-27T23:23:19.729737Z"
    },
    "tags": []
   },
   "outputs": [],
   "source": [
    "a = np.array([19])/np.array([155])\n",
    "b = np.array([155])/np.array([19])"
   ]
  },
  {
   "cell_type": "code",
   "execution_count": 99,
   "id": "bedae8fa-580f-4acf-8352-db9309d431cd",
   "metadata": {
    "execution": {
     "iopub.execute_input": "2021-04-27T23:23:24.767037Z",
     "iopub.status.busy": "2021-04-27T23:23:24.766855Z",
     "iopub.status.idle": "2021-04-27T23:23:24.770167Z",
     "shell.execute_reply": "2021-04-27T23:23:24.769723Z",
     "shell.execute_reply.started": "2021-04-27T23:23:24.767017Z"
    },
    "tags": []
   },
   "outputs": [
    {
     "data": {
      "text/plain": [
       "array([1.])"
      ]
     },
     "execution_count": 99,
     "metadata": {},
     "output_type": "execute_result"
    }
   ],
   "source": [
    "a * b"
   ]
  },
  {
   "cell_type": "code",
   "execution_count": 101,
   "id": "d6c0e6ee-79b9-44a9-b5f0-c2545bc916e1",
   "metadata": {
    "execution": {
     "iopub.execute_input": "2021-04-27T23:24:29.820097Z",
     "iopub.status.busy": "2021-04-27T23:24:29.819905Z",
     "iopub.status.idle": "2021-04-27T23:24:29.824215Z",
     "shell.execute_reply": "2021-04-27T23:24:29.823682Z",
     "shell.execute_reply.started": "2021-04-27T23:24:29.820075Z"
    },
    "tags": []
   },
   "outputs": [
    {
     "data": {
      "text/plain": [
       "array([1.])"
      ]
     },
     "execution_count": 101,
     "metadata": {},
     "output_type": "execute_result"
    }
   ],
   "source": [
    "(\n",
    "    (np.array([19]) / np.array([155]))\n",
    "    * (np.array([155]) / np.array([19]))\n",
    ")"
   ]
  },
  {
   "cell_type": "code",
   "execution_count": null,
   "id": "4bcb4dc4-d0e7-4df0-b323-963a6664846e",
   "metadata": {},
   "outputs": [],
   "source": []
  }
 ],
 "metadata": {
  "kernelspec": {
   "display_name": "Python 3",
   "language": "python",
   "name": "python3"
  },
  "language_info": {
   "codemirror_mode": {
    "name": "ipython",
    "version": 3
   },
   "file_extension": ".py",
   "mimetype": "text/x-python",
   "name": "python",
   "nbconvert_exporter": "python",
   "pygments_lexer": "ipython3",
   "version": "3.8.8"
  }
 },
 "nbformat": 4,
 "nbformat_minor": 5
}
