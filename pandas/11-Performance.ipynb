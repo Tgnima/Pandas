{
 "cells": [
  {
   "cell_type": "markdown",
   "id": "ae713472-9e27-4d93-a0a5-b444a60b236b",
   "metadata": {},
   "source": [
    "### Améliorer la performance des traitements de données\n",
    "\n",
    "Un pipeline de donnée peut dès que la donnée devient conséquente, où les transformations deviennent complexes, prendre beaucoup de temps à s'exécuter, et rendre le travail d'itération pénible (i.e. chaque modification du code implique d'attendre plusieurs dizaines de minutes pour connaître le résultat).\n",
    "\n",
    "Deux causes vont généralement augmenter le temps de traitement de la donnée par la machine:\n",
    "1. Des besoins de calculs (par exemple un apply)\n",
    "2. Des besoins en mémoire vive (les merge peuvent être très gourmands).  \n",
    "    Quand vous utiliser\n",
    "\n",
    "Plusieurs approches peuvent être prises: \n",
    "1. Rester avec pandas  \n",
    "Plusieurs astuces peuvent aider à améliorer la performance de pandas.\n",
    "    1. Rajouter de la mémoire vive\n",
    "    2. Éviter les apply ou toute opération non vectorisée (ou utiliser pandasrallel si cela est possible)\n",
    "    3. Améliorer le typage  \n",
    "2. Utiliser d'autres librairies axées sur le big data. Parmis celles-ci on peut citer: [pyspark](https://spark.apache.org/docs/latest/api/python/), [Dask](https://dask.org/),[Vaex](https://vaex.io/docs/index.html), [Modin](https://github.com/modin-project/modin), [cuDF](https://docs.rapids.ai/api/cudf/stable/) (nécessite un GPU)"
   ]
  },
  {
   "cell_type": "markdown",
   "id": "50f173d0-c7da-44ec-b910-57cecf7e393c",
   "metadata": {},
   "source": [
    "Un cours pour améliorer les performances de pandas : https://www.linkedin.com/learning/faster-pandas?trk=tracker-hub_flagship_learning"
   ]
  },
  {
   "cell_type": "code",
   "execution_count": null,
   "id": "2109a617-bee3-4031-9e83-6022fecbd975",
   "metadata": {},
   "outputs": [],
   "source": []
  }
 ],
 "metadata": {
  "kernelspec": {
   "display_name": "Python 3 (ipykernel)",
   "language": "python",
   "name": "python3"
  },
  "language_info": {
   "codemirror_mode": {
    "name": "ipython",
    "version": 3
   },
   "file_extension": ".py",
   "mimetype": "text/x-python",
   "name": "python",
   "nbconvert_exporter": "python",
   "pygments_lexer": "ipython3",
   "version": "3.7.12"
  }
 },
 "nbformat": 4,
 "nbformat_minor": 5
}
