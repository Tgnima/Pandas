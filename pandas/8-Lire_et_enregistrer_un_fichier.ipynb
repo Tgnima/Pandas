{
 "cells": [
  {
   "cell_type": "markdown",
   "id": "innocent-cutting",
   "metadata": {},
   "source": [
    "Pandas permet de lire nativement de nombreux formats de fichiers. Les standars de chaque fichier peuvent rendre plus ou moins facile la lecture de ces fichiers et leur mise au format DataFrame."
   ]
  },
  {
   "cell_type": "markdown",
   "id": "5983dc66-486a-4fd6-acff-f24f5104340c",
   "metadata": {
    "execution": {
     "iopub.execute_input": "2021-04-29T06:32:34.934914Z",
     "iopub.status.busy": "2021-04-29T06:32:34.934108Z",
     "iopub.status.idle": "2021-04-29T06:32:34.945453Z",
     "shell.execute_reply": "2021-04-29T06:32:34.943152Z",
     "shell.execute_reply.started": "2021-04-29T06:32:34.934840Z"
    }
   },
   "source": [
    "### Exeple rapide et formats\n",
    "(csv, hdf, feather, excel, sql, stata, sas, parquet, etc)\n",
    "\n",
    "Le mieux est d'aller jetter un oeil au [guide utilisateur de la section IO](https://pandas.pydata.org/docs/user_guide/io.html) sur le format concerné."
   ]
  },
  {
   "cell_type": "code",
   "execution_count": 1,
   "id": "greek-biotechnology",
   "metadata": {
    "execution": {
     "iopub.execute_input": "2022-04-15T13:52:27.269276Z",
     "iopub.status.busy": "2022-04-15T13:52:27.269048Z",
     "iopub.status.idle": "2022-04-15T13:52:27.504502Z",
     "shell.execute_reply": "2022-04-15T13:52:27.504020Z",
     "shell.execute_reply.started": "2022-04-15T13:52:27.269218Z"
    },
    "tags": []
   },
   "outputs": [],
   "source": [
    "import pandas as pd"
   ]
  },
  {
   "cell_type": "code",
   "execution_count": 4,
   "id": "automated-stewart",
   "metadata": {
    "execution": {
     "iopub.execute_input": "2021-04-30T04:13:54.538537Z",
     "iopub.status.busy": "2021-04-30T04:13:54.538308Z",
     "iopub.status.idle": "2021-04-30T04:13:54.545140Z",
     "shell.execute_reply": "2021-04-30T04:13:54.544487Z",
     "shell.execute_reply.started": "2021-04-30T04:13:54.538510Z"
    },
    "tags": []
   },
   "outputs": [
    {
     "ename": "TypeError",
     "evalue": "read_csv() missing 1 required positional argument: 'filepath_or_buffer'",
     "output_type": "error",
     "traceback": [
      "\u001b[0;31m---------------------------------------------------------------------------\u001b[0m",
      "\u001b[0;31mTypeError\u001b[0m                                 Traceback (most recent call last)",
      "\u001b[0;32m<ipython-input-4-df325a6eee32>\u001b[0m in \u001b[0;36m<module>\u001b[0;34m\u001b[0m\n\u001b[0;32m----> 1\u001b[0;31m \u001b[0mpd\u001b[0m\u001b[0;34m.\u001b[0m\u001b[0mread_csv\u001b[0m\u001b[0;34m(\u001b[0m\u001b[0;34m)\u001b[0m\u001b[0;34m\u001b[0m\u001b[0;34m\u001b[0m\u001b[0m\n\u001b[0m\u001b[1;32m      2\u001b[0m \u001b[0mpd\u001b[0m\u001b[0;34m.\u001b[0m\u001b[0mread_stata\u001b[0m\u001b[0;34m(\u001b[0m\u001b[0;34m)\u001b[0m\u001b[0;34m\u001b[0m\u001b[0;34m\u001b[0m\u001b[0m\n\u001b[1;32m      3\u001b[0m \u001b[0mpd\u001b[0m\u001b[0;34m.\u001b[0m\u001b[0mread_excel\u001b[0m\u001b[0;34m(\u001b[0m\u001b[0;34m)\u001b[0m\u001b[0;34m\u001b[0m\u001b[0;34m\u001b[0m\u001b[0m\n\u001b[1;32m      4\u001b[0m \u001b[0mpd\u001b[0m\u001b[0;34m.\u001b[0m\u001b[0mread_hdf\u001b[0m\u001b[0;34m(\u001b[0m\u001b[0;34m)\u001b[0m\u001b[0;34m\u001b[0m\u001b[0;34m\u001b[0m\u001b[0m\n\u001b[1;32m      5\u001b[0m \u001b[0mpd\u001b[0m\u001b[0;34m.\u001b[0m\u001b[0mread_stata\u001b[0m\u001b[0;34m(\u001b[0m\u001b[0;34m)\u001b[0m\u001b[0;34m\u001b[0m\u001b[0;34m\u001b[0m\u001b[0m\n",
      "\u001b[0;31mTypeError\u001b[0m: read_csv() missing 1 required positional argument: 'filepath_or_buffer'"
     ]
    }
   ],
   "source": [
    "pd.read_csv()\n",
    "pd.read_stata()\n",
    "pd.read_excel()\n",
    "pd.read_hdf()\n",
    "pd.read_stata()\n",
    "pd.read_sas()\n",
    "pd.read_spss()"
   ]
  },
  {
   "cell_type": "markdown",
   "id": "f0d64b0e-84bf-4f7b-bdb0-5669344cdf08",
   "metadata": {},
   "source": [
    "### Stocker ses fichiers"
   ]
  },
  {
   "cell_type": "markdown",
   "id": "f6ed1d2c-e8ec-4cd7-8660-d80c93beea82",
   "metadata": {},
   "source": [
    "Il arrive que l'on ait envie de stocker ses résultats intermédiaires ou finaux."
   ]
  },
  {
   "cell_type": "code",
   "execution_count": 2,
   "id": "1538c845-cff4-4cd4-a0f8-78057e0b3678",
   "metadata": {
    "execution": {
     "iopub.execute_input": "2022-04-15T13:52:58.827504Z",
     "iopub.status.busy": "2022-04-15T13:52:58.827267Z",
     "iopub.status.idle": "2022-04-15T13:52:58.830358Z",
     "shell.execute_reply": "2022-04-15T13:52:58.829939Z",
     "shell.execute_reply.started": "2022-04-15T13:52:58.827486Z"
    },
    "tags": []
   },
   "outputs": [],
   "source": [
    "df = pd.DataFrame()"
   ]
  },
  {
   "cell_type": "code",
   "execution_count": null,
   "id": "52995763-bece-4fdc-a9fc-e63823e80f69",
   "metadata": {},
   "outputs": [],
   "source": [
    "df.to_csv()\n",
    "df.to_excel()\n",
    "df.to_latex()\n",
    "df.to_stata()"
   ]
  },
  {
   "cell_type": "markdown",
   "id": "f90276be-9bde-4e9d-970f-696fd61463b9",
   "metadata": {},
   "source": [
    "Mes préférés:"
   ]
  },
  {
   "cell_type": "code",
   "execution_count": null,
   "id": "b9310982-b93d-4b6a-a260-0091333f1ed2",
   "metadata": {},
   "outputs": [],
   "source": [
    "df.to_feather() #Très rapide, mais un peu rigide\n",
    "df.to_hdf() # rapide, et assez flexible "
   ]
  },
  {
   "cell_type": "markdown",
   "id": "ac7c63a7-c0eb-46c6-a476-7d8f827d9e1d",
   "metadata": {},
   "source": [
    "#### Exemple"
   ]
  },
  {
   "cell_type": "code",
   "execution_count": 4,
   "id": "c2084f49-c4d0-473b-b941-70444ba0cd74",
   "metadata": {
    "execution": {
     "iopub.execute_input": "2022-04-15T13:55:56.920187Z",
     "iopub.status.busy": "2022-04-15T13:55:56.919650Z",
     "iopub.status.idle": "2022-04-15T13:55:57.636769Z",
     "shell.execute_reply": "2022-04-15T13:55:57.636347Z",
     "shell.execute_reply.started": "2022-04-15T13:55:56.920154Z"
    },
    "tags": []
   },
   "outputs": [],
   "source": [
    "import seaborn as sns\n",
    "df = sns.load_dataset('mpg')"
   ]
  },
  {
   "cell_type": "code",
   "execution_count": 7,
   "id": "c52e2947-27a3-4a0b-9931-7da88b37b5c9",
   "metadata": {
    "execution": {
     "iopub.execute_input": "2022-04-15T13:56:26.700681Z",
     "iopub.status.busy": "2022-04-15T13:56:26.700472Z",
     "iopub.status.idle": "2022-04-15T13:56:58.939833Z",
     "shell.execute_reply": "2022-04-15T13:56:58.938934Z",
     "shell.execute_reply.started": "2022-04-15T13:56:26.700660Z"
    }
   },
   "outputs": [
    {
     "name": "stdout",
     "output_type": "stream",
     "text": [
      "Collecting pyarrow\n",
      "  Downloading pyarrow-7.0.0-cp37-cp37m-manylinux_2_17_x86_64.manylinux2014_x86_64.whl (26.7 MB)\n",
      "     |████████████████████████████████| 26.7 MB 586 kB/s            \n",
      "\u001b[?25hRequirement already satisfied: numpy>=1.16.6 in /srv/conda/envs/notebook/lib/python3.7/site-packages (from pyarrow) (1.21.6)\n",
      "Installing collected packages: pyarrow\n",
      "Successfully installed pyarrow-7.0.0\n",
      "Note: you may need to restart the kernel to use updated packages.\n"
     ]
    }
   ],
   "source": [
    "%pip install pyarrow"
   ]
  },
  {
   "cell_type": "code",
   "execution_count": 8,
   "id": "9fece88f-05e4-4348-b2e2-b4edb6e2cf8c",
   "metadata": {
    "execution": {
     "iopub.execute_input": "2022-04-15T13:57:41.846947Z",
     "iopub.status.busy": "2022-04-15T13:57:41.846740Z",
     "iopub.status.idle": "2022-04-15T13:57:41.865515Z",
     "shell.execute_reply": "2022-04-15T13:57:41.865092Z",
     "shell.execute_reply.started": "2022-04-15T13:57:41.846917Z"
    },
    "tags": []
   },
   "outputs": [],
   "source": [
    "df.to_feather(\"mpg.feather\")"
   ]
  },
  {
   "cell_type": "code",
   "execution_count": 9,
   "id": "a739098d-764e-4b3d-aad6-04c40a850072",
   "metadata": {
    "execution": {
     "iopub.execute_input": "2022-04-15T13:58:06.836079Z",
     "iopub.status.busy": "2022-04-15T13:58:06.835829Z",
     "iopub.status.idle": "2022-04-15T13:58:06.853826Z",
     "shell.execute_reply": "2022-04-15T13:58:06.853161Z",
     "shell.execute_reply.started": "2022-04-15T13:58:06.836060Z"
    }
   },
   "outputs": [
    {
     "data": {
      "text/html": [
       "<div>\n",
       "<style scoped>\n",
       "    .dataframe tbody tr th:only-of-type {\n",
       "        vertical-align: middle;\n",
       "    }\n",
       "\n",
       "    .dataframe tbody tr th {\n",
       "        vertical-align: top;\n",
       "    }\n",
       "\n",
       "    .dataframe thead th {\n",
       "        text-align: right;\n",
       "    }\n",
       "</style>\n",
       "<table border=\"1\" class=\"dataframe\">\n",
       "  <thead>\n",
       "    <tr style=\"text-align: right;\">\n",
       "      <th></th>\n",
       "      <th>mpg</th>\n",
       "      <th>cylinders</th>\n",
       "      <th>displacement</th>\n",
       "      <th>horsepower</th>\n",
       "      <th>weight</th>\n",
       "      <th>acceleration</th>\n",
       "      <th>model_year</th>\n",
       "      <th>origin</th>\n",
       "      <th>name</th>\n",
       "    </tr>\n",
       "  </thead>\n",
       "  <tbody>\n",
       "    <tr>\n",
       "      <th>0</th>\n",
       "      <td>18.0</td>\n",
       "      <td>8</td>\n",
       "      <td>307.0</td>\n",
       "      <td>130.0</td>\n",
       "      <td>3504</td>\n",
       "      <td>12.0</td>\n",
       "      <td>70</td>\n",
       "      <td>usa</td>\n",
       "      <td>chevrolet chevelle malibu</td>\n",
       "    </tr>\n",
       "    <tr>\n",
       "      <th>1</th>\n",
       "      <td>15.0</td>\n",
       "      <td>8</td>\n",
       "      <td>350.0</td>\n",
       "      <td>165.0</td>\n",
       "      <td>3693</td>\n",
       "      <td>11.5</td>\n",
       "      <td>70</td>\n",
       "      <td>usa</td>\n",
       "      <td>buick skylark 320</td>\n",
       "    </tr>\n",
       "    <tr>\n",
       "      <th>2</th>\n",
       "      <td>18.0</td>\n",
       "      <td>8</td>\n",
       "      <td>318.0</td>\n",
       "      <td>150.0</td>\n",
       "      <td>3436</td>\n",
       "      <td>11.0</td>\n",
       "      <td>70</td>\n",
       "      <td>usa</td>\n",
       "      <td>plymouth satellite</td>\n",
       "    </tr>\n",
       "    <tr>\n",
       "      <th>3</th>\n",
       "      <td>16.0</td>\n",
       "      <td>8</td>\n",
       "      <td>304.0</td>\n",
       "      <td>150.0</td>\n",
       "      <td>3433</td>\n",
       "      <td>12.0</td>\n",
       "      <td>70</td>\n",
       "      <td>usa</td>\n",
       "      <td>amc rebel sst</td>\n",
       "    </tr>\n",
       "    <tr>\n",
       "      <th>4</th>\n",
       "      <td>17.0</td>\n",
       "      <td>8</td>\n",
       "      <td>302.0</td>\n",
       "      <td>140.0</td>\n",
       "      <td>3449</td>\n",
       "      <td>10.5</td>\n",
       "      <td>70</td>\n",
       "      <td>usa</td>\n",
       "      <td>ford torino</td>\n",
       "    </tr>\n",
       "    <tr>\n",
       "      <th>...</th>\n",
       "      <td>...</td>\n",
       "      <td>...</td>\n",
       "      <td>...</td>\n",
       "      <td>...</td>\n",
       "      <td>...</td>\n",
       "      <td>...</td>\n",
       "      <td>...</td>\n",
       "      <td>...</td>\n",
       "      <td>...</td>\n",
       "    </tr>\n",
       "    <tr>\n",
       "      <th>393</th>\n",
       "      <td>27.0</td>\n",
       "      <td>4</td>\n",
       "      <td>140.0</td>\n",
       "      <td>86.0</td>\n",
       "      <td>2790</td>\n",
       "      <td>15.6</td>\n",
       "      <td>82</td>\n",
       "      <td>usa</td>\n",
       "      <td>ford mustang gl</td>\n",
       "    </tr>\n",
       "    <tr>\n",
       "      <th>394</th>\n",
       "      <td>44.0</td>\n",
       "      <td>4</td>\n",
       "      <td>97.0</td>\n",
       "      <td>52.0</td>\n",
       "      <td>2130</td>\n",
       "      <td>24.6</td>\n",
       "      <td>82</td>\n",
       "      <td>europe</td>\n",
       "      <td>vw pickup</td>\n",
       "    </tr>\n",
       "    <tr>\n",
       "      <th>395</th>\n",
       "      <td>32.0</td>\n",
       "      <td>4</td>\n",
       "      <td>135.0</td>\n",
       "      <td>84.0</td>\n",
       "      <td>2295</td>\n",
       "      <td>11.6</td>\n",
       "      <td>82</td>\n",
       "      <td>usa</td>\n",
       "      <td>dodge rampage</td>\n",
       "    </tr>\n",
       "    <tr>\n",
       "      <th>396</th>\n",
       "      <td>28.0</td>\n",
       "      <td>4</td>\n",
       "      <td>120.0</td>\n",
       "      <td>79.0</td>\n",
       "      <td>2625</td>\n",
       "      <td>18.6</td>\n",
       "      <td>82</td>\n",
       "      <td>usa</td>\n",
       "      <td>ford ranger</td>\n",
       "    </tr>\n",
       "    <tr>\n",
       "      <th>397</th>\n",
       "      <td>31.0</td>\n",
       "      <td>4</td>\n",
       "      <td>119.0</td>\n",
       "      <td>82.0</td>\n",
       "      <td>2720</td>\n",
       "      <td>19.4</td>\n",
       "      <td>82</td>\n",
       "      <td>usa</td>\n",
       "      <td>chevy s-10</td>\n",
       "    </tr>\n",
       "  </tbody>\n",
       "</table>\n",
       "<p>398 rows × 9 columns</p>\n",
       "</div>"
      ],
      "text/plain": [
       "      mpg  cylinders  displacement  horsepower  weight  acceleration  \\\n",
       "0    18.0          8         307.0       130.0    3504          12.0   \n",
       "1    15.0          8         350.0       165.0    3693          11.5   \n",
       "2    18.0          8         318.0       150.0    3436          11.0   \n",
       "3    16.0          8         304.0       150.0    3433          12.0   \n",
       "4    17.0          8         302.0       140.0    3449          10.5   \n",
       "..    ...        ...           ...         ...     ...           ...   \n",
       "393  27.0          4         140.0        86.0    2790          15.6   \n",
       "394  44.0          4          97.0        52.0    2130          24.6   \n",
       "395  32.0          4         135.0        84.0    2295          11.6   \n",
       "396  28.0          4         120.0        79.0    2625          18.6   \n",
       "397  31.0          4         119.0        82.0    2720          19.4   \n",
       "\n",
       "     model_year  origin                       name  \n",
       "0            70     usa  chevrolet chevelle malibu  \n",
       "1            70     usa          buick skylark 320  \n",
       "2            70     usa         plymouth satellite  \n",
       "3            70     usa              amc rebel sst  \n",
       "4            70     usa                ford torino  \n",
       "..          ...     ...                        ...  \n",
       "393          82     usa            ford mustang gl  \n",
       "394          82  europe                  vw pickup  \n",
       "395          82     usa              dodge rampage  \n",
       "396          82     usa                ford ranger  \n",
       "397          82     usa                 chevy s-10  \n",
       "\n",
       "[398 rows x 9 columns]"
      ]
     },
     "execution_count": 9,
     "metadata": {},
     "output_type": "execute_result"
    }
   ],
   "source": [
    "pd.read_feather(\"mpg.feather\")"
   ]
  }
 ],
 "metadata": {
  "kernelspec": {
   "display_name": "Python 3 (ipykernel)",
   "language": "python",
   "name": "python3"
  },
  "language_info": {
   "codemirror_mode": {
    "name": "ipython",
    "version": 3
   },
   "file_extension": ".py",
   "mimetype": "text/x-python",
   "name": "python",
   "nbconvert_exporter": "python",
   "pygments_lexer": "ipython3",
   "version": "3.7.12"
  }
 },
 "nbformat": 4,
 "nbformat_minor": 5
}
