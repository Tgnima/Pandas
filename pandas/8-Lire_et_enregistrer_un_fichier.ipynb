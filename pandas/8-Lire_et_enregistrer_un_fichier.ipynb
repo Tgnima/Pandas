{
 "cells": [
  {
   "cell_type": "markdown",
   "id": "innocent-cutting",
   "metadata": {},
   "source": [
    "Pandas permet de lire nativement de nombreux formats de fichiers. Les standars de chaque fichier peuvent rendre plus ou moins facile la lecture de ces fichiers et leur mise au format DataFrame."
   ]
  },
  {
   "cell_type": "markdown",
   "id": "5983dc66-486a-4fd6-acff-f24f5104340c",
   "metadata": {
    "execution": {
     "iopub.execute_input": "2021-04-29T06:32:34.934914Z",
     "iopub.status.busy": "2021-04-29T06:32:34.934108Z",
     "iopub.status.idle": "2021-04-29T06:32:34.945453Z",
     "shell.execute_reply": "2021-04-29T06:32:34.943152Z",
     "shell.execute_reply.started": "2021-04-29T06:32:34.934840Z"
    }
   },
   "source": [
    "### Exeple rapide et formats\n",
    "(csv, hdf, feather, excel, sql, stata, sas, parquet, etc)\n",
    "\n",
    "Le mieux est d'aller jetter un oeil au [guide utilisateur de la section IO](https://pandas.pydata.org/docs/user_guide/io.html) sur le format concerné."
   ]
  },
  {
   "cell_type": "code",
   "execution_count": 3,
   "id": "greek-biotechnology",
   "metadata": {
    "execution": {
     "iopub.execute_input": "2021-04-30T04:13:54.350370Z",
     "iopub.status.busy": "2021-04-30T04:13:54.350154Z",
     "iopub.status.idle": "2021-04-30T04:13:54.353308Z",
     "shell.execute_reply": "2021-04-30T04:13:54.352612Z",
     "shell.execute_reply.started": "2021-04-30T04:13:54.350345Z"
    },
    "tags": []
   },
   "outputs": [],
   "source": [
    "import pandas as pd"
   ]
  },
  {
   "cell_type": "code",
   "execution_count": 4,
   "id": "automated-stewart",
   "metadata": {
    "collapsed": true,
    "execution": {
     "iopub.execute_input": "2021-04-30T04:13:54.538537Z",
     "iopub.status.busy": "2021-04-30T04:13:54.538308Z",
     "iopub.status.idle": "2021-04-30T04:13:54.545140Z",
     "shell.execute_reply": "2021-04-30T04:13:54.544487Z",
     "shell.execute_reply.started": "2021-04-30T04:13:54.538510Z"
    },
    "jupyter": {
     "outputs_hidden": true
    },
    "tags": []
   },
   "outputs": [
    {
     "ename": "TypeError",
     "evalue": "read_csv() missing 1 required positional argument: 'filepath_or_buffer'",
     "output_type": "error",
     "traceback": [
      "\u001b[0;31m---------------------------------------------------------------------------\u001b[0m",
      "\u001b[0;31mTypeError\u001b[0m                                 Traceback (most recent call last)",
      "\u001b[0;32m<ipython-input-4-df325a6eee32>\u001b[0m in \u001b[0;36m<module>\u001b[0;34m\u001b[0m\n\u001b[0;32m----> 1\u001b[0;31m \u001b[0mpd\u001b[0m\u001b[0;34m.\u001b[0m\u001b[0mread_csv\u001b[0m\u001b[0;34m(\u001b[0m\u001b[0;34m)\u001b[0m\u001b[0;34m\u001b[0m\u001b[0;34m\u001b[0m\u001b[0m\n\u001b[0m\u001b[1;32m      2\u001b[0m \u001b[0mpd\u001b[0m\u001b[0;34m.\u001b[0m\u001b[0mread_stata\u001b[0m\u001b[0;34m(\u001b[0m\u001b[0;34m)\u001b[0m\u001b[0;34m\u001b[0m\u001b[0;34m\u001b[0m\u001b[0m\n\u001b[1;32m      3\u001b[0m \u001b[0mpd\u001b[0m\u001b[0;34m.\u001b[0m\u001b[0mread_excel\u001b[0m\u001b[0;34m(\u001b[0m\u001b[0;34m)\u001b[0m\u001b[0;34m\u001b[0m\u001b[0;34m\u001b[0m\u001b[0m\n\u001b[1;32m      4\u001b[0m \u001b[0mpd\u001b[0m\u001b[0;34m.\u001b[0m\u001b[0mread_hdf\u001b[0m\u001b[0;34m(\u001b[0m\u001b[0;34m)\u001b[0m\u001b[0;34m\u001b[0m\u001b[0;34m\u001b[0m\u001b[0m\n\u001b[1;32m      5\u001b[0m \u001b[0mpd\u001b[0m\u001b[0;34m.\u001b[0m\u001b[0mread_stata\u001b[0m\u001b[0;34m(\u001b[0m\u001b[0;34m)\u001b[0m\u001b[0;34m\u001b[0m\u001b[0;34m\u001b[0m\u001b[0m\n",
      "\u001b[0;31mTypeError\u001b[0m: read_csv() missing 1 required positional argument: 'filepath_or_buffer'"
     ]
    }
   ],
   "source": [
    "pd.read_csv()\n",
    "pd.read_stata()\n",
    "pd.read_excel()\n",
    "pd.read_hdf()\n",
    "pd.read_stata()"
   ]
  },
  {
   "cell_type": "markdown",
   "id": "f0d64b0e-84bf-4f7b-bdb0-5669344cdf08",
   "metadata": {},
   "source": [
    "### Stocker ses fichiers"
   ]
  },
  {
   "cell_type": "markdown",
   "id": "f6ed1d2c-e8ec-4cd7-8660-d80c93beea82",
   "metadata": {},
   "source": [
    "Il arrive que l'on ait envie de stocker ses résultats intermédiaires ou finaux."
   ]
  },
  {
   "cell_type": "code",
   "execution_count": 5,
   "id": "1538c845-cff4-4cd4-a0f8-78057e0b3678",
   "metadata": {
    "execution": {
     "iopub.execute_input": "2021-04-30T04:15:21.282537Z",
     "iopub.status.busy": "2021-04-30T04:15:21.282347Z",
     "iopub.status.idle": "2021-04-30T04:15:21.285121Z",
     "shell.execute_reply": "2021-04-30T04:15:21.284709Z",
     "shell.execute_reply.started": "2021-04-30T04:15:21.282514Z"
    }
   },
   "outputs": [],
   "source": [
    "df = pd.DataFrame()"
   ]
  },
  {
   "cell_type": "code",
   "execution_count": null,
   "id": "52995763-bece-4fdc-a9fc-e63823e80f69",
   "metadata": {},
   "outputs": [],
   "source": [
    "df.to_csv()\n",
    "df.to_excel()\n",
    "df.to_latex()\n",
    "df.to_stata()"
   ]
  },
  {
   "cell_type": "markdown",
   "id": "f90276be-9bde-4e9d-970f-696fd61463b9",
   "metadata": {},
   "source": [
    "Mes préférés:"
   ]
  },
  {
   "cell_type": "code",
   "execution_count": null,
   "id": "b9310982-b93d-4b6a-a260-0091333f1ed2",
   "metadata": {},
   "outputs": [],
   "source": [
    "df.to_feather() #Très rapide, mais un peu rigide\n",
    "df.to_hdf() # rapide, et assez flexible "
   ]
  }
 ],
 "metadata": {
  "kernelspec": {
   "display_name": "Python 3 (ipykernel)",
   "language": "python",
   "name": "python3"
  },
  "language_info": {
   "codemirror_mode": {
    "name": "ipython",
    "version": 3
   },
   "file_extension": ".py",
   "mimetype": "text/x-python",
   "name": "python",
   "nbconvert_exporter": "python",
   "pygments_lexer": "ipython3",
   "version": "3.7.12"
  }
 },
 "nbformat": 4,
 "nbformat_minor": 5
}
