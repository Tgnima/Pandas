{
 "cells": [
  {
   "cell_type": "markdown",
   "id": "pressing-findings",
   "metadata": {},
   "source": [
    "### Pandas: La `DataFrame`,la `Series`, l'array, la Series, la DataFrame"
   ]
  },
  {
   "cell_type": "code",
   "execution_count": 1,
   "id": "atmospheric-springfield",
   "metadata": {
    "execution": {
     "iopub.execute_input": "2021-04-28T23:27:33.030239Z",
     "iopub.status.busy": "2021-04-28T23:27:33.029650Z",
     "iopub.status.idle": "2021-04-28T23:27:33.295420Z",
     "shell.execute_reply": "2021-04-28T23:27:33.294850Z",
     "shell.execute_reply.started": "2021-04-28T23:27:33.030082Z"
    },
    "tags": []
   },
   "outputs": [],
   "source": [
    "import pandas as pd"
   ]
  },
  {
   "cell_type": "markdown",
   "id": "previous-warehouse",
   "metadata": {
    "execution": {
     "iopub.execute_input": "2021-04-13T21:09:12.393624Z",
     "iopub.status.busy": "2021-04-13T21:09:12.393453Z",
     "iopub.status.idle": "2021-04-13T21:09:12.395792Z",
     "shell.execute_reply": "2021-04-13T21:09:12.395370Z",
     "shell.execute_reply.started": "2021-04-13T21:09:12.393605Z"
    }
   },
   "source": [
    "### La `DataFrame`"
   ]
  },
  {
   "cell_type": "markdown",
   "id": "covered-guidance",
   "metadata": {},
   "source": [
    "### Une `DataFrame` vide"
   ]
  },
  {
   "cell_type": "code",
   "execution_count": 2,
   "id": "compound-retro",
   "metadata": {
    "execution": {
     "iopub.execute_input": "2021-04-28T23:27:33.936686Z",
     "iopub.status.busy": "2021-04-28T23:27:33.936360Z",
     "iopub.status.idle": "2021-04-28T23:27:33.950566Z",
     "shell.execute_reply": "2021-04-28T23:27:33.950022Z",
     "shell.execute_reply.started": "2021-04-28T23:27:33.936646Z"
    },
    "tags": []
   },
   "outputs": [
    {
     "data": {
      "text/html": [
       "<div>\n",
       "<style scoped>\n",
       "    .dataframe tbody tr th:only-of-type {\n",
       "        vertical-align: middle;\n",
       "    }\n",
       "\n",
       "    .dataframe tbody tr th {\n",
       "        vertical-align: top;\n",
       "    }\n",
       "\n",
       "    .dataframe thead th {\n",
       "        text-align: right;\n",
       "    }\n",
       "</style>\n",
       "<table border=\"1\" class=\"dataframe\">\n",
       "  <thead>\n",
       "    <tr style=\"text-align: right;\">\n",
       "      <th></th>\n",
       "    </tr>\n",
       "  </thead>\n",
       "  <tbody>\n",
       "  </tbody>\n",
       "</table>\n",
       "</div>"
      ],
      "text/plain": [
       "Empty DataFrame\n",
       "Columns: []\n",
       "Index: []"
      ]
     },
     "execution_count": 2,
     "metadata": {},
     "output_type": "execute_result"
    }
   ],
   "source": [
    "pd.DataFrame()"
   ]
  },
  {
   "cell_type": "code",
   "execution_count": 3,
   "id": "binary-kruger",
   "metadata": {
    "execution": {
     "iopub.execute_input": "2021-04-28T23:27:34.431819Z",
     "iopub.status.busy": "2021-04-28T23:27:34.431613Z",
     "iopub.status.idle": "2021-04-28T23:27:34.435762Z",
     "shell.execute_reply": "2021-04-28T23:27:34.435189Z",
     "shell.execute_reply.started": "2021-04-28T23:27:34.431794Z"
    },
    "tags": []
   },
   "outputs": [
    {
     "data": {
      "text/plain": [
       "pandas.core.frame.DataFrame"
      ]
     },
     "execution_count": 3,
     "metadata": {},
     "output_type": "execute_result"
    }
   ],
   "source": [
    "type(pd.DataFrame())"
   ]
  },
  {
   "cell_type": "markdown",
   "id": "cutting-shopper",
   "metadata": {},
   "source": [
    "### Création d'une `DataFrame` non vide"
   ]
  },
  {
   "cell_type": "code",
   "execution_count": 4,
   "id": "signed-charles",
   "metadata": {
    "execution": {
     "iopub.execute_input": "2021-04-28T23:27:35.082424Z",
     "iopub.status.busy": "2021-04-28T23:27:35.081968Z",
     "iopub.status.idle": "2021-04-28T23:27:35.098512Z",
     "shell.execute_reply": "2021-04-28T23:27:35.097415Z",
     "shell.execute_reply.started": "2021-04-28T23:27:35.082368Z"
    },
    "tags": []
   },
   "outputs": [
    {
     "data": {
      "text/html": [
       "<div>\n",
       "<style scoped>\n",
       "    .dataframe tbody tr th:only-of-type {\n",
       "        vertical-align: middle;\n",
       "    }\n",
       "\n",
       "    .dataframe tbody tr th {\n",
       "        vertical-align: top;\n",
       "    }\n",
       "\n",
       "    .dataframe thead th {\n",
       "        text-align: right;\n",
       "    }\n",
       "</style>\n",
       "<table border=\"1\" class=\"dataframe\">\n",
       "  <thead>\n",
       "    <tr style=\"text-align: right;\">\n",
       "      <th></th>\n",
       "      <th>0</th>\n",
       "    </tr>\n",
       "  </thead>\n",
       "  <tbody>\n",
       "    <tr>\n",
       "      <th>0</th>\n",
       "      <td>Riri</td>\n",
       "    </tr>\n",
       "    <tr>\n",
       "      <th>1</th>\n",
       "      <td>Dingo</td>\n",
       "    </tr>\n",
       "    <tr>\n",
       "      <th>2</th>\n",
       "      <td>Mickey</td>\n",
       "    </tr>\n",
       "  </tbody>\n",
       "</table>\n",
       "</div>"
      ],
      "text/plain": [
       "        0\n",
       "0    Riri\n",
       "1   Dingo\n",
       "2  Mickey"
      ]
     },
     "execution_count": 4,
     "metadata": {},
     "output_type": "execute_result"
    }
   ],
   "source": [
    "pd.DataFrame(\n",
    "    [\"Riri\",\"Dingo\", \"Mickey\"],        #### Ceci est un dictionnaire de dictionnaire\n",
    ")"
   ]
  },
  {
   "cell_type": "code",
   "execution_count": 22,
   "id": "quick-light",
   "metadata": {
    "execution": {
     "iopub.execute_input": "2021-04-13T21:28:34.444376Z",
     "iopub.status.busy": "2021-04-13T21:28:34.444203Z",
     "iopub.status.idle": "2021-04-13T21:28:34.450322Z",
     "shell.execute_reply": "2021-04-13T21:28:34.449867Z",
     "shell.execute_reply.started": "2021-04-13T21:28:34.444350Z"
    },
    "tags": []
   },
   "outputs": [
    {
     "data": {
      "text/html": [
       "<div>\n",
       "<style scoped>\n",
       "    .dataframe tbody tr th:only-of-type {\n",
       "        vertical-align: middle;\n",
       "    }\n",
       "\n",
       "    .dataframe tbody tr th {\n",
       "        vertical-align: top;\n",
       "    }\n",
       "\n",
       "    .dataframe thead th {\n",
       "        text-align: right;\n",
       "    }\n",
       "</style>\n",
       "<table border=\"1\" class=\"dataframe\">\n",
       "  <thead>\n",
       "    <tr style=\"text-align: right;\">\n",
       "      <th></th>\n",
       "      <th>0</th>\n",
       "      <th>1</th>\n",
       "      <th>2</th>\n",
       "    </tr>\n",
       "  </thead>\n",
       "  <tbody>\n",
       "    <tr>\n",
       "      <th>0</th>\n",
       "      <td>Riri</td>\n",
       "      <td>Canard</td>\n",
       "      <td>1937</td>\n",
       "    </tr>\n",
       "    <tr>\n",
       "      <th>1</th>\n",
       "      <td>Dingo</td>\n",
       "      <td>Chien</td>\n",
       "      <td>1932</td>\n",
       "    </tr>\n",
       "    <tr>\n",
       "      <th>2</th>\n",
       "      <td>Mickey</td>\n",
       "      <td>Souris</td>\n",
       "      <td>1928</td>\n",
       "    </tr>\n",
       "  </tbody>\n",
       "</table>\n",
       "</div>"
      ],
      "text/plain": [
       "        0       1     2\n",
       "0    Riri  Canard  1937\n",
       "1   Dingo   Chien  1932\n",
       "2  Mickey  Souris  1928"
      ]
     },
     "execution_count": 22,
     "metadata": {},
     "output_type": "execute_result"
    }
   ],
   "source": [
    "pd.DataFrame(\n",
    "    [[\"Riri\",\"Canard\", 1937],   \n",
    "     [\"Dingo\", \"Chien\", 1932],#### Ceci est un dictionnaire de dictionnaire\n",
    "    [\"Mickey\",  \"Souris\", 1928],\n",
    "   ])"
   ]
  },
  {
   "cell_type": "markdown",
   "id": "underlying-mouse",
   "metadata": {},
   "source": [
    "Mais c'est mieux si on a les colonnes"
   ]
  },
  {
   "cell_type": "code",
   "execution_count": 23,
   "id": "compliant-australian",
   "metadata": {
    "execution": {
     "iopub.execute_input": "2021-04-13T21:28:55.530444Z",
     "iopub.status.busy": "2021-04-13T21:28:55.530278Z",
     "iopub.status.idle": "2021-04-13T21:28:55.536792Z",
     "shell.execute_reply": "2021-04-13T21:28:55.536308Z",
     "shell.execute_reply.started": "2021-04-13T21:28:55.530426Z"
    },
    "tags": []
   },
   "outputs": [
    {
     "data": {
      "text/html": [
       "<div>\n",
       "<style scoped>\n",
       "    .dataframe tbody tr th:only-of-type {\n",
       "        vertical-align: middle;\n",
       "    }\n",
       "\n",
       "    .dataframe tbody tr th {\n",
       "        vertical-align: top;\n",
       "    }\n",
       "\n",
       "    .dataframe thead th {\n",
       "        text-align: right;\n",
       "    }\n",
       "</style>\n",
       "<table border=\"1\" class=\"dataframe\">\n",
       "  <thead>\n",
       "    <tr style=\"text-align: right;\">\n",
       "      <th></th>\n",
       "      <th>nom</th>\n",
       "      <th>Espece</th>\n",
       "      <th>date_creation</th>\n",
       "    </tr>\n",
       "  </thead>\n",
       "  <tbody>\n",
       "    <tr>\n",
       "      <th>0</th>\n",
       "      <td>Riri</td>\n",
       "      <td>Canard</td>\n",
       "      <td>1937</td>\n",
       "    </tr>\n",
       "    <tr>\n",
       "      <th>1</th>\n",
       "      <td>Dingo</td>\n",
       "      <td>Chien</td>\n",
       "      <td>1932</td>\n",
       "    </tr>\n",
       "    <tr>\n",
       "      <th>2</th>\n",
       "      <td>Mickey</td>\n",
       "      <td>Souris</td>\n",
       "      <td>1928</td>\n",
       "    </tr>\n",
       "  </tbody>\n",
       "</table>\n",
       "</div>"
      ],
      "text/plain": [
       "      nom  Espece  date_creation\n",
       "0    Riri  Canard           1937\n",
       "1   Dingo   Chien           1932\n",
       "2  Mickey  Souris           1928"
      ]
     },
     "execution_count": 23,
     "metadata": {},
     "output_type": "execute_result"
    }
   ],
   "source": [
    "pd.DataFrame(\n",
    "    [[\"Riri\",\"Canard\", 1937],   \n",
    "     [\"Dingo\", \"Chien\", 1932],#### Ceci est un dictionnaire de dictionnaire\n",
    "    [\"Mickey\",  \"Souris\", 1928],\n",
    "   ], columns=[\"nom\", \"Espece\", \"date_creation\"])"
   ]
  },
  {
   "cell_type": "markdown",
   "id": "bf0b0028-fa7c-4e12-b084-79a194f34136",
   "metadata": {
    "execution": {
     "iopub.execute_input": "2021-04-13T21:28:55.530444Z",
     "iopub.status.busy": "2021-04-13T21:28:55.530278Z",
     "iopub.status.idle": "2021-04-13T21:28:55.536792Z",
     "shell.execute_reply": "2021-04-13T21:28:55.536308Z",
     "shell.execute_reply.started": "2021-04-13T21:28:55.530426Z"
    },
    "tags": []
   },
   "source": [
    "Exercice:\n",
    "    Créez la même `dataframe` en utilisant cette fois ci un dictionnaire."
   ]
  },
  {
   "cell_type": "code",
   "execution_count": null,
   "id": "hungarian-species",
   "metadata": {},
   "outputs": [],
   "source": [
    "# Solution ?"
   ]
  },
  {
   "cell_type": "code",
   "execution_count": null,
   "id": "6d414183-227c-4245-923d-4bc463af27fb",
   "metadata": {},
   "outputs": [],
   "source": []
  },
  {
   "cell_type": "code",
   "execution_count": null,
   "id": "b78894b5-756d-4738-9bd4-536a576eb14c",
   "metadata": {},
   "outputs": [],
   "source": []
  },
  {
   "cell_type": "markdown",
   "id": "bearing-photography",
   "metadata": {},
   "source": [
    "On peut garder une datframe en l'assignant à une variable"
   ]
  },
  {
   "cell_type": "code",
   "execution_count": 17,
   "id": "aggregate-label",
   "metadata": {
    "execution": {
     "iopub.execute_input": "2021-04-28T23:34:24.230518Z",
     "iopub.status.busy": "2021-04-28T23:34:24.229922Z",
     "iopub.status.idle": "2021-04-28T23:34:24.241326Z",
     "shell.execute_reply": "2021-04-28T23:34:24.239231Z",
     "shell.execute_reply.started": "2021-04-28T23:34:24.230443Z"
    },
    "tags": []
   },
   "outputs": [],
   "source": [
    "df = pd.DataFrame(\n",
    "    [[\"Riri\",\"Canard\", 1937],   \n",
    "     [\"Dingo\", \"Chien\", 1932],#### Ceci est un dictionnaire de dictionnaire\n",
    "    [\"Mickey\",  \"Souris\", 1928],\n",
    "   ], columns=[\"nom\", \"Espece\", \"date_creation\"])"
   ]
  },
  {
   "cell_type": "code",
   "execution_count": 25,
   "id": "ethical-solomon",
   "metadata": {
    "execution": {
     "iopub.execute_input": "2021-04-13T21:29:13.472214Z",
     "iopub.status.busy": "2021-04-13T21:29:13.472048Z",
     "iopub.status.idle": "2021-04-13T21:29:13.477733Z",
     "shell.execute_reply": "2021-04-13T21:29:13.477279Z",
     "shell.execute_reply.started": "2021-04-13T21:29:13.472195Z"
    },
    "tags": []
   },
   "outputs": [
    {
     "data": {
      "text/html": [
       "<div>\n",
       "<style scoped>\n",
       "    .dataframe tbody tr th:only-of-type {\n",
       "        vertical-align: middle;\n",
       "    }\n",
       "\n",
       "    .dataframe tbody tr th {\n",
       "        vertical-align: top;\n",
       "    }\n",
       "\n",
       "    .dataframe thead th {\n",
       "        text-align: right;\n",
       "    }\n",
       "</style>\n",
       "<table border=\"1\" class=\"dataframe\">\n",
       "  <thead>\n",
       "    <tr style=\"text-align: right;\">\n",
       "      <th></th>\n",
       "      <th>nom</th>\n",
       "      <th>Espece</th>\n",
       "      <th>date_creation</th>\n",
       "    </tr>\n",
       "  </thead>\n",
       "  <tbody>\n",
       "    <tr>\n",
       "      <th>0</th>\n",
       "      <td>Riri</td>\n",
       "      <td>Canard</td>\n",
       "      <td>1937</td>\n",
       "    </tr>\n",
       "    <tr>\n",
       "      <th>1</th>\n",
       "      <td>Dingo</td>\n",
       "      <td>Chien</td>\n",
       "      <td>1932</td>\n",
       "    </tr>\n",
       "    <tr>\n",
       "      <th>2</th>\n",
       "      <td>Mickey</td>\n",
       "      <td>Souris</td>\n",
       "      <td>1928</td>\n",
       "    </tr>\n",
       "  </tbody>\n",
       "</table>\n",
       "</div>"
      ],
      "text/plain": [
       "      nom  Espece  date_creation\n",
       "0    Riri  Canard           1937\n",
       "1   Dingo   Chien           1932\n",
       "2  Mickey  Souris           1928"
      ]
     },
     "execution_count": 25,
     "metadata": {},
     "output_type": "execute_result"
    }
   ],
   "source": [
    "df"
   ]
  },
  {
   "cell_type": "markdown",
   "id": "eligible-greeting",
   "metadata": {},
   "source": [
    "Une DataFrame c'est un ensemble de lignes et de colonnes (que l'on souhaite généralement au format tidy data pour le ML).\n",
    "\n",
    "df est ici une instance de la classe `DataFrame`. C'est un objet bien que simple, contient de nombreux attribus."
   ]
  },
  {
   "cell_type": "markdown",
   "id": "parliamentary-biodiversity",
   "metadata": {},
   "source": [
    "#### L'index"
   ]
  },
  {
   "cell_type": "markdown",
   "id": "talented-merchant",
   "metadata": {},
   "source": [
    "L'index d'une dataframe peut être vu comme une colonne pas comme les autres (tout à gauche), et toute dataframe en possède un."
   ]
  },
  {
   "cell_type": "code",
   "execution_count": 35,
   "id": "relative-diamond",
   "metadata": {
    "execution": {
     "iopub.execute_input": "2021-04-13T21:41:34.624794Z",
     "iopub.status.busy": "2021-04-13T21:41:34.624549Z",
     "iopub.status.idle": "2021-04-13T21:41:34.627989Z",
     "shell.execute_reply": "2021-04-13T21:41:34.627634Z",
     "shell.execute_reply.started": "2021-04-13T21:41:34.624765Z"
    },
    "tags": []
   },
   "outputs": [
    {
     "data": {
      "text/plain": [
       "RangeIndex(start=0, stop=3, step=1)"
      ]
     },
     "execution_count": 35,
     "metadata": {},
     "output_type": "execute_result"
    }
   ],
   "source": [
    "df.index"
   ]
  },
  {
   "cell_type": "code",
   "execution_count": 36,
   "id": "greater-cocktail",
   "metadata": {
    "execution": {
     "iopub.execute_input": "2021-04-13T21:41:35.254269Z",
     "iopub.status.busy": "2021-04-13T21:41:35.254102Z",
     "iopub.status.idle": "2021-04-13T21:41:35.257282Z",
     "shell.execute_reply": "2021-04-13T21:41:35.256803Z",
     "shell.execute_reply.started": "2021-04-13T21:41:35.254251Z"
    },
    "tags": []
   },
   "outputs": [
    {
     "data": {
      "text/plain": [
       "[0, 1, 2]"
      ]
     },
     "execution_count": 36,
     "metadata": {},
     "output_type": "execute_result"
    }
   ],
   "source": [
    "list(df.index)"
   ]
  },
  {
   "cell_type": "code",
   "execution_count": 37,
   "id": "intensive-antenna",
   "metadata": {
    "execution": {
     "iopub.execute_input": "2021-04-13T21:41:49.015022Z",
     "iopub.status.busy": "2021-04-13T21:41:49.014853Z",
     "iopub.status.idle": "2021-04-13T21:41:49.017863Z",
     "shell.execute_reply": "2021-04-13T21:41:49.017511Z",
     "shell.execute_reply.started": "2021-04-13T21:41:49.015003Z"
    }
   },
   "outputs": [
    {
     "data": {
      "text/plain": [
       "pandas.core.indexes.range.RangeIndex"
      ]
     },
     "execution_count": 37,
     "metadata": {},
     "output_type": "execute_result"
    }
   ],
   "source": [
    "type(df.index)"
   ]
  },
  {
   "cell_type": "markdown",
   "id": "excess-problem",
   "metadata": {},
   "source": [
    "Un index à un nom, qui est None par défaut"
   ]
  },
  {
   "cell_type": "code",
   "execution_count": 49,
   "id": "meaning-reporter",
   "metadata": {
    "execution": {
     "iopub.execute_input": "2021-04-13T21:51:26.012109Z",
     "iopub.status.busy": "2021-04-13T21:51:26.011922Z",
     "iopub.status.idle": "2021-04-13T21:51:26.015157Z",
     "shell.execute_reply": "2021-04-13T21:51:26.014668Z",
     "shell.execute_reply.started": "2021-04-13T21:51:26.012090Z"
    },
    "tags": []
   },
   "outputs": [
    {
     "data": {
      "text/plain": [
       "True"
      ]
     },
     "execution_count": 49,
     "metadata": {},
     "output_type": "execute_result"
    }
   ],
   "source": [
    "df.index.name is None"
   ]
  },
  {
   "cell_type": "code",
   "execution_count": 52,
   "id": "foster-spoke",
   "metadata": {
    "execution": {
     "iopub.execute_input": "2021-04-13T21:53:33.763237Z",
     "iopub.status.busy": "2021-04-13T21:53:33.762987Z",
     "iopub.status.idle": "2021-04-13T21:53:33.770905Z",
     "shell.execute_reply": "2021-04-13T21:53:33.770394Z",
     "shell.execute_reply.started": "2021-04-13T21:53:33.763207Z"
    },
    "tags": []
   },
   "outputs": [
    {
     "data": {
      "text/html": [
       "<div>\n",
       "<style scoped>\n",
       "    .dataframe tbody tr th:only-of-type {\n",
       "        vertical-align: middle;\n",
       "    }\n",
       "\n",
       "    .dataframe tbody tr th {\n",
       "        vertical-align: top;\n",
       "    }\n",
       "\n",
       "    .dataframe thead th {\n",
       "        text-align: right;\n",
       "    }\n",
       "</style>\n",
       "<table border=\"1\" class=\"dataframe\">\n",
       "  <thead>\n",
       "    <tr style=\"text-align: right;\">\n",
       "      <th></th>\n",
       "      <th>nom</th>\n",
       "      <th>Espece</th>\n",
       "      <th>date_creation</th>\n",
       "    </tr>\n",
       "    <tr>\n",
       "      <th>id_disney_character</th>\n",
       "      <th></th>\n",
       "      <th></th>\n",
       "      <th></th>\n",
       "    </tr>\n",
       "  </thead>\n",
       "  <tbody>\n",
       "    <tr>\n",
       "      <th>0</th>\n",
       "      <td>Riri</td>\n",
       "      <td>Canard</td>\n",
       "      <td>1937</td>\n",
       "    </tr>\n",
       "    <tr>\n",
       "      <th>1</th>\n",
       "      <td>Dingo</td>\n",
       "      <td>Chien</td>\n",
       "      <td>1932</td>\n",
       "    </tr>\n",
       "    <tr>\n",
       "      <th>2</th>\n",
       "      <td>Mickey</td>\n",
       "      <td>Souris</td>\n",
       "      <td>1928</td>\n",
       "    </tr>\n",
       "  </tbody>\n",
       "</table>\n",
       "</div>"
      ],
      "text/plain": [
       "                        nom  Espece  date_creation\n",
       "id_disney_character                               \n",
       "0                      Riri  Canard           1937\n",
       "1                     Dingo   Chien           1932\n",
       "2                    Mickey  Souris           1928"
      ]
     },
     "execution_count": 52,
     "metadata": {},
     "output_type": "execute_result"
    }
   ],
   "source": [
    "df.rename_axis(\"id_disney_character\", inplace=True)\n",
    "df"
   ]
  },
  {
   "cell_type": "markdown",
   "id": "suffering-testimony",
   "metadata": {
    "execution": {
     "iopub.execute_input": "2021-04-13T21:53:34.046983Z",
     "iopub.status.busy": "2021-04-13T21:53:34.046733Z",
     "iopub.status.idle": "2021-04-13T21:53:34.050894Z",
     "shell.execute_reply": "2021-04-13T21:53:34.050353Z",
     "shell.execute_reply.started": "2021-04-13T21:53:34.046954Z"
    },
    "tags": []
   },
   "source": [
    "Et on peut assigner n'importe quelle colonne à l'index"
   ]
  },
  {
   "cell_type": "code",
   "execution_count": 54,
   "id": "going-elephant",
   "metadata": {
    "execution": {
     "iopub.execute_input": "2021-04-13T21:54:17.480374Z",
     "iopub.status.busy": "2021-04-13T21:54:17.480203Z",
     "iopub.status.idle": "2021-04-13T21:54:17.493649Z",
     "shell.execute_reply": "2021-04-13T21:54:17.493250Z",
     "shell.execute_reply.started": "2021-04-13T21:54:17.480348Z"
    }
   },
   "outputs": [
    {
     "data": {
      "text/html": [
       "<div>\n",
       "<style scoped>\n",
       "    .dataframe tbody tr th:only-of-type {\n",
       "        vertical-align: middle;\n",
       "    }\n",
       "\n",
       "    .dataframe tbody tr th {\n",
       "        vertical-align: top;\n",
       "    }\n",
       "\n",
       "    .dataframe thead th {\n",
       "        text-align: right;\n",
       "    }\n",
       "</style>\n",
       "<table border=\"1\" class=\"dataframe\">\n",
       "  <thead>\n",
       "    <tr style=\"text-align: right;\">\n",
       "      <th></th>\n",
       "      <th>Espece</th>\n",
       "      <th>date_creation</th>\n",
       "    </tr>\n",
       "    <tr>\n",
       "      <th>nom</th>\n",
       "      <th></th>\n",
       "      <th></th>\n",
       "    </tr>\n",
       "  </thead>\n",
       "  <tbody>\n",
       "    <tr>\n",
       "      <th>Riri</th>\n",
       "      <td>Canard</td>\n",
       "      <td>1937</td>\n",
       "    </tr>\n",
       "    <tr>\n",
       "      <th>Dingo</th>\n",
       "      <td>Chien</td>\n",
       "      <td>1932</td>\n",
       "    </tr>\n",
       "    <tr>\n",
       "      <th>Mickey</th>\n",
       "      <td>Souris</td>\n",
       "      <td>1928</td>\n",
       "    </tr>\n",
       "  </tbody>\n",
       "</table>\n",
       "</div>"
      ],
      "text/plain": [
       "        Espece  date_creation\n",
       "nom                          \n",
       "Riri    Canard           1937\n",
       "Dingo    Chien           1932\n",
       "Mickey  Souris           1928"
      ]
     },
     "execution_count": 54,
     "metadata": {},
     "output_type": "execute_result"
    }
   ],
   "source": [
    "df.set_index(\"nom\")"
   ]
  },
  {
   "cell_type": "code",
   "execution_count": 57,
   "id": "exterior-wallace",
   "metadata": {
    "execution": {
     "iopub.execute_input": "2021-04-13T21:59:07.222904Z",
     "iopub.status.busy": "2021-04-13T21:59:07.222700Z",
     "iopub.status.idle": "2021-04-13T21:59:07.228460Z",
     "shell.execute_reply": "2021-04-13T21:59:07.227979Z",
     "shell.execute_reply.started": "2021-04-13T21:59:07.222884Z"
    },
    "tags": []
   },
   "outputs": [
    {
     "data": {
      "text/html": [
       "<div>\n",
       "<style scoped>\n",
       "    .dataframe tbody tr th:only-of-type {\n",
       "        vertical-align: middle;\n",
       "    }\n",
       "\n",
       "    .dataframe tbody tr th {\n",
       "        vertical-align: top;\n",
       "    }\n",
       "\n",
       "    .dataframe thead th {\n",
       "        text-align: right;\n",
       "    }\n",
       "</style>\n",
       "<table border=\"1\" class=\"dataframe\">\n",
       "  <thead>\n",
       "    <tr style=\"text-align: right;\">\n",
       "      <th></th>\n",
       "      <th>nom</th>\n",
       "      <th>Espece</th>\n",
       "      <th>date_creation</th>\n",
       "    </tr>\n",
       "    <tr>\n",
       "      <th>id_disney_character</th>\n",
       "      <th></th>\n",
       "      <th></th>\n",
       "      <th></th>\n",
       "    </tr>\n",
       "  </thead>\n",
       "  <tbody>\n",
       "    <tr>\n",
       "      <th>0</th>\n",
       "      <td>Riri</td>\n",
       "      <td>Canard</td>\n",
       "      <td>1937</td>\n",
       "    </tr>\n",
       "    <tr>\n",
       "      <th>1</th>\n",
       "      <td>Dingo</td>\n",
       "      <td>Chien</td>\n",
       "      <td>1932</td>\n",
       "    </tr>\n",
       "    <tr>\n",
       "      <th>2</th>\n",
       "      <td>Mickey</td>\n",
       "      <td>Souris</td>\n",
       "      <td>1928</td>\n",
       "    </tr>\n",
       "  </tbody>\n",
       "</table>\n",
       "</div>"
      ],
      "text/plain": [
       "                        nom  Espece  date_creation\n",
       "id_disney_character                               \n",
       "0                      Riri  Canard           1937\n",
       "1                     Dingo   Chien           1932\n",
       "2                    Mickey  Souris           1928"
      ]
     },
     "execution_count": 57,
     "metadata": {},
     "output_type": "execute_result"
    }
   ],
   "source": [
    "df"
   ]
  },
  {
   "cell_type": "markdown",
   "id": "relevant-orbit",
   "metadata": {
    "execution": {
     "iopub.execute_input": "2021-04-13T21:55:03.094717Z",
     "iopub.status.busy": "2021-04-13T21:55:03.094538Z",
     "iopub.status.idle": "2021-04-13T21:55:03.097482Z",
     "shell.execute_reply": "2021-04-13T21:55:03.097115Z",
     "shell.execute_reply.started": "2021-04-13T21:55:03.094698Z"
    },
    "tags": []
   },
   "source": [
    "Un autre moyen est de simplement changer l'attribu index"
   ]
  },
  {
   "cell_type": "code",
   "execution_count": 66,
   "id": "offensive-victor",
   "metadata": {
    "execution": {
     "iopub.execute_input": "2021-04-13T22:06:58.218895Z",
     "iopub.status.busy": "2021-04-13T22:06:58.218728Z",
     "iopub.status.idle": "2021-04-13T22:06:58.221349Z",
     "shell.execute_reply": "2021-04-13T22:06:58.220864Z",
     "shell.execute_reply.started": "2021-04-13T22:06:58.218876Z"
    },
    "tags": []
   },
   "outputs": [],
   "source": [
    "df.index = df.nom"
   ]
  },
  {
   "cell_type": "code",
   "execution_count": 67,
   "id": "provincial-shepherd",
   "metadata": {
    "execution": {
     "iopub.execute_input": "2021-04-13T22:06:58.440568Z",
     "iopub.status.busy": "2021-04-13T22:06:58.440400Z",
     "iopub.status.idle": "2021-04-13T22:06:58.445902Z",
     "shell.execute_reply": "2021-04-13T22:06:58.445437Z",
     "shell.execute_reply.started": "2021-04-13T22:06:58.440550Z"
    },
    "tags": []
   },
   "outputs": [
    {
     "data": {
      "text/html": [
       "<div>\n",
       "<style scoped>\n",
       "    .dataframe tbody tr th:only-of-type {\n",
       "        vertical-align: middle;\n",
       "    }\n",
       "\n",
       "    .dataframe tbody tr th {\n",
       "        vertical-align: top;\n",
       "    }\n",
       "\n",
       "    .dataframe thead th {\n",
       "        text-align: right;\n",
       "    }\n",
       "</style>\n",
       "<table border=\"1\" class=\"dataframe\">\n",
       "  <thead>\n",
       "    <tr style=\"text-align: right;\">\n",
       "      <th></th>\n",
       "      <th>nom</th>\n",
       "      <th>Espece</th>\n",
       "      <th>date_creation</th>\n",
       "    </tr>\n",
       "    <tr>\n",
       "      <th>nom</th>\n",
       "      <th></th>\n",
       "      <th></th>\n",
       "      <th></th>\n",
       "    </tr>\n",
       "  </thead>\n",
       "  <tbody>\n",
       "    <tr>\n",
       "      <th>Riri</th>\n",
       "      <td>Riri</td>\n",
       "      <td>Canard</td>\n",
       "      <td>1937</td>\n",
       "    </tr>\n",
       "    <tr>\n",
       "      <th>Dingo</th>\n",
       "      <td>Dingo</td>\n",
       "      <td>Chien</td>\n",
       "      <td>1932</td>\n",
       "    </tr>\n",
       "    <tr>\n",
       "      <th>Mickey</th>\n",
       "      <td>Mickey</td>\n",
       "      <td>Souris</td>\n",
       "      <td>1928</td>\n",
       "    </tr>\n",
       "  </tbody>\n",
       "</table>\n",
       "</div>"
      ],
      "text/plain": [
       "           nom  Espece  date_creation\n",
       "nom                                  \n",
       "Riri      Riri  Canard           1937\n",
       "Dingo    Dingo   Chien           1932\n",
       "Mickey  Mickey  Souris           1928"
      ]
     },
     "execution_count": 67,
     "metadata": {},
     "output_type": "execute_result"
    }
   ],
   "source": [
    "df"
   ]
  },
  {
   "cell_type": "markdown",
   "id": "maritime-melissa",
   "metadata": {},
   "source": [
    "#### Les colonnes"
   ]
  },
  {
   "cell_type": "code",
   "execution_count": 68,
   "id": "reported-aquatic",
   "metadata": {
    "execution": {
     "iopub.execute_input": "2021-04-13T22:06:58.861147Z",
     "iopub.status.busy": "2021-04-13T22:06:58.860983Z",
     "iopub.status.idle": "2021-04-13T22:06:58.863969Z",
     "shell.execute_reply": "2021-04-13T22:06:58.863606Z",
     "shell.execute_reply.started": "2021-04-13T22:06:58.861129Z"
    },
    "tags": []
   },
   "outputs": [
    {
     "data": {
      "text/plain": [
       "Index(['nom', 'Espece', 'date_creation'], dtype='object')"
      ]
     },
     "execution_count": 68,
     "metadata": {},
     "output_type": "execute_result"
    }
   ],
   "source": [
    "df.columns"
   ]
  },
  {
   "cell_type": "markdown",
   "id": "shared-setup",
   "metadata": {},
   "source": [
    "Dans les faits, sous le capot, columns est un \"index horizontal\", on peut donc appliquer toutes les opérations que l'on peut appliquer à l'index."
   ]
  },
  {
   "cell_type": "code",
   "execution_count": 69,
   "id": "developed-samba",
   "metadata": {
    "execution": {
     "iopub.execute_input": "2021-04-13T22:06:59.254482Z",
     "iopub.status.busy": "2021-04-13T22:06:59.254295Z",
     "iopub.status.idle": "2021-04-13T22:06:59.257454Z",
     "shell.execute_reply": "2021-04-13T22:06:59.257064Z",
     "shell.execute_reply.started": "2021-04-13T22:06:59.254463Z"
    },
    "tags": []
   },
   "outputs": [
    {
     "data": {
      "text/plain": [
       "pandas.core.indexes.base.Index"
      ]
     },
     "execution_count": 69,
     "metadata": {},
     "output_type": "execute_result"
    }
   ],
   "source": [
    "type(df.columns)"
   ]
  },
  {
   "cell_type": "code",
   "execution_count": 70,
   "id": "universal-float",
   "metadata": {
    "execution": {
     "iopub.execute_input": "2021-04-13T22:06:59.437813Z",
     "iopub.status.busy": "2021-04-13T22:06:59.437644Z",
     "iopub.status.idle": "2021-04-13T22:06:59.440590Z",
     "shell.execute_reply": "2021-04-13T22:06:59.440230Z",
     "shell.execute_reply.started": "2021-04-13T22:06:59.437795Z"
    },
    "tags": []
   },
   "outputs": [
    {
     "data": {
      "text/plain": [
       "pandas.core.indexes.base.Index"
      ]
     },
     "execution_count": 70,
     "metadata": {},
     "output_type": "execute_result"
    }
   ],
   "source": [
    "type(df.index)"
   ]
  },
  {
   "cell_type": "markdown",
   "id": "convinced-peeing",
   "metadata": {},
   "source": [
    "### En plus"
   ]
  },
  {
   "cell_type": "markdown",
   "id": "sustained-showcase",
   "metadata": {},
   "source": [
    "Une dataframe viens avec également pleins de méthodes pour manipuler/transformer/avoir de l'information/autre avec les données. \n",
    "Quelques exemples:"
   ]
  },
  {
   "cell_type": "code",
   "execution_count": 75,
   "id": "alternative-harvard",
   "metadata": {
    "execution": {
     "iopub.execute_input": "2021-04-13T22:11:25.633424Z",
     "iopub.status.busy": "2021-04-13T22:11:25.633257Z",
     "iopub.status.idle": "2021-04-13T22:11:25.643874Z",
     "shell.execute_reply": "2021-04-13T22:11:25.643384Z",
     "shell.execute_reply.started": "2021-04-13T22:11:25.633406Z"
    },
    "tags": []
   },
   "outputs": [
    {
     "data": {
      "text/html": [
       "<div>\n",
       "<style scoped>\n",
       "    .dataframe tbody tr th:only-of-type {\n",
       "        vertical-align: middle;\n",
       "    }\n",
       "\n",
       "    .dataframe tbody tr th {\n",
       "        vertical-align: top;\n",
       "    }\n",
       "\n",
       "    .dataframe thead th {\n",
       "        text-align: right;\n",
       "    }\n",
       "</style>\n",
       "<table border=\"1\" class=\"dataframe\">\n",
       "  <thead>\n",
       "    <tr style=\"text-align: right;\">\n",
       "      <th>nom</th>\n",
       "      <th>Riri</th>\n",
       "      <th>Dingo</th>\n",
       "      <th>Mickey</th>\n",
       "    </tr>\n",
       "  </thead>\n",
       "  <tbody>\n",
       "    <tr>\n",
       "      <th>nom</th>\n",
       "      <td>Riri</td>\n",
       "      <td>Dingo</td>\n",
       "      <td>Mickey</td>\n",
       "    </tr>\n",
       "    <tr>\n",
       "      <th>Espece</th>\n",
       "      <td>Canard</td>\n",
       "      <td>Chien</td>\n",
       "      <td>Souris</td>\n",
       "    </tr>\n",
       "    <tr>\n",
       "      <th>date_creation</th>\n",
       "      <td>1937</td>\n",
       "      <td>1932</td>\n",
       "      <td>1928</td>\n",
       "    </tr>\n",
       "  </tbody>\n",
       "</table>\n",
       "</div>"
      ],
      "text/plain": [
       "nom              Riri  Dingo  Mickey\n",
       "nom              Riri  Dingo  Mickey\n",
       "Espece         Canard  Chien  Souris\n",
       "date_creation    1937   1932    1928"
      ]
     },
     "execution_count": 75,
     "metadata": {},
     "output_type": "execute_result"
    }
   ],
   "source": [
    "df.T  #La transposée  (Ps : on comprends pourquoi c'est pratique d'avoir index et columns qui sont en fait du même type )"
   ]
  },
  {
   "cell_type": "code",
   "execution_count": 179,
   "id": "published-juvenile",
   "metadata": {
    "execution": {
     "iopub.execute_input": "2021-04-13T23:07:58.604678Z",
     "iopub.status.busy": "2021-04-13T23:07:58.604432Z",
     "iopub.status.idle": "2021-04-13T23:07:58.608135Z",
     "shell.execute_reply": "2021-04-13T23:07:58.607673Z",
     "shell.execute_reply.started": "2021-04-13T23:07:58.604649Z"
    }
   },
   "outputs": [
    {
     "data": {
      "text/plain": [
       "(3, 3)"
      ]
     },
     "execution_count": 179,
     "metadata": {},
     "output_type": "execute_result"
    }
   ],
   "source": [
    "df.shape"
   ]
  },
  {
   "cell_type": "code",
   "execution_count": 76,
   "id": "unlike-ranch",
   "metadata": {
    "execution": {
     "iopub.execute_input": "2021-04-13T22:11:34.884211Z",
     "iopub.status.busy": "2021-04-13T22:11:34.884006Z",
     "iopub.status.idle": "2021-04-13T22:11:34.888628Z",
     "shell.execute_reply": "2021-04-13T22:11:34.888234Z",
     "shell.execute_reply.started": "2021-04-13T22:11:34.884191Z"
    },
    "tags": []
   },
   "outputs": [
    {
     "data": {
      "text/plain": [
       "date_creation    1932.333333\n",
       "dtype: float64"
      ]
     },
     "execution_count": 76,
     "metadata": {},
     "output_type": "execute_result"
    }
   ],
   "source": [
    "df.mean()"
   ]
  },
  {
   "cell_type": "code",
   "execution_count": 77,
   "id": "cosmetic-brook",
   "metadata": {
    "execution": {
     "iopub.execute_input": "2021-04-13T22:11:48.135485Z",
     "iopub.status.busy": "2021-04-13T22:11:48.135319Z",
     "iopub.status.idle": "2021-04-13T22:11:48.532655Z",
     "shell.execute_reply": "2021-04-13T22:11:48.532173Z",
     "shell.execute_reply.started": "2021-04-13T22:11:48.135467Z"
    }
   },
   "outputs": [
    {
     "data": {
      "text/plain": [
       "<AxesSubplot:xlabel='nom'>"
      ]
     },
     "execution_count": 77,
     "metadata": {},
     "output_type": "execute_result"
    },
    {
     "data": {
      "image/png": "[encoded data removed]",
      "text/plain": [
       "<Figure size 432x288 with 1 Axes>"
      ]
     },
     "metadata": {
      "needs_background": "light"
     },
     "output_type": "display_data"
    }
   ],
   "source": [
    "df.plot()"
   ]
  },
  {
   "cell_type": "code",
   "execution_count": 79,
   "id": "electrical-original",
   "metadata": {
    "execution": {
     "iopub.execute_input": "2021-04-13T22:12:31.357549Z",
     "iopub.status.busy": "2021-04-13T22:12:31.357376Z",
     "iopub.status.idle": "2021-04-13T22:12:31.361279Z",
     "shell.execute_reply": "2021-04-13T22:12:31.360904Z",
     "shell.execute_reply.started": "2021-04-13T22:12:31.357530Z"
    },
    "tags": []
   },
   "outputs": [
    {
     "data": {
      "text/plain": [
       "nom              Dingo\n",
       "Espece           Chien\n",
       "date_creation     1932\n",
       "Name: Dingo, dtype: object"
      ]
     },
     "execution_count": 79,
     "metadata": {},
     "output_type": "execute_result"
    }
   ],
   "source": [
    "df.loc[\"Dingo\"]"
   ]
  },
  {
   "cell_type": "code",
   "execution_count": 80,
   "id": "harmful-voltage",
   "metadata": {
    "execution": {
     "iopub.execute_input": "2021-04-13T22:12:47.038008Z",
     "iopub.status.busy": "2021-04-13T22:12:47.037835Z",
     "iopub.status.idle": "2021-04-13T22:12:47.041524Z",
     "shell.execute_reply": "2021-04-13T22:12:47.041170Z",
     "shell.execute_reply.started": "2021-04-13T22:12:47.037990Z"
    }
   },
   "outputs": [
    {
     "data": {
      "text/plain": [
       "nom\n",
       "Riri      Canard\n",
       "Dingo      Chien\n",
       "Mickey    Souris\n",
       "Name: Espece, dtype: object"
      ]
     },
     "execution_count": 80,
     "metadata": {},
     "output_type": "execute_result"
    }
   ],
   "source": [
    "df[\"Espece\"]"
   ]
  },
  {
   "cell_type": "markdown",
   "id": "upset-object",
   "metadata": {},
   "source": [
    "La liste complète :-) ?"
   ]
  },
  {
   "cell_type": "code",
   "execution_count": 86,
   "id": "interpreted-inspector",
   "metadata": {
    "collapsed": true,
    "execution": {
     "iopub.execute_input": "2021-04-13T22:23:25.242328Z",
     "iopub.status.busy": "2021-04-13T22:23:25.242164Z",
     "iopub.status.idle": "2021-04-13T22:23:25.247640Z",
     "shell.execute_reply": "2021-04-13T22:23:25.247280Z",
     "shell.execute_reply.started": "2021-04-13T22:23:25.242311Z"
    },
    "jupyter": {
     "outputs_hidden": true
    },
    "tags": []
   },
   "outputs": [
    {
     "data": {
      "text/plain": [
       "['Espece',\n",
       " 'T',\n",
       " 'a',\n",
       " 'abs',\n",
       " 'add',\n",
       " 'add_prefix',\n",
       " 'add_suffix',\n",
       " 'agg',\n",
       " 'aggregate',\n",
       " 'align',\n",
       " 'all',\n",
       " 'any',\n",
       " 'append',\n",
       " 'apply',\n",
       " 'applymap',\n",
       " 'asfreq',\n",
       " 'asof',\n",
       " 'assign',\n",
       " 'astype',\n",
       " 'at',\n",
       " 'at_time',\n",
       " 'attrs',\n",
       " 'axes',\n",
       " 'backfill',\n",
       " 'between_time',\n",
       " 'bfill',\n",
       " 'bool',\n",
       " 'boxplot',\n",
       " 'clip',\n",
       " 'columns',\n",
       " 'combine',\n",
       " 'combine_first',\n",
       " 'compare',\n",
       " 'convert_dtypes',\n",
       " 'copy',\n",
       " 'corr',\n",
       " 'corrwith',\n",
       " 'count',\n",
       " 'cov',\n",
       " 'cummax',\n",
       " 'cummin',\n",
       " 'cumprod',\n",
       " 'cumsum',\n",
       " 'date_creation',\n",
       " 'describe',\n",
       " 'diff',\n",
       " 'div',\n",
       " 'divide',\n",
       " 'dot',\n",
       " 'drop',\n",
       " 'drop_duplicates',\n",
       " 'droplevel',\n",
       " 'dropna',\n",
       " 'dtypes',\n",
       " 'duplicated',\n",
       " 'empty',\n",
       " 'eq',\n",
       " 'equals',\n",
       " 'eval',\n",
       " 'ewm',\n",
       " 'expanding',\n",
       " 'explode',\n",
       " 'ffill',\n",
       " 'fillna',\n",
       " 'filter',\n",
       " 'first',\n",
       " 'first_valid_index',\n",
       " 'flags',\n",
       " 'floordiv',\n",
       " 'from_dict',\n",
       " 'from_records',\n",
       " 'ge',\n",
       " 'get',\n",
       " 'groupby',\n",
       " 'gt',\n",
       " 'head',\n",
       " 'hist',\n",
       " 'iat',\n",
       " 'idxmax',\n",
       " 'idxmin',\n",
       " 'iloc',\n",
       " 'index',\n",
       " 'infer_objects',\n",
       " 'info',\n",
       " 'insert',\n",
       " 'interpolate',\n",
       " 'isin',\n",
       " 'isna',\n",
       " 'isnull',\n",
       " 'items',\n",
       " 'iteritems',\n",
       " 'iterrows',\n",
       " 'itertuples',\n",
       " 'join',\n",
       " 'keys',\n",
       " 'kurt',\n",
       " 'kurtosis',\n",
       " 'last',\n",
       " 'last_valid_index',\n",
       " 'le',\n",
       " 'loc',\n",
       " 'lookup',\n",
       " 'lt',\n",
       " 'mad',\n",
       " 'mask',\n",
       " 'max',\n",
       " 'mean',\n",
       " 'median',\n",
       " 'melt',\n",
       " 'memory_usage',\n",
       " 'merge',\n",
       " 'min',\n",
       " 'mod',\n",
       " 'mode',\n",
       " 'mul',\n",
       " 'multiply',\n",
       " 'ndim',\n",
       " 'ne',\n",
       " 'nlargest',\n",
       " 'nom',\n",
       " 'notna',\n",
       " 'notnull',\n",
       " 'nsmallest',\n",
       " 'nunique',\n",
       " 'pad',\n",
       " 'pct_change',\n",
       " 'pipe',\n",
       " 'pivot',\n",
       " 'pivot_table',\n",
       " 'plot',\n",
       " 'pop',\n",
       " 'pow',\n",
       " 'prod',\n",
       " 'product',\n",
       " 'quantile',\n",
       " 'query',\n",
       " 'radd',\n",
       " 'rank',\n",
       " 'rdiv',\n",
       " 'reindex',\n",
       " 'reindex_like',\n",
       " 'rename',\n",
       " 'rename_axis',\n",
       " 'reorder_levels',\n",
       " 'replace',\n",
       " 'resample',\n",
       " 'reset_index',\n",
       " 'rfloordiv',\n",
       " 'rmod',\n",
       " 'rmul',\n",
       " 'rolling',\n",
       " 'round',\n",
       " 'rpow',\n",
       " 'rsub',\n",
       " 'rtruediv',\n",
       " 'sample',\n",
       " 'select_dtypes',\n",
       " 'sem',\n",
       " 'set_axis',\n",
       " 'set_flags',\n",
       " 'set_index',\n",
       " 'shape',\n",
       " 'shift',\n",
       " 'size',\n",
       " 'skew',\n",
       " 'slice_shift',\n",
       " 'sort_index',\n",
       " 'sort_values',\n",
       " 'squeeze',\n",
       " 'stack',\n",
       " 'std',\n",
       " 'style',\n",
       " 'sub',\n",
       " 'subtract',\n",
       " 'sum',\n",
       " 'swapaxes',\n",
       " 'swaplevel',\n",
       " 'tail',\n",
       " 'take',\n",
       " 'to_clipboard',\n",
       " 'to_csv',\n",
       " 'to_dict',\n",
       " 'to_excel',\n",
       " 'to_feather',\n",
       " 'to_gbq',\n",
       " 'to_hdf',\n",
       " 'to_html',\n",
       " 'to_json',\n",
       " 'to_latex',\n",
       " 'to_markdown',\n",
       " 'to_numpy',\n",
       " 'to_parquet',\n",
       " 'to_period',\n",
       " 'to_pickle',\n",
       " 'to_records',\n",
       " 'to_sql',\n",
       " 'to_stata',\n",
       " 'to_string',\n",
       " 'to_timestamp',\n",
       " 'to_xarray',\n",
       " 'transform',\n",
       " 'transpose',\n",
       " 'truediv',\n",
       " 'truncate',\n",
       " 'tz_convert',\n",
       " 'tz_localize',\n",
       " 'unstack',\n",
       " 'update',\n",
       " 'value_counts',\n",
       " 'values',\n",
       " 'var',\n",
       " 'where',\n",
       " 'xs']"
      ]
     },
     "execution_count": 86,
     "metadata": {},
     "output_type": "execute_result"
    }
   ],
   "source": [
    "[a for a in dir(df) if a[0] != \"_\"]"
   ]
  },
  {
   "cell_type": "code",
   "execution_count": 87,
   "id": "disabled-radio",
   "metadata": {
    "execution": {
     "iopub.execute_input": "2021-04-13T22:24:51.117001Z",
     "iopub.status.busy": "2021-04-13T22:24:51.116833Z",
     "iopub.status.idle": "2021-04-13T22:24:51.120543Z",
     "shell.execute_reply": "2021-04-13T22:24:51.120168Z",
     "shell.execute_reply.started": "2021-04-13T22:24:51.116981Z"
    }
   },
   "outputs": [
    {
     "data": {
      "text/plain": [
       "213"
      ]
     },
     "execution_count": 87,
     "metadata": {},
     "output_type": "execute_result"
    }
   ],
   "source": [
    "len([a for a in dir(df) if a[0] != \"_\"])"
   ]
  },
  {
   "cell_type": "code",
   "execution_count": 6,
   "id": "front-mortgage",
   "metadata": {
    "execution": {
     "iopub.execute_input": "2021-04-28T23:33:46.372077Z",
     "iopub.status.busy": "2021-04-28T23:33:46.371895Z",
     "iopub.status.idle": "2021-04-28T23:33:46.374209Z",
     "shell.execute_reply": "2021-04-28T23:33:46.373777Z",
     "shell.execute_reply.started": "2021-04-28T23:33:46.372056Z"
    },
    "tags": []
   },
   "outputs": [],
   "source": [
    "#df.xs?"
   ]
  },
  {
   "cell_type": "markdown",
   "id": "adequate-blend",
   "metadata": {},
   "source": [
    "## La Series"
   ]
  },
  {
   "cell_type": "code",
   "execution_count": 12,
   "id": "biblical-heading",
   "metadata": {
    "execution": {
     "iopub.execute_input": "2021-04-28T23:34:06.655534Z",
     "iopub.status.busy": "2021-04-28T23:34:06.655107Z",
     "iopub.status.idle": "2021-04-28T23:34:06.664210Z",
     "shell.execute_reply": "2021-04-28T23:34:06.663008Z",
     "shell.execute_reply.started": "2021-04-28T23:34:06.655482Z"
    },
    "tags": []
   },
   "outputs": [
    {
     "data": {
      "text/plain": [
       "0     1\n",
       "1     2\n",
       "2    10\n",
       "3    21\n",
       "dtype: int64"
      ]
     },
     "execution_count": 12,
     "metadata": {},
     "output_type": "execute_result"
    }
   ],
   "source": [
    "pd.Series([1,2,10, 21])"
   ]
  },
  {
   "cell_type": "markdown",
   "id": "identical-thread",
   "metadata": {},
   "source": [
    "Une série est un vecteur (ou array) qui comme la dataframe possède une ensemble de méthodes et d'attribus.\n"
   ]
  },
  {
   "cell_type": "code",
   "execution_count": 13,
   "id": "static-stewart",
   "metadata": {
    "execution": {
     "iopub.execute_input": "2021-04-28T23:34:07.513175Z",
     "iopub.status.busy": "2021-04-28T23:34:07.512594Z",
     "iopub.status.idle": "2021-04-28T23:34:07.518530Z",
     "shell.execute_reply": "2021-04-28T23:34:07.517957Z",
     "shell.execute_reply.started": "2021-04-28T23:34:07.513104Z"
    },
    "tags": []
   },
   "outputs": [],
   "source": [
    "s = pd.Series([1,2,10, 21])"
   ]
  },
  {
   "cell_type": "code",
   "execution_count": 14,
   "id": "aggregate-monaco",
   "metadata": {
    "execution": {
     "iopub.execute_input": "2021-04-28T23:34:07.743218Z",
     "iopub.status.busy": "2021-04-28T23:34:07.742912Z",
     "iopub.status.idle": "2021-04-28T23:34:07.749444Z",
     "shell.execute_reply": "2021-04-28T23:34:07.748574Z",
     "shell.execute_reply.started": "2021-04-28T23:34:07.743183Z"
    },
    "tags": []
   },
   "outputs": [
    {
     "data": {
      "text/plain": [
       "['T',\n",
       " 'array',\n",
       " 'combine',\n",
       " 'divide',\n",
       " 'explode',\n",
       " 'hist',\n",
       " 'item',\n",
       " 'mean',\n",
       " 'nsmallest',\n",
       " 'rdivmod',\n",
       " 'rpow',\n",
       " 'squeeze',\n",
       " 'to_json',\n",
       " 'tz_convert']"
      ]
     },
     "execution_count": 14,
     "metadata": {},
     "output_type": "execute_result"
    }
   ],
   "source": [
    "[a for a in dir(s) if a[0] != \"_\"][::15]"
   ]
  },
  {
   "cell_type": "code",
   "execution_count": 15,
   "id": "trying-oregon",
   "metadata": {
    "execution": {
     "iopub.execute_input": "2021-04-28T23:34:08.458573Z",
     "iopub.status.busy": "2021-04-28T23:34:08.458369Z",
     "iopub.status.idle": "2021-04-28T23:34:08.462718Z",
     "shell.execute_reply": "2021-04-28T23:34:08.462171Z",
     "shell.execute_reply.started": "2021-04-28T23:34:08.458548Z"
    },
    "tags": []
   },
   "outputs": [
    {
     "data": {
      "text/plain": [
       "206"
      ]
     },
     "execution_count": 15,
     "metadata": {},
     "output_type": "execute_result"
    }
   ],
   "source": [
    "len([a for a in dir(s) if a[0] != \"_\"])"
   ]
  },
  {
   "cell_type": "markdown",
   "id": "extra-heavy",
   "metadata": {},
   "source": [
    "Ils en possèdent d'ailleurs beaucoup en commun."
   ]
  },
  {
   "cell_type": "code",
   "execution_count": 16,
   "id": "incoming-sudan",
   "metadata": {
    "execution": {
     "iopub.execute_input": "2021-04-28T23:34:09.284986Z",
     "iopub.status.busy": "2021-04-28T23:34:09.284418Z",
     "iopub.status.idle": "2021-04-28T23:34:09.303763Z",
     "shell.execute_reply": "2021-04-28T23:34:09.302115Z",
     "shell.execute_reply.started": "2021-04-28T23:34:09.284916Z"
    },
    "tags": []
   },
   "outputs": [
    {
     "ename": "NameError",
     "evalue": "name 'df' is not defined",
     "output_type": "error",
     "traceback": [
      "\u001b[0;31m---------------------------------------------------------------------------\u001b[0m",
      "\u001b[0;31mNameError\u001b[0m                                 Traceback (most recent call last)",
      "\u001b[0;32m<ipython-input-16-483b28d5d597>\u001b[0m in \u001b[0;36m<module>\u001b[0;34m\u001b[0m\n\u001b[0;32m----> 1\u001b[0;31m \u001b[0mlen\u001b[0m\u001b[0;34m(\u001b[0m\u001b[0mset\u001b[0m\u001b[0;34m(\u001b[0m\u001b[0;34m[\u001b[0m\u001b[0ma\u001b[0m \u001b[0;32mfor\u001b[0m \u001b[0ma\u001b[0m \u001b[0;32min\u001b[0m \u001b[0mdir\u001b[0m\u001b[0;34m(\u001b[0m\u001b[0mdf\u001b[0m\u001b[0;34m)\u001b[0m \u001b[0;32mif\u001b[0m \u001b[0ma\u001b[0m\u001b[0;34m[\u001b[0m\u001b[0;36m0\u001b[0m\u001b[0;34m]\u001b[0m \u001b[0;34m!=\u001b[0m \u001b[0;34m\"_\"\u001b[0m\u001b[0;34m]\u001b[0m\u001b[0;34m)\u001b[0m\u001b[0;34m.\u001b[0m\u001b[0mintersection\u001b[0m\u001b[0;34m(\u001b[0m\u001b[0mset\u001b[0m\u001b[0;34m(\u001b[0m\u001b[0;34m[\u001b[0m\u001b[0ma\u001b[0m \u001b[0;32mfor\u001b[0m \u001b[0ma\u001b[0m \u001b[0;32min\u001b[0m \u001b[0mdir\u001b[0m\u001b[0;34m(\u001b[0m\u001b[0ms\u001b[0m\u001b[0;34m)\u001b[0m \u001b[0;32mif\u001b[0m \u001b[0ma\u001b[0m\u001b[0;34m[\u001b[0m\u001b[0;36m0\u001b[0m\u001b[0;34m]\u001b[0m \u001b[0;34m!=\u001b[0m \u001b[0;34m\"_\"\u001b[0m\u001b[0;34m]\u001b[0m\u001b[0;34m)\u001b[0m\u001b[0;34m)\u001b[0m\u001b[0;34m)\u001b[0m\u001b[0;34m\u001b[0m\u001b[0;34m\u001b[0m\u001b[0m\n\u001b[0m",
      "\u001b[0;31mNameError\u001b[0m: name 'df' is not defined"
     ]
    }
   ],
   "source": [
    "len(set([a for a in dir(df) if a[0] != \"_\"]).intersection(set([a for a in dir(s) if a[0] != \"_\"])))"
   ]
  },
  {
   "cell_type": "markdown",
   "id": "requested-situation",
   "metadata": {},
   "source": [
    "Parmis ceux-ci l'attribu du nom"
   ]
  },
  {
   "cell_type": "code",
   "execution_count": 134,
   "id": "hollywood-retirement",
   "metadata": {
    "execution": {
     "iopub.execute_input": "2021-04-13T22:51:37.429847Z",
     "iopub.status.busy": "2021-04-13T22:51:37.429676Z",
     "iopub.status.idle": "2021-04-13T22:51:37.432351Z",
     "shell.execute_reply": "2021-04-13T22:51:37.431774Z",
     "shell.execute_reply.started": "2021-04-13T22:51:37.429827Z"
    },
    "tags": []
   },
   "outputs": [],
   "source": [
    "s.name = \"coucou\""
   ]
  },
  {
   "cell_type": "code",
   "execution_count": 135,
   "id": "incident-cincinnati",
   "metadata": {
    "execution": {
     "iopub.execute_input": "2021-04-13T22:51:38.748159Z",
     "iopub.status.busy": "2021-04-13T22:51:38.747987Z",
     "iopub.status.idle": "2021-04-13T22:51:38.751476Z",
     "shell.execute_reply": "2021-04-13T22:51:38.750972Z",
     "shell.execute_reply.started": "2021-04-13T22:51:38.748140Z"
    }
   },
   "outputs": [
    {
     "data": {
      "text/plain": [
       "0     1\n",
       "1     2\n",
       "2    10\n",
       "3    21\n",
       "Name: coucou, dtype: int64"
      ]
     },
     "execution_count": 135,
     "metadata": {},
     "output_type": "execute_result"
    }
   ],
   "source": [
    "s"
   ]
  },
  {
   "cell_type": "markdown",
   "id": "worldwide-option",
   "metadata": {},
   "source": [
    "Mais attention, les méthodes ne se comportent pas toujours de la même manière."
   ]
  },
  {
   "cell_type": "markdown",
   "id": "permanent-ancient",
   "metadata": {},
   "source": [
    "Mais au fait, que contient une Series ?"
   ]
  },
  {
   "cell_type": "code",
   "execution_count": 119,
   "id": "computational-groove",
   "metadata": {
    "execution": {
     "iopub.execute_input": "2021-04-13T22:45:09.161516Z",
     "iopub.status.busy": "2021-04-13T22:45:09.161268Z",
     "iopub.status.idle": "2021-04-13T22:45:09.165139Z",
     "shell.execute_reply": "2021-04-13T22:45:09.164665Z",
     "shell.execute_reply.started": "2021-04-13T22:45:09.161487Z"
    },
    "tags": []
   },
   "outputs": [
    {
     "data": {
      "text/plain": [
       "array([ 1,  2, 10, 21])"
      ]
     },
     "execution_count": 119,
     "metadata": {},
     "output_type": "execute_result"
    }
   ],
   "source": [
    "s.values"
   ]
  },
  {
   "cell_type": "markdown",
   "id": "hundred-paris",
   "metadata": {},
   "source": [
    "Un array ?"
   ]
  },
  {
   "cell_type": "code",
   "execution_count": 120,
   "id": "powered-difficulty",
   "metadata": {
    "execution": {
     "iopub.execute_input": "2021-04-13T22:45:30.656151Z",
     "iopub.status.busy": "2021-04-13T22:45:30.655982Z",
     "iopub.status.idle": "2021-04-13T22:45:30.658854Z",
     "shell.execute_reply": "2021-04-13T22:45:30.658466Z",
     "shell.execute_reply.started": "2021-04-13T22:45:30.656131Z"
    }
   },
   "outputs": [
    {
     "data": {
      "text/plain": [
       "numpy.ndarray"
      ]
     },
     "execution_count": 120,
     "metadata": {},
     "output_type": "execute_result"
    }
   ],
   "source": [
    "type(s.values)"
   ]
  },
  {
   "cell_type": "code",
   "execution_count": 123,
   "id": "sacred-vermont",
   "metadata": {
    "execution": {
     "iopub.execute_input": "2021-04-13T22:48:13.659041Z",
     "iopub.status.busy": "2021-04-13T22:48:13.658875Z",
     "iopub.status.idle": "2021-04-13T22:48:13.661088Z",
     "shell.execute_reply": "2021-04-13T22:48:13.660674Z",
     "shell.execute_reply.started": "2021-04-13T22:48:13.659022Z"
    }
   },
   "outputs": [],
   "source": [
    "import numpy as np"
   ]
  },
  {
   "cell_type": "markdown",
   "id": "healthy-witch",
   "metadata": {
    "execution": {
     "iopub.execute_input": "2021-04-13T22:48:14.172883Z",
     "iopub.status.busy": "2021-04-13T22:48:14.172718Z",
     "iopub.status.idle": "2021-04-13T22:48:14.176075Z",
     "shell.execute_reply": "2021-04-13T22:48:14.175536Z",
     "shell.execute_reply.started": "2021-04-13T22:48:14.172865Z"
    }
   },
   "source": [
    "Un array est un objet de la librairie numpy. Dans les faits c'est une liste qui a quelques comportements différents."
   ]
  },
  {
   "cell_type": "code",
   "execution_count": 125,
   "id": "convinced-writing",
   "metadata": {
    "execution": {
     "iopub.execute_input": "2021-04-13T22:48:17.922259Z",
     "iopub.status.busy": "2021-04-13T22:48:17.922091Z",
     "iopub.status.idle": "2021-04-13T22:48:17.925361Z",
     "shell.execute_reply": "2021-04-13T22:48:17.925001Z",
     "shell.execute_reply.started": "2021-04-13T22:48:17.922241Z"
    },
    "tags": []
   },
   "outputs": [
    {
     "data": {
      "text/plain": [
       "[1, 2, 3, 4]"
      ]
     },
     "execution_count": 125,
     "metadata": {},
     "output_type": "execute_result"
    }
   ],
   "source": [
    "[1,2,3] + [4]"
   ]
  },
  {
   "cell_type": "code",
   "execution_count": 126,
   "id": "senior-rally",
   "metadata": {
    "execution": {
     "iopub.execute_input": "2021-04-13T22:48:35.451223Z",
     "iopub.status.busy": "2021-04-13T22:48:35.451056Z",
     "iopub.status.idle": "2021-04-13T22:48:35.454648Z",
     "shell.execute_reply": "2021-04-13T22:48:35.454261Z",
     "shell.execute_reply.started": "2021-04-13T22:48:35.451205Z"
    }
   },
   "outputs": [
    {
     "data": {
      "text/plain": [
       "array([5, 6, 7])"
      ]
     },
     "execution_count": 126,
     "metadata": {},
     "output_type": "execute_result"
    }
   ],
   "source": [
    "import numpy as np\n",
    "np.array([1,2,3] ) + np.array([4] )"
   ]
  },
  {
   "cell_type": "markdown",
   "id": "indian-tractor",
   "metadata": {},
   "source": [
    "Avec bien sûr des méthodes diverses et variées (dont certaines sont communes avec celles des series et dataframe, mais qui se comportent aussi parfois de manière différente)."
   ]
  },
  {
   "cell_type": "code",
   "execution_count": 131,
   "id": "noticed-accident",
   "metadata": {
    "execution": {
     "iopub.execute_input": "2021-04-13T22:50:53.279596Z",
     "iopub.status.busy": "2021-04-13T22:50:53.279416Z",
     "iopub.status.idle": "2021-04-13T22:50:53.283403Z",
     "shell.execute_reply": "2021-04-13T22:50:53.282923Z",
     "shell.execute_reply.started": "2021-04-13T22:50:53.279577Z"
    },
    "tags": []
   },
   "outputs": [
    {
     "data": {
      "text/plain": [
       "['T', 'choose', 'diagonal', 'imag', 'nonzero', 'round', 'sum', 'view']"
      ]
     },
     "execution_count": 131,
     "metadata": {},
     "output_type": "execute_result"
    }
   ],
   "source": [
    "[a for a in dir(np.array([4] )) if a[0] != \"_\"][::10]"
   ]
  },
  {
   "cell_type": "markdown",
   "id": "celtic-aircraft",
   "metadata": {},
   "source": [
    "### Retour à la série"
   ]
  },
  {
   "cell_type": "markdown",
   "id": "nonprofit-furniture",
   "metadata": {},
   "source": [
    "Du coup une série, c'est un array numpy, wrappé dans un objet qui contient des méthodes et des attribus (tel que le nom, et l'index)"
   ]
  },
  {
   "cell_type": "code",
   "execution_count": 166,
   "id": "angry-inflation",
   "metadata": {
    "execution": {
     "iopub.execute_input": "2021-04-13T23:05:09.569922Z",
     "iopub.status.busy": "2021-04-13T23:05:09.569756Z",
     "iopub.status.idle": "2021-04-13T23:05:09.572247Z",
     "shell.execute_reply": "2021-04-13T23:05:09.571823Z",
     "shell.execute_reply.started": "2021-04-13T23:05:09.569904Z"
    },
    "tags": []
   },
   "outputs": [],
   "source": [
    "array1 = np.array([1,2,3] )\n",
    "array2 = np.array([51,666,42] )"
   ]
  },
  {
   "cell_type": "code",
   "execution_count": 148,
   "id": "unavailable-joyce",
   "metadata": {
    "execution": {
     "iopub.execute_input": "2021-04-13T23:01:01.877127Z",
     "iopub.status.busy": "2021-04-13T23:01:01.876963Z",
     "iopub.status.idle": "2021-04-13T23:01:01.882571Z",
     "shell.execute_reply": "2021-04-13T23:01:01.882209Z",
     "shell.execute_reply.started": "2021-04-13T23:01:01.877109Z"
    },
    "tags": []
   },
   "outputs": [
    {
     "data": {
      "text/plain": [
       "0    True\n",
       "1    True\n",
       "2    True\n",
       "dtype: bool"
      ]
     },
     "execution_count": 148,
     "metadata": {},
     "output_type": "execute_result"
    }
   ],
   "source": [
    "pd.Series(array1)==array1"
   ]
  },
  {
   "cell_type": "code",
   "execution_count": 152,
   "id": "published-enemy",
   "metadata": {
    "execution": {
     "iopub.execute_input": "2021-04-13T23:02:50.030994Z",
     "iopub.status.busy": "2021-04-13T23:02:50.030829Z",
     "iopub.status.idle": "2021-04-13T23:02:50.034334Z",
     "shell.execute_reply": "2021-04-13T23:02:50.033863Z",
     "shell.execute_reply.started": "2021-04-13T23:02:50.030976Z"
    },
    "tags": []
   },
   "outputs": [
    {
     "data": {
      "text/plain": [
       "False"
      ]
     },
     "execution_count": 152,
     "metadata": {},
     "output_type": "execute_result"
    }
   ],
   "source": [
    "pd.Series(array1) is array1 ### Ce ne sont pas les mêmes objets plus que la Série possède des méthodes différentes (essentiellement en plus)"
   ]
  },
  {
   "cell_type": "code",
   "execution_count": 170,
   "id": "centered-following",
   "metadata": {
    "execution": {
     "iopub.execute_input": "2021-04-13T23:05:59.352606Z",
     "iopub.status.busy": "2021-04-13T23:05:59.352444Z",
     "iopub.status.idle": "2021-04-13T23:05:59.355182Z",
     "shell.execute_reply": "2021-04-13T23:05:59.354687Z",
     "shell.execute_reply.started": "2021-04-13T23:05:59.352588Z"
    },
    "tags": []
   },
   "outputs": [],
   "source": [
    "s = pd.Series(array1)"
   ]
  },
  {
   "cell_type": "code",
   "execution_count": 171,
   "id": "duplicate-month",
   "metadata": {
    "execution": {
     "iopub.execute_input": "2021-04-13T23:05:59.711167Z",
     "iopub.status.busy": "2021-04-13T23:05:59.710995Z",
     "iopub.status.idle": "2021-04-13T23:05:59.714031Z",
     "shell.execute_reply": "2021-04-13T23:05:59.713605Z",
     "shell.execute_reply.started": "2021-04-13T23:05:59.711148Z"
    },
    "tags": []
   },
   "outputs": [
    {
     "data": {
      "text/plain": [
       "True"
      ]
     },
     "execution_count": 171,
     "metadata": {},
     "output_type": "execute_result"
    }
   ],
   "source": [
    "s.values is array1 ### Mais les deux pointent vers le même objet en mêmoire"
   ]
  },
  {
   "cell_type": "code",
   "execution_count": 172,
   "id": "superb-configuration",
   "metadata": {
    "execution": {
     "iopub.execute_input": "2021-04-13T23:06:00.239802Z",
     "iopub.status.busy": "2021-04-13T23:06:00.239624Z",
     "iopub.status.idle": "2021-04-13T23:06:00.243153Z",
     "shell.execute_reply": "2021-04-13T23:06:00.242628Z",
     "shell.execute_reply.started": "2021-04-13T23:06:00.239782Z"
    },
    "tags": []
   },
   "outputs": [
    {
     "name": "stdout",
     "output_type": "stream",
     "text": [
      "140558790834768 140558790834768 140558790834768\n"
     ]
    }
   ],
   "source": [
    "print(id(array1), id(s.values), id(pd.Series(array1).values) )"
   ]
  },
  {
   "cell_type": "markdown",
   "id": "mechanical-iceland",
   "metadata": {
    "tags": []
   },
   "source": [
    "### Retour à la dataframe"
   ]
  },
  {
   "cell_type": "code",
   "execution_count": 181,
   "id": "overhead-sector",
   "metadata": {
    "execution": {
     "iopub.execute_input": "2021-04-13T23:10:51.049446Z",
     "iopub.status.busy": "2021-04-13T23:10:51.049284Z",
     "iopub.status.idle": "2021-04-13T23:10:51.054855Z",
     "shell.execute_reply": "2021-04-13T23:10:51.054421Z",
     "shell.execute_reply.started": "2021-04-13T23:10:51.049429Z"
    },
    "tags": []
   },
   "outputs": [
    {
     "data": {
      "text/html": [
       "<div>\n",
       "<style scoped>\n",
       "    .dataframe tbody tr th:only-of-type {\n",
       "        vertical-align: middle;\n",
       "    }\n",
       "\n",
       "    .dataframe tbody tr th {\n",
       "        vertical-align: top;\n",
       "    }\n",
       "\n",
       "    .dataframe thead th {\n",
       "        text-align: right;\n",
       "    }\n",
       "</style>\n",
       "<table border=\"1\" class=\"dataframe\">\n",
       "  <thead>\n",
       "    <tr style=\"text-align: right;\">\n",
       "      <th></th>\n",
       "      <th>nom</th>\n",
       "      <th>Espece</th>\n",
       "      <th>date_creation</th>\n",
       "    </tr>\n",
       "    <tr>\n",
       "      <th>nom</th>\n",
       "      <th></th>\n",
       "      <th></th>\n",
       "      <th></th>\n",
       "    </tr>\n",
       "  </thead>\n",
       "  <tbody>\n",
       "    <tr>\n",
       "      <th>Riri</th>\n",
       "      <td>Riri</td>\n",
       "      <td>Canard</td>\n",
       "      <td>1937</td>\n",
       "    </tr>\n",
       "    <tr>\n",
       "      <th>Dingo</th>\n",
       "      <td>Dingo</td>\n",
       "      <td>Chien</td>\n",
       "      <td>1932</td>\n",
       "    </tr>\n",
       "    <tr>\n",
       "      <th>Mickey</th>\n",
       "      <td>Mickey</td>\n",
       "      <td>Souris</td>\n",
       "      <td>1928</td>\n",
       "    </tr>\n",
       "  </tbody>\n",
       "</table>\n",
       "</div>"
      ],
      "text/plain": [
       "           nom  Espece  date_creation\n",
       "nom                                  \n",
       "Riri      Riri  Canard           1937\n",
       "Dingo    Dingo   Chien           1932\n",
       "Mickey  Mickey  Souris           1928"
      ]
     },
     "execution_count": 181,
     "metadata": {},
     "output_type": "execute_result"
    }
   ],
   "source": [
    "df"
   ]
  },
  {
   "cell_type": "code",
   "execution_count": 182,
   "id": "bigger-imaging",
   "metadata": {
    "execution": {
     "iopub.execute_input": "2021-04-13T23:10:52.001123Z",
     "iopub.status.busy": "2021-04-13T23:10:52.000953Z",
     "iopub.status.idle": "2021-04-13T23:10:52.004495Z",
     "shell.execute_reply": "2021-04-13T23:10:52.004069Z",
     "shell.execute_reply.started": "2021-04-13T23:10:52.001105Z"
    },
    "tags": []
   },
   "outputs": [
    {
     "data": {
      "text/plain": [
       "nom\n",
       "Riri        Riri\n",
       "Dingo      Dingo\n",
       "Mickey    Mickey\n",
       "Name: nom, dtype: object"
      ]
     },
     "execution_count": 182,
     "metadata": {},
     "output_type": "execute_result"
    }
   ],
   "source": [
    "df.nom"
   ]
  },
  {
   "cell_type": "code",
   "execution_count": 176,
   "id": "intimate-ownership",
   "metadata": {
    "execution": {
     "iopub.execute_input": "2021-04-13T23:07:20.689973Z",
     "iopub.status.busy": "2021-04-13T23:07:20.689808Z",
     "iopub.status.idle": "2021-04-13T23:07:20.692763Z",
     "shell.execute_reply": "2021-04-13T23:07:20.692388Z",
     "shell.execute_reply.started": "2021-04-13T23:07:20.689955Z"
    }
   },
   "outputs": [
    {
     "data": {
      "text/plain": [
       "pandas.core.series.Series"
      ]
     },
     "execution_count": 176,
     "metadata": {},
     "output_type": "execute_result"
    }
   ],
   "source": [
    "type(df.nom)"
   ]
  },
  {
   "cell_type": "markdown",
   "id": "difficult-seeker",
   "metadata": {},
   "source": [
    "Une colonne, est une serie qui a pour nom le nom de la colonne, et qui a le même index que la dataframe."
   ]
  },
  {
   "cell_type": "code",
   "execution_count": 183,
   "id": "deluxe-garlic",
   "metadata": {
    "execution": {
     "iopub.execute_input": "2021-04-13T23:12:07.264092Z",
     "iopub.status.busy": "2021-04-13T23:12:07.263925Z",
     "iopub.status.idle": "2021-04-13T23:12:07.267128Z",
     "shell.execute_reply": "2021-04-13T23:12:07.266765Z",
     "shell.execute_reply.started": "2021-04-13T23:12:07.264073Z"
    },
    "tags": []
   },
   "outputs": [
    {
     "data": {
      "text/plain": [
       "numpy.ndarray"
      ]
     },
     "execution_count": 183,
     "metadata": {},
     "output_type": "execute_result"
    }
   ],
   "source": [
    "type(df.nom.values)"
   ]
  },
  {
   "cell_type": "code",
   "execution_count": 184,
   "id": "architectural-riding",
   "metadata": {
    "execution": {
     "iopub.execute_input": "2021-04-13T23:12:08.343793Z",
     "iopub.status.busy": "2021-04-13T23:12:08.343629Z",
     "iopub.status.idle": "2021-04-13T23:12:08.349234Z",
     "shell.execute_reply": "2021-04-13T23:12:08.348869Z",
     "shell.execute_reply.started": "2021-04-13T23:12:08.343775Z"
    },
    "tags": []
   },
   "outputs": [
    {
     "data": {
      "text/plain": [
       "numpy.ndarray"
      ]
     },
     "execution_count": 184,
     "metadata": {},
     "output_type": "execute_result"
    }
   ],
   "source": [
    "type(df.values)"
   ]
  },
  {
   "cell_type": "markdown",
   "id": "funded-completion",
   "metadata": {},
   "source": [
    "#### Conclusion"
   ]
  },
  {
   "cell_type": "markdown",
   "id": "grand-needle",
   "metadata": {},
   "source": [
    "Pandas permet de manipuler des données via l'objet dataframe qui est composé de colonnes qui sont en fait des séries, qui sont composés d'array numpy."
   ]
  },
  {
   "cell_type": "markdown",
   "id": "thirty-simpson",
   "metadata": {},
   "source": [
    "Subtilité: une dataframe d'une seule colone est différent d'une série (Car possède deux index: le vertical `index`, et l'horizontal `columns`)"
   ]
  }
 ],
 "metadata": {
  "kernelspec": {
   "display_name": "Python 3 (ipykernel)",
   "language": "python",
   "name": "python3"
  },
  "language_info": {
   "codemirror_mode": {
    "name": "ipython",
    "version": 3
   },
   "file_extension": ".py",
   "mimetype": "text/x-python",
   "name": "python",
   "nbconvert_exporter": "python",
   "pygments_lexer": "ipython3",
   "version": "3.7.12"
  }
 },
 "nbformat": 4,
 "nbformat_minor": 5
}
