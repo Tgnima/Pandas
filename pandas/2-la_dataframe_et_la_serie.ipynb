{
 "cells": [
  {
   "cell_type": "markdown",
   "id": "pressing-findings",
   "metadata": {},
   "source": [
    "### Pandas: La `DataFrame`,la `Series`, l'array, la Series, la DataFrame"
   ]
  },
  {
   "cell_type": "code",
   "execution_count": 1,
   "id": "atmospheric-springfield",
   "metadata": {
    "execution": {
     "iopub.execute_input": "2022-04-15T07:15:20.285991Z",
     "iopub.status.busy": "2022-04-15T07:15:20.285802Z",
     "iopub.status.idle": "2022-04-15T07:15:20.480649Z",
     "shell.execute_reply": "2022-04-15T07:15:20.478560Z",
     "shell.execute_reply.started": "2022-04-15T07:15:20.285974Z"
    },
    "tags": []
   },
   "outputs": [],
   "source": [
    "import pandas as pd"
   ]
  },
  {
   "cell_type": "markdown",
   "id": "previous-warehouse",
   "metadata": {
    "execution": {
     "iopub.execute_input": "2021-04-13T21:09:12.393624Z",
     "iopub.status.busy": "2021-04-13T21:09:12.393453Z",
     "iopub.status.idle": "2021-04-13T21:09:12.395792Z",
     "shell.execute_reply": "2021-04-13T21:09:12.395370Z",
     "shell.execute_reply.started": "2021-04-13T21:09:12.393605Z"
    }
   },
   "source": [
    "### La `DataFrame`"
   ]
  },
  {
   "cell_type": "markdown",
   "id": "covered-guidance",
   "metadata": {},
   "source": [
    "### Une `DataFrame` vide"
   ]
  },
  {
   "cell_type": "code",
   "execution_count": 2,
   "id": "compound-retro",
   "metadata": {
    "execution": {
     "iopub.execute_input": "2022-04-15T07:15:34.285100Z",
     "iopub.status.busy": "2022-04-15T07:15:34.284577Z",
     "iopub.status.idle": "2022-04-15T07:15:34.290417Z",
     "shell.execute_reply": "2022-04-15T07:15:34.289894Z",
     "shell.execute_reply.started": "2022-04-15T07:15:34.285066Z"
    },
    "tags": []
   },
   "outputs": [
    {
     "data": {
      "text/html": [
       "<div>\n",
       "<style scoped>\n",
       "    .dataframe tbody tr th:only-of-type {\n",
       "        vertical-align: middle;\n",
       "    }\n",
       "\n",
       "    .dataframe tbody tr th {\n",
       "        vertical-align: top;\n",
       "    }\n",
       "\n",
       "    .dataframe thead th {\n",
       "        text-align: right;\n",
       "    }\n",
       "</style>\n",
       "<table border=\"1\" class=\"dataframe\">\n",
       "  <thead>\n",
       "    <tr style=\"text-align: right;\">\n",
       "      <th></th>\n",
       "    </tr>\n",
       "  </thead>\n",
       "  <tbody>\n",
       "  </tbody>\n",
       "</table>\n",
       "</div>"
      ],
      "text/plain": [
       "Empty DataFrame\n",
       "Columns: []\n",
       "Index: []"
      ]
     },
     "execution_count": 2,
     "metadata": {},
     "output_type": "execute_result"
    }
   ],
   "source": [
    "pd.DataFrame()"
   ]
  },
  {
   "cell_type": "code",
   "execution_count": 3,
   "id": "binary-kruger",
   "metadata": {
    "execution": {
     "iopub.execute_input": "2022-04-15T07:15:38.620714Z",
     "iopub.status.busy": "2022-04-15T07:15:38.620176Z",
     "iopub.status.idle": "2022-04-15T07:15:38.624496Z",
     "shell.execute_reply": "2022-04-15T07:15:38.624088Z",
     "shell.execute_reply.started": "2022-04-15T07:15:38.620695Z"
    },
    "tags": []
   },
   "outputs": [
    {
     "data": {
      "text/plain": [
       "pandas.core.frame.DataFrame"
      ]
     },
     "execution_count": 3,
     "metadata": {},
     "output_type": "execute_result"
    }
   ],
   "source": [
    "type(pd.DataFrame())"
   ]
  },
  {
   "cell_type": "markdown",
   "id": "cutting-shopper",
   "metadata": {},
   "source": [
    "### Création d'une `DataFrame` non vide"
   ]
  },
  {
   "cell_type": "code",
   "execution_count": 4,
   "id": "signed-charles",
   "metadata": {
    "execution": {
     "iopub.execute_input": "2022-04-15T07:18:36.348842Z",
     "iopub.status.busy": "2022-04-15T07:18:36.348698Z",
     "iopub.status.idle": "2022-04-15T07:18:36.354365Z",
     "shell.execute_reply": "2022-04-15T07:18:36.353857Z",
     "shell.execute_reply.started": "2022-04-15T07:18:36.348826Z"
    },
    "tags": []
   },
   "outputs": [
    {
     "data": {
      "text/html": [
       "<div>\n",
       "<style scoped>\n",
       "    .dataframe tbody tr th:only-of-type {\n",
       "        vertical-align: middle;\n",
       "    }\n",
       "\n",
       "    .dataframe tbody tr th {\n",
       "        vertical-align: top;\n",
       "    }\n",
       "\n",
       "    .dataframe thead th {\n",
       "        text-align: right;\n",
       "    }\n",
       "</style>\n",
       "<table border=\"1\" class=\"dataframe\">\n",
       "  <thead>\n",
       "    <tr style=\"text-align: right;\">\n",
       "      <th></th>\n",
       "      <th>0</th>\n",
       "    </tr>\n",
       "  </thead>\n",
       "  <tbody>\n",
       "    <tr>\n",
       "      <th>0</th>\n",
       "      <td>Riri</td>\n",
       "    </tr>\n",
       "    <tr>\n",
       "      <th>1</th>\n",
       "      <td>Dingo</td>\n",
       "    </tr>\n",
       "    <tr>\n",
       "      <th>2</th>\n",
       "      <td>Mickey</td>\n",
       "    </tr>\n",
       "  </tbody>\n",
       "</table>\n",
       "</div>"
      ],
      "text/plain": [
       "        0\n",
       "0    Riri\n",
       "1   Dingo\n",
       "2  Mickey"
      ]
     },
     "execution_count": 4,
     "metadata": {},
     "output_type": "execute_result"
    }
   ],
   "source": [
    "pd.DataFrame(\n",
    "    [\"Riri\",\"Dingo\", \"Mickey\"],      )"
   ]
  },
  {
   "cell_type": "code",
   "execution_count": 5,
   "id": "quick-light",
   "metadata": {
    "execution": {
     "iopub.execute_input": "2022-04-15T07:19:16.812438Z",
     "iopub.status.busy": "2022-04-15T07:19:16.811879Z",
     "iopub.status.idle": "2022-04-15T07:19:16.818513Z",
     "shell.execute_reply": "2022-04-15T07:19:16.818181Z",
     "shell.execute_reply.started": "2022-04-15T07:19:16.812418Z"
    },
    "tags": []
   },
   "outputs": [
    {
     "data": {
      "text/html": [
       "<div>\n",
       "<style scoped>\n",
       "    .dataframe tbody tr th:only-of-type {\n",
       "        vertical-align: middle;\n",
       "    }\n",
       "\n",
       "    .dataframe tbody tr th {\n",
       "        vertical-align: top;\n",
       "    }\n",
       "\n",
       "    .dataframe thead th {\n",
       "        text-align: right;\n",
       "    }\n",
       "</style>\n",
       "<table border=\"1\" class=\"dataframe\">\n",
       "  <thead>\n",
       "    <tr style=\"text-align: right;\">\n",
       "      <th></th>\n",
       "      <th>0</th>\n",
       "      <th>1</th>\n",
       "      <th>2</th>\n",
       "    </tr>\n",
       "  </thead>\n",
       "  <tbody>\n",
       "    <tr>\n",
       "      <th>0</th>\n",
       "      <td>Riri</td>\n",
       "      <td>Canard</td>\n",
       "      <td>1937</td>\n",
       "    </tr>\n",
       "    <tr>\n",
       "      <th>1</th>\n",
       "      <td>Dingo</td>\n",
       "      <td>Chien</td>\n",
       "      <td>1932</td>\n",
       "    </tr>\n",
       "    <tr>\n",
       "      <th>2</th>\n",
       "      <td>Mickey</td>\n",
       "      <td>Souris</td>\n",
       "      <td>1928</td>\n",
       "    </tr>\n",
       "  </tbody>\n",
       "</table>\n",
       "</div>"
      ],
      "text/plain": [
       "        0       1     2\n",
       "0    Riri  Canard  1937\n",
       "1   Dingo   Chien  1932\n",
       "2  Mickey  Souris  1928"
      ]
     },
     "execution_count": 5,
     "metadata": {},
     "output_type": "execute_result"
    }
   ],
   "source": [
    "pd.DataFrame(\n",
    "    [[\"Riri\",\"Canard\", 1937],   \n",
    "     [\"Dingo\", \"Chien\", 1932],#### Ceci est liste de listes\n",
    "    [\"Mickey\",  \"Souris\", 1928],\n",
    "   ])"
   ]
  },
  {
   "cell_type": "markdown",
   "id": "underlying-mouse",
   "metadata": {},
   "source": [
    "Mais c'est mieux si on a les colonnes"
   ]
  },
  {
   "cell_type": "code",
   "execution_count": 6,
   "id": "compliant-australian",
   "metadata": {
    "execution": {
     "iopub.execute_input": "2022-04-15T07:19:40.385796Z",
     "iopub.status.busy": "2022-04-15T07:19:40.385288Z",
     "iopub.status.idle": "2022-04-15T07:19:40.392290Z",
     "shell.execute_reply": "2022-04-15T07:19:40.391760Z",
     "shell.execute_reply.started": "2022-04-15T07:19:40.385778Z"
    },
    "tags": []
   },
   "outputs": [
    {
     "data": {
      "text/html": [
       "<div>\n",
       "<style scoped>\n",
       "    .dataframe tbody tr th:only-of-type {\n",
       "        vertical-align: middle;\n",
       "    }\n",
       "\n",
       "    .dataframe tbody tr th {\n",
       "        vertical-align: top;\n",
       "    }\n",
       "\n",
       "    .dataframe thead th {\n",
       "        text-align: right;\n",
       "    }\n",
       "</style>\n",
       "<table border=\"1\" class=\"dataframe\">\n",
       "  <thead>\n",
       "    <tr style=\"text-align: right;\">\n",
       "      <th></th>\n",
       "      <th>nom</th>\n",
       "      <th>Espece</th>\n",
       "      <th>date_creation</th>\n",
       "    </tr>\n",
       "  </thead>\n",
       "  <tbody>\n",
       "    <tr>\n",
       "      <th>0</th>\n",
       "      <td>Riri</td>\n",
       "      <td>Canard</td>\n",
       "      <td>1937</td>\n",
       "    </tr>\n",
       "    <tr>\n",
       "      <th>1</th>\n",
       "      <td>Dingo</td>\n",
       "      <td>Chien</td>\n",
       "      <td>1932</td>\n",
       "    </tr>\n",
       "    <tr>\n",
       "      <th>2</th>\n",
       "      <td>Mickey</td>\n",
       "      <td>Souris</td>\n",
       "      <td>1928</td>\n",
       "    </tr>\n",
       "  </tbody>\n",
       "</table>\n",
       "</div>"
      ],
      "text/plain": [
       "      nom  Espece  date_creation\n",
       "0    Riri  Canard           1937\n",
       "1   Dingo   Chien           1932\n",
       "2  Mickey  Souris           1928"
      ]
     },
     "execution_count": 6,
     "metadata": {},
     "output_type": "execute_result"
    }
   ],
   "source": [
    "pd.DataFrame(\n",
    "    [[\"Riri\",\"Canard\", 1937],   \n",
    "     [\"Dingo\", \"Chien\", 1932],#### Ceci est un dictionnaire de dictionnaire\n",
    "    [\"Mickey\",  \"Souris\", 1928],\n",
    "   ], columns=[\"nom\", \"Espece\", \"date_creation\"])"
   ]
  },
  {
   "cell_type": "markdown",
   "id": "bf0b0028-fa7c-4e12-b084-79a194f34136",
   "metadata": {
    "execution": {
     "iopub.execute_input": "2021-04-13T21:28:55.530444Z",
     "iopub.status.busy": "2021-04-13T21:28:55.530278Z",
     "iopub.status.idle": "2021-04-13T21:28:55.536792Z",
     "shell.execute_reply": "2021-04-13T21:28:55.536308Z",
     "shell.execute_reply.started": "2021-04-13T21:28:55.530426Z"
    },
    "tags": []
   },
   "source": [
    "Exercice:\n",
    "    Créez la même `dataframe` en utilisant cette fois ci un dictionnaire."
   ]
  },
  {
   "cell_type": "markdown",
   "id": "652062dc-a726-4c69-bce1-eb1b65ef426b",
   "metadata": {
    "execution": {
     "iopub.execute_input": "2022-04-15T07:27:06.917090Z",
     "iopub.status.busy": "2022-04-15T07:27:06.916879Z",
     "iopub.status.idle": "2022-04-15T07:27:06.919296Z",
     "shell.execute_reply": "2022-04-15T07:27:06.918912Z",
     "shell.execute_reply.started": "2022-04-15T07:27:06.917060Z"
    }
   },
   "source": [
    " Solution ?"
   ]
  },
  {
   "cell_type": "markdown",
   "id": "9c8a5dbd-f0e1-4471-81b9-6793843362be",
   "metadata": {},
   "source": [
    "Peut être utile pour poser une bonne question.\n",
    "Comment poser une bonne question sur pandas, voir [Stackover](https://stackoverflow.com/questions/20109391/how-to-make-good-reproducible-pandas-examples)"
   ]
  },
  {
   "cell_type": "markdown",
   "id": "bearing-photography",
   "metadata": {},
   "source": [
    "On peut garder une datframe en l'assignant à une variable"
   ]
  },
  {
   "cell_type": "code",
   "execution_count": 5,
   "id": "aggregate-label",
   "metadata": {
    "execution": {
     "iopub.execute_input": "2022-04-15T08:27:10.032537Z",
     "iopub.status.busy": "2022-04-15T08:27:10.032363Z",
     "iopub.status.idle": "2022-04-15T08:27:10.036579Z",
     "shell.execute_reply": "2022-04-15T08:27:10.036136Z",
     "shell.execute_reply.started": "2022-04-15T08:27:10.032506Z"
    },
    "tags": []
   },
   "outputs": [],
   "source": [
    "df = pd.DataFrame(\n",
    "    [[\"Riri\",\"Canard\", 1937],   \n",
    "     [\"Dingo\", \"Chien\", 1932],\n",
    "    [\"Mickey\",  \"Souris\", 1928],\n",
    "     [\"Pluto\",  \"Chien\", 1930],\n",
    "   ], columns=[\"nom\", \"Espece\", \"date_creation\"])"
   ]
  },
  {
   "cell_type": "code",
   "execution_count": 6,
   "id": "ethical-solomon",
   "metadata": {
    "execution": {
     "iopub.execute_input": "2022-04-15T08:27:15.252715Z",
     "iopub.status.busy": "2022-04-15T08:27:15.252532Z",
     "iopub.status.idle": "2022-04-15T08:27:15.259534Z",
     "shell.execute_reply": "2022-04-15T08:27:15.259035Z",
     "shell.execute_reply.started": "2022-04-15T08:27:15.252685Z"
    },
    "tags": []
   },
   "outputs": [
    {
     "data": {
      "text/html": [
       "<div>\n",
       "<style scoped>\n",
       "    .dataframe tbody tr th:only-of-type {\n",
       "        vertical-align: middle;\n",
       "    }\n",
       "\n",
       "    .dataframe tbody tr th {\n",
       "        vertical-align: top;\n",
       "    }\n",
       "\n",
       "    .dataframe thead th {\n",
       "        text-align: right;\n",
       "    }\n",
       "</style>\n",
       "<table border=\"1\" class=\"dataframe\">\n",
       "  <thead>\n",
       "    <tr style=\"text-align: right;\">\n",
       "      <th></th>\n",
       "      <th>nom</th>\n",
       "      <th>Espece</th>\n",
       "      <th>date_creation</th>\n",
       "    </tr>\n",
       "  </thead>\n",
       "  <tbody>\n",
       "    <tr>\n",
       "      <th>0</th>\n",
       "      <td>Riri</td>\n",
       "      <td>Canard</td>\n",
       "      <td>1937</td>\n",
       "    </tr>\n",
       "    <tr>\n",
       "      <th>1</th>\n",
       "      <td>Dingo</td>\n",
       "      <td>Chien</td>\n",
       "      <td>1932</td>\n",
       "    </tr>\n",
       "    <tr>\n",
       "      <th>2</th>\n",
       "      <td>Mickey</td>\n",
       "      <td>Souris</td>\n",
       "      <td>1928</td>\n",
       "    </tr>\n",
       "    <tr>\n",
       "      <th>3</th>\n",
       "      <td>Pluto</td>\n",
       "      <td>Chien</td>\n",
       "      <td>1930</td>\n",
       "    </tr>\n",
       "  </tbody>\n",
       "</table>\n",
       "</div>"
      ],
      "text/plain": [
       "      nom  Espece  date_creation\n",
       "0    Riri  Canard           1937\n",
       "1   Dingo   Chien           1932\n",
       "2  Mickey  Souris           1928\n",
       "3   Pluto   Chien           1930"
      ]
     },
     "execution_count": 6,
     "metadata": {},
     "output_type": "execute_result"
    }
   ],
   "source": [
    "df"
   ]
  },
  {
   "cell_type": "markdown",
   "id": "eligible-greeting",
   "metadata": {},
   "source": [
    "Une DataFrame c'est un ensemble de lignes et de colonnes (que l'on souhaite généralement au format [tidy data](https://en.wikipedia.org/wiki/Tidy_data) pour le ML).\n",
    "\n",
    "df est ici une instance de la classe `DataFrame`. C'est un objet bien que simple, contient de nombreux attribus."
   ]
  },
  {
   "cell_type": "markdown",
   "id": "parliamentary-biodiversity",
   "metadata": {},
   "source": [
    "#### L'index"
   ]
  },
  {
   "cell_type": "markdown",
   "id": "talented-merchant",
   "metadata": {},
   "source": [
    "L'index d'une dataframe peut être vu comme une colonne pas comme les autres (tout à gauche), et toute dataframe en possède un."
   ]
  },
  {
   "cell_type": "code",
   "execution_count": 7,
   "id": "relative-diamond",
   "metadata": {
    "execution": {
     "iopub.execute_input": "2022-04-15T08:27:16.232571Z",
     "iopub.status.busy": "2022-04-15T08:27:16.232386Z",
     "iopub.status.idle": "2022-04-15T08:27:16.235870Z",
     "shell.execute_reply": "2022-04-15T08:27:16.235298Z",
     "shell.execute_reply.started": "2022-04-15T08:27:16.232538Z"
    },
    "tags": []
   },
   "outputs": [
    {
     "data": {
      "text/plain": [
       "RangeIndex(start=0, stop=4, step=1)"
      ]
     },
     "execution_count": 7,
     "metadata": {},
     "output_type": "execute_result"
    }
   ],
   "source": [
    "df.index"
   ]
  },
  {
   "cell_type": "code",
   "execution_count": 8,
   "id": "greater-cocktail",
   "metadata": {
    "execution": {
     "iopub.execute_input": "2022-04-15T08:27:16.394005Z",
     "iopub.status.busy": "2022-04-15T08:27:16.393378Z",
     "iopub.status.idle": "2022-04-15T08:27:16.397526Z",
     "shell.execute_reply": "2022-04-15T08:27:16.396974Z",
     "shell.execute_reply.started": "2022-04-15T08:27:16.393985Z"
    },
    "tags": []
   },
   "outputs": [
    {
     "data": {
      "text/plain": [
       "[0, 1, 2, 3]"
      ]
     },
     "execution_count": 8,
     "metadata": {},
     "output_type": "execute_result"
    }
   ],
   "source": [
    "list(df.index)"
   ]
  },
  {
   "cell_type": "code",
   "execution_count": 9,
   "id": "intensive-antenna",
   "metadata": {
    "execution": {
     "iopub.execute_input": "2022-04-15T08:27:16.591878Z",
     "iopub.status.busy": "2022-04-15T08:27:16.591637Z",
     "iopub.status.idle": "2022-04-15T08:27:16.595423Z",
     "shell.execute_reply": "2022-04-15T08:27:16.595054Z",
     "shell.execute_reply.started": "2022-04-15T08:27:16.591829Z"
    },
    "tags": []
   },
   "outputs": [
    {
     "data": {
      "text/plain": [
       "pandas.core.indexes.range.RangeIndex"
      ]
     },
     "execution_count": 9,
     "metadata": {},
     "output_type": "execute_result"
    }
   ],
   "source": [
    "type(df.index)"
   ]
  },
  {
   "cell_type": "markdown",
   "id": "excess-problem",
   "metadata": {},
   "source": [
    "Un index à un nom, qui est None par défaut"
   ]
  },
  {
   "cell_type": "code",
   "execution_count": 10,
   "id": "meaning-reporter",
   "metadata": {
    "execution": {
     "iopub.execute_input": "2022-04-15T08:27:17.008945Z",
     "iopub.status.busy": "2022-04-15T08:27:17.008804Z",
     "iopub.status.idle": "2022-04-15T08:27:17.012423Z",
     "shell.execute_reply": "2022-04-15T08:27:17.012057Z",
     "shell.execute_reply.started": "2022-04-15T08:27:17.008929Z"
    },
    "tags": []
   },
   "outputs": [
    {
     "data": {
      "text/plain": [
       "True"
      ]
     },
     "execution_count": 10,
     "metadata": {},
     "output_type": "execute_result"
    }
   ],
   "source": [
    "df.index.name is None"
   ]
  },
  {
   "cell_type": "code",
   "execution_count": 11,
   "id": "ed029cf0-94ae-42a9-b3d1-6fc8722f709a",
   "metadata": {
    "execution": {
     "iopub.execute_input": "2022-04-15T08:27:17.425000Z",
     "iopub.status.busy": "2022-04-15T08:27:17.424811Z",
     "iopub.status.idle": "2022-04-15T08:27:17.430629Z",
     "shell.execute_reply": "2022-04-15T08:27:17.430255Z",
     "shell.execute_reply.started": "2022-04-15T08:27:17.424969Z"
    },
    "tags": []
   },
   "outputs": [
    {
     "data": {
      "text/html": [
       "<div>\n",
       "<style scoped>\n",
       "    .dataframe tbody tr th:only-of-type {\n",
       "        vertical-align: middle;\n",
       "    }\n",
       "\n",
       "    .dataframe tbody tr th {\n",
       "        vertical-align: top;\n",
       "    }\n",
       "\n",
       "    .dataframe thead th {\n",
       "        text-align: right;\n",
       "    }\n",
       "</style>\n",
       "<table border=\"1\" class=\"dataframe\">\n",
       "  <thead>\n",
       "    <tr style=\"text-align: right;\">\n",
       "      <th></th>\n",
       "      <th>nom</th>\n",
       "      <th>Espece</th>\n",
       "      <th>date_creation</th>\n",
       "    </tr>\n",
       "  </thead>\n",
       "  <tbody>\n",
       "    <tr>\n",
       "      <th>0</th>\n",
       "      <td>Riri</td>\n",
       "      <td>Canard</td>\n",
       "      <td>1937</td>\n",
       "    </tr>\n",
       "    <tr>\n",
       "      <th>1</th>\n",
       "      <td>Dingo</td>\n",
       "      <td>Chien</td>\n",
       "      <td>1932</td>\n",
       "    </tr>\n",
       "    <tr>\n",
       "      <th>2</th>\n",
       "      <td>Mickey</td>\n",
       "      <td>Souris</td>\n",
       "      <td>1928</td>\n",
       "    </tr>\n",
       "    <tr>\n",
       "      <th>3</th>\n",
       "      <td>Pluto</td>\n",
       "      <td>Chien</td>\n",
       "      <td>1930</td>\n",
       "    </tr>\n",
       "  </tbody>\n",
       "</table>\n",
       "</div>"
      ],
      "text/plain": [
       "      nom  Espece  date_creation\n",
       "0    Riri  Canard           1937\n",
       "1   Dingo   Chien           1932\n",
       "2  Mickey  Souris           1928\n",
       "3   Pluto   Chien           1930"
      ]
     },
     "execution_count": 11,
     "metadata": {},
     "output_type": "execute_result"
    }
   ],
   "source": [
    "df"
   ]
  },
  {
   "cell_type": "code",
   "execution_count": 12,
   "id": "27c7c908-c8ed-4279-adf4-e4238950d45e",
   "metadata": {
    "execution": {
     "iopub.execute_input": "2022-04-15T08:27:17.882826Z",
     "iopub.status.busy": "2022-04-15T08:27:17.882647Z",
     "iopub.status.idle": "2022-04-15T08:27:17.885873Z",
     "shell.execute_reply": "2022-04-15T08:27:17.885439Z",
     "shell.execute_reply.started": "2022-04-15T08:27:17.882796Z"
    },
    "tags": []
   },
   "outputs": [],
   "source": [
    "df = df.rename_axis(\"id_disney_character\")"
   ]
  },
  {
   "cell_type": "code",
   "execution_count": 13,
   "id": "foster-spoke",
   "metadata": {
    "execution": {
     "iopub.execute_input": "2022-04-15T08:27:18.281281Z",
     "iopub.status.busy": "2022-04-15T08:27:18.281121Z",
     "iopub.status.idle": "2022-04-15T08:27:18.287167Z",
     "shell.execute_reply": "2022-04-15T08:27:18.286663Z",
     "shell.execute_reply.started": "2022-04-15T08:27:18.281264Z"
    },
    "tags": []
   },
   "outputs": [
    {
     "data": {
      "text/html": [
       "<div>\n",
       "<style scoped>\n",
       "    .dataframe tbody tr th:only-of-type {\n",
       "        vertical-align: middle;\n",
       "    }\n",
       "\n",
       "    .dataframe tbody tr th {\n",
       "        vertical-align: top;\n",
       "    }\n",
       "\n",
       "    .dataframe thead th {\n",
       "        text-align: right;\n",
       "    }\n",
       "</style>\n",
       "<table border=\"1\" class=\"dataframe\">\n",
       "  <thead>\n",
       "    <tr style=\"text-align: right;\">\n",
       "      <th></th>\n",
       "      <th>nom</th>\n",
       "      <th>Espece</th>\n",
       "      <th>date_creation</th>\n",
       "    </tr>\n",
       "    <tr>\n",
       "      <th>id_disney_character</th>\n",
       "      <th></th>\n",
       "      <th></th>\n",
       "      <th></th>\n",
       "    </tr>\n",
       "  </thead>\n",
       "  <tbody>\n",
       "    <tr>\n",
       "      <th>0</th>\n",
       "      <td>Riri</td>\n",
       "      <td>Canard</td>\n",
       "      <td>1937</td>\n",
       "    </tr>\n",
       "    <tr>\n",
       "      <th>1</th>\n",
       "      <td>Dingo</td>\n",
       "      <td>Chien</td>\n",
       "      <td>1932</td>\n",
       "    </tr>\n",
       "    <tr>\n",
       "      <th>2</th>\n",
       "      <td>Mickey</td>\n",
       "      <td>Souris</td>\n",
       "      <td>1928</td>\n",
       "    </tr>\n",
       "    <tr>\n",
       "      <th>3</th>\n",
       "      <td>Pluto</td>\n",
       "      <td>Chien</td>\n",
       "      <td>1930</td>\n",
       "    </tr>\n",
       "  </tbody>\n",
       "</table>\n",
       "</div>"
      ],
      "text/plain": [
       "                        nom  Espece  date_creation\n",
       "id_disney_character                               \n",
       "0                      Riri  Canard           1937\n",
       "1                     Dingo   Chien           1932\n",
       "2                    Mickey  Souris           1928\n",
       "3                     Pluto   Chien           1930"
      ]
     },
     "execution_count": 13,
     "metadata": {},
     "output_type": "execute_result"
    }
   ],
   "source": [
    "df.rename_axis(\"id_disney_character\", inplace=True) #ce n'est pas bien d'utiliser inplace\n",
    "df"
   ]
  },
  {
   "cell_type": "markdown",
   "id": "suffering-testimony",
   "metadata": {
    "execution": {
     "iopub.execute_input": "2021-04-13T21:53:34.046983Z",
     "iopub.status.busy": "2021-04-13T21:53:34.046733Z",
     "iopub.status.idle": "2021-04-13T21:53:34.050894Z",
     "shell.execute_reply": "2021-04-13T21:53:34.050353Z",
     "shell.execute_reply.started": "2021-04-13T21:53:34.046954Z"
    },
    "tags": []
   },
   "source": [
    "Et on peut assigner n'importe quelle colonne à l'index"
   ]
  },
  {
   "cell_type": "code",
   "execution_count": 14,
   "id": "going-elephant",
   "metadata": {
    "execution": {
     "iopub.execute_input": "2022-04-15T08:27:22.007237Z",
     "iopub.status.busy": "2022-04-15T08:27:22.007054Z",
     "iopub.status.idle": "2022-04-15T08:27:22.013679Z",
     "shell.execute_reply": "2022-04-15T08:27:22.013199Z",
     "shell.execute_reply.started": "2022-04-15T08:27:22.007206Z"
    },
    "tags": []
   },
   "outputs": [
    {
     "data": {
      "text/html": [
       "<div>\n",
       "<style scoped>\n",
       "    .dataframe tbody tr th:only-of-type {\n",
       "        vertical-align: middle;\n",
       "    }\n",
       "\n",
       "    .dataframe tbody tr th {\n",
       "        vertical-align: top;\n",
       "    }\n",
       "\n",
       "    .dataframe thead th {\n",
       "        text-align: right;\n",
       "    }\n",
       "</style>\n",
       "<table border=\"1\" class=\"dataframe\">\n",
       "  <thead>\n",
       "    <tr style=\"text-align: right;\">\n",
       "      <th></th>\n",
       "      <th>Espece</th>\n",
       "      <th>date_creation</th>\n",
       "    </tr>\n",
       "    <tr>\n",
       "      <th>nom</th>\n",
       "      <th></th>\n",
       "      <th></th>\n",
       "    </tr>\n",
       "  </thead>\n",
       "  <tbody>\n",
       "    <tr>\n",
       "      <th>Riri</th>\n",
       "      <td>Canard</td>\n",
       "      <td>1937</td>\n",
       "    </tr>\n",
       "    <tr>\n",
       "      <th>Dingo</th>\n",
       "      <td>Chien</td>\n",
       "      <td>1932</td>\n",
       "    </tr>\n",
       "    <tr>\n",
       "      <th>Mickey</th>\n",
       "      <td>Souris</td>\n",
       "      <td>1928</td>\n",
       "    </tr>\n",
       "    <tr>\n",
       "      <th>Pluto</th>\n",
       "      <td>Chien</td>\n",
       "      <td>1930</td>\n",
       "    </tr>\n",
       "  </tbody>\n",
       "</table>\n",
       "</div>"
      ],
      "text/plain": [
       "        Espece  date_creation\n",
       "nom                          \n",
       "Riri    Canard           1937\n",
       "Dingo    Chien           1932\n",
       "Mickey  Souris           1928\n",
       "Pluto    Chien           1930"
      ]
     },
     "execution_count": 14,
     "metadata": {},
     "output_type": "execute_result"
    }
   ],
   "source": [
    "df.set_index(\"nom\")"
   ]
  },
  {
   "cell_type": "code",
   "execution_count": 15,
   "id": "exterior-wallace",
   "metadata": {
    "execution": {
     "iopub.execute_input": "2022-04-15T08:27:22.455464Z",
     "iopub.status.busy": "2022-04-15T08:27:22.455279Z",
     "iopub.status.idle": "2022-04-15T08:27:22.461896Z",
     "shell.execute_reply": "2022-04-15T08:27:22.461317Z",
     "shell.execute_reply.started": "2022-04-15T08:27:22.455432Z"
    },
    "tags": []
   },
   "outputs": [
    {
     "data": {
      "text/html": [
       "<div>\n",
       "<style scoped>\n",
       "    .dataframe tbody tr th:only-of-type {\n",
       "        vertical-align: middle;\n",
       "    }\n",
       "\n",
       "    .dataframe tbody tr th {\n",
       "        vertical-align: top;\n",
       "    }\n",
       "\n",
       "    .dataframe thead th {\n",
       "        text-align: right;\n",
       "    }\n",
       "</style>\n",
       "<table border=\"1\" class=\"dataframe\">\n",
       "  <thead>\n",
       "    <tr style=\"text-align: right;\">\n",
       "      <th></th>\n",
       "      <th>nom</th>\n",
       "      <th>Espece</th>\n",
       "      <th>date_creation</th>\n",
       "    </tr>\n",
       "    <tr>\n",
       "      <th>id_disney_character</th>\n",
       "      <th></th>\n",
       "      <th></th>\n",
       "      <th></th>\n",
       "    </tr>\n",
       "  </thead>\n",
       "  <tbody>\n",
       "    <tr>\n",
       "      <th>0</th>\n",
       "      <td>Riri</td>\n",
       "      <td>Canard</td>\n",
       "      <td>1937</td>\n",
       "    </tr>\n",
       "    <tr>\n",
       "      <th>1</th>\n",
       "      <td>Dingo</td>\n",
       "      <td>Chien</td>\n",
       "      <td>1932</td>\n",
       "    </tr>\n",
       "    <tr>\n",
       "      <th>2</th>\n",
       "      <td>Mickey</td>\n",
       "      <td>Souris</td>\n",
       "      <td>1928</td>\n",
       "    </tr>\n",
       "    <tr>\n",
       "      <th>3</th>\n",
       "      <td>Pluto</td>\n",
       "      <td>Chien</td>\n",
       "      <td>1930</td>\n",
       "    </tr>\n",
       "  </tbody>\n",
       "</table>\n",
       "</div>"
      ],
      "text/plain": [
       "                        nom  Espece  date_creation\n",
       "id_disney_character                               \n",
       "0                      Riri  Canard           1937\n",
       "1                     Dingo   Chien           1932\n",
       "2                    Mickey  Souris           1928\n",
       "3                     Pluto   Chien           1930"
      ]
     },
     "execution_count": 15,
     "metadata": {},
     "output_type": "execute_result"
    }
   ],
   "source": [
    "df"
   ]
  },
  {
   "cell_type": "markdown",
   "id": "relevant-orbit",
   "metadata": {
    "execution": {
     "iopub.execute_input": "2021-04-13T21:55:03.094717Z",
     "iopub.status.busy": "2021-04-13T21:55:03.094538Z",
     "iopub.status.idle": "2021-04-13T21:55:03.097482Z",
     "shell.execute_reply": "2021-04-13T21:55:03.097115Z",
     "shell.execute_reply.started": "2021-04-13T21:55:03.094698Z"
    },
    "tags": []
   },
   "source": [
    "Un autre moyen est de simplement changer l'attribu index"
   ]
  },
  {
   "cell_type": "code",
   "execution_count": 16,
   "id": "offensive-victor",
   "metadata": {
    "execution": {
     "iopub.execute_input": "2022-04-15T08:27:23.551054Z",
     "iopub.status.busy": "2022-04-15T08:27:23.550853Z",
     "iopub.status.idle": "2022-04-15T08:27:23.554073Z",
     "shell.execute_reply": "2022-04-15T08:27:23.553560Z",
     "shell.execute_reply.started": "2022-04-15T08:27:23.551029Z"
    },
    "tags": []
   },
   "outputs": [],
   "source": [
    "df.index = df.nom"
   ]
  },
  {
   "cell_type": "code",
   "execution_count": 17,
   "id": "provincial-shepherd",
   "metadata": {
    "execution": {
     "iopub.execute_input": "2022-04-15T08:27:23.911081Z",
     "iopub.status.busy": "2022-04-15T08:27:23.910880Z",
     "iopub.status.idle": "2022-04-15T08:27:23.917953Z",
     "shell.execute_reply": "2022-04-15T08:27:23.917485Z",
     "shell.execute_reply.started": "2022-04-15T08:27:23.911056Z"
    },
    "tags": []
   },
   "outputs": [
    {
     "data": {
      "text/html": [
       "<div>\n",
       "<style scoped>\n",
       "    .dataframe tbody tr th:only-of-type {\n",
       "        vertical-align: middle;\n",
       "    }\n",
       "\n",
       "    .dataframe tbody tr th {\n",
       "        vertical-align: top;\n",
       "    }\n",
       "\n",
       "    .dataframe thead th {\n",
       "        text-align: right;\n",
       "    }\n",
       "</style>\n",
       "<table border=\"1\" class=\"dataframe\">\n",
       "  <thead>\n",
       "    <tr style=\"text-align: right;\">\n",
       "      <th></th>\n",
       "      <th>nom</th>\n",
       "      <th>Espece</th>\n",
       "      <th>date_creation</th>\n",
       "    </tr>\n",
       "    <tr>\n",
       "      <th>nom</th>\n",
       "      <th></th>\n",
       "      <th></th>\n",
       "      <th></th>\n",
       "    </tr>\n",
       "  </thead>\n",
       "  <tbody>\n",
       "    <tr>\n",
       "      <th>Riri</th>\n",
       "      <td>Riri</td>\n",
       "      <td>Canard</td>\n",
       "      <td>1937</td>\n",
       "    </tr>\n",
       "    <tr>\n",
       "      <th>Dingo</th>\n",
       "      <td>Dingo</td>\n",
       "      <td>Chien</td>\n",
       "      <td>1932</td>\n",
       "    </tr>\n",
       "    <tr>\n",
       "      <th>Mickey</th>\n",
       "      <td>Mickey</td>\n",
       "      <td>Souris</td>\n",
       "      <td>1928</td>\n",
       "    </tr>\n",
       "    <tr>\n",
       "      <th>Pluto</th>\n",
       "      <td>Pluto</td>\n",
       "      <td>Chien</td>\n",
       "      <td>1930</td>\n",
       "    </tr>\n",
       "  </tbody>\n",
       "</table>\n",
       "</div>"
      ],
      "text/plain": [
       "           nom  Espece  date_creation\n",
       "nom                                  \n",
       "Riri      Riri  Canard           1937\n",
       "Dingo    Dingo   Chien           1932\n",
       "Mickey  Mickey  Souris           1928\n",
       "Pluto    Pluto   Chien           1930"
      ]
     },
     "execution_count": 17,
     "metadata": {},
     "output_type": "execute_result"
    }
   ],
   "source": [
    "df"
   ]
  },
  {
   "cell_type": "markdown",
   "id": "maritime-melissa",
   "metadata": {},
   "source": [
    "#### Les colonnes"
   ]
  },
  {
   "cell_type": "code",
   "execution_count": 18,
   "id": "reported-aquatic",
   "metadata": {
    "execution": {
     "iopub.execute_input": "2022-04-15T08:27:25.989570Z",
     "iopub.status.busy": "2022-04-15T08:27:25.989388Z",
     "iopub.status.idle": "2022-04-15T08:27:25.993074Z",
     "shell.execute_reply": "2022-04-15T08:27:25.992744Z",
     "shell.execute_reply.started": "2022-04-15T08:27:25.989540Z"
    },
    "tags": []
   },
   "outputs": [
    {
     "data": {
      "text/plain": [
       "Index(['nom', 'Espece', 'date_creation'], dtype='object')"
      ]
     },
     "execution_count": 18,
     "metadata": {},
     "output_type": "execute_result"
    }
   ],
   "source": [
    "df.columns"
   ]
  },
  {
   "cell_type": "markdown",
   "id": "shared-setup",
   "metadata": {},
   "source": [
    "Dans les faits, sous le capot, columns est un \"index horizontal\", on peut donc appliquer toutes les opérations que l'on peut appliquer à l'index."
   ]
  },
  {
   "cell_type": "code",
   "execution_count": 19,
   "id": "developed-samba",
   "metadata": {
    "execution": {
     "iopub.execute_input": "2022-04-15T08:27:26.635272Z",
     "iopub.status.busy": "2022-04-15T08:27:26.635093Z",
     "iopub.status.idle": "2022-04-15T08:27:26.638675Z",
     "shell.execute_reply": "2022-04-15T08:27:26.638209Z",
     "shell.execute_reply.started": "2022-04-15T08:27:26.635241Z"
    },
    "tags": []
   },
   "outputs": [
    {
     "data": {
      "text/plain": [
       "pandas.core.indexes.base.Index"
      ]
     },
     "execution_count": 19,
     "metadata": {},
     "output_type": "execute_result"
    }
   ],
   "source": [
    "type(df.columns)"
   ]
  },
  {
   "cell_type": "code",
   "execution_count": 20,
   "id": "universal-float",
   "metadata": {
    "execution": {
     "iopub.execute_input": "2022-04-15T08:27:27.085956Z",
     "iopub.status.busy": "2022-04-15T08:27:27.085759Z",
     "iopub.status.idle": "2022-04-15T08:27:27.089426Z",
     "shell.execute_reply": "2022-04-15T08:27:27.088895Z",
     "shell.execute_reply.started": "2022-04-15T08:27:27.085937Z"
    },
    "tags": []
   },
   "outputs": [
    {
     "data": {
      "text/plain": [
       "pandas.core.indexes.base.Index"
      ]
     },
     "execution_count": 20,
     "metadata": {},
     "output_type": "execute_result"
    }
   ],
   "source": [
    "type(df.index)"
   ]
  },
  {
   "cell_type": "markdown",
   "id": "convinced-peeing",
   "metadata": {},
   "source": [
    "### En plus"
   ]
  },
  {
   "cell_type": "markdown",
   "id": "sustained-showcase",
   "metadata": {},
   "source": [
    "Une dataframe viens avec également pleins de méthodes pour manipuler/transformer/avoir de l'information/autre avec les données. \n",
    "Quelques exemples:"
   ]
  },
  {
   "cell_type": "code",
   "execution_count": 21,
   "id": "alternative-harvard",
   "metadata": {
    "execution": {
     "iopub.execute_input": "2022-04-15T08:27:40.203395Z",
     "iopub.status.busy": "2022-04-15T08:27:40.203182Z",
     "iopub.status.idle": "2022-04-15T08:27:40.210907Z",
     "shell.execute_reply": "2022-04-15T08:27:40.210463Z",
     "shell.execute_reply.started": "2022-04-15T08:27:40.203350Z"
    },
    "tags": []
   },
   "outputs": [
    {
     "data": {
      "text/html": [
       "<div>\n",
       "<style scoped>\n",
       "    .dataframe tbody tr th:only-of-type {\n",
       "        vertical-align: middle;\n",
       "    }\n",
       "\n",
       "    .dataframe tbody tr th {\n",
       "        vertical-align: top;\n",
       "    }\n",
       "\n",
       "    .dataframe thead th {\n",
       "        text-align: right;\n",
       "    }\n",
       "</style>\n",
       "<table border=\"1\" class=\"dataframe\">\n",
       "  <thead>\n",
       "    <tr style=\"text-align: right;\">\n",
       "      <th>nom</th>\n",
       "      <th>Riri</th>\n",
       "      <th>Dingo</th>\n",
       "      <th>Mickey</th>\n",
       "      <th>Pluto</th>\n",
       "    </tr>\n",
       "  </thead>\n",
       "  <tbody>\n",
       "    <tr>\n",
       "      <th>nom</th>\n",
       "      <td>Riri</td>\n",
       "      <td>Dingo</td>\n",
       "      <td>Mickey</td>\n",
       "      <td>Pluto</td>\n",
       "    </tr>\n",
       "    <tr>\n",
       "      <th>Espece</th>\n",
       "      <td>Canard</td>\n",
       "      <td>Chien</td>\n",
       "      <td>Souris</td>\n",
       "      <td>Chien</td>\n",
       "    </tr>\n",
       "    <tr>\n",
       "      <th>date_creation</th>\n",
       "      <td>1937</td>\n",
       "      <td>1932</td>\n",
       "      <td>1928</td>\n",
       "      <td>1930</td>\n",
       "    </tr>\n",
       "  </tbody>\n",
       "</table>\n",
       "</div>"
      ],
      "text/plain": [
       "nom              Riri  Dingo  Mickey  Pluto\n",
       "nom              Riri  Dingo  Mickey  Pluto\n",
       "Espece         Canard  Chien  Souris  Chien\n",
       "date_creation    1937   1932    1928   1930"
      ]
     },
     "execution_count": 21,
     "metadata": {},
     "output_type": "execute_result"
    }
   ],
   "source": [
    "df.T  #La transposée  (Ps : on comprends pourquoi c'est pratique d'avoir index et columns qui sont en fait du même type )"
   ]
  },
  {
   "cell_type": "code",
   "execution_count": 22,
   "id": "6075f46d-4318-43ea-b81c-d1bad3967190",
   "metadata": {
    "execution": {
     "iopub.execute_input": "2022-04-15T08:27:40.392483Z",
     "iopub.status.busy": "2022-04-15T08:27:40.392262Z",
     "iopub.status.idle": "2022-04-15T08:27:40.395777Z",
     "shell.execute_reply": "2022-04-15T08:27:40.395345Z",
     "shell.execute_reply.started": "2022-04-15T08:27:40.392450Z"
    }
   },
   "outputs": [
    {
     "data": {
      "text/plain": [
       "(4, 3)"
      ]
     },
     "execution_count": 22,
     "metadata": {},
     "output_type": "execute_result"
    }
   ],
   "source": [
    "df.shape"
   ]
  },
  {
   "cell_type": "code",
   "execution_count": 23,
   "id": "47ba0def-8bf5-4487-8007-63e01ff8c56f",
   "metadata": {
    "execution": {
     "iopub.execute_input": "2022-04-15T08:27:42.157828Z",
     "iopub.status.busy": "2022-04-15T08:27:42.157660Z",
     "iopub.status.idle": "2022-04-15T08:27:42.163766Z",
     "shell.execute_reply": "2022-04-15T08:27:42.163196Z",
     "shell.execute_reply.started": "2022-04-15T08:27:42.157811Z"
    },
    "tags": []
   },
   "outputs": [
    {
     "data": {
      "text/html": [
       "<div>\n",
       "<style scoped>\n",
       "    .dataframe tbody tr th:only-of-type {\n",
       "        vertical-align: middle;\n",
       "    }\n",
       "\n",
       "    .dataframe tbody tr th {\n",
       "        vertical-align: top;\n",
       "    }\n",
       "\n",
       "    .dataframe thead th {\n",
       "        text-align: right;\n",
       "    }\n",
       "</style>\n",
       "<table border=\"1\" class=\"dataframe\">\n",
       "  <thead>\n",
       "    <tr style=\"text-align: right;\">\n",
       "      <th></th>\n",
       "      <th>nom</th>\n",
       "      <th>Espece</th>\n",
       "      <th>date_creation</th>\n",
       "    </tr>\n",
       "    <tr>\n",
       "      <th>nom</th>\n",
       "      <th></th>\n",
       "      <th></th>\n",
       "      <th></th>\n",
       "    </tr>\n",
       "  </thead>\n",
       "  <tbody>\n",
       "    <tr>\n",
       "      <th>Riri</th>\n",
       "      <td>Riri</td>\n",
       "      <td>Canard</td>\n",
       "      <td>1937</td>\n",
       "    </tr>\n",
       "    <tr>\n",
       "      <th>Dingo</th>\n",
       "      <td>Dingo</td>\n",
       "      <td>Chien</td>\n",
       "      <td>1932</td>\n",
       "    </tr>\n",
       "    <tr>\n",
       "      <th>Mickey</th>\n",
       "      <td>Mickey</td>\n",
       "      <td>Souris</td>\n",
       "      <td>1928</td>\n",
       "    </tr>\n",
       "    <tr>\n",
       "      <th>Pluto</th>\n",
       "      <td>Pluto</td>\n",
       "      <td>Chien</td>\n",
       "      <td>1930</td>\n",
       "    </tr>\n",
       "  </tbody>\n",
       "</table>\n",
       "</div>"
      ],
      "text/plain": [
       "           nom  Espece  date_creation\n",
       "nom                                  \n",
       "Riri      Riri  Canard           1937\n",
       "Dingo    Dingo   Chien           1932\n",
       "Mickey  Mickey  Souris           1928\n",
       "Pluto    Pluto   Chien           1930"
      ]
     },
     "execution_count": 23,
     "metadata": {},
     "output_type": "execute_result"
    }
   ],
   "source": [
    "df"
   ]
  },
  {
   "cell_type": "code",
   "execution_count": 24,
   "id": "aa34143a-4622-42a5-8c8c-776e190a3041",
   "metadata": {
    "execution": {
     "iopub.execute_input": "2022-04-15T08:27:42.864626Z",
     "iopub.status.busy": "2022-04-15T08:27:42.864443Z",
     "iopub.status.idle": "2022-04-15T08:27:42.867428Z",
     "shell.execute_reply": "2022-04-15T08:27:42.866721Z",
     "shell.execute_reply.started": "2022-04-15T08:27:42.864596Z"
    },
    "tags": []
   },
   "outputs": [],
   "source": [
    "import pandas as pd"
   ]
  },
  {
   "cell_type": "code",
   "execution_count": 25,
   "id": "unlike-ranch",
   "metadata": {
    "execution": {
     "iopub.execute_input": "2022-04-15T08:27:45.227802Z",
     "iopub.status.busy": "2022-04-15T08:27:45.227619Z",
     "iopub.status.idle": "2022-04-15T08:27:45.231628Z",
     "shell.execute_reply": "2022-04-15T08:27:45.231117Z",
     "shell.execute_reply.started": "2022-04-15T08:27:45.227771Z"
    },
    "tags": []
   },
   "outputs": [
    {
     "data": {
      "text/plain": [
       "1931.75"
      ]
     },
     "execution_count": 25,
     "metadata": {},
     "output_type": "execute_result"
    }
   ],
   "source": [
    "df.date_creation.mean()"
   ]
  },
  {
   "cell_type": "code",
   "execution_count": 33,
   "id": "cosmetic-brook",
   "metadata": {
    "execution": {
     "iopub.execute_input": "2022-04-15T08:31:22.556734Z",
     "iopub.status.busy": "2022-04-15T08:31:22.556494Z",
     "iopub.status.idle": "2022-04-15T08:31:22.653645Z",
     "shell.execute_reply": "2022-04-15T08:31:22.653065Z",
     "shell.execute_reply.started": "2022-04-15T08:31:22.556701Z"
    },
    "tags": []
   },
   "outputs": [
    {
     "data": {
      "text/plain": [
       "<AxesSubplot:xlabel='nom'>"
      ]
     },
     "execution_count": 33,
     "metadata": {},
     "output_type": "execute_result"
    },
    {
     "data": {
      "image/png": "[encoded data removed]",
      "text/plain": [
       "<Figure size 432x288 with 1 Axes>"
      ]
     },
     "metadata": {
      "needs_background": "light"
     },
     "output_type": "display_data"
    }
   ],
   "source": [
    "df.plot(kind=\"bar\", ylim=(1925, 1940))"
   ]
  },
  {
   "cell_type": "code",
   "execution_count": 37,
   "id": "30e96d9a-458b-42b1-9f15-8e3621669d6b",
   "metadata": {
    "execution": {
     "iopub.execute_input": "2022-04-15T08:33:15.873118Z",
     "iopub.status.busy": "2022-04-15T08:33:15.872879Z",
     "iopub.status.idle": "2022-04-15T08:33:15.879289Z",
     "shell.execute_reply": "2022-04-15T08:33:15.878703Z",
     "shell.execute_reply.started": "2022-04-15T08:33:15.873080Z"
    }
   },
   "outputs": [
    {
     "data": {
      "text/html": [
       "<div>\n",
       "<style scoped>\n",
       "    .dataframe tbody tr th:only-of-type {\n",
       "        vertical-align: middle;\n",
       "    }\n",
       "\n",
       "    .dataframe tbody tr th {\n",
       "        vertical-align: top;\n",
       "    }\n",
       "\n",
       "    .dataframe thead th {\n",
       "        text-align: right;\n",
       "    }\n",
       "</style>\n",
       "<table border=\"1\" class=\"dataframe\">\n",
       "  <thead>\n",
       "    <tr style=\"text-align: right;\">\n",
       "      <th></th>\n",
       "      <th>nom</th>\n",
       "      <th>Espece</th>\n",
       "      <th>date_creation</th>\n",
       "    </tr>\n",
       "    <tr>\n",
       "      <th>nom</th>\n",
       "      <th></th>\n",
       "      <th></th>\n",
       "      <th></th>\n",
       "    </tr>\n",
       "  </thead>\n",
       "  <tbody>\n",
       "    <tr>\n",
       "      <th>Riri</th>\n",
       "      <td>Riri</td>\n",
       "      <td>Canard</td>\n",
       "      <td>1937</td>\n",
       "    </tr>\n",
       "    <tr>\n",
       "      <th>Dingo</th>\n",
       "      <td>Dingo</td>\n",
       "      <td>Chien</td>\n",
       "      <td>1932</td>\n",
       "    </tr>\n",
       "    <tr>\n",
       "      <th>Mickey</th>\n",
       "      <td>Mickey</td>\n",
       "      <td>Souris</td>\n",
       "      <td>1928</td>\n",
       "    </tr>\n",
       "    <tr>\n",
       "      <th>Pluto</th>\n",
       "      <td>Pluto</td>\n",
       "      <td>Chien</td>\n",
       "      <td>1930</td>\n",
       "    </tr>\n",
       "  </tbody>\n",
       "</table>\n",
       "</div>"
      ],
      "text/plain": [
       "           nom  Espece  date_creation\n",
       "nom                                  \n",
       "Riri      Riri  Canard           1937\n",
       "Dingo    Dingo   Chien           1932\n",
       "Mickey  Mickey  Souris           1928\n",
       "Pluto    Pluto   Chien           1930"
      ]
     },
     "execution_count": 37,
     "metadata": {},
     "output_type": "execute_result"
    }
   ],
   "source": [
    "df"
   ]
  },
  {
   "cell_type": "code",
   "execution_count": 34,
   "id": "electrical-original",
   "metadata": {
    "execution": {
     "iopub.execute_input": "2022-04-15T08:31:36.316003Z",
     "iopub.status.busy": "2022-04-15T08:31:36.315789Z",
     "iopub.status.idle": "2022-04-15T08:31:36.320852Z",
     "shell.execute_reply": "2022-04-15T08:31:36.320467Z",
     "shell.execute_reply.started": "2022-04-15T08:31:36.315971Z"
    },
    "tags": []
   },
   "outputs": [
    {
     "data": {
      "text/plain": [
       "nom              Dingo\n",
       "Espece           Chien\n",
       "date_creation     1932\n",
       "Name: Dingo, dtype: object"
      ]
     },
     "execution_count": 34,
     "metadata": {},
     "output_type": "execute_result"
    }
   ],
   "source": [
    "df.loc[\"Dingo\"]"
   ]
  },
  {
   "cell_type": "code",
   "execution_count": 36,
   "id": "harmful-voltage",
   "metadata": {
    "execution": {
     "iopub.execute_input": "2022-04-15T08:32:03.221484Z",
     "iopub.status.busy": "2022-04-15T08:32:03.221152Z",
     "iopub.status.idle": "2022-04-15T08:32:03.227004Z",
     "shell.execute_reply": "2022-04-15T08:32:03.226461Z",
     "shell.execute_reply.started": "2022-04-15T08:32:03.221457Z"
    },
    "tags": []
   },
   "outputs": [
    {
     "data": {
      "text/plain": [
       "nom\n",
       "Riri      Canard\n",
       "Dingo      Chien\n",
       "Mickey    Souris\n",
       "Pluto      Chien\n",
       "Name: Espece, dtype: object"
      ]
     },
     "execution_count": 36,
     "metadata": {},
     "output_type": "execute_result"
    }
   ],
   "source": [
    "df[\"Espece\"]"
   ]
  },
  {
   "cell_type": "markdown",
   "id": "upset-object",
   "metadata": {},
   "source": [
    "La liste complète :-) ?"
   ]
  },
  {
   "cell_type": "code",
   "execution_count": 41,
   "id": "disabled-radio",
   "metadata": {
    "execution": {
     "iopub.execute_input": "2022-04-15T08:40:54.222138Z",
     "iopub.status.busy": "2022-04-15T08:40:54.221937Z",
     "iopub.status.idle": "2022-04-15T08:40:54.226716Z",
     "shell.execute_reply": "2022-04-15T08:40:54.226247Z",
     "shell.execute_reply.started": "2022-04-15T08:40:54.222119Z"
    },
    "tags": []
   },
   "outputs": [
    {
     "data": {
      "text/plain": [
       "213"
      ]
     },
     "execution_count": 41,
     "metadata": {},
     "output_type": "execute_result"
    }
   ],
   "source": [
    "len([a for a in dir(df) if a[0] != \"_\"])"
   ]
  },
  {
   "cell_type": "code",
   "execution_count": 42,
   "id": "0b301206-b69d-4d52-b556-8fc57cbd4bd4",
   "metadata": {
    "execution": {
     "iopub.execute_input": "2022-04-15T08:41:33.772367Z",
     "iopub.status.busy": "2022-04-15T08:41:33.771823Z",
     "iopub.status.idle": "2022-04-15T08:41:33.776163Z",
     "shell.execute_reply": "2022-04-15T08:41:33.775717Z",
     "shell.execute_reply.started": "2022-04-15T08:41:33.772344Z"
    }
   },
   "outputs": [
    {
     "data": {
      "text/plain": [
       "119"
      ]
     },
     "execution_count": 42,
     "metadata": {},
     "output_type": "execute_result"
    }
   ],
   "source": [
    "len([a for a in dir(pd) if a[0] != \"_\"])"
   ]
  },
  {
   "cell_type": "code",
   "execution_count": 6,
   "id": "front-mortgage",
   "metadata": {
    "execution": {
     "iopub.execute_input": "2021-04-28T23:33:46.372077Z",
     "iopub.status.busy": "2021-04-28T23:33:46.371895Z",
     "iopub.status.idle": "2021-04-28T23:33:46.374209Z",
     "shell.execute_reply": "2021-04-28T23:33:46.373777Z",
     "shell.execute_reply.started": "2021-04-28T23:33:46.372056Z"
    },
    "tags": []
   },
   "outputs": [],
   "source": [
    "#df.xs?"
   ]
  },
  {
   "cell_type": "markdown",
   "id": "adequate-blend",
   "metadata": {},
   "source": [
    "## La Series"
   ]
  },
  {
   "cell_type": "code",
   "execution_count": 12,
   "id": "biblical-heading",
   "metadata": {
    "execution": {
     "iopub.execute_input": "2021-04-28T23:34:06.655534Z",
     "iopub.status.busy": "2021-04-28T23:34:06.655107Z",
     "iopub.status.idle": "2021-04-28T23:34:06.664210Z",
     "shell.execute_reply": "2021-04-28T23:34:06.663008Z",
     "shell.execute_reply.started": "2021-04-28T23:34:06.655482Z"
    },
    "tags": []
   },
   "outputs": [
    {
     "data": {
      "text/plain": [
       "0     1\n",
       "1     2\n",
       "2    10\n",
       "3    21\n",
       "dtype: int64"
      ]
     },
     "execution_count": 12,
     "metadata": {},
     "output_type": "execute_result"
    }
   ],
   "source": [
    "pd.Series([1,2,10, 21])"
   ]
  },
  {
   "cell_type": "markdown",
   "id": "identical-thread",
   "metadata": {},
   "source": [
    "Une série est un vecteur (ou array) qui comme la dataframe possède une ensemble de méthodes et d'attribus.\n"
   ]
  },
  {
   "cell_type": "code",
   "execution_count": 43,
   "id": "static-stewart",
   "metadata": {
    "execution": {
     "iopub.execute_input": "2022-04-15T08:44:45.958848Z",
     "iopub.status.busy": "2022-04-15T08:44:45.958681Z",
     "iopub.status.idle": "2022-04-15T08:44:45.961778Z",
     "shell.execute_reply": "2022-04-15T08:44:45.961349Z",
     "shell.execute_reply.started": "2022-04-15T08:44:45.958831Z"
    },
    "tags": []
   },
   "outputs": [],
   "source": [
    "s = pd.Series([1,2,10, 21])"
   ]
  },
  {
   "cell_type": "code",
   "execution_count": 44,
   "id": "aggregate-monaco",
   "metadata": {
    "execution": {
     "iopub.execute_input": "2022-04-15T08:44:56.049191Z",
     "iopub.status.busy": "2022-04-15T08:44:56.049012Z",
     "iopub.status.idle": "2022-04-15T08:44:56.054074Z",
     "shell.execute_reply": "2022-04-15T08:44:56.053723Z",
     "shell.execute_reply.started": "2022-04-15T08:44:56.049161Z"
    },
    "tags": []
   },
   "outputs": [
    {
     "data": {
      "text/plain": [
       "['T',\n",
       " 'array',\n",
       " 'combine',\n",
       " 'divide',\n",
       " 'explode',\n",
       " 'hist',\n",
       " 'item',\n",
       " 'mean',\n",
       " 'nsmallest',\n",
       " 'rdivmod',\n",
       " 'rpow',\n",
       " 'squeeze',\n",
       " 'to_json',\n",
       " 'tz_convert']"
      ]
     },
     "execution_count": 44,
     "metadata": {},
     "output_type": "execute_result"
    }
   ],
   "source": [
    "[a for a in dir(s) if a[0] != \"_\"][::15]"
   ]
  },
  {
   "cell_type": "code",
   "execution_count": 47,
   "id": "trying-oregon",
   "metadata": {
    "execution": {
     "iopub.execute_input": "2022-04-15T08:46:25.946883Z",
     "iopub.status.busy": "2022-04-15T08:46:25.946705Z",
     "iopub.status.idle": "2022-04-15T08:46:25.951792Z",
     "shell.execute_reply": "2022-04-15T08:46:25.951251Z",
     "shell.execute_reply.started": "2022-04-15T08:46:25.946865Z"
    },
    "tags": []
   },
   "outputs": [
    {
     "data": {
      "text/plain": [
       "206"
      ]
     },
     "execution_count": 47,
     "metadata": {},
     "output_type": "execute_result"
    }
   ],
   "source": [
    "len([a for a in dir(s) if a[0] != \"_\"])"
   ]
  },
  {
   "cell_type": "markdown",
   "id": "extra-heavy",
   "metadata": {},
   "source": [
    "Ils en possèdent d'ailleurs beaucoup en commun."
   ]
  },
  {
   "cell_type": "code",
   "execution_count": 48,
   "id": "incoming-sudan",
   "metadata": {
    "execution": {
     "iopub.execute_input": "2022-04-15T08:46:57.820694Z",
     "iopub.status.busy": "2022-04-15T08:46:57.820485Z",
     "iopub.status.idle": "2022-04-15T08:46:57.825502Z",
     "shell.execute_reply": "2022-04-15T08:46:57.825110Z",
     "shell.execute_reply.started": "2022-04-15T08:46:57.820663Z"
    },
    "tags": []
   },
   "outputs": [
    {
     "data": {
      "text/plain": [
       "180"
      ]
     },
     "execution_count": 48,
     "metadata": {},
     "output_type": "execute_result"
    }
   ],
   "source": [
    "len(set([a for a in dir(df) if a[0] != \"_\"]\n",
    "       ).intersection(set([a for a in dir(s) if a[0] != \"_\"])))"
   ]
  },
  {
   "cell_type": "markdown",
   "id": "requested-situation",
   "metadata": {},
   "source": [
    "Parmis ceux-ci l'attribu du nom"
   ]
  },
  {
   "cell_type": "code",
   "execution_count": 54,
   "id": "hollywood-retirement",
   "metadata": {
    "execution": {
     "iopub.execute_input": "2022-04-15T08:51:19.734124Z",
     "iopub.status.busy": "2022-04-15T08:51:19.733958Z",
     "iopub.status.idle": "2022-04-15T08:51:19.737372Z",
     "shell.execute_reply": "2022-04-15T08:51:19.736708Z",
     "shell.execute_reply.started": "2022-04-15T08:51:19.734107Z"
    },
    "tags": []
   },
   "outputs": [],
   "source": [
    "s.name = \"coucou\""
   ]
  },
  {
   "cell_type": "code",
   "execution_count": 56,
   "id": "incident-cincinnati",
   "metadata": {
    "execution": {
     "iopub.execute_input": "2022-04-15T08:51:40.217975Z",
     "iopub.status.busy": "2022-04-15T08:51:40.217606Z",
     "iopub.status.idle": "2022-04-15T08:51:40.221836Z",
     "shell.execute_reply": "2022-04-15T08:51:40.221408Z",
     "shell.execute_reply.started": "2022-04-15T08:51:40.217955Z"
    },
    "tags": []
   },
   "outputs": [
    {
     "data": {
      "text/plain": [
       "0     1\n",
       "1     2\n",
       "2    10\n",
       "3    21\n",
       "Name: coucou, dtype: int64"
      ]
     },
     "execution_count": 56,
     "metadata": {},
     "output_type": "execute_result"
    }
   ],
   "source": [
    "s"
   ]
  },
  {
   "cell_type": "markdown",
   "id": "worldwide-option",
   "metadata": {},
   "source": [
    "Mais attention, les méthodes ne se comportent pas toujours de la même manière."
   ]
  },
  {
   "cell_type": "markdown",
   "id": "permanent-ancient",
   "metadata": {},
   "source": [
    "Mais au fait, que contient une Series ?"
   ]
  },
  {
   "cell_type": "code",
   "execution_count": 57,
   "id": "computational-groove",
   "metadata": {
    "execution": {
     "iopub.execute_input": "2022-04-15T08:52:17.391290Z",
     "iopub.status.busy": "2022-04-15T08:52:17.391115Z",
     "iopub.status.idle": "2022-04-15T08:52:17.395067Z",
     "shell.execute_reply": "2022-04-15T08:52:17.394633Z",
     "shell.execute_reply.started": "2022-04-15T08:52:17.391261Z"
    },
    "tags": []
   },
   "outputs": [
    {
     "data": {
      "text/plain": [
       "array([ 1,  2, 10, 21])"
      ]
     },
     "execution_count": 57,
     "metadata": {},
     "output_type": "execute_result"
    }
   ],
   "source": [
    "s.values"
   ]
  },
  {
   "cell_type": "markdown",
   "id": "hundred-paris",
   "metadata": {},
   "source": [
    "Un array ?"
   ]
  },
  {
   "cell_type": "code",
   "execution_count": 58,
   "id": "powered-difficulty",
   "metadata": {
    "execution": {
     "iopub.execute_input": "2022-04-15T08:53:05.268082Z",
     "iopub.status.busy": "2022-04-15T08:53:05.267877Z",
     "iopub.status.idle": "2022-04-15T08:53:05.271916Z",
     "shell.execute_reply": "2022-04-15T08:53:05.271280Z",
     "shell.execute_reply.started": "2022-04-15T08:53:05.268066Z"
    },
    "tags": []
   },
   "outputs": [
    {
     "data": {
      "text/plain": [
       "numpy.ndarray"
      ]
     },
     "execution_count": 58,
     "metadata": {},
     "output_type": "execute_result"
    }
   ],
   "source": [
    "type(s.values)"
   ]
  },
  {
   "cell_type": "code",
   "execution_count": 59,
   "id": "sacred-vermont",
   "metadata": {
    "execution": {
     "iopub.execute_input": "2022-04-15T08:53:30.241639Z",
     "iopub.status.busy": "2022-04-15T08:53:30.241433Z",
     "iopub.status.idle": "2022-04-15T08:53:30.244737Z",
     "shell.execute_reply": "2022-04-15T08:53:30.244244Z",
     "shell.execute_reply.started": "2022-04-15T08:53:30.241608Z"
    },
    "tags": []
   },
   "outputs": [],
   "source": [
    "import numpy as np"
   ]
  },
  {
   "cell_type": "markdown",
   "id": "healthy-witch",
   "metadata": {
    "execution": {
     "iopub.execute_input": "2021-04-13T22:48:14.172883Z",
     "iopub.status.busy": "2021-04-13T22:48:14.172718Z",
     "iopub.status.idle": "2021-04-13T22:48:14.176075Z",
     "shell.execute_reply": "2021-04-13T22:48:14.175536Z",
     "shell.execute_reply.started": "2021-04-13T22:48:14.172865Z"
    }
   },
   "source": [
    "Un array est un objet de la librairie numpy. Dans les faits c'est une liste qui a quelques comportements différents."
   ]
  },
  {
   "cell_type": "code",
   "execution_count": 60,
   "id": "convinced-writing",
   "metadata": {
    "execution": {
     "iopub.execute_input": "2022-04-15T08:53:59.637450Z",
     "iopub.status.busy": "2022-04-15T08:53:59.637272Z",
     "iopub.status.idle": "2022-04-15T08:53:59.642991Z",
     "shell.execute_reply": "2022-04-15T08:53:59.642431Z",
     "shell.execute_reply.started": "2022-04-15T08:53:59.637419Z"
    },
    "tags": []
   },
   "outputs": [
    {
     "data": {
      "text/plain": [
       "[1, 2, 3, 4]"
      ]
     },
     "execution_count": 60,
     "metadata": {},
     "output_type": "execute_result"
    }
   ],
   "source": [
    "[1,2,3] + [4]"
   ]
  },
  {
   "cell_type": "code",
   "execution_count": 61,
   "id": "senior-rally",
   "metadata": {
    "execution": {
     "iopub.execute_input": "2022-04-15T08:54:12.681285Z",
     "iopub.status.busy": "2022-04-15T08:54:12.681048Z",
     "iopub.status.idle": "2022-04-15T08:54:12.686032Z",
     "shell.execute_reply": "2022-04-15T08:54:12.685474Z",
     "shell.execute_reply.started": "2022-04-15T08:54:12.681248Z"
    },
    "tags": []
   },
   "outputs": [
    {
     "data": {
      "text/plain": [
       "array([5, 6, 7])"
      ]
     },
     "execution_count": 61,
     "metadata": {},
     "output_type": "execute_result"
    }
   ],
   "source": [
    "import numpy as np\n",
    "np.array([1,2,3] ) + np.array([4] )"
   ]
  },
  {
   "cell_type": "code",
   "execution_count": 62,
   "id": "7d60f829-cc94-4752-8bee-44304adc6ce1",
   "metadata": {
    "execution": {
     "iopub.execute_input": "2022-04-15T08:54:34.837132Z",
     "iopub.status.busy": "2022-04-15T08:54:34.836909Z",
     "iopub.status.idle": "2022-04-15T08:54:34.841473Z",
     "shell.execute_reply": "2022-04-15T08:54:34.840912Z",
     "shell.execute_reply.started": "2022-04-15T08:54:34.837115Z"
    },
    "tags": []
   },
   "outputs": [
    {
     "data": {
      "text/plain": [
       "array([ 5,  5, 15])"
      ]
     },
     "execution_count": 62,
     "metadata": {},
     "output_type": "execute_result"
    }
   ],
   "source": [
    "import numpy as np\n",
    "np.array([1,2,3] ) + np.array([4,3,12] )"
   ]
  },
  {
   "cell_type": "markdown",
   "id": "indian-tractor",
   "metadata": {},
   "source": [
    "Avec bien sûr des méthodes diverses et variées (dont certaines sont communes avec celles des series et dataframe, mais qui se comportent aussi parfois de manière différente)."
   ]
  },
  {
   "cell_type": "code",
   "execution_count": 131,
   "id": "noticed-accident",
   "metadata": {
    "execution": {
     "iopub.execute_input": "2021-04-13T22:50:53.279596Z",
     "iopub.status.busy": "2021-04-13T22:50:53.279416Z",
     "iopub.status.idle": "2021-04-13T22:50:53.283403Z",
     "shell.execute_reply": "2021-04-13T22:50:53.282923Z",
     "shell.execute_reply.started": "2021-04-13T22:50:53.279577Z"
    },
    "tags": []
   },
   "outputs": [
    {
     "data": {
      "text/plain": [
       "['T', 'choose', 'diagonal', 'imag', 'nonzero', 'round', 'sum', 'view']"
      ]
     },
     "execution_count": 131,
     "metadata": {},
     "output_type": "execute_result"
    }
   ],
   "source": [
    "[a for a in dir(np.array([4] )) if a[0] != \"_\"][::10]"
   ]
  },
  {
   "cell_type": "markdown",
   "id": "celtic-aircraft",
   "metadata": {},
   "source": [
    "### Retour à la série"
   ]
  },
  {
   "cell_type": "markdown",
   "id": "nonprofit-furniture",
   "metadata": {},
   "source": [
    "Du coup une série, c'est un array numpy, wrappé dans un objet qui contient des méthodes et des attribus (tel que le nom, et l'index)"
   ]
  },
  {
   "cell_type": "code",
   "execution_count": 64,
   "id": "angry-inflation",
   "metadata": {
    "execution": {
     "iopub.execute_input": "2022-04-15T08:56:25.051158Z",
     "iopub.status.busy": "2022-04-15T08:56:25.050957Z",
     "iopub.status.idle": "2022-04-15T08:56:25.054570Z",
     "shell.execute_reply": "2022-04-15T08:56:25.054207Z",
     "shell.execute_reply.started": "2022-04-15T08:56:25.051134Z"
    },
    "tags": []
   },
   "outputs": [],
   "source": [
    "array1 = np.array([1,2,3] )\n",
    "array2 = np.array([51,666,42] )"
   ]
  },
  {
   "cell_type": "code",
   "execution_count": 68,
   "id": "unavailable-joyce",
   "metadata": {
    "execution": {
     "iopub.execute_input": "2022-04-15T08:58:14.382980Z",
     "iopub.status.busy": "2022-04-15T08:58:14.382453Z",
     "iopub.status.idle": "2022-04-15T08:58:14.387272Z",
     "shell.execute_reply": "2022-04-15T08:58:14.386640Z",
     "shell.execute_reply.started": "2022-04-15T08:58:14.382962Z"
    },
    "tags": []
   },
   "outputs": [
    {
     "data": {
      "text/plain": [
       "0    True\n",
       "1    True\n",
       "2    True\n",
       "dtype: bool"
      ]
     },
     "execution_count": 68,
     "metadata": {},
     "output_type": "execute_result"
    }
   ],
   "source": [
    "pd.Series(array1)==array1"
   ]
  },
  {
   "cell_type": "code",
   "execution_count": 69,
   "id": "published-enemy",
   "metadata": {
    "execution": {
     "iopub.execute_input": "2022-04-15T08:58:24.183680Z",
     "iopub.status.busy": "2022-04-15T08:58:24.183462Z",
     "iopub.status.idle": "2022-04-15T08:58:24.187371Z",
     "shell.execute_reply": "2022-04-15T08:58:24.186906Z",
     "shell.execute_reply.started": "2022-04-15T08:58:24.183663Z"
    },
    "tags": []
   },
   "outputs": [
    {
     "data": {
      "text/plain": [
       "False"
      ]
     },
     "execution_count": 69,
     "metadata": {},
     "output_type": "execute_result"
    }
   ],
   "source": [
    "pd.Series(array1) is array1 ### Ce ne sont pas les mêmes objets plus que la Série possède des méthodes différentes (essentiellement en plus)"
   ]
  },
  {
   "cell_type": "code",
   "execution_count": 70,
   "id": "centered-following",
   "metadata": {
    "execution": {
     "iopub.execute_input": "2022-04-15T08:58:27.397887Z",
     "iopub.status.busy": "2022-04-15T08:58:27.397726Z",
     "iopub.status.idle": "2022-04-15T08:58:27.401367Z",
     "shell.execute_reply": "2022-04-15T08:58:27.400761Z",
     "shell.execute_reply.started": "2022-04-15T08:58:27.397871Z"
    },
    "tags": []
   },
   "outputs": [],
   "source": [
    "s = pd.Series(array1)"
   ]
  },
  {
   "cell_type": "code",
   "execution_count": 71,
   "id": "duplicate-month",
   "metadata": {
    "execution": {
     "iopub.execute_input": "2022-04-15T08:58:38.099423Z",
     "iopub.status.busy": "2022-04-15T08:58:38.099248Z",
     "iopub.status.idle": "2022-04-15T08:58:38.103233Z",
     "shell.execute_reply": "2022-04-15T08:58:38.102869Z",
     "shell.execute_reply.started": "2022-04-15T08:58:38.099405Z"
    },
    "tags": []
   },
   "outputs": [
    {
     "data": {
      "text/plain": [
       "True"
      ]
     },
     "execution_count": 71,
     "metadata": {},
     "output_type": "execute_result"
    }
   ],
   "source": [
    "s.values is array1 ### Mais les deux pointent vers le même objet en mêmoire"
   ]
  },
  {
   "cell_type": "code",
   "execution_count": 72,
   "id": "superb-configuration",
   "metadata": {
    "execution": {
     "iopub.execute_input": "2022-04-15T08:59:12.152168Z",
     "iopub.status.busy": "2022-04-15T08:59:12.151942Z",
     "iopub.status.idle": "2022-04-15T08:59:12.156434Z",
     "shell.execute_reply": "2022-04-15T08:59:12.155889Z",
     "shell.execute_reply.started": "2022-04-15T08:59:12.152132Z"
    },
    "tags": []
   },
   "outputs": [
    {
     "name": "stdout",
     "output_type": "stream",
     "text": [
      "140303437571440 140303437571440 140303437571440 140303421395792\n"
     ]
    }
   ],
   "source": [
    "print(id(array1), id(s.values), id(pd.Series(array1).values), id(s) )"
   ]
  },
  {
   "cell_type": "markdown",
   "id": "mechanical-iceland",
   "metadata": {
    "tags": []
   },
   "source": [
    "### Retour à la dataframe"
   ]
  },
  {
   "cell_type": "code",
   "execution_count": 80,
   "id": "overhead-sector",
   "metadata": {
    "execution": {
     "iopub.execute_input": "2022-04-15T09:01:15.692805Z",
     "iopub.status.busy": "2022-04-15T09:01:15.692563Z",
     "iopub.status.idle": "2022-04-15T09:01:15.698818Z",
     "shell.execute_reply": "2022-04-15T09:01:15.698336Z",
     "shell.execute_reply.started": "2022-04-15T09:01:15.692785Z"
    },
    "tags": []
   },
   "outputs": [
    {
     "data": {
      "text/html": [
       "<div>\n",
       "<style scoped>\n",
       "    .dataframe tbody tr th:only-of-type {\n",
       "        vertical-align: middle;\n",
       "    }\n",
       "\n",
       "    .dataframe tbody tr th {\n",
       "        vertical-align: top;\n",
       "    }\n",
       "\n",
       "    .dataframe thead th {\n",
       "        text-align: right;\n",
       "    }\n",
       "</style>\n",
       "<table border=\"1\" class=\"dataframe\">\n",
       "  <thead>\n",
       "    <tr style=\"text-align: right;\">\n",
       "      <th></th>\n",
       "      <th>nom</th>\n",
       "      <th>Espece</th>\n",
       "      <th>date_creation</th>\n",
       "    </tr>\n",
       "  </thead>\n",
       "  <tbody>\n",
       "    <tr>\n",
       "      <th>0</th>\n",
       "      <td>Riri</td>\n",
       "      <td>Canard</td>\n",
       "      <td>1937</td>\n",
       "    </tr>\n",
       "    <tr>\n",
       "      <th>1</th>\n",
       "      <td>Dingo</td>\n",
       "      <td>Chien</td>\n",
       "      <td>1932</td>\n",
       "    </tr>\n",
       "    <tr>\n",
       "      <th>2</th>\n",
       "      <td>Mickey</td>\n",
       "      <td>Souris</td>\n",
       "      <td>1928</td>\n",
       "    </tr>\n",
       "    <tr>\n",
       "      <th>3</th>\n",
       "      <td>Pluto</td>\n",
       "      <td>Chien</td>\n",
       "      <td>1930</td>\n",
       "    </tr>\n",
       "  </tbody>\n",
       "</table>\n",
       "</div>"
      ],
      "text/plain": [
       "      nom  Espece  date_creation\n",
       "0    Riri  Canard           1937\n",
       "1   Dingo   Chien           1932\n",
       "2  Mickey  Souris           1928\n",
       "3   Pluto   Chien           1930"
      ]
     },
     "execution_count": 80,
     "metadata": {},
     "output_type": "execute_result"
    }
   ],
   "source": [
    "df = df.reset_index(drop=True)\n",
    "df"
   ]
  },
  {
   "cell_type": "code",
   "execution_count": 81,
   "id": "bigger-imaging",
   "metadata": {
    "execution": {
     "iopub.execute_input": "2022-04-15T09:01:21.906549Z",
     "iopub.status.busy": "2022-04-15T09:01:21.906287Z",
     "iopub.status.idle": "2022-04-15T09:01:21.911339Z",
     "shell.execute_reply": "2022-04-15T09:01:21.910871Z",
     "shell.execute_reply.started": "2022-04-15T09:01:21.906525Z"
    },
    "tags": []
   },
   "outputs": [
    {
     "data": {
      "text/plain": [
       "0      Riri\n",
       "1     Dingo\n",
       "2    Mickey\n",
       "3     Pluto\n",
       "Name: nom, dtype: object"
      ]
     },
     "execution_count": 81,
     "metadata": {},
     "output_type": "execute_result"
    }
   ],
   "source": [
    "df.nom"
   ]
  },
  {
   "cell_type": "code",
   "execution_count": 82,
   "id": "intimate-ownership",
   "metadata": {
    "execution": {
     "iopub.execute_input": "2022-04-15T09:01:28.277947Z",
     "iopub.status.busy": "2022-04-15T09:01:28.277716Z",
     "iopub.status.idle": "2022-04-15T09:01:28.281914Z",
     "shell.execute_reply": "2022-04-15T09:01:28.281473Z",
     "shell.execute_reply.started": "2022-04-15T09:01:28.277929Z"
    },
    "tags": []
   },
   "outputs": [
    {
     "data": {
      "text/plain": [
       "pandas.core.series.Series"
      ]
     },
     "execution_count": 82,
     "metadata": {},
     "output_type": "execute_result"
    }
   ],
   "source": [
    "type(df.nom)"
   ]
  },
  {
   "cell_type": "markdown",
   "id": "difficult-seeker",
   "metadata": {},
   "source": [
    "Une colonne, est une serie qui a pour nom le nom de la colonne, et qui a le même index que la dataframe."
   ]
  },
  {
   "cell_type": "code",
   "execution_count": 83,
   "id": "deluxe-garlic",
   "metadata": {
    "execution": {
     "iopub.execute_input": "2022-04-15T09:01:46.929022Z",
     "iopub.status.busy": "2022-04-15T09:01:46.928810Z",
     "iopub.status.idle": "2022-04-15T09:01:46.932815Z",
     "shell.execute_reply": "2022-04-15T09:01:46.932495Z",
     "shell.execute_reply.started": "2022-04-15T09:01:46.928978Z"
    },
    "tags": []
   },
   "outputs": [
    {
     "data": {
      "text/plain": [
       "numpy.ndarray"
      ]
     },
     "execution_count": 83,
     "metadata": {},
     "output_type": "execute_result"
    }
   ],
   "source": [
    "type(df.nom.values)"
   ]
  },
  {
   "cell_type": "code",
   "execution_count": 184,
   "id": "architectural-riding",
   "metadata": {
    "execution": {
     "iopub.execute_input": "2021-04-13T23:12:08.343793Z",
     "iopub.status.busy": "2021-04-13T23:12:08.343629Z",
     "iopub.status.idle": "2021-04-13T23:12:08.349234Z",
     "shell.execute_reply": "2021-04-13T23:12:08.348869Z",
     "shell.execute_reply.started": "2021-04-13T23:12:08.343775Z"
    },
    "tags": []
   },
   "outputs": [
    {
     "data": {
      "text/plain": [
       "numpy.ndarray"
      ]
     },
     "execution_count": 184,
     "metadata": {},
     "output_type": "execute_result"
    }
   ],
   "source": [
    "type(df.values)"
   ]
  },
  {
   "cell_type": "markdown",
   "id": "funded-completion",
   "metadata": {},
   "source": [
    "#### Conclusion"
   ]
  },
  {
   "cell_type": "markdown",
   "id": "grand-needle",
   "metadata": {},
   "source": [
    "Pandas permet de manipuler des données via l'objet dataframe qui est composé de colonnes qui sont en fait des séries, qui sont composés d'array numpy."
   ]
  },
  {
   "cell_type": "markdown",
   "id": "thirty-simpson",
   "metadata": {},
   "source": [
    "Subtilité: une dataframe d'une seule colone est différent d'une série (Car possède deux index: le vertical `index`, et l'horizontal `columns`)"
   ]
  },
  {
   "cell_type": "code",
   "execution_count": 84,
   "id": "4baf3af2-7b32-4afb-a7df-8bb338ae26d4",
   "metadata": {
    "execution": {
     "iopub.execute_input": "2022-04-15T09:05:42.425837Z",
     "iopub.status.busy": "2022-04-15T09:05:42.425319Z",
     "iopub.status.idle": "2022-04-15T09:05:42.429237Z",
     "shell.execute_reply": "2022-04-15T09:05:42.428896Z",
     "shell.execute_reply.started": "2022-04-15T09:05:42.425812Z"
    }
   },
   "outputs": [
    {
     "data": {
      "text/plain": [
       "3"
      ]
     },
     "execution_count": 84,
     "metadata": {},
     "output_type": "execute_result"
    }
   ],
   "source": [
    "1+2"
   ]
  },
  {
   "cell_type": "code",
   "execution_count": 86,
   "id": "482a9e48-a88a-4642-b320-f953956f8f56",
   "metadata": {
    "execution": {
     "iopub.execute_input": "2022-04-15T09:07:41.629578Z",
     "iopub.status.busy": "2022-04-15T09:07:41.629364Z",
     "iopub.status.idle": "2022-04-15T09:07:41.634218Z",
     "shell.execute_reply": "2022-04-15T09:07:41.633797Z",
     "shell.execute_reply.started": "2022-04-15T09:07:41.629532Z"
    },
    "tags": []
   },
   "outputs": [
    {
     "data": {
      "text/plain": [
       "0    2\n",
       "1    4\n",
       "2    6\n",
       "3    8\n",
       "dtype: int64"
      ]
     },
     "execution_count": 86,
     "metadata": {},
     "output_type": "execute_result"
    }
   ],
   "source": [
    "pd.Series([1,2,3,4]) + pd.Series([1,2,3,4])"
   ]
  },
  {
   "cell_type": "code",
   "execution_count": null,
   "id": "ffd1a12a-14ad-45cc-889b-2dea9a6008ce",
   "metadata": {},
   "outputs": [],
   "source": []
  }
 ],
 "metadata": {
  "kernelspec": {
   "display_name": "Python 3 (ipykernel)",
   "language": "python",
   "name": "python3"
  },
  "language_info": {
   "codemirror_mode": {
    "name": "ipython",
    "version": 3
   },
   "file_extension": ".py",
   "mimetype": "text/x-python",
   "name": "python",
   "nbconvert_exporter": "python",
   "pygments_lexer": "ipython3",
   "version": "3.7.12"
  }
 },
 "nbformat": 4,
 "nbformat_minor": 5
}
