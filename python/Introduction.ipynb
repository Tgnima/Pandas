{
 "cells": [
  {
   "cell_type": "markdown",
   "id": "2af21214-7153-474f-86ae-4cc89ec28d96",
   "metadata": {},
   "source": [
    "# Presentation"
   ]
  },
  {
   "cell_type": "markdown",
   "id": "f0ace0ec-91ee-4006-981d-7c1686fd0d04",
   "metadata": {},
   "source": [
    "# Plan du cours\n",
    "## Python:\n",
    "### Généralités\n",
    "### Configurer Jupyter lab avec un environnement virtuel\n",
    "### retour sur des notions en Python et présentation d'outils\n",
    "\n",
    "## Pandas:\n",
    "### Introduction rapide avec exemple.\n",
    "### Différentes fonctions avec applications\n",
    "1. Exemple formel\n",
    "2. Petit exercice sur données faciles\n",
    "3. Exercice sur données réelles\n",
    "\n",
    "## Plot:\n",
    "### Généralités sur les plots\n",
    "### Matplotlib et seaborn\n",
    "### Plotly\n",
    "\n",
    "## Statsmodels:\n",
    "### Regression linéaire simple\n",
    "\n",
    "## Exercice d'application final:\n",
    "### Expliquer/prédire les prix d'une vente immobilière."
   ]
  }
 ],
 "metadata": {
  "kernelspec": {
   "display_name": "Python 3",
   "language": "python",
   "name": "python3"
  },
  "language_info": {
   "codemirror_mode": {
    "name": "ipython",
    "version": 3
   },
   "file_extension": ".py",
   "mimetype": "text/x-python",
   "name": "python",
   "nbconvert_exporter": "python",
   "pygments_lexer": "ipython3",
   "version": "3.8.8"
  }
 },
 "nbformat": 4,
 "nbformat_minor": 5
}
