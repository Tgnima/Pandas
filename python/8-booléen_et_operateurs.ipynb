{
 "cells": [
  {
   "cell_type": "markdown",
   "id": "bd3eccbb-f223-4d9d-9fd4-8cf8a495cbc0",
   "metadata": {},
   "source": [
    "Un booléen est une valeur qui est vrai ou fausse (probablement vu dans le cadre conditions (`if`)"
   ]
  },
  {
   "cell_type": "code",
   "execution_count": 9,
   "id": "c0af7047-db8b-4c85-b9db-43e985c95d97",
   "metadata": {
    "execution": {
     "iopub.execute_input": "2021-04-27T21:09:11.992744Z",
     "iopub.status.busy": "2021-04-27T21:09:11.992363Z",
     "iopub.status.idle": "2021-04-27T21:09:11.999205Z",
     "shell.execute_reply": "2021-04-27T21:09:11.998029Z",
     "shell.execute_reply.started": "2021-04-27T21:09:11.992697Z"
    },
    "tags": []
   },
   "outputs": [
    {
     "data": {
      "text/plain": [
       "True"
      ]
     },
     "execution_count": 9,
     "metadata": {},
     "output_type": "execute_result"
    }
   ],
   "source": [
    "True #vrai"
   ]
  },
  {
   "cell_type": "code",
   "execution_count": 10,
   "id": "7eb2b1b8-290e-48a9-a28c-09b44125e221",
   "metadata": {
    "execution": {
     "iopub.execute_input": "2021-04-27T21:09:12.197142Z",
     "iopub.status.busy": "2021-04-27T21:09:12.196813Z",
     "iopub.status.idle": "2021-04-27T21:09:12.202513Z",
     "shell.execute_reply": "2021-04-27T21:09:12.201706Z",
     "shell.execute_reply.started": "2021-04-27T21:09:12.197102Z"
    },
    "tags": []
   },
   "outputs": [
    {
     "data": {
      "text/plain": [
       "False"
      ]
     },
     "execution_count": 10,
     "metadata": {},
     "output_type": "execute_result"
    }
   ],
   "source": [
    "False # Faux"
   ]
  },
  {
   "cell_type": "markdown",
   "id": "2c2e1425-340d-4d53-9d03-34745f687ff7",
   "metadata": {},
   "source": [
    "On peut les comparer"
   ]
  },
  {
   "cell_type": "code",
   "execution_count": 22,
   "id": "cf7607a0-cf90-41a7-b803-fec4f1cc253b",
   "metadata": {
    "execution": {
     "iopub.execute_input": "2021-04-27T21:10:51.002846Z",
     "iopub.status.busy": "2021-04-27T21:10:51.002637Z",
     "iopub.status.idle": "2021-04-27T21:10:51.006702Z",
     "shell.execute_reply": "2021-04-27T21:10:51.006091Z",
     "shell.execute_reply.started": "2021-04-27T21:10:51.002821Z"
    },
    "tags": []
   },
   "outputs": [
    {
     "data": {
      "text/plain": [
       "True"
      ]
     },
     "execution_count": 22,
     "metadata": {},
     "output_type": "execute_result"
    }
   ],
   "source": [
    "True == True"
   ]
  },
  {
   "cell_type": "code",
   "execution_count": 23,
   "id": "73e03b4c-775b-4525-9087-7d35a04e2c98",
   "metadata": {
    "execution": {
     "iopub.execute_input": "2021-04-27T21:10:51.483968Z",
     "iopub.status.busy": "2021-04-27T21:10:51.483761Z",
     "iopub.status.idle": "2021-04-27T21:10:51.487206Z",
     "shell.execute_reply": "2021-04-27T21:10:51.486772Z",
     "shell.execute_reply.started": "2021-04-27T21:10:51.483944Z"
    },
    "tags": []
   },
   "outputs": [
    {
     "data": {
      "text/plain": [
       "False"
      ]
     },
     "execution_count": 23,
     "metadata": {},
     "output_type": "execute_result"
    }
   ],
   "source": [
    "True == False"
   ]
  },
  {
   "cell_type": "code",
   "execution_count": 24,
   "id": "1f7c1c43-67fc-4c70-8c9e-bf3d675f5e5d",
   "metadata": {
    "execution": {
     "iopub.execute_input": "2021-04-27T21:10:51.815036Z",
     "iopub.status.busy": "2021-04-27T21:10:51.814841Z",
     "iopub.status.idle": "2021-04-27T21:10:51.818505Z",
     "shell.execute_reply": "2021-04-27T21:10:51.817897Z",
     "shell.execute_reply.started": "2021-04-27T21:10:51.815014Z"
    },
    "tags": []
   },
   "outputs": [
    {
     "data": {
      "text/plain": [
       "True"
      ]
     },
     "execution_count": 24,
     "metadata": {},
     "output_type": "execute_result"
    }
   ],
   "source": [
    "False == False"
   ]
  },
  {
   "cell_type": "markdown",
   "id": "2616f19d-df38-4e94-ba10-a476137a9dfb",
   "metadata": {},
   "source": [
    "On peut comparer d'autres objets, et la comparaison va retourner un booléen."
   ]
  },
  {
   "cell_type": "code",
   "execution_count": 17,
   "id": "5311a979-a601-4059-8302-ef392d2d535e",
   "metadata": {
    "execution": {
     "iopub.execute_input": "2021-04-27T21:10:04.085438Z",
     "iopub.status.busy": "2021-04-27T21:10:04.085251Z",
     "iopub.status.idle": "2021-04-27T21:10:04.089160Z",
     "shell.execute_reply": "2021-04-27T21:10:04.088606Z",
     "shell.execute_reply.started": "2021-04-27T21:10:04.085417Z"
    },
    "tags": []
   },
   "outputs": [
    {
     "data": {
      "text/plain": [
       "True"
      ]
     },
     "execution_count": 17,
     "metadata": {},
     "output_type": "execute_result"
    }
   ],
   "source": [
    "3 == 3"
   ]
  },
  {
   "cell_type": "code",
   "execution_count": 18,
   "id": "0e829a3a-ff5f-4380-9901-b2b61d5e2a70",
   "metadata": {
    "execution": {
     "iopub.execute_input": "2021-04-27T21:10:04.264701Z",
     "iopub.status.busy": "2021-04-27T21:10:04.264470Z",
     "iopub.status.idle": "2021-04-27T21:10:04.267595Z",
     "shell.execute_reply": "2021-04-27T21:10:04.266955Z",
     "shell.execute_reply.started": "2021-04-27T21:10:04.264674Z"
    },
    "tags": []
   },
   "outputs": [],
   "source": [
    "a = 3\n",
    "b = 2"
   ]
  },
  {
   "cell_type": "code",
   "execution_count": 19,
   "id": "15f1cd53-1d92-4c6b-a282-bac61783f5af",
   "metadata": {
    "collapsed": true,
    "execution": {
     "iopub.execute_input": "2021-04-27T21:10:04.437816Z",
     "iopub.status.busy": "2021-04-27T21:10:04.437338Z",
     "iopub.status.idle": "2021-04-27T21:10:04.444301Z",
     "shell.execute_reply": "2021-04-27T21:10:04.443201Z",
     "shell.execute_reply.started": "2021-04-27T21:10:04.437759Z"
    },
    "jupyter": {
     "outputs_hidden": true
    },
    "tags": []
   },
   "outputs": [
    {
     "data": {
      "text/plain": [
       "False"
      ]
     },
     "execution_count": 19,
     "metadata": {},
     "output_type": "execute_result"
    }
   ],
   "source": [
    "a != a"
   ]
  },
  {
   "cell_type": "code",
   "execution_count": 20,
   "id": "ace68422-71c4-4a69-8fa5-fb2a1d8af0fa",
   "metadata": {
    "collapsed": true,
    "execution": {
     "iopub.execute_input": "2021-04-27T21:10:23.473109Z",
     "iopub.status.busy": "2021-04-27T21:10:23.472930Z",
     "iopub.status.idle": "2021-04-27T21:10:23.475986Z",
     "shell.execute_reply": "2021-04-27T21:10:23.475571Z",
     "shell.execute_reply.started": "2021-04-27T21:10:23.473088Z"
    },
    "jupyter": {
     "outputs_hidden": true
    },
    "tags": []
   },
   "outputs": [
    {
     "data": {
      "text/plain": [
       "True"
      ]
     },
     "execution_count": 20,
     "metadata": {},
     "output_type": "execute_result"
    }
   ],
   "source": [
    "a > b"
   ]
  },
  {
   "cell_type": "code",
   "execution_count": 21,
   "id": "848c6acb-7f00-4fae-83b2-745750603083",
   "metadata": {
    "collapsed": true,
    "execution": {
     "iopub.execute_input": "2021-04-27T21:10:30.937751Z",
     "iopub.status.busy": "2021-04-27T21:10:30.937430Z",
     "iopub.status.idle": "2021-04-27T21:10:30.942546Z",
     "shell.execute_reply": "2021-04-27T21:10:30.941817Z",
     "shell.execute_reply.started": "2021-04-27T21:10:30.937713Z"
    },
    "jupyter": {
     "outputs_hidden": true
    },
    "tags": []
   },
   "outputs": [
    {
     "data": {
      "text/plain": [
       "False"
      ]
     },
     "execution_count": 21,
     "metadata": {},
     "output_type": "execute_result"
    }
   ],
   "source": [
    "a > a"
   ]
  },
  {
   "cell_type": "code",
   "execution_count": 27,
   "id": "e14cf475-ac46-444b-9c12-c198f152475f",
   "metadata": {
    "execution": {
     "iopub.execute_input": "2021-04-27T21:11:37.011717Z",
     "iopub.status.busy": "2021-04-27T21:11:37.011512Z",
     "iopub.status.idle": "2021-04-27T21:11:37.015414Z",
     "shell.execute_reply": "2021-04-27T21:11:37.014870Z",
     "shell.execute_reply.started": "2021-04-27T21:11:37.011693Z"
    }
   },
   "outputs": [
    {
     "data": {
      "text/plain": [
       "True"
      ]
     },
     "execution_count": 27,
     "metadata": {},
     "output_type": "execute_result"
    }
   ],
   "source": [
    "a >= a"
   ]
  },
  {
   "cell_type": "markdown",
   "id": "e468dc20-068f-40cb-a1fd-c7e9a2069cd7",
   "metadata": {},
   "source": [
    "Opérateur booléen\n",
    "[doc officielle](https://docs.python.org/3/reference/expressions.html#boolean-operations)  \n",
    "[Doc sur l'ensembles des opérateurs en python](https://www.datacamp.com/community/tutorials/python-operators-tutorial?utm_source=adwords_ppc&utm_campaignid=898687156&utm_adgroupid=48947256715&utm_device=c&utm_keyword=&utm_matchtype=b&utm_network=g&utm_adpostion=&utm_creative=332602034352&utm_targetid=aud-522010995285:dsa-429603003980&utm_loc_interest_ms=&utm_loc_physical_ms=1006356&gclid=CjwKCAjw7J6EBhBDEiwA5UUM2rhDBU74gk9hf-polD-cR7mMcESkG3BVcoqhm3OtMOybovSL6cHqOxoCW0AQAvD_BwE)"
   ]
  },
  {
   "cell_type": "code",
   "execution_count": 34,
   "id": "27710e3f-3cac-4e02-8866-c3818064cb93",
   "metadata": {
    "execution": {
     "iopub.execute_input": "2021-04-27T21:20:26.412021Z",
     "iopub.status.busy": "2021-04-27T21:20:26.411498Z",
     "iopub.status.idle": "2021-04-27T21:20:26.419050Z",
     "shell.execute_reply": "2021-04-27T21:20:26.417913Z",
     "shell.execute_reply.started": "2021-04-27T21:20:26.411966Z"
    }
   },
   "outputs": [
    {
     "data": {
      "text/plain": [
       "False"
      ]
     },
     "execution_count": 34,
     "metadata": {},
     "output_type": "execute_result"
    }
   ],
   "source": [
    "(3 == 3) and (3==2)"
   ]
  },
  {
   "cell_type": "code",
   "execution_count": 35,
   "id": "184020af-3288-4f1c-aea6-38e52131b1a0",
   "metadata": {
    "execution": {
     "iopub.execute_input": "2021-04-27T21:20:33.108289Z",
     "iopub.status.busy": "2021-04-27T21:20:33.107954Z",
     "iopub.status.idle": "2021-04-27T21:20:33.112527Z",
     "shell.execute_reply": "2021-04-27T21:20:33.112016Z",
     "shell.execute_reply.started": "2021-04-27T21:20:33.108251Z"
    }
   },
   "outputs": [
    {
     "data": {
      "text/plain": [
       "True"
      ]
     },
     "execution_count": 35,
     "metadata": {},
     "output_type": "execute_result"
    }
   ],
   "source": [
    "(3 == 3) or (3==2)"
   ]
  },
  {
   "cell_type": "code",
   "execution_count": 40,
   "id": "365b700c-8ce7-401b-9b8c-56de8a6887c7",
   "metadata": {
    "execution": {
     "iopub.execute_input": "2021-04-27T21:21:20.644339Z",
     "iopub.status.busy": "2021-04-27T21:21:20.644136Z",
     "iopub.status.idle": "2021-04-27T21:21:20.647832Z",
     "shell.execute_reply": "2021-04-27T21:21:20.647265Z",
     "shell.execute_reply.started": "2021-04-27T21:21:20.644316Z"
    },
    "tags": []
   },
   "outputs": [
    {
     "data": {
      "text/plain": [
       "True"
      ]
     },
     "execution_count": 40,
     "metadata": {},
     "output_type": "execute_result"
    }
   ],
   "source": [
    " (3 == 3) or (not(3==2))"
   ]
  },
  {
   "cell_type": "markdown",
   "id": "fad7d13f-b8b6-4883-93f4-fbb17b93dec0",
   "metadata": {},
   "source": [
    "En data science on utilise souvent les équivalents en Bitwise `&`, `|`, `~`  (plus rarement `^` (exclusive or -- xor) et (jamais?) `<<` `>>` bitwise left and right shift operator )."
   ]
  },
  {
   "cell_type": "code",
   "execution_count": null,
   "id": "87914f6a-fb58-4480-b1b6-e435a9a91a0b",
   "metadata": {},
   "outputs": [],
   "source": []
  }
 ],
 "metadata": {
  "kernelspec": {
   "display_name": "Python 3",
   "language": "python",
   "name": "python3"
  },
  "language_info": {
   "codemirror_mode": {
    "name": "ipython",
    "version": 3
   },
   "file_extension": ".py",
   "mimetype": "text/x-python",
   "name": "python",
   "nbconvert_exporter": "python",
   "pygments_lexer": "ipython3",
   "version": "3.8.8"
  }
 },
 "nbformat": 4,
 "nbformat_minor": 5
}
