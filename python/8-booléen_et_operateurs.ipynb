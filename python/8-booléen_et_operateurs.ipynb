{
 "cells": [
  {
   "cell_type": "markdown",
   "id": "bd3eccbb-f223-4d9d-9fd4-8cf8a495cbc0",
   "metadata": {},
   "source": [
    "Un booléen est une valeur qui est vrai ou fausse (probablement vu dans le cadre conditions (`if`)"
   ]
  },
  {
   "cell_type": "code",
   "execution_count": 1,
   "id": "c0af7047-db8b-4c85-b9db-43e985c95d97",
   "metadata": {
    "execution": {
     "iopub.execute_input": "2022-04-14T12:31:10.150748Z",
     "iopub.status.busy": "2022-04-14T12:31:10.150546Z",
     "iopub.status.idle": "2022-04-14T12:31:10.154109Z",
     "shell.execute_reply": "2022-04-14T12:31:10.153753Z",
     "shell.execute_reply.started": "2022-04-14T12:31:10.150731Z"
    },
    "tags": []
   },
   "outputs": [
    {
     "data": {
      "text/plain": [
       "True"
      ]
     },
     "execution_count": 1,
     "metadata": {},
     "output_type": "execute_result"
    }
   ],
   "source": [
    "True #vrai"
   ]
  },
  {
   "cell_type": "code",
   "execution_count": 2,
   "id": "7eb2b1b8-290e-48a9-a28c-09b44125e221",
   "metadata": {
    "execution": {
     "iopub.execute_input": "2022-04-14T12:31:12.232298Z",
     "iopub.status.busy": "2022-04-14T12:31:12.232119Z",
     "iopub.status.idle": "2022-04-14T12:31:12.236274Z",
     "shell.execute_reply": "2022-04-14T12:31:12.235672Z",
     "shell.execute_reply.started": "2022-04-14T12:31:12.232281Z"
    },
    "tags": []
   },
   "outputs": [
    {
     "data": {
      "text/plain": [
       "False"
      ]
     },
     "execution_count": 2,
     "metadata": {},
     "output_type": "execute_result"
    }
   ],
   "source": [
    "False # Faux"
   ]
  },
  {
   "cell_type": "markdown",
   "id": "2c2e1425-340d-4d53-9d03-34745f687ff7",
   "metadata": {},
   "source": [
    "On peut les comparer"
   ]
  },
  {
   "cell_type": "code",
   "execution_count": 3,
   "id": "cf7607a0-cf90-41a7-b803-fec4f1cc253b",
   "metadata": {
    "execution": {
     "iopub.execute_input": "2022-04-14T12:31:17.035831Z",
     "iopub.status.busy": "2022-04-14T12:31:17.035617Z",
     "iopub.status.idle": "2022-04-14T12:31:17.039257Z",
     "shell.execute_reply": "2022-04-14T12:31:17.038715Z",
     "shell.execute_reply.started": "2022-04-14T12:31:17.035815Z"
    },
    "tags": []
   },
   "outputs": [
    {
     "data": {
      "text/plain": [
       "True"
      ]
     },
     "execution_count": 3,
     "metadata": {},
     "output_type": "execute_result"
    }
   ],
   "source": [
    "True == True"
   ]
  },
  {
   "cell_type": "code",
   "execution_count": 4,
   "id": "73e03b4c-775b-4525-9087-7d35a04e2c98",
   "metadata": {
    "execution": {
     "iopub.execute_input": "2022-04-14T12:31:20.344143Z",
     "iopub.status.busy": "2022-04-14T12:31:20.343969Z",
     "iopub.status.idle": "2022-04-14T12:31:20.347701Z",
     "shell.execute_reply": "2022-04-14T12:31:20.347157Z",
     "shell.execute_reply.started": "2022-04-14T12:31:20.344111Z"
    },
    "tags": []
   },
   "outputs": [
    {
     "data": {
      "text/plain": [
       "False"
      ]
     },
     "execution_count": 4,
     "metadata": {},
     "output_type": "execute_result"
    }
   ],
   "source": [
    "True == False"
   ]
  },
  {
   "cell_type": "code",
   "execution_count": 5,
   "id": "1f7c1c43-67fc-4c70-8c9e-bf3d675f5e5d",
   "metadata": {
    "execution": {
     "iopub.execute_input": "2022-04-14T12:31:23.135928Z",
     "iopub.status.busy": "2022-04-14T12:31:23.135727Z",
     "iopub.status.idle": "2022-04-14T12:31:23.139466Z",
     "shell.execute_reply": "2022-04-14T12:31:23.139037Z",
     "shell.execute_reply.started": "2022-04-14T12:31:23.135884Z"
    },
    "tags": []
   },
   "outputs": [
    {
     "data": {
      "text/plain": [
       "True"
      ]
     },
     "execution_count": 5,
     "metadata": {},
     "output_type": "execute_result"
    }
   ],
   "source": [
    "False == False"
   ]
  },
  {
   "cell_type": "markdown",
   "id": "2616f19d-df38-4e94-ba10-a476137a9dfb",
   "metadata": {},
   "source": [
    "On peut comparer d'autres objets, et la comparaison va retourner un booléen."
   ]
  },
  {
   "cell_type": "code",
   "execution_count": 6,
   "id": "5311a979-a601-4059-8302-ef392d2d535e",
   "metadata": {
    "execution": {
     "iopub.execute_input": "2022-04-14T12:31:36.166615Z",
     "iopub.status.busy": "2022-04-14T12:31:36.166390Z",
     "iopub.status.idle": "2022-04-14T12:31:36.170238Z",
     "shell.execute_reply": "2022-04-14T12:31:36.169789Z",
     "shell.execute_reply.started": "2022-04-14T12:31:36.166584Z"
    },
    "tags": []
   },
   "outputs": [
    {
     "data": {
      "text/plain": [
       "True"
      ]
     },
     "execution_count": 6,
     "metadata": {},
     "output_type": "execute_result"
    }
   ],
   "source": [
    "3 == 3"
   ]
  },
  {
   "cell_type": "code",
   "execution_count": 7,
   "id": "0e829a3a-ff5f-4380-9901-b2b61d5e2a70",
   "metadata": {
    "execution": {
     "iopub.execute_input": "2022-04-14T12:31:39.072757Z",
     "iopub.status.busy": "2022-04-14T12:31:39.072580Z",
     "iopub.status.idle": "2022-04-14T12:31:39.075384Z",
     "shell.execute_reply": "2022-04-14T12:31:39.074765Z",
     "shell.execute_reply.started": "2022-04-14T12:31:39.072725Z"
    },
    "tags": []
   },
   "outputs": [],
   "source": [
    "a = 3\n",
    "b = 2"
   ]
  },
  {
   "cell_type": "code",
   "execution_count": 8,
   "id": "15f1cd53-1d92-4c6b-a282-bac61783f5af",
   "metadata": {
    "collapsed": true,
    "execution": {
     "iopub.execute_input": "2022-04-14T12:31:49.886983Z",
     "iopub.status.busy": "2022-04-14T12:31:49.886391Z",
     "iopub.status.idle": "2022-04-14T12:31:49.890662Z",
     "shell.execute_reply": "2022-04-14T12:31:49.890198Z",
     "shell.execute_reply.started": "2022-04-14T12:31:49.886958Z"
    },
    "jupyter": {
     "outputs_hidden": true
    },
    "tags": []
   },
   "outputs": [
    {
     "data": {
      "text/plain": [
       "False"
      ]
     },
     "execution_count": 8,
     "metadata": {},
     "output_type": "execute_result"
    }
   ],
   "source": [
    "a != a"
   ]
  },
  {
   "cell_type": "code",
   "execution_count": 9,
   "id": "ace68422-71c4-4a69-8fa5-fb2a1d8af0fa",
   "metadata": {
    "collapsed": true,
    "execution": {
     "iopub.execute_input": "2022-04-14T12:31:53.094238Z",
     "iopub.status.busy": "2022-04-14T12:31:53.094059Z",
     "iopub.status.idle": "2022-04-14T12:31:53.097803Z",
     "shell.execute_reply": "2022-04-14T12:31:53.097419Z",
     "shell.execute_reply.started": "2022-04-14T12:31:53.094220Z"
    },
    "jupyter": {
     "outputs_hidden": true
    },
    "tags": []
   },
   "outputs": [
    {
     "data": {
      "text/plain": [
       "True"
      ]
     },
     "execution_count": 9,
     "metadata": {},
     "output_type": "execute_result"
    }
   ],
   "source": [
    "a > b"
   ]
  },
  {
   "cell_type": "code",
   "execution_count": 10,
   "id": "848c6acb-7f00-4fae-83b2-745750603083",
   "metadata": {
    "collapsed": true,
    "execution": {
     "iopub.execute_input": "2022-04-14T12:32:08.961929Z",
     "iopub.status.busy": "2022-04-14T12:32:08.961764Z",
     "iopub.status.idle": "2022-04-14T12:32:08.965947Z",
     "shell.execute_reply": "2022-04-14T12:32:08.965394Z",
     "shell.execute_reply.started": "2022-04-14T12:32:08.961913Z"
    },
    "jupyter": {
     "outputs_hidden": true
    },
    "tags": []
   },
   "outputs": [
    {
     "data": {
      "text/plain": [
       "False"
      ]
     },
     "execution_count": 10,
     "metadata": {},
     "output_type": "execute_result"
    }
   ],
   "source": [
    "a > a"
   ]
  },
  {
   "cell_type": "code",
   "execution_count": 11,
   "id": "e14cf475-ac46-444b-9c12-c198f152475f",
   "metadata": {
    "collapsed": true,
    "execution": {
     "iopub.execute_input": "2022-04-14T12:32:10.245965Z",
     "iopub.status.busy": "2022-04-14T12:32:10.245786Z",
     "iopub.status.idle": "2022-04-14T12:32:10.249811Z",
     "shell.execute_reply": "2022-04-14T12:32:10.249282Z",
     "shell.execute_reply.started": "2022-04-14T12:32:10.245934Z"
    },
    "jupyter": {
     "outputs_hidden": true
    },
    "tags": []
   },
   "outputs": [
    {
     "data": {
      "text/plain": [
       "True"
      ]
     },
     "execution_count": 11,
     "metadata": {},
     "output_type": "execute_result"
    }
   ],
   "source": [
    "a >= a"
   ]
  },
  {
   "cell_type": "markdown",
   "id": "e468dc20-068f-40cb-a1fd-c7e9a2069cd7",
   "metadata": {},
   "source": [
    "Opérateur booléen\n",
    "[doc officielle](https://docs.python.org/3/reference/expressions.html#boolean-operations)  \n",
    "[Doc sur l'ensembles des opérateurs en python](https://www.datacamp.com/community/tutorials/python-operators-tutorial?utm_source=adwords_ppc&utm_campaignid=898687156&utm_adgroupid=48947256715&utm_device=c&utm_keyword=&utm_matchtype=b&utm_network=g&utm_adpostion=&utm_creative=332602034352&utm_targetid=aud-522010995285:dsa-429603003980&utm_loc_interest_ms=&utm_loc_physical_ms=1006356&gclid=CjwKCAjw7J6EBhBDEiwA5UUM2rhDBU74gk9hf-polD-cR7mMcESkG3BVcoqhm3OtMOybovSL6cHqOxoCW0AQAvD_BwE)"
   ]
  },
  {
   "cell_type": "code",
   "execution_count": 12,
   "id": "27710e3f-3cac-4e02-8866-c3818064cb93",
   "metadata": {
    "execution": {
     "iopub.execute_input": "2022-04-14T12:32:59.934588Z",
     "iopub.status.busy": "2022-04-14T12:32:59.934374Z",
     "iopub.status.idle": "2022-04-14T12:32:59.938240Z",
     "shell.execute_reply": "2022-04-14T12:32:59.937845Z",
     "shell.execute_reply.started": "2022-04-14T12:32:59.934542Z"
    },
    "tags": []
   },
   "outputs": [
    {
     "data": {
      "text/plain": [
       "False"
      ]
     },
     "execution_count": 12,
     "metadata": {},
     "output_type": "execute_result"
    }
   ],
   "source": [
    "(3 == 3) and (3==2)"
   ]
  },
  {
   "cell_type": "code",
   "execution_count": 13,
   "id": "184020af-3288-4f1c-aea6-38e52131b1a0",
   "metadata": {
    "execution": {
     "iopub.execute_input": "2022-04-14T12:33:00.298235Z",
     "iopub.status.busy": "2022-04-14T12:33:00.298046Z",
     "iopub.status.idle": "2022-04-14T12:33:00.302126Z",
     "shell.execute_reply": "2022-04-14T12:33:00.301721Z",
     "shell.execute_reply.started": "2022-04-14T12:33:00.298217Z"
    },
    "tags": []
   },
   "outputs": [
    {
     "data": {
      "text/plain": [
       "True"
      ]
     },
     "execution_count": 13,
     "metadata": {},
     "output_type": "execute_result"
    }
   ],
   "source": [
    "(3 == 3) or (3==2)"
   ]
  },
  {
   "cell_type": "code",
   "execution_count": 14,
   "id": "365b700c-8ce7-401b-9b8c-56de8a6887c7",
   "metadata": {
    "execution": {
     "iopub.execute_input": "2022-04-14T12:33:30.669961Z",
     "iopub.status.busy": "2022-04-14T12:33:30.669518Z",
     "iopub.status.idle": "2022-04-14T12:33:30.673477Z",
     "shell.execute_reply": "2022-04-14T12:33:30.673101Z",
     "shell.execute_reply.started": "2022-04-14T12:33:30.669942Z"
    },
    "tags": []
   },
   "outputs": [
    {
     "data": {
      "text/plain": [
       "True"
      ]
     },
     "execution_count": 14,
     "metadata": {},
     "output_type": "execute_result"
    }
   ],
   "source": [
    " (3 == 3) or (not(3==2))"
   ]
  },
  {
   "cell_type": "code",
   "execution_count": 15,
   "id": "74647774-2427-4d7a-a569-882b77998351",
   "metadata": {
    "collapsed": true,
    "execution": {
     "iopub.execute_input": "2022-04-14T12:33:45.989578Z",
     "iopub.status.busy": "2022-04-14T12:33:45.989399Z",
     "iopub.status.idle": "2022-04-14T12:33:45.993533Z",
     "shell.execute_reply": "2022-04-14T12:33:45.992914Z",
     "shell.execute_reply.started": "2022-04-14T12:33:45.989561Z"
    },
    "jupyter": {
     "outputs_hidden": true
    },
    "tags": []
   },
   "outputs": [
    {
     "data": {
      "text/plain": [
       "True"
      ]
     },
     "execution_count": 15,
     "metadata": {},
     "output_type": "execute_result"
    }
   ],
   "source": [
    " (3 == 3) and (not(3==2))"
   ]
  },
  {
   "cell_type": "markdown",
   "id": "fad7d13f-b8b6-4883-93f4-fbb17b93dec0",
   "metadata": {},
   "source": [
    "En data science on utilise souvent les équivalents en Bitwise `&`, `|`, `~`  (plus rarement `^` (exclusive or -- xor) et encore plus rarement (jamais?) `<<` `>>` bitwise left and right shift operator ), car il permettent de faire une comparaison élément par élément au sein d'un vecteur.\n",
    "\n",
    "- & correcpond au **and**\n",
    "- | correspond au **or**\n",
    "- ~ correspond au **not**"
   ]
  },
  {
   "cell_type": "code",
   "execution_count": 16,
   "id": "87914f6a-fb58-4480-b1b6-e435a9a91a0b",
   "metadata": {
    "execution": {
     "iopub.execute_input": "2022-04-14T12:37:00.884492Z",
     "iopub.status.busy": "2022-04-14T12:37:00.884303Z",
     "iopub.status.idle": "2022-04-14T12:37:00.999191Z",
     "shell.execute_reply": "2022-04-14T12:37:00.997763Z",
     "shell.execute_reply.started": "2022-04-14T12:37:00.884473Z"
    },
    "tags": []
   },
   "outputs": [
    {
     "ename": "ValueError",
     "evalue": "The truth value of an array with more than one element is ambiguous. Use a.any() or a.all()",
     "output_type": "error",
     "traceback": [
      "\u001b[0;31m---------------------------------------------------------------------------\u001b[0m",
      "\u001b[0;31mValueError\u001b[0m                                Traceback (most recent call last)",
      "\u001b[0;32m/tmp/ipykernel_439/2754356586.py\u001b[0m in \u001b[0;36m<module>\u001b[0;34m\u001b[0m\n\u001b[1;32m      1\u001b[0m \u001b[0;32mimport\u001b[0m \u001b[0mnumpy\u001b[0m \u001b[0;32mas\u001b[0m \u001b[0mnp\u001b[0m\u001b[0;34m\u001b[0m\u001b[0;34m\u001b[0m\u001b[0m\n\u001b[0;32m----> 2\u001b[0;31m \u001b[0mnp\u001b[0m\u001b[0;34m.\u001b[0m\u001b[0marray\u001b[0m\u001b[0;34m(\u001b[0m\u001b[0;34m[\u001b[0m\u001b[0;32mTrue\u001b[0m\u001b[0;34m,\u001b[0m\u001b[0;32mTrue\u001b[0m\u001b[0;34m,\u001b[0m \u001b[0;32mFalse\u001b[0m\u001b[0;34m,\u001b[0m \u001b[0;32mTrue\u001b[0m\u001b[0;34m]\u001b[0m\u001b[0;34m)\u001b[0m \u001b[0;32mand\u001b[0m \u001b[0mnp\u001b[0m\u001b[0;34m.\u001b[0m\u001b[0marray\u001b[0m\u001b[0;34m(\u001b[0m\u001b[0;34m[\u001b[0m\u001b[0;32mTrue\u001b[0m\u001b[0;34m,\u001b[0m\u001b[0;32mFalse\u001b[0m\u001b[0;34m,\u001b[0m \u001b[0;32mFalse\u001b[0m\u001b[0;34m,\u001b[0m \u001b[0;32mTrue\u001b[0m\u001b[0;34m]\u001b[0m\u001b[0;34m)\u001b[0m\u001b[0;34m\u001b[0m\u001b[0;34m\u001b[0m\u001b[0m\n\u001b[0m",
      "\u001b[0;31mValueError\u001b[0m: The truth value of an array with more than one element is ambiguous. Use a.any() or a.all()"
     ]
    }
   ],
   "source": [
    "import numpy as np\n",
    "np.array([True,True, False, True]) and np.array([True,False, False, True])"
   ]
  },
  {
   "cell_type": "code",
   "execution_count": 17,
   "id": "8b2cbb10-d326-4af2-af44-1131ec7dae9c",
   "metadata": {
    "execution": {
     "iopub.execute_input": "2022-04-14T12:37:40.358830Z",
     "iopub.status.busy": "2022-04-14T12:37:40.358570Z",
     "iopub.status.idle": "2022-04-14T12:37:40.362805Z",
     "shell.execute_reply": "2022-04-14T12:37:40.362448Z",
     "shell.execute_reply.started": "2022-04-14T12:37:40.358792Z"
    },
    "tags": []
   },
   "outputs": [
    {
     "data": {
      "text/plain": [
       "array([ True, False, False,  True])"
      ]
     },
     "execution_count": 17,
     "metadata": {},
     "output_type": "execute_result"
    }
   ],
   "source": [
    "import numpy as np\n",
    "np.array([True,True, False, True]) & np.array([True,False, False, True])"
   ]
  },
  {
   "cell_type": "code",
   "execution_count": 18,
   "id": "62b665d4-6ad8-4407-a5d1-847e1160a735",
   "metadata": {
    "execution": {
     "iopub.execute_input": "2022-04-14T12:42:20.418001Z",
     "iopub.status.busy": "2022-04-14T12:42:20.417816Z",
     "iopub.status.idle": "2022-04-14T12:42:20.422989Z",
     "shell.execute_reply": "2022-04-14T12:42:20.422497Z",
     "shell.execute_reply.started": "2022-04-14T12:42:20.417982Z"
    },
    "tags": []
   },
   "outputs": [
    {
     "data": {
      "text/plain": [
       "array([ True,  True, False,  True])"
      ]
     },
     "execution_count": 18,
     "metadata": {},
     "output_type": "execute_result"
    }
   ],
   "source": [
    "import numpy as np\n",
    "np.array([True,True, False, True]) | np.array([True,False, False, True])"
   ]
  },
  {
   "cell_type": "code",
   "execution_count": 19,
   "id": "5d94f2c2-23b8-410e-b6d6-32fa75d63052",
   "metadata": {
    "execution": {
     "iopub.execute_input": "2022-04-14T12:42:33.688461Z",
     "iopub.status.busy": "2022-04-14T12:42:33.687906Z",
     "iopub.status.idle": "2022-04-14T12:42:33.692304Z",
     "shell.execute_reply": "2022-04-14T12:42:33.691882Z",
     "shell.execute_reply.started": "2022-04-14T12:42:33.688441Z"
    },
    "tags": []
   },
   "outputs": [
    {
     "data": {
      "text/plain": [
       "array([ True,  True,  True,  True])"
      ]
     },
     "execution_count": 19,
     "metadata": {},
     "output_type": "execute_result"
    }
   ],
   "source": [
    "import numpy as np\n",
    "np.array([True,True, False, True]) | (~np.array([True,False, False, True]))"
   ]
  },
  {
   "cell_type": "code",
   "execution_count": 20,
   "id": "9fcaa5b4-82b2-46e1-801a-92b0d1895af9",
   "metadata": {
    "execution": {
     "iopub.execute_input": "2022-04-14T12:43:18.067064Z",
     "iopub.status.busy": "2022-04-14T12:43:18.066834Z",
     "iopub.status.idle": "2022-04-14T12:43:18.071873Z",
     "shell.execute_reply": "2022-04-14T12:43:18.071281Z",
     "shell.execute_reply.started": "2022-04-14T12:43:18.067029Z"
    },
    "tags": []
   },
   "outputs": [
    {
     "data": {
      "text/plain": [
       "array([False,  True, False, False])"
      ]
     },
     "execution_count": 20,
     "metadata": {},
     "output_type": "execute_result"
    }
   ],
   "source": [
    "import numpy as np\n",
    "np.array([True,True, False, True]) & (~np.array([True,False, False, True]))"
   ]
  },
  {
   "cell_type": "code",
   "execution_count": 21,
   "id": "87d76686-9f03-43de-9280-a8f796c88297",
   "metadata": {
    "execution": {
     "iopub.execute_input": "2022-04-14T12:43:42.730735Z",
     "iopub.status.busy": "2022-04-14T12:43:42.730552Z",
     "iopub.status.idle": "2022-04-14T12:43:42.735003Z",
     "shell.execute_reply": "2022-04-14T12:43:42.734440Z",
     "shell.execute_reply.started": "2022-04-14T12:43:42.730705Z"
    },
    "tags": []
   },
   "outputs": [
    {
     "data": {
      "text/plain": [
       "array([False,  True,  True, False])"
      ]
     },
     "execution_count": 21,
     "metadata": {},
     "output_type": "execute_result"
    }
   ],
   "source": [
    "(~np.array([True,False, False, True]))"
   ]
  },
  {
   "cell_type": "code",
   "execution_count": null,
   "id": "bbaa7564-a6e6-4375-9f08-cf6cbe7c7e89",
   "metadata": {},
   "outputs": [],
   "source": []
  }
 ],
 "metadata": {
  "kernelspec": {
   "display_name": "Python 3 (ipykernel)",
   "language": "python",
   "name": "python3"
  },
  "language_info": {
   "codemirror_mode": {
    "name": "ipython",
    "version": 3
   },
   "file_extension": ".py",
   "mimetype": "text/x-python",
   "name": "python",
   "nbconvert_exporter": "python",
   "pygments_lexer": "ipython3",
   "version": "3.7.12"
  }
 },
 "nbformat": 4,
 "nbformat_minor": 5
}
