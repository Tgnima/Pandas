{
 "cells": [
  {
   "cell_type": "markdown",
   "id": "3075afb6-6cbb-4f14-9366-95dcdae80051",
   "metadata": {},
   "source": [
    "### Exporter son environnement en python "
   ]
  },
  {
   "cell_type": "markdown",
   "id": "b398f479-99e1-4b7f-8bbb-7aecbfbee6ae",
   "metadata": {},
   "source": [
    "#### Python avec requirements.txt"
   ]
  },
  {
   "cell_type": "markdown",
   "id": "bb413d48-7423-46d9-8ae1-0ea95ca24faf",
   "metadata": {},
   "source": [
    "`pip freeze > requirements.txt`"
   ]
  },
  {
   "cell_type": "markdown",
   "id": "be6c0fd7-dccb-4f7a-880a-998131ab7380",
   "metadata": {},
   "source": [
    "#### Avec miniconda/conda "
   ]
  },
  {
   "cell_type": "markdown",
   "id": "f3362eb9-d58e-4533-85fb-0e67254adcd8",
   "metadata": {},
   "source": [
    "`conda env export > environment.yml`"
   ]
  }
 ],
 "metadata": {
  "kernelspec": {
   "display_name": "Python 3 (ipykernel)",
   "language": "python",
   "name": "python3"
  },
  "language_info": {
   "codemirror_mode": {
    "name": "ipython",
    "version": 3
   },
   "file_extension": ".py",
   "mimetype": "text/x-python",
   "name": "python",
   "nbconvert_exporter": "python",
   "pygments_lexer": "ipython3",
   "version": "3.7.12"
  }
 },
 "nbformat": 4,
 "nbformat_minor": 5
}
