{
 "cells": [
  {
   "cell_type": "code",
   "execution_count": 1,
   "id": "0e12e7ff-87e0-4465-aa4f-395bde665a1c",
   "metadata": {
    "execution": {
     "iopub.execute_input": "2022-04-14T12:13:29.308353Z",
     "iopub.status.busy": "2022-04-14T12:13:29.308143Z",
     "iopub.status.idle": "2022-04-14T12:13:29.311269Z",
     "shell.execute_reply": "2022-04-14T12:13:29.310689Z",
     "shell.execute_reply.started": "2022-04-14T12:13:29.308308Z"
    },
    "tags": []
   },
   "outputs": [],
   "source": [
    "import os"
   ]
  },
  {
   "cell_type": "code",
   "execution_count": 4,
   "id": "1b5f2923-5892-4c80-b025-a4b7af0d077d",
   "metadata": {
    "execution": {
     "iopub.execute_input": "2022-04-14T12:14:50.707583Z",
     "iopub.status.busy": "2022-04-14T12:14:50.706988Z",
     "iopub.status.idle": "2022-04-14T12:14:50.710936Z",
     "shell.execute_reply": "2022-04-14T12:14:50.710611Z",
     "shell.execute_reply.started": "2022-04-14T12:14:50.707564Z"
    },
    "tags": []
   },
   "outputs": [
    {
     "data": {
      "text/plain": [
       "'/home/adrienpacifico/python'"
      ]
     },
     "execution_count": 4,
     "metadata": {},
     "output_type": "execute_result"
    }
   ],
   "source": [
    "os.getcwd()"
   ]
  },
  {
   "cell_type": "code",
   "execution_count": 5,
   "id": "8c91ac07-5d05-4f4d-83c4-7410f51eb44f",
   "metadata": {
    "execution": {
     "iopub.execute_input": "2022-04-14T12:14:58.775431Z",
     "iopub.status.busy": "2022-04-14T12:14:58.774794Z",
     "iopub.status.idle": "2022-04-14T12:14:58.778775Z",
     "shell.execute_reply": "2022-04-14T12:14:58.778389Z",
     "shell.execute_reply.started": "2022-04-14T12:14:58.775410Z"
    },
    "tags": []
   },
   "outputs": [
    {
     "data": {
      "text/plain": [
       "['7-os.ipynb',\n",
       " '.ipynb_checkpoints',\n",
       " '2-zen_of_python.ipynb',\n",
       " 'Introduction.ipynb',\n",
       " '999-exporter_son_environnement',\n",
       " 'data',\n",
       " '0-Mettre_en_place_son_environnement_jupyter.ipynb',\n",
       " '5-View_vs_copy.ipynb',\n",
       " '4-Functions.ipynb',\n",
       " '3-load_modules.ipynb',\n",
       " '8-booléen_et_operateurs.ipynb',\n",
       " '.pytest_cache',\n",
       " '1-python_introduction.ipynb',\n",
       " '6-assert_et_try_except.ipynb',\n",
       " 'print_hello.txt']"
      ]
     },
     "execution_count": 5,
     "metadata": {},
     "output_type": "execute_result"
    }
   ],
   "source": [
    "os.listdir()"
   ]
  },
  {
   "cell_type": "code",
   "execution_count": 7,
   "id": "7de213cc-c97e-43a6-a565-f38c8da3c1af",
   "metadata": {
    "execution": {
     "iopub.execute_input": "2022-04-14T12:15:30.368842Z",
     "iopub.status.busy": "2022-04-14T12:15:30.368638Z",
     "iopub.status.idle": "2022-04-14T12:15:30.372727Z",
     "shell.execute_reply": "2022-04-14T12:15:30.372413Z",
     "shell.execute_reply.started": "2022-04-14T12:15:30.368823Z"
    },
    "tags": []
   },
   "outputs": [
    {
     "data": {
      "text/plain": [
       "['.jupyter',\n",
       " 'binder',\n",
       " 'python',\n",
       " '.cache',\n",
       " 'plot',\n",
       " '.ipynb_checkpoints',\n",
       " 'Download',\n",
       " '.gitignore',\n",
       " 'statsmodels',\n",
       " '.local',\n",
       " '.conda',\n",
       " '.git',\n",
       " '.ipython',\n",
       " 'Untitled.ipynb',\n",
       " '.jupyter-server-log.txt',\n",
       " 'Makefile',\n",
       " 'pandas',\n",
       " 'jupyter_config.json',\n",
       " '.darts',\n",
       " '.bash_history',\n",
       " 'coucou_louisa.ipynb',\n",
       " 'Untitled1.ipynb',\n",
       " '.vscode',\n",
       " '.python_history',\n",
       " '.config',\n",
       " '.ssh',\n",
       " 'Dockerfile',\n",
       " 'README.md']"
      ]
     },
     "execution_count": 7,
     "metadata": {},
     "output_type": "execute_result"
    }
   ],
   "source": [
    "os.listdir(\"../\")"
   ]
  },
  {
   "cell_type": "code",
   "execution_count": 8,
   "id": "20a7d2e7-7cb0-41ba-b4a1-922e073d3118",
   "metadata": {
    "execution": {
     "iopub.execute_input": "2022-04-14T12:16:01.267510Z",
     "iopub.status.busy": "2022-04-14T12:16:01.267302Z",
     "iopub.status.idle": "2022-04-14T12:16:01.271635Z",
     "shell.execute_reply": "2022-04-14T12:16:01.271141Z",
     "shell.execute_reply.started": "2022-04-14T12:16:01.267492Z"
    },
    "tags": []
   },
   "outputs": [
    {
     "data": {
      "text/plain": [
       "['View_vs_copy.ipynb',\n",
       " '4.1-Combining_data.ipynb',\n",
       " 'x-time_series.ipynb',\n",
       " '.ipynb_checkpoints',\n",
       " '4.0-grouping.ipynb',\n",
       " '7-travailler_avec_des_string.ipynb',\n",
       " '1-introduction_a_pandas.ipynb',\n",
       " 'images',\n",
       " '6-apply_applymap_transform_agg.ipynb',\n",
       " '4.2-Reshaping_data.ipynb',\n",
       " '3.1-Les_fondamentaux(selectionner).ipynb',\n",
       " 'learning_ressources.md',\n",
       " '3.0_operations.ipynb',\n",
       " '11-Performance.ipynb',\n",
       " '9-modern_pandas.ipynb',\n",
       " 'exercices',\n",
       " '3.2-filtrer.ipynb',\n",
       " '8-les_types.ipynb',\n",
       " 'x-Styling_dataframe.ipynb',\n",
       " '2-la_dataframe_et_la_serie.ipynb',\n",
       " '8-Lire_et_enregistrer_un_fichier.ipynb',\n",
       " 'pandas(and_python)_trap.ipynb']"
      ]
     },
     "execution_count": 8,
     "metadata": {},
     "output_type": "execute_result"
    }
   ],
   "source": [
    "os.chdir('../pandas')\n",
    "os.listdir()"
   ]
  },
  {
   "cell_type": "code",
   "execution_count": 9,
   "id": "3bb8d1d2-8f20-4ed0-9942-7b695317bca7",
   "metadata": {
    "execution": {
     "iopub.execute_input": "2022-04-14T12:16:11.621158Z",
     "iopub.status.busy": "2022-04-14T12:16:11.620951Z",
     "iopub.status.idle": "2022-04-14T12:16:11.625172Z",
     "shell.execute_reply": "2022-04-14T12:16:11.624731Z",
     "shell.execute_reply.started": "2022-04-14T12:16:11.621112Z"
    },
    "tags": []
   },
   "outputs": [
    {
     "data": {
      "text/plain": [
       "'/home/adrienpacifico/python'"
      ]
     },
     "execution_count": 9,
     "metadata": {},
     "output_type": "execute_result"
    }
   ],
   "source": [
    "os.chdir('../python')\n",
    "os.getcwd()"
   ]
  },
  {
   "cell_type": "code",
   "execution_count": 11,
   "id": "34dc3803-11dc-42a5-98b3-f39e3ec434a3",
   "metadata": {
    "execution": {
     "iopub.execute_input": "2022-04-14T12:17:12.734880Z",
     "iopub.status.busy": "2022-04-14T12:17:12.734646Z",
     "iopub.status.idle": "2022-04-14T12:17:12.786477Z",
     "shell.execute_reply": "2022-04-14T12:17:12.785782Z",
     "shell.execute_reply.started": "2022-04-14T12:17:12.734848Z"
    },
    "tags": []
   },
   "outputs": [
    {
     "ename": "FileExistsError",
     "evalue": "[Errno 17] File exists: 'data'",
     "output_type": "error",
     "traceback": [
      "\u001b[0;31m---------------------------------------------------------------------------\u001b[0m",
      "\u001b[0;31mFileExistsError\u001b[0m                           Traceback (most recent call last)",
      "\u001b[0;32m/tmp/ipykernel_410/3294626656.py\u001b[0m in \u001b[0;36m<module>\u001b[0;34m\u001b[0m\n\u001b[0;32m----> 1\u001b[0;31m \u001b[0mos\u001b[0m\u001b[0;34m.\u001b[0m\u001b[0mmkdir\u001b[0m\u001b[0;34m(\u001b[0m\u001b[0;34m\"data\"\u001b[0m\u001b[0;34m)\u001b[0m\u001b[0;34m\u001b[0m\u001b[0;34m\u001b[0m\u001b[0m\n\u001b[0m",
      "\u001b[0;31mFileExistsError\u001b[0m: [Errno 17] File exists: 'data'"
     ]
    }
   ],
   "source": [
    "os.mkdir(\"data\")"
   ]
  },
  {
   "cell_type": "code",
   "execution_count": 15,
   "id": "9f20e032-7c66-41bc-a8b6-27f62f4617e7",
   "metadata": {
    "execution": {
     "iopub.execute_input": "2022-04-14T12:18:33.022183Z",
     "iopub.status.busy": "2022-04-14T12:18:33.021998Z",
     "iopub.status.idle": "2022-04-14T12:18:33.025302Z",
     "shell.execute_reply": "2022-04-14T12:18:33.024673Z",
     "shell.execute_reply.started": "2022-04-14T12:18:33.022164Z"
    },
    "tags": []
   },
   "outputs": [],
   "source": [
    "os.mkdir(\"data2\")"
   ]
  },
  {
   "cell_type": "code",
   "execution_count": 17,
   "id": "1856281b-a86d-4b9b-9829-a2f15b08fa75",
   "metadata": {
    "execution": {
     "iopub.execute_input": "2022-04-14T12:18:42.355324Z",
     "iopub.status.busy": "2022-04-14T12:18:42.355083Z",
     "iopub.status.idle": "2022-04-14T12:18:42.362257Z",
     "shell.execute_reply": "2022-04-14T12:18:42.361563Z",
     "shell.execute_reply.started": "2022-04-14T12:18:42.355298Z"
    },
    "tags": []
   },
   "outputs": [
    {
     "ename": "FileNotFoundError",
     "evalue": "[Errno 2] No such file or directory: 'data2'",
     "output_type": "error",
     "traceback": [
      "\u001b[0;31m---------------------------------------------------------------------------\u001b[0m",
      "\u001b[0;31mFileNotFoundError\u001b[0m                         Traceback (most recent call last)",
      "\u001b[0;32m/tmp/ipykernel_410/2408092305.py\u001b[0m in \u001b[0;36m<module>\u001b[0;34m\u001b[0m\n\u001b[0;32m----> 1\u001b[0;31m \u001b[0mos\u001b[0m\u001b[0;34m.\u001b[0m\u001b[0mrmdir\u001b[0m\u001b[0;34m(\u001b[0m\u001b[0;34m\"data2\"\u001b[0m\u001b[0;34m)\u001b[0m\u001b[0;34m\u001b[0m\u001b[0;34m\u001b[0m\u001b[0m\n\u001b[0m",
      "\u001b[0;31mFileNotFoundError\u001b[0m: [Errno 2] No such file or directory: 'data2'"
     ]
    }
   ],
   "source": [
    "os.rmdir(\"data2\")"
   ]
  },
  {
   "cell_type": "code",
   "execution_count": 14,
   "id": "1ddab57b-949b-4c6a-b903-49e4b88dd918",
   "metadata": {
    "execution": {
     "iopub.execute_input": "2022-04-14T12:18:15.836727Z",
     "iopub.status.busy": "2022-04-14T12:18:15.836552Z",
     "iopub.status.idle": "2022-04-14T12:18:15.839322Z",
     "shell.execute_reply": "2022-04-14T12:18:15.838880Z",
     "shell.execute_reply.started": "2022-04-14T12:18:15.836698Z"
    },
    "tags": []
   },
   "outputs": [],
   "source": [
    "mypath = os.getcwd()"
   ]
  },
  {
   "cell_type": "markdown",
   "id": "7f40581f-cb73-4d2e-a380-7c1310f6dc04",
   "metadata": {},
   "source": [
    "### Lister tous les fichiers dans un dossier "
   ]
  },
  {
   "cell_type": "code",
   "execution_count": 18,
   "id": "a7b9e470-d036-4609-bf3c-e6783472ad4b",
   "metadata": {
    "execution": {
     "iopub.execute_input": "2022-04-14T12:18:57.494033Z",
     "iopub.status.busy": "2022-04-14T12:18:57.493392Z",
     "iopub.status.idle": "2022-04-14T12:18:57.496791Z",
     "shell.execute_reply": "2022-04-14T12:18:57.496281Z",
     "shell.execute_reply.started": "2022-04-14T12:18:57.494011Z"
    },
    "tags": []
   },
   "outputs": [],
   "source": [
    "from os import walk\n",
    "\n",
    "_, _, filenames = next(walk(mypath))"
   ]
  },
  {
   "cell_type": "code",
   "execution_count": 19,
   "id": "17831590-5c7f-42d3-a89d-26912bd6adeb",
   "metadata": {
    "execution": {
     "iopub.execute_input": "2022-04-14T12:18:57.917721Z",
     "iopub.status.busy": "2022-04-14T12:18:57.917560Z",
     "iopub.status.idle": "2022-04-14T12:18:57.921195Z",
     "shell.execute_reply": "2022-04-14T12:18:57.920886Z",
     "shell.execute_reply.started": "2022-04-14T12:18:57.917705Z"
    },
    "tags": []
   },
   "outputs": [
    {
     "data": {
      "text/plain": [
       "['7-os.ipynb',\n",
       " '2-zen_of_python.ipynb',\n",
       " 'Introduction.ipynb',\n",
       " '0-Mettre_en_place_son_environnement_jupyter.ipynb',\n",
       " '5-View_vs_copy.ipynb',\n",
       " '4-Functions.ipynb',\n",
       " '3-load_modules.ipynb',\n",
       " '8-booléen_et_operateurs.ipynb',\n",
       " '1-python_introduction.ipynb',\n",
       " '6-assert_et_try_except.ipynb',\n",
       " 'print_hello.txt']"
      ]
     },
     "execution_count": 19,
     "metadata": {},
     "output_type": "execute_result"
    }
   ],
   "source": [
    "filenames"
   ]
  },
  {
   "cell_type": "code",
   "execution_count": null,
   "id": "cf97d6da-ba90-43a8-8638-4739873f660c",
   "metadata": {},
   "outputs": [],
   "source": []
  }
 ],
 "metadata": {
  "kernelspec": {
   "display_name": "Python 3 (ipykernel)",
   "language": "python",
   "name": "python3"
  },
  "language_info": {
   "codemirror_mode": {
    "name": "ipython",
    "version": 3
   },
   "file_extension": ".py",
   "mimetype": "text/x-python",
   "name": "python",
   "nbconvert_exporter": "python",
   "pygments_lexer": "ipython3",
   "version": "3.7.12"
  }
 },
 "nbformat": 4,
 "nbformat_minor": 5
}
