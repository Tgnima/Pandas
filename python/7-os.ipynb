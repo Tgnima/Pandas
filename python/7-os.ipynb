{
 "cells": [
  {
   "cell_type": "code",
   "execution_count": 1,
   "id": "0e12e7ff-87e0-4465-aa4f-395bde665a1c",
   "metadata": {
    "execution": {
     "iopub.execute_input": "2021-04-27T20:44:32.948399Z",
     "iopub.status.busy": "2021-04-27T20:44:32.948163Z",
     "iopub.status.idle": "2021-04-27T20:44:32.951544Z",
     "shell.execute_reply": "2021-04-27T20:44:32.950861Z",
     "shell.execute_reply.started": "2021-04-27T20:44:32.948372Z"
    }
   },
   "outputs": [],
   "source": [
    "from os import walk\n",
    "import os"
   ]
  },
  {
   "cell_type": "code",
   "execution_count": 4,
   "id": "1b5f2923-5892-4c80-b025-a4b7af0d077d",
   "metadata": {
    "execution": {
     "iopub.execute_input": "2021-04-27T20:44:57.069156Z",
     "iopub.status.busy": "2021-04-27T20:44:57.068931Z",
     "iopub.status.idle": "2021-04-27T20:44:57.072839Z",
     "shell.execute_reply": "2021-04-27T20:44:57.072262Z",
     "shell.execute_reply.started": "2021-04-27T20:44:57.069130Z"
    },
    "tags": []
   },
   "outputs": [
    {
     "data": {
      "text/plain": [
       "'/home/adrienpacifico/Projects/cours/python_for_data_science/python'"
      ]
     },
     "execution_count": 4,
     "metadata": {},
     "output_type": "execute_result"
    }
   ],
   "source": [
    "os.getcwd()"
   ]
  },
  {
   "cell_type": "code",
   "execution_count": 5,
   "id": "8c91ac07-5d05-4f4d-83c4-7410f51eb44f",
   "metadata": {
    "execution": {
     "iopub.execute_input": "2021-04-27T20:45:09.598320Z",
     "iopub.status.busy": "2021-04-27T20:45:09.598095Z",
     "iopub.status.idle": "2021-04-27T20:45:09.602824Z",
     "shell.execute_reply": "2021-04-27T20:45:09.602144Z",
     "shell.execute_reply.started": "2021-04-27T20:45:09.598295Z"
    }
   },
   "outputs": [
    {
     "data": {
      "text/plain": [
       "['7-os.ipynb',\n",
       " '.ipynb_checkpoints',\n",
       " '2-zen_of_python.ipynb',\n",
       " 'data',\n",
       " '5-View_vs_copy.ipynb',\n",
       " '4-Functions.ipynb',\n",
       " '3-load_modules.ipynb',\n",
       " '1-python_introduction.ipynb',\n",
       " '6-assert_et_try_except.ipynb']"
      ]
     },
     "execution_count": 5,
     "metadata": {},
     "output_type": "execute_result"
    }
   ],
   "source": [
    "os.listdir()"
   ]
  },
  {
   "cell_type": "code",
   "execution_count": 9,
   "id": "7de213cc-c97e-43a6-a565-f38c8da3c1af",
   "metadata": {
    "execution": {
     "iopub.execute_input": "2021-04-27T20:45:33.097289Z",
     "iopub.status.busy": "2021-04-27T20:45:33.097107Z",
     "iopub.status.idle": "2021-04-27T20:45:33.100803Z",
     "shell.execute_reply": "2021-04-27T20:45:33.100272Z",
     "shell.execute_reply.started": "2021-04-27T20:45:33.097269Z"
    },
    "tags": []
   },
   "outputs": [
    {
     "data": {
      "text/plain": [
       "['deces-2020.txt',\n",
       " 'python',\n",
       " 'test.py',\n",
       " '.ipynb_checkpoints',\n",
       " 'Download',\n",
       " 'Ressources.ipynb',\n",
       " 'lecture_table_deces.ipynb',\n",
       " 'covd_en_années_perdues.ipynb',\n",
       " 'deces-2021-m02.txt',\n",
       " 'projet_covid',\n",
       " 'projet_immobilier',\n",
       " 'images',\n",
       " 'Untitled.ipynb',\n",
       " 'pandas',\n",
       " 'data',\n",
       " '.README.md.swp',\n",
       " 'notes.md',\n",
       " 'morta_niv_2016.xls',\n",
       " 'plot_figures',\n",
       " 'Untitled1.ipynb',\n",
       " '.idea',\n",
       " 'projet_accident_de_la_route',\n",
       " '.virtual_documents',\n",
       " 'pland_de_cours.md']"
      ]
     },
     "execution_count": 9,
     "metadata": {},
     "output_type": "execute_result"
    }
   ],
   "source": [
    "os.listdir(\"../\")"
   ]
  },
  {
   "cell_type": "code",
   "execution_count": 11,
   "id": "20a7d2e7-7cb0-41ba-b4a1-922e073d3118",
   "metadata": {
    "execution": {
     "iopub.execute_input": "2021-04-27T20:46:57.155542Z",
     "iopub.status.busy": "2021-04-27T20:46:57.155330Z",
     "iopub.status.idle": "2021-04-27T20:46:57.159362Z",
     "shell.execute_reply": "2021-04-27T20:46:57.158906Z",
     "shell.execute_reply.started": "2021-04-27T20:46:57.155518Z"
    },
    "tags": []
   },
   "outputs": [
    {
     "data": {
      "text/plain": [
       "['View_vs_copy.ipynb',\n",
       " '.ipynb_checkpoints',\n",
       " 'x-modern_pandas.ipynb',\n",
       " '1-introduction_a_pandas.ipynb',\n",
       " 'images',\n",
       " '3-Les_fondamentaux(selectionner).ipynb',\n",
       " '4-Reshaping_data.ipynb',\n",
       " 'apply_applymap_transform_agg.ipynb',\n",
       " 'les_types.ipynb',\n",
       " 'exercices',\n",
       " 'Lire_un_fichier.ipynb',\n",
       " '2-la_dataframe_et_la_serie.ipynb',\n",
       " 'pandas(and_python)_trap.ipynb']"
      ]
     },
     "execution_count": 11,
     "metadata": {},
     "output_type": "execute_result"
    }
   ],
   "source": [
    "os.chdir('../pandas')\n",
    "os.listdir()"
   ]
  },
  {
   "cell_type": "code",
   "execution_count": 13,
   "id": "3bb8d1d2-8f20-4ed0-9942-7b695317bca7",
   "metadata": {
    "execution": {
     "iopub.execute_input": "2021-04-27T20:47:43.186790Z",
     "iopub.status.busy": "2021-04-27T20:47:43.186533Z",
     "iopub.status.idle": "2021-04-27T20:47:43.190257Z",
     "shell.execute_reply": "2021-04-27T20:47:43.189758Z",
     "shell.execute_reply.started": "2021-04-27T20:47:43.186757Z"
    },
    "tags": []
   },
   "outputs": [
    {
     "data": {
      "text/plain": [
       "'/home/adrienpacifico/Projects/cours/python_for_data_science/python'"
      ]
     },
     "execution_count": 13,
     "metadata": {},
     "output_type": "execute_result"
    }
   ],
   "source": [
    "os.chdir('../python')\n",
    "os.getcwd()"
   ]
  },
  {
   "cell_type": "code",
   "execution_count": 14,
   "id": "34dc3803-11dc-42a5-98b3-f39e3ec434a3",
   "metadata": {
    "execution": {
     "iopub.execute_input": "2021-04-27T20:48:00.301111Z",
     "iopub.status.busy": "2021-04-27T20:48:00.300357Z",
     "iopub.status.idle": "2021-04-27T20:48:00.309763Z",
     "shell.execute_reply": "2021-04-27T20:48:00.309123Z",
     "shell.execute_reply.started": "2021-04-27T20:48:00.301008Z"
    }
   },
   "outputs": [
    {
     "ename": "FileExistsError",
     "evalue": "[Errno 17] File exists: 'data'",
     "output_type": "error",
     "traceback": [
      "\u001b[0;31m---------------------------------------------------------------------------\u001b[0m",
      "\u001b[0;31mFileExistsError\u001b[0m                           Traceback (most recent call last)",
      "\u001b[0;32m<ipython-input-14-ad3f46ea0811>\u001b[0m in \u001b[0;36m<module>\u001b[0;34m\u001b[0m\n\u001b[0;32m----> 1\u001b[0;31m \u001b[0mos\u001b[0m\u001b[0;34m.\u001b[0m\u001b[0mmkdir\u001b[0m\u001b[0;34m(\u001b[0m\u001b[0;34m\"data\"\u001b[0m\u001b[0;34m)\u001b[0m\u001b[0;34m\u001b[0m\u001b[0;34m\u001b[0m\u001b[0m\n\u001b[0m",
      "\u001b[0;31mFileExistsError\u001b[0m: [Errno 17] File exists: 'data'"
     ]
    }
   ],
   "source": [
    "os.mkdir(\"data\")"
   ]
  },
  {
   "cell_type": "code",
   "execution_count": 15,
   "id": "9f20e032-7c66-41bc-a8b6-27f62f4617e7",
   "metadata": {
    "execution": {
     "iopub.execute_input": "2021-04-27T20:48:35.624553Z",
     "iopub.status.busy": "2021-04-27T20:48:35.624245Z",
     "iopub.status.idle": "2021-04-27T20:48:35.627933Z",
     "shell.execute_reply": "2021-04-27T20:48:35.627268Z",
     "shell.execute_reply.started": "2021-04-27T20:48:35.624517Z"
    }
   },
   "outputs": [],
   "source": [
    "os.mkdir(\"data2\")"
   ]
  },
  {
   "cell_type": "code",
   "execution_count": 16,
   "id": "1856281b-a86d-4b9b-9829-a2f15b08fa75",
   "metadata": {
    "execution": {
     "iopub.execute_input": "2021-04-27T20:48:45.552248Z",
     "iopub.status.busy": "2021-04-27T20:48:45.551533Z",
     "iopub.status.idle": "2021-04-27T20:48:45.557683Z",
     "shell.execute_reply": "2021-04-27T20:48:45.556445Z",
     "shell.execute_reply.started": "2021-04-27T20:48:45.552156Z"
    }
   },
   "outputs": [],
   "source": [
    "os.rmdir(\"data2\")"
   ]
  },
  {
   "cell_type": "code",
   "execution_count": 17,
   "id": "1ddab57b-949b-4c6a-b903-49e4b88dd918",
   "metadata": {
    "execution": {
     "iopub.execute_input": "2021-04-27T20:50:26.808034Z",
     "iopub.status.busy": "2021-04-27T20:50:26.807811Z",
     "iopub.status.idle": "2021-04-27T20:50:26.810821Z",
     "shell.execute_reply": "2021-04-27T20:50:26.810247Z",
     "shell.execute_reply.started": "2021-04-27T20:50:26.808008Z"
    }
   },
   "outputs": [],
   "source": [
    "mypath = os.getcwd()"
   ]
  },
  {
   "cell_type": "markdown",
   "id": "7f40581f-cb73-4d2e-a380-7c1310f6dc04",
   "metadata": {},
   "source": [
    "### Lister tous les fichiers dans un dossier "
   ]
  },
  {
   "cell_type": "code",
   "execution_count": 18,
   "id": "a7b9e470-d036-4609-bf3c-e6783472ad4b",
   "metadata": {
    "execution": {
     "iopub.execute_input": "2021-04-27T20:50:29.638956Z",
     "iopub.status.busy": "2021-04-27T20:50:29.638735Z",
     "iopub.status.idle": "2021-04-27T20:50:29.642339Z",
     "shell.execute_reply": "2021-04-27T20:50:29.641629Z",
     "shell.execute_reply.started": "2021-04-27T20:50:29.638931Z"
    }
   },
   "outputs": [],
   "source": [
    "_, _, filenames = next(walk(mypath))"
   ]
  },
  {
   "cell_type": "code",
   "execution_count": 20,
   "id": "17831590-5c7f-42d3-a89d-26912bd6adeb",
   "metadata": {
    "execution": {
     "iopub.execute_input": "2021-04-27T20:50:35.608661Z",
     "iopub.status.busy": "2021-04-27T20:50:35.608497Z",
     "iopub.status.idle": "2021-04-27T20:50:35.611262Z",
     "shell.execute_reply": "2021-04-27T20:50:35.610926Z",
     "shell.execute_reply.started": "2021-04-27T20:50:35.608642Z"
    },
    "tags": []
   },
   "outputs": [
    {
     "data": {
      "text/plain": [
       "['7-os.ipynb',\n",
       " '2-zen_of_python.ipynb',\n",
       " '5-View_vs_copy.ipynb',\n",
       " '4-Functions.ipynb',\n",
       " '3-load_modules.ipynb',\n",
       " '1-python_introduction.ipynb',\n",
       " '6-assert_et_try_except.ipynb']"
      ]
     },
     "execution_count": 20,
     "metadata": {},
     "output_type": "execute_result"
    }
   ],
   "source": [
    "filenames"
   ]
  },
  {
   "cell_type": "code",
   "execution_count": null,
   "id": "cf97d6da-ba90-43a8-8638-4739873f660c",
   "metadata": {},
   "outputs": [],
   "source": []
  }
 ],
 "metadata": {
  "kernelspec": {
   "display_name": "Python 3",
   "language": "python",
   "name": "python3"
  },
  "language_info": {
   "codemirror_mode": {
    "name": "ipython",
    "version": 3
   },
   "file_extension": ".py",
   "mimetype": "text/x-python",
   "name": "python",
   "nbconvert_exporter": "python",
   "pygments_lexer": "ipython3",
   "version": "3.8.8"
  }
 },
 "nbformat": 4,
 "nbformat_minor": 5
}
