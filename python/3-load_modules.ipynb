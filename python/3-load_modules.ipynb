{
 "cells": [
  {
   "cell_type": "markdown",
   "id": "environmental-investing",
   "metadata": {},
   "source": [
    "Certaines fonctionnalités de Python ne sont pas chargées dans l'environnement, il faut alors les importer sous forme de modules.\n",
    "\n",
    "On peut distinguer plusieurs sources de modules:\n",
    "1. Les modules \"built-in\" qui sont intégrés à Python ( [la liste est ici](https://docs.python.org/3/py-modindex.html) ) \n",
    "2. Les modules qui sont au sein de packages via des librairies présentes sur Pypi, conda ou conda-forge (exemple pandas, matplotlib, Tensorflow), sur github, ou des librairies que l'on a créé soit même.\n",
    "3. Les modules que l'on a produit soit même au sein de son projet."
   ]
  },
  {
   "cell_type": "markdown",
   "id": "db9abdb6-afef-4f53-a431-0ecca0174986",
   "metadata": {},
   "source": [
    "Quelle est la différence entre un module, un package et une librairie ?   \n",
    "\n",
    "- module : Ensemble de ligne de codes stockées dans un fichier `.py`\n",
    "- package : Ensemble de modules (qui peuvent être contenus dans des sous-packages)\n",
    "- librairie : Un packages qui contient un ensembre de packages (qui peuvent contenir des sous-packages) ensemble de module et de  ( e.g `matplotlib`)\n",
    "\n",
    "Réponse plus complète ici : https://learnpython.com/blog/python-modules-packages-libraries-frameworks/"
   ]
  },
  {
   "cell_type": "markdown",
   "id": "dedicated-assessment",
   "metadata": {},
   "source": [
    "### Import simple "
   ]
  },
  {
   "cell_type": "code",
   "execution_count": 17,
   "id": "breeding-particle",
   "metadata": {
    "tags": []
   },
   "outputs": [],
   "source": [
    "import math"
   ]
  },
  {
   "cell_type": "code",
   "execution_count": 18,
   "id": "swedish-compilation",
   "metadata": {
    "tags": []
   },
   "outputs": [
    {
     "data": {
      "text/plain": [
       "0.8438539587324921"
      ]
     },
     "execution_count": 18,
     "metadata": {},
     "output_type": "execute_result"
    }
   ],
   "source": [
    "math.cos(12)"
   ]
  },
  {
   "cell_type": "markdown",
   "id": "sustained-might",
   "metadata": {},
   "source": [
    "### Importer un objet spécifique d'un module "
   ]
  },
  {
   "cell_type": "code",
   "execution_count": 3,
   "id": "distinguished-capability",
   "metadata": {
    "tags": []
   },
   "outputs": [],
   "source": [
    "from math import cos"
   ]
  },
  {
   "cell_type": "code",
   "execution_count": 4,
   "id": "promising-recognition",
   "metadata": {
    "tags": []
   },
   "outputs": [
    {
     "data": {
      "text/plain": [
       "0.8438539587324921"
      ]
     },
     "execution_count": 4,
     "metadata": {},
     "output_type": "execute_result"
    }
   ],
   "source": [
    "cos(12)"
   ]
  },
  {
   "cell_type": "markdown",
   "id": "immediate-exclusive",
   "metadata": {},
   "source": [
    "### importer avec un alias"
   ]
  },
  {
   "cell_type": "code",
   "execution_count": 5,
   "id": "activated-reason",
   "metadata": {
    "tags": []
   },
   "outputs": [],
   "source": [
    "import math as m"
   ]
  },
  {
   "cell_type": "code",
   "execution_count": 6,
   "id": "acute-example",
   "metadata": {
    "tags": []
   },
   "outputs": [
    {
     "data": {
      "text/plain": [
       "0.8438539587324921"
      ]
     },
     "execution_count": 6,
     "metadata": {},
     "output_type": "execute_result"
    }
   ],
   "source": [
    "m.cos(12)"
   ]
  },
  {
   "cell_type": "code",
   "execution_count": null,
   "id": "educational-allen",
   "metadata": {},
   "outputs": [],
   "source": []
  },
  {
   "cell_type": "markdown",
   "id": "auburn-accessory",
   "metadata": {},
   "source": [
    "### Importer un objet spécifique d'un module avec un alias"
   ]
  },
  {
   "cell_type": "code",
   "execution_count": 7,
   "id": "prime-output",
   "metadata": {
    "tags": []
   },
   "outputs": [],
   "source": [
    "from math import degrees as dg"
   ]
  },
  {
   "cell_type": "code",
   "execution_count": 8,
   "id": "productive-strand",
   "metadata": {
    "tags": []
   },
   "outputs": [
    {
     "data": {
      "text/plain": [
       "57.29577951308232"
      ]
     },
     "execution_count": 8,
     "metadata": {},
     "output_type": "execute_result"
    }
   ],
   "source": [
    "dg(1)"
   ]
  },
  {
   "cell_type": "markdown",
   "id": "detected-exemption",
   "metadata": {},
   "source": [
    "### Importer un sous module d'une librairie"
   ]
  },
  {
   "cell_type": "code",
   "execution_count": 19,
   "id": "87c32d5d-c5fd-4730-bcbc-9869b0f80d1d",
   "metadata": {},
   "outputs": [],
   "source": [
    "import matplotlib.pyplot #mauvaise manière"
   ]
  },
  {
   "cell_type": "code",
   "execution_count": 20,
   "id": "dutch-equipment",
   "metadata": {
    "tags": []
   },
   "outputs": [
    {
     "data": {
      "text/plain": [
       "[<matplotlib.lines.Line2D at 0x7fba33a7f150>]"
      ]
     },
     "execution_count": 20,
     "metadata": {},
     "output_type": "execute_result"
    },
    {
     "data": {
      "image/png": "[encoded data removed]",
      "text/plain": [
       "<Figure size 432x288 with 1 Axes>"
      ]
     },
     "metadata": {
      "needs_background": "light"
     },
     "output_type": "display_data"
    }
   ],
   "source": [
    "matplotlib.pyplot.plot([1,2,4])"
   ]
  },
  {
   "cell_type": "code",
   "execution_count": 21,
   "id": "indoor-religious",
   "metadata": {
    "tags": []
   },
   "outputs": [],
   "source": [
    "from matplotlib import pyplot"
   ]
  },
  {
   "cell_type": "code",
   "execution_count": 22,
   "id": "crucial-identification",
   "metadata": {
    "tags": []
   },
   "outputs": [
    {
     "data": {
      "text/plain": [
       "[<matplotlib.lines.Line2D at 0x7fba33a6a4d0>]"
      ]
     },
     "execution_count": 22,
     "metadata": {},
     "output_type": "execute_result"
    },
    {
     "data": {
      "image/png": "[encoded data removed]",
      "text/plain": [
       "<Figure size 432x288 with 1 Axes>"
      ]
     },
     "metadata": {
      "needs_background": "light"
     },
     "output_type": "display_data"
    }
   ],
   "source": [
    "pyplot.plot([1,2,4])"
   ]
  },
  {
   "cell_type": "markdown",
   "id": "headed-nevada",
   "metadata": {
    "execution": {
     "iopub.execute_input": "2021-04-25T11:53:54.429088Z",
     "iopub.status.busy": "2021-04-25T11:53:54.428915Z",
     "iopub.status.idle": "2021-04-25T11:53:54.708461Z",
     "shell.execute_reply": "2021-04-25T11:53:54.707973Z",
     "shell.execute_reply.started": "2021-04-25T11:53:54.429069Z"
    }
   },
   "source": [
    "### Importer un sous module d'une librairie avec un alias"
   ]
  },
  {
   "cell_type": "code",
   "execution_count": 23,
   "id": "british-bridal",
   "metadata": {
    "tags": []
   },
   "outputs": [],
   "source": [
    "import matplotlib.pyplot as plt"
   ]
  },
  {
   "cell_type": "code",
   "execution_count": 24,
   "id": "straight-sandwich",
   "metadata": {
    "tags": []
   },
   "outputs": [
    {
     "data": {
      "text/plain": [
       "[<matplotlib.lines.Line2D at 0x7fba339cea50>]"
      ]
     },
     "execution_count": 24,
     "metadata": {},
     "output_type": "execute_result"
    },
    {
     "data": {
      "image/png": "[encoded data removed]",
      "text/plain": [
       "<Figure size 432x288 with 1 Axes>"
      ]
     },
     "metadata": {
      "needs_background": "light"
     },
     "output_type": "display_data"
    }
   ],
   "source": [
    "plt.plot([1,2,4])"
   ]
  },
  {
   "cell_type": "code",
   "execution_count": 25,
   "id": "integrated-ireland",
   "metadata": {
    "tags": []
   },
   "outputs": [],
   "source": [
    "from matplotlib import pyplot as plt"
   ]
  },
  {
   "cell_type": "code",
   "execution_count": 26,
   "id": "wicked-motor",
   "metadata": {
    "tags": []
   },
   "outputs": [
    {
     "data": {
      "text/plain": [
       "[<matplotlib.lines.Line2D at 0x7fba33922390>]"
      ]
     },
     "execution_count": 26,
     "metadata": {},
     "output_type": "execute_result"
    },
    {
     "data": {
      "image/png": "[encoded data removed]",
      "text/plain": [
       "<Figure size 432x288 with 1 Axes>"
      ]
     },
     "metadata": {
      "needs_background": "light"
     },
     "output_type": "display_data"
    }
   ],
   "source": [
    "plt.plot([1,2,4])"
   ]
  },
  {
   "cell_type": "code",
   "execution_count": null,
   "id": "4ef9248d-36a9-4353-9e97-64b931e6fee8",
   "metadata": {},
   "outputs": [],
   "source": []
  },
  {
   "cell_type": "markdown",
   "id": "8ce93f1b-48dd-4f0b-92dc-e671bc65d2fc",
   "metadata": {},
   "source": [
    "⚠️ Importer une librairie/un module spécifique va parfois importer des objets (classes, fonctions, variables) car le fichier `__init__.py` contient du code"
   ]
  },
  {
   "cell_type": "code",
   "execution_count": 27,
   "id": "ee1b6ca5-ddca-4c41-a030-23f0d1c5e68d",
   "metadata": {},
   "outputs": [],
   "source": [
    "import pandas as pd"
   ]
  },
  {
   "cell_type": "code",
   "execution_count": 28,
   "id": "55513b7b-e705-41d2-8543-66f20134c9be",
   "metadata": {},
   "outputs": [
    {
     "data": {
      "text/html": [
       "<div>\n",
       "<style scoped>\n",
       "    .dataframe tbody tr th:only-of-type {\n",
       "        vertical-align: middle;\n",
       "    }\n",
       "\n",
       "    .dataframe tbody tr th {\n",
       "        vertical-align: top;\n",
       "    }\n",
       "\n",
       "    .dataframe thead th {\n",
       "        text-align: right;\n",
       "    }\n",
       "</style>\n",
       "<table border=\"1\" class=\"dataframe\">\n",
       "  <thead>\n",
       "    <tr style=\"text-align: right;\">\n",
       "      <th></th>\n",
       "      <th>0</th>\n",
       "    </tr>\n",
       "  </thead>\n",
       "  <tbody>\n",
       "    <tr>\n",
       "      <th>0</th>\n",
       "      <td>1</td>\n",
       "    </tr>\n",
       "    <tr>\n",
       "      <th>1</th>\n",
       "      <td>2</td>\n",
       "    </tr>\n",
       "    <tr>\n",
       "      <th>2</th>\n",
       "      <td>3</td>\n",
       "    </tr>\n",
       "  </tbody>\n",
       "</table>\n",
       "</div>"
      ],
      "text/plain": [
       "   0\n",
       "0  1\n",
       "1  2\n",
       "2  3"
      ]
     },
     "execution_count": 28,
     "metadata": {},
     "output_type": "execute_result"
    }
   ],
   "source": [
    "pd.DataFrame([1,2,3])"
   ]
  },
  {
   "cell_type": "code",
   "execution_count": 29,
   "id": "bf61f9dc-69be-4f1f-bad2-8233b0f9ead2",
   "metadata": {},
   "outputs": [
    {
     "data": {
      "text/plain": [
       "['/srv/conda/envs/notebook/lib/python3.7/site-packages/pandas']"
      ]
     },
     "execution_count": 29,
     "metadata": {},
     "output_type": "execute_result"
    }
   ],
   "source": [
    "pd.__path__"
   ]
  },
  {
   "cell_type": "code",
   "execution_count": 32,
   "id": "40f7f82f-3635-4913-871f-cd17cbc83047",
   "metadata": {
    "collapsed": true,
    "jupyter": {
     "outputs_hidden": true
    },
    "tags": []
   },
   "outputs": [
    {
     "name": "stdout",
     "output_type": "stream",
     "text": [
      "# flake8: noqa\n",
      "\n",
      "__docformat__ = \"restructuredtext\"\n",
      "\n",
      "# Let users know if they're missing any of our hard dependencies\n",
      "hard_dependencies = (\"numpy\", \"pytz\", \"dateutil\")\n",
      "missing_dependencies = []\n",
      "\n",
      "for dependency in hard_dependencies:\n",
      "    try:\n",
      "        __import__(dependency)\n",
      "    except ImportError as e:\n",
      "        missing_dependencies.append(f\"{dependency}: {e}\")\n",
      "\n",
      "if missing_dependencies:\n",
      "    raise ImportError(\n",
      "        \"Unable to import required dependencies:\\n\" + \"\\n\".join(missing_dependencies)\n",
      "    )\n",
      "del hard_dependencies, dependency, missing_dependencies\n",
      "\n",
      "# numpy compat\n",
      "from pandas.compat import (\n",
      "    np_version_under1p18 as _np_version_under1p18,\n",
      "    is_numpy_dev as _is_numpy_dev,\n",
      ")\n",
      "\n",
      "try:\n",
      "    from pandas._libs import hashtable as _hashtable, lib as _lib, tslib as _tslib\n",
      "except ImportError as e:  # pragma: no cover\n",
      "    # hack but overkill to use re\n",
      "    module = str(e).replace(\"cannot import name \", \"\")\n",
      "    raise ImportError(\n",
      "        f\"C extension: {module} not built. If you want to import \"\n",
      "        \"pandas from the source directory, you may need to run \"\n",
      "        \"'python setup.py build_ext --force' to build the C extensions first.\"\n",
      "    ) from e\n",
      "\n",
      "from pandas._config import (\n",
      "    get_option,\n",
      "    set_option,\n",
      "    reset_option,\n",
      "    describe_option,\n",
      "    option_context,\n",
      "    options,\n",
      ")\n",
      "\n",
      "# let init-time option registration happen\n",
      "import pandas.core.config_init\n",
      "\n",
      "from pandas.core.api import (\n",
      "    # dtype\n",
      "    Int8Dtype,\n",
      "    Int16Dtype,\n",
      "    Int32Dtype,\n",
      "    Int64Dtype,\n",
      "    UInt8Dtype,\n",
      "    UInt16Dtype,\n",
      "    UInt32Dtype,\n",
      "    UInt64Dtype,\n",
      "    Float32Dtype,\n",
      "    Float64Dtype,\n",
      "    CategoricalDtype,\n",
      "    PeriodDtype,\n",
      "    IntervalDtype,\n",
      "    DatetimeTZDtype,\n",
      "    StringDtype,\n",
      "    BooleanDtype,\n",
      "    # missing\n",
      "    NA,\n",
      "    isna,\n",
      "    isnull,\n",
      "    notna,\n",
      "    notnull,\n",
      "    # indexes\n",
      "    Index,\n",
      "    CategoricalIndex,\n",
      "    Int64Index,\n",
      "    UInt64Index,\n",
      "    RangeIndex,\n",
      "    Float64Index,\n",
      "    MultiIndex,\n",
      "    IntervalIndex,\n",
      "    TimedeltaIndex,\n",
      "    DatetimeIndex,\n",
      "    PeriodIndex,\n",
      "    IndexSlice,\n",
      "    # tseries\n",
      "    NaT,\n",
      "    Period,\n",
      "    period_range,\n",
      "    Timedelta,\n",
      "    timedelta_range,\n",
      "    Timestamp,\n",
      "    date_range,\n",
      "    bdate_range,\n",
      "    Interval,\n",
      "    interval_range,\n",
      "    DateOffset,\n",
      "    # conversion\n",
      "    to_numeric,\n",
      "    to_datetime,\n",
      "    to_timedelta,\n",
      "    # misc\n",
      "    Flags,\n",
      "    Grouper,\n",
      "    factorize,\n",
      "    unique,\n",
      "    value_counts,\n",
      "    NamedAgg,\n",
      "    array,\n",
      "    Categorical,\n",
      "    set_eng_float_format,\n",
      "    Series,\n",
      "    DataFrame,\n",
      ")\n",
      "\n",
      "from pandas.core.arrays.sparse import SparseDtype\n",
      "\n",
      "from pandas.tseries.api import infer_freq\n",
      "from pandas.tseries import offsets\n",
      "\n",
      "from pandas.core.computation.api import eval\n",
      "\n",
      "from pandas.core.reshape.api import (\n",
      "    concat,\n",
      "    lreshape,\n",
      "    melt,\n",
      "    wide_to_long,\n",
      "    merge,\n",
      "    merge_asof,\n",
      "    merge_ordered,\n",
      "    crosstab,\n",
      "    pivot,\n",
      "    pivot_table,\n",
      "    get_dummies,\n",
      "    cut,\n",
      "    qcut,\n",
      ")\n",
      "\n",
      "import pandas.api\n",
      "from pandas.util._print_versions import show_versions\n",
      "\n",
      "from pandas.io.api import (\n",
      "    # excel\n",
      "    ExcelFile,\n",
      "    ExcelWriter,\n",
      "    read_excel,\n",
      "    # parsers\n",
      "    read_csv,\n",
      "    read_fwf,\n",
      "    read_table,\n",
      "    # pickle\n",
      "    read_pickle,\n",
      "    to_pickle,\n",
      "    # pytables\n",
      "    HDFStore,\n",
      "    read_hdf,\n",
      "    # sql\n",
      "    read_sql,\n",
      "    read_sql_query,\n",
      "    read_sql_table,\n",
      "    # misc\n",
      "    read_clipboard,\n",
      "    read_parquet,\n",
      "    read_orc,\n",
      "    read_feather,\n",
      "    read_gbq,\n",
      "    read_html,\n",
      "    read_xml,\n",
      "    read_json,\n",
      "    read_stata,\n",
      "    read_sas,\n",
      "    read_spss,\n",
      ")\n",
      "\n",
      "from pandas.io.json import _json_normalize as json_normalize\n",
      "\n",
      "from pandas.util._tester import test\n",
      "import pandas.testing\n",
      "import pandas.arrays\n",
      "\n",
      "# use the closest tagged version if possible\n",
      "from pandas._version import get_versions\n",
      "\n",
      "v = get_versions()\n",
      "__version__ = v.get(\"closest-tag\", v[\"version\"])\n",
      "__git_version__ = v.get(\"full-revisionid\")\n",
      "del get_versions, v\n",
      "\n",
      "\n",
      "# GH 27101\n",
      "def __getattr__(name):\n",
      "    import warnings\n",
      "\n",
      "    if name == \"datetime\":\n",
      "        warnings.warn(\n",
      "            \"The pandas.datetime class is deprecated \"\n",
      "            \"and will be removed from pandas in a future version. \"\n",
      "            \"Import from datetime module instead.\",\n",
      "            FutureWarning,\n",
      "            stacklevel=2,\n",
      "        )\n",
      "\n",
      "        from datetime import datetime as dt\n",
      "\n",
      "        return dt\n",
      "\n",
      "    elif name == \"np\":\n",
      "\n",
      "        warnings.warn(\n",
      "            \"The pandas.np module is deprecated \"\n",
      "            \"and will be removed from pandas in a future version. \"\n",
      "            \"Import numpy directly instead\",\n",
      "            FutureWarning,\n",
      "            stacklevel=2,\n",
      "        )\n",
      "        import numpy as np\n",
      "\n",
      "        return np\n",
      "\n",
      "    elif name in {\"SparseSeries\", \"SparseDataFrame\"}:\n",
      "        warnings.warn(\n",
      "            f\"The {name} class is removed from pandas. Accessing it from \"\n",
      "            \"the top-level namespace will also be removed in the next version\",\n",
      "            FutureWarning,\n",
      "            stacklevel=2,\n",
      "        )\n",
      "\n",
      "        return type(name, (), {})\n",
      "\n",
      "    elif name == \"SparseArray\":\n",
      "\n",
      "        warnings.warn(\n",
      "            \"The pandas.SparseArray class is deprecated \"\n",
      "            \"and will be removed from pandas in a future version. \"\n",
      "            \"Use pandas.arrays.SparseArray instead.\",\n",
      "            FutureWarning,\n",
      "            stacklevel=2,\n",
      "        )\n",
      "        from pandas.core.arrays.sparse import SparseArray as _SparseArray\n",
      "\n",
      "        return _SparseArray\n",
      "\n",
      "    raise AttributeError(f\"module 'pandas' has no attribute '{name}'\")\n",
      "\n",
      "\n",
      "# module level doc-string\n",
      "__doc__ = \"\"\"\n",
      "pandas - a powerful data analysis and manipulation library for Python\n",
      "=====================================================================\n",
      "\n",
      "**pandas** is a Python package providing fast, flexible, and expressive data\n",
      "structures designed to make working with \"relational\" or \"labeled\" data both\n",
      "easy and intuitive. It aims to be the fundamental high-level building block for\n",
      "doing practical, **real world** data analysis in Python. Additionally, it has\n",
      "the broader goal of becoming **the most powerful and flexible open source data\n",
      "analysis / manipulation tool available in any language**. It is already well on\n",
      "its way toward this goal.\n",
      "\n",
      "Main Features\n",
      "-------------\n",
      "Here are just a few of the things that pandas does well:\n",
      "\n",
      "  - Easy handling of missing data in floating point as well as non-floating\n",
      "    point data.\n",
      "  - Size mutability: columns can be inserted and deleted from DataFrame and\n",
      "    higher dimensional objects\n",
      "  - Automatic and explicit data alignment: objects can be explicitly aligned\n",
      "    to a set of labels, or the user can simply ignore the labels and let\n",
      "    `Series`, `DataFrame`, etc. automatically align the data for you in\n",
      "    computations.\n",
      "  - Powerful, flexible group by functionality to perform split-apply-combine\n",
      "    operations on data sets, for both aggregating and transforming data.\n",
      "  - Make it easy to convert ragged, differently-indexed data in other Python\n",
      "    and NumPy data structures into DataFrame objects.\n",
      "  - Intelligent label-based slicing, fancy indexing, and subsetting of large\n",
      "    data sets.\n",
      "  - Intuitive merging and joining data sets.\n",
      "  - Flexible reshaping and pivoting of data sets.\n",
      "  - Hierarchical labeling of axes (possible to have multiple labels per tick).\n",
      "  - Robust IO tools for loading data from flat files (CSV and delimited),\n",
      "    Excel files, databases, and saving/loading data from the ultrafast HDF5\n",
      "    format.\n",
      "  - Time series-specific functionality: date range generation and frequency\n",
      "    conversion, moving window statistics, date shifting and lagging.\n",
      "\"\"\"\n",
      "\n"
     ]
    }
   ],
   "source": [
    "file_o=open(pd.__path__[0]+\"/__init__.py\") \n",
    "print(file_o.read())  "
   ]
  },
  {
   "cell_type": "markdown",
   "id": "f9241232-deef-4e31-9843-6923c7da9555",
   "metadata": {},
   "source": [
    "La logique de ce qui est importé ou pas sur des librairies matures fait l'object de réflextions sur le design de l'API d'une librairie.  \n",
    "Par exemple pour ceux intéressé par les réflexions qui on été faites autour de l'API de `scikit-learn` :  https://arxiv.org/abs/1309.0238"
   ]
  }
 ],
 "metadata": {
  "kernelspec": {
   "display_name": "Python 3 (ipykernel)",
   "language": "python",
   "name": "python3"
  },
  "language_info": {
   "codemirror_mode": {
    "name": "ipython",
    "version": 3
   },
   "file_extension": ".py",
   "mimetype": "text/x-python",
   "name": "python",
   "nbconvert_exporter": "python",
   "pygments_lexer": "ipython3",
   "version": "3.7.12"
  }
 },
 "nbformat": 4,
 "nbformat_minor": 5
}
