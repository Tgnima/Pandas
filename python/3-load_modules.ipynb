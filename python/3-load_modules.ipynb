{
 "cells": [
  {
   "cell_type": "markdown",
   "id": "environmental-investing",
   "metadata": {},
   "source": [
    "Certaines fonctionnalités de Python ne sont pas chargées dans l'environnement, il faut alors les importer sous forme de modules."
   ]
  },
  {
   "cell_type": "markdown",
   "id": "dedicated-assessment",
   "metadata": {},
   "source": [
    "### Import simple "
   ]
  },
  {
   "cell_type": "code",
   "execution_count": 1,
   "id": "breeding-particle",
   "metadata": {
    "execution": {
     "iopub.execute_input": "2021-04-28T13:32:21.945250Z",
     "iopub.status.busy": "2021-04-28T13:32:21.945034Z",
     "iopub.status.idle": "2021-04-28T13:32:21.950834Z",
     "shell.execute_reply": "2021-04-28T13:32:21.950312Z",
     "shell.execute_reply.started": "2021-04-28T13:32:21.945195Z"
    },
    "tags": []
   },
   "outputs": [],
   "source": [
    "import matplotlib.pyplot  # mauvaise\n",
    "from matplotlib import pyplot as plt\n",
    "import matplotlib.pyplot as plt\n",
    "from matplotlib import pyplot\n",
    "from math import degrees as dg\n",
    "import math as m\n",
    "from math import cos\n",
    "import math"
   ]
  },
  {
   "cell_type": "code",
   "execution_count": 2,
   "id": "swedish-compilation",
   "metadata": {
    "execution": {
     "iopub.execute_input": "2021-04-28T13:32:35.465120Z",
     "iopub.status.busy": "2021-04-28T13:32:35.464817Z",
     "iopub.status.idle": "2021-04-28T13:32:35.475772Z",
     "shell.execute_reply": "2021-04-28T13:32:35.475152Z",
     "shell.execute_reply.started": "2021-04-28T13:32:35.465084Z"
    },
    "tags": []
   },
   "outputs": [
    {
     "data": {
      "text/plain": [
       "0.8438539587324921"
      ]
     },
     "execution_count": 2,
     "metadata": {},
     "output_type": "execute_result"
    }
   ],
   "source": [
    "math.cos(12)"
   ]
  },
  {
   "cell_type": "markdown",
   "id": "sustained-might",
   "metadata": {},
   "source": [
    "### Importer un objet spécifique d'un module "
   ]
  },
  {
   "cell_type": "code",
   "execution_count": 3,
   "id": "distinguished-capability",
   "metadata": {
    "execution": {
     "iopub.execute_input": "2021-04-28T13:32:57.624645Z",
     "iopub.status.busy": "2021-04-28T13:32:57.624457Z",
     "iopub.status.idle": "2021-04-28T13:32:57.627104Z",
     "shell.execute_reply": "2021-04-28T13:32:57.626481Z",
     "shell.execute_reply.started": "2021-04-28T13:32:57.624623Z"
    },
    "tags": []
   },
   "outputs": [],
   "source": []
  },
  {
   "cell_type": "code",
   "execution_count": 4,
   "id": "promising-recognition",
   "metadata": {
    "execution": {
     "iopub.execute_input": "2021-04-28T13:32:59.194888Z",
     "iopub.status.busy": "2021-04-28T13:32:59.194676Z",
     "iopub.status.idle": "2021-04-28T13:32:59.198332Z",
     "shell.execute_reply": "2021-04-28T13:32:59.197754Z",
     "shell.execute_reply.started": "2021-04-28T13:32:59.194866Z"
    },
    "tags": []
   },
   "outputs": [
    {
     "data": {
      "text/plain": [
       "0.8438539587324921"
      ]
     },
     "execution_count": 4,
     "metadata": {},
     "output_type": "execute_result"
    }
   ],
   "source": [
    "cos(12)"
   ]
  },
  {
   "cell_type": "markdown",
   "id": "immediate-exclusive",
   "metadata": {},
   "source": [
    "### importer avec un alias"
   ]
  },
  {
   "cell_type": "code",
   "execution_count": 49,
   "id": "activated-reason",
   "metadata": {
    "execution": {
     "iopub.execute_input": "2021-04-25T12:03:21.963939Z",
     "iopub.status.busy": "2021-04-25T12:03:21.963367Z",
     "iopub.status.idle": "2021-04-25T12:03:21.970492Z",
     "shell.execute_reply": "2021-04-25T12:03:21.968715Z",
     "shell.execute_reply.started": "2021-04-25T12:03:21.963870Z"
    },
    "tags": []
   },
   "outputs": [],
   "source": []
  },
  {
   "cell_type": "code",
   "execution_count": 50,
   "id": "acute-example",
   "metadata": {
    "execution": {
     "iopub.execute_input": "2021-04-25T12:03:22.124093Z",
     "iopub.status.busy": "2021-04-25T12:03:22.123503Z",
     "iopub.status.idle": "2021-04-25T12:03:22.129357Z",
     "shell.execute_reply": "2021-04-25T12:03:22.128923Z",
     "shell.execute_reply.started": "2021-04-25T12:03:22.124023Z"
    },
    "tags": []
   },
   "outputs": [
    {
     "data": {
      "text/plain": [
       "0.8438539587324921"
      ]
     },
     "execution_count": 50,
     "metadata": {},
     "output_type": "execute_result"
    }
   ],
   "source": [
    "m.cos(12)"
   ]
  },
  {
   "cell_type": "code",
   "execution_count": null,
   "id": "educational-allen",
   "metadata": {},
   "outputs": [],
   "source": []
  },
  {
   "cell_type": "markdown",
   "id": "auburn-accessory",
   "metadata": {},
   "source": [
    "### Importer un objet spécifique d'un module avec un alias"
   ]
  },
  {
   "cell_type": "code",
   "execution_count": 5,
   "id": "prime-output",
   "metadata": {
    "execution": {
     "iopub.execute_input": "2021-04-25T12:56:32.615776Z",
     "iopub.status.busy": "2021-04-25T12:56:32.615595Z",
     "iopub.status.idle": "2021-04-25T12:56:32.618272Z",
     "shell.execute_reply": "2021-04-25T12:56:32.617740Z",
     "shell.execute_reply.started": "2021-04-25T12:56:32.615754Z"
    },
    "tags": []
   },
   "outputs": [],
   "source": []
  },
  {
   "cell_type": "code",
   "execution_count": 7,
   "id": "productive-strand",
   "metadata": {
    "execution": {
     "iopub.execute_input": "2021-04-25T12:56:53.993839Z",
     "iopub.status.busy": "2021-04-25T12:56:53.993660Z",
     "iopub.status.idle": "2021-04-25T12:56:54.001104Z",
     "shell.execute_reply": "2021-04-25T12:56:54.000697Z",
     "shell.execute_reply.started": "2021-04-25T12:56:53.993817Z"
    },
    "tags": []
   },
   "outputs": [
    {
     "data": {
      "text/plain": [
       "57.29577951308232"
      ]
     },
     "execution_count": 7,
     "metadata": {},
     "output_type": "execute_result"
    }
   ],
   "source": [
    "dg(1)"
   ]
  },
  {
   "cell_type": "markdown",
   "id": "detected-exemption",
   "metadata": {},
   "source": [
    "### Importer un sous module d'une librairie"
   ]
  },
  {
   "cell_type": "code",
   "execution_count": 53,
   "id": "frequent-fifteen",
   "metadata": {
    "execution": {
     "iopub.execute_input": "2021-04-25T12:03:23.145359Z",
     "iopub.status.busy": "2021-04-25T12:03:23.144807Z",
     "iopub.status.idle": "2021-04-25T12:03:23.152082Z",
     "shell.execute_reply": "2021-04-25T12:03:23.150144Z",
     "shell.execute_reply.started": "2021-04-25T12:03:23.145291Z"
    },
    "tags": []
   },
   "outputs": [],
   "source": []
  },
  {
   "cell_type": "code",
   "execution_count": 54,
   "id": "dutch-equipment",
   "metadata": {
    "execution": {
     "iopub.execute_input": "2021-04-25T12:03:23.344793Z",
     "iopub.status.busy": "2021-04-25T12:03:23.344495Z",
     "iopub.status.idle": "2021-04-25T12:03:23.443060Z",
     "shell.execute_reply": "2021-04-25T12:03:23.442496Z",
     "shell.execute_reply.started": "2021-04-25T12:03:23.344755Z"
    },
    "tags": []
   },
   "outputs": [
    {
     "data": {
      "text/plain": [
       "[<matplotlib.lines.Line2D at 0x7fe02d733670>]"
      ]
     },
     "execution_count": 54,
     "metadata": {},
     "output_type": "execute_result"
    },
    {
     "data": {
      "image/png": "[encoded data removed]",
      "text/plain": [
       "<Figure size 432x288 with 1 Axes>"
      ]
     },
     "metadata": {
      "needs_background": "light"
     },
     "output_type": "display_data"
    }
   ],
   "source": [
    "matplotlib.pyplot.plot([1, 2, 4])"
   ]
  },
  {
   "cell_type": "code",
   "execution_count": 55,
   "id": "indoor-religious",
   "metadata": {
    "execution": {
     "iopub.execute_input": "2021-04-25T12:03:23.518562Z",
     "iopub.status.busy": "2021-04-25T12:03:23.518378Z",
     "iopub.status.idle": "2021-04-25T12:03:23.521094Z",
     "shell.execute_reply": "2021-04-25T12:03:23.520469Z",
     "shell.execute_reply.started": "2021-04-25T12:03:23.518540Z"
    },
    "tags": []
   },
   "outputs": [],
   "source": []
  },
  {
   "cell_type": "code",
   "execution_count": 56,
   "id": "crucial-identification",
   "metadata": {
    "execution": {
     "iopub.execute_input": "2021-04-25T12:03:23.722739Z",
     "iopub.status.busy": "2021-04-25T12:03:23.722189Z",
     "iopub.status.idle": "2021-04-25T12:03:23.829826Z",
     "shell.execute_reply": "2021-04-25T12:03:23.829410Z",
     "shell.execute_reply.started": "2021-04-25T12:03:23.722669Z"
    },
    "tags": []
   },
   "outputs": [
    {
     "data": {
      "text/plain": [
       "[<matplotlib.lines.Line2D at 0x7fe02d940eb0>]"
      ]
     },
     "execution_count": 56,
     "metadata": {},
     "output_type": "execute_result"
    },
    {
     "data": {
      "image/png": "[encoded data removed]",
      "text/plain": [
       "<Figure size 432x288 with 1 Axes>"
      ]
     },
     "metadata": {
      "needs_background": "light"
     },
     "output_type": "display_data"
    }
   ],
   "source": [
    "pyplot.plot([1, 2, 4])"
   ]
  },
  {
   "cell_type": "markdown",
   "id": "headed-nevada",
   "metadata": {
    "execution": {
     "iopub.execute_input": "2021-04-25T11:53:54.429088Z",
     "iopub.status.busy": "2021-04-25T11:53:54.428915Z",
     "iopub.status.idle": "2021-04-25T11:53:54.708461Z",
     "shell.execute_reply": "2021-04-25T11:53:54.707973Z",
     "shell.execute_reply.started": "2021-04-25T11:53:54.429069Z"
    }
   },
   "source": [
    "### Importer un sous module d'une librairie avec un alias"
   ]
  },
  {
   "cell_type": "code",
   "execution_count": 57,
   "id": "british-bridal",
   "metadata": {
    "execution": {
     "iopub.execute_input": "2021-04-25T12:03:24.112469Z",
     "iopub.status.busy": "2021-04-25T12:03:24.111912Z",
     "iopub.status.idle": "2021-04-25T12:03:24.119921Z",
     "shell.execute_reply": "2021-04-25T12:03:24.117934Z",
     "shell.execute_reply.started": "2021-04-25T12:03:24.112400Z"
    },
    "tags": []
   },
   "outputs": [],
   "source": []
  },
  {
   "cell_type": "code",
   "execution_count": 58,
   "id": "straight-sandwich",
   "metadata": {
    "execution": {
     "iopub.execute_input": "2021-04-25T12:03:24.356513Z",
     "iopub.status.busy": "2021-04-25T12:03:24.356101Z",
     "iopub.status.idle": "2021-04-25T12:03:24.457526Z",
     "shell.execute_reply": "2021-04-25T12:03:24.457049Z",
     "shell.execute_reply.started": "2021-04-25T12:03:24.356462Z"
    },
    "tags": []
   },
   "outputs": [
    {
     "data": {
      "text/plain": [
       "[<matplotlib.lines.Line2D at 0x7fe02d6ca4c0>]"
      ]
     },
     "execution_count": 58,
     "metadata": {},
     "output_type": "execute_result"
    },
    {
     "data": {
      "image/png": "[encoded data removed]",
      "text/plain": [
       "<Figure size 432x288 with 1 Axes>"
      ]
     },
     "metadata": {
      "needs_background": "light"
     },
     "output_type": "display_data"
    }
   ],
   "source": [
    "plt.plot([1, 2, 4])"
   ]
  },
  {
   "cell_type": "code",
   "execution_count": 1,
   "id": "integrated-ireland",
   "metadata": {
    "execution": {
     "iopub.execute_input": "2021-04-25T12:03:30.903647Z",
     "iopub.status.busy": "2021-04-25T12:03:30.903409Z",
     "iopub.status.idle": "2021-04-25T12:03:31.143482Z",
     "shell.execute_reply": "2021-04-25T12:03:31.143022Z",
     "shell.execute_reply.started": "2021-04-25T12:03:30.903589Z"
    },
    "tags": []
   },
   "outputs": [],
   "source": []
  },
  {
   "cell_type": "code",
   "execution_count": 2,
   "id": "wicked-motor",
   "metadata": {
    "execution": {
     "iopub.execute_input": "2021-04-25T12:03:31.144341Z",
     "iopub.status.busy": "2021-04-25T12:03:31.144205Z",
     "iopub.status.idle": "2021-04-25T12:03:31.270796Z",
     "shell.execute_reply": "2021-04-25T12:03:31.270379Z",
     "shell.execute_reply.started": "2021-04-25T12:03:31.144323Z"
    },
    "tags": []
   },
   "outputs": [
    {
     "data": {
      "text/plain": [
       "[<matplotlib.lines.Line2D at 0x7f6e75c3fe50>]"
      ]
     },
     "execution_count": 2,
     "metadata": {},
     "output_type": "execute_result"
    },
    {
     "data": {
      "image/png": "[encoded data removed]",
      "text/plain": [
       "<Figure size 432x288 with 1 Axes>"
      ]
     },
     "metadata": {
      "needs_background": "light"
     },
     "output_type": "display_data"
    }
   ],
   "source": [
    "plt.plot([1, 2, 4])"
   ]
  },
  {
   "cell_type": "code",
   "execution_count": null,
   "id": "judicial-reception",
   "metadata": {},
   "outputs": [],
   "source": []
  },
  {
   "cell_type": "markdown",
   "id": "scientific-safety",
   "metadata": {},
   "source": [
    "### Installer une librairie externe"
   ]
  },
  {
   "cell_type": "markdown",
   "id": "grave-flavor",
   "metadata": {},
   "source": [
    "Deux cas de figure:\n",
    "1. Disponible sur Python Package Index (pypi.org)\n",
    "2. Non disponible sur pypi"
   ]
  },
  {
   "cell_type": "markdown",
   "id": "irish-intent",
   "metadata": {},
   "source": [
    "#### Disponible sur Pypi (99% du temps)"
   ]
  },
  {
   "cell_type": "markdown",
   "id": "stuck-bearing",
   "metadata": {},
   "source": [
    "### Dans l'environnement virtuel executer `pip install -m nom_du_package`"
   ]
  },
  {
   "cell_type": "markdown",
   "id": "common-jones",
   "metadata": {},
   "source": [
    "Si on n'utilise pas d'environnement virtuel (et ce n'est pas bien), on peut faire :"
   ]
  },
  {
   "cell_type": "code",
   "execution_count": 2,
   "id": "reserved-cricket",
   "metadata": {
    "execution": {
     "iopub.execute_input": "2021-04-25T12:11:08.477819Z",
     "iopub.status.busy": "2021-04-25T12:11:08.477640Z",
     "iopub.status.idle": "2021-04-25T12:11:09.172054Z",
     "shell.execute_reply": "2021-04-25T12:11:09.170252Z",
     "shell.execute_reply.started": "2021-04-25T12:11:08.477796Z"
    },
    "tags": []
   },
   "outputs": [
    {
     "name": "stdout",
     "output_type": "stream",
     "text": [
      "\u001b[31mERROR: Could not find a version that satisfies the requirement nom_du_package\u001b[0m\n",
      "\u001b[31mERROR: No matching distribution found for nom_du_package\u001b[0m\n"
     ]
    }
   ],
   "source": [
    "! pip install nom_du_package"
   ]
  },
  {
   "cell_type": "code",
   "execution_count": 3,
   "id": "binding-triangle",
   "metadata": {
    "execution": {
     "iopub.execute_input": "2021-04-25T12:11:11.519376Z",
     "iopub.status.busy": "2021-04-25T12:11:11.519146Z",
     "iopub.status.idle": "2021-04-25T12:11:11.941987Z",
     "shell.execute_reply": "2021-04-25T12:11:11.939907Z",
     "shell.execute_reply.started": "2021-04-25T12:11:11.519346Z"
    },
    "tags": []
   },
   "outputs": [
    {
     "name": "stdout",
     "output_type": "stream",
     "text": [
      "\u001b[33mWARNING: Skipping seaborn as it is not installed.\u001b[0m\n"
     ]
    }
   ],
   "source": [
    "! pip install seaborn --yes"
   ]
  },
  {
   "cell_type": "code",
   "execution_count": null,
   "id": "cardiovascular-manual",
   "metadata": {},
   "outputs": [],
   "source": []
  }
 ],
 "metadata": {
  "kernelspec": {
   "display_name": "Python 3",
   "language": "python",
   "name": "python3"
  },
  "language_info": {
   "codemirror_mode": {
    "name": "ipython",
    "version": 3
   },
   "file_extension": ".py",
   "mimetype": "text/x-python",
   "name": "python",
   "nbconvert_exporter": "python",
   "pygments_lexer": "ipython3",
   "version": "3.8.8"
  }
 },
 "nbformat": 4,
 "nbformat_minor": 5
}
