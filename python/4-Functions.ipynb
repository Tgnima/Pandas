{
 "cells": [
  {
   "cell_type": "markdown",
   "id": "veterinary-hindu",
   "metadata": {},
   "source": [
    "Les fonctions vont être utilisées quand un besoin va être récurent dans un ou plusieurs scripts.  \n",
    "Permet d'être DRY et de respecter la philosophie unix, et de gagner du temps et de la tranquilité quand on code."
   ]
  },
  {
   "cell_type": "markdown",
   "id": "9fb0a200-6a59-41b7-ae17-20263ea6f75d",
   "metadata": {},
   "source": [
    "> \"Don't repeat yourself\" (DRY) is a principle of software development aimed at reducing repetition of software patterns. [Wikipedia](https://en.wikipedia.org/wiki/Don%27t_repeat_yourself)\n",
    "\n",
    ">     \" Voici la philosophie d'Unix :\n",
    "        Écrivez des programmes qui effectuent une seule chose et qui le font bien.\n",
    "        Écrivez des programmes qui collaborent.\n",
    "        Écrivez des programmes pour gérer des flux de texte [en pratique des flux d'octets], car c'est une interface universelle. \"  \n",
    "        \n",
    "[Wikipedia](https://fr.wikipedia.org/wiki/Philosophie_d%27Unix)\n"
   ]
  },
  {
   "cell_type": "markdown",
   "id": "impressed-basement",
   "metadata": {},
   "source": [
    "Exemple:"
   ]
  },
  {
   "cell_type": "markdown",
   "id": "convenient-pantyhose",
   "metadata": {},
   "source": [
    "##### Mauvais"
   ]
  },
  {
   "cell_type": "code",
   "execution_count": 1,
   "id": "superior-synthesis",
   "metadata": {
    "execution": {
     "iopub.execute_input": "2022-04-14T08:49:38.616085Z",
     "iopub.status.busy": "2022-04-14T08:49:38.615908Z",
     "iopub.status.idle": "2022-04-14T08:49:38.619142Z",
     "shell.execute_reply": "2022-04-14T08:49:38.618586Z",
     "shell.execute_reply.started": "2022-04-14T08:49:38.616054Z"
    },
    "tags": []
   },
   "outputs": [],
   "source": [
    "temperature_lyon = 12\n",
    "temperature_marseille = 35\n",
    "temperature_paris = -7"
   ]
  },
  {
   "cell_type": "code",
   "execution_count": 2,
   "id": "settled-median",
   "metadata": {
    "execution": {
     "iopub.execute_input": "2022-04-14T08:49:39.156303Z",
     "iopub.status.busy": "2022-04-14T08:49:39.156126Z",
     "iopub.status.idle": "2022-04-14T08:49:39.159227Z",
     "shell.execute_reply": "2022-04-14T08:49:39.158764Z",
     "shell.execute_reply.started": "2022-04-14T08:49:39.156272Z"
    },
    "tags": []
   },
   "outputs": [],
   "source": [
    "temp_fahrenheit_lyon = temperature_lyon * 9/5 + 32\n",
    "temp_fahrenheit_marseille = temperature_marseille * 9/5 + 32\n",
    "temp_fahrenheit_paris = temperature_paris * 9/5 + 32"
   ]
  },
  {
   "cell_type": "markdown",
   "id": "subjective-establishment",
   "metadata": {},
   "source": [
    "#### Moins mauvais"
   ]
  },
  {
   "cell_type": "code",
   "execution_count": 3,
   "id": "c519220f-56a5-426a-a291-72421cedec6e",
   "metadata": {
    "execution": {
     "iopub.execute_input": "2022-04-14T08:50:04.083804Z",
     "iopub.status.busy": "2022-04-14T08:50:04.083599Z",
     "iopub.status.idle": "2022-04-14T08:50:04.086919Z",
     "shell.execute_reply": "2022-04-14T08:50:04.086313Z",
     "shell.execute_reply.started": "2022-04-14T08:50:04.083773Z"
    },
    "tags": []
   },
   "outputs": [],
   "source": [
    "temp_in_celsius = {'lyon': 12, 'marseille': 35, 'paris': -7, 'aubagne': 32}"
   ]
  },
  {
   "cell_type": "code",
   "execution_count": 4,
   "id": "owned-perception",
   "metadata": {
    "execution": {
     "iopub.execute_input": "2022-04-14T08:50:04.255491Z",
     "iopub.status.busy": "2022-04-14T08:50:04.255356Z",
     "iopub.status.idle": "2022-04-14T08:50:04.258296Z",
     "shell.execute_reply": "2022-04-14T08:50:04.257840Z",
     "shell.execute_reply.started": "2022-04-14T08:50:04.255474Z"
    },
    "tags": []
   },
   "outputs": [],
   "source": [
    "def celsius_to_fahrenheit(t_in_celsius):\n",
    "    return t_in_celsius  * 9/5 + 32"
   ]
  },
  {
   "cell_type": "code",
   "execution_count": 5,
   "id": "ad39ad03-ae79-41da-9be2-527c26ea6f8d",
   "metadata": {
    "execution": {
     "iopub.execute_input": "2022-04-14T08:50:04.455309Z",
     "iopub.status.busy": "2022-04-14T08:50:04.455168Z",
     "iopub.status.idle": "2022-04-14T08:50:04.459382Z",
     "shell.execute_reply": "2022-04-14T08:50:04.458953Z",
     "shell.execute_reply.started": "2022-04-14T08:50:04.455292Z"
    },
    "tags": []
   },
   "outputs": [
    {
     "data": {
      "text/plain": [
       "{'lyon': 53.6, 'marseille': 95.0, 'paris': 19.4, 'aubagne': 89.6}"
      ]
     },
     "execution_count": 5,
     "metadata": {},
     "output_type": "execute_result"
    }
   ],
   "source": [
    "temp_in_fahrenheit = {}\n",
    "for key, value in temp_in_celsius.items():\n",
    "    temp_in_fahrenheit[key]=celsius_to_fahrenheit(value)\n",
    "temp_in_fahrenheit"
   ]
  },
  {
   "cell_type": "markdown",
   "id": "alternate-recycling",
   "metadata": {},
   "source": [
    "#### La fonction"
   ]
  },
  {
   "cell_type": "markdown",
   "id": "elegant-lawrence",
   "metadata": {},
   "source": [
    "Une fonction prends 0 ou plus inputs (variable/objet en entrée), et en retourne 0 ou plus."
   ]
  },
  {
   "cell_type": "code",
   "execution_count": 7,
   "id": "373bc5a8-8c9d-4f76-8357-69614756d45d",
   "metadata": {
    "execution": {
     "iopub.execute_input": "2022-04-14T08:51:36.058995Z",
     "iopub.status.busy": "2022-04-14T08:51:36.058817Z",
     "iopub.status.idle": "2022-04-14T08:51:36.061995Z",
     "shell.execute_reply": "2022-04-14T08:51:36.061555Z",
     "shell.execute_reply.started": "2022-04-14T08:51:36.058965Z"
    },
    "tags": []
   },
   "outputs": [],
   "source": [
    "def coucou():\n",
    "    print(\"coucou\")"
   ]
  },
  {
   "cell_type": "code",
   "execution_count": 12,
   "id": "6e8d6d38-0a37-4a7b-b484-108685cb85b5",
   "metadata": {
    "execution": {
     "iopub.execute_input": "2022-04-14T08:56:39.979813Z",
     "iopub.status.busy": "2022-04-14T08:56:39.979612Z",
     "iopub.status.idle": "2022-04-14T08:56:39.983079Z",
     "shell.execute_reply": "2022-04-14T08:56:39.982698Z",
     "shell.execute_reply.started": "2022-04-14T08:56:39.979796Z"
    }
   },
   "outputs": [
    {
     "name": "stdout",
     "output_type": "stream",
     "text": [
      "coucou\n"
     ]
    }
   ],
   "source": [
    "output_coucou = coucou()"
   ]
  },
  {
   "cell_type": "code",
   "execution_count": 14,
   "id": "69d41553-0426-409a-872b-cbe659064a9b",
   "metadata": {
    "execution": {
     "iopub.execute_input": "2022-04-14T08:57:13.971691Z",
     "iopub.status.busy": "2022-04-14T08:57:13.971512Z",
     "iopub.status.idle": "2022-04-14T08:57:13.975034Z",
     "shell.execute_reply": "2022-04-14T08:57:13.974673Z",
     "shell.execute_reply.started": "2022-04-14T08:57:13.971658Z"
    },
    "tags": []
   },
   "outputs": [
    {
     "data": {
      "text/plain": [
       "True"
      ]
     },
     "execution_count": 14,
     "metadata": {},
     "output_type": "execute_result"
    }
   ],
   "source": [
    "output_coucou is None"
   ]
  },
  {
   "cell_type": "code",
   "execution_count": 39,
   "id": "lonely-slide",
   "metadata": {
    "execution": {
     "iopub.execute_input": "2022-04-14T09:07:11.561974Z",
     "iopub.status.busy": "2022-04-14T09:07:11.561714Z",
     "iopub.status.idle": "2022-04-14T09:07:11.565249Z",
     "shell.execute_reply": "2022-04-14T09:07:11.564788Z",
     "shell.execute_reply.started": "2022-04-14T09:07:11.561950Z"
    },
    "tags": []
   },
   "outputs": [],
   "source": [
    "def une_fonction(variable_1, variable_2):\n",
    "    return variable_1 + variable_2"
   ]
  },
  {
   "cell_type": "markdown",
   "id": "dc2842ab-26eb-4c5c-80bf-97352989501b",
   "metadata": {},
   "source": [
    "**Question**: donnez un exemple de fonction qui ne retourne pas output, mais qui fait quand même quelque chose ?"
   ]
  },
  {
   "cell_type": "code",
   "execution_count": 29,
   "id": "distributed-communist",
   "metadata": {
    "execution": {
     "iopub.execute_input": "2022-04-14T09:03:19.086339Z",
     "iopub.status.busy": "2022-04-14T09:03:19.085782Z",
     "iopub.status.idle": "2022-04-14T09:03:19.088540Z",
     "shell.execute_reply": "2022-04-14T09:03:19.088143Z",
     "shell.execute_reply.started": "2022-04-14T09:03:19.086315Z"
    },
    "tags": []
   },
   "outputs": [],
   "source": [
    "import time"
   ]
  },
  {
   "cell_type": "code",
   "execution_count": 30,
   "id": "parliamentary-grenada",
   "metadata": {
    "execution": {
     "iopub.execute_input": "2022-04-14T09:03:21.170486Z",
     "iopub.status.busy": "2022-04-14T09:03:21.170336Z",
     "iopub.status.idle": "2022-04-14T09:03:21.173477Z",
     "shell.execute_reply": "2022-04-14T09:03:21.172932Z",
     "shell.execute_reply.started": "2022-04-14T09:03:21.170471Z"
    },
    "tags": []
   },
   "outputs": [],
   "source": [
    "def print_time():\n",
    "    print(time.localtime())\n",
    "     "
   ]
  },
  {
   "cell_type": "code",
   "execution_count": 31,
   "id": "traditional-butter",
   "metadata": {
    "execution": {
     "iopub.execute_input": "2022-04-14T09:03:23.181931Z",
     "iopub.status.busy": "2022-04-14T09:03:23.181795Z",
     "iopub.status.idle": "2022-04-14T09:03:23.184969Z",
     "shell.execute_reply": "2022-04-14T09:03:23.184453Z",
     "shell.execute_reply.started": "2022-04-14T09:03:23.181915Z"
    },
    "tags": []
   },
   "outputs": [
    {
     "name": "stdout",
     "output_type": "stream",
     "text": [
      "time.struct_time(tm_year=2022, tm_mon=4, tm_mday=14, tm_hour=9, tm_min=3, tm_sec=23, tm_wday=3, tm_yday=104, tm_isdst=0)\n"
     ]
    }
   ],
   "source": [
    "print_time()"
   ]
  },
  {
   "cell_type": "markdown",
   "id": "reliable-folder",
   "metadata": {
    "tags": []
   },
   "source": [
    "### Docstring"
   ]
  },
  {
   "cell_type": "code",
   "execution_count": 37,
   "id": "serial-dividend",
   "metadata": {
    "execution": {
     "iopub.execute_input": "2022-04-14T09:06:59.358678Z",
     "iopub.status.busy": "2022-04-14T09:06:59.358478Z",
     "iopub.status.idle": "2022-04-14T09:06:59.361882Z",
     "shell.execute_reply": "2022-04-14T09:06:59.361462Z",
     "shell.execute_reply.started": "2022-04-14T09:06:59.358659Z"
    },
    "tags": []
   },
   "outputs": [],
   "source": [
    "def ajoute_deux_nombres(variable_1, variable_2):\n",
    "    \"\"\"\n",
    "    Ajoute deux nombres entre eux\n",
    "    \"\"\"\n",
    "    return variable_1 + variable_2"
   ]
  },
  {
   "cell_type": "code",
   "execution_count": 40,
   "id": "equipped-january",
   "metadata": {
    "execution": {
     "iopub.execute_input": "2022-04-14T09:07:30.787947Z",
     "iopub.status.busy": "2022-04-14T09:07:30.787725Z",
     "iopub.status.idle": "2022-04-14T09:07:30.791428Z",
     "shell.execute_reply": "2022-04-14T09:07:30.790811Z",
     "shell.execute_reply.started": "2022-04-14T09:07:30.787929Z"
    },
    "tags": []
   },
   "outputs": [
    {
     "data": {
      "text/plain": [
       "\u001b[0;31mSignature:\u001b[0m \u001b[0mune_fonction\u001b[0m\u001b[0;34m(\u001b[0m\u001b[0mvariable_1\u001b[0m\u001b[0;34m,\u001b[0m \u001b[0mvariable_2\u001b[0m\u001b[0;34m)\u001b[0m\u001b[0;34m\u001b[0m\u001b[0;34m\u001b[0m\u001b[0m\n",
       "\u001b[0;31mDocstring:\u001b[0m <no docstring>\n",
       "\u001b[0;31mFile:\u001b[0m      /tmp/ipykernel_608/1636446849.py\n",
       "\u001b[0;31mType:\u001b[0m      function\n"
      ]
     },
     "metadata": {},
     "output_type": "display_data"
    }
   ],
   "source": [
    "une_fonction?"
   ]
  },
  {
   "cell_type": "code",
   "execution_count": 42,
   "id": "83b38329-a777-4405-977f-15431fa165fd",
   "metadata": {
    "execution": {
     "iopub.execute_input": "2022-04-14T09:07:54.729597Z",
     "iopub.status.busy": "2022-04-14T09:07:54.729460Z",
     "iopub.status.idle": "2022-04-14T09:07:54.733503Z",
     "shell.execute_reply": "2022-04-14T09:07:54.733036Z",
     "shell.execute_reply.started": "2022-04-14T09:07:54.729581Z"
    },
    "tags": []
   },
   "outputs": [
    {
     "data": {
      "text/plain": [
       "\u001b[0;31mSignature:\u001b[0m \u001b[0majoute_deux_nombres\u001b[0m\u001b[0;34m(\u001b[0m\u001b[0mvariable_1\u001b[0m\u001b[0;34m,\u001b[0m \u001b[0mvariable_2\u001b[0m\u001b[0;34m)\u001b[0m\u001b[0;34m\u001b[0m\u001b[0;34m\u001b[0m\u001b[0m\n",
       "\u001b[0;31mDocstring:\u001b[0m Ajoute deux nombres entre eux\n",
       "\u001b[0;31mFile:\u001b[0m      /tmp/ipykernel_608/1640830038.py\n",
       "\u001b[0;31mType:\u001b[0m      function\n"
      ]
     },
     "metadata": {},
     "output_type": "display_data"
    }
   ],
   "source": [
    "ajoute_deux_nombres?"
   ]
  },
  {
   "cell_type": "code",
   "execution_count": 45,
   "id": "815a8a2b-33bc-493f-9760-f83939116c6d",
   "metadata": {
    "execution": {
     "iopub.execute_input": "2022-04-14T09:10:31.562884Z",
     "iopub.status.busy": "2022-04-14T09:10:31.562624Z",
     "iopub.status.idle": "2022-04-14T09:10:31.566619Z",
     "shell.execute_reply": "2022-04-14T09:10:31.566151Z",
     "shell.execute_reply.started": "2022-04-14T09:10:31.562866Z"
    }
   },
   "outputs": [
    {
     "data": {
      "text/plain": [
       "<function __main__.ajoute_deux_nombres(variable_1, variable_2)>"
      ]
     },
     "execution_count": 45,
     "metadata": {},
     "output_type": "execute_result"
    }
   ],
   "source": [
    "ajoute_deux_nombres"
   ]
  },
  {
   "cell_type": "code",
   "execution_count": 46,
   "id": "1bc236c1-154b-44af-a223-c8278ed77959",
   "metadata": {
    "execution": {
     "iopub.execute_input": "2022-04-14T09:10:32.308459Z",
     "iopub.status.busy": "2022-04-14T09:10:32.308272Z",
     "iopub.status.idle": "2022-04-14T09:10:32.311923Z",
     "shell.execute_reply": "2022-04-14T09:10:32.311504Z",
     "shell.execute_reply.started": "2022-04-14T09:10:32.308428Z"
    }
   },
   "outputs": [
    {
     "data": {
      "text/plain": [
       "<function time.sleep>"
      ]
     },
     "execution_count": 46,
     "metadata": {},
     "output_type": "execute_result"
    }
   ],
   "source": [
    "time.sleep"
   ]
  },
  {
   "cell_type": "markdown",
   "id": "noble-senator",
   "metadata": {
    "execution": {
     "iopub.execute_input": "2021-04-25T12:35:34.593022Z",
     "iopub.status.busy": "2021-04-25T12:35:34.592861Z",
     "iopub.status.idle": "2021-04-25T12:35:34.596089Z",
     "shell.execute_reply": "2021-04-25T12:35:34.595492Z",
     "shell.execute_reply.started": "2021-04-25T12:35:34.593003Z"
    }
   },
   "source": [
    "Convention pour la docstring:\n",
    "- [PEP 257](https://www.python.org/dev/peps/pep-0257/)\n",
    "\n",
    "Mais n'est pas toujours suivie (e.g. [numpy](https://numpydoc.readthedocs.io/en/latest/), pandas, etc).\n"
   ]
  },
  {
   "cell_type": "markdown",
   "id": "c16e6dc9-b6d2-4a2b-a4b5-fc7787c3de6f",
   "metadata": {
    "tags": []
   },
   "source": [
    "### Hint typing"
   ]
  },
  {
   "cell_type": "code",
   "execution_count": 55,
   "id": "13a8af56-09de-4bb3-a1c5-24faa0d79e5b",
   "metadata": {
    "execution": {
     "iopub.execute_input": "2022-04-14T09:17:48.592957Z",
     "iopub.status.busy": "2022-04-14T09:17:48.592651Z",
     "iopub.status.idle": "2022-04-14T09:17:48.596264Z",
     "shell.execute_reply": "2022-04-14T09:17:48.595727Z",
     "shell.execute_reply.started": "2022-04-14T09:17:48.592931Z"
    },
    "tags": []
   },
   "outputs": [],
   "source": [
    "def ajoute_deux_nombres(variable_1 : int, variable_2: int) -> int:\n",
    "    \"\"\"\n",
    "    Ajoute deux nombres entre eux\n",
    "    \"\"\"\n",
    "    return variable_1 + variable_2"
   ]
  },
  {
   "cell_type": "markdown",
   "id": "664d1bbb-7688-453d-bc4b-856055d3bb2b",
   "metadata": {},
   "source": [
    "> Adding type hints like this has no runtime effect: they are only hints and are not enforced on their own. For instance, if we use a wrong type for the (admittedly badly named) align argument, the code still runs without any problems or warnings."
   ]
  },
  {
   "cell_type": "code",
   "execution_count": 57,
   "id": "5cc6fc28-5829-4fac-9bb1-8e8e6b119fdd",
   "metadata": {
    "execution": {
     "iopub.execute_input": "2022-04-14T09:18:11.038399Z",
     "iopub.status.busy": "2022-04-14T09:18:11.038182Z",
     "iopub.status.idle": "2022-04-14T09:18:11.042283Z",
     "shell.execute_reply": "2022-04-14T09:18:11.041903Z",
     "shell.execute_reply.started": "2022-04-14T09:18:11.038360Z"
    },
    "tags": []
   },
   "outputs": [
    {
     "data": {
      "text/plain": [
       "\"rentrez votre agerentrez l'age de votre père\""
      ]
     },
     "execution_count": 57,
     "metadata": {},
     "output_type": "execute_result"
    }
   ],
   "source": [
    "ajoute_deux_nombres(\"rentrez votre age\", \n",
    "                    \"rentrez l'age de votre père\")"
   ]
  },
  {
   "cell_type": "code",
   "execution_count": 58,
   "id": "73392978-039e-4b03-aac6-78cf02447a5c",
   "metadata": {
    "execution": {
     "iopub.execute_input": "2022-04-14T09:19:18.043325Z",
     "iopub.status.busy": "2022-04-14T09:19:18.043054Z",
     "iopub.status.idle": "2022-04-14T09:19:18.047166Z",
     "shell.execute_reply": "2022-04-14T09:19:18.046725Z",
     "shell.execute_reply.started": "2022-04-14T09:19:18.043305Z"
    },
    "tags": []
   },
   "outputs": [
    {
     "data": {
      "text/plain": [
       "5"
      ]
     },
     "execution_count": 58,
     "metadata": {},
     "output_type": "execute_result"
    }
   ],
   "source": [
    "ajoute_deux_nombres(3,2)"
   ]
  },
  {
   "cell_type": "markdown",
   "id": "45e4fa41-b4b0-4583-897c-8a7ce628d97d",
   "metadata": {},
   "source": [
    "Pour aller plus loin sur le sujet : https://realpython.com/python-type-checking/\n",
    "\n",
    "On peut forcer les type en utilisant la librairie [pydantic](https://pydantic-docs.helpmanual.io/)"
   ]
  },
  {
   "cell_type": "markdown",
   "id": "integral-excess",
   "metadata": {},
   "source": [
    "### Fonction anonyme "
   ]
  },
  {
   "cell_type": "code",
   "execution_count": 23,
   "id": "ad371f94-8d01-4c40-8a9d-8ac4b2b20ff6",
   "metadata": {},
   "outputs": [
    {
     "data": {
      "text/plain": [
       "5"
      ]
     },
     "execution_count": 23,
     "metadata": {},
     "output_type": "execute_result"
    }
   ],
   "source": [
    "ajoute_deux_nombres(3,2)"
   ]
  },
  {
   "cell_type": "code",
   "execution_count": 63,
   "id": "elementary-increase",
   "metadata": {
    "execution": {
     "iopub.execute_input": "2022-04-14T09:23:38.035171Z",
     "iopub.status.busy": "2022-04-14T09:23:38.034965Z",
     "iopub.status.idle": "2022-04-14T09:23:38.038938Z",
     "shell.execute_reply": "2022-04-14T09:23:38.038441Z",
     "shell.execute_reply.started": "2022-04-14T09:23:38.035127Z"
    },
    "tags": []
   },
   "outputs": [
    {
     "data": {
      "text/plain": [
       "<function __main__.<lambda>(x, y)>"
      ]
     },
     "execution_count": 63,
     "metadata": {},
     "output_type": "execute_result"
    }
   ],
   "source": [
    "lambda x,y: input(x + y )(3,2)"
   ]
  },
  {
   "cell_type": "code",
   "execution_count": 64,
   "id": "de51d27a-5f5f-4721-a2a1-af27cf210f48",
   "metadata": {
    "execution": {
     "iopub.execute_input": "2022-04-14T09:24:14.758969Z",
     "iopub.status.busy": "2022-04-14T09:24:14.758710Z",
     "iopub.status.idle": "2022-04-14T09:24:14.762069Z",
     "shell.execute_reply": "2022-04-14T09:24:14.761635Z",
     "shell.execute_reply.started": "2022-04-14T09:24:14.758935Z"
    },
    "tags": []
   },
   "outputs": [],
   "source": [
    "une_fonction_lambda = lambda x,y: x + y #Mauvaise pratique"
   ]
  },
  {
   "cell_type": "code",
   "execution_count": 66,
   "id": "arabic-penalty",
   "metadata": {
    "execution": {
     "iopub.execute_input": "2022-04-14T09:24:25.470286Z",
     "iopub.status.busy": "2022-04-14T09:24:25.469601Z",
     "iopub.status.idle": "2022-04-14T09:24:25.473895Z",
     "shell.execute_reply": "2022-04-14T09:24:25.473301Z",
     "shell.execute_reply.started": "2022-04-14T09:24:25.470264Z"
    },
    "tags": []
   },
   "outputs": [
    {
     "data": {
      "text/plain": [
       "3"
      ]
     },
     "execution_count": 66,
     "metadata": {},
     "output_type": "execute_result"
    }
   ],
   "source": [
    "une_fonction_lambda(1,2)"
   ]
  },
  {
   "cell_type": "code",
   "execution_count": 65,
   "id": "f7dca654-656f-401c-bee3-41f5f3f5c457",
   "metadata": {
    "execution": {
     "iopub.execute_input": "2022-04-14T09:24:17.129183Z",
     "iopub.status.busy": "2022-04-14T09:24:17.129003Z",
     "iopub.status.idle": "2022-04-14T09:24:17.132646Z",
     "shell.execute_reply": "2022-04-14T09:24:17.132190Z",
     "shell.execute_reply.started": "2022-04-14T09:24:17.129154Z"
    },
    "tags": []
   },
   "outputs": [
    {
     "data": {
      "text/plain": [
       "139714439643792"
      ]
     },
     "execution_count": 65,
     "metadata": {},
     "output_type": "execute_result"
    }
   ],
   "source": [
    "id(une_fonction_lambda)"
   ]
  },
  {
   "cell_type": "markdown",
   "id": "bf677844-f09e-45bf-93f0-41f2d5d38b3d",
   "metadata": {
    "tags": []
   },
   "source": [
    "### L'opérateur * (splat), l'unpacking et Args and Kwargs"
   ]
  },
  {
   "cell_type": "markdown",
   "id": "23e74c9e-340a-45ea-8d7d-22b9585dd88c",
   "metadata": {},
   "source": [
    "Sam et Max : https://webcache.googleusercontent.com/search?q=cache:6T2ZA-vGNsoJ:https://sametmax.oprax.fr/operateur-splat-ou-etoile-en-python/index.html+&cd=4&hl=en&ct=clnk&gl=fr&client=ubuntu"
   ]
  },
  {
   "cell_type": "code",
   "execution_count": 68,
   "id": "dfbb8251-81e6-4fef-9a1f-44a1830661fc",
   "metadata": {
    "execution": {
     "iopub.execute_input": "2022-04-14T09:26:10.153772Z",
     "iopub.status.busy": "2022-04-14T09:26:10.153591Z",
     "iopub.status.idle": "2022-04-14T09:26:10.156813Z",
     "shell.execute_reply": "2022-04-14T09:26:10.156362Z",
     "shell.execute_reply.started": "2022-04-14T09:26:10.153742Z"
    },
    "tags": []
   },
   "outputs": [],
   "source": [
    "drapeau = (\"bleu\", \"blanc\", \"rouge\")"
   ]
  },
  {
   "cell_type": "code",
   "execution_count": 70,
   "id": "1b34b30f-9eb2-4dd1-addd-317d4b535316",
   "metadata": {
    "execution": {
     "iopub.execute_input": "2022-04-14T09:26:50.935076Z",
     "iopub.status.busy": "2022-04-14T09:26:50.934553Z",
     "iopub.status.idle": "2022-04-14T09:26:50.937695Z",
     "shell.execute_reply": "2022-04-14T09:26:50.937009Z",
     "shell.execute_reply.started": "2022-04-14T09:26:50.935052Z"
    },
    "tags": []
   },
   "outputs": [],
   "source": [
    "a,b,c = drapeau # ceci est de l'unpacking"
   ]
  },
  {
   "cell_type": "code",
   "execution_count": 71,
   "id": "8f2a88c1-ee9e-4498-9126-01189ab3b1db",
   "metadata": {
    "execution": {
     "iopub.execute_input": "2022-04-14T09:26:59.576497Z",
     "iopub.status.busy": "2022-04-14T09:26:59.576261Z",
     "iopub.status.idle": "2022-04-14T09:26:59.580066Z",
     "shell.execute_reply": "2022-04-14T09:26:59.579515Z",
     "shell.execute_reply.started": "2022-04-14T09:26:59.576464Z"
    },
    "tags": []
   },
   "outputs": [
    {
     "data": {
      "text/plain": [
       "'rouge'"
      ]
     },
     "execution_count": 71,
     "metadata": {},
     "output_type": "execute_result"
    }
   ],
   "source": [
    "c"
   ]
  },
  {
   "cell_type": "code",
   "execution_count": 73,
   "id": "54b453fd-1701-47f6-a8b5-874d2f8fe4da",
   "metadata": {
    "execution": {
     "iopub.execute_input": "2022-04-14T09:28:51.733209Z",
     "iopub.status.busy": "2022-04-14T09:28:51.733033Z",
     "iopub.status.idle": "2022-04-14T09:28:51.740086Z",
     "shell.execute_reply": "2022-04-14T09:28:51.739320Z",
     "shell.execute_reply.started": "2022-04-14T09:28:51.733192Z"
    },
    "tags": []
   },
   "outputs": [
    {
     "ename": "ValueError",
     "evalue": "not enough values to unpack (expected 4, got 3)",
     "output_type": "error",
     "traceback": [
      "\u001b[0;31m---------------------------------------------------------------------------\u001b[0m",
      "\u001b[0;31mValueError\u001b[0m                                Traceback (most recent call last)",
      "\u001b[0;32m/tmp/ipykernel_608/3733872159.py\u001b[0m in \u001b[0;36m<module>\u001b[0;34m\u001b[0m\n\u001b[0;32m----> 1\u001b[0;31m \u001b[0ma\u001b[0m\u001b[0;34m,\u001b[0m\u001b[0mb\u001b[0m\u001b[0;34m,\u001b[0m\u001b[0mc\u001b[0m\u001b[0;34m,\u001b[0m\u001b[0md\u001b[0m \u001b[0;34m=\u001b[0m \u001b[0mdrapeau\u001b[0m\u001b[0;34m\u001b[0m\u001b[0;34m\u001b[0m\u001b[0m\n\u001b[0m",
      "\u001b[0;31mValueError\u001b[0m: not enough values to unpack (expected 4, got 3)"
     ]
    }
   ],
   "source": [
    "a,b = drapeau"
   ]
  },
  {
   "cell_type": "code",
   "execution_count": 76,
   "id": "88fb9d8a-0a89-4353-b935-0e720377cda7",
   "metadata": {
    "execution": {
     "iopub.execute_input": "2022-04-14T09:29:32.775972Z",
     "iopub.status.busy": "2022-04-14T09:29:32.775514Z",
     "iopub.status.idle": "2022-04-14T09:29:32.778497Z",
     "shell.execute_reply": "2022-04-14T09:29:32.777958Z",
     "shell.execute_reply.started": "2022-04-14T09:29:32.775952Z"
    },
    "tags": []
   },
   "outputs": [],
   "source": [
    "drapeau = (\"bleu\", \"blanc\", \"rouge\")\n",
    "a, *autres_couleurs = drapeau"
   ]
  },
  {
   "cell_type": "code",
   "execution_count": 79,
   "id": "20779de8-0f52-4ddf-a485-bdf8e4373402",
   "metadata": {
    "execution": {
     "iopub.execute_input": "2022-04-14T09:30:03.326848Z",
     "iopub.status.busy": "2022-04-14T09:30:03.326505Z",
     "iopub.status.idle": "2022-04-14T09:30:03.330794Z",
     "shell.execute_reply": "2022-04-14T09:30:03.330270Z",
     "shell.execute_reply.started": "2022-04-14T09:30:03.326823Z"
    },
    "tags": []
   },
   "outputs": [
    {
     "data": {
      "text/plain": [
       "'bleu'"
      ]
     },
     "execution_count": 79,
     "metadata": {},
     "output_type": "execute_result"
    }
   ],
   "source": [
    "a"
   ]
  },
  {
   "cell_type": "code",
   "execution_count": 80,
   "id": "33f94bba-ae9e-4e00-8e48-520b88183a00",
   "metadata": {
    "execution": {
     "iopub.execute_input": "2022-04-14T09:30:03.845420Z",
     "iopub.status.busy": "2022-04-14T09:30:03.845180Z",
     "iopub.status.idle": "2022-04-14T09:30:03.849105Z",
     "shell.execute_reply": "2022-04-14T09:30:03.848535Z",
     "shell.execute_reply.started": "2022-04-14T09:30:03.845395Z"
    },
    "tags": []
   },
   "outputs": [
    {
     "data": {
      "text/plain": [
       "['blanc', 'rouge']"
      ]
     },
     "execution_count": 80,
     "metadata": {},
     "output_type": "execute_result"
    }
   ],
   "source": [
    "autres_couleurs"
   ]
  },
  {
   "cell_type": "code",
   "execution_count": 93,
   "id": "488e59f5-28fd-4554-ae50-145409714406",
   "metadata": {
    "execution": {
     "iopub.execute_input": "2022-04-14T09:33:51.308121Z",
     "iopub.status.busy": "2022-04-14T09:33:51.307915Z",
     "iopub.status.idle": "2022-04-14T09:33:51.311177Z",
     "shell.execute_reply": "2022-04-14T09:33:51.310728Z",
     "shell.execute_reply.started": "2022-04-14T09:33:51.308090Z"
    },
    "tags": []
   },
   "outputs": [],
   "source": [
    "def afficher_trois_elements(elem1, elem2=None, elem3=None):\n",
    "    print(elem1)\n",
    "    print(elem2)\n",
    "    print(elem3)"
   ]
  },
  {
   "cell_type": "code",
   "execution_count": 94,
   "id": "d172a11d-a021-45c3-b53f-b667fdcfbe01",
   "metadata": {
    "execution": {
     "iopub.execute_input": "2022-04-14T09:33:51.983928Z",
     "iopub.status.busy": "2022-04-14T09:33:51.983751Z",
     "iopub.status.idle": "2022-04-14T09:33:51.987098Z",
     "shell.execute_reply": "2022-04-14T09:33:51.986717Z",
     "shell.execute_reply.started": "2022-04-14T09:33:51.983898Z"
    },
    "tags": []
   },
   "outputs": [
    {
     "name": "stdout",
     "output_type": "stream",
     "text": [
      "('bleu', 'blanc', 'rouge')\n",
      "None\n",
      "None\n"
     ]
    }
   ],
   "source": [
    " afficher_trois_elements(drapeau)"
   ]
  },
  {
   "cell_type": "code",
   "execution_count": 95,
   "id": "26131477-ad38-4e36-a36d-7178512b8661",
   "metadata": {
    "execution": {
     "iopub.execute_input": "2022-04-14T09:33:54.670335Z",
     "iopub.status.busy": "2022-04-14T09:33:54.669882Z",
     "iopub.status.idle": "2022-04-14T09:33:54.673392Z",
     "shell.execute_reply": "2022-04-14T09:33:54.672955Z",
     "shell.execute_reply.started": "2022-04-14T09:33:54.670314Z"
    },
    "tags": []
   },
   "outputs": [
    {
     "name": "stdout",
     "output_type": "stream",
     "text": [
      "bleu\n",
      "blanc\n",
      "rouge\n"
     ]
    }
   ],
   "source": [
    "afficher_trois_elements(*drapeau)"
   ]
  },
  {
   "cell_type": "code",
   "execution_count": 100,
   "id": "08d2efe9-47a3-4ccb-9fe9-1be9be514457",
   "metadata": {
    "execution": {
     "iopub.execute_input": "2022-04-14T09:35:19.839684Z",
     "iopub.status.busy": "2022-04-14T09:35:19.839507Z",
     "iopub.status.idle": "2022-04-14T09:35:19.842455Z",
     "shell.execute_reply": "2022-04-14T09:35:19.842037Z",
     "shell.execute_reply.started": "2022-04-14T09:35:19.839654Z"
    },
    "tags": []
   },
   "outputs": [],
   "source": [
    "liste_signature = [1,2]"
   ]
  },
  {
   "cell_type": "code",
   "execution_count": 101,
   "id": "45da5f6f-7eaf-4c46-8af1-81016f91f0fa",
   "metadata": {
    "execution": {
     "iopub.execute_input": "2022-04-14T09:35:20.565304Z",
     "iopub.status.busy": "2022-04-14T09:35:20.565124Z",
     "iopub.status.idle": "2022-04-14T09:35:20.568364Z",
     "shell.execute_reply": "2022-04-14T09:35:20.567872Z",
     "shell.execute_reply.started": "2022-04-14T09:35:20.565275Z"
    },
    "tags": []
   },
   "outputs": [
    {
     "name": "stdout",
     "output_type": "stream",
     "text": [
      "1\n",
      "2\n",
      "None\n"
     ]
    }
   ],
   "source": [
    "afficher_trois_elements(*liste_signature)"
   ]
  },
  {
   "cell_type": "code",
   "execution_count": 102,
   "id": "34cc73c4-11d0-4378-8c8e-652ab9de294d",
   "metadata": {
    "execution": {
     "iopub.execute_input": "2022-04-14T09:35:46.011813Z",
     "iopub.status.busy": "2022-04-14T09:35:46.011637Z",
     "iopub.status.idle": "2022-04-14T09:35:46.015082Z",
     "shell.execute_reply": "2022-04-14T09:35:46.014739Z",
     "shell.execute_reply.started": "2022-04-14T09:35:46.011783Z"
    },
    "tags": []
   },
   "outputs": [
    {
     "name": "stdout",
     "output_type": "stream",
     "text": [
      "1\n",
      "2\n",
      "None\n"
     ]
    }
   ],
   "source": [
    "afficher_trois_elements(1,2)"
   ]
  },
  {
   "cell_type": "code",
   "execution_count": 105,
   "id": "a307ad73-688b-4a74-bb4f-f148dd00558a",
   "metadata": {
    "execution": {
     "iopub.execute_input": "2022-04-14T09:36:57.310121Z",
     "iopub.status.busy": "2022-04-14T09:36:57.309886Z",
     "iopub.status.idle": "2022-04-14T09:36:57.314557Z",
     "shell.execute_reply": "2022-04-14T09:36:57.314063Z",
     "shell.execute_reply.started": "2022-04-14T09:36:57.310096Z"
    },
    "tags": []
   },
   "outputs": [
    {
     "name": "stdout",
     "output_type": "stream",
     "text": [
      "1\n",
      "2\n",
      "3\n"
     ]
    }
   ],
   "source": [
    "l = [1, 2, 3, \"element que l'on ne veut pas\"]\n",
    "afficher_trois_elements(*l[:-1])"
   ]
  },
  {
   "cell_type": "code",
   "execution_count": 107,
   "id": "719ebc82-7a6f-4aab-a5fe-343f48c6436b",
   "metadata": {
    "execution": {
     "iopub.execute_input": "2022-04-14T09:38:14.563156Z",
     "iopub.status.busy": "2022-04-14T09:38:14.562941Z",
     "iopub.status.idle": "2022-04-14T09:38:14.566216Z",
     "shell.execute_reply": "2022-04-14T09:38:14.565799Z",
     "shell.execute_reply.started": "2022-04-14T09:38:14.563110Z"
    },
    "tags": []
   },
   "outputs": [],
   "source": [
    "def afficher_trois_elements(elem1, elem2=None, elem3=None):\n",
    "    print(elem1)\n",
    "    print(elem2)\n",
    "    print(elem3)"
   ]
  },
  {
   "cell_type": "code",
   "execution_count": 108,
   "id": "6aa619af-bc63-4361-b574-3dfc40016284",
   "metadata": {
    "execution": {
     "iopub.execute_input": "2022-04-14T09:38:14.903238Z",
     "iopub.status.busy": "2022-04-14T09:38:14.903032Z",
     "iopub.status.idle": "2022-04-14T09:38:14.907117Z",
     "shell.execute_reply": "2022-04-14T09:38:14.906616Z",
     "shell.execute_reply.started": "2022-04-14T09:38:14.903208Z"
    },
    "tags": []
   },
   "outputs": [
    {
     "name": "stdout",
     "output_type": "stream",
     "text": [
      "eau\n",
      "None\n",
      "air\n"
     ]
    }
   ],
   "source": [
    "elements = {\"elem1\": \"eau\",  \"elem3\": \"air\"}\n",
    "afficher_trois_elements(**elements)"
   ]
  },
  {
   "cell_type": "code",
   "execution_count": 109,
   "id": "f0ac322a-8076-4182-b7c7-87d2475a82f0",
   "metadata": {
    "execution": {
     "iopub.execute_input": "2022-04-14T09:38:15.501869Z",
     "iopub.status.busy": "2022-04-14T09:38:15.501692Z",
     "iopub.status.idle": "2022-04-14T09:38:15.505884Z",
     "shell.execute_reply": "2022-04-14T09:38:15.505364Z",
     "shell.execute_reply.started": "2022-04-14T09:38:15.501838Z"
    }
   },
   "outputs": [
    {
     "name": "stdout",
     "output_type": "stream",
     "text": [
      "eau\n",
      "None\n",
      "air\n"
     ]
    }
   ],
   "source": [
    "afficher_trois_elements(elem3=\"air\", elem1=\"eau\")"
   ]
  },
  {
   "cell_type": "code",
   "execution_count": 110,
   "id": "4ac63b55-f33c-4eb6-9b96-d9a2287a7113",
   "metadata": {
    "execution": {
     "iopub.execute_input": "2022-04-14T09:38:41.970666Z",
     "iopub.status.busy": "2022-04-14T09:38:41.970453Z",
     "iopub.status.idle": "2022-04-14T09:38:41.974242Z",
     "shell.execute_reply": "2022-04-14T09:38:41.973730Z",
     "shell.execute_reply.started": "2022-04-14T09:38:41.970648Z"
    },
    "tags": []
   },
   "outputs": [
    {
     "name": "stdout",
     "output_type": "stream",
     "text": [
      "elem1\n",
      "elem3\n",
      "None\n"
     ]
    }
   ],
   "source": [
    "afficher_trois_elements(*elements)"
   ]
  },
  {
   "cell_type": "markdown",
   "id": "eaec2416-919a-47f2-9f68-53695ab20bf0",
   "metadata": {},
   "source": [
    "### Paramétrage dynamique"
   ]
  },
  {
   "cell_type": "markdown",
   "id": "aa0b7095-885f-4718-9241-477aab150f0b",
   "metadata": {},
   "source": [
    "#### Via listes (args)"
   ]
  },
  {
   "cell_type": "code",
   "execution_count": 112,
   "id": "bf9efb37-3097-4855-8132-da18ddc0382f",
   "metadata": {
    "execution": {
     "iopub.execute_input": "2022-04-14T09:39:35.005027Z",
     "iopub.status.busy": "2022-04-14T09:39:35.004836Z",
     "iopub.status.idle": "2022-04-14T09:39:35.007580Z",
     "shell.execute_reply": "2022-04-14T09:39:35.007163Z",
     "shell.execute_reply.started": "2022-04-14T09:39:35.005011Z"
    },
    "tags": []
   },
   "outputs": [],
   "source": [
    "def multiply(a, b):\n",
    "    return a*b"
   ]
  },
  {
   "cell_type": "code",
   "execution_count": 113,
   "id": "6fd6de22-ef29-49bd-ad79-2b3ff15ec191",
   "metadata": {
    "execution": {
     "iopub.execute_input": "2022-04-14T09:39:46.379929Z",
     "iopub.status.busy": "2022-04-14T09:39:46.379686Z",
     "iopub.status.idle": "2022-04-14T09:39:46.383235Z",
     "shell.execute_reply": "2022-04-14T09:39:46.382872Z",
     "shell.execute_reply.started": "2022-04-14T09:39:46.379883Z"
    },
    "tags": []
   },
   "outputs": [
    {
     "data": {
      "text/plain": [
       "6"
      ]
     },
     "execution_count": 113,
     "metadata": {},
     "output_type": "execute_result"
    }
   ],
   "source": [
    "multiply(2, 3)"
   ]
  },
  {
   "cell_type": "code",
   "execution_count": 114,
   "id": "9b96668b-ccab-459d-97c4-5d3a7e408aee",
   "metadata": {
    "execution": {
     "iopub.execute_input": "2022-04-14T09:40:45.229139Z",
     "iopub.status.busy": "2022-04-14T09:40:45.228928Z",
     "iopub.status.idle": "2022-04-14T09:40:45.231773Z",
     "shell.execute_reply": "2022-04-14T09:40:45.231389Z",
     "shell.execute_reply.started": "2022-04-14T09:40:45.229108Z"
    },
    "tags": []
   },
   "outputs": [],
   "source": [
    " def multiply(elements_a_multiplier):\n",
    "    res = 1\n",
    "    for i in elements_a_multiplier:\n",
    "        res = res * i\n",
    "    return res"
   ]
  },
  {
   "cell_type": "code",
   "execution_count": 115,
   "id": "9a5a45e1-1297-4766-920e-850f8548e22c",
   "metadata": {
    "execution": {
     "iopub.execute_input": "2022-04-14T09:40:45.842231Z",
     "iopub.status.busy": "2022-04-14T09:40:45.842024Z",
     "iopub.status.idle": "2022-04-14T09:40:45.845919Z",
     "shell.execute_reply": "2022-04-14T09:40:45.845500Z",
     "shell.execute_reply.started": "2022-04-14T09:40:45.842201Z"
    },
    "tags": []
   },
   "outputs": [
    {
     "data": {
      "text/plain": [
       "24"
      ]
     },
     "execution_count": 115,
     "metadata": {},
     "output_type": "execute_result"
    }
   ],
   "source": [
    "multiply((1, 2, 3, 4))"
   ]
  },
  {
   "cell_type": "code",
   "execution_count": 124,
   "id": "4661549d-c079-481b-b4c4-d34228f683c6",
   "metadata": {
    "execution": {
     "iopub.execute_input": "2022-04-14T09:45:49.958405Z",
     "iopub.status.busy": "2022-04-14T09:45:49.957922Z",
     "iopub.status.idle": "2022-04-14T09:45:49.961129Z",
     "shell.execute_reply": "2022-04-14T09:45:49.960699Z",
     "shell.execute_reply.started": "2022-04-14T09:45:49.958380Z"
    },
    "tags": []
   },
   "outputs": [],
   "source": [
    "def multiply(*tous_les_elements):\n",
    "    res = 1\n",
    "    for i in tous_les_elements:\n",
    "        res = res * i\n",
    "    return res"
   ]
  },
  {
   "cell_type": "code",
   "execution_count": 125,
   "id": "78cd52a3-15d9-4765-93fe-3a3458969910",
   "metadata": {
    "execution": {
     "iopub.execute_input": "2022-04-14T09:45:50.513929Z",
     "iopub.status.busy": "2022-04-14T09:45:50.513714Z",
     "iopub.status.idle": "2022-04-14T09:45:50.517664Z",
     "shell.execute_reply": "2022-04-14T09:45:50.517110Z",
     "shell.execute_reply.started": "2022-04-14T09:45:50.513899Z"
    },
    "tags": []
   },
   "outputs": [
    {
     "data": {
      "text/plain": [
       "6"
      ]
     },
     "execution_count": 125,
     "metadata": {},
     "output_type": "execute_result"
    }
   ],
   "source": [
    "multiply(1, 2, 3)"
   ]
  },
  {
   "cell_type": "code",
   "execution_count": 126,
   "id": "aa2e2a68-0372-449e-9950-51a08871eb00",
   "metadata": {
    "execution": {
     "iopub.execute_input": "2022-04-14T09:45:51.112945Z",
     "iopub.status.busy": "2022-04-14T09:45:51.112772Z",
     "iopub.status.idle": "2022-04-14T09:45:51.116395Z",
     "shell.execute_reply": "2022-04-14T09:45:51.116054Z",
     "shell.execute_reply.started": "2022-04-14T09:45:51.112927Z"
    },
    "tags": []
   },
   "outputs": [
    {
     "data": {
      "text/plain": [
       "[1, 2, 3]"
      ]
     },
     "execution_count": 126,
     "metadata": {},
     "output_type": "execute_result"
    }
   ],
   "source": [
    "multiply([1, 2, 3])"
   ]
  },
  {
   "cell_type": "markdown",
   "id": "a8436993-bb5e-46b4-bb75-2cb10aa80a45",
   "metadata": {},
   "source": [
    "On peut passer un ensemble de paramètres, ou une liste !  \n",
    "La convention est d'appeler les listes de paramètres **args**."
   ]
  },
  {
   "cell_type": "markdown",
   "id": "948e6eb3-d2ab-4692-a731-c979e27707ac",
   "metadata": {},
   "source": [
    "#### Via dictionnaires (kwargs)"
   ]
  },
  {
   "cell_type": "code",
   "execution_count": 132,
   "id": "0e84f891-c307-4d63-89d4-9f0a46f585ee",
   "metadata": {
    "execution": {
     "iopub.execute_input": "2022-04-14T09:50:22.297555Z",
     "iopub.status.busy": "2022-04-14T09:50:22.297373Z",
     "iopub.status.idle": "2022-04-14T09:50:22.300905Z",
     "shell.execute_reply": "2022-04-14T09:50:22.300325Z",
     "shell.execute_reply.started": "2022-04-14T09:50:22.297524Z"
    },
    "tags": []
   },
   "outputs": [],
   "source": [
    " def afficher_recette(recette, **ingredients): # ingrédients sera un dictionnaire\n",
    "    print(recette)\n",
    "    for ingredient in ingredients.items():\n",
    "         #print(\" - %s: %s\" % ingredient)\n",
    "        print(f\" - {ingredient[0]}: {ingredient[1]}\")\n"
   ]
  },
  {
   "cell_type": "code",
   "execution_count": 133,
   "id": "becee232-13b2-459f-a998-6d6c17e87b7a",
   "metadata": {
    "execution": {
     "iopub.execute_input": "2022-04-14T09:50:23.976361Z",
     "iopub.status.busy": "2022-04-14T09:50:23.976181Z",
     "iopub.status.idle": "2022-04-14T09:50:23.979931Z",
     "shell.execute_reply": "2022-04-14T09:50:23.979492Z",
     "shell.execute_reply.started": "2022-04-14T09:50:23.976332Z"
    },
    "tags": []
   },
   "outputs": [
    {
     "name": "stdout",
     "output_type": "stream",
     "text": [
      "moukraines à la glaviouse\n",
      " - creme: trop\n",
      " - moukraines: suffisamment\n",
      " - glaviouse: si disponible\n",
      " - dessert: coucou\n"
     ]
    }
   ],
   "source": [
    "afficher_recette(\"moukraines à la glaviouse\",\n",
    "...                  creme=\"trop\", # on doit donner le nom de ce paramètre\n",
    "...                  moukraines= \"suffisamment\",\n",
    "...                  glaviouse=\"si disponible\",\n",
    "                     dessert = \"coucou\")"
   ]
  },
  {
   "cell_type": "markdown",
   "id": "e0b6320b-e86c-4591-8d79-b2c821c86571",
   "metadata": {},
   "source": [
    "### Finalité"
   ]
  },
  {
   "cell_type": "code",
   "execution_count": 134,
   "id": "8dd58e9c-bf04-4392-83f3-7cba4f7e6630",
   "metadata": {
    "execution": {
     "iopub.execute_input": "2022-04-14T09:51:49.290417Z",
     "iopub.status.busy": "2022-04-14T09:51:49.290256Z",
     "iopub.status.idle": "2022-04-14T09:51:49.294005Z",
     "shell.execute_reply": "2022-04-14T09:51:49.293541Z",
     "shell.execute_reply.started": "2022-04-14T09:51:49.290400Z"
    },
    "tags": []
   },
   "outputs": [],
   "source": [
    "def affichage_hybride(parametre_normal,\n",
    "                       parametre_avec_default=\"valeur par défaut\",\n",
    "                       *args,\n",
    "                       **kwargs):\n",
    "    print(parametre_normal)\n",
    "    print(parametre_avec_default)\n",
    "    print(args)\n",
    "    print(kwargs)"
   ]
  },
  {
   "cell_type": "code",
   "execution_count": 135,
   "id": "dd1e166e-036f-48a3-a708-b53d2aeecdcd",
   "metadata": {
    "execution": {
     "iopub.execute_input": "2022-04-14T09:51:55.359137Z",
     "iopub.status.busy": "2022-04-14T09:51:55.358936Z",
     "iopub.status.idle": "2022-04-14T09:51:55.363112Z",
     "shell.execute_reply": "2022-04-14T09:51:55.362427Z",
     "shell.execute_reply.started": "2022-04-14T09:51:55.359112Z"
    },
    "tags": []
   },
   "outputs": [
    {
     "name": "stdout",
     "output_type": "stream",
     "text": [
      "param1\n",
      "param2\n",
      "('infini1', 'infini2')\n",
      "{'kwinfini1': 1, 'kwinfini2': 2}\n"
     ]
    }
   ],
   "source": [
    "affichage_hybride(\"param1\", \"param2\", \"infini1\", \"infini2\", kwinfini1=1, kwinfini2=2)"
   ]
  },
  {
   "cell_type": "code",
   "execution_count": 137,
   "id": "9b2afa9c-50b7-42be-8a86-6ed5ec77d267",
   "metadata": {
    "execution": {
     "iopub.execute_input": "2022-04-14T09:52:48.300408Z",
     "iopub.status.busy": "2022-04-14T09:52:48.300227Z",
     "iopub.status.idle": "2022-04-14T09:52:48.303974Z",
     "shell.execute_reply": "2022-04-14T09:52:48.303587Z",
     "shell.execute_reply.started": "2022-04-14T09:52:48.300377Z"
    },
    "tags": []
   },
   "outputs": [
    {
     "name": "stdout",
     "output_type": "stream",
     "text": [
      "param1\n",
      "param2\n",
      "('infini1', 'infini2')\n",
      "{'kwinfini1': 1, 'kwinfini2': 2}\n"
     ]
    }
   ],
   "source": [
    "affichage_hybride(\"param1\", \"param2\", *[\"infini1\", \"infini2\"], **{\"kwinfini1\":1, \"kwinfini2\":2})"
   ]
  },
  {
   "cell_type": "markdown",
   "id": "cc679e07-a092-4ca7-9236-928498904f79",
   "metadata": {},
   "source": [
    "#### Exemple"
   ]
  },
  {
   "cell_type": "code",
   "execution_count": 139,
   "id": "46838cd9-4517-4a3f-9ae6-d439895f8f22",
   "metadata": {
    "execution": {
     "iopub.execute_input": "2022-04-14T09:53:01.049662Z",
     "iopub.status.busy": "2022-04-14T09:53:01.049427Z",
     "iopub.status.idle": "2022-04-14T09:53:29.583073Z",
     "shell.execute_reply": "2022-04-14T09:53:29.582440Z",
     "shell.execute_reply.started": "2022-04-14T09:53:01.049628Z"
    },
    "tags": []
   },
   "outputs": [
    {
     "name": "stdout",
     "output_type": "stream",
     "text": [
      "\u001b[33mWARNING: Retrying (Retry(total=4, connect=None, read=None, redirect=None, status=None)) after connection broken by 'NewConnectionError('<pip._vendor.urllib3.connection.HTTPSConnection object at 0x7f460de9a550>: Failed to establish a new connection: [Errno -3] Temporary failure in name resolution')': /simple/matplotlib/\u001b[0m\n",
      "^C\n",
      "Note: you may need to restart the kernel to use updated packages.\n"
     ]
    }
   ],
   "source": [
    "%pip install matplotlib"
   ]
  },
  {
   "cell_type": "code",
   "execution_count": 138,
   "id": "1d3a73c4-5bc3-4d83-bc74-9fa83764ef08",
   "metadata": {
    "execution": {
     "iopub.execute_input": "2022-04-14T09:52:52.151574Z",
     "iopub.status.busy": "2022-04-14T09:52:52.150913Z",
     "iopub.status.idle": "2022-04-14T09:52:52.157407Z",
     "shell.execute_reply": "2022-04-14T09:52:52.156802Z",
     "shell.execute_reply.started": "2022-04-14T09:52:52.151552Z"
    },
    "tags": []
   },
   "outputs": [
    {
     "ename": "ModuleNotFoundError",
     "evalue": "No module named 'matplotlib'",
     "output_type": "error",
     "traceback": [
      "\u001b[0;31m---------------------------------------------------------------------------\u001b[0m",
      "\u001b[0;31mModuleNotFoundError\u001b[0m                       Traceback (most recent call last)",
      "\u001b[0;32m/tmp/ipykernel_608/322768712.py\u001b[0m in \u001b[0;36m<module>\u001b[0;34m\u001b[0m\n\u001b[0;32m----> 1\u001b[0;31m \u001b[0;32mimport\u001b[0m \u001b[0mmatplotlib\u001b[0m\u001b[0;34m.\u001b[0m\u001b[0mpyplot\u001b[0m \u001b[0;32mas\u001b[0m \u001b[0mplt\u001b[0m\u001b[0;34m\u001b[0m\u001b[0;34m\u001b[0m\u001b[0m\n\u001b[0m",
      "\u001b[0;31mModuleNotFoundError\u001b[0m: No module named 'matplotlib'"
     ]
    }
   ],
   "source": [
    "import matplotlib.pyplot as plt"
   ]
  },
  {
   "cell_type": "code",
   "execution_count": 58,
   "id": "f9ccdd27-0088-4450-9b06-29cea9e46007",
   "metadata": {
    "tags": []
   },
   "outputs": [
    {
     "data": {
      "text/plain": [
       "[<matplotlib.lines.Line2D at 0x7f96d9999d10>]"
      ]
     },
     "execution_count": 58,
     "metadata": {},
     "output_type": "execute_result"
    },
    {
     "data": {
      "image/png": "[encoded data removed]",
      "text/plain": [
       "<Figure size 432x288 with 1 Axes>"
      ]
     },
     "metadata": {
      "needs_background": "light"
     },
     "output_type": "display_data"
    }
   ],
   "source": [
    "plt.plot([1,2,4])"
   ]
  },
  {
   "cell_type": "code",
   "execution_count": 59,
   "id": "09a8d0d2-b9a7-441f-93c4-c34922d802ef",
   "metadata": {
    "tags": []
   },
   "outputs": [
    {
     "data": {
      "text/plain": [
       "[<matplotlib.lines.Line2D at 0x7f96d7439050>]"
      ]
     },
     "execution_count": 59,
     "metadata": {},
     "output_type": "execute_result"
    },
    {
     "data": {
      "image/png": "[encoded data removed]",
      "text/plain": [
       "<Figure size 432x288 with 1 Axes>"
      ]
     },
     "metadata": {
      "needs_background": "light"
     },
     "output_type": "display_data"
    }
   ],
   "source": [
    "plt.plot([1,2,4], [4,5,6])"
   ]
  },
  {
   "cell_type": "code",
   "execution_count": 60,
   "id": "55c78c52-f5b8-4519-bfcf-c27948fce8d2",
   "metadata": {
    "tags": []
   },
   "outputs": [
    {
     "data": {
      "text/plain": [
       "[<matplotlib.lines.Line2D at 0x7f96d73544d0>]"
      ]
     },
     "execution_count": 60,
     "metadata": {},
     "output_type": "execute_result"
    },
    {
     "data": {
      "image/png": "[encoded data removed]",
      "text/plain": [
       "<Figure size 432x288 with 1 Axes>"
      ]
     },
     "metadata": {
      "needs_background": "light"
     },
     "output_type": "display_data"
    }
   ],
   "source": [
    "plt.plot([1,2,4], [4,5,6], color=\"red\")"
   ]
  },
  {
   "cell_type": "code",
   "execution_count": null,
   "id": "3a22f39a-3832-40ef-9e56-e32200e04f5d",
   "metadata": {},
   "outputs": [],
   "source": []
  }
 ],
 "metadata": {
  "kernelspec": {
   "display_name": "Python 3 (ipykernel)",
   "language": "python",
   "name": "python3"
  },
  "language_info": {
   "codemirror_mode": {
    "name": "ipython",
    "version": 3
   },
   "file_extension": ".py",
   "mimetype": "text/x-python",
   "name": "python",
   "nbconvert_exporter": "python",
   "pygments_lexer": "ipython3",
   "version": "3.7.12"
  }
 },
 "nbformat": 4,
 "nbformat_minor": 5
}
