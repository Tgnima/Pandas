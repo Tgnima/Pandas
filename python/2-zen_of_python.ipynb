{
 "cells": [
  {
   "cell_type": "code",
   "execution_count": 1,
   "metadata": {
    "execution": {
     "iopub.execute_input": "2022-04-13T13:47:15.960563Z",
     "iopub.status.busy": "2022-04-13T13:47:15.960389Z",
     "iopub.status.idle": "2022-04-13T13:47:15.964260Z",
     "shell.execute_reply": "2022-04-13T13:47:15.963830Z",
     "shell.execute_reply.started": "2022-04-13T13:47:15.960532Z"
    },
    "tags": []
   },
   "outputs": [
    {
     "name": "stdout",
     "output_type": "stream",
     "text": [
      "The Zen of Python, by Tim Peters\n",
      "\n",
      "Beautiful is better than ugly.\n",
      "Explicit is better than implicit.\n",
      "Simple is better than complex.\n",
      "Complex is better than complicated.\n",
      "Flat is better than nested.\n",
      "Sparse is better than dense.\n",
      "Readability counts.\n",
      "Special cases aren't special enough to break the rules.\n",
      "Although practicality beats purity.\n",
      "Errors should never pass silently.\n",
      "Unless explicitly silenced.\n",
      "In the face of ambiguity, refuse the temptation to guess.\n",
      "There should be one-- and preferably only one --obvious way to do it.\n",
      "Although that way may not be obvious at first unless you're Dutch.\n",
      "Now is better than never.\n",
      "Although never is often better than *right* now.\n",
      "If the implementation is hard to explain, it's a bad idea.\n",
      "If the implementation is easy to explain, it may be a good idea.\n",
      "Namespaces are one honking great idea -- let's do more of those!\n"
     ]
    }
   ],
   "source": [
    "import this"
   ]
  },
  {
   "cell_type": "markdown",
   "metadata": {
    "tags": []
   },
   "source": [
    "## Le zen of Python"
   ]
  },
  {
   "cell_type": "markdown",
   "metadata": {},
   "source": [
    "> Le Zen de Python est un ensemble de 19 principes qui influencent la conception du langage de programmation Python, et sont utiles pour comprendre et utiliser le langage [Wikipedia](https://fr.wikipedia.org/wiki/Zen_de_Python)"
   ]
  },
  {
   "cell_type": "markdown",
   "metadata": {},
   "source": [
    "Avoir ces principes en tête, peuvent aider à écrire du meilleur code/ plus pythonique."
   ]
  },
  {
   "cell_type": "markdown",
   "metadata": {},
   "source": [
    "### Explicit is better than implicit"
   ]
  },
  {
   "cell_type": "code",
   "execution_count": 2,
   "metadata": {
    "execution": {
     "iopub.execute_input": "2022-04-13T13:54:55.556366Z",
     "iopub.status.busy": "2022-04-13T13:54:55.555991Z",
     "iopub.status.idle": "2022-04-13T13:54:55.733445Z",
     "shell.execute_reply": "2022-04-13T13:54:55.732997Z",
     "shell.execute_reply.started": "2022-04-13T13:54:55.556332Z"
    },
    "tags": []
   },
   "outputs": [],
   "source": [
    "import pandas as pd\n",
    "import numpy as np\n",
    "df = pd.DataFrame({\"prenom\":[\"Etienne\", \"Sophie\", np.nan, \"Sophie\"]})"
   ]
  },
  {
   "cell_type": "code",
   "execution_count": 2,
   "metadata": {
    "tags": []
   },
   "outputs": [
    {
     "data": {
      "text/html": [
       "<div>\n",
       "<style scoped>\n",
       "    .dataframe tbody tr th:only-of-type {\n",
       "        vertical-align: middle;\n",
       "    }\n",
       "\n",
       "    .dataframe tbody tr th {\n",
       "        vertical-align: top;\n",
       "    }\n",
       "\n",
       "    .dataframe thead th {\n",
       "        text-align: right;\n",
       "    }\n",
       "</style>\n",
       "<table border=\"1\" class=\"dataframe\">\n",
       "  <thead>\n",
       "    <tr style=\"text-align: right;\">\n",
       "      <th></th>\n",
       "      <th>prenom</th>\n",
       "    </tr>\n",
       "  </thead>\n",
       "  <tbody>\n",
       "    <tr>\n",
       "      <th>0</th>\n",
       "      <td>Etienne</td>\n",
       "    </tr>\n",
       "    <tr>\n",
       "      <th>1</th>\n",
       "      <td>Sophie</td>\n",
       "    </tr>\n",
       "    <tr>\n",
       "      <th>2</th>\n",
       "      <td>NaN</td>\n",
       "    </tr>\n",
       "    <tr>\n",
       "      <th>3</th>\n",
       "      <td>Sophie</td>\n",
       "    </tr>\n",
       "  </tbody>\n",
       "</table>\n",
       "</div>"
      ],
      "text/plain": [
       "    prenom\n",
       "0  Etienne\n",
       "1   Sophie\n",
       "2      NaN\n",
       "3   Sophie"
      ]
     },
     "execution_count": 2,
     "metadata": {},
     "output_type": "execute_result"
    }
   ],
   "source": [
    "df"
   ]
  },
  {
   "cell_type": "code",
   "execution_count": 3,
   "metadata": {
    "tags": []
   },
   "outputs": [
    {
     "data": {
      "text/plain": [
       "Sophie     2\n",
       "Etienne    1\n",
       "Name: prenom, dtype: int64"
      ]
     },
     "execution_count": 3,
     "metadata": {},
     "output_type": "execute_result"
    }
   ],
   "source": [
    "df.prenom.value_counts()"
   ]
  },
  {
   "cell_type": "code",
   "execution_count": 4,
   "metadata": {
    "tags": []
   },
   "outputs": [
    {
     "data": {
      "text/plain": [
       "Sophie     2\n",
       "Etienne    1\n",
       "NaN        1\n",
       "Name: prenom, dtype: int64"
      ]
     },
     "execution_count": 4,
     "metadata": {},
     "output_type": "execute_result"
    }
   ],
   "source": [
    "df.prenom.value_counts(dropna=False)"
   ]
  },
  {
   "cell_type": "code",
   "execution_count": 6,
   "metadata": {},
   "outputs": [],
   "source": [
    "#Explicit\n",
    "def read_csv(filename):\n",
    "    # code for reading a csv\n",
    "    pass\n",
    "\n",
    "def read_json(filename):\n",
    "    # code for reading a json\n",
    "    pass\n",
    "    \n",
    "#Implicit\n",
    "def read(filename):\n",
    "    # code for reading a csv or json\n",
    "    # depending on the file extension\n",
    "    pass"
   ]
  },
  {
   "cell_type": "markdown",
   "metadata": {},
   "source": [
    "#### Flat is better than nested."
   ]
  },
  {
   "cell_type": "code",
   "execution_count": 3,
   "metadata": {
    "execution": {
     "iopub.execute_input": "2022-04-13T13:57:58.879062Z",
     "iopub.status.busy": "2022-04-13T13:57:58.878838Z",
     "iopub.status.idle": "2022-04-13T13:57:58.882590Z",
     "shell.execute_reply": "2022-04-13T13:57:58.882169Z",
     "shell.execute_reply.started": "2022-04-13T13:57:58.879044Z"
    },
    "tags": []
   },
   "outputs": [],
   "source": [
    "def my_nested_func(a,b,c,d,e):\n",
    "    if a > 5:\n",
    "        print(a)\n",
    "        if b > 10:\n",
    "            print(b)\n",
    "            if c != 0:\n",
    "                print(c)\n",
    "                if d < 1:\n",
    "                    print(d)\n",
    "                    if e < 13:\n",
    "                        print(e)\n",
    "                        return a + b + c + d + e\n",
    "    return None\n"
   ]
  },
  {
   "cell_type": "code",
   "execution_count": 4,
   "metadata": {
    "execution": {
     "iopub.execute_input": "2022-04-13T13:58:00.074917Z",
     "iopub.status.busy": "2022-04-13T13:58:00.074732Z",
     "iopub.status.idle": "2022-04-13T13:58:00.079096Z",
     "shell.execute_reply": "2022-04-13T13:58:00.078397Z",
     "shell.execute_reply.started": "2022-04-13T13:58:00.074886Z"
    },
    "tags": []
   },
   "outputs": [],
   "source": [
    "def my_flat_func(a,b,c,d,e):\n",
    "    if a <= 5:\n",
    "        return None\n",
    "    print(a)\n",
    "    if b <= 10:\n",
    "        return None\n",
    "    print(b)\n",
    "    if c == 0:\n",
    "        return None\n",
    "    print(c) \n",
    "    if d >= 1:\n",
    "        return None\n",
    "    print(d)\n",
    "    if e >= 13:\n",
    "        return None\n",
    "    print(e)\n",
    "    return a + b + c + d + e"
   ]
  },
  {
   "cell_type": "code",
   "execution_count": 9,
   "metadata": {
    "tags": []
   },
   "outputs": [
    {
     "name": "stdout",
     "output_type": "stream",
     "text": [
      "7\n",
      "40\n",
      "12\n"
     ]
    }
   ],
   "source": [
    "my_nested_func(7,40,12,4,5)"
   ]
  },
  {
   "cell_type": "code",
   "execution_count": 10,
   "metadata": {
    "tags": []
   },
   "outputs": [
    {
     "name": "stdout",
     "output_type": "stream",
     "text": [
      "7\n",
      "40\n",
      "12\n"
     ]
    }
   ],
   "source": [
    "my_flat_func(7,40,12,4,5)"
   ]
  },
  {
   "cell_type": "markdown",
   "metadata": {},
   "source": [
    "### Sparse is better than dense "
   ]
  },
  {
   "cell_type": "code",
   "execution_count": 11,
   "metadata": {
    "tags": []
   },
   "outputs": [
    {
     "name": "stdout",
     "output_type": "stream",
     "text": [
      "1 bytes = 8 bits which has 255 possible values.\n",
      "2 bytes = 16 bits which has 65535 possible values.\n",
      "4 bytes = 32 bits which has 4294967295 possible values.\n",
      "8 bytes = 64 bits which has 18446744073709551615 possible values.\n",
      "16 bytes = 128 bits which has 340282366920938463463374607431768211455 possible values.\n",
      "32 bytes = 256 bits which has 115792089237316195423570985008687907853269984665640564039457584007913129639935 possible values.\n",
      "64 bytes = 512 bits which has 13407807929942597099574024998205846127479365820592393377723561443721764030073546976801874298166903427690031858186486050853753882811946569946433649006084095 possible values.\n",
      "128 bytes = 1024 bits which has 179769313486231590772930519078902473361797697894230657273430081157732675805500963132708477322407536021120113879871393357658789768814416622492847430639474124377767893424865485276302219601246094119453082952085005768838150682342462881473913110540827237163350510684586298239947245938479716304835356329624224137215 possible values.\n"
     ]
    }
   ],
   "source": [
    "print('\\n'.join(\"%i bytes = %i bits which has %i possible values.\" % (j, j*8, 256**j-1) for j in (1 << i for i in range(8))))"
   ]
  },
  {
   "cell_type": "markdown",
   "metadata": {},
   "source": [
    "Liens vers des explications sur le zen of python :\n",
    "1. https://inventwithpython.com/blog/2018/08/17/the-zen-of-python-explained/\n",
    "2. https://bond-kirill-alexandrovich.medium.com/python-zen-in-practice-70dc8d7c4603"
   ]
  },
  {
   "cell_type": "markdown",
   "metadata": {},
   "source": [
    "Et pourquoi c'est une blague : https://dev.to/abdurrahmaanj/the-zen-of-python-is-a-joke-and-here-is-why-you-should-not-take-it-too-seriously-508d"
   ]
  },
  {
   "cell_type": "code",
   "execution_count": 13,
   "metadata": {
    "execution": {
     "iopub.execute_input": "2022-04-13T14:04:30.545252Z",
     "iopub.status.busy": "2022-04-13T14:04:30.545036Z",
     "iopub.status.idle": "2022-04-13T14:04:30.549125Z",
     "shell.execute_reply": "2022-04-13T14:04:30.548477Z",
     "shell.execute_reply.started": "2022-04-13T14:04:30.545235Z"
    },
    "tags": []
   },
   "outputs": [
    {
     "data": {
      "text/plain": [
       "['coucou', 'coucou', 'coucou', 3, 4, 5, 6, 7, 8, 9]"
      ]
     },
     "execution_count": 13,
     "metadata": {},
     "output_type": "execute_result"
    }
   ],
   "source": [
    "[a if a > 2 else \"coucou\" for a in range(10)]"
   ]
  },
  {
   "cell_type": "code",
   "execution_count": 16,
   "metadata": {
    "execution": {
     "iopub.execute_input": "2022-04-13T14:05:15.294312Z",
     "iopub.status.busy": "2022-04-13T14:05:15.294130Z",
     "iopub.status.idle": "2022-04-13T14:05:15.298900Z",
     "shell.execute_reply": "2022-04-13T14:05:15.298411Z",
     "shell.execute_reply.started": "2022-04-13T14:05:15.294294Z"
    },
    "tags": []
   },
   "outputs": [
    {
     "data": {
      "text/plain": [
       "['coucou', 'coucou', 'coucou', 3, 4, 5, 6, 7, 8, 9]"
      ]
     },
     "execution_count": 16,
     "metadata": {},
     "output_type": "execute_result"
    }
   ],
   "source": [
    "liste = list()\n",
    "for a in range(10):\n",
    "    if a > 2:\n",
    "        liste.append(a)\n",
    "    else:\n",
    "        liste.append(\"coucou\")\n",
    "liste"
   ]
  },
  {
   "cell_type": "code",
   "execution_count": null,
   "metadata": {},
   "outputs": [],
   "source": []
  }
 ],
 "metadata": {
  "kernelspec": {
   "display_name": "Python 3 (ipykernel)",
   "language": "python",
   "name": "python3"
  },
  "language_info": {
   "codemirror_mode": {
    "name": "ipython",
    "version": 3
   },
   "file_extension": ".py",
   "mimetype": "text/x-python",
   "name": "python",
   "nbconvert_exporter": "python",
   "pygments_lexer": "ipython3",
   "version": "3.7.12"
  }
 },
 "nbformat": 4,
 "nbformat_minor": 4
}
