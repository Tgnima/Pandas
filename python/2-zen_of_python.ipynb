{
 "cells": [
  {
   "cell_type": "code",
   "execution_count": 1,
   "metadata": {
    "execution": {
     "iopub.execute_input": "2021-04-28T12:56:43.670937Z",
     "iopub.status.busy": "2021-04-28T12:56:43.670573Z",
     "iopub.status.idle": "2021-04-28T12:56:43.689029Z",
     "shell.execute_reply": "2021-04-28T12:56:43.688083Z",
     "shell.execute_reply.started": "2021-04-28T12:56:43.670842Z"
    },
    "tags": []
   },
   "outputs": [
    {
     "name": "stdout",
     "output_type": "stream",
     "text": [
      "The Zen of Python, by Tim Peters\n",
      "\n",
      "Beautiful is better than ugly.\n",
      "Explicit is better than implicit.\n",
      "Simple is better than complex.\n",
      "Complex is better than complicated.\n",
      "Flat is better than nested.\n",
      "Sparse is better than dense.\n",
      "Readability counts.\n",
      "Special cases aren't special enough to break the rules.\n",
      "Although practicality beats purity.\n",
      "Errors should never pass silently.\n",
      "Unless explicitly silenced.\n",
      "In the face of ambiguity, refuse the temptation to guess.\n",
      "There should be one-- and preferably only one --obvious way to do it.\n",
      "Although that way may not be obvious at first unless you're Dutch.\n",
      "Now is better than never.\n",
      "Although never is often better than *right* now.\n",
      "If the implementation is hard to explain, it's a bad idea.\n",
      "If the implementation is easy to explain, it may be a good idea.\n",
      "Namespaces are one honking great idea -- let's do more of those!\n"
     ]
    }
   ],
   "source": [
    "import this"
   ]
  },
  {
   "cell_type": "code",
   "execution_count": null,
   "metadata": {},
   "outputs": [],
   "source": []
  },
  {
   "cell_type": "markdown",
   "metadata": {},
   "source": [
    "### Explicit is better than implicit"
   ]
  },
  {
   "cell_type": "code",
   "execution_count": 2,
   "metadata": {
    "execution": {
     "iopub.execute_input": "2021-04-28T13:07:39.828219Z",
     "iopub.status.busy": "2021-04-28T13:07:39.827809Z",
     "iopub.status.idle": "2021-04-28T13:07:40.087391Z",
     "shell.execute_reply": "2021-04-28T13:07:40.086832Z",
     "shell.execute_reply.started": "2021-04-28T13:07:39.828171Z"
    },
    "tags": []
   },
   "outputs": [],
   "source": [
    "import pandas as pd\n",
    "import numpy as np\n",
    "df = pd.DataFrame({\"prenom\": [\"Etienne\", \"Sophie\", np.nan, \"Sophie\"]})"
   ]
  },
  {
   "cell_type": "code",
   "execution_count": 4,
   "metadata": {
    "execution": {
     "iopub.execute_input": "2021-04-28T13:08:27.707578Z",
     "iopub.status.busy": "2021-04-28T13:08:27.707131Z",
     "iopub.status.idle": "2021-04-28T13:08:27.716551Z",
     "shell.execute_reply": "2021-04-28T13:08:27.716077Z",
     "shell.execute_reply.started": "2021-04-28T13:08:27.707528Z"
    }
   },
   "outputs": [
    {
     "data": {
      "text/html": [
       "<div>\n",
       "<style scoped>\n",
       "    .dataframe tbody tr th:only-of-type {\n",
       "        vertical-align: middle;\n",
       "    }\n",
       "\n",
       "    .dataframe tbody tr th {\n",
       "        vertical-align: top;\n",
       "    }\n",
       "\n",
       "    .dataframe thead th {\n",
       "        text-align: right;\n",
       "    }\n",
       "</style>\n",
       "<table border=\"1\" class=\"dataframe\">\n",
       "  <thead>\n",
       "    <tr style=\"text-align: right;\">\n",
       "      <th></th>\n",
       "      <th>prenom</th>\n",
       "    </tr>\n",
       "  </thead>\n",
       "  <tbody>\n",
       "    <tr>\n",
       "      <th>0</th>\n",
       "      <td>Etienne</td>\n",
       "    </tr>\n",
       "    <tr>\n",
       "      <th>1</th>\n",
       "      <td>Sophie</td>\n",
       "    </tr>\n",
       "    <tr>\n",
       "      <th>2</th>\n",
       "      <td>NaN</td>\n",
       "    </tr>\n",
       "    <tr>\n",
       "      <th>3</th>\n",
       "      <td>Sophie</td>\n",
       "    </tr>\n",
       "  </tbody>\n",
       "</table>\n",
       "</div>"
      ],
      "text/plain": [
       "    prenom\n",
       "0  Etienne\n",
       "1   Sophie\n",
       "2      NaN\n",
       "3   Sophie"
      ]
     },
     "execution_count": 4,
     "metadata": {},
     "output_type": "execute_result"
    }
   ],
   "source": [
    "df"
   ]
  },
  {
   "cell_type": "code",
   "execution_count": 3,
   "metadata": {
    "execution": {
     "iopub.execute_input": "2021-04-28T13:07:47.510369Z",
     "iopub.status.busy": "2021-04-28T13:07:47.510158Z",
     "iopub.status.idle": "2021-04-28T13:07:47.520828Z",
     "shell.execute_reply": "2021-04-28T13:07:47.520148Z",
     "shell.execute_reply.started": "2021-04-28T13:07:47.510345Z"
    },
    "tags": []
   },
   "outputs": [
    {
     "data": {
      "text/plain": [
       "Sophie     2\n",
       "Etienne    1\n",
       "Name: prenom, dtype: int64"
      ]
     },
     "execution_count": 3,
     "metadata": {},
     "output_type": "execute_result"
    }
   ],
   "source": [
    "df.prenom.value_counts()"
   ]
  },
  {
   "cell_type": "code",
   "execution_count": 30,
   "metadata": {
    "execution": {
     "iopub.execute_input": "2021-04-25T11:43:42.956777Z",
     "iopub.status.busy": "2021-04-25T11:43:42.956574Z",
     "iopub.status.idle": "2021-04-25T11:43:42.961072Z",
     "shell.execute_reply": "2021-04-25T11:43:42.960588Z",
     "shell.execute_reply.started": "2021-04-25T11:43:42.956757Z"
    },
    "tags": []
   },
   "outputs": [
    {
     "data": {
      "text/plain": [
       "Sophie     2\n",
       "NaN        1\n",
       "Etienne    1\n",
       "Name: prenom, dtype: int64"
      ]
     },
     "execution_count": 30,
     "metadata": {},
     "output_type": "execute_result"
    }
   ],
   "source": [
    "df.prenom.value_counts(dropna=False)"
   ]
  },
  {
   "cell_type": "code",
   "execution_count": null,
   "metadata": {},
   "outputs": [],
   "source": [
    "#Explicit\n",
    "def read_csv(filename):\n",
    "    # code for reading a csv\n",
    "\n",
    "def read_json(filename):\n",
    "    # code for reading a json\n",
    "\n",
    "#Implicit\n",
    "def read(filename):\n",
    "    # code for reading a csv or json\n",
    "    # depending on the file extension"
   ]
  },
  {
   "cell_type": "code",
   "execution_count": null,
   "metadata": {},
   "outputs": [],
   "source": []
  },
  {
   "cell_type": "markdown",
   "metadata": {},
   "source": [
    "#### Flat is better than nested."
   ]
  },
  {
   "cell_type": "code",
   "execution_count": 8,
   "metadata": {
    "execution": {
     "iopub.execute_input": "2021-04-25T11:36:52.467794Z",
     "iopub.status.busy": "2021-04-25T11:36:52.467214Z",
     "iopub.status.idle": "2021-04-25T11:36:52.477691Z",
     "shell.execute_reply": "2021-04-25T11:36:52.476036Z",
     "shell.execute_reply.started": "2021-04-25T11:36:52.467727Z"
    },
    "tags": []
   },
   "outputs": [],
   "source": [
    "def my_nested_func(a, b, c, d, e):\n",
    "    if a > 5:\n",
    "        print(a)\n",
    "        if b > 10:\n",
    "            print(b)\n",
    "            if c != 0:\n",
    "                print(c)\n",
    "                if d < 1:\n",
    "                    print(d)\n",
    "                    if e < 13:\n",
    "                        print(e)\n",
    "                        return a + b + c + d + e\n",
    "    return None"
   ]
  },
  {
   "cell_type": "code",
   "execution_count": 7,
   "metadata": {
    "execution": {
     "iopub.execute_input": "2021-04-25T11:36:51.164262Z",
     "iopub.status.busy": "2021-04-25T11:36:51.164052Z",
     "iopub.status.idle": "2021-04-25T11:36:51.168040Z",
     "shell.execute_reply": "2021-04-25T11:36:51.167496Z",
     "shell.execute_reply.started": "2021-04-25T11:36:51.164239Z"
    },
    "tags": []
   },
   "outputs": [],
   "source": [
    "def my_flat_func(a, b, c, d, e):\n",
    "    if a <= 5:\n",
    "        return None\n",
    "    print(a)\n",
    "    if b <= 10:\n",
    "        return None\n",
    "    print(b)\n",
    "    if c == 0:\n",
    "        return None\n",
    "    print(c)\n",
    "    if d >= 1:\n",
    "        return None\n",
    "    print(d)\n",
    "    if e >= 13:\n",
    "        return None\n",
    "    print(e)\n",
    "    return a + b + c + d + e"
   ]
  },
  {
   "cell_type": "code",
   "execution_count": 12,
   "metadata": {
    "execution": {
     "iopub.execute_input": "2021-04-25T11:37:51.458879Z",
     "iopub.status.busy": "2021-04-25T11:37:51.458392Z",
     "iopub.status.idle": "2021-04-25T11:37:51.464658Z",
     "shell.execute_reply": "2021-04-25T11:37:51.463749Z",
     "shell.execute_reply.started": "2021-04-25T11:37:51.458831Z"
    },
    "tags": []
   },
   "outputs": [
    {
     "name": "stdout",
     "output_type": "stream",
     "text": [
      "7\n",
      "40\n",
      "12\n"
     ]
    }
   ],
   "source": [
    "my_nested_func(7, 40, 12, 4, 5)"
   ]
  },
  {
   "cell_type": "code",
   "execution_count": 13,
   "metadata": {
    "execution": {
     "iopub.execute_input": "2021-04-25T11:37:59.756864Z",
     "iopub.status.busy": "2021-04-25T11:37:59.756687Z",
     "iopub.status.idle": "2021-04-25T11:37:59.759995Z",
     "shell.execute_reply": "2021-04-25T11:37:59.759489Z",
     "shell.execute_reply.started": "2021-04-25T11:37:59.756843Z"
    }
   },
   "outputs": [
    {
     "name": "stdout",
     "output_type": "stream",
     "text": [
      "7\n",
      "40\n",
      "12\n"
     ]
    }
   ],
   "source": [
    "my_flat_func(7, 40, 12, 4, 5)"
   ]
  },
  {
   "cell_type": "markdown",
   "metadata": {},
   "source": [
    "### Sparse is better than dense "
   ]
  },
  {
   "cell_type": "code",
   "execution_count": 32,
   "metadata": {
    "execution": {
     "iopub.execute_input": "2021-04-25T11:46:05.855795Z",
     "iopub.status.busy": "2021-04-25T11:46:05.855630Z",
     "iopub.status.idle": "2021-04-25T11:46:05.858657Z",
     "shell.execute_reply": "2021-04-25T11:46:05.858264Z",
     "shell.execute_reply.started": "2021-04-25T11:46:05.855776Z"
    }
   },
   "outputs": [
    {
     "name": "stdout",
     "output_type": "stream",
     "text": [
      "1 bytes = 8 bits which has 255 possible values.\n",
      "2 bytes = 16 bits which has 65535 possible values.\n",
      "4 bytes = 32 bits which has 4294967295 possible values.\n",
      "8 bytes = 64 bits which has 18446744073709551615 possible values.\n",
      "16 bytes = 128 bits which has 340282366920938463463374607431768211455 possible values.\n",
      "32 bytes = 256 bits which has 115792089237316195423570985008687907853269984665640564039457584007913129639935 possible values.\n",
      "64 bytes = 512 bits which has 13407807929942597099574024998205846127479365820592393377723561443721764030073546976801874298166903427690031858186486050853753882811946569946433649006084095 possible values.\n",
      "128 bytes = 1024 bits which has 179769313486231590772930519078902473361797697894230657273430081157732675805500963132708477322407536021120113879871393357658789768814416622492847430639474124377767893424865485276302219601246094119453082952085005768838150682342462881473913110540827237163350510684586298239947245938479716304835356329624224137215 possible values.\n"
     ]
    }
   ],
   "source": [
    "print('\\n'.join(\"%i bytes = %i bits which has %i possible values.\" %\n",
    "      (j, j*8, 256**j-1) for j in (1 << i for i in range(8))))"
   ]
  },
  {
   "cell_type": "code",
   "execution_count": null,
   "metadata": {},
   "outputs": [],
   "source": []
  },
  {
   "cell_type": "markdown",
   "metadata": {},
   "source": [
    "Un lien vers quelqu'un expliquant le zen of python : https://inventwithpython.com/blog/2018/08/17/the-zen-of-python-explained/"
   ]
  },
  {
   "cell_type": "markdown",
   "metadata": {},
   "source": [
    "Et pourquoi c'est une blague : https://dev.to/abdurrahmaanj/the-zen-of-python-is-a-joke-and-here-is-why-you-should-not-take-it-too-seriously-508d"
   ]
  },
  {
   "cell_type": "code",
   "execution_count": null,
   "metadata": {},
   "outputs": [],
   "source": []
  }
 ],
 "metadata": {
  "kernelspec": {
   "display_name": "Python 3",
   "language": "python",
   "name": "python3"
  },
  "language_info": {
   "codemirror_mode": {
    "name": "ipython",
    "version": 3
   },
   "file_extension": ".py",
   "mimetype": "text/x-python",
   "name": "python",
   "nbconvert_exporter": "python",
   "pygments_lexer": "ipython3",
   "version": "3.8.8"
  }
 },
 "nbformat": 4,
 "nbformat_minor": 4
}
