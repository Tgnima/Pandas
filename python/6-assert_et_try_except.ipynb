{
 "cells": [
  {
   "cell_type": "markdown",
   "id": "63742810-f6f7-4dad-abff-5280b1fc3fc1",
   "metadata": {},
   "source": [
    "## Les erreurs en Python"
   ]
  },
  {
   "cell_type": "markdown",
   "id": "54ae576b-69f8-4f9d-8238-9a46a4e99662",
   "metadata": {},
   "source": [
    "Quand on code, si on code suffisamment longtemps on va être confronté à des erreurs:\n",
    "1. Les erreurs que l'on veut passer sans casser notre programme\n",
    "2. Les erreurs qui doivent terminer les programme"
   ]
  },
  {
   "cell_type": "markdown",
   "id": "5776e961-22c2-4d35-a97b-3f9812348e3c",
   "metadata": {},
   "source": [
    "### Try-Except (finally) \n",
    "Quand on a une erreur que l'on veut passer sans casser notre programme.\n",
    "\n",
    "doc python officielle : https://docs.python.org/3/tutorial/errors.html"
   ]
  },
  {
   "cell_type": "code",
   "execution_count": 1,
   "id": "623614d3-3875-4da9-b8c4-87857e89685f",
   "metadata": {
    "tags": []
   },
   "outputs": [
    {
     "name": "stdout",
     "output_type": "stream",
     "text": [
      "Coucou hello\n"
     ]
    }
   ],
   "source": [
    "try:\n",
    "    print(\"Coucou \" + \"hello\")\n",
    "except:\n",
    "    print(\"bouuuu\")"
   ]
  },
  {
   "cell_type": "code",
   "execution_count": 2,
   "id": "c435d75c-a0c1-41c2-aa9e-85371f8d3a3c",
   "metadata": {
    "tags": []
   },
   "outputs": [
    {
     "name": "stdout",
     "output_type": "stream",
     "text": [
      "bouuuu\n"
     ]
    }
   ],
   "source": [
    "try:\n",
    "    print(3 + \"hello\")\n",
    "except:\n",
    "    print(\"bouuuu\")"
   ]
  },
  {
   "cell_type": "markdown",
   "id": "3636546f-ab78-4ec8-a3fb-1334ab99dfe1",
   "metadata": {
    "execution": {
     "iopub.execute_input": "2021-04-27T19:20:35.497369Z",
     "iopub.status.busy": "2021-04-27T19:20:35.497202Z",
     "iopub.status.idle": "2021-04-27T19:20:35.500607Z",
     "shell.execute_reply": "2021-04-27T19:20:35.499955Z",
     "shell.execute_reply.started": "2021-04-27T19:20:35.497349Z"
    }
   },
   "source": [
    "---------"
   ]
  },
  {
   "cell_type": "markdown",
   "id": "5f27052d-85ac-40e1-9414-a53c36e0aca4",
   "metadata": {},
   "source": [
    "##### Printer l'exception si on veut savoir pourquoi cela n'a pas marché"
   ]
  },
  {
   "cell_type": "code",
   "execution_count": 3,
   "id": "c83baf03-e033-4e54-9488-f92efbe59de8",
   "metadata": {
    "tags": []
   },
   "outputs": [
    {
     "name": "stdout",
     "output_type": "stream",
     "text": [
      "unsupported operand type(s) for +: 'int' and 'str'\n"
     ]
    }
   ],
   "source": [
    "try:\n",
    "    print(3 + \"hello\")\n",
    "except Exception as e:\n",
    "    print(e)"
   ]
  },
  {
   "cell_type": "code",
   "execution_count": 4,
   "id": "1d23b8c0-bf03-43d5-8fbb-4fd18f06b6d0",
   "metadata": {
    "tags": []
   },
   "outputs": [
    {
     "name": "stdout",
     "output_type": "stream",
     "text": [
      "TypeError(\"unsupported operand type(s) for +: 'int' and 'str'\")\n",
      "coucou\n"
     ]
    }
   ],
   "source": [
    "try:\n",
    "    print(3 + \"hello\")\n",
    "except Exception as e:\n",
    "    print(repr(e))\n",
    "print(\"coucou\")"
   ]
  },
  {
   "cell_type": "markdown",
   "id": "fa245f29-b6b7-4aa8-8586-e90ee7f474c0",
   "metadata": {},
   "source": [
    "#### Lever l'exception que si c'est bien l'exception que l'on attend qui a été levée"
   ]
  },
  {
   "cell_type": "code",
   "execution_count": 5,
   "id": "cd1a7620-36c9-45e8-9847-ba887fe9a1f8",
   "metadata": {
    "tags": []
   },
   "outputs": [
    {
     "name": "stdout",
     "output_type": "stream",
     "text": [
      "unsupported operand type(s) for +: 'int' and 'str'\n",
      "coucou\n"
     ]
    }
   ],
   "source": [
    "try:\n",
    "    print(3 + \"hello\")\n",
    "except TypeError as e:\n",
    "    print(e)\n",
    "print(\"coucou\")"
   ]
  },
  {
   "cell_type": "code",
   "execution_count": 7,
   "id": "e4124ada-e56f-42de-ba29-8ae7d93620ee",
   "metadata": {
    "tags": []
   },
   "outputs": [
    {
     "ename": "ModuleNotFoundError",
     "evalue": "No module named 'un_package_qui_nexiste_pas'",
     "output_type": "error",
     "traceback": [
      "\u001b[0;31m---------------------------------------------------------------------------\u001b[0m",
      "\u001b[0;31mModuleNotFoundError\u001b[0m                       Traceback (most recent call last)",
      "\u001b[0;32m/tmp/ipykernel_656/1763714972.py\u001b[0m in \u001b[0;36m<module>\u001b[0;34m\u001b[0m\n\u001b[1;32m      1\u001b[0m \u001b[0;32mtry\u001b[0m\u001b[0;34m:\u001b[0m\u001b[0;34m\u001b[0m\u001b[0;34m\u001b[0m\u001b[0m\n\u001b[0;32m----> 2\u001b[0;31m     \u001b[0;32mimport\u001b[0m \u001b[0mun_package_qui_nexiste_pas\u001b[0m\u001b[0;34m\u001b[0m\u001b[0;34m\u001b[0m\u001b[0m\n\u001b[0m\u001b[1;32m      3\u001b[0m     \u001b[0mprint\u001b[0m\u001b[0;34m(\u001b[0m\u001b[0;36m3\u001b[0m \u001b[0;34m+\u001b[0m \u001b[0;34m\"hello\"\u001b[0m\u001b[0;34m)\u001b[0m\u001b[0;34m\u001b[0m\u001b[0;34m\u001b[0m\u001b[0m\n\u001b[1;32m      4\u001b[0m \u001b[0;32mexcept\u001b[0m \u001b[0mTypeError\u001b[0m \u001b[0;32mas\u001b[0m \u001b[0me\u001b[0m\u001b[0;34m:\u001b[0m\u001b[0;34m\u001b[0m\u001b[0;34m\u001b[0m\u001b[0m\n\u001b[1;32m      5\u001b[0m     \u001b[0mprint\u001b[0m\u001b[0;34m(\u001b[0m\u001b[0me\u001b[0m\u001b[0;34m)\u001b[0m\u001b[0;34m\u001b[0m\u001b[0;34m\u001b[0m\u001b[0m\n",
      "\u001b[0;31mModuleNotFoundError\u001b[0m: No module named 'un_package_qui_nexiste_pas'"
     ]
    }
   ],
   "source": [
    "try:\n",
    "    import un_package_qui_nexiste_pas\n",
    "    print(3 + \"hello\")\n",
    "except TypeError as e:\n",
    "    print(e)\n",
    "print(e)\n",
    "print(\"Coucou !\")"
   ]
  },
  {
   "cell_type": "code",
   "execution_count": 8,
   "id": "65f0d744-1466-4221-aa82-d26bb9ff8eb6",
   "metadata": {
    "tags": []
   },
   "outputs": [
    {
     "name": "stdout",
     "output_type": "stream",
     "text": [
      "No module named 'un_package_qui_nexiste_pas'\n",
      "coucou\n"
     ]
    }
   ],
   "source": [
    "try:\n",
    "    import un_package_qui_nexiste_pas\n",
    "    print(3 + \"hello\")\n",
    "except (TypeError, ModuleNotFoundError) as e:\n",
    "    print(e)\n",
    "print(\"coucou\")"
   ]
  },
  {
   "cell_type": "markdown",
   "id": "dea1a022-dc6f-4b64-9262-e335e20f016e",
   "metadata": {},
   "source": [
    "#### Mais pour quoi faire ?"
   ]
  },
  {
   "cell_type": "code",
   "execution_count": 9,
   "id": "8f65e322-296e-4873-ba97-17149a4b8194",
   "metadata": {
    "tags": []
   },
   "outputs": [
    {
     "name": "stdin",
     "output_type": "stream",
     "text": [
      "renseignez quoi ajouter à b:  \"a\"\n"
     ]
    },
    {
     "name": "stdout",
     "output_type": "stream",
     "text": [
      "On ne peut pas additionner les int et les string, mais la vie continue ☀️ !\n"
     ]
    },
    {
     "name": "stdin",
     "output_type": "stream",
     "text": [
      "renseignez quoi ajouter à b:  12\n"
     ]
    },
    {
     "name": "stdout",
     "output_type": "stream",
     "text": [
      "15.0\n",
      "l'école est finie !\n"
     ]
    }
   ],
   "source": [
    "b = 3\n",
    "while True:\n",
    "    a = input(\"renseignez quoi ajouter à b: \")\n",
    "    try:\n",
    "        a = float(a)\n",
    "    except:\n",
    "        pass\n",
    "    try:\n",
    "        print(a + b)\n",
    "        print(\"l'école est finie !\")\n",
    "        break\n",
    "    except TypeError as e:\n",
    "        #print(e)\n",
    "        print(\"On ne peut pas additionner les int et les string, mais la vie continue ☀️ !\")"
   ]
  },
  {
   "cell_type": "markdown",
   "id": "648b4d62-2836-4bb8-b11f-d20f1d263dd7",
   "metadata": {},
   "source": [
    "Mais en data science ?"
   ]
  },
  {
   "cell_type": "code",
   "execution_count": 12,
   "id": "5cfc50a3-9772-4da1-90cf-7ce3df224e5e",
   "metadata": {},
   "outputs": [],
   "source": [
    "import os"
   ]
  },
  {
   "cell_type": "code",
   "execution_count": 13,
   "id": "d9cc88e7-92b9-44d3-b786-a88d3fea2186",
   "metadata": {
    "tags": []
   },
   "outputs": [
    {
     "data": {
      "text/html": [
       "<div>\n",
       "<style scoped>\n",
       "    .dataframe tbody tr th:only-of-type {\n",
       "        vertical-align: middle;\n",
       "    }\n",
       "\n",
       "    .dataframe tbody tr th {\n",
       "        vertical-align: top;\n",
       "    }\n",
       "\n",
       "    .dataframe thead th {\n",
       "        text-align: right;\n",
       "    }\n",
       "</style>\n",
       "<table border=\"1\" class=\"dataframe\">\n",
       "  <thead>\n",
       "    <tr style=\"text-align: right;\">\n",
       "      <th></th>\n",
       "      <th>data</th>\n",
       "      <th>stato</th>\n",
       "      <th>codice_regione</th>\n",
       "      <th>denominazione_regione</th>\n",
       "      <th>codice_provincia</th>\n",
       "      <th>denominazione_provincia</th>\n",
       "      <th>sigla_provincia</th>\n",
       "      <th>lat</th>\n",
       "      <th>long</th>\n",
       "      <th>totale_casi</th>\n",
       "      <th>note</th>\n",
       "    </tr>\n",
       "  </thead>\n",
       "  <tbody>\n",
       "    <tr>\n",
       "      <th>0</th>\n",
       "      <td>2020-02-25T18:00:00</td>\n",
       "      <td>ITA</td>\n",
       "      <td>13</td>\n",
       "      <td>Abruzzo</td>\n",
       "      <td>66</td>\n",
       "      <td>L'Aquila</td>\n",
       "      <td>AQ</td>\n",
       "      <td>42.351222</td>\n",
       "      <td>13.398438</td>\n",
       "      <td>0</td>\n",
       "      <td>NaN</td>\n",
       "    </tr>\n",
       "    <tr>\n",
       "      <th>1</th>\n",
       "      <td>2020-02-25T18:00:00</td>\n",
       "      <td>ITA</td>\n",
       "      <td>13</td>\n",
       "      <td>Abruzzo</td>\n",
       "      <td>67</td>\n",
       "      <td>Teramo</td>\n",
       "      <td>TE</td>\n",
       "      <td>42.658918</td>\n",
       "      <td>13.704400</td>\n",
       "      <td>0</td>\n",
       "      <td>NaN</td>\n",
       "    </tr>\n",
       "    <tr>\n",
       "      <th>2</th>\n",
       "      <td>2020-02-25T18:00:00</td>\n",
       "      <td>ITA</td>\n",
       "      <td>13</td>\n",
       "      <td>Abruzzo</td>\n",
       "      <td>68</td>\n",
       "      <td>Pescara</td>\n",
       "      <td>PE</td>\n",
       "      <td>42.464584</td>\n",
       "      <td>14.213648</td>\n",
       "      <td>0</td>\n",
       "      <td>NaN</td>\n",
       "    </tr>\n",
       "    <tr>\n",
       "      <th>3</th>\n",
       "      <td>2020-02-25T18:00:00</td>\n",
       "      <td>ITA</td>\n",
       "      <td>13</td>\n",
       "      <td>Abruzzo</td>\n",
       "      <td>69</td>\n",
       "      <td>Chieti</td>\n",
       "      <td>CH</td>\n",
       "      <td>42.351032</td>\n",
       "      <td>14.167546</td>\n",
       "      <td>0</td>\n",
       "      <td>NaN</td>\n",
       "    </tr>\n",
       "    <tr>\n",
       "      <th>4</th>\n",
       "      <td>2020-02-25T18:00:00</td>\n",
       "      <td>ITA</td>\n",
       "      <td>13</td>\n",
       "      <td>Abruzzo</td>\n",
       "      <td>979</td>\n",
       "      <td>In fase di definizione/aggiornamento</td>\n",
       "      <td>NaN</td>\n",
       "      <td>NaN</td>\n",
       "      <td>NaN</td>\n",
       "      <td>0</td>\n",
       "      <td>NaN</td>\n",
       "    </tr>\n",
       "    <tr>\n",
       "      <th>...</th>\n",
       "      <td>...</td>\n",
       "      <td>...</td>\n",
       "      <td>...</td>\n",
       "      <td>...</td>\n",
       "      <td>...</td>\n",
       "      <td>...</td>\n",
       "      <td>...</td>\n",
       "      <td>...</td>\n",
       "      <td>...</td>\n",
       "      <td>...</td>\n",
       "      <td>...</td>\n",
       "    </tr>\n",
       "    <tr>\n",
       "      <th>123</th>\n",
       "      <td>2020-02-25T18:00:00</td>\n",
       "      <td>ITA</td>\n",
       "      <td>5</td>\n",
       "      <td>Veneto</td>\n",
       "      <td>26</td>\n",
       "      <td>Treviso</td>\n",
       "      <td>TV</td>\n",
       "      <td>45.667546</td>\n",
       "      <td>12.245074</td>\n",
       "      <td>1</td>\n",
       "      <td>NaN</td>\n",
       "    </tr>\n",
       "    <tr>\n",
       "      <th>124</th>\n",
       "      <td>2020-02-25T18:00:00</td>\n",
       "      <td>ITA</td>\n",
       "      <td>5</td>\n",
       "      <td>Veneto</td>\n",
       "      <td>27</td>\n",
       "      <td>Venezia</td>\n",
       "      <td>VE</td>\n",
       "      <td>45.434905</td>\n",
       "      <td>12.338452</td>\n",
       "      <td>7</td>\n",
       "      <td>NaN</td>\n",
       "    </tr>\n",
       "    <tr>\n",
       "      <th>125</th>\n",
       "      <td>2020-02-25T18:00:00</td>\n",
       "      <td>ITA</td>\n",
       "      <td>5</td>\n",
       "      <td>Veneto</td>\n",
       "      <td>28</td>\n",
       "      <td>Padova</td>\n",
       "      <td>PD</td>\n",
       "      <td>45.406930</td>\n",
       "      <td>11.876087</td>\n",
       "      <td>30</td>\n",
       "      <td>NaN</td>\n",
       "    </tr>\n",
       "    <tr>\n",
       "      <th>126</th>\n",
       "      <td>2020-02-25T18:00:00</td>\n",
       "      <td>ITA</td>\n",
       "      <td>5</td>\n",
       "      <td>Veneto</td>\n",
       "      <td>29</td>\n",
       "      <td>Rovigo</td>\n",
       "      <td>RO</td>\n",
       "      <td>45.071073</td>\n",
       "      <td>11.790070</td>\n",
       "      <td>0</td>\n",
       "      <td>NaN</td>\n",
       "    </tr>\n",
       "    <tr>\n",
       "      <th>127</th>\n",
       "      <td>2020-02-25T18:00:00</td>\n",
       "      <td>ITA</td>\n",
       "      <td>5</td>\n",
       "      <td>Veneto</td>\n",
       "      <td>999</td>\n",
       "      <td>In fase di definizione/aggiornamento</td>\n",
       "      <td>NaN</td>\n",
       "      <td>NaN</td>\n",
       "      <td>NaN</td>\n",
       "      <td>5</td>\n",
       "      <td>NaN</td>\n",
       "    </tr>\n",
       "  </tbody>\n",
       "</table>\n",
       "<p>128 rows × 11 columns</p>\n",
       "</div>"
      ],
      "text/plain": [
       "                    data stato  codice_regione denominazione_regione  \\\n",
       "0    2020-02-25T18:00:00   ITA              13               Abruzzo   \n",
       "1    2020-02-25T18:00:00   ITA              13               Abruzzo   \n",
       "2    2020-02-25T18:00:00   ITA              13               Abruzzo   \n",
       "3    2020-02-25T18:00:00   ITA              13               Abruzzo   \n",
       "4    2020-02-25T18:00:00   ITA              13               Abruzzo   \n",
       "..                   ...   ...             ...                   ...   \n",
       "123  2020-02-25T18:00:00   ITA               5                Veneto   \n",
       "124  2020-02-25T18:00:00   ITA               5                Veneto   \n",
       "125  2020-02-25T18:00:00   ITA               5                Veneto   \n",
       "126  2020-02-25T18:00:00   ITA               5                Veneto   \n",
       "127  2020-02-25T18:00:00   ITA               5                Veneto   \n",
       "\n",
       "     codice_provincia               denominazione_provincia sigla_provincia  \\\n",
       "0                  66                              L'Aquila              AQ   \n",
       "1                  67                                Teramo              TE   \n",
       "2                  68                               Pescara              PE   \n",
       "3                  69                                Chieti              CH   \n",
       "4                 979  In fase di definizione/aggiornamento             NaN   \n",
       "..                ...                                   ...             ...   \n",
       "123                26                               Treviso              TV   \n",
       "124                27                               Venezia              VE   \n",
       "125                28                                Padova              PD   \n",
       "126                29                                Rovigo              RO   \n",
       "127               999  In fase di definizione/aggiornamento             NaN   \n",
       "\n",
       "           lat       long  totale_casi  note  \n",
       "0    42.351222  13.398438            0   NaN  \n",
       "1    42.658918  13.704400            0   NaN  \n",
       "2    42.464584  14.213648            0   NaN  \n",
       "3    42.351032  14.167546            0   NaN  \n",
       "4          NaN        NaN            0   NaN  \n",
       "..         ...        ...          ...   ...  \n",
       "123  45.667546  12.245074            1   NaN  \n",
       "124  45.434905  12.338452            7   NaN  \n",
       "125  45.406930  11.876087           30   NaN  \n",
       "126  45.071073  11.790070            0   NaN  \n",
       "127        NaN        NaN            5   NaN  \n",
       "\n",
       "[128 rows x 11 columns]"
      ]
     },
     "metadata": {},
     "output_type": "display_data"
    }
   ],
   "source": [
    "import pandas as pd\n",
    "from urllib.error import URLError\n",
    "from IPython.display import display\n",
    "import os\n",
    "try:\n",
    "    df = pd.read_csv(\"https://raw.githubusercontent.com/pcm-dpc/COVID-19/master/dati-province/dpc-covid19-ita-province-20200225.csv\")\n",
    "    os.mkdir(\"./data\")\n",
    "    df.to_csv(\"./data/covid_italie.csv\")\n",
    "    display(df)\n",
    "except URLError: #imaginons que le csv soit supprimé par l'utilisateur\n",
    "    df = pd.read_csv(\"./data/covid_italie.csv\")\n",
    "    print('''Le fichier n'est pas accessible \\n \n",
    "    - vérifiez votre connection internet \\n\n",
    "    - vérifiez que le fichier est toujours disponible sur Github \\n\n",
    "    Charge les dernières données accédées:''')\n",
    "    display(df)"
   ]
  },
  {
   "cell_type": "markdown",
   "id": "b5cc6816-20e6-4daa-aaf5-d2028d1c78a0",
   "metadata": {
    "execution": {
     "iopub.execute_input": "2021-04-27T19:27:18.435919Z",
     "iopub.status.busy": "2021-04-27T19:27:18.435704Z",
     "iopub.status.idle": "2021-04-27T19:27:18.441488Z",
     "shell.execute_reply": "2021-04-27T19:27:18.440809Z",
     "shell.execute_reply.started": "2021-04-27T19:27:18.435895Z"
    },
    "tags": []
   },
   "source": [
    "Il est normalement conseillé de définir l'erreur(s) levée(s) pour définir l'exception.\n",
    "Sur une librairie/base de code conséquente, ça facilite le déboguage et permettra au programme de crasher si une erreur non prévue arrive.\n",
    "\n",
    "Sur de la data science en jupyter notebook ¯\\_(ツ)_/¯ (on gagne du temps a ne pas les définir et à priori on fera quelque chose de plus propre en production).\n"
   ]
  },
  {
   "cell_type": "markdown",
   "id": "436c73f3-bd6a-4f10-8040-ac073148bf0a",
   "metadata": {},
   "source": [
    "## Les assert"
   ]
  },
  {
   "cell_type": "code",
   "execution_count": 14,
   "id": "45ce866a-5b88-40db-9b53-f188d7e6c60c",
   "metadata": {
    "tags": []
   },
   "outputs": [],
   "source": [
    "assert 3==3"
   ]
  },
  {
   "cell_type": "code",
   "execution_count": 15,
   "id": "5e17e757-fe1b-4d2c-9787-8a54914303c0",
   "metadata": {
    "tags": []
   },
   "outputs": [
    {
     "ename": "AssertionError",
     "evalue": "",
     "output_type": "error",
     "traceback": [
      "\u001b[0;31m---------------------------------------------------------------------------\u001b[0m",
      "\u001b[0;31mAssertionError\u001b[0m                            Traceback (most recent call last)",
      "\u001b[0;32m/tmp/ipykernel_656/486848887.py\u001b[0m in \u001b[0;36m<module>\u001b[0;34m\u001b[0m\n\u001b[0;32m----> 1\u001b[0;31m \u001b[0;32massert\u001b[0m \u001b[0;36m3\u001b[0m \u001b[0;34m==\u001b[0m \u001b[0;36m4\u001b[0m\u001b[0;34m\u001b[0m\u001b[0;34m\u001b[0m\u001b[0m\n\u001b[0m",
      "\u001b[0;31mAssertionError\u001b[0m: "
     ]
    }
   ],
   "source": [
    "assert 3 == 4"
   ]
  },
  {
   "cell_type": "markdown",
   "id": "e295675b-8880-4240-b3df-d0ad27b3b980",
   "metadata": {},
   "source": [
    "Un assert s'assure qu'une condition est vraie pour que le programme continue."
   ]
  },
  {
   "cell_type": "markdown",
   "id": "715892fa-b720-4f45-a2cc-86b83e851346",
   "metadata": {},
   "source": [
    "Mais à quoi ça sert ?:\n",
    "1. Permet de faire en sorte que le code casse s'il ne se comporte pas comme prévu\n",
    "2. Permet d'auto-documenter son code \n",
    "\n",
    "\n",
    "Utiliser beaucoup d'assert est une bonne chose.   \n",
    "\n",
    "\n",
    "\n",
    "Il est même souvent utile d'écrire un assert (un test) pour définir ce que l'on veut  que le code fasse, avant d'écrire le code : c'est la base du Test driven development."
   ]
  },
  {
   "cell_type": "markdown",
   "id": "f87a3403-cc83-494c-9411-821b4ad481f6",
   "metadata": {},
   "source": [
    "Mais à quoi ça peut servir en data science ?  \n",
    "\n",
    "C'est souvent utile pour tester les données. Par exemple qu'après des manipulations, le nombre d'observation soit égal aux observations espérées (surtout après des merge)."
   ]
  },
  {
   "cell_type": "code",
   "execution_count": 16,
   "id": "89220bf3-683a-4f0a-9118-8ad64a1b7e8f",
   "metadata": {
    "tags": []
   },
   "outputs": [],
   "source": [
    "df = pd.read_csv(\"https://raw.githubusercontent.com/pcm-dpc/COVID-19/master/dati-province/dpc-covid19-ita-province-20200225.csv\")\n",
    "\n",
    "assert len(df)>20 #ici on teste que l'on a au moins 20 lignes dans la table téléchargée"
   ]
  },
  {
   "cell_type": "markdown",
   "id": "b7615f4a-1854-4669-84da-ec8f8713528a",
   "metadata": {},
   "source": [
    "C'est aussi la base des tests unitaire (ou d'intégration) qui permet de faire du CI (jenkins, Travis, Gitlab et Github CI etc).\n",
    "C'est une des bases importantes du [MLOps](https://en.wikipedia.org/wiki/MLOps)"
   ]
  },
  {
   "cell_type": "markdown",
   "id": "f48a2b17-46f7-48ae-a7bf-9b1fcbb197f1",
   "metadata": {
    "execution": {
     "iopub.execute_input": "2021-04-27T20:41:39.022326Z",
     "iopub.status.busy": "2021-04-27T20:41:39.022110Z",
     "iopub.status.idle": "2021-04-27T20:41:39.026796Z",
     "shell.execute_reply": "2021-04-27T20:41:39.025921Z",
     "shell.execute_reply.started": "2021-04-27T20:41:39.022302Z"
    }
   },
   "source": [
    "[travis](https://travis-ci.org/github/adrienpacifico/adrienpacifico.github.io/builds/768587169)"
   ]
  },
  {
   "cell_type": "markdown",
   "id": "8f580217-88d4-4c47-8da2-2d770ad59072",
   "metadata": {},
   "source": [
    "#### Exemple de TDD avec pytest pour faire un mini ci"
   ]
  },
  {
   "cell_type": "markdown",
   "id": "22fe95bf-8afa-4a99-b4da-4fcf28ab1a77",
   "metadata": {},
   "source": [
    "En TDD on écrit les tests d'abord !"
   ]
  },
  {
   "cell_type": "code",
   "execution_count": 13,
   "id": "e5f6e06d-d71f-4116-a48d-b771729022b1",
   "metadata": {},
   "outputs": [],
   "source": [
    "from darts.datasets import TemperatureDataset\n",
    "df = TemperatureDataset().load().pd_dataframe()\n",
    "import ipytest\n",
    "ipytest.autoconfig()    "
   ]
  },
  {
   "cell_type": "markdown",
   "id": "7ab0ca35-b1a6-49b6-b0de-56b3418b2d17",
   "metadata": {},
   "source": [
    "### Exemple général"
   ]
  },
  {
   "cell_type": "code",
   "execution_count": 16,
   "id": "2e09e0bd-7876-4be5-943b-07346b39b5e1",
   "metadata": {},
   "outputs": [
    {
     "name": "stdout",
     "output_type": "stream",
     "text": [
      "\u001b[32m.\u001b[0m\u001b[32m                                                                                            [100%]\u001b[0m\n",
      "\u001b[32m\u001b[32m\u001b[1m1 passed\u001b[0m\u001b[32m in 0.00s\u001b[0m\u001b[0m\n"
     ]
    }
   ],
   "source": [
    "%%ipytest\n",
    "\n",
    "# define the tests\n",
    "\n",
    "def test_my_func():\n",
    "    assert my_func(0) == 0\n",
    "    assert my_func(1) == 0\n",
    "    assert my_func(2) == 2\n",
    "    assert my_func(3) == 2\n",
    "    \n",
    "    \n",
    "def my_func(x):\n",
    "    return x // 2 * 2 "
   ]
  },
  {
   "cell_type": "code",
   "execution_count": 17,
   "id": "6d7d1021-10d3-440a-b0cc-51bc88f4cd1b",
   "metadata": {},
   "outputs": [
    {
     "name": "stdout",
     "output_type": "stream",
     "text": [
      "\u001b[32m.\u001b[0m\u001b[32m.\u001b[0m\u001b[32m.\u001b[0m\u001b[32m.\u001b[0m\u001b[32m.\u001b[0m\u001b[32m                                                                                        [100%]\u001b[0m\n",
      "\u001b[32m\u001b[32m\u001b[1m5 passed\u001b[0m\u001b[32m in 0.01s\u001b[0m\u001b[0m\n"
     ]
    }
   ],
   "source": [
    "%%ipytest\n",
    "\n",
    "import pytest\n",
    "\n",
    "@pytest.mark.parametrize('input,expected', [\n",
    "    (0, 0),\n",
    "    (1, 0),\n",
    "    (2, 2),\n",
    "    (3, 2),\n",
    "])\n",
    "def test_parametrized(input, expected):\n",
    "    assert my_func(input) == expected\n",
    "    \n",
    "@pytest.fixture\n",
    "def my_fixture():\n",
    "    return 42\n",
    "    \n",
    "    \n",
    "def test_fixture(my_fixture):\n",
    "    assert my_fixture == 42\n"
   ]
  },
  {
   "cell_type": "markdown",
   "id": "e00b83d4-186f-47fd-a15e-0ea2a60f8e2d",
   "metadata": {},
   "source": [
    "Exemple appliqué :"
   ]
  },
  {
   "cell_type": "code",
   "execution_count": null,
   "id": "aeb0727f-3053-4948-b726-14b25e6b2a07",
   "metadata": {},
   "outputs": [],
   "source": [
    "#On écrit ce que l'on veut que la fonction fasse\n",
    "\n",
    "def download_or_load(url=None, cache_path=\"./data\"):\n",
    "    \"\"\"\n",
    "    Télécharge un csv via une url en ligne\n",
    "    À défaut, charge la données correspondante en cache\n",
    "    \"\"\""
   ]
  },
  {
   "cell_type": "code",
   "execution_count": null,
   "id": "525c1d2a-103e-4cc2-8860-67522c2a299a",
   "metadata": {},
   "outputs": [],
   "source": [
    "### test download_or_load si la donnée est disponible\n",
    "def test_dowload_or_load_if_correct_url():\n",
    "    \"\"\"\n",
    "    1- Crée le dossier /data s'il n'existe pas\n",
    "    2- Essaye de télécharger un csv via un lien qui marche et retourne \n",
    "    \"\"\""
   ]
  }
 ],
 "metadata": {
  "kernelspec": {
   "display_name": "Python 3 (ipykernel)",
   "language": "python",
   "name": "python3"
  },
  "language_info": {
   "codemirror_mode": {
    "name": "ipython",
    "version": 3
   },
   "file_extension": ".py",
   "mimetype": "text/x-python",
   "name": "python",
   "nbconvert_exporter": "python",
   "pygments_lexer": "ipython3",
   "version": "3.7.12"
  }
 },
 "nbformat": 4,
 "nbformat_minor": 5
}
