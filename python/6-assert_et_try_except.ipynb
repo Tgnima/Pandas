{
 "cells": [
  {
   "cell_type": "markdown",
   "id": "63742810-f6f7-4dad-abff-5280b1fc3fc1",
   "metadata": {},
   "source": [
    "## Les erreurs en Python"
   ]
  },
  {
   "cell_type": "markdown",
   "id": "54ae576b-69f8-4f9d-8238-9a46a4e99662",
   "metadata": {},
   "source": [
    "Quand on code, si on code suffisamment longtemps on va être confronté à des erreurs:\n",
    "1. Les erreurs que l'on veut passer sans casser notre programme\n",
    "2. Les erreurs qui doivent terminer les programme"
   ]
  },
  {
   "cell_type": "markdown",
   "id": "5776e961-22c2-4d35-a97b-3f9812348e3c",
   "metadata": {
    "tags": []
   },
   "source": [
    "### Try-Except (finally) \n",
    "Quand on a une erreur que l'on veut passer sans casser notre programme.\n",
    "\n",
    "doc python officielle : https://docs.python.org/3/tutorial/errors.html"
   ]
  },
  {
   "cell_type": "code",
   "execution_count": 1,
   "id": "623614d3-3875-4da9-b8c4-87857e89685f",
   "metadata": {
    "execution": {
     "iopub.execute_input": "2022-04-14T11:21:35.715849Z",
     "iopub.status.busy": "2022-04-14T11:21:35.715641Z",
     "iopub.status.idle": "2022-04-14T11:21:35.718677Z",
     "shell.execute_reply": "2022-04-14T11:21:35.718355Z",
     "shell.execute_reply.started": "2022-04-14T11:21:35.715831Z"
    },
    "tags": []
   },
   "outputs": [
    {
     "name": "stdout",
     "output_type": "stream",
     "text": [
      "Coucou hello\n"
     ]
    }
   ],
   "source": [
    "try:\n",
    "    print(\"Coucou \" + \"hello\")\n",
    "except:\n",
    "    print(\"bouuuu\")"
   ]
  },
  {
   "cell_type": "code",
   "execution_count": 2,
   "id": "c435d75c-a0c1-41c2-aa9e-85371f8d3a3c",
   "metadata": {
    "tags": []
   },
   "outputs": [
    {
     "name": "stdout",
     "output_type": "stream",
     "text": [
      "bouuuu\n"
     ]
    }
   ],
   "source": [
    "try:\n",
    "    print(3 + \"hello\")\n",
    "except:\n",
    "    print(\"bouuuu\")"
   ]
  },
  {
   "cell_type": "markdown",
   "id": "3636546f-ab78-4ec8-a3fb-1334ab99dfe1",
   "metadata": {
    "execution": {
     "iopub.execute_input": "2021-04-27T19:20:35.497369Z",
     "iopub.status.busy": "2021-04-27T19:20:35.497202Z",
     "iopub.status.idle": "2021-04-27T19:20:35.500607Z",
     "shell.execute_reply": "2021-04-27T19:20:35.499955Z",
     "shell.execute_reply.started": "2021-04-27T19:20:35.497349Z"
    }
   },
   "source": [
    "---------"
   ]
  },
  {
   "cell_type": "markdown",
   "id": "5f27052d-85ac-40e1-9414-a53c36e0aca4",
   "metadata": {},
   "source": [
    "##### Printer l'exception si on veut savoir pourquoi cela n'a pas marché"
   ]
  },
  {
   "cell_type": "code",
   "execution_count": 3,
   "id": "c83baf03-e033-4e54-9488-f92efbe59de8",
   "metadata": {
    "execution": {
     "iopub.execute_input": "2022-04-14T11:22:30.028228Z",
     "iopub.status.busy": "2022-04-14T11:22:30.027997Z",
     "iopub.status.idle": "2022-04-14T11:22:30.031511Z",
     "shell.execute_reply": "2022-04-14T11:22:30.031014Z",
     "shell.execute_reply.started": "2022-04-14T11:22:30.028197Z"
    },
    "tags": []
   },
   "outputs": [
    {
     "name": "stdout",
     "output_type": "stream",
     "text": [
      "unsupported operand type(s) for +: 'int' and 'str'\n"
     ]
    }
   ],
   "source": [
    "try:\n",
    "    print(3 + \"hello\")\n",
    "except Exception as e:\n",
    "    print(e)"
   ]
  },
  {
   "cell_type": "code",
   "execution_count": 10,
   "id": "1d23b8c0-bf03-43d5-8fbb-4fd18f06b6d0",
   "metadata": {
    "execution": {
     "iopub.execute_input": "2022-04-14T11:25:00.981891Z",
     "iopub.status.busy": "2022-04-14T11:25:00.981680Z",
     "iopub.status.idle": "2022-04-14T11:25:00.985793Z",
     "shell.execute_reply": "2022-04-14T11:25:00.985417Z",
     "shell.execute_reply.started": "2022-04-14T11:25:00.981871Z"
    },
    "tags": []
   },
   "outputs": [
    {
     "name": "stdout",
     "output_type": "stream",
     "text": [
      "TypeError(\"unsupported operand type(s) for +: 'int' and 'str'\")\n",
      "coucou\n"
     ]
    }
   ],
   "source": [
    "try:\n",
    "    print(3 + \"hello\")\n",
    "except Exception as e:\n",
    "    print(repr(e))\n",
    "print(\"coucou\")"
   ]
  },
  {
   "cell_type": "markdown",
   "id": "fa245f29-b6b7-4aa8-8586-e90ee7f474c0",
   "metadata": {},
   "source": [
    "#### Lever l'exception que si c'est bien l'exception que l'on attend qui a été levée"
   ]
  },
  {
   "cell_type": "code",
   "execution_count": 20,
   "id": "cd1a7620-36c9-45e8-9847-ba887fe9a1f8",
   "metadata": {
    "execution": {
     "iopub.execute_input": "2022-04-14T11:28:40.043667Z",
     "iopub.status.busy": "2022-04-14T11:28:40.043460Z",
     "iopub.status.idle": "2022-04-14T11:28:40.047447Z",
     "shell.execute_reply": "2022-04-14T11:28:40.046966Z",
     "shell.execute_reply.started": "2022-04-14T11:28:40.043637Z"
    },
    "tags": []
   },
   "outputs": [
    {
     "name": "stdout",
     "output_type": "stream",
     "text": [
      "name 'variable_non_definie' is not defined\n",
      "coucou\n"
     ]
    }
   ],
   "source": [
    "try:\n",
    "    print(3 + variable_non_definie)\n",
    "    print(3 + \"hello\")\n",
    "except (TypeError, NameError) as e:\n",
    "    print(e)\n",
    "print(\"coucou\")"
   ]
  },
  {
   "cell_type": "code",
   "execution_count": 21,
   "id": "e4124ada-e56f-42de-ba29-8ae7d93620ee",
   "metadata": {
    "execution": {
     "iopub.execute_input": "2022-04-14T11:29:44.516766Z",
     "iopub.status.busy": "2022-04-14T11:29:44.516574Z",
     "iopub.status.idle": "2022-04-14T11:29:44.522963Z",
     "shell.execute_reply": "2022-04-14T11:29:44.522469Z",
     "shell.execute_reply.started": "2022-04-14T11:29:44.516749Z"
    },
    "tags": []
   },
   "outputs": [
    {
     "ename": "ModuleNotFoundError",
     "evalue": "No module named 'un_package_qui_nexiste_pas'",
     "output_type": "error",
     "traceback": [
      "\u001b[0;31m---------------------------------------------------------------------------\u001b[0m",
      "\u001b[0;31mModuleNotFoundError\u001b[0m                       Traceback (most recent call last)",
      "\u001b[0;32m/tmp/ipykernel_235/1763714972.py\u001b[0m in \u001b[0;36m<module>\u001b[0;34m\u001b[0m\n\u001b[1;32m      1\u001b[0m \u001b[0;32mtry\u001b[0m\u001b[0;34m:\u001b[0m\u001b[0;34m\u001b[0m\u001b[0;34m\u001b[0m\u001b[0m\n\u001b[0;32m----> 2\u001b[0;31m     \u001b[0;32mimport\u001b[0m \u001b[0mun_package_qui_nexiste_pas\u001b[0m\u001b[0;34m\u001b[0m\u001b[0;34m\u001b[0m\u001b[0m\n\u001b[0m\u001b[1;32m      3\u001b[0m     \u001b[0mprint\u001b[0m\u001b[0;34m(\u001b[0m\u001b[0;36m3\u001b[0m \u001b[0;34m+\u001b[0m \u001b[0;34m\"hello\"\u001b[0m\u001b[0;34m)\u001b[0m\u001b[0;34m\u001b[0m\u001b[0;34m\u001b[0m\u001b[0m\n\u001b[1;32m      4\u001b[0m \u001b[0;32mexcept\u001b[0m \u001b[0mTypeError\u001b[0m \u001b[0;32mas\u001b[0m \u001b[0me\u001b[0m\u001b[0;34m:\u001b[0m\u001b[0;34m\u001b[0m\u001b[0;34m\u001b[0m\u001b[0m\n\u001b[1;32m      5\u001b[0m     \u001b[0mprint\u001b[0m\u001b[0;34m(\u001b[0m\u001b[0me\u001b[0m\u001b[0;34m)\u001b[0m\u001b[0;34m\u001b[0m\u001b[0;34m\u001b[0m\u001b[0m\n",
      "\u001b[0;31mModuleNotFoundError\u001b[0m: No module named 'un_package_qui_nexiste_pas'"
     ]
    }
   ],
   "source": [
    "try:\n",
    "    import un_package_qui_nexiste_pas\n",
    "    print(3 + \"hello\")\n",
    "except TypeError as e:\n",
    "    print(e)\n",
    "print(e)\n",
    "print(\"Coucou !\")"
   ]
  },
  {
   "cell_type": "code",
   "execution_count": 8,
   "id": "65f0d744-1466-4221-aa82-d26bb9ff8eb6",
   "metadata": {
    "tags": []
   },
   "outputs": [
    {
     "name": "stdout",
     "output_type": "stream",
     "text": [
      "No module named 'un_package_qui_nexiste_pas'\n",
      "coucou\n"
     ]
    }
   ],
   "source": [
    "try:\n",
    "    import un_package_qui_nexiste_pas\n",
    "    print(3 + \"hello\")\n",
    "except (TypeError, ModuleNotFoundError) as e:\n",
    "    print(e)\n",
    "print(\"coucou\")"
   ]
  },
  {
   "cell_type": "markdown",
   "id": "dea1a022-dc6f-4b64-9262-e335e20f016e",
   "metadata": {},
   "source": [
    "#### Mais pour quoi faire ?"
   ]
  },
  {
   "cell_type": "code",
   "execution_count": 25,
   "id": "6db8ea5e-81b4-47d8-8190-abb0f6f878cc",
   "metadata": {
    "execution": {
     "iopub.execute_input": "2022-04-14T11:32:10.438577Z",
     "iopub.status.busy": "2022-04-14T11:32:10.438095Z",
     "iopub.status.idle": "2022-04-14T11:32:10.444596Z",
     "shell.execute_reply": "2022-04-14T11:32:10.443915Z",
     "shell.execute_reply.started": "2022-04-14T11:32:10.438552Z"
    }
   },
   "outputs": [
    {
     "ename": "ValueError",
     "evalue": "could not convert string to float: 'hello'",
     "output_type": "error",
     "traceback": [
      "\u001b[0;31m---------------------------------------------------------------------------\u001b[0m",
      "\u001b[0;31mValueError\u001b[0m                                Traceback (most recent call last)",
      "\u001b[0;32m/tmp/ipykernel_235/4238180004.py\u001b[0m in \u001b[0;36m<module>\u001b[0;34m\u001b[0m\n\u001b[0;32m----> 1\u001b[0;31m \u001b[0mfloat\u001b[0m\u001b[0;34m(\u001b[0m\u001b[0;34m\"hello\"\u001b[0m\u001b[0;34m)\u001b[0m\u001b[0;34m\u001b[0m\u001b[0;34m\u001b[0m\u001b[0m\n\u001b[0m",
      "\u001b[0;31mValueError\u001b[0m: could not convert string to float: 'hello'"
     ]
    }
   ],
   "source": [
    "float(\"hello\")"
   ]
  },
  {
   "cell_type": "code",
   "execution_count": 27,
   "id": "8f65e322-296e-4873-ba97-17149a4b8194",
   "metadata": {
    "execution": {
     "iopub.execute_input": "2022-04-14T11:33:13.122816Z",
     "iopub.status.busy": "2022-04-14T11:33:13.122140Z",
     "iopub.status.idle": "2022-04-14T11:33:17.267355Z",
     "shell.execute_reply": "2022-04-14T11:33:17.266785Z",
     "shell.execute_reply.started": "2022-04-14T11:33:13.122797Z"
    },
    "tags": []
   },
   "outputs": [
    {
     "name": "stdin",
     "output_type": "stream",
     "text": [
      "renseignez quoi ajouter à b:  3\n"
     ]
    },
    {
     "name": "stdout",
     "output_type": "stream",
     "text": [
      "6.0\n",
      "l'école est finie !\n"
     ]
    }
   ],
   "source": [
    "b = 3\n",
    "while True:\n",
    "    a = input(\"renseignez quoi ajouter à b: \")\n",
    "    try:\n",
    "        a = float(a)\n",
    "    except ValueError:\n",
    "        pass\n",
    "    try:\n",
    "        print(a + b)\n",
    "        print(\"l'école est finie !\")\n",
    "        break\n",
    "    except TypeError as e:\n",
    "        #print(e)\n",
    "        print(\"On ne peut pas additionner les int et les string, mais la vie continue ☀️ !\")"
   ]
  },
  {
   "cell_type": "markdown",
   "id": "648b4d62-2836-4bb8-b11f-d20f1d263dd7",
   "metadata": {},
   "source": [
    "Mais en data science ?"
   ]
  },
  {
   "cell_type": "code",
   "execution_count": 28,
   "id": "5cfc50a3-9772-4da1-90cf-7ce3df224e5e",
   "metadata": {
    "execution": {
     "iopub.execute_input": "2022-04-14T11:33:23.955359Z",
     "iopub.status.busy": "2022-04-14T11:33:23.955152Z",
     "iopub.status.idle": "2022-04-14T11:33:23.957899Z",
     "shell.execute_reply": "2022-04-14T11:33:23.957359Z",
     "shell.execute_reply.started": "2022-04-14T11:33:23.955340Z"
    }
   },
   "outputs": [],
   "source": [
    "import os"
   ]
  },
  {
   "cell_type": "code",
   "execution_count": 35,
   "id": "d9cc88e7-92b9-44d3-b786-a88d3fea2186",
   "metadata": {
    "execution": {
     "iopub.execute_input": "2022-04-14T11:40:19.347310Z",
     "iopub.status.busy": "2022-04-14T11:40:19.347127Z",
     "iopub.status.idle": "2022-04-14T11:40:20.511867Z",
     "shell.execute_reply": "2022-04-14T11:40:20.511296Z",
     "shell.execute_reply.started": "2022-04-14T11:40:19.347279Z"
    },
    "tags": []
   },
   "outputs": [
    {
     "data": {
      "text/html": [
       "<div>\n",
       "<style scoped>\n",
       "    .dataframe tbody tr th:only-of-type {\n",
       "        vertical-align: middle;\n",
       "    }\n",
       "\n",
       "    .dataframe tbody tr th {\n",
       "        vertical-align: top;\n",
       "    }\n",
       "\n",
       "    .dataframe thead th {\n",
       "        text-align: right;\n",
       "    }\n",
       "</style>\n",
       "<table border=\"1\" class=\"dataframe\">\n",
       "  <thead>\n",
       "    <tr style=\"text-align: right;\">\n",
       "      <th></th>\n",
       "      <th>data</th>\n",
       "      <th>stato</th>\n",
       "      <th>codice_regione</th>\n",
       "      <th>denominazione_regione</th>\n",
       "      <th>codice_provincia</th>\n",
       "      <th>denominazione_provincia</th>\n",
       "      <th>sigla_provincia</th>\n",
       "      <th>lat</th>\n",
       "      <th>long</th>\n",
       "      <th>totale_casi</th>\n",
       "      <th>note</th>\n",
       "    </tr>\n",
       "  </thead>\n",
       "  <tbody>\n",
       "    <tr>\n",
       "      <th>0</th>\n",
       "      <td>2020-02-25T18:00:00</td>\n",
       "      <td>ITA</td>\n",
       "      <td>13</td>\n",
       "      <td>Abruzzo</td>\n",
       "      <td>66</td>\n",
       "      <td>L'Aquila</td>\n",
       "      <td>AQ</td>\n",
       "      <td>42.351222</td>\n",
       "      <td>13.398438</td>\n",
       "      <td>0</td>\n",
       "      <td>NaN</td>\n",
       "    </tr>\n",
       "    <tr>\n",
       "      <th>1</th>\n",
       "      <td>2020-02-25T18:00:00</td>\n",
       "      <td>ITA</td>\n",
       "      <td>13</td>\n",
       "      <td>Abruzzo</td>\n",
       "      <td>67</td>\n",
       "      <td>Teramo</td>\n",
       "      <td>TE</td>\n",
       "      <td>42.658918</td>\n",
       "      <td>13.704400</td>\n",
       "      <td>0</td>\n",
       "      <td>NaN</td>\n",
       "    </tr>\n",
       "    <tr>\n",
       "      <th>2</th>\n",
       "      <td>2020-02-25T18:00:00</td>\n",
       "      <td>ITA</td>\n",
       "      <td>13</td>\n",
       "      <td>Abruzzo</td>\n",
       "      <td>68</td>\n",
       "      <td>Pescara</td>\n",
       "      <td>PE</td>\n",
       "      <td>42.464584</td>\n",
       "      <td>14.213648</td>\n",
       "      <td>0</td>\n",
       "      <td>NaN</td>\n",
       "    </tr>\n",
       "    <tr>\n",
       "      <th>3</th>\n",
       "      <td>2020-02-25T18:00:00</td>\n",
       "      <td>ITA</td>\n",
       "      <td>13</td>\n",
       "      <td>Abruzzo</td>\n",
       "      <td>69</td>\n",
       "      <td>Chieti</td>\n",
       "      <td>CH</td>\n",
       "      <td>42.351032</td>\n",
       "      <td>14.167546</td>\n",
       "      <td>0</td>\n",
       "      <td>NaN</td>\n",
       "    </tr>\n",
       "    <tr>\n",
       "      <th>4</th>\n",
       "      <td>2020-02-25T18:00:00</td>\n",
       "      <td>ITA</td>\n",
       "      <td>13</td>\n",
       "      <td>Abruzzo</td>\n",
       "      <td>979</td>\n",
       "      <td>In fase di definizione/aggiornamento</td>\n",
       "      <td>NaN</td>\n",
       "      <td>NaN</td>\n",
       "      <td>NaN</td>\n",
       "      <td>0</td>\n",
       "      <td>NaN</td>\n",
       "    </tr>\n",
       "    <tr>\n",
       "      <th>...</th>\n",
       "      <td>...</td>\n",
       "      <td>...</td>\n",
       "      <td>...</td>\n",
       "      <td>...</td>\n",
       "      <td>...</td>\n",
       "      <td>...</td>\n",
       "      <td>...</td>\n",
       "      <td>...</td>\n",
       "      <td>...</td>\n",
       "      <td>...</td>\n",
       "      <td>...</td>\n",
       "    </tr>\n",
       "    <tr>\n",
       "      <th>123</th>\n",
       "      <td>2020-02-25T18:00:00</td>\n",
       "      <td>ITA</td>\n",
       "      <td>5</td>\n",
       "      <td>Veneto</td>\n",
       "      <td>26</td>\n",
       "      <td>Treviso</td>\n",
       "      <td>TV</td>\n",
       "      <td>45.667546</td>\n",
       "      <td>12.245074</td>\n",
       "      <td>1</td>\n",
       "      <td>NaN</td>\n",
       "    </tr>\n",
       "    <tr>\n",
       "      <th>124</th>\n",
       "      <td>2020-02-25T18:00:00</td>\n",
       "      <td>ITA</td>\n",
       "      <td>5</td>\n",
       "      <td>Veneto</td>\n",
       "      <td>27</td>\n",
       "      <td>Venezia</td>\n",
       "      <td>VE</td>\n",
       "      <td>45.434905</td>\n",
       "      <td>12.338452</td>\n",
       "      <td>7</td>\n",
       "      <td>NaN</td>\n",
       "    </tr>\n",
       "    <tr>\n",
       "      <th>125</th>\n",
       "      <td>2020-02-25T18:00:00</td>\n",
       "      <td>ITA</td>\n",
       "      <td>5</td>\n",
       "      <td>Veneto</td>\n",
       "      <td>28</td>\n",
       "      <td>Padova</td>\n",
       "      <td>PD</td>\n",
       "      <td>45.406930</td>\n",
       "      <td>11.876087</td>\n",
       "      <td>30</td>\n",
       "      <td>NaN</td>\n",
       "    </tr>\n",
       "    <tr>\n",
       "      <th>126</th>\n",
       "      <td>2020-02-25T18:00:00</td>\n",
       "      <td>ITA</td>\n",
       "      <td>5</td>\n",
       "      <td>Veneto</td>\n",
       "      <td>29</td>\n",
       "      <td>Rovigo</td>\n",
       "      <td>RO</td>\n",
       "      <td>45.071073</td>\n",
       "      <td>11.790070</td>\n",
       "      <td>0</td>\n",
       "      <td>NaN</td>\n",
       "    </tr>\n",
       "    <tr>\n",
       "      <th>127</th>\n",
       "      <td>2020-02-25T18:00:00</td>\n",
       "      <td>ITA</td>\n",
       "      <td>5</td>\n",
       "      <td>Veneto</td>\n",
       "      <td>999</td>\n",
       "      <td>In fase di definizione/aggiornamento</td>\n",
       "      <td>NaN</td>\n",
       "      <td>NaN</td>\n",
       "      <td>NaN</td>\n",
       "      <td>5</td>\n",
       "      <td>NaN</td>\n",
       "    </tr>\n",
       "  </tbody>\n",
       "</table>\n",
       "<p>128 rows × 11 columns</p>\n",
       "</div>"
      ],
      "text/plain": [
       "                    data stato  codice_regione denominazione_regione  \\\n",
       "0    2020-02-25T18:00:00   ITA              13               Abruzzo   \n",
       "1    2020-02-25T18:00:00   ITA              13               Abruzzo   \n",
       "2    2020-02-25T18:00:00   ITA              13               Abruzzo   \n",
       "3    2020-02-25T18:00:00   ITA              13               Abruzzo   \n",
       "4    2020-02-25T18:00:00   ITA              13               Abruzzo   \n",
       "..                   ...   ...             ...                   ...   \n",
       "123  2020-02-25T18:00:00   ITA               5                Veneto   \n",
       "124  2020-02-25T18:00:00   ITA               5                Veneto   \n",
       "125  2020-02-25T18:00:00   ITA               5                Veneto   \n",
       "126  2020-02-25T18:00:00   ITA               5                Veneto   \n",
       "127  2020-02-25T18:00:00   ITA               5                Veneto   \n",
       "\n",
       "     codice_provincia               denominazione_provincia sigla_provincia  \\\n",
       "0                  66                              L'Aquila              AQ   \n",
       "1                  67                                Teramo              TE   \n",
       "2                  68                               Pescara              PE   \n",
       "3                  69                                Chieti              CH   \n",
       "4                 979  In fase di definizione/aggiornamento             NaN   \n",
       "..                ...                                   ...             ...   \n",
       "123                26                               Treviso              TV   \n",
       "124                27                               Venezia              VE   \n",
       "125                28                                Padova              PD   \n",
       "126                29                                Rovigo              RO   \n",
       "127               999  In fase di definizione/aggiornamento             NaN   \n",
       "\n",
       "           lat       long  totale_casi  note  \n",
       "0    42.351222  13.398438            0   NaN  \n",
       "1    42.658918  13.704400            0   NaN  \n",
       "2    42.464584  14.213648            0   NaN  \n",
       "3    42.351032  14.167546            0   NaN  \n",
       "4          NaN        NaN            0   NaN  \n",
       "..         ...        ...          ...   ...  \n",
       "123  45.667546  12.245074            1   NaN  \n",
       "124  45.434905  12.338452            7   NaN  \n",
       "125  45.406930  11.876087           30   NaN  \n",
       "126  45.071073  11.790070            0   NaN  \n",
       "127        NaN        NaN            5   NaN  \n",
       "\n",
       "[128 rows x 11 columns]"
      ]
     },
     "metadata": {},
     "output_type": "display_data"
    }
   ],
   "source": [
    "import pandas as pd\n",
    "from urllib.error import URLError\n",
    "from IPython.display import display\n",
    "import os\n",
    "try:\n",
    "    df = pd.read_csv(\"https://raw.githubusercontent.com/pcm-dpc/COVID-19/master/dati-province/dpc-covid19-ita-province-20200225.csv\")\n",
    "    try:\n",
    "        os.mkdir(\"./data\")\n",
    "    except FileExistsError:\n",
    "        pass\n",
    "        \n",
    "    df.to_csv(\"./data/covid_italie.csv\")\n",
    "    display(df)\n",
    "except URLError: #imaginons que le csv soit supprimé par l'utilisateur\n",
    "    df = pd.read_csv(\"./data/covid_italie.csv\")\n",
    "    print('''Le fichier n'est pas accessible \\n \n",
    "    - vérifiez votre connection internet \\n\n",
    "    - vérifiez que le fichier est toujours disponible sur Github \\n\n",
    "    Charge les dernières données accédées:''')\n",
    "    display(df)"
   ]
  },
  {
   "cell_type": "markdown",
   "id": "b5cc6816-20e6-4daa-aaf5-d2028d1c78a0",
   "metadata": {
    "execution": {
     "iopub.execute_input": "2021-04-27T19:27:18.435919Z",
     "iopub.status.busy": "2021-04-27T19:27:18.435704Z",
     "iopub.status.idle": "2021-04-27T19:27:18.441488Z",
     "shell.execute_reply": "2021-04-27T19:27:18.440809Z",
     "shell.execute_reply.started": "2021-04-27T19:27:18.435895Z"
    },
    "tags": []
   },
   "source": [
    "Il est normalement conseillé de définir l'erreur(s) levée(s) pour définir l'exception.\n",
    "Sur une librairie/base de code conséquente, ça facilite le déboguage et permettra au programme de crasher si une erreur non prévue arrive.\n",
    "\n",
    "Sur de la data science en jupyter notebook ¯\\_(ツ)_/¯ (on gagne du temps a ne pas les définir et à priori on fera quelque chose de plus propre en production).\n"
   ]
  },
  {
   "cell_type": "markdown",
   "id": "436c73f3-bd6a-4f10-8040-ac073148bf0a",
   "metadata": {
    "tags": []
   },
   "source": [
    "## Les asserts"
   ]
  },
  {
   "cell_type": "code",
   "execution_count": 37,
   "id": "45ce866a-5b88-40db-9b53-f188d7e6c60c",
   "metadata": {
    "execution": {
     "iopub.execute_input": "2022-04-14T11:42:29.434122Z",
     "iopub.status.busy": "2022-04-14T11:42:29.433957Z",
     "iopub.status.idle": "2022-04-14T11:42:29.437046Z",
     "shell.execute_reply": "2022-04-14T11:42:29.436412Z",
     "shell.execute_reply.started": "2022-04-14T11:42:29.434105Z"
    },
    "tags": []
   },
   "outputs": [],
   "source": [
    "assert 3==3"
   ]
  },
  {
   "cell_type": "code",
   "execution_count": 40,
   "id": "5e17e757-fe1b-4d2c-9787-8a54914303c0",
   "metadata": {
    "execution": {
     "iopub.execute_input": "2022-04-14T11:43:37.360610Z",
     "iopub.status.busy": "2022-04-14T11:43:37.360427Z",
     "iopub.status.idle": "2022-04-14T11:43:37.366392Z",
     "shell.execute_reply": "2022-04-14T11:43:37.365883Z",
     "shell.execute_reply.started": "2022-04-14T11:43:37.360580Z"
    },
    "tags": []
   },
   "outputs": [
    {
     "ename": "AssertionError",
     "evalue": "",
     "output_type": "error",
     "traceback": [
      "\u001b[0;31m---------------------------------------------------------------------------\u001b[0m",
      "\u001b[0;31mAssertionError\u001b[0m                            Traceback (most recent call last)",
      "\u001b[0;32m/tmp/ipykernel_235/486848887.py\u001b[0m in \u001b[0;36m<module>\u001b[0;34m\u001b[0m\n\u001b[0;32m----> 1\u001b[0;31m \u001b[0;32massert\u001b[0m \u001b[0;36m3\u001b[0m \u001b[0;34m==\u001b[0m \u001b[0;36m4\u001b[0m\u001b[0;34m\u001b[0m\u001b[0;34m\u001b[0m\u001b[0m\n\u001b[0m",
      "\u001b[0;31mAssertionError\u001b[0m: "
     ]
    }
   ],
   "source": [
    "assert 3 == 4"
   ]
  },
  {
   "cell_type": "markdown",
   "id": "e295675b-8880-4240-b3df-d0ad27b3b980",
   "metadata": {},
   "source": [
    "Un assert s'assure qu'une condition est vraie pour que le programme continue."
   ]
  },
  {
   "cell_type": "markdown",
   "id": "715892fa-b720-4f45-a2cc-86b83e851346",
   "metadata": {},
   "source": [
    "Mais à quoi ça sert ?:\n",
    "1. Permet de faire en sorte que le code casse s'il ne se comporte pas comme prévu\n",
    "2. Permet d'auto-documenter son code \n",
    "\n",
    "\n",
    "Utiliser beaucoup d'assert est une bonne chose.   \n",
    "\n",
    "\n",
    "\n",
    "Il est même souvent utile d'écrire un assert (un test) pour définir ce que l'on veut  que le code fasse, avant d'écrire le code : c'est la base du Test driven development."
   ]
  },
  {
   "cell_type": "markdown",
   "id": "f87a3403-cc83-494c-9411-821b4ad481f6",
   "metadata": {},
   "source": [
    "Mais à quoi ça peut servir en data science ?  \n",
    "\n",
    "C'est souvent utile pour tester les données. Par exemple qu'après des manipulations, le nombre d'observation soit égal aux observations espérées (surtout après des merge)."
   ]
  },
  {
   "cell_type": "code",
   "execution_count": 43,
   "id": "89220bf3-683a-4f0a-9118-8ad64a1b7e8f",
   "metadata": {
    "execution": {
     "iopub.execute_input": "2022-04-14T11:48:20.588999Z",
     "iopub.status.busy": "2022-04-14T11:48:20.588827Z",
     "iopub.status.idle": "2022-04-14T11:48:20.994687Z",
     "shell.execute_reply": "2022-04-14T11:48:20.994173Z",
     "shell.execute_reply.started": "2022-04-14T11:48:20.588980Z"
    },
    "tags": []
   },
   "outputs": [],
   "source": [
    "df = pd.read_csv(\"https://raw.githubusercontent.com/pcm-dpc/COVID-19/master/dati-province/dpc-covid19-ita-province-20200225.csv\")\n",
    "\n",
    "assert len(df)>20 #ici on teste que l'on a au moins 20 lignes dans la table téléchargée"
   ]
  },
  {
   "cell_type": "markdown",
   "id": "b7615f4a-1854-4669-84da-ec8f8713528a",
   "metadata": {},
   "source": [
    "C'est aussi la base des tests unitaire (ou d'intégration) qui permet de faire du CI (jenkins, Travis, Gitlab et Github CI etc).\n",
    "C'est une des bases importantes du [MLOps](https://en.wikipedia.org/wiki/MLOps)"
   ]
  },
  {
   "cell_type": "markdown",
   "id": "f48a2b17-46f7-48ae-a7bf-9b1fcbb197f1",
   "metadata": {
    "execution": {
     "iopub.execute_input": "2021-04-27T20:41:39.022326Z",
     "iopub.status.busy": "2021-04-27T20:41:39.022110Z",
     "iopub.status.idle": "2021-04-27T20:41:39.026796Z",
     "shell.execute_reply": "2021-04-27T20:41:39.025921Z",
     "shell.execute_reply.started": "2021-04-27T20:41:39.022302Z"
    }
   },
   "source": [
    "[travis](https://travis-ci.org/github/adrienpacifico/adrienpacifico.github.io/builds/768587169)"
   ]
  },
  {
   "cell_type": "markdown",
   "id": "8f580217-88d4-4c47-8da2-2d770ad59072",
   "metadata": {
    "tags": []
   },
   "source": [
    "### Exemple de TDD avec pytest pour faire un mini ci"
   ]
  },
  {
   "cell_type": "markdown",
   "id": "22fe95bf-8afa-4a99-b4da-4fcf28ab1a77",
   "metadata": {},
   "source": [
    "En TDD on écrit les tests d'abord !"
   ]
  },
  {
   "cell_type": "code",
   "execution_count": 49,
   "id": "e5f6e06d-d71f-4116-a48d-b771729022b1",
   "metadata": {
    "execution": {
     "iopub.execute_input": "2022-04-14T11:57:48.070806Z",
     "iopub.status.busy": "2022-04-14T11:57:48.070145Z",
     "iopub.status.idle": "2022-04-14T11:57:48.073676Z",
     "shell.execute_reply": "2022-04-14T11:57:48.073203Z",
     "shell.execute_reply.started": "2022-04-14T11:57:48.070786Z"
    },
    "tags": []
   },
   "outputs": [],
   "source": [
    "import ipytest\n",
    "ipytest.autoconfig()    "
   ]
  },
  {
   "cell_type": "markdown",
   "id": "7ab0ca35-b1a6-49b6-b0de-56b3418b2d17",
   "metadata": {},
   "source": [
    "#### Exemple général"
   ]
  },
  {
   "cell_type": "code",
   "execution_count": 50,
   "id": "b9b47091-597f-46b2-a2f4-246bddea14a0",
   "metadata": {
    "execution": {
     "iopub.execute_input": "2022-04-14T11:58:10.469803Z",
     "iopub.status.busy": "2022-04-14T11:58:10.469532Z",
     "iopub.status.idle": "2022-04-14T11:58:10.472721Z",
     "shell.execute_reply": "2022-04-14T11:58:10.472232Z",
     "shell.execute_reply.started": "2022-04-14T11:58:10.469784Z"
    }
   },
   "outputs": [],
   "source": [
    "def my_func(x):\n",
    "    return (x // 2) * 2 "
   ]
  },
  {
   "cell_type": "code",
   "execution_count": 53,
   "id": "0142da5b-b454-49c0-a0f7-e5423b769d28",
   "metadata": {
    "execution": {
     "iopub.execute_input": "2022-04-14T11:59:07.792044Z",
     "iopub.status.busy": "2022-04-14T11:59:07.791859Z",
     "iopub.status.idle": "2022-04-14T11:59:07.795764Z",
     "shell.execute_reply": "2022-04-14T11:59:07.795325Z",
     "shell.execute_reply.started": "2022-04-14T11:59:07.792012Z"
    },
    "tags": []
   },
   "outputs": [
    {
     "data": {
      "text/plain": [
       "12"
      ]
     },
     "execution_count": 53,
     "metadata": {},
     "output_type": "execute_result"
    }
   ],
   "source": [
    "(37//6)*2"
   ]
  },
  {
   "cell_type": "code",
   "execution_count": 62,
   "id": "98b2023d-5015-4b30-8b5f-0ada8edd0964",
   "metadata": {
    "execution": {
     "iopub.execute_input": "2022-04-14T12:04:18.217045Z",
     "iopub.status.busy": "2022-04-14T12:04:18.216642Z",
     "iopub.status.idle": "2022-04-14T12:04:18.220093Z",
     "shell.execute_reply": "2022-04-14T12:04:18.219417Z",
     "shell.execute_reply.started": "2022-04-14T12:04:18.217026Z"
    },
    "tags": []
   },
   "outputs": [],
   "source": [
    "def my_func(x, y):\n",
    "    \"\"\"\n",
    "    Fait division entière par \n",
    "    et multiplie le résultat par 2\n",
    "    \"\"\"\n",
    "    return (x // y) * 2 "
   ]
  },
  {
   "cell_type": "code",
   "execution_count": 63,
   "id": "920abd33-140b-47a5-8598-ebc28272f840",
   "metadata": {
    "execution": {
     "iopub.execute_input": "2022-04-14T12:04:18.449875Z",
     "iopub.status.busy": "2022-04-14T12:04:18.449710Z",
     "iopub.status.idle": "2022-04-14T12:04:18.454168Z",
     "shell.execute_reply": "2022-04-14T12:04:18.453635Z",
     "shell.execute_reply.started": "2022-04-14T12:04:18.449859Z"
    },
    "tags": []
   },
   "outputs": [
    {
     "data": {
      "text/plain": [
       "42"
      ]
     },
     "execution_count": 63,
     "metadata": {},
     "output_type": "execute_result"
    }
   ],
   "source": [
    "my_func(43,2)"
   ]
  },
  {
   "cell_type": "code",
   "execution_count": null,
   "id": "157c5eb7-c51a-4ae0-b8e7-109dfaff7166",
   "metadata": {},
   "outputs": [],
   "source": []
  },
  {
   "cell_type": "code",
   "execution_count": 72,
   "id": "2e09e0bd-7876-4be5-943b-07346b39b5e1",
   "metadata": {
    "execution": {
     "iopub.execute_input": "2022-04-14T12:07:48.573906Z",
     "iopub.status.busy": "2022-04-14T12:07:48.573716Z",
     "iopub.status.idle": "2022-04-14T12:07:48.631588Z",
     "shell.execute_reply": "2022-04-14T12:07:48.631264Z",
     "shell.execute_reply.started": "2022-04-14T12:07:48.573887Z"
    },
    "tags": []
   },
   "outputs": [
    {
     "name": "stdout",
     "output_type": "stream",
     "text": [
      "\u001b[32m.\u001b[0m\u001b[32m.\u001b[0m\u001b[32m.\u001b[0m\u001b[32m.\u001b[0m\u001b[32m.\u001b[0m\u001b[32m.\u001b[0m\u001b[32m                                                                                       [100%]\u001b[0m\n",
      "\u001b[32m\u001b[32m\u001b[1m6 passed\u001b[0m\u001b[32m in 0.01s\u001b[0m\u001b[0m\n"
     ]
    }
   ],
   "source": [
    "%%ipytest\n",
    "\n",
    "# define the tests\n",
    "\n",
    "def test_my_func1():\n",
    "    assert my_func(37,6) == 12\n",
    "def test_my_func2():\n",
    "    assert my_func(36, 6) == 12\n",
    "def test_my_func3():\n",
    "    assert my_func(40, 6) == 12\n",
    "def test_my_func4():\n",
    "    assert my_func(43,2) == 42\n",
    "def test_my_func5():\n",
    "    assert my_func(64,2) == 64\n",
    "def test_my_func6():\n",
    "    assert my_func(65,2) == 64\n",
    "    \n",
    "    \n",
    "    \n",
    "def my_func(x,y):\n",
    "    \"\"\"\n",
    "    Fait division entière par \n",
    "    et multiplie le résultat par 2\n",
    "    \"\"\"\n",
    "    return 2 * (x // y)"
   ]
  },
  {
   "cell_type": "code",
   "execution_count": 76,
   "id": "6d7d1021-10d3-440a-b0cc-51bc88f4cd1b",
   "metadata": {
    "execution": {
     "iopub.execute_input": "2022-04-14T12:10:22.347390Z",
     "iopub.status.busy": "2022-04-14T12:10:22.347213Z",
     "iopub.status.idle": "2022-04-14T12:10:22.400835Z",
     "shell.execute_reply": "2022-04-14T12:10:22.400368Z",
     "shell.execute_reply.started": "2022-04-14T12:10:22.347374Z"
    },
    "tags": []
   },
   "outputs": [
    {
     "name": "stdout",
     "output_type": "stream",
     "text": [
      "\u001b[32m.\u001b[0m\u001b[32m.\u001b[0m\u001b[32m.\u001b[0m\u001b[32m.\u001b[0m\u001b[32m.\u001b[0m\u001b[32m                                                                                        [100%]\u001b[0m\n",
      "\u001b[32m\u001b[32m\u001b[1m5 passed\u001b[0m\u001b[32m in 0.01s\u001b[0m\u001b[0m\n"
     ]
    }
   ],
   "source": [
    "%%ipytest\n",
    "\n",
    "import pytest\n",
    "\n",
    "def my_func(x):\n",
    "    \"\"\"\n",
    "    Fait division entière par \n",
    "    et multiplie le résultat par 2\n",
    "    \"\"\"\n",
    "    return (x // 2)*2\n",
    "\n",
    "@pytest.mark.parametrize('input,expected', [\n",
    "    (0, 0),\n",
    "    (1, 0),\n",
    "    (2, 2),\n",
    "    (3, 2),\n",
    "])\n",
    "def test_parametrized(input, expected):\n",
    "    assert my_func(input) == expected\n",
    "    \n",
    "@pytest.fixture\n",
    "def my_fixture():\n",
    "    return 42\n",
    "    \n",
    "    \n",
    "def test_fixture(my_fixture):\n",
    "    assert my_fixture == 42\n"
   ]
  },
  {
   "cell_type": "markdown",
   "id": "e00b83d4-186f-47fd-a15e-0ea2a60f8e2d",
   "metadata": {},
   "source": [
    "Exemple appliqué :"
   ]
  },
  {
   "cell_type": "code",
   "execution_count": null,
   "id": "aeb0727f-3053-4948-b726-14b25e6b2a07",
   "metadata": {},
   "outputs": [],
   "source": [
    "#On écrit ce que l'on veut que la fonction fasse\n",
    "\n",
    "def download_or_load(url=None, cache_path=\"./data\"):\n",
    "    \"\"\"\n",
    "    Télécharge un csv via une url en ligne\n",
    "    À défaut, charge la données correspondante en cache\n",
    "    \"\"\""
   ]
  },
  {
   "cell_type": "code",
   "execution_count": null,
   "id": "525c1d2a-103e-4cc2-8860-67522c2a299a",
   "metadata": {},
   "outputs": [],
   "source": [
    "### test download_or_load si la donnée est disponible\n",
    "def test_dowload_or_load_if_correct_url():\n",
    "    \"\"\"\n",
    "    1- Crée le dossier /data s'il n'existe pas\n",
    "    2- Essaye de télécharger un csv via un lien qui marche et retourne \n",
    "    \"\"\""
   ]
  },
  {
   "cell_type": "code",
   "execution_count": null,
   "id": "7dbe7df3-519d-4824-b28a-7b76a2bb742b",
   "metadata": {},
   "outputs": [],
   "source": []
  },
  {
   "cell_type": "code",
   "execution_count": 18,
   "id": "771143c1-4f6c-4a1f-85b1-a57df9fb7031",
   "metadata": {},
   "outputs": [],
   "source": [
    "### Terminer, puis faire un exemple ou on veut rajouter que l'on veut que des url qui se terminent pas csv"
   ]
  },
  {
   "cell_type": "code",
   "execution_count": null,
   "id": "c7daa55c-d10f-407e-9ff6-a70e59044a5b",
   "metadata": {},
   "outputs": [],
   "source": []
  }
 ],
 "metadata": {
  "kernelspec": {
   "display_name": "Python 3 (ipykernel)",
   "language": "python",
   "name": "python3"
  },
  "language_info": {
   "codemirror_mode": {
    "name": "ipython",
    "version": 3
   },
   "file_extension": ".py",
   "mimetype": "text/x-python",
   "name": "python",
   "nbconvert_exporter": "python",
   "pygments_lexer": "ipython3",
   "version": "3.7.12"
  }
 },
 "nbformat": 4,
 "nbformat_minor": 5
}
