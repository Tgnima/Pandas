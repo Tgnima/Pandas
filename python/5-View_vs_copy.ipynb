{
 "cells": [
  {
   "cell_type": "markdown",
   "id": "728bc4cc-367a-4a5b-9d4f-1fa2162289fe",
   "metadata": {},
   "source": [
    "## View vs copy"
   ]
  },
  {
   "cell_type": "code",
   "execution_count": 1,
   "id": "85781af0-0c50-43a2-8719-4a13f3b6bb3a",
   "metadata": {
    "execution": {
     "iopub.execute_input": "2022-04-14T11:06:52.298750Z",
     "iopub.status.busy": "2022-04-14T11:06:52.298401Z",
     "iopub.status.idle": "2022-04-14T11:06:52.301805Z",
     "shell.execute_reply": "2022-04-14T11:06:52.301317Z",
     "shell.execute_reply.started": "2022-04-14T11:06:52.298711Z"
    },
    "tags": []
   },
   "outputs": [],
   "source": [
    "x = [1, 2, 3]"
   ]
  },
  {
   "cell_type": "code",
   "execution_count": 2,
   "id": "b721eda8-b74e-406a-96ca-930c4f60f4d7",
   "metadata": {
    "execution": {
     "iopub.execute_input": "2022-04-14T11:06:53.084335Z",
     "iopub.status.busy": "2022-04-14T11:06:53.084155Z",
     "iopub.status.idle": "2022-04-14T11:06:53.087133Z",
     "shell.execute_reply": "2022-04-14T11:06:53.086550Z",
     "shell.execute_reply.started": "2022-04-14T11:06:53.084304Z"
    },
    "tags": []
   },
   "outputs": [],
   "source": [
    "y = x "
   ]
  },
  {
   "cell_type": "code",
   "execution_count": 3,
   "id": "c818d751-6fae-433b-8e9e-3af73914965d",
   "metadata": {
    "execution": {
     "iopub.execute_input": "2022-04-14T11:06:53.986703Z",
     "iopub.status.busy": "2022-04-14T11:06:53.986498Z",
     "iopub.status.idle": "2022-04-14T11:06:53.989608Z",
     "shell.execute_reply": "2022-04-14T11:06:53.989171Z",
     "shell.execute_reply.started": "2022-04-14T11:06:53.986658Z"
    },
    "tags": []
   },
   "outputs": [],
   "source": [
    "y[0] = 42"
   ]
  },
  {
   "cell_type": "code",
   "execution_count": 5,
   "id": "111d6e53-70ab-4e0e-9dfb-67da4b455aab",
   "metadata": {
    "execution": {
     "iopub.execute_input": "2022-04-14T11:07:07.001696Z",
     "iopub.status.busy": "2022-04-14T11:07:07.001230Z",
     "iopub.status.idle": "2022-04-14T11:07:07.005765Z",
     "shell.execute_reply": "2022-04-14T11:07:07.005277Z",
     "shell.execute_reply.started": "2022-04-14T11:07:07.001653Z"
    },
    "tags": []
   },
   "outputs": [
    {
     "data": {
      "text/plain": [
       "[42, 2, 3]"
      ]
     },
     "execution_count": 5,
     "metadata": {},
     "output_type": "execute_result"
    }
   ],
   "source": [
    "y"
   ]
  },
  {
   "cell_type": "code",
   "execution_count": 6,
   "id": "5d3eb971-48a2-4efc-9e6b-06e2f2009ff9",
   "metadata": {
    "execution": {
     "iopub.execute_input": "2022-04-14T11:07:10.739841Z",
     "iopub.status.busy": "2022-04-14T11:07:10.739615Z",
     "iopub.status.idle": "2022-04-14T11:07:10.743489Z",
     "shell.execute_reply": "2022-04-14T11:07:10.743098Z",
     "shell.execute_reply.started": "2022-04-14T11:07:10.739819Z"
    }
   },
   "outputs": [
    {
     "data": {
      "text/plain": [
       "[42, 2, 3]"
      ]
     },
     "execution_count": 6,
     "metadata": {},
     "output_type": "execute_result"
    }
   ],
   "source": [
    "x"
   ]
  },
  {
   "cell_type": "markdown",
   "id": "5b6bb368-226d-48e0-90de-e173bfe878ed",
   "metadata": {},
   "source": [
    "En python, la création d'une nouvelle variable à partir d'un objet n'entrainne pas forcément la création d'un nouvel objet, mais va simplement créer un pointeur sur l'objet originel en mémoire."
   ]
  },
  {
   "cell_type": "code",
   "execution_count": 7,
   "id": "1513672c-7719-4d90-b268-1b0bc55a4c05",
   "metadata": {
    "execution": {
     "iopub.execute_input": "2022-04-14T11:09:34.240366Z",
     "iopub.status.busy": "2022-04-14T11:09:34.240149Z",
     "iopub.status.idle": "2022-04-14T11:09:34.244146Z",
     "shell.execute_reply": "2022-04-14T11:09:34.243738Z",
     "shell.execute_reply.started": "2022-04-14T11:09:34.240318Z"
    },
    "tags": []
   },
   "outputs": [
    {
     "data": {
      "text/plain": [
       "139706435138416"
      ]
     },
     "execution_count": 7,
     "metadata": {},
     "output_type": "execute_result"
    }
   ],
   "source": [
    "id(x)"
   ]
  },
  {
   "cell_type": "code",
   "execution_count": 8,
   "id": "32358221-7435-4ad2-ac7f-c934a0124dee",
   "metadata": {
    "execution": {
     "iopub.execute_input": "2022-04-14T11:09:41.387586Z",
     "iopub.status.busy": "2022-04-14T11:09:41.387408Z",
     "iopub.status.idle": "2022-04-14T11:09:41.391335Z",
     "shell.execute_reply": "2022-04-14T11:09:41.390858Z",
     "shell.execute_reply.started": "2022-04-14T11:09:41.387553Z"
    },
    "tags": []
   },
   "outputs": [
    {
     "data": {
      "text/plain": [
       "139706435138416"
      ]
     },
     "execution_count": 8,
     "metadata": {},
     "output_type": "execute_result"
    }
   ],
   "source": [
    "id(y)"
   ]
  },
  {
   "cell_type": "code",
   "execution_count": 9,
   "id": "9a9f8727-1033-4619-8317-36737138c93e",
   "metadata": {
    "execution": {
     "iopub.execute_input": "2022-04-14T11:09:45.030373Z",
     "iopub.status.busy": "2022-04-14T11:09:45.030151Z",
     "iopub.status.idle": "2022-04-14T11:09:45.034056Z",
     "shell.execute_reply": "2022-04-14T11:09:45.033646Z",
     "shell.execute_reply.started": "2022-04-14T11:09:45.030325Z"
    },
    "tags": []
   },
   "outputs": [
    {
     "data": {
      "text/plain": [
       "True"
      ]
     },
     "execution_count": 9,
     "metadata": {},
     "output_type": "execute_result"
    }
   ],
   "source": [
    "id(x) == id(y)"
   ]
  },
  {
   "cell_type": "markdown",
   "id": "9da36316-49cd-4344-9882-6d6bc49611b7",
   "metadata": {},
   "source": [
    "### Comment copier un objet ?"
   ]
  },
  {
   "cell_type": "code",
   "execution_count": 10,
   "id": "b7336557-a7af-4b59-a856-3fbf4bfca9d6",
   "metadata": {
    "execution": {
     "iopub.execute_input": "2022-04-14T11:10:06.329802Z",
     "iopub.status.busy": "2022-04-14T11:10:06.329574Z",
     "iopub.status.idle": "2022-04-14T11:10:06.361830Z",
     "shell.execute_reply": "2022-04-14T11:10:06.361390Z",
     "shell.execute_reply.started": "2022-04-14T11:10:06.329772Z"
    },
    "tags": []
   },
   "outputs": [],
   "source": [
    "%reset -f "
   ]
  },
  {
   "cell_type": "code",
   "execution_count": 11,
   "id": "be21f48f-8102-4cbc-bcc9-1bf952adf933",
   "metadata": {
    "execution": {
     "iopub.execute_input": "2022-04-14T11:10:09.662186Z",
     "iopub.status.busy": "2022-04-14T11:10:09.661983Z",
     "iopub.status.idle": "2022-04-14T11:10:09.664416Z",
     "shell.execute_reply": "2022-04-14T11:10:09.664086Z",
     "shell.execute_reply.started": "2022-04-14T11:10:09.662170Z"
    }
   },
   "outputs": [],
   "source": [
    "x = [1, 2, 3]"
   ]
  },
  {
   "cell_type": "code",
   "execution_count": 12,
   "id": "760156be-daf0-404e-877b-52663d695191",
   "metadata": {
    "execution": {
     "iopub.execute_input": "2022-04-14T11:10:22.492649Z",
     "iopub.status.busy": "2022-04-14T11:10:22.492447Z",
     "iopub.status.idle": "2022-04-14T11:10:22.495374Z",
     "shell.execute_reply": "2022-04-14T11:10:22.494731Z",
     "shell.execute_reply.started": "2022-04-14T11:10:22.492606Z"
    }
   },
   "outputs": [],
   "source": [
    "y = x.copy()"
   ]
  },
  {
   "cell_type": "code",
   "execution_count": 13,
   "id": "4c681a1c-3771-422b-9e45-98370f27e46e",
   "metadata": {
    "execution": {
     "iopub.execute_input": "2022-04-14T11:10:23.830636Z",
     "iopub.status.busy": "2022-04-14T11:10:23.830503Z",
     "iopub.status.idle": "2022-04-14T11:10:23.834043Z",
     "shell.execute_reply": "2022-04-14T11:10:23.833448Z",
     "shell.execute_reply.started": "2022-04-14T11:10:23.830621Z"
    }
   },
   "outputs": [],
   "source": [
    "y[0] = 42"
   ]
  },
  {
   "cell_type": "code",
   "execution_count": 14,
   "id": "c2299a69-07e1-4fcc-8bb3-ec6e3e6f9513",
   "metadata": {
    "execution": {
     "iopub.execute_input": "2022-04-14T11:10:24.372863Z",
     "iopub.status.busy": "2022-04-14T11:10:24.372691Z",
     "iopub.status.idle": "2022-04-14T11:10:24.376133Z",
     "shell.execute_reply": "2022-04-14T11:10:24.375574Z",
     "shell.execute_reply.started": "2022-04-14T11:10:24.372833Z"
    }
   },
   "outputs": [
    {
     "data": {
      "text/plain": [
       "[1, 2, 3]"
      ]
     },
     "execution_count": 14,
     "metadata": {},
     "output_type": "execute_result"
    }
   ],
   "source": [
    "x"
   ]
  },
  {
   "cell_type": "code",
   "execution_count": 15,
   "id": "ede5eae4-a147-4da6-82f0-af665bca8a40",
   "metadata": {
    "execution": {
     "iopub.execute_input": "2022-04-14T11:10:29.960846Z",
     "iopub.status.busy": "2022-04-14T11:10:29.960634Z",
     "iopub.status.idle": "2022-04-14T11:10:29.964461Z",
     "shell.execute_reply": "2022-04-14T11:10:29.963845Z",
     "shell.execute_reply.started": "2022-04-14T11:10:29.960825Z"
    }
   },
   "outputs": [
    {
     "data": {
      "text/plain": [
       "[42, 2, 3]"
      ]
     },
     "execution_count": 15,
     "metadata": {},
     "output_type": "execute_result"
    }
   ],
   "source": [
    "y"
   ]
  },
  {
   "cell_type": "markdown",
   "id": "7fe45bfd-6fec-4533-b40b-850ef897659f",
   "metadata": {},
   "source": [
    "### Exemple qui nous concerne"
   ]
  },
  {
   "cell_type": "code",
   "execution_count": 16,
   "id": "d0b099f8-79bd-4e08-8896-fa1d38c89c2d",
   "metadata": {
    "execution": {
     "iopub.execute_input": "2022-04-14T11:10:41.544132Z",
     "iopub.status.busy": "2022-04-14T11:10:41.543948Z",
     "iopub.status.idle": "2022-04-14T11:10:41.701715Z",
     "shell.execute_reply": "2022-04-14T11:10:41.701271Z",
     "shell.execute_reply.started": "2022-04-14T11:10:41.544114Z"
    },
    "tags": []
   },
   "outputs": [],
   "source": [
    "import copy\n",
    "import pandas as pd\n",
    "import numpy as np"
   ]
  },
  {
   "cell_type": "code",
   "execution_count": 17,
   "id": "20fa6c52-a9d9-4923-9c63-bf0dd680025b",
   "metadata": {
    "execution": {
     "iopub.execute_input": "2022-04-14T11:10:43.858452Z",
     "iopub.status.busy": "2022-04-14T11:10:43.857990Z",
     "iopub.status.idle": "2022-04-14T11:10:43.861725Z",
     "shell.execute_reply": "2022-04-14T11:10:43.861166Z",
     "shell.execute_reply.started": "2022-04-14T11:10:43.858433Z"
    },
    "tags": []
   },
   "outputs": [],
   "source": [
    "df = pd.DataFrame({\"A\": np.random.randint(0,100, 6)})"
   ]
  },
  {
   "cell_type": "code",
   "execution_count": 18,
   "id": "3ed1fc78-cee4-4738-ba9b-2f3d40053758",
   "metadata": {
    "execution": {
     "iopub.execute_input": "2022-04-14T11:10:46.955864Z",
     "iopub.status.busy": "2022-04-14T11:10:46.955688Z",
     "iopub.status.idle": "2022-04-14T11:10:46.962150Z",
     "shell.execute_reply": "2022-04-14T11:10:46.961725Z",
     "shell.execute_reply.started": "2022-04-14T11:10:46.955842Z"
    },
    "tags": []
   },
   "outputs": [
    {
     "data": {
      "text/html": [
       "<div>\n",
       "<style scoped>\n",
       "    .dataframe tbody tr th:only-of-type {\n",
       "        vertical-align: middle;\n",
       "    }\n",
       "\n",
       "    .dataframe tbody tr th {\n",
       "        vertical-align: top;\n",
       "    }\n",
       "\n",
       "    .dataframe thead th {\n",
       "        text-align: right;\n",
       "    }\n",
       "</style>\n",
       "<table border=\"1\" class=\"dataframe\">\n",
       "  <thead>\n",
       "    <tr style=\"text-align: right;\">\n",
       "      <th></th>\n",
       "      <th>A</th>\n",
       "    </tr>\n",
       "  </thead>\n",
       "  <tbody>\n",
       "    <tr>\n",
       "      <th>0</th>\n",
       "      <td>15</td>\n",
       "    </tr>\n",
       "    <tr>\n",
       "      <th>1</th>\n",
       "      <td>84</td>\n",
       "    </tr>\n",
       "    <tr>\n",
       "      <th>2</th>\n",
       "      <td>56</td>\n",
       "    </tr>\n",
       "    <tr>\n",
       "      <th>3</th>\n",
       "      <td>46</td>\n",
       "    </tr>\n",
       "    <tr>\n",
       "      <th>4</th>\n",
       "      <td>27</td>\n",
       "    </tr>\n",
       "    <tr>\n",
       "      <th>5</th>\n",
       "      <td>98</td>\n",
       "    </tr>\n",
       "  </tbody>\n",
       "</table>\n",
       "</div>"
      ],
      "text/plain": [
       "    A\n",
       "0  15\n",
       "1  84\n",
       "2  56\n",
       "3  46\n",
       "4  27\n",
       "5  98"
      ]
     },
     "execution_count": 18,
     "metadata": {},
     "output_type": "execute_result"
    }
   ],
   "source": [
    "df"
   ]
  },
  {
   "cell_type": "code",
   "execution_count": 19,
   "id": "bd733009-b390-42d8-8523-ba70cd3f0621",
   "metadata": {
    "execution": {
     "iopub.execute_input": "2022-04-14T11:11:16.143785Z",
     "iopub.status.busy": "2022-04-14T11:11:16.143567Z",
     "iopub.status.idle": "2022-04-14T11:11:16.146975Z",
     "shell.execute_reply": "2022-04-14T11:11:16.146383Z",
     "shell.execute_reply.started": "2022-04-14T11:11:16.143738Z"
    },
    "tags": []
   },
   "outputs": [],
   "source": [
    "df2 = df.loc[0:3]"
   ]
  },
  {
   "cell_type": "code",
   "execution_count": 20,
   "id": "1ad3a0f3-3bb2-4653-94cd-c035a87109f8",
   "metadata": {
    "execution": {
     "iopub.execute_input": "2022-04-14T11:11:27.182554Z",
     "iopub.status.busy": "2022-04-14T11:11:27.182133Z",
     "iopub.status.idle": "2022-04-14T11:11:27.187842Z",
     "shell.execute_reply": "2022-04-14T11:11:27.187353Z",
     "shell.execute_reply.started": "2022-04-14T11:11:27.182527Z"
    }
   },
   "outputs": [
    {
     "data": {
      "text/html": [
       "<div>\n",
       "<style scoped>\n",
       "    .dataframe tbody tr th:only-of-type {\n",
       "        vertical-align: middle;\n",
       "    }\n",
       "\n",
       "    .dataframe tbody tr th {\n",
       "        vertical-align: top;\n",
       "    }\n",
       "\n",
       "    .dataframe thead th {\n",
       "        text-align: right;\n",
       "    }\n",
       "</style>\n",
       "<table border=\"1\" class=\"dataframe\">\n",
       "  <thead>\n",
       "    <tr style=\"text-align: right;\">\n",
       "      <th></th>\n",
       "      <th>A</th>\n",
       "    </tr>\n",
       "  </thead>\n",
       "  <tbody>\n",
       "    <tr>\n",
       "      <th>0</th>\n",
       "      <td>15</td>\n",
       "    </tr>\n",
       "    <tr>\n",
       "      <th>1</th>\n",
       "      <td>84</td>\n",
       "    </tr>\n",
       "    <tr>\n",
       "      <th>2</th>\n",
       "      <td>56</td>\n",
       "    </tr>\n",
       "    <tr>\n",
       "      <th>3</th>\n",
       "      <td>46</td>\n",
       "    </tr>\n",
       "  </tbody>\n",
       "</table>\n",
       "</div>"
      ],
      "text/plain": [
       "    A\n",
       "0  15\n",
       "1  84\n",
       "2  56\n",
       "3  46"
      ]
     },
     "execution_count": 20,
     "metadata": {},
     "output_type": "execute_result"
    }
   ],
   "source": [
    "df2"
   ]
  },
  {
   "cell_type": "code",
   "execution_count": 21,
   "id": "db13c7d8-aedb-4f73-a328-2feb7ed1f8f0",
   "metadata": {
    "execution": {
     "iopub.execute_input": "2022-04-14T11:11:41.288490Z",
     "iopub.status.busy": "2022-04-14T11:11:41.287978Z",
     "iopub.status.idle": "2022-04-14T11:11:41.292262Z",
     "shell.execute_reply": "2022-04-14T11:11:41.291778Z",
     "shell.execute_reply.started": "2022-04-14T11:11:41.288462Z"
    },
    "tags": []
   },
   "outputs": [
    {
     "name": "stderr",
     "output_type": "stream",
     "text": [
      "/srv/conda/envs/notebook/lib/python3.7/site-packages/pandas/core/indexing.py:1732: SettingWithCopyWarning: \n",
      "A value is trying to be set on a copy of a slice from a DataFrame\n",
      "\n",
      "See the caveats in the documentation: https://pandas.pydata.org/pandas-docs/stable/user_guide/indexing.html#returning-a-view-versus-a-copy\n",
      "  self._setitem_single_block(indexer, value, name)\n",
      "/srv/conda/envs/notebook/lib/python3.7/site-packages/pandas/core/indexing.py:723: SettingWithCopyWarning: \n",
      "A value is trying to be set on a copy of a slice from a DataFrame\n",
      "\n",
      "See the caveats in the documentation: https://pandas.pydata.org/pandas-docs/stable/user_guide/indexing.html#returning-a-view-versus-a-copy\n",
      "  iloc._setitem_with_indexer(indexer, value, self.name)\n"
     ]
    }
   ],
   "source": [
    "df2.loc[1] = 666"
   ]
  },
  {
   "cell_type": "code",
   "execution_count": 22,
   "id": "4633f74d-49bd-4061-9095-93619f1bb667",
   "metadata": {
    "execution": {
     "iopub.execute_input": "2022-04-14T11:12:01.729817Z",
     "iopub.status.busy": "2022-04-14T11:12:01.729552Z",
     "iopub.status.idle": "2022-04-14T11:12:01.735911Z",
     "shell.execute_reply": "2022-04-14T11:12:01.735571Z",
     "shell.execute_reply.started": "2022-04-14T11:12:01.729791Z"
    },
    "tags": []
   },
   "outputs": [
    {
     "data": {
      "text/html": [
       "<div>\n",
       "<style scoped>\n",
       "    .dataframe tbody tr th:only-of-type {\n",
       "        vertical-align: middle;\n",
       "    }\n",
       "\n",
       "    .dataframe tbody tr th {\n",
       "        vertical-align: top;\n",
       "    }\n",
       "\n",
       "    .dataframe thead th {\n",
       "        text-align: right;\n",
       "    }\n",
       "</style>\n",
       "<table border=\"1\" class=\"dataframe\">\n",
       "  <thead>\n",
       "    <tr style=\"text-align: right;\">\n",
       "      <th></th>\n",
       "      <th>A</th>\n",
       "    </tr>\n",
       "  </thead>\n",
       "  <tbody>\n",
       "    <tr>\n",
       "      <th>0</th>\n",
       "      <td>15</td>\n",
       "    </tr>\n",
       "    <tr>\n",
       "      <th>1</th>\n",
       "      <td>666</td>\n",
       "    </tr>\n",
       "    <tr>\n",
       "      <th>2</th>\n",
       "      <td>56</td>\n",
       "    </tr>\n",
       "    <tr>\n",
       "      <th>3</th>\n",
       "      <td>46</td>\n",
       "    </tr>\n",
       "  </tbody>\n",
       "</table>\n",
       "</div>"
      ],
      "text/plain": [
       "     A\n",
       "0   15\n",
       "1  666\n",
       "2   56\n",
       "3   46"
      ]
     },
     "execution_count": 22,
     "metadata": {},
     "output_type": "execute_result"
    }
   ],
   "source": [
    "df2"
   ]
  },
  {
   "cell_type": "code",
   "execution_count": 23,
   "id": "d651b33c-332d-4035-8032-4c23847b6743",
   "metadata": {
    "execution": {
     "iopub.execute_input": "2022-04-14T11:12:09.018355Z",
     "iopub.status.busy": "2022-04-14T11:12:09.018169Z",
     "iopub.status.idle": "2022-04-14T11:12:09.024334Z",
     "shell.execute_reply": "2022-04-14T11:12:09.023583Z",
     "shell.execute_reply.started": "2022-04-14T11:12:09.018333Z"
    },
    "tags": []
   },
   "outputs": [
    {
     "data": {
      "text/html": [
       "<div>\n",
       "<style scoped>\n",
       "    .dataframe tbody tr th:only-of-type {\n",
       "        vertical-align: middle;\n",
       "    }\n",
       "\n",
       "    .dataframe tbody tr th {\n",
       "        vertical-align: top;\n",
       "    }\n",
       "\n",
       "    .dataframe thead th {\n",
       "        text-align: right;\n",
       "    }\n",
       "</style>\n",
       "<table border=\"1\" class=\"dataframe\">\n",
       "  <thead>\n",
       "    <tr style=\"text-align: right;\">\n",
       "      <th></th>\n",
       "      <th>A</th>\n",
       "    </tr>\n",
       "  </thead>\n",
       "  <tbody>\n",
       "    <tr>\n",
       "      <th>0</th>\n",
       "      <td>15</td>\n",
       "    </tr>\n",
       "    <tr>\n",
       "      <th>1</th>\n",
       "      <td>666</td>\n",
       "    </tr>\n",
       "    <tr>\n",
       "      <th>2</th>\n",
       "      <td>56</td>\n",
       "    </tr>\n",
       "    <tr>\n",
       "      <th>3</th>\n",
       "      <td>46</td>\n",
       "    </tr>\n",
       "    <tr>\n",
       "      <th>4</th>\n",
       "      <td>27</td>\n",
       "    </tr>\n",
       "    <tr>\n",
       "      <th>5</th>\n",
       "      <td>98</td>\n",
       "    </tr>\n",
       "  </tbody>\n",
       "</table>\n",
       "</div>"
      ],
      "text/plain": [
       "     A\n",
       "0   15\n",
       "1  666\n",
       "2   56\n",
       "3   46\n",
       "4   27\n",
       "5   98"
      ]
     },
     "execution_count": 23,
     "metadata": {},
     "output_type": "execute_result"
    }
   ],
   "source": [
    "df"
   ]
  },
  {
   "cell_type": "code",
   "execution_count": 24,
   "id": "eb515c41-7a77-4ebc-9353-32100c6aa004",
   "metadata": {
    "execution": {
     "iopub.execute_input": "2022-04-14T11:12:22.367931Z",
     "iopub.status.busy": "2022-04-14T11:12:22.367757Z",
     "iopub.status.idle": "2022-04-14T11:12:22.371640Z",
     "shell.execute_reply": "2022-04-14T11:12:22.371237Z",
     "shell.execute_reply.started": "2022-04-14T11:12:22.367914Z"
    },
    "tags": []
   },
   "outputs": [
    {
     "data": {
      "text/plain": [
       "139705451186576"
      ]
     },
     "execution_count": 24,
     "metadata": {},
     "output_type": "execute_result"
    }
   ],
   "source": [
    "id(df)"
   ]
  },
  {
   "cell_type": "code",
   "execution_count": 25,
   "id": "52319559-5882-489c-bb1c-424f4f4181f5",
   "metadata": {
    "execution": {
     "iopub.execute_input": "2022-04-14T11:12:25.450689Z",
     "iopub.status.busy": "2022-04-14T11:12:25.450479Z",
     "iopub.status.idle": "2022-04-14T11:12:25.454719Z",
     "shell.execute_reply": "2022-04-14T11:12:25.454285Z",
     "shell.execute_reply.started": "2022-04-14T11:12:25.450641Z"
    },
    "tags": []
   },
   "outputs": [
    {
     "data": {
      "text/plain": [
       "139705447850384"
      ]
     },
     "execution_count": 25,
     "metadata": {},
     "output_type": "execute_result"
    }
   ],
   "source": [
    "id(df2)"
   ]
  },
  {
   "cell_type": "markdown",
   "id": "31113d43-7429-41ac-8351-52487ab4ada1",
   "metadata": {},
   "source": [
    "⚠️ Même si `df1` et `df2` ne sont pas le même objet, `df2` est une sous-partie de `df1` et toute modification de `df2` **risque** de modifier `df1` "
   ]
  },
  {
   "cell_type": "code",
   "execution_count": 26,
   "id": "41468104-3059-49dc-8817-2cb632de2bca",
   "metadata": {
    "execution": {
     "iopub.execute_input": "2022-04-14T11:13:11.589280Z",
     "iopub.status.busy": "2022-04-14T11:13:11.589032Z",
     "iopub.status.idle": "2022-04-14T11:13:11.638883Z",
     "shell.execute_reply": "2022-04-14T11:13:11.638363Z",
     "shell.execute_reply.started": "2022-04-14T11:13:11.589232Z"
    },
    "tags": []
   },
   "outputs": [],
   "source": [
    "%reset -f"
   ]
  },
  {
   "cell_type": "code",
   "execution_count": 27,
   "id": "a496c873-c386-47c4-ab3e-47fc12f5dacf",
   "metadata": {
    "execution": {
     "iopub.execute_input": "2022-04-14T11:13:26.884665Z",
     "iopub.status.busy": "2022-04-14T11:13:26.884251Z",
     "iopub.status.idle": "2022-04-14T11:13:26.887176Z",
     "shell.execute_reply": "2022-04-14T11:13:26.886667Z",
     "shell.execute_reply.started": "2022-04-14T11:13:26.884646Z"
    },
    "tags": []
   },
   "outputs": [],
   "source": [
    "import copy\n",
    "import pandas as pd\n",
    "import numpy as np"
   ]
  },
  {
   "cell_type": "code",
   "execution_count": 28,
   "id": "28c22b32-79ea-4698-b90a-5a9580e15cbf",
   "metadata": {
    "execution": {
     "iopub.execute_input": "2022-04-14T11:13:28.267127Z",
     "iopub.status.busy": "2022-04-14T11:13:28.266604Z",
     "iopub.status.idle": "2022-04-14T11:13:28.269946Z",
     "shell.execute_reply": "2022-04-14T11:13:28.269520Z",
     "shell.execute_reply.started": "2022-04-14T11:13:28.267109Z"
    },
    "tags": []
   },
   "outputs": [],
   "source": [
    "df = pd.DataFrame({\"A\": np.random.randint(0,100,6)})"
   ]
  },
  {
   "cell_type": "code",
   "execution_count": 30,
   "id": "677c7388-6804-404f-906c-1077f8775c0c",
   "metadata": {
    "execution": {
     "iopub.execute_input": "2022-04-14T11:13:37.728303Z",
     "iopub.status.busy": "2022-04-14T11:13:37.728163Z",
     "iopub.status.idle": "2022-04-14T11:13:37.730951Z",
     "shell.execute_reply": "2022-04-14T11:13:37.730561Z",
     "shell.execute_reply.started": "2022-04-14T11:13:37.728286Z"
    },
    "tags": []
   },
   "outputs": [],
   "source": [
    "df2 = df.loc[0:3].copy()"
   ]
  },
  {
   "cell_type": "code",
   "execution_count": 31,
   "id": "ba60a0ec-b3ed-4925-90f6-618036b40b25",
   "metadata": {
    "execution": {
     "iopub.execute_input": "2022-04-14T11:13:37.954766Z",
     "iopub.status.busy": "2022-04-14T11:13:37.954604Z",
     "iopub.status.idle": "2022-04-14T11:13:37.957877Z",
     "shell.execute_reply": "2022-04-14T11:13:37.957455Z",
     "shell.execute_reply.started": "2022-04-14T11:13:37.954749Z"
    },
    "tags": []
   },
   "outputs": [],
   "source": [
    "df2.loc[1] = 666"
   ]
  },
  {
   "cell_type": "code",
   "execution_count": 32,
   "id": "ce0d7149-0a83-47a2-a61d-5e14af0d6739",
   "metadata": {
    "execution": {
     "iopub.execute_input": "2022-04-14T11:13:38.419856Z",
     "iopub.status.busy": "2022-04-14T11:13:38.419650Z",
     "iopub.status.idle": "2022-04-14T11:13:38.425465Z",
     "shell.execute_reply": "2022-04-14T11:13:38.424855Z",
     "shell.execute_reply.started": "2022-04-14T11:13:38.419811Z"
    },
    "tags": []
   },
   "outputs": [
    {
     "data": {
      "text/html": [
       "<div>\n",
       "<style scoped>\n",
       "    .dataframe tbody tr th:only-of-type {\n",
       "        vertical-align: middle;\n",
       "    }\n",
       "\n",
       "    .dataframe tbody tr th {\n",
       "        vertical-align: top;\n",
       "    }\n",
       "\n",
       "    .dataframe thead th {\n",
       "        text-align: right;\n",
       "    }\n",
       "</style>\n",
       "<table border=\"1\" class=\"dataframe\">\n",
       "  <thead>\n",
       "    <tr style=\"text-align: right;\">\n",
       "      <th></th>\n",
       "      <th>A</th>\n",
       "    </tr>\n",
       "  </thead>\n",
       "  <tbody>\n",
       "    <tr>\n",
       "      <th>0</th>\n",
       "      <td>58</td>\n",
       "    </tr>\n",
       "    <tr>\n",
       "      <th>1</th>\n",
       "      <td>666</td>\n",
       "    </tr>\n",
       "    <tr>\n",
       "      <th>2</th>\n",
       "      <td>67</td>\n",
       "    </tr>\n",
       "    <tr>\n",
       "      <th>3</th>\n",
       "      <td>14</td>\n",
       "    </tr>\n",
       "  </tbody>\n",
       "</table>\n",
       "</div>"
      ],
      "text/plain": [
       "     A\n",
       "0   58\n",
       "1  666\n",
       "2   67\n",
       "3   14"
      ]
     },
     "execution_count": 32,
     "metadata": {},
     "output_type": "execute_result"
    }
   ],
   "source": [
    "df2"
   ]
  },
  {
   "cell_type": "code",
   "execution_count": 33,
   "id": "0307f711-2d44-4539-a9bc-515f2aaeefb9",
   "metadata": {
    "execution": {
     "iopub.execute_input": "2022-04-14T11:13:38.867704Z",
     "iopub.status.busy": "2022-04-14T11:13:38.867219Z",
     "iopub.status.idle": "2022-04-14T11:13:38.871981Z",
     "shell.execute_reply": "2022-04-14T11:13:38.871600Z",
     "shell.execute_reply.started": "2022-04-14T11:13:38.867672Z"
    },
    "tags": []
   },
   "outputs": [
    {
     "data": {
      "text/html": [
       "<div>\n",
       "<style scoped>\n",
       "    .dataframe tbody tr th:only-of-type {\n",
       "        vertical-align: middle;\n",
       "    }\n",
       "\n",
       "    .dataframe tbody tr th {\n",
       "        vertical-align: top;\n",
       "    }\n",
       "\n",
       "    .dataframe thead th {\n",
       "        text-align: right;\n",
       "    }\n",
       "</style>\n",
       "<table border=\"1\" class=\"dataframe\">\n",
       "  <thead>\n",
       "    <tr style=\"text-align: right;\">\n",
       "      <th></th>\n",
       "      <th>A</th>\n",
       "    </tr>\n",
       "  </thead>\n",
       "  <tbody>\n",
       "    <tr>\n",
       "      <th>0</th>\n",
       "      <td>58</td>\n",
       "    </tr>\n",
       "    <tr>\n",
       "      <th>1</th>\n",
       "      <td>63</td>\n",
       "    </tr>\n",
       "    <tr>\n",
       "      <th>2</th>\n",
       "      <td>67</td>\n",
       "    </tr>\n",
       "    <tr>\n",
       "      <th>3</th>\n",
       "      <td>14</td>\n",
       "    </tr>\n",
       "    <tr>\n",
       "      <th>4</th>\n",
       "      <td>94</td>\n",
       "    </tr>\n",
       "    <tr>\n",
       "      <th>5</th>\n",
       "      <td>56</td>\n",
       "    </tr>\n",
       "  </tbody>\n",
       "</table>\n",
       "</div>"
      ],
      "text/plain": [
       "    A\n",
       "0  58\n",
       "1  63\n",
       "2  67\n",
       "3  14\n",
       "4  94\n",
       "5  56"
      ]
     },
     "execution_count": 33,
     "metadata": {},
     "output_type": "execute_result"
    }
   ],
   "source": [
    "df"
   ]
  },
  {
   "cell_type": "markdown",
   "id": "18f3721b-dfa4-46e6-994a-f4a78af92728",
   "metadata": {
    "execution": {
     "iopub.execute_input": "2021-04-27T18:12:38.144178Z",
     "iopub.status.busy": "2021-04-27T18:12:38.143965Z",
     "iopub.status.idle": "2021-04-27T18:12:38.146761Z",
     "shell.execute_reply": "2021-04-27T18:12:38.146249Z",
     "shell.execute_reply.started": "2021-04-27T18:12:38.144153Z"
    }
   },
   "source": [
    "### Si votre objet est complexe/profond et que vous souhaitez créer une copie de tous ses éléments et sous éléments"
   ]
  },
  {
   "cell_type": "code",
   "execution_count": null,
   "id": "0bf7383c-6103-4e5c-aa71-183079631db3",
   "metadata": {},
   "outputs": [],
   "source": [
    "import copy"
   ]
  },
  {
   "cell_type": "code",
   "execution_count": null,
   "id": "acbdebcc-fe5e-4586-b036-1433a44364e6",
   "metadata": {
    "tags": []
   },
   "outputs": [],
   "source": [
    "df2 = copy.deepcopy(df.loc[0:3])"
   ]
  },
  {
   "cell_type": "markdown",
   "id": "7471ad44-1706-497f-b02d-fd2ec2ca1c8d",
   "metadata": {},
   "source": [
    "Est-ce que pandas va réaliser une vue ou une copie ?   \n",
    "Est-ce qu'une vue va modifier la DataFrame originale ?\n",
    "Dur à savoir..."
   ]
  },
  {
   "cell_type": "code",
   "execution_count": null,
   "id": "5b54d86c-1c10-4efc-a640-7660d1635c7d",
   "metadata": {
    "tags": []
   },
   "outputs": [],
   "source": [
    "%reset -f"
   ]
  },
  {
   "cell_type": "code",
   "execution_count": 37,
   "id": "b7c0ca9b-9be1-44a6-bccd-f38d37bda239",
   "metadata": {
    "execution": {
     "iopub.execute_input": "2022-04-14T11:15:38.714772Z",
     "iopub.status.busy": "2022-04-14T11:15:38.714352Z",
     "iopub.status.idle": "2022-04-14T11:15:38.717741Z",
     "shell.execute_reply": "2022-04-14T11:15:38.717272Z",
     "shell.execute_reply.started": "2022-04-14T11:15:38.714747Z"
    },
    "tags": []
   },
   "outputs": [],
   "source": [
    "import copy\n",
    "import pandas as pd\n",
    "import numpy as np"
   ]
  },
  {
   "cell_type": "code",
   "execution_count": 38,
   "id": "96cc9ae8-c33d-4e3a-aa79-aa8f64169834",
   "metadata": {
    "execution": {
     "iopub.execute_input": "2022-04-14T11:15:39.085888Z",
     "iopub.status.busy": "2022-04-14T11:15:39.085698Z",
     "iopub.status.idle": "2022-04-14T11:15:39.092175Z",
     "shell.execute_reply": "2022-04-14T11:15:39.091847Z",
     "shell.execute_reply.started": "2022-04-14T11:15:39.085871Z"
    },
    "tags": []
   },
   "outputs": [
    {
     "name": "stderr",
     "output_type": "stream",
     "text": [
      "/srv/conda/envs/notebook/lib/python3.7/site-packages/pandas/core/indexing.py:1732: SettingWithCopyWarning: \n",
      "A value is trying to be set on a copy of a slice from a DataFrame\n",
      "\n",
      "See the caveats in the documentation: https://pandas.pydata.org/pandas-docs/stable/user_guide/indexing.html#returning-a-view-versus-a-copy\n",
      "  self._setitem_single_block(indexer, value, name)\n",
      "/srv/conda/envs/notebook/lib/python3.7/site-packages/pandas/core/indexing.py:723: SettingWithCopyWarning: \n",
      "A value is trying to be set on a copy of a slice from a DataFrame\n",
      "\n",
      "See the caveats in the documentation: https://pandas.pydata.org/pandas-docs/stable/user_guide/indexing.html#returning-a-view-versus-a-copy\n",
      "  iloc._setitem_with_indexer(indexer, value, self.name)\n"
     ]
    },
    {
     "data": {
      "text/html": [
       "<div>\n",
       "<style scoped>\n",
       "    .dataframe tbody tr th:only-of-type {\n",
       "        vertical-align: middle;\n",
       "    }\n",
       "\n",
       "    .dataframe tbody tr th {\n",
       "        vertical-align: top;\n",
       "    }\n",
       "\n",
       "    .dataframe thead th {\n",
       "        text-align: right;\n",
       "    }\n",
       "</style>\n",
       "<table border=\"1\" class=\"dataframe\">\n",
       "  <thead>\n",
       "    <tr style=\"text-align: right;\">\n",
       "      <th></th>\n",
       "      <th>A</th>\n",
       "    </tr>\n",
       "  </thead>\n",
       "  <tbody>\n",
       "    <tr>\n",
       "      <th>0</th>\n",
       "      <td>3</td>\n",
       "    </tr>\n",
       "    <tr>\n",
       "      <th>1</th>\n",
       "      <td>666</td>\n",
       "    </tr>\n",
       "    <tr>\n",
       "      <th>2</th>\n",
       "      <td>71</td>\n",
       "    </tr>\n",
       "    <tr>\n",
       "      <th>3</th>\n",
       "      <td>31</td>\n",
       "    </tr>\n",
       "    <tr>\n",
       "      <th>4</th>\n",
       "      <td>31</td>\n",
       "    </tr>\n",
       "    <tr>\n",
       "      <th>5</th>\n",
       "      <td>51</td>\n",
       "    </tr>\n",
       "  </tbody>\n",
       "</table>\n",
       "</div>"
      ],
      "text/plain": [
       "     A\n",
       "0    3\n",
       "1  666\n",
       "2   71\n",
       "3   31\n",
       "4   31\n",
       "5   51"
      ]
     },
     "execution_count": 38,
     "metadata": {},
     "output_type": "execute_result"
    }
   ],
   "source": [
    "df = pd.DataFrame({\"A\": np.random.randint(0,100,6)})\n",
    "df2 = df.loc[0:3]\n",
    "df2.loc[1] = 666\n",
    "df"
   ]
  },
  {
   "cell_type": "code",
   "execution_count": 36,
   "id": "6add2a05-df5b-4676-8c7a-dbde9a157728",
   "metadata": {
    "execution": {
     "iopub.execute_input": "2022-04-14T11:14:48.052605Z",
     "iopub.status.busy": "2022-04-14T11:14:48.052431Z",
     "iopub.status.idle": "2022-04-14T11:14:48.059157Z",
     "shell.execute_reply": "2022-04-14T11:14:48.058797Z",
     "shell.execute_reply.started": "2022-04-14T11:14:48.052575Z"
    },
    "tags": []
   },
   "outputs": [
    {
     "name": "stderr",
     "output_type": "stream",
     "text": [
      "/srv/conda/envs/notebook/lib/python3.7/site-packages/pandas/core/indexing.py:1817: SettingWithCopyWarning: \n",
      "A value is trying to be set on a copy of a slice from a DataFrame.\n",
      "Try using .loc[row_indexer,col_indexer] = value instead\n",
      "\n",
      "See the caveats in the documentation: https://pandas.pydata.org/pandas-docs/stable/user_guide/indexing.html#returning-a-view-versus-a-copy\n",
      "  self._setitem_single_column(loc, value, pi)\n"
     ]
    },
    {
     "data": {
      "text/html": [
       "<div>\n",
       "<style scoped>\n",
       "    .dataframe tbody tr th:only-of-type {\n",
       "        vertical-align: middle;\n",
       "    }\n",
       "\n",
       "    .dataframe tbody tr th {\n",
       "        vertical-align: top;\n",
       "    }\n",
       "\n",
       "    .dataframe thead th {\n",
       "        text-align: right;\n",
       "    }\n",
       "</style>\n",
       "<table border=\"1\" class=\"dataframe\">\n",
       "  <thead>\n",
       "    <tr style=\"text-align: right;\">\n",
       "      <th></th>\n",
       "      <th>A</th>\n",
       "    </tr>\n",
       "  </thead>\n",
       "  <tbody>\n",
       "    <tr>\n",
       "      <th>0</th>\n",
       "      <td>68</td>\n",
       "    </tr>\n",
       "    <tr>\n",
       "      <th>1</th>\n",
       "      <td>60</td>\n",
       "    </tr>\n",
       "    <tr>\n",
       "      <th>2</th>\n",
       "      <td>34</td>\n",
       "    </tr>\n",
       "    <tr>\n",
       "      <th>3</th>\n",
       "      <td>66</td>\n",
       "    </tr>\n",
       "    <tr>\n",
       "      <th>4</th>\n",
       "      <td>93</td>\n",
       "    </tr>\n",
       "    <tr>\n",
       "      <th>5</th>\n",
       "      <td>8</td>\n",
       "    </tr>\n",
       "  </tbody>\n",
       "</table>\n",
       "</div>"
      ],
      "text/plain": [
       "    A\n",
       "0  68\n",
       "1  60\n",
       "2  34\n",
       "3  66\n",
       "4  93\n",
       "5   8"
      ]
     },
     "execution_count": 36,
     "metadata": {},
     "output_type": "execute_result"
    }
   ],
   "source": [
    "df = pd.DataFrame({\"A\": np.random.randint(0,100,6)})\n",
    "df2 = df.loc[0:3]\n",
    "df2.loc[1] = \"coucou\"\n",
    "df"
   ]
  },
  {
   "cell_type": "code",
   "execution_count": null,
   "id": "cb031f7c-07c5-4d53-aa18-3ec750f1a33e",
   "metadata": {},
   "outputs": [],
   "source": []
  }
 ],
 "metadata": {
  "kernelspec": {
   "display_name": "Python 3 (ipykernel)",
   "language": "python",
   "name": "python3"
  },
  "language_info": {
   "codemirror_mode": {
    "name": "ipython",
    "version": 3
   },
   "file_extension": ".py",
   "mimetype": "text/x-python",
   "name": "python",
   "nbconvert_exporter": "python",
   "pygments_lexer": "ipython3",
   "version": "3.7.12"
  }
 },
 "nbformat": 4,
 "nbformat_minor": 5
}
