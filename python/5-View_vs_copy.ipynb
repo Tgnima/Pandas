{
 "cells": [
  {
   "cell_type": "code",
   "execution_count": 2,
   "id": "85781af0-0c50-43a2-8719-4a13f3b6bb3a",
   "metadata": {
    "execution": {
     "iopub.execute_input": "2021-04-27T18:09:55.541933Z",
     "iopub.status.busy": "2021-04-27T18:09:55.541493Z",
     "iopub.status.idle": "2021-04-27T18:09:55.546755Z",
     "shell.execute_reply": "2021-04-27T18:09:55.545763Z",
     "shell.execute_reply.started": "2021-04-27T18:09:55.541881Z"
    },
    "tags": []
   },
   "outputs": [],
   "source": [
    "import numpy as np\n",
    "import pandas as pd\n",
    "import copy\n",
    "x = [1, 2, 3]"
   ]
  },
  {
   "cell_type": "code",
   "execution_count": 3,
   "id": "b721eda8-b74e-406a-96ca-930c4f60f4d7",
   "metadata": {
    "execution": {
     "iopub.execute_input": "2021-04-27T18:09:55.891017Z",
     "iopub.status.busy": "2021-04-27T18:09:55.890723Z",
     "iopub.status.idle": "2021-04-27T18:09:55.894719Z",
     "shell.execute_reply": "2021-04-27T18:09:55.893922Z",
     "shell.execute_reply.started": "2021-04-27T18:09:55.890979Z"
    },
    "tags": []
   },
   "outputs": [],
   "source": [
    "y = x"
   ]
  },
  {
   "cell_type": "code",
   "execution_count": 4,
   "id": "c818d751-6fae-433b-8e9e-3af73914965d",
   "metadata": {
    "execution": {
     "iopub.execute_input": "2021-04-27T18:09:56.094950Z",
     "iopub.status.busy": "2021-04-27T18:09:56.094541Z",
     "iopub.status.idle": "2021-04-27T18:09:56.099924Z",
     "shell.execute_reply": "2021-04-27T18:09:56.098684Z",
     "shell.execute_reply.started": "2021-04-27T18:09:56.094900Z"
    },
    "tags": []
   },
   "outputs": [],
   "source": [
    "y[0] = 42"
   ]
  },
  {
   "cell_type": "code",
   "execution_count": 5,
   "id": "111d6e53-70ab-4e0e-9dfb-67da4b455aab",
   "metadata": {
    "execution": {
     "iopub.execute_input": "2021-04-27T18:09:56.279175Z",
     "iopub.status.busy": "2021-04-27T18:09:56.278953Z",
     "iopub.status.idle": "2021-04-27T18:09:56.287451Z",
     "shell.execute_reply": "2021-04-27T18:09:56.286956Z",
     "shell.execute_reply.started": "2021-04-27T18:09:56.279149Z"
    },
    "tags": []
   },
   "outputs": [
    {
     "data": {
      "text/plain": [
       "[42, 2, 3]"
      ]
     },
     "execution_count": 5,
     "metadata": {},
     "output_type": "execute_result"
    }
   ],
   "source": [
    "x"
   ]
  },
  {
   "cell_type": "markdown",
   "id": "5b6bb368-226d-48e0-90de-e173bfe878ed",
   "metadata": {},
   "source": [
    "En python, la création d'une nouvelle variable à partir d'un objet n'entrainne pas forcément la création d'un nouvel objet, mais va simplement créer un pointeur sur l'objet originel en mémoire."
   ]
  },
  {
   "cell_type": "code",
   "execution_count": 6,
   "id": "1513672c-7719-4d90-b268-1b0bc55a4c05",
   "metadata": {
    "execution": {
     "iopub.execute_input": "2021-04-27T18:09:56.840799Z",
     "iopub.status.busy": "2021-04-27T18:09:56.840602Z",
     "iopub.status.idle": "2021-04-27T18:09:56.844271Z",
     "shell.execute_reply": "2021-04-27T18:09:56.843828Z",
     "shell.execute_reply.started": "2021-04-27T18:09:56.840775Z"
    },
    "tags": []
   },
   "outputs": [
    {
     "data": {
      "text/plain": [
       "139649944784000"
      ]
     },
     "execution_count": 6,
     "metadata": {},
     "output_type": "execute_result"
    }
   ],
   "source": [
    "id(x)"
   ]
  },
  {
   "cell_type": "code",
   "execution_count": 7,
   "id": "32358221-7435-4ad2-ac7f-c934a0124dee",
   "metadata": {
    "execution": {
     "iopub.execute_input": "2021-04-27T18:09:57.077226Z",
     "iopub.status.busy": "2021-04-27T18:09:57.077011Z",
     "iopub.status.idle": "2021-04-27T18:09:57.080790Z",
     "shell.execute_reply": "2021-04-27T18:09:57.080309Z",
     "shell.execute_reply.started": "2021-04-27T18:09:57.077200Z"
    },
    "tags": []
   },
   "outputs": [
    {
     "data": {
      "text/plain": [
       "139649944784000"
      ]
     },
     "execution_count": 7,
     "metadata": {},
     "output_type": "execute_result"
    }
   ],
   "source": [
    "id(y)"
   ]
  },
  {
   "cell_type": "code",
   "execution_count": 8,
   "id": "9a9f8727-1033-4619-8317-36737138c93e",
   "metadata": {
    "execution": {
     "iopub.execute_input": "2021-04-27T18:09:57.256722Z",
     "iopub.status.busy": "2021-04-27T18:09:57.256499Z",
     "iopub.status.idle": "2021-04-27T18:09:57.260721Z",
     "shell.execute_reply": "2021-04-27T18:09:57.260022Z",
     "shell.execute_reply.started": "2021-04-27T18:09:57.256696Z"
    },
    "tags": []
   },
   "outputs": [
    {
     "data": {
      "text/plain": [
       "True"
      ]
     },
     "execution_count": 8,
     "metadata": {},
     "output_type": "execute_result"
    }
   ],
   "source": [
    "id(x) == id(y)"
   ]
  },
  {
   "cell_type": "markdown",
   "id": "9da36316-49cd-4344-9882-6d6bc49611b7",
   "metadata": {},
   "source": [
    "### Comment copier un objet ?"
   ]
  },
  {
   "cell_type": "code",
   "execution_count": 51,
   "id": "b7336557-a7af-4b59-a856-3fbf4bfca9d6",
   "metadata": {
    "execution": {
     "iopub.execute_input": "2021-04-27T18:20:05.746534Z",
     "iopub.status.busy": "2021-04-27T18:20:05.746234Z",
     "iopub.status.idle": "2021-04-27T18:20:06.023476Z",
     "shell.execute_reply": "2021-04-27T18:20:06.022753Z",
     "shell.execute_reply.started": "2021-04-27T18:20:05.746499Z"
    },
    "tags": []
   },
   "outputs": [],
   "source": [
    "%reset -f "
   ]
  },
  {
   "cell_type": "code",
   "execution_count": 10,
   "id": "90e29c0d-129c-47ad-bb79-f118273a3b10",
   "metadata": {
    "execution": {
     "iopub.execute_input": "2021-04-27T18:09:59.279019Z",
     "iopub.status.busy": "2021-04-27T18:09:59.278465Z",
     "iopub.status.idle": "2021-04-27T18:09:59.286193Z",
     "shell.execute_reply": "2021-04-27T18:09:59.285518Z",
     "shell.execute_reply.started": "2021-04-27T18:09:59.278952Z"
    },
    "tags": []
   },
   "outputs": [
    {
     "ename": "NameError",
     "evalue": "name 'x' is not defined",
     "output_type": "error",
     "traceback": [
      "\u001b[0;31m---------------------------------------------------------------------------\u001b[0m",
      "\u001b[0;31mNameError\u001b[0m                                 Traceback (most recent call last)",
      "\u001b[0;32m<ipython-input-10-6fcf9dfbd479>\u001b[0m in \u001b[0;36m<module>\u001b[0;34m\u001b[0m\n\u001b[0;32m----> 1\u001b[0;31m \u001b[0mx\u001b[0m\u001b[0;34m\u001b[0m\u001b[0;34m\u001b[0m\u001b[0m\n\u001b[0m",
      "\u001b[0;31mNameError\u001b[0m: name 'x' is not defined"
     ]
    }
   ],
   "source": [
    "x"
   ]
  },
  {
   "cell_type": "code",
   "execution_count": 11,
   "id": "be21f48f-8102-4cbc-bcc9-1bf952adf933",
   "metadata": {
    "execution": {
     "iopub.execute_input": "2021-04-27T18:10:06.664656Z",
     "iopub.status.busy": "2021-04-27T18:10:06.664394Z",
     "iopub.status.idle": "2021-04-27T18:10:06.667460Z",
     "shell.execute_reply": "2021-04-27T18:10:06.666911Z",
     "shell.execute_reply.started": "2021-04-27T18:10:06.664621Z"
    }
   },
   "outputs": [],
   "source": [
    "x = [1, 2, 3]"
   ]
  },
  {
   "cell_type": "code",
   "execution_count": 12,
   "id": "760156be-daf0-404e-877b-52663d695191",
   "metadata": {
    "execution": {
     "iopub.execute_input": "2021-04-27T18:10:15.936417Z",
     "iopub.status.busy": "2021-04-27T18:10:15.935840Z",
     "iopub.status.idle": "2021-04-27T18:10:15.944144Z",
     "shell.execute_reply": "2021-04-27T18:10:15.942048Z",
     "shell.execute_reply.started": "2021-04-27T18:10:15.936345Z"
    }
   },
   "outputs": [],
   "source": [
    "y = x.copy()"
   ]
  },
  {
   "cell_type": "code",
   "execution_count": 13,
   "id": "4c681a1c-3771-422b-9e45-98370f27e46e",
   "metadata": {
    "execution": {
     "iopub.execute_input": "2021-04-27T18:10:23.674082Z",
     "iopub.status.busy": "2021-04-27T18:10:23.673795Z",
     "iopub.status.idle": "2021-04-27T18:10:23.677036Z",
     "shell.execute_reply": "2021-04-27T18:10:23.676383Z",
     "shell.execute_reply.started": "2021-04-27T18:10:23.674050Z"
    }
   },
   "outputs": [],
   "source": [
    "y[0] = 42"
   ]
  },
  {
   "cell_type": "code",
   "execution_count": 14,
   "id": "c2299a69-07e1-4fcc-8bb3-ec6e3e6f9513",
   "metadata": {
    "execution": {
     "iopub.execute_input": "2021-04-27T18:10:25.856137Z",
     "iopub.status.busy": "2021-04-27T18:10:25.855945Z",
     "iopub.status.idle": "2021-04-27T18:10:25.859312Z",
     "shell.execute_reply": "2021-04-27T18:10:25.858845Z",
     "shell.execute_reply.started": "2021-04-27T18:10:25.856114Z"
    }
   },
   "outputs": [
    {
     "data": {
      "text/plain": [
       "[1, 2, 3]"
      ]
     },
     "execution_count": 14,
     "metadata": {},
     "output_type": "execute_result"
    }
   ],
   "source": [
    "x"
   ]
  },
  {
   "cell_type": "markdown",
   "id": "7fe45bfd-6fec-4533-b40b-850ef897659f",
   "metadata": {},
   "source": [
    "### Exemple qui nous concerne"
   ]
  },
  {
   "cell_type": "code",
   "execution_count": 1,
   "id": "d0b099f8-79bd-4e08-8896-fa1d38c89c2d",
   "metadata": {
    "execution": {
     "iopub.execute_input": "2021-04-27T18:22:50.696753Z",
     "iopub.status.busy": "2021-04-27T18:22:50.696624Z",
     "iopub.status.idle": "2021-04-27T18:22:50.915581Z",
     "shell.execute_reply": "2021-04-27T18:22:50.915028Z",
     "shell.execute_reply.started": "2021-04-27T18:22:50.696736Z"
    },
    "tags": []
   },
   "outputs": [],
   "source": []
  },
  {
   "cell_type": "code",
   "execution_count": 2,
   "id": "20fa6c52-a9d9-4923-9c63-bf0dd680025b",
   "metadata": {
    "execution": {
     "iopub.execute_input": "2021-04-27T18:22:51.606624Z",
     "iopub.status.busy": "2021-04-27T18:22:51.606413Z",
     "iopub.status.idle": "2021-04-27T18:22:51.610581Z",
     "shell.execute_reply": "2021-04-27T18:22:51.609855Z",
     "shell.execute_reply.started": "2021-04-27T18:22:51.606600Z"
    },
    "tags": []
   },
   "outputs": [],
   "source": [
    "df = pd.DataFrame({\"A\": np.random.randint(0, 100, 6)})"
   ]
  },
  {
   "cell_type": "code",
   "execution_count": 3,
   "id": "3ed1fc78-cee4-4738-ba9b-2f3d40053758",
   "metadata": {
    "execution": {
     "iopub.execute_input": "2021-04-27T18:22:51.991171Z",
     "iopub.status.busy": "2021-04-27T18:22:51.990937Z",
     "iopub.status.idle": "2021-04-27T18:22:51.998394Z",
     "shell.execute_reply": "2021-04-27T18:22:51.997818Z",
     "shell.execute_reply.started": "2021-04-27T18:22:51.991147Z"
    },
    "tags": []
   },
   "outputs": [
    {
     "data": {
      "text/html": [
       "<div>\n",
       "<style scoped>\n",
       "    .dataframe tbody tr th:only-of-type {\n",
       "        vertical-align: middle;\n",
       "    }\n",
       "\n",
       "    .dataframe tbody tr th {\n",
       "        vertical-align: top;\n",
       "    }\n",
       "\n",
       "    .dataframe thead th {\n",
       "        text-align: right;\n",
       "    }\n",
       "</style>\n",
       "<table border=\"1\" class=\"dataframe\">\n",
       "  <thead>\n",
       "    <tr style=\"text-align: right;\">\n",
       "      <th></th>\n",
       "      <th>A</th>\n",
       "    </tr>\n",
       "  </thead>\n",
       "  <tbody>\n",
       "    <tr>\n",
       "      <th>0</th>\n",
       "      <td>93</td>\n",
       "    </tr>\n",
       "    <tr>\n",
       "      <th>1</th>\n",
       "      <td>28</td>\n",
       "    </tr>\n",
       "    <tr>\n",
       "      <th>2</th>\n",
       "      <td>19</td>\n",
       "    </tr>\n",
       "    <tr>\n",
       "      <th>3</th>\n",
       "      <td>24</td>\n",
       "    </tr>\n",
       "    <tr>\n",
       "      <th>4</th>\n",
       "      <td>41</td>\n",
       "    </tr>\n",
       "    <tr>\n",
       "      <th>5</th>\n",
       "      <td>81</td>\n",
       "    </tr>\n",
       "  </tbody>\n",
       "</table>\n",
       "</div>"
      ],
      "text/plain": [
       "    A\n",
       "0  93\n",
       "1  28\n",
       "2  19\n",
       "3  24\n",
       "4  41\n",
       "5  81"
      ]
     },
     "execution_count": 3,
     "metadata": {},
     "output_type": "execute_result"
    }
   ],
   "source": [
    "df"
   ]
  },
  {
   "cell_type": "code",
   "execution_count": 4,
   "id": "bd733009-b390-42d8-8523-ba70cd3f0621",
   "metadata": {
    "execution": {
     "iopub.execute_input": "2021-04-27T18:22:52.459444Z",
     "iopub.status.busy": "2021-04-27T18:22:52.459211Z",
     "iopub.status.idle": "2021-04-27T18:22:52.462320Z",
     "shell.execute_reply": "2021-04-27T18:22:52.461784Z",
     "shell.execute_reply.started": "2021-04-27T18:22:52.459417Z"
    },
    "tags": []
   },
   "outputs": [],
   "source": [
    "df2 = df.loc[0:3]"
   ]
  },
  {
   "cell_type": "code",
   "execution_count": 8,
   "id": "db13c7d8-aedb-4f73-a328-2feb7ed1f8f0",
   "metadata": {
    "execution": {
     "iopub.execute_input": "2021-04-27T18:23:07.998527Z",
     "iopub.status.busy": "2021-04-27T18:23:07.998343Z",
     "iopub.status.idle": "2021-04-27T18:23:08.001683Z",
     "shell.execute_reply": "2021-04-27T18:23:08.001203Z",
     "shell.execute_reply.started": "2021-04-27T18:23:07.998507Z"
    },
    "tags": []
   },
   "outputs": [
    {
     "name": "stderr",
     "output_type": "stream",
     "text": [
      "/home/adrienpacifico/anaconda3/envs/pfds_new/lib/python3.8/site-packages/pandas/core/indexing.py:1637: SettingWithCopyWarning: \n",
      "A value is trying to be set on a copy of a slice from a DataFrame\n",
      "\n",
      "See the caveats in the documentation: https://pandas.pydata.org/pandas-docs/stable/user_guide/indexing.html#returning-a-view-versus-a-copy\n",
      "  self._setitem_single_block(indexer, value, name)\n",
      "/home/adrienpacifico/anaconda3/envs/pfds_new/lib/python3.8/site-packages/pandas/core/indexing.py:692: SettingWithCopyWarning: \n",
      "A value is trying to be set on a copy of a slice from a DataFrame\n",
      "\n",
      "See the caveats in the documentation: https://pandas.pydata.org/pandas-docs/stable/user_guide/indexing.html#returning-a-view-versus-a-copy\n",
      "  iloc._setitem_with_indexer(indexer, value, self.name)\n"
     ]
    }
   ],
   "source": [
    "df2.loc[1] = 666"
   ]
  },
  {
   "cell_type": "code",
   "execution_count": 9,
   "id": "4633f74d-49bd-4061-9095-93619f1bb667",
   "metadata": {
    "execution": {
     "iopub.execute_input": "2021-04-27T18:23:08.222125Z",
     "iopub.status.busy": "2021-04-27T18:23:08.221946Z",
     "iopub.status.idle": "2021-04-27T18:23:08.226812Z",
     "shell.execute_reply": "2021-04-27T18:23:08.226377Z",
     "shell.execute_reply.started": "2021-04-27T18:23:08.222105Z"
    },
    "tags": []
   },
   "outputs": [
    {
     "data": {
      "text/html": [
       "<div>\n",
       "<style scoped>\n",
       "    .dataframe tbody tr th:only-of-type {\n",
       "        vertical-align: middle;\n",
       "    }\n",
       "\n",
       "    .dataframe tbody tr th {\n",
       "        vertical-align: top;\n",
       "    }\n",
       "\n",
       "    .dataframe thead th {\n",
       "        text-align: right;\n",
       "    }\n",
       "</style>\n",
       "<table border=\"1\" class=\"dataframe\">\n",
       "  <thead>\n",
       "    <tr style=\"text-align: right;\">\n",
       "      <th></th>\n",
       "      <th>A</th>\n",
       "    </tr>\n",
       "  </thead>\n",
       "  <tbody>\n",
       "    <tr>\n",
       "      <th>0</th>\n",
       "      <td>93</td>\n",
       "    </tr>\n",
       "    <tr>\n",
       "      <th>1</th>\n",
       "      <td>666</td>\n",
       "    </tr>\n",
       "    <tr>\n",
       "      <th>2</th>\n",
       "      <td>19</td>\n",
       "    </tr>\n",
       "    <tr>\n",
       "      <th>3</th>\n",
       "      <td>24</td>\n",
       "    </tr>\n",
       "  </tbody>\n",
       "</table>\n",
       "</div>"
      ],
      "text/plain": [
       "     A\n",
       "0   93\n",
       "1  666\n",
       "2   19\n",
       "3   24"
      ]
     },
     "execution_count": 9,
     "metadata": {},
     "output_type": "execute_result"
    }
   ],
   "source": [
    "df2"
   ]
  },
  {
   "cell_type": "code",
   "execution_count": 10,
   "id": "d651b33c-332d-4035-8032-4c23847b6743",
   "metadata": {
    "execution": {
     "iopub.execute_input": "2021-04-27T18:23:09.052074Z",
     "iopub.status.busy": "2021-04-27T18:23:09.051892Z",
     "iopub.status.idle": "2021-04-27T18:23:09.056868Z",
     "shell.execute_reply": "2021-04-27T18:23:09.056334Z",
     "shell.execute_reply.started": "2021-04-27T18:23:09.052054Z"
    },
    "tags": []
   },
   "outputs": [
    {
     "data": {
      "text/html": [
       "<div>\n",
       "<style scoped>\n",
       "    .dataframe tbody tr th:only-of-type {\n",
       "        vertical-align: middle;\n",
       "    }\n",
       "\n",
       "    .dataframe tbody tr th {\n",
       "        vertical-align: top;\n",
       "    }\n",
       "\n",
       "    .dataframe thead th {\n",
       "        text-align: right;\n",
       "    }\n",
       "</style>\n",
       "<table border=\"1\" class=\"dataframe\">\n",
       "  <thead>\n",
       "    <tr style=\"text-align: right;\">\n",
       "      <th></th>\n",
       "      <th>A</th>\n",
       "    </tr>\n",
       "  </thead>\n",
       "  <tbody>\n",
       "    <tr>\n",
       "      <th>0</th>\n",
       "      <td>93</td>\n",
       "    </tr>\n",
       "    <tr>\n",
       "      <th>1</th>\n",
       "      <td>666</td>\n",
       "    </tr>\n",
       "    <tr>\n",
       "      <th>2</th>\n",
       "      <td>19</td>\n",
       "    </tr>\n",
       "    <tr>\n",
       "      <th>3</th>\n",
       "      <td>24</td>\n",
       "    </tr>\n",
       "    <tr>\n",
       "      <th>4</th>\n",
       "      <td>41</td>\n",
       "    </tr>\n",
       "    <tr>\n",
       "      <th>5</th>\n",
       "      <td>81</td>\n",
       "    </tr>\n",
       "  </tbody>\n",
       "</table>\n",
       "</div>"
      ],
      "text/plain": [
       "     A\n",
       "0   93\n",
       "1  666\n",
       "2   19\n",
       "3   24\n",
       "4   41\n",
       "5   81"
      ]
     },
     "execution_count": 10,
     "metadata": {},
     "output_type": "execute_result"
    }
   ],
   "source": [
    "df"
   ]
  },
  {
   "cell_type": "code",
   "execution_count": 11,
   "id": "eb515c41-7a77-4ebc-9353-32100c6aa004",
   "metadata": {
    "execution": {
     "iopub.execute_input": "2021-04-27T18:23:12.191784Z",
     "iopub.status.busy": "2021-04-27T18:23:12.191566Z",
     "iopub.status.idle": "2021-04-27T18:23:12.195545Z",
     "shell.execute_reply": "2021-04-27T18:23:12.194894Z",
     "shell.execute_reply.started": "2021-04-27T18:23:12.191759Z"
    },
    "tags": []
   },
   "outputs": [
    {
     "data": {
      "text/plain": [
       "140362087251392"
      ]
     },
     "execution_count": 11,
     "metadata": {},
     "output_type": "execute_result"
    }
   ],
   "source": [
    "id(df)"
   ]
  },
  {
   "cell_type": "code",
   "execution_count": 12,
   "id": "52319559-5882-489c-bb1c-424f4f4181f5",
   "metadata": {
    "execution": {
     "iopub.execute_input": "2021-04-27T18:23:12.734570Z",
     "iopub.status.busy": "2021-04-27T18:23:12.734334Z",
     "iopub.status.idle": "2021-04-27T18:23:12.738561Z",
     "shell.execute_reply": "2021-04-27T18:23:12.737898Z",
     "shell.execute_reply.started": "2021-04-27T18:23:12.734543Z"
    },
    "tags": []
   },
   "outputs": [
    {
     "data": {
      "text/plain": [
       "140362087271824"
      ]
     },
     "execution_count": 12,
     "metadata": {},
     "output_type": "execute_result"
    }
   ],
   "source": [
    "id(df2)"
   ]
  },
  {
   "cell_type": "code",
   "execution_count": 13,
   "id": "41468104-3059-49dc-8817-2cb632de2bca",
   "metadata": {
    "execution": {
     "iopub.execute_input": "2021-04-27T18:23:35.801254Z",
     "iopub.status.busy": "2021-04-27T18:23:35.801029Z",
     "iopub.status.idle": "2021-04-27T18:23:35.860195Z",
     "shell.execute_reply": "2021-04-27T18:23:35.859540Z",
     "shell.execute_reply.started": "2021-04-27T18:23:35.801228Z"
    },
    "tags": []
   },
   "outputs": [],
   "source": [
    "%reset -f"
   ]
  },
  {
   "cell_type": "code",
   "execution_count": 14,
   "id": "a496c873-c386-47c4-ab3e-47fc12f5dacf",
   "metadata": {
    "execution": {
     "iopub.execute_input": "2021-04-27T18:23:36.132549Z",
     "iopub.status.busy": "2021-04-27T18:23:36.132358Z",
     "iopub.status.idle": "2021-04-27T18:23:36.134813Z",
     "shell.execute_reply": "2021-04-27T18:23:36.134386Z",
     "shell.execute_reply.started": "2021-04-27T18:23:36.132527Z"
    },
    "tags": []
   },
   "outputs": [],
   "source": []
  },
  {
   "cell_type": "code",
   "execution_count": 22,
   "id": "28c22b32-79ea-4698-b90a-5a9580e15cbf",
   "metadata": {
    "execution": {
     "iopub.execute_input": "2021-04-27T18:25:07.975615Z",
     "iopub.status.busy": "2021-04-27T18:25:07.975418Z",
     "iopub.status.idle": "2021-04-27T18:25:07.978711Z",
     "shell.execute_reply": "2021-04-27T18:25:07.978176Z",
     "shell.execute_reply.started": "2021-04-27T18:25:07.975593Z"
    },
    "tags": []
   },
   "outputs": [],
   "source": [
    "df = pd.DataFrame({\"A\": np.random.randint(0, 100, 6)})"
   ]
  },
  {
   "cell_type": "code",
   "execution_count": 23,
   "id": "677c7388-6804-404f-906c-1077f8775c0c",
   "metadata": {
    "execution": {
     "iopub.execute_input": "2021-04-27T18:25:08.227158Z",
     "iopub.status.busy": "2021-04-27T18:25:08.226967Z",
     "iopub.status.idle": "2021-04-27T18:25:08.230119Z",
     "shell.execute_reply": "2021-04-27T18:25:08.229496Z",
     "shell.execute_reply.started": "2021-04-27T18:25:08.227136Z"
    },
    "tags": []
   },
   "outputs": [],
   "source": [
    "df2 = df.loc[0:3].copy()"
   ]
  },
  {
   "cell_type": "code",
   "execution_count": 24,
   "id": "ba60a0ec-b3ed-4925-90f6-618036b40b25",
   "metadata": {
    "execution": {
     "iopub.execute_input": "2021-04-27T18:25:08.547552Z",
     "iopub.status.busy": "2021-04-27T18:25:08.547009Z",
     "iopub.status.idle": "2021-04-27T18:25:08.554911Z",
     "shell.execute_reply": "2021-04-27T18:25:08.552866Z",
     "shell.execute_reply.started": "2021-04-27T18:25:08.547488Z"
    },
    "tags": []
   },
   "outputs": [],
   "source": [
    "df2.loc[1] = 666"
   ]
  },
  {
   "cell_type": "code",
   "execution_count": 25,
   "id": "ce0d7149-0a83-47a2-a61d-5e14af0d6739",
   "metadata": {
    "execution": {
     "iopub.execute_input": "2021-04-27T18:25:08.938958Z",
     "iopub.status.busy": "2021-04-27T18:25:08.938693Z",
     "iopub.status.idle": "2021-04-27T18:25:08.945881Z",
     "shell.execute_reply": "2021-04-27T18:25:08.945175Z",
     "shell.execute_reply.started": "2021-04-27T18:25:08.938928Z"
    },
    "tags": []
   },
   "outputs": [
    {
     "data": {
      "text/html": [
       "<div>\n",
       "<style scoped>\n",
       "    .dataframe tbody tr th:only-of-type {\n",
       "        vertical-align: middle;\n",
       "    }\n",
       "\n",
       "    .dataframe tbody tr th {\n",
       "        vertical-align: top;\n",
       "    }\n",
       "\n",
       "    .dataframe thead th {\n",
       "        text-align: right;\n",
       "    }\n",
       "</style>\n",
       "<table border=\"1\" class=\"dataframe\">\n",
       "  <thead>\n",
       "    <tr style=\"text-align: right;\">\n",
       "      <th></th>\n",
       "      <th>A</th>\n",
       "    </tr>\n",
       "  </thead>\n",
       "  <tbody>\n",
       "    <tr>\n",
       "      <th>0</th>\n",
       "      <td>23</td>\n",
       "    </tr>\n",
       "    <tr>\n",
       "      <th>1</th>\n",
       "      <td>666</td>\n",
       "    </tr>\n",
       "    <tr>\n",
       "      <th>2</th>\n",
       "      <td>45</td>\n",
       "    </tr>\n",
       "    <tr>\n",
       "      <th>3</th>\n",
       "      <td>76</td>\n",
       "    </tr>\n",
       "  </tbody>\n",
       "</table>\n",
       "</div>"
      ],
      "text/plain": [
       "     A\n",
       "0   23\n",
       "1  666\n",
       "2   45\n",
       "3   76"
      ]
     },
     "execution_count": 25,
     "metadata": {},
     "output_type": "execute_result"
    }
   ],
   "source": [
    "df2"
   ]
  },
  {
   "cell_type": "code",
   "execution_count": 26,
   "id": "0307f711-2d44-4539-a9bc-515f2aaeefb9",
   "metadata": {
    "execution": {
     "iopub.execute_input": "2021-04-27T18:25:09.358480Z",
     "iopub.status.busy": "2021-04-27T18:25:09.358306Z",
     "iopub.status.idle": "2021-04-27T18:25:09.363170Z",
     "shell.execute_reply": "2021-04-27T18:25:09.362633Z",
     "shell.execute_reply.started": "2021-04-27T18:25:09.358460Z"
    },
    "tags": []
   },
   "outputs": [
    {
     "data": {
      "text/html": [
       "<div>\n",
       "<style scoped>\n",
       "    .dataframe tbody tr th:only-of-type {\n",
       "        vertical-align: middle;\n",
       "    }\n",
       "\n",
       "    .dataframe tbody tr th {\n",
       "        vertical-align: top;\n",
       "    }\n",
       "\n",
       "    .dataframe thead th {\n",
       "        text-align: right;\n",
       "    }\n",
       "</style>\n",
       "<table border=\"1\" class=\"dataframe\">\n",
       "  <thead>\n",
       "    <tr style=\"text-align: right;\">\n",
       "      <th></th>\n",
       "      <th>A</th>\n",
       "    </tr>\n",
       "  </thead>\n",
       "  <tbody>\n",
       "    <tr>\n",
       "      <th>0</th>\n",
       "      <td>23</td>\n",
       "    </tr>\n",
       "    <tr>\n",
       "      <th>1</th>\n",
       "      <td>57</td>\n",
       "    </tr>\n",
       "    <tr>\n",
       "      <th>2</th>\n",
       "      <td>45</td>\n",
       "    </tr>\n",
       "    <tr>\n",
       "      <th>3</th>\n",
       "      <td>76</td>\n",
       "    </tr>\n",
       "    <tr>\n",
       "      <th>4</th>\n",
       "      <td>61</td>\n",
       "    </tr>\n",
       "    <tr>\n",
       "      <th>5</th>\n",
       "      <td>85</td>\n",
       "    </tr>\n",
       "  </tbody>\n",
       "</table>\n",
       "</div>"
      ],
      "text/plain": [
       "    A\n",
       "0  23\n",
       "1  57\n",
       "2  45\n",
       "3  76\n",
       "4  61\n",
       "5  85"
      ]
     },
     "execution_count": 26,
     "metadata": {},
     "output_type": "execute_result"
    }
   ],
   "source": [
    "df"
   ]
  },
  {
   "cell_type": "markdown",
   "id": "18f3721b-dfa4-46e6-994a-f4a78af92728",
   "metadata": {
    "execution": {
     "iopub.execute_input": "2021-04-27T18:12:38.144178Z",
     "iopub.status.busy": "2021-04-27T18:12:38.143965Z",
     "iopub.status.idle": "2021-04-27T18:12:38.146761Z",
     "shell.execute_reply": "2021-04-27T18:12:38.146249Z",
     "shell.execute_reply.started": "2021-04-27T18:12:38.144153Z"
    }
   },
   "source": [
    "### Si votre objet est complexe/profond et que vous souhaitez créer une copie de tous ses éléments et sous éléments"
   ]
  },
  {
   "cell_type": "code",
   "execution_count": null,
   "id": "0bf7383c-6103-4e5c-aa71-183079631db3",
   "metadata": {},
   "outputs": [],
   "source": []
  },
  {
   "cell_type": "code",
   "execution_count": 28,
   "id": "acbdebcc-fe5e-4586-b036-1433a44364e6",
   "metadata": {
    "execution": {
     "iopub.execute_input": "2021-04-27T18:25:35.035395Z",
     "iopub.status.busy": "2021-04-27T18:25:35.035193Z",
     "iopub.status.idle": "2021-04-27T18:25:35.038435Z",
     "shell.execute_reply": "2021-04-27T18:25:35.037866Z",
     "shell.execute_reply.started": "2021-04-27T18:25:35.035372Z"
    },
    "tags": []
   },
   "outputs": [],
   "source": [
    "df2 = copy.deepcopy(df.loc[0:3])"
   ]
  },
  {
   "cell_type": "code",
   "execution_count": null,
   "id": "27f5c062-7825-47a3-807a-ff2dddf5e38f",
   "metadata": {},
   "outputs": [],
   "source": []
  },
  {
   "cell_type": "code",
   "execution_count": null,
   "id": "30c47bac-8e2b-4e54-bdb8-124fbfcf6eae",
   "metadata": {},
   "outputs": [],
   "source": []
  },
  {
   "cell_type": "markdown",
   "id": "7471ad44-1706-497f-b02d-fd2ec2ca1c8d",
   "metadata": {},
   "source": [
    "Est-ce que pandas va réaliser une vue ou une copie ?   \n",
    "Est-ce qu'une vue va modifier la DataFrame originale ?\n",
    "Dur à savoir..."
   ]
  },
  {
   "cell_type": "code",
   "execution_count": 55,
   "id": "5b54d86c-1c10-4efc-a640-7660d1635c7d",
   "metadata": {
    "execution": {
     "iopub.execute_input": "2021-04-27T21:50:07.537598Z",
     "iopub.status.busy": "2021-04-27T21:50:07.537398Z",
     "iopub.status.idle": "2021-04-27T21:50:07.819072Z",
     "shell.execute_reply": "2021-04-27T21:50:07.818139Z",
     "shell.execute_reply.started": "2021-04-27T21:50:07.537575Z"
    },
    "tags": []
   },
   "outputs": [],
   "source": [
    "%reset -f"
   ]
  },
  {
   "cell_type": "code",
   "execution_count": 56,
   "id": "b7c0ca9b-9be1-44a6-bccd-f38d37bda239",
   "metadata": {
    "execution": {
     "iopub.execute_input": "2021-04-27T21:50:07.965760Z",
     "iopub.status.busy": "2021-04-27T21:50:07.965551Z",
     "iopub.status.idle": "2021-04-27T21:50:07.968706Z",
     "shell.execute_reply": "2021-04-27T21:50:07.968051Z",
     "shell.execute_reply.started": "2021-04-27T21:50:07.965735Z"
    },
    "tags": []
   },
   "outputs": [],
   "source": []
  },
  {
   "cell_type": "code",
   "execution_count": 57,
   "id": "96cc9ae8-c33d-4e3a-aa79-aa8f64169834",
   "metadata": {
    "execution": {
     "iopub.execute_input": "2021-04-27T21:50:08.555279Z",
     "iopub.status.busy": "2021-04-27T21:50:08.555104Z",
     "iopub.status.idle": "2021-04-27T21:50:08.561391Z",
     "shell.execute_reply": "2021-04-27T21:50:08.560938Z",
     "shell.execute_reply.started": "2021-04-27T21:50:08.555260Z"
    },
    "tags": []
   },
   "outputs": [
    {
     "name": "stderr",
     "output_type": "stream",
     "text": [
      "/home/adrienpacifico/anaconda3/envs/pfds_new/lib/python3.8/site-packages/pandas/core/indexing.py:1637: SettingWithCopyWarning: \n",
      "A value is trying to be set on a copy of a slice from a DataFrame\n",
      "\n",
      "See the caveats in the documentation: https://pandas.pydata.org/pandas-docs/stable/user_guide/indexing.html#returning-a-view-versus-a-copy\n",
      "  self._setitem_single_block(indexer, value, name)\n",
      "/home/adrienpacifico/anaconda3/envs/pfds_new/lib/python3.8/site-packages/pandas/core/indexing.py:692: SettingWithCopyWarning: \n",
      "A value is trying to be set on a copy of a slice from a DataFrame\n",
      "\n",
      "See the caveats in the documentation: https://pandas.pydata.org/pandas-docs/stable/user_guide/indexing.html#returning-a-view-versus-a-copy\n",
      "  iloc._setitem_with_indexer(indexer, value, self.name)\n"
     ]
    },
    {
     "data": {
      "text/html": [
       "<div>\n",
       "<style scoped>\n",
       "    .dataframe tbody tr th:only-of-type {\n",
       "        vertical-align: middle;\n",
       "    }\n",
       "\n",
       "    .dataframe tbody tr th {\n",
       "        vertical-align: top;\n",
       "    }\n",
       "\n",
       "    .dataframe thead th {\n",
       "        text-align: right;\n",
       "    }\n",
       "</style>\n",
       "<table border=\"1\" class=\"dataframe\">\n",
       "  <thead>\n",
       "    <tr style=\"text-align: right;\">\n",
       "      <th></th>\n",
       "      <th>A</th>\n",
       "    </tr>\n",
       "  </thead>\n",
       "  <tbody>\n",
       "    <tr>\n",
       "      <th>0</th>\n",
       "      <td>62</td>\n",
       "    </tr>\n",
       "    <tr>\n",
       "      <th>1</th>\n",
       "      <td>666</td>\n",
       "    </tr>\n",
       "    <tr>\n",
       "      <th>2</th>\n",
       "      <td>48</td>\n",
       "    </tr>\n",
       "    <tr>\n",
       "      <th>3</th>\n",
       "      <td>1</td>\n",
       "    </tr>\n",
       "    <tr>\n",
       "      <th>4</th>\n",
       "      <td>66</td>\n",
       "    </tr>\n",
       "    <tr>\n",
       "      <th>5</th>\n",
       "      <td>96</td>\n",
       "    </tr>\n",
       "  </tbody>\n",
       "</table>\n",
       "</div>"
      ],
      "text/plain": [
       "     A\n",
       "0   62\n",
       "1  666\n",
       "2   48\n",
       "3    1\n",
       "4   66\n",
       "5   96"
      ]
     },
     "execution_count": 57,
     "metadata": {},
     "output_type": "execute_result"
    }
   ],
   "source": [
    "df = pd.DataFrame({\"A\": np.random.randint(0, 100, 6)})\n",
    "df2 = df.loc[0:3]\n",
    "df2.loc[1] = 666\n",
    "df"
   ]
  },
  {
   "cell_type": "code",
   "execution_count": 58,
   "id": "6add2a05-df5b-4676-8c7a-dbde9a157728",
   "metadata": {
    "execution": {
     "iopub.execute_input": "2021-04-27T21:50:08.989314Z",
     "iopub.status.busy": "2021-04-27T21:50:08.988655Z",
     "iopub.status.idle": "2021-04-27T21:50:09.008302Z",
     "shell.execute_reply": "2021-04-27T21:50:09.007103Z",
     "shell.execute_reply.started": "2021-04-27T21:50:08.989239Z"
    },
    "tags": []
   },
   "outputs": [
    {
     "name": "stderr",
     "output_type": "stream",
     "text": [
      "/home/adrienpacifico/anaconda3/envs/pfds_new/lib/python3.8/site-packages/pandas/core/indexing.py:1720: SettingWithCopyWarning: \n",
      "A value is trying to be set on a copy of a slice from a DataFrame.\n",
      "Try using .loc[row_indexer,col_indexer] = value instead\n",
      "\n",
      "See the caveats in the documentation: https://pandas.pydata.org/pandas-docs/stable/user_guide/indexing.html#returning-a-view-versus-a-copy\n",
      "  self._setitem_single_column(loc, value, pi)\n"
     ]
    },
    {
     "data": {
      "text/html": [
       "<div>\n",
       "<style scoped>\n",
       "    .dataframe tbody tr th:only-of-type {\n",
       "        vertical-align: middle;\n",
       "    }\n",
       "\n",
       "    .dataframe tbody tr th {\n",
       "        vertical-align: top;\n",
       "    }\n",
       "\n",
       "    .dataframe thead th {\n",
       "        text-align: right;\n",
       "    }\n",
       "</style>\n",
       "<table border=\"1\" class=\"dataframe\">\n",
       "  <thead>\n",
       "    <tr style=\"text-align: right;\">\n",
       "      <th></th>\n",
       "      <th>A</th>\n",
       "    </tr>\n",
       "  </thead>\n",
       "  <tbody>\n",
       "    <tr>\n",
       "      <th>0</th>\n",
       "      <td>40</td>\n",
       "    </tr>\n",
       "    <tr>\n",
       "      <th>1</th>\n",
       "      <td>68</td>\n",
       "    </tr>\n",
       "    <tr>\n",
       "      <th>2</th>\n",
       "      <td>60</td>\n",
       "    </tr>\n",
       "    <tr>\n",
       "      <th>3</th>\n",
       "      <td>58</td>\n",
       "    </tr>\n",
       "    <tr>\n",
       "      <th>4</th>\n",
       "      <td>35</td>\n",
       "    </tr>\n",
       "    <tr>\n",
       "      <th>5</th>\n",
       "      <td>32</td>\n",
       "    </tr>\n",
       "  </tbody>\n",
       "</table>\n",
       "</div>"
      ],
      "text/plain": [
       "    A\n",
       "0  40\n",
       "1  68\n",
       "2  60\n",
       "3  58\n",
       "4  35\n",
       "5  32"
      ]
     },
     "execution_count": 58,
     "metadata": {},
     "output_type": "execute_result"
    }
   ],
   "source": [
    "df = pd.DataFrame({\"A\": np.random.randint(0, 100, 6)})\n",
    "df2 = df.loc[0:3]\n",
    "df2.loc[1] = \"coucou\"\n",
    "df"
   ]
  },
  {
   "cell_type": "code",
   "execution_count": null,
   "id": "0328a90a-3131-4047-b522-188f09530988",
   "metadata": {},
   "outputs": [],
   "source": []
  }
 ],
 "metadata": {
  "kernelspec": {
   "display_name": "Python 3",
   "language": "python",
   "name": "python3"
  },
  "language_info": {
   "codemirror_mode": {
    "name": "ipython",
    "version": 3
   },
   "file_extension": ".py",
   "mimetype": "text/x-python",
   "name": "python",
   "nbconvert_exporter": "python",
   "pygments_lexer": "ipython3",
   "version": "3.8.8"
  }
 },
 "nbformat": 4,
 "nbformat_minor": 5
}
