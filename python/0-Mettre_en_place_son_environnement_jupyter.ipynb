{
 "cells": [
  {
   "cell_type": "markdown",
   "id": "399b080a-b653-42cb-9205-109bcadb33ae",
   "metadata": {},
   "source": [
    "### Créer environnement virtuel et l'ouvrir"
   ]
  },
  {
   "cell_type": "markdown",
   "id": "4b6e4c20-a8c9-4ff7-bbe8-666a8e3a7fd1",
   "metadata": {},
   "source": [
    "`conda create --name python_data_science python=3.8`"
   ]
  },
  {
   "cell_type": "markdown",
   "id": "8584ec63-2ff7-41fa-945f-518a4592296d",
   "metadata": {},
   "source": [
    "Si on ne veut pas taper yes dans le shell  \n",
    "`conda create --name python_data_science python=3.8 --yes`"
   ]
  },
  {
   "cell_type": "markdown",
   "id": "7d1f468d-2145-4fe8-8d26-925c531cd440",
   "metadata": {},
   "source": [
    "`conda env list` si on a oublié le nom exact de son environnement\n",
    "\n"
   ]
  },
  {
   "cell_type": "markdown",
   "id": "eeaa09cc-595b-491f-8688-4d66508a0e6d",
   "metadata": {},
   "source": [
    "`conda activate python_data_science`"
   ]
  },
  {
   "cell_type": "markdown",
   "id": "69ece849-76bf-412e-b6d6-cb37e7583b1a",
   "metadata": {},
   "source": [
    "### Installer jupyter lab"
   ]
  },
  {
   "cell_type": "markdown",
   "id": "eac66b58-d0ec-4b6b-8028-db8947fee5e6",
   "metadata": {},
   "source": [
    "`pip install jupyterlab`"
   ]
  },
  {
   "cell_type": "markdown",
   "id": "771e55e5-daf8-49fb-8634-a80b1804a3c7",
   "metadata": {
    "tags": []
   },
   "source": [
    "### Installer les Extensions intéressantes"
   ]
  },
  {
   "cell_type": "markdown",
   "id": "e60d613a-03ac-4dc3-a4ae-f6c2aa4a2aac",
   "metadata": {},
   "source": [
    "#### Jupyter lab git"
   ]
  },
  {
   "cell_type": "markdown",
   "id": "8604b7b6-a158-4554-bced-398a01001871",
   "metadata": {},
   "source": [
    "`conda install git`"
   ]
  },
  {
   "cell_type": "markdown",
   "id": "dfca8292-1db2-4e3f-b04f-3b60e5ec6ba8",
   "metadata": {},
   "source": [
    "https://github.com/jupyterlab/jupyterlab-git"
   ]
  },
  {
   "cell_type": "markdown",
   "id": "ed003b99-23b2-418e-bb32-b64422dabf00",
   "metadata": {
    "execution": {
     "iopub.execute_input": "2021-04-27T22:07:52.095414Z",
     "iopub.status.busy": "2021-04-27T22:07:52.095185Z",
     "iopub.status.idle": "2021-04-27T22:07:52.099273Z",
     "shell.execute_reply": "2021-04-27T22:07:52.098626Z",
     "shell.execute_reply.started": "2021-04-27T22:07:52.095388Z"
    }
   },
   "source": [
    "`pip install jupyterlab-git`"
   ]
  },
  {
   "cell_type": "markdown",
   "id": "7d03a918-5647-462d-846a-41ea5e37ec77",
   "metadata": {},
   "source": [
    "### Jupyter lab variable inspector "
   ]
  },
  {
   "cell_type": "markdown",
   "id": "d665aa31-d630-4992-b201-5ec8e51600be",
   "metadata": {
    "execution": {
     "iopub.execute_input": "2021-04-27T22:10:33.398645Z",
     "iopub.status.busy": "2021-04-27T22:10:33.398430Z",
     "iopub.status.idle": "2021-04-27T22:10:33.401568Z",
     "shell.execute_reply": "2021-04-27T22:10:33.400909Z",
     "shell.execute_reply.started": "2021-04-27T22:10:33.398618Z"
    }
   },
   "source": [
    "`pip install lckr-jupyterlab-variableinspector`"
   ]
  },
  {
   "cell_type": "markdown",
   "id": "73ccb4c2-8d7e-438c-93e1-35430271a21b",
   "metadata": {},
   "source": [
    "#### Jupyterlab-lsp"
   ]
  },
  {
   "cell_type": "markdown",
   "id": "821ecea2-dd01-48f4-9a8e-47cbf90e2a40",
   "metadata": {},
   "source": [
    "`pip install 'jupyterlab>=3.0.0,<4.0.0a0' jupyterlab-lsp`"
   ]
  },
  {
   "cell_type": "markdown",
   "id": "74681591-05fe-4ecb-b2af-e42ed97dc914",
   "metadata": {},
   "source": [
    "### Deboguer (xeus-python)"
   ]
  },
  {
   "cell_type": "markdown",
   "id": "24b50e93-30ce-4571-a63e-01357f5e8167",
   "metadata": {},
   "source": [
    "`pip install xeus-python`"
   ]
  },
  {
   "cell_type": "markdown",
   "id": "2be6550e-bdd7-478f-892b-ffb90a3ce8c4",
   "metadata": {},
   "source": [
    "Tutoriel python LSP et Deboguer : https://github.com/krassowski/jupyterlab-lsp"
   ]
  },
  {
   "cell_type": "markdown",
   "id": "729d4e33-a6b3-4a1b-912d-4714d48d43a1",
   "metadata": {},
   "source": [
    "## Importer un environnement tout prêt\n",
    "\n",
    "Voir le README.md de ce repo !"
   ]
  },
  {
   "cell_type": "code",
   "execution_count": null,
   "id": "78e9a0df-0471-4f99-83a1-e589b4c5acbd",
   "metadata": {},
   "outputs": [],
   "source": []
  }
 ],
 "metadata": {
  "kernelspec": {
   "display_name": "Python 3 (ipykernel)",
   "language": "python",
   "name": "python3"
  },
  "language_info": {
   "codemirror_mode": {
    "name": "ipython",
    "version": 3
   },
   "file_extension": ".py",
   "mimetype": "text/x-python",
   "name": "python",
   "nbconvert_exporter": "python",
   "pygments_lexer": "ipython3",
   "version": "3.7.12"
  }
 },
 "nbformat": 4,
 "nbformat_minor": 5
}
