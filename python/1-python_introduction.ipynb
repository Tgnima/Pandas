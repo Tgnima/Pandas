{
 "cells": [
  {
   "cell_type": "markdown",
   "metadata": {
    "execution": {
     "iopub.execute_input": "2021-04-25T11:04:42.324687Z",
     "iopub.status.busy": "2021-04-25T11:04:42.324434Z",
     "iopub.status.idle": "2021-04-25T11:04:42.330635Z",
     "shell.execute_reply": "2021-04-25T11:04:42.330131Z",
     "shell.execute_reply.started": "2021-04-25T11:04:42.324628Z"
    },
    "tags": []
   },
   "source": [
    "## Comment exécuter son code en Python ?\n",
    "1. En écrivant un fichier `.py` et en l'exécutant depuis le terminal.\n",
    "2. En tappant directement ses commandes dans la console\n",
    "3. En utilisant un IDE/Editeur de texte et en exécutant tout un fichier\n",
    "4. En utilisant un IDE/Edt et en exécutant des portions de code\n",
    "5. En utilisant des notebooks jupyter et en exécutant des cellules séparément"
   ]
  },
  {
   "cell_type": "markdown",
   "metadata": {},
   "source": [
    "En créant un binder :\n",
    "  - En ligne en utilisant [mybinder.org](mybinder.org/) et en pointant vers un repo github --> facile\n",
    "  - En local en utilisant repo2docker --> pas très dur (non conseillé pour de la mise en production)."
   ]
  },
  {
   "cell_type": "markdown",
   "metadata": {
    "tags": []
   },
   "source": [
    "### Quel Python j'exécute ?"
   ]
  },
  {
   "cell_type": "code",
   "execution_count": 1,
   "metadata": {
    "execution": {
     "iopub.execute_input": "2022-04-13T13:45:55.996075Z",
     "iopub.status.busy": "2022-04-13T13:45:55.995895Z",
     "iopub.status.idle": "2022-04-13T13:45:55.999774Z",
     "shell.execute_reply": "2022-04-13T13:45:55.999360Z",
     "shell.execute_reply.started": "2022-04-13T13:45:55.996045Z"
    },
    "tags": []
   },
   "outputs": [
    {
     "name": "stdout",
     "output_type": "stream",
     "text": [
      "/srv/conda/envs/notebook/bin/python\n"
     ]
    }
   ],
   "source": [
    "import sys\n",
    "\n",
    "print(sys.executable)"
   ]
  },
  {
   "cell_type": "code",
   "execution_count": 2,
   "metadata": {
    "execution": {
     "iopub.execute_input": "2022-04-13T13:45:56.002844Z",
     "iopub.status.busy": "2022-04-13T13:45:56.002675Z",
     "iopub.status.idle": "2022-04-13T13:45:56.008100Z",
     "shell.execute_reply": "2022-04-13T13:45:56.007578Z",
     "shell.execute_reply.started": "2022-04-13T13:45:56.002809Z"
    },
    "tags": []
   },
   "outputs": [],
   "source": [
    "import sys"
   ]
  },
  {
   "cell_type": "code",
   "execution_count": 3,
   "metadata": {
    "execution": {
     "iopub.execute_input": "2022-04-13T13:45:56.009262Z",
     "iopub.status.busy": "2022-04-13T13:45:56.009075Z",
     "iopub.status.idle": "2022-04-13T13:45:56.014369Z",
     "shell.execute_reply": "2022-04-13T13:45:56.013933Z",
     "shell.execute_reply.started": "2022-04-13T13:45:56.009236Z"
    },
    "tags": []
   },
   "outputs": [
    {
     "data": {
      "text/plain": [
       "namespace(name='cpython',\n",
       "          cache_tag='cpython-37',\n",
       "          version=sys.version_info(major=3, minor=7, micro=12, releaselevel='final', serial=0),\n",
       "          hexversion=50793712,\n",
       "          _multiarch='x86_64-linux-gnu')"
      ]
     },
     "execution_count": 3,
     "metadata": {},
     "output_type": "execute_result"
    }
   ],
   "source": [
    "sys.implementation"
   ]
  },
  {
   "cell_type": "markdown",
   "metadata": {
    "tags": []
   },
   "source": [
    "### D'où vient un kernel lancé par jupyter ?"
   ]
  },
  {
   "cell_type": "code",
   "execution_count": 4,
   "metadata": {
    "execution": {
     "iopub.execute_input": "2022-04-13T13:45:56.015260Z",
     "iopub.status.busy": "2022-04-13T13:45:56.015072Z",
     "iopub.status.idle": "2022-04-13T13:45:56.020497Z",
     "shell.execute_reply": "2022-04-13T13:45:56.020108Z",
     "shell.execute_reply.started": "2022-04-13T13:45:56.015241Z"
    },
    "tags": []
   },
   "outputs": [
    {
     "data": {
      "text/plain": [
       "['/srv/conda/envs/notebook/lib/python3.7/site-packages/ipykernel_launcher.py',\n",
       " '-f',\n",
       " '/home/adrienpacifico/.local/share/jupyter/runtime/kernel-2ab9cd1d-1c4e-4288-b270-3c3686f3fbb6.json']"
      ]
     },
     "execution_count": 4,
     "metadata": {},
     "output_type": "execute_result"
    }
   ],
   "source": [
    "sys.argv"
   ]
  },
  {
   "cell_type": "code",
   "execution_count": 5,
   "metadata": {
    "execution": {
     "iopub.execute_input": "2022-04-13T13:45:56.021569Z",
     "iopub.status.busy": "2022-04-13T13:45:56.021406Z",
     "iopub.status.idle": "2022-04-13T13:45:56.024959Z",
     "shell.execute_reply": "2022-04-13T13:45:56.024602Z",
     "shell.execute_reply.started": "2022-04-13T13:45:56.021550Z"
    }
   },
   "outputs": [],
   "source": [
    "ipykernel_launcher_path = sys.argv[0]"
   ]
  },
  {
   "cell_type": "code",
   "execution_count": 6,
   "metadata": {
    "execution": {
     "iopub.execute_input": "2022-04-13T13:45:56.025637Z",
     "iopub.status.busy": "2022-04-13T13:45:56.025509Z",
     "iopub.status.idle": "2022-04-13T13:45:56.030793Z",
     "shell.execute_reply": "2022-04-13T13:45:56.030330Z",
     "shell.execute_reply.started": "2022-04-13T13:45:56.025619Z"
    },
    "tags": []
   },
   "outputs": [
    {
     "name": "stdout",
     "output_type": "stream",
     "text": [
      "\"\"\"Entry point for launching an IPython kernel.\n",
      "\n",
      "This is separate from the ipykernel package so we can avoid doing imports until\n",
      "after removing the cwd from sys.path.\n",
      "\"\"\"\n",
      "\n",
      "import sys\n",
      "\n",
      "if __name__ == '__main__':\n",
      "    # Remove the CWD from sys.path while we load stuff.\n",
      "    # This is added back by InteractiveShellApp.init_path()\n",
      "    if sys.path[0] == '':\n",
      "        del sys.path[0]\n",
      "\n",
      "    from ipykernel import kernelapp as app\n",
      "    app.launch_new_instance()\n",
      "\n"
     ]
    }
   ],
   "source": [
    "file_o=open(ipykernel_launcher_path) \n",
    "content=file_o.read()\n",
    "print(content)                     "
   ]
  },
  {
   "cell_type": "code",
   "execution_count": 7,
   "metadata": {
    "execution": {
     "iopub.execute_input": "2022-04-13T13:45:56.031582Z",
     "iopub.status.busy": "2022-04-13T13:45:56.031403Z",
     "iopub.status.idle": "2022-04-13T13:45:56.036059Z",
     "shell.execute_reply": "2022-04-13T13:45:56.035684Z",
     "shell.execute_reply.started": "2022-04-13T13:45:56.031563Z"
    },
    "tags": []
   },
   "outputs": [
    {
     "name": "stdout",
     "output_type": "stream",
     "text": [
      "{\n",
      "  \"shell_port\": 37179,\n",
      "  \"iopub_port\": 39983,\n",
      "  \"stdin_port\": 57513,\n",
      "  \"control_port\": 41233,\n",
      "  \"hb_port\": 42871,\n",
      "  \"ip\": \"127.0.0.1\",\n",
      "  \"key\": \"80728116-5c9394892b4d4f890befe0c3\",\n",
      "  \"transport\": \"tcp\",\n",
      "  \"signature_scheme\": \"hmac-sha256\",\n",
      "  \"kernel_name\": \"\"\n",
      "}\n"
     ]
    }
   ],
   "source": [
    "file_o=open(sys.argv[2]) \n",
    "content=file_o.read()\n",
    "print(content)                     "
   ]
  },
  {
   "cell_type": "markdown",
   "metadata": {
    "execution": {
     "iopub.execute_input": "2021-04-28T00:06:43.491577Z",
     "iopub.status.busy": "2021-04-28T00:06:43.491365Z",
     "iopub.status.idle": "2021-04-28T00:06:43.494200Z",
     "shell.execute_reply": "2021-04-28T00:06:43.493573Z",
     "shell.execute_reply.started": "2021-04-28T00:06:43.491552Z"
    },
    "tags": []
   },
   "source": [
    "### Installer une librairie"
   ]
  },
  {
   "cell_type": "markdown",
   "metadata": {},
   "source": [
    "#### Dans un environement virtuel"
   ]
  },
  {
   "cell_type": "markdown",
   "metadata": {},
   "source": [
    "Aller dans la console dans son environnement virtuel et lancer la commande\n",
    "\n",
    "`pip -m install nom_du_package`\n",
    "\n",
    "Pourquoi `-m` la réponse est ici (surtout si vous êtes sous Windows) : https://snarky.ca/why-you-should-use-python-m-pip/"
   ]
  },
  {
   "cell_type": "code",
   "execution_count": 8,
   "metadata": {
    "execution": {
     "iopub.execute_input": "2022-04-13T13:45:56.036822Z",
     "iopub.status.busy": "2022-04-13T13:45:56.036650Z",
     "iopub.status.idle": "2022-04-13T13:45:56.042193Z",
     "shell.execute_reply": "2022-04-13T13:45:56.041796Z",
     "shell.execute_reply.started": "2022-04-13T13:45:56.036803Z"
    },
    "tags": []
   },
   "outputs": [
    {
     "data": {
      "text/html": [
       "<blockquote class=\"twitter-tweet\"><p lang=\"en\" dir=\"ltr\">I learned sometime ago that we should be doing<br>`python -m pip install ...` instead of simply `pip install ...` but now I can&#39;t remember the source of this information. Likely from <a href=\"https://twitter.com/brettsky?ref_src=twsrc%5Etfw\">@brettsky</a> or <a href=\"https://twitter.com/zooba?ref_src=twsrc%5Etfw\">@zooba</a>, any of you have a talk/blog post on this, so I can share with people?</p>&mdash; Mariatta 🤦 (@mariatta) <a href=\"https://twitter.com/mariatta/status/1189243515739561985?ref_src=twsrc%5Etfw\">October 29, 2019</a></blockquote> <script async src=\"https://platform.twitter.com/widgets.js\" charset=\"utf-8\"></script> \n"
      ],
      "text/plain": [
       "<IPython.core.display.HTML object>"
      ]
     },
     "metadata": {},
     "output_type": "display_data"
    }
   ],
   "source": [
    "%%html\n",
    "<blockquote class=\"twitter-tweet\"><p lang=\"en\" dir=\"ltr\">I learned sometime ago that we should be doing<br>`python -m pip install ...` instead of simply `pip install ...` but now I can&#39;t remember the source of this information. Likely from <a href=\"https://twitter.com/brettsky?ref_src=twsrc%5Etfw\">@brettsky</a> or <a href=\"https://twitter.com/zooba?ref_src=twsrc%5Etfw\">@zooba</a>, any of you have a talk/blog post on this, so I can share with people?</p>&mdash; Mariatta 🤦 (@mariatta) <a href=\"https://twitter.com/mariatta/status/1189243515739561985?ref_src=twsrc%5Etfw\">October 29, 2019</a></blockquote> <script async src=\"https://platform.twitter.com/widgets.js\" charset=\"utf-8\"></script> "
   ]
  },
  {
   "cell_type": "markdown",
   "metadata": {},
   "source": [
    "#### Directement dans un jupyter notebook (qui va utiliser l'environement virtuel du Kernel)"
   ]
  },
  {
   "cell_type": "code",
   "execution_count": 9,
   "metadata": {
    "execution": {
     "iopub.execute_input": "2022-04-13T13:45:56.042944Z",
     "iopub.status.busy": "2022-04-13T13:45:56.042783Z",
     "iopub.status.idle": "2022-04-13T13:46:08.363356Z",
     "shell.execute_reply": "2022-04-13T13:46:08.362846Z",
     "shell.execute_reply.started": "2022-04-13T13:45:56.042925Z"
    },
    "tags": []
   },
   "outputs": [
    {
     "name": "stdout",
     "output_type": "stream",
     "text": [
      "Collecting u8darts\n",
      "  Using cached u8darts-0.18.0-py3-none-any.whl (359 kB)\n",
      "Requirement already satisfied: pandas>=1.0.5 in /srv/conda/envs/notebook/lib/python3.7/site-packages (from u8darts) (1.3.5)\n",
      "Collecting tqdm>=4.60.0\n",
      "  Downloading tqdm-4.64.0-py2.py3-none-any.whl (78 kB)\n",
      "     |████████████████████████████████| 78 kB 1.5 MB/s             \n",
      "\u001b[?25hCollecting statsmodels>=0.13.0\n",
      "  Using cached statsmodels-0.13.2-cp37-cp37m-manylinux_2_17_x86_64.manylinux2014_x86_64.whl (9.8 MB)\n",
      "Requirement already satisfied: numpy>=1.19.0 in /srv/conda/envs/notebook/lib/python3.7/site-packages (from u8darts) (1.21.6)\n",
      "Collecting xarray>=0.17.0\n",
      "  Using cached xarray-0.20.2-py3-none-any.whl (845 kB)\n",
      "Collecting holidays>=0.11.1\n",
      "  Using cached holidays-0.13-py3-none-any.whl (172 kB)\n",
      "Requirement already satisfied: matplotlib>=3.3.0 in /srv/conda/envs/notebook/lib/python3.7/site-packages (from u8darts) (3.5.1)\n",
      "Requirement already satisfied: ipython>=7.0.0 in /srv/conda/envs/notebook/lib/python3.7/site-packages (from u8darts) (7.31.1)\n",
      "Collecting scipy>=1.3.2\n",
      "  Using cached scipy-1.7.3-cp37-cp37m-manylinux_2_12_x86_64.manylinux2010_x86_64.whl (38.1 MB)\n",
      "Collecting scikit-learn>=1.0.1\n",
      "  Using cached scikit_learn-1.0.2-cp37-cp37m-manylinux_2_17_x86_64.manylinux2014_x86_64.whl (24.8 MB)\n",
      "Collecting lightgbm>=2.2.3\n",
      "  Using cached lightgbm-3.3.2-py3-none-manylinux1_x86_64.whl (2.0 MB)\n",
      "Requirement already satisfied: requests>=2.22.0 in /srv/conda/envs/notebook/lib/python3.7/site-packages (from u8darts) (2.27.1)\n",
      "Collecting nfoursid>=1.0.0\n",
      "  Using cached nfoursid-1.0.0-py3-none-any.whl (16 kB)\n",
      "Collecting joblib>=0.16.0\n",
      "  Using cached joblib-1.1.0-py2.py3-none-any.whl (306 kB)\n",
      "Collecting hijri-converter\n",
      "  Using cached hijri_converter-2.2.3-py3-none-any.whl (14 kB)\n",
      "Collecting korean-lunar-calendar\n",
      "  Using cached korean_lunar_calendar-0.2.1-py3-none-any.whl (8.0 kB)\n",
      "Requirement already satisfied: python-dateutil in /srv/conda/envs/notebook/lib/python3.7/site-packages (from holidays>=0.11.1->u8darts) (2.8.2)\n",
      "Collecting convertdate>=2.3.0\n",
      "  Using cached convertdate-2.4.0-py3-none-any.whl (47 kB)\n",
      "Requirement already satisfied: matplotlib-inline in /srv/conda/envs/notebook/lib/python3.7/site-packages (from ipython>=7.0.0->u8darts) (0.1.3)\n",
      "Requirement already satisfied: setuptools>=18.5 in /srv/conda/envs/notebook/lib/python3.7/site-packages (from ipython>=7.0.0->u8darts) (60.5.0)\n",
      "Requirement already satisfied: pexpect>4.3 in /srv/conda/envs/notebook/lib/python3.7/site-packages (from ipython>=7.0.0->u8darts) (4.8.0)\n",
      "Requirement already satisfied: jedi>=0.16 in /srv/conda/envs/notebook/lib/python3.7/site-packages (from ipython>=7.0.0->u8darts) (0.18.1)\n",
      "Requirement already satisfied: pickleshare in /srv/conda/envs/notebook/lib/python3.7/site-packages (from ipython>=7.0.0->u8darts) (0.7.5)\n",
      "Requirement already satisfied: pygments in /srv/conda/envs/notebook/lib/python3.7/site-packages (from ipython>=7.0.0->u8darts) (2.11.2)\n",
      "Requirement already satisfied: backcall in /srv/conda/envs/notebook/lib/python3.7/site-packages (from ipython>=7.0.0->u8darts) (0.2.0)\n",
      "Requirement already satisfied: prompt-toolkit!=3.0.0,!=3.0.1,<3.1.0,>=2.0.0 in /srv/conda/envs/notebook/lib/python3.7/site-packages (from ipython>=7.0.0->u8darts) (3.0.24)\n",
      "Requirement already satisfied: traitlets>=4.2 in /srv/conda/envs/notebook/lib/python3.7/site-packages (from ipython>=7.0.0->u8darts) (5.1.1)\n",
      "Requirement already satisfied: decorator in /srv/conda/envs/notebook/lib/python3.7/site-packages (from ipython>=7.0.0->u8darts) (5.1.1)\n",
      "Requirement already satisfied: wheel in /srv/conda/envs/notebook/lib/python3.7/site-packages (from lightgbm>=2.2.3->u8darts) (0.37.1)\n",
      "Requirement already satisfied: pyparsing>=2.2.1 in /srv/conda/envs/notebook/lib/python3.7/site-packages (from matplotlib>=3.3.0->u8darts) (3.0.7)\n",
      "Requirement already satisfied: cycler>=0.10 in /srv/conda/envs/notebook/lib/python3.7/site-packages (from matplotlib>=3.3.0->u8darts) (0.11.0)\n",
      "Requirement already satisfied: packaging>=20.0 in /srv/conda/envs/notebook/lib/python3.7/site-packages (from matplotlib>=3.3.0->u8darts) (21.3)\n",
      "Requirement already satisfied: pillow>=6.2.0 in /srv/conda/envs/notebook/lib/python3.7/site-packages (from matplotlib>=3.3.0->u8darts) (9.1.0)\n",
      "Requirement already satisfied: fonttools>=4.22.0 in /srv/conda/envs/notebook/lib/python3.7/site-packages (from matplotlib>=3.3.0->u8darts) (4.32.0)\n",
      "Requirement already satisfied: kiwisolver>=1.0.1 in /srv/conda/envs/notebook/lib/python3.7/site-packages (from matplotlib>=3.3.0->u8darts) (1.4.2)\n",
      "Requirement already satisfied: pytz>=2017.3 in /srv/conda/envs/notebook/lib/python3.7/site-packages (from pandas>=1.0.5->u8darts) (2021.3)\n",
      "Requirement already satisfied: charset-normalizer~=2.0.0 in /srv/conda/envs/notebook/lib/python3.7/site-packages (from requests>=2.22.0->u8darts) (2.0.10)\n",
      "Requirement already satisfied: idna<4,>=2.5 in /srv/conda/envs/notebook/lib/python3.7/site-packages (from requests>=2.22.0->u8darts) (3.3)\n",
      "Requirement already satisfied: urllib3<1.27,>=1.21.1 in /srv/conda/envs/notebook/lib/python3.7/site-packages (from requests>=2.22.0->u8darts) (1.26.8)\n",
      "Requirement already satisfied: certifi>=2017.4.17 in /srv/conda/envs/notebook/lib/python3.7/site-packages (from requests>=2.22.0->u8darts) (2021.10.8)\n",
      "Collecting threadpoolctl>=2.0.0\n",
      "  Using cached threadpoolctl-3.1.0-py3-none-any.whl (14 kB)\n",
      "Collecting patsy>=0.5.2\n",
      "  Using cached patsy-0.5.2-py2.py3-none-any.whl (233 kB)\n",
      "Requirement already satisfied: typing-extensions>=3.7 in /srv/conda/envs/notebook/lib/python3.7/site-packages (from xarray>=0.17.0->u8darts) (4.0.1)\n",
      "Requirement already satisfied: importlib-metadata in /srv/conda/envs/notebook/lib/python3.7/site-packages (from xarray>=0.17.0->u8darts) (4.2.0)\n",
      "Collecting pymeeus<=1,>=0.3.13\n",
      "  Using cached PyMeeus-0.5.11-py3-none-any.whl\n",
      "Requirement already satisfied: parso<0.9.0,>=0.8.0 in /srv/conda/envs/notebook/lib/python3.7/site-packages (from jedi>=0.16->ipython>=7.0.0->u8darts) (0.8.3)\n",
      "Requirement already satisfied: six in /srv/conda/envs/notebook/lib/python3.7/site-packages (from patsy>=0.5.2->statsmodels>=0.13.0->u8darts) (1.16.0)\n",
      "Requirement already satisfied: ptyprocess>=0.5 in /srv/conda/envs/notebook/lib/python3.7/site-packages (from pexpect>4.3->ipython>=7.0.0->u8darts) (0.7.0)\n",
      "Requirement already satisfied: wcwidth in /srv/conda/envs/notebook/lib/python3.7/site-packages (from prompt-toolkit!=3.0.0,!=3.0.1,<3.1.0,>=2.0.0->ipython>=7.0.0->u8darts) (0.2.5)\n",
      "Requirement already satisfied: zipp>=0.5 in /srv/conda/envs/notebook/lib/python3.7/site-packages (from importlib-metadata->xarray>=0.17.0->u8darts) (3.7.0)\n",
      "Installing collected packages: threadpoolctl, scipy, pymeeus, joblib, scikit-learn, patsy, korean-lunar-calendar, hijri-converter, convertdate, xarray, tqdm, statsmodels, nfoursid, lightgbm, holidays, u8darts\n",
      "Successfully installed convertdate-2.4.0 hijri-converter-2.2.3 holidays-0.13 joblib-1.1.0 korean-lunar-calendar-0.2.1 lightgbm-3.3.2 nfoursid-1.0.0 patsy-0.5.2 pymeeus-0.5.11 scikit-learn-1.0.2 scipy-1.7.3 statsmodels-0.13.2 threadpoolctl-3.1.0 tqdm-4.64.0 u8darts-0.18.0 xarray-0.20.2\n",
      "Note: you may need to restart the kernel to use updated packages.\n"
     ]
    }
   ],
   "source": [
    "%pip install u8darts"
   ]
  },
  {
   "cell_type": "code",
   "execution_count": 10,
   "metadata": {
    "execution": {
     "iopub.execute_input": "2022-04-13T13:46:08.365350Z",
     "iopub.status.busy": "2022-04-13T13:46:08.365201Z",
     "iopub.status.idle": "2022-04-13T13:46:09.307726Z",
     "shell.execute_reply": "2022-04-13T13:46:09.307295Z",
     "shell.execute_reply.started": "2022-04-13T13:46:08.365334Z"
    }
   },
   "outputs": [],
   "source": [
    "import darts"
   ]
  },
  {
   "cell_type": "markdown",
   "metadata": {},
   "source": [
    "#### Si on utilise conda/mini-conda (c'est le cas ici):\n",
    "[Documentations officielle](https://docs.conda.io/projects/conda/en/latest/user-guide/tasks/manage-pkgs.html)"
   ]
  },
  {
   "cell_type": "markdown",
   "metadata": {},
   "source": [
    "1- Essayer d'installer via la commande `conda install nom_du_package`\n",
    "2- Si le package n'existe pas, essayer de voir s'il existe via conda-forge\n",
    "3- Si le package n'est pas soutenu sur conda forge, l'installer via `pip install nom_du_package`\n",
    "4- Si le package n'est pas sur pypy "
   ]
  },
  {
   "cell_type": "markdown",
   "metadata": {},
   "source": [
    "#### Si le package n'est pas dispnible via `pip install nom_du_package` (le package n'est pas sur PyPI -- The Python Package Index):\n",
    "1. Si le package est sur github/gitlab/autre (et qu'il y a un `setup.py` ou un `pyproject.toml`), on peut soit:\n",
    "    1. Le cloner (git clone), se mettre dans le dossier puis faire `pip install -e .`\n",
    "    2. Ou directement via pip:  `pip install git+https://github.com/tangentlabs/django-oscar-paypal.git@issue/34/oscar-0.6` (attention crée un dossier `src` dans le dossier d'où vous exécutez la commande)"
   ]
  },
  {
   "cell_type": "markdown",
   "metadata": {
    "tags": []
   },
   "source": [
    "### Obtenir de l'aide sur un package"
   ]
  },
  {
   "cell_type": "code",
   "execution_count": 11,
   "metadata": {
    "execution": {
     "iopub.execute_input": "2022-04-13T13:46:09.308511Z",
     "iopub.status.busy": "2022-04-13T13:46:09.308370Z",
     "iopub.status.idle": "2022-04-13T13:46:10.527199Z",
     "shell.execute_reply": "2022-04-13T13:46:10.526484Z",
     "shell.execute_reply.started": "2022-04-13T13:46:09.308481Z"
    }
   },
   "outputs": [
    {
     "name": "stdout",
     "output_type": "stream",
     "text": [
      "Requirement already satisfied: pandas in /srv/conda/envs/notebook/lib/python3.7/site-packages (1.3.5)\n",
      "Requirement already satisfied: pytz>=2017.3 in /srv/conda/envs/notebook/lib/python3.7/site-packages (from pandas) (2021.3)\n",
      "Requirement already satisfied: python-dateutil>=2.7.3 in /srv/conda/envs/notebook/lib/python3.7/site-packages (from pandas) (2.8.2)\n",
      "Requirement already satisfied: numpy>=1.17.3 in /srv/conda/envs/notebook/lib/python3.7/site-packages (from pandas) (1.21.6)\n",
      "Requirement already satisfied: six>=1.5 in /srv/conda/envs/notebook/lib/python3.7/site-packages (from python-dateutil>=2.7.3->pandas) (1.16.0)\n",
      "Note: you may need to restart the kernel to use updated packages.\n"
     ]
    }
   ],
   "source": [
    "%pip install pandas "
   ]
  },
  {
   "cell_type": "code",
   "execution_count": 12,
   "metadata": {
    "execution": {
     "iopub.execute_input": "2022-04-13T13:46:10.528336Z",
     "iopub.status.busy": "2022-04-13T13:46:10.528084Z",
     "iopub.status.idle": "2022-04-13T13:46:10.532248Z",
     "shell.execute_reply": "2022-04-13T13:46:10.531729Z",
     "shell.execute_reply.started": "2022-04-13T13:46:10.528306Z"
    },
    "tags": []
   },
   "outputs": [],
   "source": [
    "import pandas"
   ]
  },
  {
   "cell_type": "code",
   "execution_count": 13,
   "metadata": {
    "execution": {
     "iopub.execute_input": "2022-04-13T13:46:10.533093Z",
     "iopub.status.busy": "2022-04-13T13:46:10.532906Z",
     "iopub.status.idle": "2022-04-13T13:46:10.550334Z",
     "shell.execute_reply": "2022-04-13T13:46:10.549855Z",
     "shell.execute_reply.started": "2022-04-13T13:46:10.533073Z"
    },
    "tags": []
   },
   "outputs": [
    {
     "name": "stdout",
     "output_type": "stream",
     "text": [
      "Help on package pandas:\n",
      "\n",
      "NAME\n",
      "    pandas\n",
      "\n",
      "DESCRIPTION\n",
      "    pandas - a powerful data analysis and manipulation library for Python\n",
      "    =====================================================================\n",
      "    \n",
      "    **pandas** is a Python package providing fast, flexible, and expressive data\n",
      "    structures designed to make working with \"relational\" or \"labeled\" data both\n",
      "    easy and intuitive. It aims to be the fundamental high-level building block for\n",
      "    doing practical, **real world** data analysis in Python. Additionally, it has\n",
      "    the broader goal of becoming **the most powerful and flexible open source data\n",
      "    analysis / manipulation tool available in any language**. It is already well on\n",
      "    its way toward this goal.\n",
      "    \n",
      "    Main Features\n",
      "    -------------\n",
      "    Here are just a few of the things that pandas does well:\n",
      "    \n",
      "      - Easy handling of missing data in floating point as well as non-floating\n",
      "        point data.\n",
      "      - Size mutability: columns can be inserted and deleted from DataFrame and\n",
      "        higher dimensional objects\n",
      "      - Automatic and explicit data alignment: objects can be explicitly aligned\n",
      "        to a set of labels, or the user can simply ignore the labels and let\n",
      "        `Series`, `DataFrame`, etc. automatically align the data for you in\n",
      "        computations.\n",
      "      - Powerful, flexible group by functionality to perform split-apply-combine\n",
      "        operations on data sets, for both aggregating and transforming data.\n",
      "      - Make it easy to convert ragged, differently-indexed data in other Python\n",
      "        and NumPy data structures into DataFrame objects.\n",
      "      - Intelligent label-based slicing, fancy indexing, and subsetting of large\n",
      "        data sets.\n",
      "      - Intuitive merging and joining data sets.\n",
      "      - Flexible reshaping and pivoting of data sets.\n",
      "      - Hierarchical labeling of axes (possible to have multiple labels per tick).\n",
      "      - Robust IO tools for loading data from flat files (CSV and delimited),\n",
      "        Excel files, databases, and saving/loading data from the ultrafast HDF5\n",
      "        format.\n",
      "      - Time series-specific functionality: date range generation and frequency\n",
      "        conversion, moving window statistics, date shifting and lagging.\n",
      "\n",
      "PACKAGE CONTENTS\n",
      "    _config (package)\n",
      "    _libs (package)\n",
      "    _testing (package)\n",
      "    _typing\n",
      "    _version\n",
      "    api (package)\n",
      "    arrays (package)\n",
      "    compat (package)\n",
      "    conftest\n",
      "    core (package)\n",
      "    errors (package)\n",
      "    io (package)\n",
      "    plotting (package)\n",
      "    testing\n",
      "    tests (package)\n",
      "    tseries (package)\n",
      "    util (package)\n",
      "\n",
      "SUBMODULES\n",
      "    _hashtable\n",
      "    _lib\n",
      "    _tslib\n",
      "    offsets\n",
      "\n",
      "FUNCTIONS\n",
      "    __getattr__(name)\n",
      "        # GH 27101\n",
      "\n",
      "DATA\n",
      "    IndexSlice = <pandas.core.indexing._IndexSlice object>\n",
      "    NA = <NA>\n",
      "    NaT = NaT\n",
      "    __docformat__ = 'restructuredtext'\n",
      "    __git_version__ = '66e3805b8cabe977f40c05259cc3fcf7ead5687d'\n",
      "    describe_option = <pandas._config.config.CallableDynamicDoc object>\n",
      "    get_option = <pandas._config.config.CallableDynamicDoc object>\n",
      "    options = <pandas._config.config.DictWrapper object>\n",
      "    reset_option = <pandas._config.config.CallableDynamicDoc object>\n",
      "    set_option = <pandas._config.config.CallableDynamicDoc object>\n",
      "\n",
      "VERSION\n",
      "    1.3.5\n",
      "\n",
      "FILE\n",
      "    /srv/conda/envs/notebook/lib/python3.7/site-packages/pandas/__init__.py\n",
      "\n",
      "\n"
     ]
    }
   ],
   "source": [
    "help(pandas)"
   ]
  },
  {
   "cell_type": "markdown",
   "metadata": {
    "tags": []
   },
   "source": [
    "### Ipython"
   ]
  },
  {
   "cell_type": "markdown",
   "metadata": {
    "execution": {
     "iopub.execute_input": "2021-04-27T23:08:42.456207Z",
     "iopub.status.busy": "2021-04-27T23:08:42.456012Z",
     "iopub.status.idle": "2021-04-27T23:08:42.459562Z",
     "shell.execute_reply": "2021-04-27T23:08:42.458930Z",
     "shell.execute_reply.started": "2021-04-27T23:08:42.456185Z"
    }
   },
   "source": [
    "Tutoriel Ipython : https://github.com/ipython/ipython-in-depth/tree/7e5ce96cc9251083979efdfc393425f1229a4a68"
   ]
  },
  {
   "cell_type": "markdown",
   "metadata": {},
   "source": [
    "Ipython vient avec des commandes magiques !"
   ]
  },
  {
   "cell_type": "markdown",
   "metadata": {},
   "source": [
    "The IPyhton 'magic' functions are a set of commands, invoked by prepending one or two `%` signs to their name, that live in a namespace separate from your normal Python variables and provide a more command-like interface.  They take flags with `--` and arguments without quotes, parentheses or commas. The motivation behind this system is two-fold:\n",
    "    \n",
    "- To provide an orthogonal namespace for controlling IPython itself and exposing other system-oriented functionality.\n",
    "\n",
    "- To expose a calling mode that requires minimal verbosity and typing while working interactively.  Thus the inspiration taken from the classic Unix shell style for commands."
   ]
  },
  {
   "cell_type": "code",
   "execution_count": 14,
   "metadata": {
    "execution": {
     "iopub.execute_input": "2022-04-13T13:46:10.551512Z",
     "iopub.status.busy": "2022-04-13T13:46:10.551340Z",
     "iopub.status.idle": "2022-04-13T13:46:10.554658Z",
     "shell.execute_reply": "2022-04-13T13:46:10.554124Z",
     "shell.execute_reply.started": "2022-04-13T13:46:10.551481Z"
    },
    "tags": []
   },
   "outputs": [
    {
     "data": {
      "text/plain": [
       "\n",
       "IPython -- An enhanced Interactive Python\n",
       "=========================================\n",
       "\n",
       "IPython offers a fully compatible replacement for the standard Python\n",
       "interpreter, with convenient shell features, special commands, command\n",
       "history mechanism and output results caching.\n",
       "\n",
       "At your system command line, type 'ipython -h' to see the command line\n",
       "options available. This document only describes interactive features.\n",
       "\n",
       "GETTING HELP\n",
       "------------\n",
       "\n",
       "Within IPython you have various way to access help:\n",
       "\n",
       "  ?         -> Introduction and overview of IPython's features (this screen).\n",
       "  object?   -> Details about 'object'.\n",
       "  object??  -> More detailed, verbose information about 'object'.\n",
       "  %quickref -> Quick reference of all IPython specific syntax and magics.\n",
       "  help      -> Access Python's own help system.\n",
       "\n",
       "If you are in terminal IPython you can quit this screen by pressing `q`.\n",
       "\n",
       "\n",
       "MAIN FEATURES\n",
       "-------------\n",
       "\n",
       "* Access to the standard Python help with object docstrings and the Python\n",
       "  manuals. Simply type 'help' (no quotes) to invoke it.\n",
       "\n",
       "* Magic commands: type %magic for information on the magic subsystem.\n",
       "\n",
       "* System command aliases, via the %alias command or the configuration file(s).\n",
       "\n",
       "* Dynamic object information:\n",
       "\n",
       "  Typing ?word or word? prints detailed information about an object. Certain\n",
       "  long strings (code, etc.) get snipped in the center for brevity.\n",
       "\n",
       "  Typing ??word or word?? gives access to the full information without\n",
       "  snipping long strings. Strings that are longer than the screen are printed\n",
       "  through the less pager.\n",
       "\n",
       "  The ?/?? system gives access to the full source code for any object (if\n",
       "  available), shows function prototypes and other useful information.\n",
       "\n",
       "  If you just want to see an object's docstring, type '%pdoc object' (without\n",
       "  quotes, and without % if you have automagic on).\n",
       "\n",
       "* Tab completion in the local namespace:\n",
       "\n",
       "  At any time, hitting tab will complete any available python commands or\n",
       "  variable names, and show you a list of the possible completions if there's\n",
       "  no unambiguous one. It will also complete filenames in the current directory.\n",
       "\n",
       "* Search previous command history in multiple ways:\n",
       "\n",
       "  - Start typing, and then use arrow keys up/down or (Ctrl-p/Ctrl-n) to search\n",
       "    through the history items that match what you've typed so far.\n",
       "\n",
       "  - Hit Ctrl-r: opens a search prompt. Begin typing and the system searches\n",
       "    your history for lines that match what you've typed so far, completing as\n",
       "    much as it can.\n",
       "\n",
       "  - %hist: search history by index.\n",
       "\n",
       "* Persistent command history across sessions.\n",
       "\n",
       "* Logging of input with the ability to save and restore a working session.\n",
       "\n",
       "* System shell with !. Typing !ls will run 'ls' in the current directory.\n",
       "\n",
       "* The reload command does a 'deep' reload of a module: changes made to the\n",
       "  module since you imported will actually be available without having to exit.\n",
       "\n",
       "* Verbose and colored exception traceback printouts. See the magic xmode and\n",
       "  xcolor functions for details (just type %magic).\n",
       "\n",
       "* Input caching system:\n",
       "\n",
       "  IPython offers numbered prompts (In/Out) with input and output caching. All\n",
       "  input is saved and can be retrieved as variables (besides the usual arrow\n",
       "  key recall).\n",
       "\n",
       "  The following GLOBAL variables always exist (so don't overwrite them!):\n",
       "  _i: stores previous input.\n",
       "  _ii: next previous.\n",
       "  _iii: next-next previous.\n",
       "  _ih : a list of all input _ih[n] is the input from line n.\n",
       "\n",
       "  Additionally, global variables named _i<n> are dynamically created (<n>\n",
       "  being the prompt counter), such that _i<n> == _ih[<n>]\n",
       "\n",
       "  For example, what you typed at prompt 14 is available as _i14 and _ih[14].\n",
       "\n",
       "  You can create macros which contain multiple input lines from this history,\n",
       "  for later re-execution, with the %macro function.\n",
       "\n",
       "  The history function %hist allows you to see any part of your input history\n",
       "  by printing a range of the _i variables. Note that inputs which contain\n",
       "  magic functions (%) appear in the history with a prepended comment. This is\n",
       "  because they aren't really valid Python code, so you can't exec them.\n",
       "\n",
       "* Output caching system:\n",
       "\n",
       "  For output that is returned from actions, a system similar to the input\n",
       "  cache exists but using _ instead of _i. Only actions that produce a result\n",
       "  (NOT assignments, for example) are cached. If you are familiar with\n",
       "  Mathematica, IPython's _ variables behave exactly like Mathematica's %\n",
       "  variables.\n",
       "\n",
       "  The following GLOBAL variables always exist (so don't overwrite them!):\n",
       "  _ (one underscore): previous output.\n",
       "  __ (two underscores): next previous.\n",
       "  ___ (three underscores): next-next previous.\n",
       "\n",
       "  Global variables named _<n> are dynamically created (<n> being the prompt\n",
       "  counter), such that the result of output <n> is always available as _<n>.\n",
       "\n",
       "  Finally, a global dictionary named _oh exists with entries for all lines\n",
       "  which generated output.\n",
       "\n",
       "* Directory history:\n",
       "\n",
       "  Your history of visited directories is kept in the global list _dh, and the\n",
       "  magic %cd command can be used to go to any entry in that list.\n",
       "\n",
       "* Auto-parentheses and auto-quotes (adapted from Nathan Gray's LazyPython)\n",
       "\n",
       "  1. Auto-parentheses\n",
       "        \n",
       "     Callable objects (i.e. functions, methods, etc) can be invoked like\n",
       "     this (notice the commas between the arguments)::\n",
       "       \n",
       "         In [1]: callable_ob arg1, arg2, arg3\n",
       "       \n",
       "     and the input will be translated to this::\n",
       "       \n",
       "         callable_ob(arg1, arg2, arg3)\n",
       "       \n",
       "     This feature is off by default (in rare cases it can produce\n",
       "     undesirable side-effects), but you can activate it at the command-line\n",
       "     by starting IPython with `--autocall 1`, set it permanently in your\n",
       "     configuration file, or turn on at runtime with `%autocall 1`.\n",
       "\n",
       "     You can force auto-parentheses by using '/' as the first character\n",
       "     of a line.  For example::\n",
       "       \n",
       "          In [1]: /globals             # becomes 'globals()'\n",
       "       \n",
       "     Note that the '/' MUST be the first character on the line!  This\n",
       "     won't work::\n",
       "       \n",
       "          In [2]: print /globals    # syntax error\n",
       "\n",
       "     In most cases the automatic algorithm should work, so you should\n",
       "     rarely need to explicitly invoke /. One notable exception is if you\n",
       "     are trying to call a function with a list of tuples as arguments (the\n",
       "     parenthesis will confuse IPython)::\n",
       "       \n",
       "          In [1]: zip (1,2,3),(4,5,6)  # won't work\n",
       "       \n",
       "     but this will work::\n",
       "       \n",
       "          In [2]: /zip (1,2,3),(4,5,6)\n",
       "          ------> zip ((1,2,3),(4,5,6))\n",
       "          Out[2]= [(1, 4), (2, 5), (3, 6)]\n",
       "\n",
       "     IPython tells you that it has altered your command line by\n",
       "     displaying the new command line preceded by -->.  e.g.::\n",
       "       \n",
       "          In [18]: callable list\n",
       "          -------> callable (list)\n",
       "\n",
       "  2. Auto-Quoting\n",
       "    \n",
       "     You can force auto-quoting of a function's arguments by using ',' as\n",
       "     the first character of a line.  For example::\n",
       "       \n",
       "          In [1]: ,my_function /home/me   # becomes my_function(\"/home/me\")\n",
       "\n",
       "     If you use ';' instead, the whole argument is quoted as a single\n",
       "     string (while ',' splits on whitespace)::\n",
       "       \n",
       "          In [2]: ,my_function a b c   # becomes my_function(\"a\",\"b\",\"c\")\n",
       "          In [3]: ;my_function a b c   # becomes my_function(\"a b c\")\n",
       "\n",
       "     Note that the ',' MUST be the first character on the line!  This\n",
       "     won't work::\n",
       "       \n",
       "          In [4]: x = ,my_function /home/me    # syntax error\n"
      ]
     },
     "metadata": {},
     "output_type": "display_data"
    }
   ],
   "source": [
    "?"
   ]
  },
  {
   "cell_type": "code",
   "execution_count": 15,
   "metadata": {
    "execution": {
     "iopub.execute_input": "2022-04-13T13:46:10.555590Z",
     "iopub.status.busy": "2022-04-13T13:46:10.555407Z",
     "iopub.status.idle": "2022-04-13T13:46:10.562162Z",
     "shell.execute_reply": "2022-04-13T13:46:10.561518Z",
     "shell.execute_reply.started": "2022-04-13T13:46:10.555569Z"
    },
    "tags": []
   },
   "outputs": [
    {
     "data": {
      "text/plain": [
       "\n",
       "IPython -- An enhanced Interactive Python - Quick Reference Card\n",
       "================================================================\n",
       "\n",
       "obj?, obj??      : Get help, or more help for object (also works as\n",
       "                   ?obj, ??obj).\n",
       "?foo.*abc*       : List names in 'foo' containing 'abc' in them.\n",
       "%magic           : Information about IPython's 'magic' % functions.\n",
       "\n",
       "Magic functions are prefixed by % or %%, and typically take their arguments\n",
       "without parentheses, quotes or even commas for convenience.  Line magics take a\n",
       "single % and cell magics are prefixed with two %%.\n",
       "\n",
       "Example magic function calls:\n",
       "\n",
       "%alias d ls -F   : 'd' is now an alias for 'ls -F'\n",
       "alias d ls -F    : Works if 'alias' not a python name\n",
       "alist = %alias   : Get list of aliases to 'alist'\n",
       "cd /usr/share    : Obvious. cd -<tab> to choose from visited dirs.\n",
       "%cd??            : See help AND source for magic %cd\n",
       "%timeit x=10     : time the 'x=10' statement with high precision.\n",
       "%%timeit x=2**100\n",
       "x**100           : time 'x**100' with a setup of 'x=2**100'; setup code is not\n",
       "                   counted.  This is an example of a cell magic.\n",
       "\n",
       "System commands:\n",
       "\n",
       "!cp a.txt b/     : System command escape, calls os.system()\n",
       "cp a.txt b/      : after %rehashx, most system commands work without !\n",
       "cp ${f}.txt $bar : Variable expansion in magics and system commands\n",
       "files = !ls /usr : Capture system command output\n",
       "files.s, files.l, files.n: \"a b c\", ['a','b','c'], 'a\\nb\\nc'\n",
       "\n",
       "History:\n",
       "\n",
       "_i, _ii, _iii    : Previous, next previous, next next previous input\n",
       "_i4, _ih[2:5]    : Input history line 4, lines 2-4\n",
       "exec(_i81)       : Execute input history line #81 again\n",
       "%rep 81          : Edit input history line #81\n",
       "_, __, ___       : previous, next previous, next next previous output\n",
       "_dh              : Directory history\n",
       "_oh              : Output history\n",
       "%hist            : Command history of current session.\n",
       "%hist -g foo     : Search command history of (almost) all sessions for 'foo'.\n",
       "%hist -g         : Command history of (almost) all sessions.\n",
       "%hist 1/2-8      : Command history containing lines 2-8 of session 1.\n",
       "%hist 1/ ~2/     : Command history of session 1 and 2 sessions before current.\n",
       "%hist ~8/1-~6/5  : Command history from line 1 of 8 sessions ago to\n",
       "                   line 5 of 6 sessions ago.\n",
       "%edit 0/         : Open editor to execute code with history of current session.\n",
       "\n",
       "Autocall:\n",
       "\n",
       "f 1,2            : f(1,2)  # Off by default, enable with %autocall magic.\n",
       "/f 1,2           : f(1,2) (forced autoparen)\n",
       ",f 1 2           : f(\"1\",\"2\")\n",
       ";f 1 2           : f(\"1 2\")\n",
       "\n",
       "Remember: TAB completion works in many contexts, not just file names\n",
       "or python names.\n",
       "\n",
       "The following magic functions are currently available:\n",
       "\n",
       "%alias:\n",
       "    Define an alias for a system command.\n",
       "%alias_magic:\n",
       "    ::\n",
       "%autoawait:\n",
       "    \n",
       "%autocall:\n",
       "    Make functions callable without having to type parentheses.\n",
       "%automagic:\n",
       "    Make magic functions callable without having to type the initial %.\n",
       "%autosave:\n",
       "    Set the autosave interval in the notebook (in seconds).\n",
       "%bookmark:\n",
       "    Manage IPython's bookmark system.\n",
       "%cat:\n",
       "    Alias for `!cat`\n",
       "%cd:\n",
       "    Change the current working directory.\n",
       "%clear:\n",
       "    Clear the terminal.\n",
       "%colors:\n",
       "    Switch color scheme for prompts, info system and exception handlers.\n",
       "%conda:\n",
       "    Run the conda package manager within the current kernel.\n",
       "%config:\n",
       "    configure IPython\n",
       "%connect_info:\n",
       "    Print information for connecting other clients to this kernel\n",
       "%cp:\n",
       "    Alias for `!cp`\n",
       "%debug:\n",
       "    ::\n",
       "%dhist:\n",
       "    Print your history of visited directories.\n",
       "%dirs:\n",
       "    Return the current directory stack.\n",
       "%doctest_mode:\n",
       "    Toggle doctest mode on and off.\n",
       "%ed:\n",
       "    Alias for `%edit`.\n",
       "%edit:\n",
       "    Bring up an editor and execute the resulting code.\n",
       "%env:\n",
       "    Get, set, or list environment variables.\n",
       "%gui:\n",
       "    Enable or disable IPython GUI event loop integration.\n",
       "%hist:\n",
       "    Alias for `%history`.\n",
       "%history:\n",
       "    ::\n",
       "%killbgscripts:\n",
       "    Kill all BG processes started by %%script and its family.\n",
       "%ldir:\n",
       "    Alias for `!ls -F -o --color %l | grep /$`\n",
       "%less:\n",
       "    Show a file through the pager.\n",
       "%lf:\n",
       "    Alias for `!ls -F -o --color %l | grep ^-`\n",
       "%lk:\n",
       "    Alias for `!ls -F -o --color %l | grep ^l`\n",
       "%ll:\n",
       "    Alias for `!ls -F -o --color`\n",
       "%load:\n",
       "    Load code into the current frontend.\n",
       "%load_ext:\n",
       "    Load an IPython extension by its module name.\n",
       "%loadpy:\n",
       "    Alias of `%load`\n",
       "%logoff:\n",
       "    Temporarily stop logging.\n",
       "%logon:\n",
       "    Restart logging.\n",
       "%logstart:\n",
       "    Start logging anywhere in a session.\n",
       "%logstate:\n",
       "    Print the status of the logging system.\n",
       "%logstop:\n",
       "    Fully stop logging and close log file.\n",
       "%ls:\n",
       "    Alias for `!ls -F --color`\n",
       "%lsmagic:\n",
       "    List currently available magic functions.\n",
       "%lx:\n",
       "    Alias for `!ls -F -o --color %l | grep ^-..x`\n",
       "%macro:\n",
       "    Define a macro for future re-execution. It accepts ranges of history,\n",
       "%magic:\n",
       "    Print information about the magic function system.\n",
       "%man:\n",
       "    Find the man page for the given command and display in pager.\n",
       "%matplotlib:\n",
       "    ::\n",
       "%mkdir:\n",
       "    Alias for `!mkdir`\n",
       "%more:\n",
       "    Show a file through the pager.\n",
       "%mv:\n",
       "    Alias for `!mv`\n",
       "%notebook:\n",
       "    ::\n",
       "%page:\n",
       "    Pretty print the object and display it through a pager.\n",
       "%pastebin:\n",
       "    Upload code to dpaste.com, returning the URL.\n",
       "%pdb:\n",
       "    Control the automatic calling of the pdb interactive debugger.\n",
       "%pdef:\n",
       "    Print the call signature for any callable object.\n",
       "%pdoc:\n",
       "    Print the docstring for an object.\n",
       "%pfile:\n",
       "    Print (or run through pager) the file where an object is defined.\n",
       "%pinfo:\n",
       "    Provide detailed information about an object.\n",
       "%pinfo2:\n",
       "    Provide extra detailed information about an object.\n",
       "%pip:\n",
       "    Run the pip package manager within the current kernel.\n",
       "%popd:\n",
       "    Change to directory popped off the top of the stack.\n",
       "%pprint:\n",
       "    Toggle pretty printing on/off.\n",
       "%precision:\n",
       "    Set floating point precision for pretty printing.\n",
       "%prun:\n",
       "    Run a statement through the python code profiler.\n",
       "%psearch:\n",
       "    Search for object in namespaces by wildcard.\n",
       "%psource:\n",
       "    Print (or run through pager) the source code for an object.\n",
       "%pushd:\n",
       "    Place the current dir on stack and change directory.\n",
       "%pwd:\n",
       "    Return the current working directory path.\n",
       "%pycat:\n",
       "    Show a syntax-highlighted file through a pager.\n",
       "%pylab:\n",
       "    ::\n",
       "%qtconsole:\n",
       "    Open a qtconsole connected to this kernel.\n",
       "%quickref:\n",
       "    Show a quick reference sheet \n",
       "%recall:\n",
       "    Repeat a command, or get command to input line for editing.\n",
       "%rehashx:\n",
       "    Update the alias table with all executable files in $PATH.\n",
       "%reload_ext:\n",
       "    Reload an IPython extension by its module name.\n",
       "%rep:\n",
       "    Alias for `%recall`.\n",
       "%rerun:\n",
       "    Re-run previous input\n",
       "%reset:\n",
       "    Resets the namespace by removing all names defined by the user, if\n",
       "%reset_selective:\n",
       "    Resets the namespace by removing names defined by the user.\n",
       "%rm:\n",
       "    Alias for `!rm`\n",
       "%rmdir:\n",
       "    Alias for `!rmdir`\n",
       "%run:\n",
       "    Run the named file inside IPython as a program.\n",
       "%save:\n",
       "    Save a set of lines or a macro to a given filename.\n",
       "%sc:\n",
       "    Shell capture - run shell command and capture output (DEPRECATED use !).\n",
       "%set_env:\n",
       "    Set environment variables.  Assumptions are that either \"val\" is a\n",
       "%store:\n",
       "    Lightweight persistence for python variables.\n",
       "%sx:\n",
       "    Shell execute - run shell command and capture output (!! is short-hand).\n",
       "%system:\n",
       "    Shell execute - run shell command and capture output (!! is short-hand).\n",
       "%tb:\n",
       "    Print the last traceback.\n",
       "%time:\n",
       "    Time execution of a Python statement or expression.\n",
       "%timeit:\n",
       "    Time execution of a Python statement or expression\n",
       "%unalias:\n",
       "    Remove an alias\n",
       "%unload_ext:\n",
       "    Unload an IPython extension by its module name.\n",
       "%who:\n",
       "    Print all interactive variables, with some minimal formatting.\n",
       "%who_ls:\n",
       "    Return a sorted list of all interactive variables.\n",
       "%whos:\n",
       "    Like %who, but gives some extra information about each variable.\n",
       "%xdel:\n",
       "    Delete a variable, trying to clear it from anywhere that\n",
       "%xmode:\n",
       "    Switch modes for the exception handlers.\n",
       "%%!:\n",
       "    Shell execute - run shell command and capture output (!! is short-hand).\n",
       "%%HTML:\n",
       "    Alias for `%%html`.\n",
       "%%SVG:\n",
       "    Alias for `%%svg`.\n",
       "%%bash:\n",
       "    %%bash script magic\n",
       "%%capture:\n",
       "    ::\n",
       "%%debug:\n",
       "    ::\n",
       "%%file:\n",
       "    Alias for `%%writefile`.\n",
       "%%html:\n",
       "    ::\n",
       "%%javascript:\n",
       "    Run the cell block of Javascript code\n",
       "%%js:\n",
       "    Run the cell block of Javascript code\n",
       "%%latex:\n",
       "    Render the cell as a block of latex\n",
       "%%markdown:\n",
       "    Render the cell as Markdown text block\n",
       "%%perl:\n",
       "    %%perl script magic\n",
       "%%prun:\n",
       "    Run a statement through the python code profiler.\n",
       "%%pypy:\n",
       "    %%pypy script magic\n",
       "%%python:\n",
       "    %%python script magic\n",
       "%%python2:\n",
       "    %%python2 script magic\n",
       "%%python3:\n",
       "    %%python3 script magic\n",
       "%%ruby:\n",
       "    %%ruby script magic\n",
       "%%script:\n",
       "    ::\n",
       "%%sh:\n",
       "    %%sh script magic\n",
       "%%svg:\n",
       "    Render the cell as an SVG literal\n",
       "%%sx:\n",
       "    Shell execute - run shell command and capture output (!! is short-hand).\n",
       "%%system:\n",
       "    Shell execute - run shell command and capture output (!! is short-hand).\n",
       "%%time:\n",
       "    Time execution of a Python statement or expression.\n",
       "%%timeit:\n",
       "    Time execution of a Python statement or expression\n",
       "%%writefile:\n",
       "    ::\n"
      ]
     },
     "metadata": {},
     "output_type": "display_data"
    }
   ],
   "source": [
    "%quickref"
   ]
  },
  {
   "cell_type": "markdown",
   "metadata": {},
   "source": [
    "`%%time` va permettre de savoir en combien de temps s'exécute une commande"
   ]
  },
  {
   "cell_type": "code",
   "execution_count": 16,
   "metadata": {
    "execution": {
     "iopub.execute_input": "2022-04-13T13:46:10.563370Z",
     "iopub.status.busy": "2022-04-13T13:46:10.563047Z",
     "iopub.status.idle": "2022-04-13T13:46:11.147353Z",
     "shell.execute_reply": "2022-04-13T13:46:11.146688Z",
     "shell.execute_reply.started": "2022-04-13T13:46:10.563340Z"
    },
    "tags": []
   },
   "outputs": [
    {
     "name": "stdout",
     "output_type": "stream",
     "text": [
      "CPU times: user 570 ms, sys: 4.85 ms, total: 574 ms\n",
      "Wall time: 577 ms\n"
     ]
    }
   ],
   "source": [
    "%%time\n",
    "for a in range(10**7):\n",
    "    a*3\n",
    "    "
   ]
  },
  {
   "cell_type": "markdown",
   "metadata": {},
   "source": [
    "`%%timeit` va permettre de savoir en combien de temps en moyenne une commande s'exécute."
   ]
  },
  {
   "cell_type": "code",
   "execution_count": 17,
   "metadata": {
    "execution": {
     "iopub.execute_input": "2022-04-13T13:46:11.148693Z",
     "iopub.status.busy": "2022-04-13T13:46:11.148380Z",
     "iopub.status.idle": "2022-04-13T13:46:13.907528Z",
     "shell.execute_reply": "2022-04-13T13:46:13.906993Z",
     "shell.execute_reply.started": "2022-04-13T13:46:11.148673Z"
    },
    "tags": []
   },
   "outputs": [
    {
     "name": "stdout",
     "output_type": "stream",
     "text": [
      "344 ms ± 9.65 ms per loop (mean ± std. dev. of 7 runs, 1 loop each)\n"
     ]
    }
   ],
   "source": [
    "%%timeit\n",
    "for a in range(10**7):\n",
    "    a*3\n",
    "    "
   ]
  },
  {
   "cell_type": "markdown",
   "metadata": {},
   "source": [
    "#### Executer une commande shell"
   ]
  },
  {
   "cell_type": "markdown",
   "metadata": {},
   "source": [
    "`!` permet d'excuter des commandes du shell"
   ]
  },
  {
   "cell_type": "code",
   "execution_count": 18,
   "metadata": {
    "execution": {
     "iopub.execute_input": "2022-04-13T13:46:13.908419Z",
     "iopub.status.busy": "2022-04-13T13:46:13.908217Z",
     "iopub.status.idle": "2022-04-13T13:46:14.123038Z",
     "shell.execute_reply": "2022-04-13T13:46:14.122446Z",
     "shell.execute_reply.started": "2022-04-13T13:46:13.908390Z"
    },
    "tags": []
   },
   "outputs": [
    {
     "name": "stdout",
     "output_type": "stream",
     "text": [
      "/home/adrienpacifico/python\n"
     ]
    }
   ],
   "source": [
    "!pwd"
   ]
  },
  {
   "cell_type": "code",
   "execution_count": 19,
   "metadata": {
    "execution": {
     "iopub.execute_input": "2022-04-13T13:46:14.123854Z",
     "iopub.status.busy": "2022-04-13T13:46:14.123734Z",
     "iopub.status.idle": "2022-04-13T13:46:14.341537Z",
     "shell.execute_reply": "2022-04-13T13:46:14.341058Z",
     "shell.execute_reply.started": "2022-04-13T13:46:14.123839Z"
    },
    "tags": []
   },
   "outputs": [
    {
     "name": "stdout",
     "output_type": "stream",
     "text": [
      "0-Mettre_en_place_son_environnement_jupyter.ipynb\n",
      "1-python_introduction.ipynb\n",
      "2-zen_of_python.ipynb\n",
      "3-load_modules.ipynb\n",
      "4-Functions.ipynb\n",
      "5-View_vs_copy.ipynb\n",
      "6-assert_et_try_except.ipynb\n",
      "7-os.ipynb\n",
      "8-booléen_et_operateurs.ipynb\n",
      "999-exporter_son_environnement\n",
      "data\n",
      "Introduction.ipynb\n",
      "print_hello.txt\n"
     ]
    }
   ],
   "source": [
    "!ls"
   ]
  },
  {
   "cell_type": "code",
   "execution_count": 20,
   "metadata": {
    "execution": {
     "iopub.execute_input": "2022-04-13T13:46:14.342268Z",
     "iopub.status.busy": "2022-04-13T13:46:14.342153Z",
     "iopub.status.idle": "2022-04-13T13:46:14.551753Z",
     "shell.execute_reply": "2022-04-13T13:46:14.550277Z",
     "shell.execute_reply.started": "2022-04-13T13:46:14.342252Z"
    }
   },
   "outputs": [
    {
     "name": "stdout",
     "output_type": "stream",
     "text": [
      "/bin/bash: sudo: command not found\n"
     ]
    }
   ],
   "source": [
    "!sudo apt-get install ping"
   ]
  },
  {
   "cell_type": "code",
   "execution_count": null,
   "metadata": {
    "execution": {
     "iopub.execute_input": "2022-04-13T13:46:14.552834Z",
     "iopub.status.busy": "2022-04-13T13:46:14.552643Z"
    },
    "tags": []
   },
   "outputs": [
    {
     "name": "stdout",
     "output_type": "stream",
     "text": [
      "PING google.com (216.58.214.174) 56(84) bytes of data.\n",
      "64 bytes from mad01s26-in-f174.1e100.net (216.58.214.174): icmp_seq=1 ttl=107 time=39.9 ms\n",
      "64 bytes from mad01s26-in-f174.1e100.net (216.58.214.174): icmp_seq=2 ttl=107 time=258 ms\n",
      "64 bytes from mad01s26-in-f174.1e100.net (216.58.214.174): icmp_seq=3 ttl=107 time=49.1 ms\n",
      "64 bytes from mad01s26-in-f174.1e100.net (216.58.214.174): icmp_seq=4 ttl=107 time=46.8 ms\n",
      "64 bytes from mad01s26-in-f174.1e100.net (216.58.214.174): icmp_seq=5 ttl=107 time=177 ms\n",
      "64 bytes from mad01s26-in-f174.1e100.net (216.58.214.174): icmp_seq=6 ttl=107 time=34.4 ms\n",
      "64 bytes from mad01s26-in-f174.1e100.net (216.58.214.174): icmp_seq=7 ttl=107 time=266 ms\n",
      "64 bytes from mad01s26-in-f174.1e100.net (216.58.214.174): icmp_seq=8 ttl=107 time=54.2 ms\n",
      "64 bytes from mad01s26-in-f174.1e100.net (216.58.214.174): icmp_seq=9 ttl=107 time=50.9 ms\n",
      "64 bytes from mad01s26-in-f174.1e100.net (216.58.214.174): icmp_seq=10 ttl=107 time=57.6 ms\n",
      "64 bytes from mad01s26-in-f174.1e100.net (216.58.214.174): icmp_seq=11 ttl=107 time=37.4 ms\n",
      "64 bytes from mad01s26-in-f174.1e100.net (216.58.214.174): icmp_seq=12 ttl=107 time=46.3 ms\n",
      "64 bytes from mad01s26-in-f174.1e100.net (216.58.214.174): icmp_seq=13 ttl=107 time=44.8 ms\n",
      "64 bytes from mad01s26-in-f174.1e100.net (216.58.214.174): icmp_seq=14 ttl=107 time=141 ms\n",
      "64 bytes from mad01s26-in-f174.1e100.net (216.58.214.174): icmp_seq=15 ttl=107 time=135 ms\n",
      "64 bytes from mad01s26-in-f174.1e100.net (216.58.214.174): icmp_seq=16 ttl=107 time=158 ms\n",
      "64 bytes from mad01s26-in-f174.1e100.net (216.58.214.174): icmp_seq=17 ttl=107 time=50.8 ms\n",
      "64 bytes from mad01s26-in-f174.1e100.net (216.58.214.174): icmp_seq=18 ttl=107 time=49.2 ms\n",
      "64 bytes from mad01s26-in-f174.1e100.net (216.58.214.174): icmp_seq=19 ttl=107 time=191 ms\n",
      "64 bytes from mad01s26-in-f174.1e100.net (216.58.214.174): icmp_seq=20 ttl=107 time=47.7 ms\n",
      "64 bytes from mad01s26-in-f174.1e100.net (216.58.214.174): icmp_seq=21 ttl=107 time=45.3 ms\n",
      "64 bytes from mad01s26-in-f174.1e100.net (216.58.214.174): icmp_seq=22 ttl=107 time=202 ms\n",
      "64 bytes from mad01s26-in-f174.1e100.net (216.58.214.174): icmp_seq=23 ttl=107 time=217 ms\n",
      "64 bytes from mad01s26-in-f174.1e100.net (216.58.214.174): icmp_seq=24 ttl=107 time=43.3 ms\n",
      "64 bytes from mad01s26-in-f174.1e100.net (216.58.214.174): icmp_seq=25 ttl=107 time=186 ms\n",
      "64 bytes from mad01s26-in-f174.1e100.net (216.58.214.174): icmp_seq=26 ttl=107 time=123 ms\n",
      "64 bytes from mad01s26-in-f174.1e100.net (216.58.214.174): icmp_seq=27 ttl=107 time=69.6 ms\n",
      "64 bytes from mad01s26-in-f174.1e100.net (216.58.214.174): icmp_seq=28 ttl=107 time=48.4 ms\n",
      "64 bytes from mad01s26-in-f174.1e100.net (216.58.214.174): icmp_seq=29 ttl=107 time=76.5 ms\n",
      "64 bytes from mad01s26-in-f174.1e100.net (216.58.214.174): icmp_seq=30 ttl=107 time=99.5 ms\n",
      "64 bytes from mad01s26-in-f174.1e100.net (216.58.214.174): icmp_seq=31 ttl=107 time=55.2 ms\n",
      "64 bytes from mad01s26-in-f174.1e100.net (216.58.214.174): icmp_seq=32 ttl=107 time=184 ms\n",
      "64 bytes from mad01s26-in-f174.1e100.net (216.58.214.174): icmp_seq=33 ttl=107 time=48.1 ms\n",
      "64 bytes from mad01s26-in-f174.1e100.net (216.58.214.174): icmp_seq=34 ttl=107 time=39.0 ms\n",
      "64 bytes from mad01s26-in-f174.1e100.net (216.58.214.174): icmp_seq=35 ttl=107 time=49.6 ms\n",
      "64 bytes from mad01s26-in-f174.1e100.net (216.58.214.174): icmp_seq=36 ttl=107 time=39.6 ms\n",
      "64 bytes from mad01s26-in-f174.1e100.net (216.58.214.174): icmp_seq=37 ttl=107 time=91.5 ms\n"
     ]
    }
   ],
   "source": [
    "!ping google.com"
   ]
  },
  {
   "cell_type": "code",
   "execution_count": null,
   "metadata": {
    "tags": []
   },
   "outputs": [],
   "source": [
    "! ipconfig"
   ]
  },
  {
   "cell_type": "markdown",
   "metadata": {
    "execution": {
     "iopub.execute_input": "2021-04-25T11:15:51.614623Z",
     "iopub.status.busy": "2021-04-25T11:15:51.614353Z",
     "iopub.status.idle": "2021-04-25T11:15:51.618154Z",
     "shell.execute_reply": "2021-04-25T11:15:51.617596Z",
     "shell.execute_reply.started": "2021-04-25T11:15:51.614591Z"
    },
    "tags": []
   },
   "source": [
    "La commande `?`"
   ]
  },
  {
   "cell_type": "code",
   "execution_count": null,
   "metadata": {
    "tags": []
   },
   "outputs": [],
   "source": [
    "?"
   ]
  },
  {
   "cell_type": "code",
   "execution_count": null,
   "metadata": {
    "tags": []
   },
   "outputs": [],
   "source": [
    "import time"
   ]
  },
  {
   "cell_type": "code",
   "execution_count": null,
   "metadata": {
    "tags": []
   },
   "outputs": [],
   "source": [
    "time?"
   ]
  },
  {
   "cell_type": "code",
   "execution_count": null,
   "metadata": {
    "tags": []
   },
   "outputs": [],
   "source": [
    "time.daylight?"
   ]
  },
  {
   "cell_type": "code",
   "execution_count": null,
   "metadata": {},
   "outputs": [],
   "source": [
    "time.daylight"
   ]
  },
  {
   "cell_type": "code",
   "execution_count": null,
   "metadata": {},
   "outputs": [],
   "source": [
    "time.daylight()"
   ]
  },
  {
   "cell_type": "markdown",
   "metadata": {},
   "source": [
    "#### Output history"
   ]
  },
  {
   "cell_type": "code",
   "execution_count": null,
   "metadata": {
    "tags": []
   },
   "outputs": [],
   "source": [
    "2+10"
   ]
  },
  {
   "cell_type": "code",
   "execution_count": null,
   "metadata": {
    "tags": []
   },
   "outputs": [],
   "source": [
    "_ + 5"
   ]
  },
  {
   "cell_type": "code",
   "execution_count": null,
   "metadata": {},
   "outputs": [],
   "source": [
    "\"coucou\""
   ]
  },
  {
   "cell_type": "code",
   "execution_count": null,
   "metadata": {},
   "outputs": [],
   "source": [
    "_"
   ]
  },
  {
   "cell_type": "code",
   "execution_count": null,
   "metadata": {
    "tags": []
   },
   "outputs": [],
   "source": [
    "%history -n 1-5"
   ]
  },
  {
   "cell_type": "code",
   "execution_count": null,
   "metadata": {
    "tags": []
   },
   "outputs": [],
   "source": [
    "_i"
   ]
  },
  {
   "cell_type": "code",
   "execution_count": null,
   "metadata": {
    "tags": []
   },
   "outputs": [],
   "source": [
    "_"
   ]
  },
  {
   "cell_type": "code",
   "execution_count": null,
   "metadata": {
    "tags": []
   },
   "outputs": [],
   "source": [
    "%magic"
   ]
  },
  {
   "cell_type": "code",
   "execution_count": null,
   "metadata": {
    "tags": []
   },
   "outputs": [],
   "source": [
    "%env"
   ]
  },
  {
   "cell_type": "markdown",
   "metadata": {
    "tags": []
   },
   "source": [
    "### Le debugger (ipdb)"
   ]
  },
  {
   "cell_type": "code",
   "execution_count": null,
   "metadata": {
    "tags": []
   },
   "outputs": [],
   "source": [
    "import matplotlib.pyplot as plt"
   ]
  },
  {
   "cell_type": "code",
   "execution_count": null,
   "metadata": {
    "tags": []
   },
   "outputs": [],
   "source": [
    "plt.plot([1,2,4,6], [1,4,5,2])"
   ]
  },
  {
   "cell_type": "code",
   "execution_count": null,
   "metadata": {
    "tags": []
   },
   "outputs": [],
   "source": [
    "plt.plot([1,2,4,6], [1,4,5,2, 8], )"
   ]
  },
  {
   "cell_type": "raw",
   "metadata": {},
   "source": []
  },
  {
   "cell_type": "code",
   "execution_count": null,
   "metadata": {
    "tags": []
   },
   "outputs": [],
   "source": [
    "%debug"
   ]
  },
  {
   "cell_type": "code",
   "execution_count": null,
   "metadata": {
    "tags": []
   },
   "outputs": [],
   "source": [
    "import pdb"
   ]
  },
  {
   "cell_type": "code",
   "execution_count": null,
   "metadata": {
    "tags": []
   },
   "outputs": [],
   "source": [
    "pdb.set_trace()"
   ]
  },
  {
   "cell_type": "markdown",
   "metadata": {
    "tags": []
   },
   "source": [
    "### La pep8, le style et les linter "
   ]
  },
  {
   "cell_type": "markdown",
   "metadata": {},
   "source": [
    "![image.png](data:image/jpeg;base64,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)"
   ]
  },
  {
   "cell_type": "markdown",
   "metadata": {},
   "source": [
    "Pour que le code fonctionne, il faut que la *syntaxe* de python soit respectée.  \n",
    "Pour qu'il soit facilement lisible entre personnes différentes, il est bien de respecter certaines règles de style.\n",
    "\n",
    "La règle officielle est la [pep8](https://peps.python.org/pep-0008/) : [PEP 8 – Style Guide for Python Code](https://peps.python.org/pep-0008/)\n",
    "\n",
    "\n",
    "\n",
    "![image.png](attachment:444a4c58-bda9-455b-b95c-5d132e4f5ce8.png)"
   ]
  },
  {
   "cell_type": "code",
   "execution_count": null,
   "metadata": {},
   "outputs": [],
   "source": [
    "# Wrong:\n",
    "# operators sit far away from their operands\n",
    "income = (\n",
    "    gross_wages\n",
    "    + taxable_interest\n",
    "    + (dividends - qualified_dividends)\n",
    "    - ira_deduction\n",
    "    - student_loan_interest\n",
    ")"
   ]
  },
  {
   "cell_type": "markdown",
   "metadata": {},
   "source": [
    "Il est possible d'activer des linter pour indiquer si le style ou la syntaxe est correcte dans les différents IDE.\n",
    "\n",
    "Sous Jupyter, il n'y a pas de bon linter de disponible pour repérer facilement les erreurs (à part en utilisant [jupyterlab-lsp](https://github.com/jupyter-lsp/jupyterlab-lsp) mais qui a tendance à ralentir parfois fortement les notebooks).\n",
    "\n",
    "Pour respecter le style on peut aussi utiliser des code formatter comme autopep8 ou black.\n",
    "\n",
    "Enfin pour peut utiliser des outils *d'analyse statique de code* qui vont nous indiquer des erreurs de syntaxe, de style, ou des mauvaises pratiques.\n",
    "\n",
    "Un exemple pylint permet de noter votre code !"
   ]
  },
  {
   "cell_type": "markdown",
   "metadata": {},
   "source": [
    "Tous ces outils s'appliquent généralement à des fichiers `.py` mais depuis peu, la librairie `nbqa` permet d'appliquer ceci aux notebooks également !"
   ]
  },
  {
   "cell_type": "code",
   "execution_count": null,
   "metadata": {
    "tags": []
   },
   "outputs": [],
   "source": [
    "!pylint 1-python_introduction.ipynb"
   ]
  },
  {
   "cell_type": "code",
   "execution_count": null,
   "metadata": {},
   "outputs": [],
   "source": [
    "!nbqa flake8 1-python_introduction.ipynb"
   ]
  },
  {
   "cell_type": "code",
   "execution_count": null,
   "metadata": {},
   "outputs": [],
   "source": [
    "%pip install flake8"
   ]
  },
  {
   "cell_type": "code",
   "execution_count": null,
   "metadata": {},
   "outputs": [],
   "source": []
  }
 ],
 "metadata": {
  "kernelspec": {
   "display_name": "Python 3 (ipykernel)",
   "language": "python",
   "name": "python3"
  },
  "language_info": {
   "codemirror_mode": {
    "name": "ipython",
    "version": 3
   },
   "file_extension": ".py",
   "mimetype": "text/x-python",
   "name": "python",
   "nbconvert_exporter": "python",
   "pygments_lexer": "ipython3",
   "version": "3.7.12"
  }
 },
 "nbformat": 4,
 "nbformat_minor": 4
}
