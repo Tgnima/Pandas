{
 "cells": [
  {
   "cell_type": "markdown",
   "id": "0817d456-cd15-4ea0-8511-d19d6fec5f89",
   "metadata": {},
   "source": [
    "### Statsmodels"
   ]
  },
  {
   "cell_type": "code",
   "execution_count": null,
   "id": "939a3587-a642-427d-9526-4b823b67ac16",
   "metadata": {},
   "outputs": [],
   "source": []
  },
  {
   "cell_type": "code",
   "execution_count": 1,
   "id": "7dfa8869-6f1f-411e-a20e-59fe0dbd550e",
   "metadata": {
    "execution": {
     "iopub.execute_input": "2021-04-30T05:01:54.760970Z",
     "iopub.status.busy": "2021-04-30T05:01:54.760844Z",
     "iopub.status.idle": "2021-04-30T05:01:55.426541Z",
     "shell.execute_reply": "2021-04-30T05:01:55.426035Z",
     "shell.execute_reply.started": "2021-04-30T05:01:54.760952Z"
    },
    "tags": []
   },
   "outputs": [],
   "source": [
    "import seaborn as sns"
   ]
  },
  {
   "cell_type": "code",
   "execution_count": 2,
   "id": "249a7368-49c5-49c0-b7ec-474df5d11f6d",
   "metadata": {
    "execution": {
     "iopub.execute_input": "2021-04-30T05:01:55.427273Z",
     "iopub.status.busy": "2021-04-30T05:01:55.427141Z",
     "iopub.status.idle": "2021-04-30T05:01:55.429463Z",
     "shell.execute_reply": "2021-04-30T05:01:55.429006Z",
     "shell.execute_reply.started": "2021-04-30T05:01:55.427256Z"
    },
    "tags": []
   },
   "outputs": [],
   "source": [
    "import statsmodels"
   ]
  },
  {
   "cell_type": "code",
   "execution_count": 3,
   "id": "cacd71e4-d102-40e1-8a98-a7912ff39381",
   "metadata": {
    "execution": {
     "iopub.execute_input": "2021-04-30T05:01:55.430112Z",
     "iopub.status.busy": "2021-04-30T05:01:55.429981Z",
     "iopub.status.idle": "2021-04-30T05:01:55.488148Z",
     "shell.execute_reply": "2021-04-30T05:01:55.487655Z",
     "shell.execute_reply.started": "2021-04-30T05:01:55.430095Z"
    },
    "tags": []
   },
   "outputs": [],
   "source": [
    "import statsmodels.formula.api as smf"
   ]
  },
  {
   "cell_type": "code",
   "execution_count": 4,
   "id": "ff0fdb28-7df5-410a-94e4-716f42f3eb87",
   "metadata": {
    "execution": {
     "iopub.execute_input": "2021-04-30T05:01:55.488933Z",
     "iopub.status.busy": "2021-04-30T05:01:55.488782Z",
     "iopub.status.idle": "2021-04-30T05:01:55.496621Z",
     "shell.execute_reply": "2021-04-30T05:01:55.496098Z",
     "shell.execute_reply.started": "2021-04-30T05:01:55.488915Z"
    },
    "tags": []
   },
   "outputs": [],
   "source": [
    "df = sns.load_dataset(\"titanic\")"
   ]
  },
  {
   "cell_type": "code",
   "execution_count": 5,
   "id": "41e2fd46-f407-4e9a-9b08-842851513f2a",
   "metadata": {
    "execution": {
     "iopub.execute_input": "2021-04-30T05:01:55.497882Z",
     "iopub.status.busy": "2021-04-30T05:01:55.497744Z",
     "iopub.status.idle": "2021-04-30T05:01:55.500539Z",
     "shell.execute_reply": "2021-04-30T05:01:55.500063Z",
     "shell.execute_reply.started": "2021-04-30T05:01:55.497864Z"
    },
    "tags": []
   },
   "outputs": [],
   "source": [
    "df.rename({\"class\":\"classe\"}, axis=1, inplace=True)"
   ]
  },
  {
   "cell_type": "code",
   "execution_count": 6,
   "id": "bfa21c49-553c-4467-86ec-d1d912e77ee5",
   "metadata": {
    "execution": {
     "iopub.execute_input": "2021-04-30T05:01:55.501312Z",
     "iopub.status.busy": "2021-04-30T05:01:55.501170Z",
     "iopub.status.idle": "2021-04-30T05:01:55.527414Z",
     "shell.execute_reply": "2021-04-30T05:01:55.526945Z",
     "shell.execute_reply.started": "2021-04-30T05:01:55.501289Z"
    },
    "tags": []
   },
   "outputs": [
    {
     "data": {
      "text/html": [
       "<div>\n",
       "<style scoped>\n",
       "    .dataframe tbody tr th:only-of-type {\n",
       "        vertical-align: middle;\n",
       "    }\n",
       "\n",
       "    .dataframe tbody tr th {\n",
       "        vertical-align: top;\n",
       "    }\n",
       "\n",
       "    .dataframe thead th {\n",
       "        text-align: right;\n",
       "    }\n",
       "</style>\n",
       "<table border=\"1\" class=\"dataframe\">\n",
       "  <thead>\n",
       "    <tr style=\"text-align: right;\">\n",
       "      <th></th>\n",
       "      <th>survived</th>\n",
       "      <th>pclass</th>\n",
       "      <th>sex</th>\n",
       "      <th>age</th>\n",
       "      <th>sibsp</th>\n",
       "      <th>parch</th>\n",
       "      <th>fare</th>\n",
       "      <th>embarked</th>\n",
       "      <th>classe</th>\n",
       "      <th>who</th>\n",
       "      <th>adult_male</th>\n",
       "      <th>deck</th>\n",
       "      <th>embark_town</th>\n",
       "      <th>alive</th>\n",
       "      <th>alone</th>\n",
       "    </tr>\n",
       "  </thead>\n",
       "  <tbody>\n",
       "    <tr>\n",
       "      <th>0</th>\n",
       "      <td>0</td>\n",
       "      <td>3</td>\n",
       "      <td>male</td>\n",
       "      <td>22.0</td>\n",
       "      <td>1</td>\n",
       "      <td>0</td>\n",
       "      <td>7.2500</td>\n",
       "      <td>S</td>\n",
       "      <td>Third</td>\n",
       "      <td>man</td>\n",
       "      <td>True</td>\n",
       "      <td>NaN</td>\n",
       "      <td>Southampton</td>\n",
       "      <td>no</td>\n",
       "      <td>False</td>\n",
       "    </tr>\n",
       "    <tr>\n",
       "      <th>1</th>\n",
       "      <td>1</td>\n",
       "      <td>1</td>\n",
       "      <td>female</td>\n",
       "      <td>38.0</td>\n",
       "      <td>1</td>\n",
       "      <td>0</td>\n",
       "      <td>71.2833</td>\n",
       "      <td>C</td>\n",
       "      <td>First</td>\n",
       "      <td>woman</td>\n",
       "      <td>False</td>\n",
       "      <td>C</td>\n",
       "      <td>Cherbourg</td>\n",
       "      <td>yes</td>\n",
       "      <td>False</td>\n",
       "    </tr>\n",
       "    <tr>\n",
       "      <th>2</th>\n",
       "      <td>1</td>\n",
       "      <td>3</td>\n",
       "      <td>female</td>\n",
       "      <td>26.0</td>\n",
       "      <td>0</td>\n",
       "      <td>0</td>\n",
       "      <td>7.9250</td>\n",
       "      <td>S</td>\n",
       "      <td>Third</td>\n",
       "      <td>woman</td>\n",
       "      <td>False</td>\n",
       "      <td>NaN</td>\n",
       "      <td>Southampton</td>\n",
       "      <td>yes</td>\n",
       "      <td>True</td>\n",
       "    </tr>\n",
       "    <tr>\n",
       "      <th>3</th>\n",
       "      <td>1</td>\n",
       "      <td>1</td>\n",
       "      <td>female</td>\n",
       "      <td>35.0</td>\n",
       "      <td>1</td>\n",
       "      <td>0</td>\n",
       "      <td>53.1000</td>\n",
       "      <td>S</td>\n",
       "      <td>First</td>\n",
       "      <td>woman</td>\n",
       "      <td>False</td>\n",
       "      <td>C</td>\n",
       "      <td>Southampton</td>\n",
       "      <td>yes</td>\n",
       "      <td>False</td>\n",
       "    </tr>\n",
       "    <tr>\n",
       "      <th>4</th>\n",
       "      <td>0</td>\n",
       "      <td>3</td>\n",
       "      <td>male</td>\n",
       "      <td>35.0</td>\n",
       "      <td>0</td>\n",
       "      <td>0</td>\n",
       "      <td>8.0500</td>\n",
       "      <td>S</td>\n",
       "      <td>Third</td>\n",
       "      <td>man</td>\n",
       "      <td>True</td>\n",
       "      <td>NaN</td>\n",
       "      <td>Southampton</td>\n",
       "      <td>no</td>\n",
       "      <td>True</td>\n",
       "    </tr>\n",
       "    <tr>\n",
       "      <th>...</th>\n",
       "      <td>...</td>\n",
       "      <td>...</td>\n",
       "      <td>...</td>\n",
       "      <td>...</td>\n",
       "      <td>...</td>\n",
       "      <td>...</td>\n",
       "      <td>...</td>\n",
       "      <td>...</td>\n",
       "      <td>...</td>\n",
       "      <td>...</td>\n",
       "      <td>...</td>\n",
       "      <td>...</td>\n",
       "      <td>...</td>\n",
       "      <td>...</td>\n",
       "      <td>...</td>\n",
       "    </tr>\n",
       "    <tr>\n",
       "      <th>886</th>\n",
       "      <td>0</td>\n",
       "      <td>2</td>\n",
       "      <td>male</td>\n",
       "      <td>27.0</td>\n",
       "      <td>0</td>\n",
       "      <td>0</td>\n",
       "      <td>13.0000</td>\n",
       "      <td>S</td>\n",
       "      <td>Second</td>\n",
       "      <td>man</td>\n",
       "      <td>True</td>\n",
       "      <td>NaN</td>\n",
       "      <td>Southampton</td>\n",
       "      <td>no</td>\n",
       "      <td>True</td>\n",
       "    </tr>\n",
       "    <tr>\n",
       "      <th>887</th>\n",
       "      <td>1</td>\n",
       "      <td>1</td>\n",
       "      <td>female</td>\n",
       "      <td>19.0</td>\n",
       "      <td>0</td>\n",
       "      <td>0</td>\n",
       "      <td>30.0000</td>\n",
       "      <td>S</td>\n",
       "      <td>First</td>\n",
       "      <td>woman</td>\n",
       "      <td>False</td>\n",
       "      <td>B</td>\n",
       "      <td>Southampton</td>\n",
       "      <td>yes</td>\n",
       "      <td>True</td>\n",
       "    </tr>\n",
       "    <tr>\n",
       "      <th>888</th>\n",
       "      <td>0</td>\n",
       "      <td>3</td>\n",
       "      <td>female</td>\n",
       "      <td>NaN</td>\n",
       "      <td>1</td>\n",
       "      <td>2</td>\n",
       "      <td>23.4500</td>\n",
       "      <td>S</td>\n",
       "      <td>Third</td>\n",
       "      <td>woman</td>\n",
       "      <td>False</td>\n",
       "      <td>NaN</td>\n",
       "      <td>Southampton</td>\n",
       "      <td>no</td>\n",
       "      <td>False</td>\n",
       "    </tr>\n",
       "    <tr>\n",
       "      <th>889</th>\n",
       "      <td>1</td>\n",
       "      <td>1</td>\n",
       "      <td>male</td>\n",
       "      <td>26.0</td>\n",
       "      <td>0</td>\n",
       "      <td>0</td>\n",
       "      <td>30.0000</td>\n",
       "      <td>C</td>\n",
       "      <td>First</td>\n",
       "      <td>man</td>\n",
       "      <td>True</td>\n",
       "      <td>C</td>\n",
       "      <td>Cherbourg</td>\n",
       "      <td>yes</td>\n",
       "      <td>True</td>\n",
       "    </tr>\n",
       "    <tr>\n",
       "      <th>890</th>\n",
       "      <td>0</td>\n",
       "      <td>3</td>\n",
       "      <td>male</td>\n",
       "      <td>32.0</td>\n",
       "      <td>0</td>\n",
       "      <td>0</td>\n",
       "      <td>7.7500</td>\n",
       "      <td>Q</td>\n",
       "      <td>Third</td>\n",
       "      <td>man</td>\n",
       "      <td>True</td>\n",
       "      <td>NaN</td>\n",
       "      <td>Queenstown</td>\n",
       "      <td>no</td>\n",
       "      <td>True</td>\n",
       "    </tr>\n",
       "  </tbody>\n",
       "</table>\n",
       "<p>891 rows × 15 columns</p>\n",
       "</div>"
      ],
      "text/plain": [
       "     survived  pclass     sex   age  sibsp  parch     fare embarked  classe  \\\n",
       "0           0       3    male  22.0      1      0   7.2500        S   Third   \n",
       "1           1       1  female  38.0      1      0  71.2833        C   First   \n",
       "2           1       3  female  26.0      0      0   7.9250        S   Third   \n",
       "3           1       1  female  35.0      1      0  53.1000        S   First   \n",
       "4           0       3    male  35.0      0      0   8.0500        S   Third   \n",
       "..        ...     ...     ...   ...    ...    ...      ...      ...     ...   \n",
       "886         0       2    male  27.0      0      0  13.0000        S  Second   \n",
       "887         1       1  female  19.0      0      0  30.0000        S   First   \n",
       "888         0       3  female   NaN      1      2  23.4500        S   Third   \n",
       "889         1       1    male  26.0      0      0  30.0000        C   First   \n",
       "890         0       3    male  32.0      0      0   7.7500        Q   Third   \n",
       "\n",
       "       who  adult_male deck  embark_town alive  alone  \n",
       "0      man        True  NaN  Southampton    no  False  \n",
       "1    woman       False    C    Cherbourg   yes  False  \n",
       "2    woman       False  NaN  Southampton   yes   True  \n",
       "3    woman       False    C  Southampton   yes  False  \n",
       "4      man        True  NaN  Southampton    no   True  \n",
       "..     ...         ...  ...          ...   ...    ...  \n",
       "886    man        True  NaN  Southampton    no   True  \n",
       "887  woman       False    B  Southampton   yes   True  \n",
       "888  woman       False  NaN  Southampton    no  False  \n",
       "889    man        True    C    Cherbourg   yes   True  \n",
       "890    man        True  NaN   Queenstown    no   True  \n",
       "\n",
       "[891 rows x 15 columns]"
      ]
     },
     "execution_count": 6,
     "metadata": {},
     "output_type": "execute_result"
    }
   ],
   "source": [
    "df"
   ]
  },
  {
   "cell_type": "markdown",
   "id": "87dc643f-154b-41f0-96cd-ccd024e33569",
   "metadata": {},
   "source": [
    "### Regression linéaire simple avec R style formulas"
   ]
  },
  {
   "cell_type": "code",
   "execution_count": 7,
   "id": "83099c53-c84e-4021-ad32-6e4e2c566d7e",
   "metadata": {
    "execution": {
     "iopub.execute_input": "2021-04-30T05:01:56.253305Z",
     "iopub.status.busy": "2021-04-30T05:01:56.253132Z",
     "iopub.status.idle": "2021-04-30T05:01:56.265377Z",
     "shell.execute_reply": "2021-04-30T05:01:56.264962Z",
     "shell.execute_reply.started": "2021-04-30T05:01:56.253285Z"
    },
    "tags": []
   },
   "outputs": [],
   "source": [
    "results = smf.ols('survived ~ age + sibsp + fare + classe', data=df).fit() # Sibsp - Number of Siblings/Spouses Aboard\n"
   ]
  },
  {
   "cell_type": "code",
   "execution_count": 8,
   "id": "6c401f6d-b367-46f7-8359-0d6b1135c5d1",
   "metadata": {
    "execution": {
     "iopub.execute_input": "2021-04-30T05:01:56.510624Z",
     "iopub.status.busy": "2021-04-30T05:01:56.510441Z",
     "iopub.status.idle": "2021-04-30T05:01:56.522745Z",
     "shell.execute_reply": "2021-04-30T05:01:56.522265Z",
     "shell.execute_reply.started": "2021-04-30T05:01:56.510601Z"
    },
    "tags": []
   },
   "outputs": [
    {
     "data": {
      "text/html": [
       "<table class=\"simpletable\">\n",
       "<caption>OLS Regression Results</caption>\n",
       "<tr>\n",
       "  <th>Dep. Variable:</th>        <td>survived</td>     <th>  R-squared:         </th> <td>   0.190</td>\n",
       "</tr>\n",
       "<tr>\n",
       "  <th>Model:</th>                   <td>OLS</td>       <th>  Adj. R-squared:    </th> <td>   0.184</td>\n",
       "</tr>\n",
       "<tr>\n",
       "  <th>Method:</th>             <td>Least Squares</td>  <th>  F-statistic:       </th> <td>   33.16</td>\n",
       "</tr>\n",
       "<tr>\n",
       "  <th>Date:</th>             <td>Fri, 30 Apr 2021</td> <th>  Prob (F-statistic):</th> <td>1.90e-30</td>\n",
       "</tr>\n",
       "<tr>\n",
       "  <th>Time:</th>                 <td>07:01:56</td>     <th>  Log-Likelihood:    </th> <td> -430.30</td>\n",
       "</tr>\n",
       "<tr>\n",
       "  <th>No. Observations:</th>      <td>   714</td>      <th>  AIC:               </th> <td>   872.6</td>\n",
       "</tr>\n",
       "<tr>\n",
       "  <th>Df Residuals:</th>          <td>   708</td>      <th>  BIC:               </th> <td>   900.0</td>\n",
       "</tr>\n",
       "<tr>\n",
       "  <th>Df Model:</th>              <td>     5</td>      <th>                     </th>     <td> </td>   \n",
       "</tr>\n",
       "<tr>\n",
       "  <th>Covariance Type:</th>      <td>nonrobust</td>    <th>                     </th>     <td> </td>   \n",
       "</tr>\n",
       "</table>\n",
       "<table class=\"simpletable\">\n",
       "<tr>\n",
       "          <td></td>            <th>coef</th>     <th>std err</th>      <th>t</th>      <th>P>|t|</th>  <th>[0.025</th>    <th>0.975]</th>  \n",
       "</tr>\n",
       "<tr>\n",
       "  <th>Intercept</th>        <td>    0.9329</td> <td>    0.074</td> <td>   12.692</td> <td> 0.000</td> <td>    0.789</td> <td>    1.077</td>\n",
       "</tr>\n",
       "<tr>\n",
       "  <th>classe[T.Second]</th> <td>   -0.1938</td> <td>    0.056</td> <td>   -3.480</td> <td> 0.001</td> <td>   -0.303</td> <td>   -0.084</td>\n",
       "</tr>\n",
       "<tr>\n",
       "  <th>classe[T.Third]</th>  <td>   -0.4616</td> <td>    0.054</td> <td>   -8.518</td> <td> 0.000</td> <td>   -0.568</td> <td>   -0.355</td>\n",
       "</tr>\n",
       "<tr>\n",
       "  <th>age</th>              <td>   -0.0087</td> <td>    0.001</td> <td>   -6.650</td> <td> 0.000</td> <td>   -0.011</td> <td>   -0.006</td>\n",
       "</tr>\n",
       "<tr>\n",
       "  <th>sibsp</th>            <td>   -0.0427</td> <td>    0.019</td> <td>   -2.231</td> <td> 0.026</td> <td>   -0.080</td> <td>   -0.005</td>\n",
       "</tr>\n",
       "<tr>\n",
       "  <th>fare</th>             <td>    0.0008</td> <td>    0.000</td> <td>    2.077</td> <td> 0.038</td> <td>  4.6e-05</td> <td>    0.002</td>\n",
       "</tr>\n",
       "</table>\n",
       "<table class=\"simpletable\">\n",
       "<tr>\n",
       "  <th>Omnibus:</th>       <td>258.942</td> <th>  Durbin-Watson:     </th> <td>   1.924</td>\n",
       "</tr>\n",
       "<tr>\n",
       "  <th>Prob(Omnibus):</th> <td> 0.000</td>  <th>  Jarque-Bera (JB):  </th> <td>  49.026</td>\n",
       "</tr>\n",
       "<tr>\n",
       "  <th>Skew:</th>          <td> 0.336</td>  <th>  Prob(JB):          </th> <td>2.26e-11</td>\n",
       "</tr>\n",
       "<tr>\n",
       "  <th>Kurtosis:</th>      <td> 1.906</td>  <th>  Cond. No.          </th> <td>    387.</td>\n",
       "</tr>\n",
       "</table><br/><br/>Notes:<br/>[1] Standard Errors assume that the covariance matrix of the errors is correctly specified."
      ],
      "text/plain": [
       "<class 'statsmodels.iolib.summary.Summary'>\n",
       "\"\"\"\n",
       "                            OLS Regression Results                            \n",
       "==============================================================================\n",
       "Dep. Variable:               survived   R-squared:                       0.190\n",
       "Model:                            OLS   Adj. R-squared:                  0.184\n",
       "Method:                 Least Squares   F-statistic:                     33.16\n",
       "Date:                Fri, 30 Apr 2021   Prob (F-statistic):           1.90e-30\n",
       "Time:                        07:01:56   Log-Likelihood:                -430.30\n",
       "No. Observations:                 714   AIC:                             872.6\n",
       "Df Residuals:                     708   BIC:                             900.0\n",
       "Df Model:                           5                                         \n",
       "Covariance Type:            nonrobust                                         \n",
       "====================================================================================\n",
       "                       coef    std err          t      P>|t|      [0.025      0.975]\n",
       "------------------------------------------------------------------------------------\n",
       "Intercept            0.9329      0.074     12.692      0.000       0.789       1.077\n",
       "classe[T.Second]    -0.1938      0.056     -3.480      0.001      -0.303      -0.084\n",
       "classe[T.Third]     -0.4616      0.054     -8.518      0.000      -0.568      -0.355\n",
       "age                 -0.0087      0.001     -6.650      0.000      -0.011      -0.006\n",
       "sibsp               -0.0427      0.019     -2.231      0.026      -0.080      -0.005\n",
       "fare                 0.0008      0.000      2.077      0.038     4.6e-05       0.002\n",
       "==============================================================================\n",
       "Omnibus:                      258.942   Durbin-Watson:                   1.924\n",
       "Prob(Omnibus):                  0.000   Jarque-Bera (JB):               49.026\n",
       "Skew:                           0.336   Prob(JB):                     2.26e-11\n",
       "Kurtosis:                       1.906   Cond. No.                         387.\n",
       "==============================================================================\n",
       "\n",
       "Notes:\n",
       "[1] Standard Errors assume that the covariance matrix of the errors is correctly specified.\n",
       "\"\"\""
      ]
     },
     "execution_count": 8,
     "metadata": {},
     "output_type": "execute_result"
    }
   ],
   "source": [
    "results.summary()"
   ]
  },
  {
   "cell_type": "markdown",
   "id": "ba55fbd1-edc8-44cc-b8bd-0e27ab9c003d",
   "metadata": {},
   "source": [
    "#### Format classique"
   ]
  },
  {
   "cell_type": "code",
   "execution_count": 9,
   "id": "088d118d-3958-4d7c-bd80-f98ec190a7ad",
   "metadata": {
    "execution": {
     "iopub.execute_input": "2021-04-30T05:01:57.231997Z",
     "iopub.status.busy": "2021-04-30T05:01:57.231828Z",
     "iopub.status.idle": "2021-04-30T05:01:57.234330Z",
     "shell.execute_reply": "2021-04-30T05:01:57.233797Z",
     "shell.execute_reply.started": "2021-04-30T05:01:57.231977Z"
    },
    "tags": []
   },
   "outputs": [],
   "source": [
    "import pandas as pd"
   ]
  },
  {
   "cell_type": "code",
   "execution_count": 10,
   "id": "ac8fa86a-bd88-4606-8d08-daf644dca425",
   "metadata": {
    "execution": {
     "iopub.execute_input": "2021-04-30T05:01:57.677095Z",
     "iopub.status.busy": "2021-04-30T05:01:57.676910Z",
     "iopub.status.idle": "2021-04-30T05:01:57.679968Z",
     "shell.execute_reply": "2021-04-30T05:01:57.679582Z",
     "shell.execute_reply.started": "2021-04-30T05:01:57.677074Z"
    },
    "tags": []
   },
   "outputs": [],
   "source": [
    "classe_dummies = pd.get_dummies(df.classe)"
   ]
  },
  {
   "cell_type": "code",
   "execution_count": 11,
   "id": "5c6c3a3c-5c3f-480b-86b8-efeca444fe6e",
   "metadata": {
    "execution": {
     "iopub.execute_input": "2021-04-30T05:01:57.952367Z",
     "iopub.status.busy": "2021-04-30T05:01:57.952194Z",
     "iopub.status.idle": "2021-04-30T05:01:57.957784Z",
     "shell.execute_reply": "2021-04-30T05:01:57.957400Z",
     "shell.execute_reply.started": "2021-04-30T05:01:57.952347Z"
    },
    "tags": []
   },
   "outputs": [],
   "source": [
    "df = pd.merge(df, classe_dummies, left_index=True, right_index=True)"
   ]
  },
  {
   "cell_type": "code",
   "execution_count": 12,
   "id": "f28580cd-df56-4e99-af15-b8c23776133e",
   "metadata": {
    "execution": {
     "iopub.execute_input": "2021-04-30T05:01:58.170373Z",
     "iopub.status.busy": "2021-04-30T05:01:58.170200Z",
     "iopub.status.idle": "2021-04-30T05:01:58.269942Z",
     "shell.execute_reply": "2021-04-30T05:01:58.269370Z",
     "shell.execute_reply.started": "2021-04-30T05:01:58.170353Z"
    },
    "tags": []
   },
   "outputs": [],
   "source": [
    "import statsmodels.api as sm\n",
    "y = df.dropna().survived\n",
    "X = df.dropna()[[\"age\",\"sibsp\",\"fare\", \"Second\", \"Third\"]]\n",
    "X = sm.add_constant(X)"
   ]
  },
  {
   "cell_type": "code",
   "execution_count": null,
   "id": "fea44ca9-552d-433a-98db-f818ea1d7896",
   "metadata": {
    "tags": []
   },
   "outputs": [],
   "source": []
  },
  {
   "cell_type": "code",
   "execution_count": 13,
   "id": "cee87fbd-d5e3-43e3-8d55-4f6d18ed97ed",
   "metadata": {
    "execution": {
     "iopub.execute_input": "2021-04-30T05:01:59.064629Z",
     "iopub.status.busy": "2021-04-30T05:01:59.064378Z",
     "iopub.status.idle": "2021-04-30T05:01:59.086841Z",
     "shell.execute_reply": "2021-04-30T05:01:59.086350Z",
     "shell.execute_reply.started": "2021-04-30T05:01:59.064597Z"
    },
    "tags": []
   },
   "outputs": [
    {
     "data": {
      "text/html": [
       "<table class=\"simpletable\">\n",
       "<caption>OLS Regression Results</caption>\n",
       "<tr>\n",
       "  <th>Dep. Variable:</th>        <td>survived</td>     <th>  R-squared:         </th> <td>   0.093</td>\n",
       "</tr>\n",
       "<tr>\n",
       "  <th>Model:</th>                   <td>OLS</td>       <th>  Adj. R-squared:    </th> <td>   0.067</td>\n",
       "</tr>\n",
       "<tr>\n",
       "  <th>Method:</th>             <td>Least Squares</td>  <th>  F-statistic:       </th> <td>   3.619</td>\n",
       "</tr>\n",
       "<tr>\n",
       "  <th>Date:</th>             <td>Fri, 30 Apr 2021</td> <th>  Prob (F-statistic):</th>  <td>0.00385</td>\n",
       "</tr>\n",
       "<tr>\n",
       "  <th>Time:</th>                 <td>07:01:59</td>     <th>  Log-Likelihood:    </th> <td> -111.18</td>\n",
       "</tr>\n",
       "<tr>\n",
       "  <th>No. Observations:</th>      <td>   182</td>      <th>  AIC:               </th> <td>   234.4</td>\n",
       "</tr>\n",
       "<tr>\n",
       "  <th>Df Residuals:</th>          <td>   176</td>      <th>  BIC:               </th> <td>   253.6</td>\n",
       "</tr>\n",
       "<tr>\n",
       "  <th>Df Model:</th>              <td>     5</td>      <th>                     </th>     <td> </td>   \n",
       "</tr>\n",
       "<tr>\n",
       "  <th>Covariance Type:</th>      <td>nonrobust</td>    <th>                     </th>     <td> </td>   \n",
       "</tr>\n",
       "</table>\n",
       "<table class=\"simpletable\">\n",
       "<tr>\n",
       "     <td></td>       <th>coef</th>     <th>std err</th>      <th>t</th>      <th>P>|t|</th>  <th>[0.025</th>    <th>0.975]</th>  \n",
       "</tr>\n",
       "<tr>\n",
       "  <th>const</th>  <td>    0.9138</td> <td>    0.115</td> <td>    7.965</td> <td> 0.000</td> <td>    0.687</td> <td>    1.140</td>\n",
       "</tr>\n",
       "<tr>\n",
       "  <th>age</th>    <td>   -0.0078</td> <td>    0.002</td> <td>   -3.328</td> <td> 0.001</td> <td>   -0.012</td> <td>   -0.003</td>\n",
       "</tr>\n",
       "<tr>\n",
       "  <th>sibsp</th>  <td>    0.0193</td> <td>    0.055</td> <td>    0.351</td> <td> 0.726</td> <td>   -0.090</td> <td>    0.128</td>\n",
       "</tr>\n",
       "<tr>\n",
       "  <th>fare</th>   <td>    0.0005</td> <td>    0.000</td> <td>    1.016</td> <td> 0.311</td> <td>   -0.000</td> <td>    0.001</td>\n",
       "</tr>\n",
       "<tr>\n",
       "  <th>Second</th> <td>    0.0662</td> <td>    0.132</td> <td>    0.502</td> <td> 0.616</td> <td>   -0.194</td> <td>    0.326</td>\n",
       "</tr>\n",
       "<tr>\n",
       "  <th>Third</th>  <td>   -0.2595</td> <td>    0.160</td> <td>   -1.625</td> <td> 0.106</td> <td>   -0.575</td> <td>    0.056</td>\n",
       "</tr>\n",
       "</table>\n",
       "<table class=\"simpletable\">\n",
       "<tr>\n",
       "  <th>Omnibus:</th>       <td>74.262</td> <th>  Durbin-Watson:     </th> <td>   1.987</td>\n",
       "</tr>\n",
       "<tr>\n",
       "  <th>Prob(Omnibus):</th> <td> 0.000</td> <th>  Jarque-Bera (JB):  </th> <td>  23.162</td>\n",
       "</tr>\n",
       "<tr>\n",
       "  <th>Skew:</th>          <td>-0.658</td> <th>  Prob(JB):          </th> <td>9.34e-06</td>\n",
       "</tr>\n",
       "<tr>\n",
       "  <th>Kurtosis:</th>      <td> 1.849</td> <th>  Cond. No.          </th> <td>    601.</td>\n",
       "</tr>\n",
       "</table><br/><br/>Notes:<br/>[1] Standard Errors assume that the covariance matrix of the errors is correctly specified."
      ],
      "text/plain": [
       "<class 'statsmodels.iolib.summary.Summary'>\n",
       "\"\"\"\n",
       "                            OLS Regression Results                            \n",
       "==============================================================================\n",
       "Dep. Variable:               survived   R-squared:                       0.093\n",
       "Model:                            OLS   Adj. R-squared:                  0.067\n",
       "Method:                 Least Squares   F-statistic:                     3.619\n",
       "Date:                Fri, 30 Apr 2021   Prob (F-statistic):            0.00385\n",
       "Time:                        07:01:59   Log-Likelihood:                -111.18\n",
       "No. Observations:                 182   AIC:                             234.4\n",
       "Df Residuals:                     176   BIC:                             253.6\n",
       "Df Model:                           5                                         \n",
       "Covariance Type:            nonrobust                                         \n",
       "==============================================================================\n",
       "                 coef    std err          t      P>|t|      [0.025      0.975]\n",
       "------------------------------------------------------------------------------\n",
       "const          0.9138      0.115      7.965      0.000       0.687       1.140\n",
       "age           -0.0078      0.002     -3.328      0.001      -0.012      -0.003\n",
       "sibsp          0.0193      0.055      0.351      0.726      -0.090       0.128\n",
       "fare           0.0005      0.000      1.016      0.311      -0.000       0.001\n",
       "Second         0.0662      0.132      0.502      0.616      -0.194       0.326\n",
       "Third         -0.2595      0.160     -1.625      0.106      -0.575       0.056\n",
       "==============================================================================\n",
       "Omnibus:                       74.262   Durbin-Watson:                   1.987\n",
       "Prob(Omnibus):                  0.000   Jarque-Bera (JB):               23.162\n",
       "Skew:                          -0.658   Prob(JB):                     9.34e-06\n",
       "Kurtosis:                       1.849   Cond. No.                         601.\n",
       "==============================================================================\n",
       "\n",
       "Notes:\n",
       "[1] Standard Errors assume that the covariance matrix of the errors is correctly specified.\n",
       "\"\"\""
      ]
     },
     "execution_count": 13,
     "metadata": {},
     "output_type": "execute_result"
    }
   ],
   "source": [
    "sm.OLS(y, X.dropna()).fit().summary()"
   ]
  },
  {
   "cell_type": "markdown",
   "id": "628b6d6e-00e3-46fd-92f2-105d14604938",
   "metadata": {},
   "source": [
    "## Exercice avec les accidents de la route"
   ]
  },
  {
   "cell_type": "markdown",
   "id": "0a26eb25-ec4b-4c88-8939-4b78ab442f99",
   "metadata": {},
   "source": [
    "1. Récupérer la base de donnée des accidents de la route 2017, 2018, 2019\n",
    "1. Mettre en forme la donnée pour avoir nombre de morts par accident avec la vitesse sur la route\n",
    "1. Faire une regression linéaire en double différence pour voir si le passage à 80 km/h diminue la probabilité d'avoir au moins un mort sur un accident."
   ]
  },
  {
   "cell_type": "markdown",
   "id": "4fe0c791-6c7f-440b-bce0-2aca37d85359",
   "metadata": {
    "execution": {
     "iopub.execute_input": "2022-04-15T00:21:12.861174Z",
     "iopub.status.busy": "2022-04-15T00:21:12.860953Z",
     "iopub.status.idle": "2022-04-15T00:21:12.865173Z",
     "shell.execute_reply": "2022-04-15T00:21:12.864618Z",
     "shell.execute_reply.started": "2022-04-15T00:21:12.861154Z"
    }
   },
   "source": [
    "regression\n",
    "$y = \\alpha + \\beta_0 \\text{Après le 1/07/18} \\\\\n",
    "   + \\beta_1 \\text{route_passe_de_90_a_80} \\\\\n",
    "   + \\beta_2 \\text{route_passe_de_90_a_80} \\times \\text{Après le 1/07/18} + \\epsilon\n",
    "   $"
   ]
  },
  {
   "cell_type": "markdown",
   "id": "6ac229fc-bec2-4027-a9ae-e4e65dfcc631",
   "metadata": {},
   "source": [
    "Les routes qui sont passées de 90 à 80:\n",
    "   1. route à double sens sans séparateur central."
   ]
  },
  {
   "cell_type": "code",
   "execution_count": 9,
   "id": "c58fbfc6-9398-4888-82d4-0509189ef2e6",
   "metadata": {
    "execution": {
     "iopub.execute_input": "2022-04-15T00:34:42.633701Z",
     "iopub.status.busy": "2022-04-15T00:34:42.633523Z",
     "iopub.status.idle": "2022-04-15T00:34:45.492952Z",
     "shell.execute_reply": "2022-04-15T00:34:45.492411Z",
     "shell.execute_reply.started": "2022-04-15T00:34:42.633672Z"
    },
    "tags": []
   },
   "outputs": [],
   "source": [
    "import pandas as pd\n",
    "caracteristiques_2019 = pd.read_csv(\"https://www.data.gouv.fr/fr/datasets/r/e22ba475-45a3-46ac-a0f7-9ca9ed1e283a\", sep=\";\")\n",
    "lieux_2019 = pd.read_csv(\"https://www.data.gouv.fr/fr/datasets/r/2ad65965-36a1-4452-9c08-61a6c874e3e6\", sep = \";\")\n",
    "usagers_2019 = pd.read_csv(\"https://www.data.gouv.fr/fr/datasets/r/36b1b7b3-84b4-4901-9163-59ae8a9e3028\", sep = \";\")\n",
    "vehicules_2019 = pd.read_csv(\"https://www.data.gouv.fr/fr/datasets/r/780cd335-5048-4bd6-a841-105b44eb2667\", sep = \";\")"
   ]
  },
  {
   "cell_type": "code",
   "execution_count": 24,
   "id": "0c657ad0-8638-4ab9-aab3-a07ba3eff375",
   "metadata": {
    "execution": {
     "iopub.execute_input": "2022-04-15T00:36:54.287745Z",
     "iopub.status.busy": "2022-04-15T00:36:54.287523Z",
     "iopub.status.idle": "2022-04-15T00:36:56.135526Z",
     "shell.execute_reply": "2022-04-15T00:36:56.135072Z",
     "shell.execute_reply.started": "2022-04-15T00:36:54.287699Z"
    },
    "tags": []
   },
   "outputs": [
    {
     "name": "stderr",
     "output_type": "stream",
     "text": [
      "/srv/conda/envs/notebook/lib/python3.7/site-packages/IPython/core/interactiveshell.py:3457: DtypeWarning: Columns (2) have mixed types.Specify dtype option on import or set low_memory=False.\n",
      "  exec(code_obj, self.user_global_ns, self.user_ns)\n"
     ]
    }
   ],
   "source": [
    "caracteristiques_2018 = pd.read_csv(\"https://www.data.gouv.fr/fr/datasets/r/6eee0852-cbd7-447e-bd70-37c433029405\", encoding='latin-1', sep=\";\")\n",
    "lieux_2018 = pd.read_csv(\"https://www.data.gouv.fr/fr/datasets/r/d9d65ca1-16a3-4ea3-b7c8-2412c92b69d9\", sep = \",\", low_memory=False)\n",
    "usagers_2018 = pd.read_csv(\"https://www.data.gouv.fr/fr/datasets/r/72b251e1-d5e1-4c46-a1c2-c65f1b26549a\", sep = \",\")\n",
    "vehicules_2018 = pd.read_csv(\"https://www.data.gouv.fr/fr/datasets/r/b4aaeede-1a80-4d76-8f97-543dad479167\", sep = \",\")"
   ]
  },
  {
   "cell_type": "code",
   "execution_count": 63,
   "id": "97410612-0e16-46a9-801e-e4ac29ff350c",
   "metadata": {
    "execution": {
     "iopub.execute_input": "2022-04-15T00:59:25.715971Z",
     "iopub.status.busy": "2022-04-15T00:59:25.715792Z",
     "iopub.status.idle": "2022-04-15T00:59:28.398812Z",
     "shell.execute_reply": "2022-04-15T00:59:28.398320Z",
     "shell.execute_reply.started": "2022-04-15T00:59:25.715942Z"
    },
    "tags": []
   },
   "outputs": [
    {
     "name": "stderr",
     "output_type": "stream",
     "text": [
      "/srv/conda/envs/notebook/lib/python3.7/site-packages/IPython/core/interactiveshell.py:3457: DtypeWarning: Columns (2) have mixed types.Specify dtype option on import or set low_memory=False.\n",
      "  exec(code_obj, self.user_global_ns, self.user_ns)\n"
     ]
    }
   ],
   "source": [
    "caracteristiques_2017 = pd.read_csv(\"https://www.data.gouv.fr/fr/datasets/r/9a7d408b-dd72-4959-ae7d-c854ec505354\", encoding='latin-1', sep=\",\")\n",
    "lieux_2017 = pd.read_csv(\"https://www.data.gouv.fr/fr/datasets/r/9b76a7b6-3eef-4864-b2da-1834417e305c\", sep = \",\")\n",
    "usagers_2017 = pd.read_csv(\"https://www.data.gouv.fr/fr/datasets/r/07bfe612-0ad9-48ef-92d3-f5466f8465fe\", sep = \",\")\n",
    "vehicules_2017 = pd.read_csv(\"https://www.data.gouv.fr/fr/datasets/r/780cd335-5048-4bd6-a841-105b44eb2667\", sep = \";\")"
   ]
  },
  {
   "attachments": {
    "0bf45e3f-ee58-40a7-bcc1-903d40f7e930.png": {
     "image/png": "[encoded data removed]"
    }
   },
   "cell_type": "markdown",
   "id": "7bd0f7a1-5a89-4081-b0a2-fd38b0b6ee7c",
   "metadata": {
    "execution": {
     "iopub.execute_input": "2022-04-15T00:39:27.216281Z",
     "iopub.status.busy": "2022-04-15T00:39:27.216050Z",
     "iopub.status.idle": "2022-04-15T00:39:29.730630Z",
     "shell.execute_reply": "2022-04-15T00:39:29.730097Z",
     "shell.execute_reply.started": "2022-04-15T00:39:27.216249Z"
    },
    "tags": []
   },
   "source": [
    "![image.png](attachment:0bf45e3f-ee58-40a7-bcc1-903d40f7e930.png)"
   ]
  },
  {
   "cell_type": "markdown",
   "id": "93aaec79-edc1-4e06-a30f-935715f8f157",
   "metadata": {},
   "source": [
    "lartpc\n",
    "Largeur du terre-plein central (TPC) s'il existe (en m).  \n",
    "\n",
    "vma\n",
    "Vitesse maximale autorisée sur le lieu et au moment de l’accident.\n",
    "\n",
    "\n",
    "grav\n",
    "Gravité de blessure de l'usager, les usagers accidentés sont classés en trois catégories de\n",
    "victimes plus les indemnes :\n",
    "1 – Indemne\n",
    "2 – Tué\n",
    "3 – Blessé hospitalisé\n",
    "4 – Blessé léger\n",
    "sexe\n",
    "Sexe de l'usager :\n",
    "1 – Masculin\n",
    "2 – Féminin\n",
    "An_nais\n",
    "Année de naissance de l'usager."
   ]
  },
  {
   "cell_type": "code",
   "execution_count": 151,
   "id": "af944573-4c7a-4698-b415-0ac033d88426",
   "metadata": {
    "execution": {
     "iopub.execute_input": "2022-04-15T02:02:19.805179Z",
     "iopub.status.busy": "2022-04-15T02:02:19.805012Z",
     "iopub.status.idle": "2022-04-15T02:02:19.808429Z",
     "shell.execute_reply": "2022-04-15T02:02:19.807854Z",
     "shell.execute_reply.started": "2022-04-15T02:02:19.805163Z"
    },
    "tags": []
   },
   "outputs": [],
   "source": [
    "pd.options.display.max_columns = 999"
   ]
  },
  {
   "cell_type": "code",
   "execution_count": 152,
   "id": "6bbfc1e8-9290-49c4-aef7-e755d81e4a72",
   "metadata": {
    "execution": {
     "iopub.execute_input": "2022-04-15T02:02:20.234265Z",
     "iopub.status.busy": "2022-04-15T02:02:20.234065Z",
     "iopub.status.idle": "2022-04-15T02:02:20.238658Z",
     "shell.execute_reply": "2022-04-15T02:02:20.238007Z",
     "shell.execute_reply.started": "2022-04-15T02:02:20.234241Z"
    },
    "tags": []
   },
   "outputs": [],
   "source": [
    "def prepare_data(caracteristiques, lieux, usagers):\n",
    "     return (\n",
    "            caracteristiques\n",
    "                .merge(lieux, on = [\"Num_Acc\"])\n",
    "                .merge(usagers.query(\"grav == 2\").groupby(\"Num_Acc\").size().rename(\"Mort_bool\"), left_on = \"Num_Acc\", right_index=True, how=\"left\")\n",
    "                .assign(Mort_bool = lambda x: x.Mort_bool.fillna(0))\n",
    "            )"
   ]
  },
  {
   "cell_type": "code",
   "execution_count": 153,
   "id": "ea1eb646-c3a8-46e8-910f-3ed27b011780",
   "metadata": {
    "execution": {
     "iopub.execute_input": "2022-04-15T02:02:21.660443Z",
     "iopub.status.busy": "2022-04-15T02:02:21.660258Z",
     "iopub.status.idle": "2022-04-15T02:02:21.681864Z",
     "shell.execute_reply": "2022-04-15T02:02:21.681280Z",
     "shell.execute_reply.started": "2022-04-15T02:02:21.660426Z"
    },
    "tags": []
   },
   "outputs": [
    {
     "data": {
      "text/html": [
       "<div>\n",
       "<style scoped>\n",
       "    .dataframe tbody tr th:only-of-type {\n",
       "        vertical-align: middle;\n",
       "    }\n",
       "\n",
       "    .dataframe tbody tr th {\n",
       "        vertical-align: top;\n",
       "    }\n",
       "\n",
       "    .dataframe thead th {\n",
       "        text-align: right;\n",
       "    }\n",
       "</style>\n",
       "<table border=\"1\" class=\"dataframe\">\n",
       "  <thead>\n",
       "    <tr style=\"text-align: right;\">\n",
       "      <th></th>\n",
       "      <th>Num_Acc</th>\n",
       "      <th>catr</th>\n",
       "      <th>voie</th>\n",
       "      <th>v1</th>\n",
       "      <th>v2</th>\n",
       "      <th>circ</th>\n",
       "      <th>nbv</th>\n",
       "      <th>pr</th>\n",
       "      <th>pr1</th>\n",
       "      <th>vosp</th>\n",
       "      <th>prof</th>\n",
       "      <th>plan</th>\n",
       "      <th>lartpc</th>\n",
       "      <th>larrout</th>\n",
       "      <th>surf</th>\n",
       "      <th>infra</th>\n",
       "      <th>situ</th>\n",
       "      <th>env1</th>\n",
       "    </tr>\n",
       "  </thead>\n",
       "  <tbody>\n",
       "    <tr>\n",
       "      <th>0</th>\n",
       "      <td>201800000001</td>\n",
       "      <td>3</td>\n",
       "      <td>41</td>\n",
       "      <td>NaN</td>\n",
       "      <td>C</td>\n",
       "      <td>2.0</td>\n",
       "      <td>2.0</td>\n",
       "      <td>NaN</td>\n",
       "      <td>NaN</td>\n",
       "      <td>0.0</td>\n",
       "      <td>1.0</td>\n",
       "      <td>3.0</td>\n",
       "      <td>NaN</td>\n",
       "      <td>NaN</td>\n",
       "      <td>1.0</td>\n",
       "      <td>0.0</td>\n",
       "      <td>1.0</td>\n",
       "      <td>0.0</td>\n",
       "    </tr>\n",
       "    <tr>\n",
       "      <th>1</th>\n",
       "      <td>201800000002</td>\n",
       "      <td>4</td>\n",
       "      <td>41</td>\n",
       "      <td>NaN</td>\n",
       "      <td>D</td>\n",
       "      <td>2.0</td>\n",
       "      <td>2.0</td>\n",
       "      <td>NaN</td>\n",
       "      <td>NaN</td>\n",
       "      <td>0.0</td>\n",
       "      <td>1.0</td>\n",
       "      <td>2.0</td>\n",
       "      <td>NaN</td>\n",
       "      <td>NaN</td>\n",
       "      <td>1.0</td>\n",
       "      <td>0.0</td>\n",
       "      <td>1.0</td>\n",
       "      <td>0.0</td>\n",
       "    </tr>\n",
       "    <tr>\n",
       "      <th>2</th>\n",
       "      <td>201800000003</td>\n",
       "      <td>3</td>\n",
       "      <td>39</td>\n",
       "      <td>NaN</td>\n",
       "      <td>D</td>\n",
       "      <td>2.0</td>\n",
       "      <td>2.0</td>\n",
       "      <td>NaN</td>\n",
       "      <td>NaN</td>\n",
       "      <td>0.0</td>\n",
       "      <td>1.0</td>\n",
       "      <td>1.0</td>\n",
       "      <td>NaN</td>\n",
       "      <td>NaN</td>\n",
       "      <td>1.0</td>\n",
       "      <td>0.0</td>\n",
       "      <td>1.0</td>\n",
       "      <td>0.0</td>\n",
       "    </tr>\n",
       "    <tr>\n",
       "      <th>3</th>\n",
       "      <td>201800000004</td>\n",
       "      <td>3</td>\n",
       "      <td>39</td>\n",
       "      <td>NaN</td>\n",
       "      <td>NaN</td>\n",
       "      <td>2.0</td>\n",
       "      <td>2.0</td>\n",
       "      <td>NaN</td>\n",
       "      <td>NaN</td>\n",
       "      <td>0.0</td>\n",
       "      <td>1.0</td>\n",
       "      <td>1.0</td>\n",
       "      <td>NaN</td>\n",
       "      <td>NaN</td>\n",
       "      <td>1.0</td>\n",
       "      <td>0.0</td>\n",
       "      <td>1.0</td>\n",
       "      <td>0.0</td>\n",
       "    </tr>\n",
       "    <tr>\n",
       "      <th>4</th>\n",
       "      <td>201800000005</td>\n",
       "      <td>4</td>\n",
       "      <td>NaN</td>\n",
       "      <td>NaN</td>\n",
       "      <td>NaN</td>\n",
       "      <td>1.0</td>\n",
       "      <td>1.0</td>\n",
       "      <td>NaN</td>\n",
       "      <td>NaN</td>\n",
       "      <td>0.0</td>\n",
       "      <td>1.0</td>\n",
       "      <td>1.0</td>\n",
       "      <td>NaN</td>\n",
       "      <td>NaN</td>\n",
       "      <td>1.0</td>\n",
       "      <td>0.0</td>\n",
       "      <td>1.0</td>\n",
       "      <td>0.0</td>\n",
       "    </tr>\n",
       "    <tr>\n",
       "      <th>...</th>\n",
       "      <td>...</td>\n",
       "      <td>...</td>\n",
       "      <td>...</td>\n",
       "      <td>...</td>\n",
       "      <td>...</td>\n",
       "      <td>...</td>\n",
       "      <td>...</td>\n",
       "      <td>...</td>\n",
       "      <td>...</td>\n",
       "      <td>...</td>\n",
       "      <td>...</td>\n",
       "      <td>...</td>\n",
       "      <td>...</td>\n",
       "      <td>...</td>\n",
       "      <td>...</td>\n",
       "      <td>...</td>\n",
       "      <td>...</td>\n",
       "      <td>...</td>\n",
       "    </tr>\n",
       "    <tr>\n",
       "      <th>57778</th>\n",
       "      <td>201800057779</td>\n",
       "      <td>4</td>\n",
       "      <td>NaN</td>\n",
       "      <td>NaN</td>\n",
       "      <td>NaN</td>\n",
       "      <td>1.0</td>\n",
       "      <td>1.0</td>\n",
       "      <td>0.0</td>\n",
       "      <td>0.0</td>\n",
       "      <td>0.0</td>\n",
       "      <td>1.0</td>\n",
       "      <td>1.0</td>\n",
       "      <td>NaN</td>\n",
       "      <td>NaN</td>\n",
       "      <td>1.0</td>\n",
       "      <td>0.0</td>\n",
       "      <td>3.0</td>\n",
       "      <td>0.0</td>\n",
       "    </tr>\n",
       "    <tr>\n",
       "      <th>57779</th>\n",
       "      <td>201800057780</td>\n",
       "      <td>2</td>\n",
       "      <td>2</td>\n",
       "      <td>NaN</td>\n",
       "      <td>NaN</td>\n",
       "      <td>0.0</td>\n",
       "      <td>2.0</td>\n",
       "      <td>0.0</td>\n",
       "      <td>0.0</td>\n",
       "      <td>0.0</td>\n",
       "      <td>1.0</td>\n",
       "      <td>1.0</td>\n",
       "      <td>NaN</td>\n",
       "      <td>NaN</td>\n",
       "      <td>1.0</td>\n",
       "      <td>0.0</td>\n",
       "      <td>3.0</td>\n",
       "      <td>0.0</td>\n",
       "    </tr>\n",
       "    <tr>\n",
       "      <th>57780</th>\n",
       "      <td>201800057781</td>\n",
       "      <td>2</td>\n",
       "      <td>1</td>\n",
       "      <td>NaN</td>\n",
       "      <td>NaN</td>\n",
       "      <td>2.0</td>\n",
       "      <td>2.0</td>\n",
       "      <td>0.0</td>\n",
       "      <td>0.0</td>\n",
       "      <td>0.0</td>\n",
       "      <td>1.0</td>\n",
       "      <td>1.0</td>\n",
       "      <td>NaN</td>\n",
       "      <td>NaN</td>\n",
       "      <td>1.0</td>\n",
       "      <td>0.0</td>\n",
       "      <td>3.0</td>\n",
       "      <td>0.0</td>\n",
       "    </tr>\n",
       "    <tr>\n",
       "      <th>57781</th>\n",
       "      <td>201800057782</td>\n",
       "      <td>4</td>\n",
       "      <td>NaN</td>\n",
       "      <td>NaN</td>\n",
       "      <td>NaN</td>\n",
       "      <td>0.0</td>\n",
       "      <td>2.0</td>\n",
       "      <td>0.0</td>\n",
       "      <td>0.0</td>\n",
       "      <td>0.0</td>\n",
       "      <td>2.0</td>\n",
       "      <td>2.0</td>\n",
       "      <td>NaN</td>\n",
       "      <td>NaN</td>\n",
       "      <td>1.0</td>\n",
       "      <td>0.0</td>\n",
       "      <td>3.0</td>\n",
       "      <td>0.0</td>\n",
       "    </tr>\n",
       "    <tr>\n",
       "      <th>57782</th>\n",
       "      <td>201800057783</td>\n",
       "      <td>2</td>\n",
       "      <td>2</td>\n",
       "      <td>NaN</td>\n",
       "      <td>NaN</td>\n",
       "      <td>2.0</td>\n",
       "      <td>2.0</td>\n",
       "      <td>2.0</td>\n",
       "      <td>380.0</td>\n",
       "      <td>0.0</td>\n",
       "      <td>1.0</td>\n",
       "      <td>1.0</td>\n",
       "      <td>NaN</td>\n",
       "      <td>NaN</td>\n",
       "      <td>1.0</td>\n",
       "      <td>0.0</td>\n",
       "      <td>3.0</td>\n",
       "      <td>0.0</td>\n",
       "    </tr>\n",
       "  </tbody>\n",
       "</table>\n",
       "<p>57783 rows × 18 columns</p>\n",
       "</div>"
      ],
      "text/plain": [
       "            Num_Acc  catr voie  v1   v2  circ  nbv   pr    pr1  vosp  prof  \\\n",
       "0      201800000001     3   41 NaN    C   2.0  2.0  NaN    NaN   0.0   1.0   \n",
       "1      201800000002     4   41 NaN    D   2.0  2.0  NaN    NaN   0.0   1.0   \n",
       "2      201800000003     3   39 NaN    D   2.0  2.0  NaN    NaN   0.0   1.0   \n",
       "3      201800000004     3   39 NaN  NaN   2.0  2.0  NaN    NaN   0.0   1.0   \n",
       "4      201800000005     4  NaN NaN  NaN   1.0  1.0  NaN    NaN   0.0   1.0   \n",
       "...             ...   ...  ...  ..  ...   ...  ...  ...    ...   ...   ...   \n",
       "57778  201800057779     4  NaN NaN  NaN   1.0  1.0  0.0    0.0   0.0   1.0   \n",
       "57779  201800057780     2    2 NaN  NaN   0.0  2.0  0.0    0.0   0.0   1.0   \n",
       "57780  201800057781     2    1 NaN  NaN   2.0  2.0  0.0    0.0   0.0   1.0   \n",
       "57781  201800057782     4  NaN NaN  NaN   0.0  2.0  0.0    0.0   0.0   2.0   \n",
       "57782  201800057783     2    2 NaN  NaN   2.0  2.0  2.0  380.0   0.0   1.0   \n",
       "\n",
       "       plan  lartpc  larrout  surf  infra  situ  env1  \n",
       "0       3.0     NaN      NaN   1.0    0.0   1.0   0.0  \n",
       "1       2.0     NaN      NaN   1.0    0.0   1.0   0.0  \n",
       "2       1.0     NaN      NaN   1.0    0.0   1.0   0.0  \n",
       "3       1.0     NaN      NaN   1.0    0.0   1.0   0.0  \n",
       "4       1.0     NaN      NaN   1.0    0.0   1.0   0.0  \n",
       "...     ...     ...      ...   ...    ...   ...   ...  \n",
       "57778   1.0     NaN      NaN   1.0    0.0   3.0   0.0  \n",
       "57779   1.0     NaN      NaN   1.0    0.0   3.0   0.0  \n",
       "57780   1.0     NaN      NaN   1.0    0.0   3.0   0.0  \n",
       "57781   2.0     NaN      NaN   1.0    0.0   3.0   0.0  \n",
       "57782   1.0     NaN      NaN   1.0    0.0   3.0   0.0  \n",
       "\n",
       "[57783 rows x 18 columns]"
      ]
     },
     "execution_count": 153,
     "metadata": {},
     "output_type": "execute_result"
    }
   ],
   "source": [
    "lieux_2018"
   ]
  },
  {
   "cell_type": "code",
   "execution_count": 154,
   "id": "1f6f24bd-2876-4ee3-b52c-368898681fac",
   "metadata": {
    "execution": {
     "iopub.execute_input": "2022-04-15T02:02:22.731124Z",
     "iopub.status.busy": "2022-04-15T02:02:22.730933Z",
     "iopub.status.idle": "2022-04-15T02:02:22.737891Z",
     "shell.execute_reply": "2022-04-15T02:02:22.737443Z",
     "shell.execute_reply.started": "2022-04-15T02:02:22.731108Z"
    },
    "tags": []
   },
   "outputs": [
    {
     "data": {
      "text/plain": [
       " 2.0     106813\n",
       " 4.0      19616\n",
       " 1.0      19522\n",
       " 3.0      12956\n",
       " 0.0       7667\n",
       " 6.0       4389\n",
       " 5.0       2467\n",
       " 8.0       1251\n",
       "-1.0        650\n",
       " 7.0        428\n",
       " 10.0       313\n",
       " 9.0        194\n",
       " 11.0        70\n",
       " 12.0        44\n",
       " 13.0         3\n",
       "Name: nbv, dtype: int64"
      ]
     },
     "execution_count": 154,
     "metadata": {},
     "output_type": "execute_result"
    }
   ],
   "source": [
    "df_accident.nbv.value_counts()"
   ]
  },
  {
   "cell_type": "code",
   "execution_count": 180,
   "id": "cbdd6100-f418-432a-ad7b-0b907110c29a",
   "metadata": {
    "execution": {
     "iopub.execute_input": "2022-04-15T02:08:22.876836Z",
     "iopub.status.busy": "2022-04-15T02:08:22.876605Z",
     "iopub.status.idle": "2022-04-15T02:08:23.290524Z",
     "shell.execute_reply": "2022-04-15T02:08:23.290042Z",
     "shell.execute_reply.started": "2022-04-15T02:08:22.876819Z"
    },
    "tags": []
   },
   "outputs": [
    {
     "data": {
      "text/html": [
       "<table class=\"simpletable\">\n",
       "<caption>OLS Regression Results</caption>\n",
       "<tr>\n",
       "  <th>Dep. Variable:</th>        <td>Mort_bool</td>    <th>  R-squared:         </th> <td>   0.002</td> \n",
       "</tr>\n",
       "<tr>\n",
       "  <th>Model:</th>                   <td>OLS</td>       <th>  Adj. R-squared:    </th> <td>   0.002</td> \n",
       "</tr>\n",
       "<tr>\n",
       "  <th>Method:</th>             <td>Least Squares</td>  <th>  F-statistic:       </th> <td>   105.7</td> \n",
       "</tr>\n",
       "<tr>\n",
       "  <th>Date:</th>             <td>Fri, 15 Apr 2022</td> <th>  Prob (F-statistic):</th> <td>2.38e-68</td> \n",
       "</tr>\n",
       "<tr>\n",
       "  <th>Time:</th>                 <td>02:08:23</td>     <th>  Log-Likelihood:    </th> <td> -8454.3</td> \n",
       "</tr>\n",
       "<tr>\n",
       "  <th>No. Observations:</th>      <td>177324</td>      <th>  AIC:               </th> <td>1.692e+04</td>\n",
       "</tr>\n",
       "<tr>\n",
       "  <th>Df Residuals:</th>          <td>177320</td>      <th>  BIC:               </th> <td>1.696e+04</td>\n",
       "</tr>\n",
       "<tr>\n",
       "  <th>Df Model:</th>              <td>     3</td>      <th>                     </th>     <td> </td>    \n",
       "</tr>\n",
       "<tr>\n",
       "  <th>Covariance Type:</th>      <td>nonrobust</td>    <th>                     </th>     <td> </td>    \n",
       "</tr>\n",
       "</table>\n",
       "<table class=\"simpletable\">\n",
       "<tr>\n",
       "                           <td></td>                             <th>coef</th>     <th>std err</th>      <th>t</th>      <th>P>|t|</th>  <th>[0.025</th>    <th>0.975]</th>  \n",
       "</tr>\n",
       "<tr>\n",
       "  <th>Intercept</th>                                          <td>    0.0577</td> <td>    0.001</td> <td>   66.810</td> <td> 0.000</td> <td>    0.056</td> <td>    0.059</td>\n",
       "</tr>\n",
       "<tr>\n",
       "  <th>after_treatment[T.True]</th>                            <td>   -0.0002</td> <td>    0.001</td> <td>   -0.189</td> <td> 0.850</td> <td>   -0.003</td> <td>    0.002</td>\n",
       "</tr>\n",
       "<tr>\n",
       "  <th>changement_vitesse[T.True]</th>                         <td>    0.0614</td> <td>    0.006</td> <td>   10.218</td> <td> 0.000</td> <td>    0.050</td> <td>    0.073</td>\n",
       "</tr>\n",
       "<tr>\n",
       "  <th>after_treatment[T.True]:changement_vitesse[T.True]</th> <td>    0.0192</td> <td>    0.008</td> <td>    2.355</td> <td> 0.019</td> <td>    0.003</td> <td>    0.035</td>\n",
       "</tr>\n",
       "</table>\n",
       "<table class=\"simpletable\">\n",
       "<tr>\n",
       "  <th>Omnibus:</th>       <td>172191.127</td> <th>  Durbin-Watson:     </th>  <td>   1.880</td>  \n",
       "</tr>\n",
       "<tr>\n",
       "  <th>Prob(Omnibus):</th>   <td> 0.000</td>   <th>  Jarque-Bera (JB):  </th> <td>7841104.395</td>\n",
       "</tr>\n",
       "<tr>\n",
       "  <th>Skew:</th>            <td> 4.855</td>   <th>  Prob(JB):          </th>  <td>    0.00</td>  \n",
       "</tr>\n",
       "<tr>\n",
       "  <th>Kurtosis:</th>        <td>34.096</td>   <th>  Cond. No.          </th>  <td>    18.1</td>  \n",
       "</tr>\n",
       "</table><br/><br/>Notes:<br/>[1] Standard Errors assume that the covariance matrix of the errors is correctly specified."
      ],
      "text/plain": [
       "<class 'statsmodels.iolib.summary.Summary'>\n",
       "\"\"\"\n",
       "                            OLS Regression Results                            \n",
       "==============================================================================\n",
       "Dep. Variable:              Mort_bool   R-squared:                       0.002\n",
       "Model:                            OLS   Adj. R-squared:                  0.002\n",
       "Method:                 Least Squares   F-statistic:                     105.7\n",
       "Date:                Fri, 15 Apr 2022   Prob (F-statistic):           2.38e-68\n",
       "Time:                        02:08:23   Log-Likelihood:                -8454.3\n",
       "No. Observations:              177324   AIC:                         1.692e+04\n",
       "Df Residuals:                  177320   BIC:                         1.696e+04\n",
       "Df Model:                           3                                         \n",
       "Covariance Type:            nonrobust                                         \n",
       "======================================================================================================================\n",
       "                                                         coef    std err          t      P>|t|      [0.025      0.975]\n",
       "----------------------------------------------------------------------------------------------------------------------\n",
       "Intercept                                              0.0577      0.001     66.810      0.000       0.056       0.059\n",
       "after_treatment[T.True]                               -0.0002      0.001     -0.189      0.850      -0.003       0.002\n",
       "changement_vitesse[T.True]                             0.0614      0.006     10.218      0.000       0.050       0.073\n",
       "after_treatment[T.True]:changement_vitesse[T.True]     0.0192      0.008      2.355      0.019       0.003       0.035\n",
       "==============================================================================\n",
       "Omnibus:                   172191.127   Durbin-Watson:                   1.880\n",
       "Prob(Omnibus):                  0.000   Jarque-Bera (JB):          7841104.395\n",
       "Skew:                           4.855   Prob(JB):                         0.00\n",
       "Kurtosis:                      34.096   Cond. No.                         18.1\n",
       "==============================================================================\n",
       "\n",
       "Notes:\n",
       "[1] Standard Errors assume that the covariance matrix of the errors is correctly specified.\n",
       "\"\"\""
      ]
     },
     "execution_count": 180,
     "metadata": {},
     "output_type": "execute_result"
    }
   ],
   "source": [
    "import statsmodels.formula.api as smf\n",
    "df_accident =(\n",
    "    pd.concat([\n",
    "                caracteristiques_2019.pipe(prepare_data, lieux_2019, usagers_2019),\n",
    "                caracteristiques_2018.pipe(prepare_data, lieux_2018, usagers_2018).assign(an = lambda x: pd.to_numeric(\"20\"+ x.an.astype(\"str\"))),\n",
    "                caracteristiques_2017.pipe(prepare_data, lieux_2017, usagers_2017).assign(an = lambda x: pd.to_numeric(\"20\"+ x.an.astype(\"str\"))),\n",
    "                    ]\n",
    "            ).assign(changement_vitesse = lambda x: (\n",
    "                                    (x.lartpc.fillna(0) == 0) # pas de terre plein central\n",
    "                                    & (x.circ == 2) # sens de circulation double\n",
    "                                    # & ((x.vma == 80) | (x.vma == 90)) # limitation de vitesse à 80 ou 90 km/h ##Commenté car on a pas l'info de la vitesse\n",
    "                                    & (x.catr.isin([2])) ## que les routes nationales et départementales\n",
    "                                    & (x.nbv ==2)  ### que si 2 voies de circulation\n",
    "                                    \n",
    "                                    )\n",
    "\n",
    "            ).assign(date =  lambda x: pd.to_datetime(x[[\"an\",\"mois\",\"jour\"]].set_axis([\"year\",\"month\",\"day\"], axis=1))\n",
    "                    )\n",
    "            .assign(after_treatment = lambda x: x.date > pd.Timestamp(2018,7,1))\n",
    ")\n",
    "\n",
    "    \n",
    "smf.ols('Mort_bool ~ after_treatment*changement_vitesse', data=df_accident).fit().summary()\n",
    "    "
   ]
  },
  {
   "cell_type": "code",
   "execution_count": 175,
   "id": "456e0a37-65b8-4406-99f7-e8249d0687a5",
   "metadata": {
    "execution": {
     "iopub.execute_input": "2022-04-15T02:07:00.754535Z",
     "iopub.status.busy": "2022-04-15T02:07:00.754127Z",
     "iopub.status.idle": "2022-04-15T02:07:00.922909Z",
     "shell.execute_reply": "2022-04-15T02:07:00.922208Z",
     "shell.execute_reply.started": "2022-04-15T02:07:00.754498Z"
    },
    "tags": []
   },
   "outputs": [
    {
     "data": {
      "text/plain": [
       "<AxesSubplot:xlabel='date'>"
      ]
     },
     "execution_count": 175,
     "metadata": {},
     "output_type": "execute_result"
    },
    {
     "data": {
      "image/png": "[encoded data removed]",
      "text/plain": [
       "<Figure size 432x288 with 1 Axes>"
      ]
     },
     "metadata": {
      "needs_background": "light"
     },
     "output_type": "display_data"
    }
   ],
   "source": [
    "df_accident.groupby(\"date\").Mort_bool.mean().rolling(30).mean().plot()"
   ]
  },
  {
   "cell_type": "code",
   "execution_count": 157,
   "id": "f1d10d13-b24f-4781-ac8f-5fbbc0555c81",
   "metadata": {
    "execution": {
     "iopub.execute_input": "2022-04-15T02:02:41.199727Z",
     "iopub.status.busy": "2022-04-15T02:02:41.199545Z",
     "iopub.status.idle": "2022-04-15T02:02:41.218638Z",
     "shell.execute_reply": "2022-04-15T02:02:41.218055Z",
     "shell.execute_reply.started": "2022-04-15T02:02:41.199697Z"
    },
    "tags": []
   },
   "outputs": [
    {
     "data": {
      "text/html": [
       "<div>\n",
       "<style scoped>\n",
       "    .dataframe tbody tr th:only-of-type {\n",
       "        vertical-align: middle;\n",
       "    }\n",
       "\n",
       "    .dataframe tbody tr th {\n",
       "        vertical-align: top;\n",
       "    }\n",
       "\n",
       "    .dataframe thead th {\n",
       "        text-align: right;\n",
       "    }\n",
       "</style>\n",
       "<table border=\"1\" class=\"dataframe\">\n",
       "  <thead>\n",
       "    <tr style=\"text-align: right;\">\n",
       "      <th></th>\n",
       "      <th>after_treatment</th>\n",
       "      <th>False</th>\n",
       "      <th>True</th>\n",
       "    </tr>\n",
       "    <tr>\n",
       "      <th>an</th>\n",
       "      <th>changement_vitesse</th>\n",
       "      <th></th>\n",
       "      <th></th>\n",
       "    </tr>\n",
       "  </thead>\n",
       "  <tbody>\n",
       "    <tr>\n",
       "      <th rowspan=\"2\" valign=\"top\">2017</th>\n",
       "      <th>False</th>\n",
       "      <td>0.038674</td>\n",
       "      <td>NaN</td>\n",
       "    </tr>\n",
       "    <tr>\n",
       "      <th>True</th>\n",
       "      <td>0.119870</td>\n",
       "      <td>NaN</td>\n",
       "    </tr>\n",
       "    <tr>\n",
       "      <th rowspan=\"2\" valign=\"top\">2018</th>\n",
       "      <th>False</th>\n",
       "      <td>0.031431</td>\n",
       "      <td>0.034672</td>\n",
       "    </tr>\n",
       "    <tr>\n",
       "      <th>True</th>\n",
       "      <td>0.129307</td>\n",
       "      <td>0.120532</td>\n",
       "    </tr>\n",
       "    <tr>\n",
       "      <th rowspan=\"2\" valign=\"top\">2019</th>\n",
       "      <th>False</th>\n",
       "      <td>NaN</td>\n",
       "      <td>0.034986</td>\n",
       "    </tr>\n",
       "    <tr>\n",
       "      <th>True</th>\n",
       "      <td>NaN</td>\n",
       "      <td>0.122633</td>\n",
       "    </tr>\n",
       "  </tbody>\n",
       "</table>\n",
       "</div>"
      ],
      "text/plain": [
       "after_treatment             False      True\n",
       "an   changement_vitesse                    \n",
       "2017 False               0.038674       NaN\n",
       "     True                0.119870       NaN\n",
       "2018 False               0.031431  0.034672\n",
       "     True                0.129307  0.120532\n",
       "2019 False                    NaN  0.034986\n",
       "     True                     NaN  0.122633"
      ]
     },
     "execution_count": 157,
     "metadata": {},
     "output_type": "execute_result"
    }
   ],
   "source": [
    "df_accident.pivot_table(index = [\"an\", \"changement_vitesse\"], columns = \"after_treatment\", values = \"Mort_bool\", ) "
   ]
  },
  {
   "cell_type": "code",
   "execution_count": 158,
   "id": "c843c7c1-fa91-4019-ab9d-f4c977411a4c",
   "metadata": {
    "execution": {
     "iopub.execute_input": "2022-04-15T02:02:41.601889Z",
     "iopub.status.busy": "2022-04-15T02:02:41.601586Z",
     "iopub.status.idle": "2022-04-15T02:02:41.611722Z",
     "shell.execute_reply": "2022-04-15T02:02:41.611180Z",
     "shell.execute_reply.started": "2022-04-15T02:02:41.601845Z"
    },
    "tags": []
   },
   "outputs": [
    {
     "data": {
      "text/plain": [
       "an    changement_vitesse\n",
       "2017  False                 45276\n",
       "2019  False                 42417\n",
       "2018  False                 41621\n",
       "2019  True                  16423\n",
       "2018  True                  16162\n",
       "2017  True                  15425\n",
       "dtype: int64"
      ]
     },
     "execution_count": 158,
     "metadata": {},
     "output_type": "execute_result"
    }
   ],
   "source": [
    "df_accident.value_counts([\"an\", \"changement_vitesse\"])"
   ]
  },
  {
   "cell_type": "code",
   "execution_count": null,
   "id": "228f4f68-31b9-4373-bd29-3bc214fa6a95",
   "metadata": {},
   "outputs": [],
   "source": []
  }
 ],
 "metadata": {
  "kernelspec": {
   "display_name": "Python 3 (ipykernel)",
   "language": "python",
   "name": "python3"
  },
  "language_info": {
   "codemirror_mode": {
    "name": "ipython",
    "version": 3
   },
   "file_extension": ".py",
   "mimetype": "text/x-python",
   "name": "python",
   "nbconvert_exporter": "python",
   "pygments_lexer": "ipython3",
   "version": "3.7.12"
  }
 },
 "nbformat": 4,
 "nbformat_minor": 5
}
