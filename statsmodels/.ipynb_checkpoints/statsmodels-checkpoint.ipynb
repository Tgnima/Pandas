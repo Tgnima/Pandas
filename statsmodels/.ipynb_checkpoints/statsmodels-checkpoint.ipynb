{
 "cells": [
  {
   "cell_type": "markdown",
   "id": "0817d456-cd15-4ea0-8511-d19d6fec5f89",
   "metadata": {},
   "source": [
    "### Statsmodels"
   ]
  },
  {
   "cell_type": "code",
   "execution_count": null,
   "id": "939a3587-a642-427d-9526-4b823b67ac16",
   "metadata": {},
   "outputs": [],
   "source": []
  },
  {
   "cell_type": "code",
   "execution_count": 1,
   "id": "7dfa8869-6f1f-411e-a20e-59fe0dbd550e",
   "metadata": {
    "execution": {
     "iopub.execute_input": "2021-04-30T05:01:54.760970Z",
     "iopub.status.busy": "2021-04-30T05:01:54.760844Z",
     "iopub.status.idle": "2021-04-30T05:01:55.426541Z",
     "shell.execute_reply": "2021-04-30T05:01:55.426035Z",
     "shell.execute_reply.started": "2021-04-30T05:01:54.760952Z"
    },
    "tags": []
   },
   "outputs": [],
   "source": [
    "import seaborn as sns"
   ]
  },
  {
   "cell_type": "code",
   "execution_count": 2,
   "id": "249a7368-49c5-49c0-b7ec-474df5d11f6d",
   "metadata": {
    "execution": {
     "iopub.execute_input": "2021-04-30T05:01:55.427273Z",
     "iopub.status.busy": "2021-04-30T05:01:55.427141Z",
     "iopub.status.idle": "2021-04-30T05:01:55.429463Z",
     "shell.execute_reply": "2021-04-30T05:01:55.429006Z",
     "shell.execute_reply.started": "2021-04-30T05:01:55.427256Z"
    },
    "tags": []
   },
   "outputs": [],
   "source": [
    "import statsmodels"
   ]
  },
  {
   "cell_type": "code",
   "execution_count": 3,
   "id": "cacd71e4-d102-40e1-8a98-a7912ff39381",
   "metadata": {
    "execution": {
     "iopub.execute_input": "2021-04-30T05:01:55.430112Z",
     "iopub.status.busy": "2021-04-30T05:01:55.429981Z",
     "iopub.status.idle": "2021-04-30T05:01:55.488148Z",
     "shell.execute_reply": "2021-04-30T05:01:55.487655Z",
     "shell.execute_reply.started": "2021-04-30T05:01:55.430095Z"
    },
    "tags": []
   },
   "outputs": [],
   "source": [
    "import statsmodels.formula.api as smf"
   ]
  },
  {
   "cell_type": "code",
   "execution_count": 4,
   "id": "ff0fdb28-7df5-410a-94e4-716f42f3eb87",
   "metadata": {
    "execution": {
     "iopub.execute_input": "2021-04-30T05:01:55.488933Z",
     "iopub.status.busy": "2021-04-30T05:01:55.488782Z",
     "iopub.status.idle": "2021-04-30T05:01:55.496621Z",
     "shell.execute_reply": "2021-04-30T05:01:55.496098Z",
     "shell.execute_reply.started": "2021-04-30T05:01:55.488915Z"
    },
    "tags": []
   },
   "outputs": [],
   "source": [
    "df = sns.load_dataset(\"titanic\")"
   ]
  },
  {
   "cell_type": "code",
   "execution_count": 5,
   "id": "41e2fd46-f407-4e9a-9b08-842851513f2a",
   "metadata": {
    "execution": {
     "iopub.execute_input": "2021-04-30T05:01:55.497882Z",
     "iopub.status.busy": "2021-04-30T05:01:55.497744Z",
     "iopub.status.idle": "2021-04-30T05:01:55.500539Z",
     "shell.execute_reply": "2021-04-30T05:01:55.500063Z",
     "shell.execute_reply.started": "2021-04-30T05:01:55.497864Z"
    },
    "tags": []
   },
   "outputs": [],
   "source": [
    "df.rename({\"class\":\"classe\"}, axis=1, inplace=True)"
   ]
  },
  {
   "cell_type": "code",
   "execution_count": 6,
   "id": "bfa21c49-553c-4467-86ec-d1d912e77ee5",
   "metadata": {
    "execution": {
     "iopub.execute_input": "2021-04-30T05:01:55.501312Z",
     "iopub.status.busy": "2021-04-30T05:01:55.501170Z",
     "iopub.status.idle": "2021-04-30T05:01:55.527414Z",
     "shell.execute_reply": "2021-04-30T05:01:55.526945Z",
     "shell.execute_reply.started": "2021-04-30T05:01:55.501289Z"
    },
    "tags": []
   },
   "outputs": [
    {
     "data": {
      "text/html": [
       "<div>\n",
       "<style scoped>\n",
       "    .dataframe tbody tr th:only-of-type {\n",
       "        vertical-align: middle;\n",
       "    }\n",
       "\n",
       "    .dataframe tbody tr th {\n",
       "        vertical-align: top;\n",
       "    }\n",
       "\n",
       "    .dataframe thead th {\n",
       "        text-align: right;\n",
       "    }\n",
       "</style>\n",
       "<table border=\"1\" class=\"dataframe\">\n",
       "  <thead>\n",
       "    <tr style=\"text-align: right;\">\n",
       "      <th></th>\n",
       "      <th>survived</th>\n",
       "      <th>pclass</th>\n",
       "      <th>sex</th>\n",
       "      <th>age</th>\n",
       "      <th>sibsp</th>\n",
       "      <th>parch</th>\n",
       "      <th>fare</th>\n",
       "      <th>embarked</th>\n",
       "      <th>classe</th>\n",
       "      <th>who</th>\n",
       "      <th>adult_male</th>\n",
       "      <th>deck</th>\n",
       "      <th>embark_town</th>\n",
       "      <th>alive</th>\n",
       "      <th>alone</th>\n",
       "    </tr>\n",
       "  </thead>\n",
       "  <tbody>\n",
       "    <tr>\n",
       "      <th>0</th>\n",
       "      <td>0</td>\n",
       "      <td>3</td>\n",
       "      <td>male</td>\n",
       "      <td>22.0</td>\n",
       "      <td>1</td>\n",
       "      <td>0</td>\n",
       "      <td>7.2500</td>\n",
       "      <td>S</td>\n",
       "      <td>Third</td>\n",
       "      <td>man</td>\n",
       "      <td>True</td>\n",
       "      <td>NaN</td>\n",
       "      <td>Southampton</td>\n",
       "      <td>no</td>\n",
       "      <td>False</td>\n",
       "    </tr>\n",
       "    <tr>\n",
       "      <th>1</th>\n",
       "      <td>1</td>\n",
       "      <td>1</td>\n",
       "      <td>female</td>\n",
       "      <td>38.0</td>\n",
       "      <td>1</td>\n",
       "      <td>0</td>\n",
       "      <td>71.2833</td>\n",
       "      <td>C</td>\n",
       "      <td>First</td>\n",
       "      <td>woman</td>\n",
       "      <td>False</td>\n",
       "      <td>C</td>\n",
       "      <td>Cherbourg</td>\n",
       "      <td>yes</td>\n",
       "      <td>False</td>\n",
       "    </tr>\n",
       "    <tr>\n",
       "      <th>2</th>\n",
       "      <td>1</td>\n",
       "      <td>3</td>\n",
       "      <td>female</td>\n",
       "      <td>26.0</td>\n",
       "      <td>0</td>\n",
       "      <td>0</td>\n",
       "      <td>7.9250</td>\n",
       "      <td>S</td>\n",
       "      <td>Third</td>\n",
       "      <td>woman</td>\n",
       "      <td>False</td>\n",
       "      <td>NaN</td>\n",
       "      <td>Southampton</td>\n",
       "      <td>yes</td>\n",
       "      <td>True</td>\n",
       "    </tr>\n",
       "    <tr>\n",
       "      <th>3</th>\n",
       "      <td>1</td>\n",
       "      <td>1</td>\n",
       "      <td>female</td>\n",
       "      <td>35.0</td>\n",
       "      <td>1</td>\n",
       "      <td>0</td>\n",
       "      <td>53.1000</td>\n",
       "      <td>S</td>\n",
       "      <td>First</td>\n",
       "      <td>woman</td>\n",
       "      <td>False</td>\n",
       "      <td>C</td>\n",
       "      <td>Southampton</td>\n",
       "      <td>yes</td>\n",
       "      <td>False</td>\n",
       "    </tr>\n",
       "    <tr>\n",
       "      <th>4</th>\n",
       "      <td>0</td>\n",
       "      <td>3</td>\n",
       "      <td>male</td>\n",
       "      <td>35.0</td>\n",
       "      <td>0</td>\n",
       "      <td>0</td>\n",
       "      <td>8.0500</td>\n",
       "      <td>S</td>\n",
       "      <td>Third</td>\n",
       "      <td>man</td>\n",
       "      <td>True</td>\n",
       "      <td>NaN</td>\n",
       "      <td>Southampton</td>\n",
       "      <td>no</td>\n",
       "      <td>True</td>\n",
       "    </tr>\n",
       "    <tr>\n",
       "      <th>...</th>\n",
       "      <td>...</td>\n",
       "      <td>...</td>\n",
       "      <td>...</td>\n",
       "      <td>...</td>\n",
       "      <td>...</td>\n",
       "      <td>...</td>\n",
       "      <td>...</td>\n",
       "      <td>...</td>\n",
       "      <td>...</td>\n",
       "      <td>...</td>\n",
       "      <td>...</td>\n",
       "      <td>...</td>\n",
       "      <td>...</td>\n",
       "      <td>...</td>\n",
       "      <td>...</td>\n",
       "    </tr>\n",
       "    <tr>\n",
       "      <th>886</th>\n",
       "      <td>0</td>\n",
       "      <td>2</td>\n",
       "      <td>male</td>\n",
       "      <td>27.0</td>\n",
       "      <td>0</td>\n",
       "      <td>0</td>\n",
       "      <td>13.0000</td>\n",
       "      <td>S</td>\n",
       "      <td>Second</td>\n",
       "      <td>man</td>\n",
       "      <td>True</td>\n",
       "      <td>NaN</td>\n",
       "      <td>Southampton</td>\n",
       "      <td>no</td>\n",
       "      <td>True</td>\n",
       "    </tr>\n",
       "    <tr>\n",
       "      <th>887</th>\n",
       "      <td>1</td>\n",
       "      <td>1</td>\n",
       "      <td>female</td>\n",
       "      <td>19.0</td>\n",
       "      <td>0</td>\n",
       "      <td>0</td>\n",
       "      <td>30.0000</td>\n",
       "      <td>S</td>\n",
       "      <td>First</td>\n",
       "      <td>woman</td>\n",
       "      <td>False</td>\n",
       "      <td>B</td>\n",
       "      <td>Southampton</td>\n",
       "      <td>yes</td>\n",
       "      <td>True</td>\n",
       "    </tr>\n",
       "    <tr>\n",
       "      <th>888</th>\n",
       "      <td>0</td>\n",
       "      <td>3</td>\n",
       "      <td>female</td>\n",
       "      <td>NaN</td>\n",
       "      <td>1</td>\n",
       "      <td>2</td>\n",
       "      <td>23.4500</td>\n",
       "      <td>S</td>\n",
       "      <td>Third</td>\n",
       "      <td>woman</td>\n",
       "      <td>False</td>\n",
       "      <td>NaN</td>\n",
       "      <td>Southampton</td>\n",
       "      <td>no</td>\n",
       "      <td>False</td>\n",
       "    </tr>\n",
       "    <tr>\n",
       "      <th>889</th>\n",
       "      <td>1</td>\n",
       "      <td>1</td>\n",
       "      <td>male</td>\n",
       "      <td>26.0</td>\n",
       "      <td>0</td>\n",
       "      <td>0</td>\n",
       "      <td>30.0000</td>\n",
       "      <td>C</td>\n",
       "      <td>First</td>\n",
       "      <td>man</td>\n",
       "      <td>True</td>\n",
       "      <td>C</td>\n",
       "      <td>Cherbourg</td>\n",
       "      <td>yes</td>\n",
       "      <td>True</td>\n",
       "    </tr>\n",
       "    <tr>\n",
       "      <th>890</th>\n",
       "      <td>0</td>\n",
       "      <td>3</td>\n",
       "      <td>male</td>\n",
       "      <td>32.0</td>\n",
       "      <td>0</td>\n",
       "      <td>0</td>\n",
       "      <td>7.7500</td>\n",
       "      <td>Q</td>\n",
       "      <td>Third</td>\n",
       "      <td>man</td>\n",
       "      <td>True</td>\n",
       "      <td>NaN</td>\n",
       "      <td>Queenstown</td>\n",
       "      <td>no</td>\n",
       "      <td>True</td>\n",
       "    </tr>\n",
       "  </tbody>\n",
       "</table>\n",
       "<p>891 rows × 15 columns</p>\n",
       "</div>"
      ],
      "text/plain": [
       "     survived  pclass     sex   age  sibsp  parch     fare embarked  classe  \\\n",
       "0           0       3    male  22.0      1      0   7.2500        S   Third   \n",
       "1           1       1  female  38.0      1      0  71.2833        C   First   \n",
       "2           1       3  female  26.0      0      0   7.9250        S   Third   \n",
       "3           1       1  female  35.0      1      0  53.1000        S   First   \n",
       "4           0       3    male  35.0      0      0   8.0500        S   Third   \n",
       "..        ...     ...     ...   ...    ...    ...      ...      ...     ...   \n",
       "886         0       2    male  27.0      0      0  13.0000        S  Second   \n",
       "887         1       1  female  19.0      0      0  30.0000        S   First   \n",
       "888         0       3  female   NaN      1      2  23.4500        S   Third   \n",
       "889         1       1    male  26.0      0      0  30.0000        C   First   \n",
       "890         0       3    male  32.0      0      0   7.7500        Q   Third   \n",
       "\n",
       "       who  adult_male deck  embark_town alive  alone  \n",
       "0      man        True  NaN  Southampton    no  False  \n",
       "1    woman       False    C    Cherbourg   yes  False  \n",
       "2    woman       False  NaN  Southampton   yes   True  \n",
       "3    woman       False    C  Southampton   yes  False  \n",
       "4      man        True  NaN  Southampton    no   True  \n",
       "..     ...         ...  ...          ...   ...    ...  \n",
       "886    man        True  NaN  Southampton    no   True  \n",
       "887  woman       False    B  Southampton   yes   True  \n",
       "888  woman       False  NaN  Southampton    no  False  \n",
       "889    man        True    C    Cherbourg   yes   True  \n",
       "890    man        True  NaN   Queenstown    no   True  \n",
       "\n",
       "[891 rows x 15 columns]"
      ]
     },
     "execution_count": 6,
     "metadata": {},
     "output_type": "execute_result"
    }
   ],
   "source": [
    "df"
   ]
  },
  {
   "cell_type": "markdown",
   "id": "87dc643f-154b-41f0-96cd-ccd024e33569",
   "metadata": {},
   "source": [
    "### Regression linéaire simple avec R style formulas"
   ]
  },
  {
   "cell_type": "code",
   "execution_count": 7,
   "id": "83099c53-c84e-4021-ad32-6e4e2c566d7e",
   "metadata": {
    "execution": {
     "iopub.execute_input": "2021-04-30T05:01:56.253305Z",
     "iopub.status.busy": "2021-04-30T05:01:56.253132Z",
     "iopub.status.idle": "2021-04-30T05:01:56.265377Z",
     "shell.execute_reply": "2021-04-30T05:01:56.264962Z",
     "shell.execute_reply.started": "2021-04-30T05:01:56.253285Z"
    },
    "tags": []
   },
   "outputs": [],
   "source": [
    "results = smf.ols('survived ~ age + sibsp + fare + classe', data=df).fit() # Sibsp - Number of Siblings/Spouses Aboard\n"
   ]
  },
  {
   "cell_type": "code",
   "execution_count": 8,
   "id": "6c401f6d-b367-46f7-8359-0d6b1135c5d1",
   "metadata": {
    "execution": {
     "iopub.execute_input": "2021-04-30T05:01:56.510624Z",
     "iopub.status.busy": "2021-04-30T05:01:56.510441Z",
     "iopub.status.idle": "2021-04-30T05:01:56.522745Z",
     "shell.execute_reply": "2021-04-30T05:01:56.522265Z",
     "shell.execute_reply.started": "2021-04-30T05:01:56.510601Z"
    },
    "tags": []
   },
   "outputs": [
    {
     "data": {
      "text/html": [
       "<table class=\"simpletable\">\n",
       "<caption>OLS Regression Results</caption>\n",
       "<tr>\n",
       "  <th>Dep. Variable:</th>        <td>survived</td>     <th>  R-squared:         </th> <td>   0.190</td>\n",
       "</tr>\n",
       "<tr>\n",
       "  <th>Model:</th>                   <td>OLS</td>       <th>  Adj. R-squared:    </th> <td>   0.184</td>\n",
       "</tr>\n",
       "<tr>\n",
       "  <th>Method:</th>             <td>Least Squares</td>  <th>  F-statistic:       </th> <td>   33.16</td>\n",
       "</tr>\n",
       "<tr>\n",
       "  <th>Date:</th>             <td>Fri, 30 Apr 2021</td> <th>  Prob (F-statistic):</th> <td>1.90e-30</td>\n",
       "</tr>\n",
       "<tr>\n",
       "  <th>Time:</th>                 <td>07:01:56</td>     <th>  Log-Likelihood:    </th> <td> -430.30</td>\n",
       "</tr>\n",
       "<tr>\n",
       "  <th>No. Observations:</th>      <td>   714</td>      <th>  AIC:               </th> <td>   872.6</td>\n",
       "</tr>\n",
       "<tr>\n",
       "  <th>Df Residuals:</th>          <td>   708</td>      <th>  BIC:               </th> <td>   900.0</td>\n",
       "</tr>\n",
       "<tr>\n",
       "  <th>Df Model:</th>              <td>     5</td>      <th>                     </th>     <td> </td>   \n",
       "</tr>\n",
       "<tr>\n",
       "  <th>Covariance Type:</th>      <td>nonrobust</td>    <th>                     </th>     <td> </td>   \n",
       "</tr>\n",
       "</table>\n",
       "<table class=\"simpletable\">\n",
       "<tr>\n",
       "          <td></td>            <th>coef</th>     <th>std err</th>      <th>t</th>      <th>P>|t|</th>  <th>[0.025</th>    <th>0.975]</th>  \n",
       "</tr>\n",
       "<tr>\n",
       "  <th>Intercept</th>        <td>    0.9329</td> <td>    0.074</td> <td>   12.692</td> <td> 0.000</td> <td>    0.789</td> <td>    1.077</td>\n",
       "</tr>\n",
       "<tr>\n",
       "  <th>classe[T.Second]</th> <td>   -0.1938</td> <td>    0.056</td> <td>   -3.480</td> <td> 0.001</td> <td>   -0.303</td> <td>   -0.084</td>\n",
       "</tr>\n",
       "<tr>\n",
       "  <th>classe[T.Third]</th>  <td>   -0.4616</td> <td>    0.054</td> <td>   -8.518</td> <td> 0.000</td> <td>   -0.568</td> <td>   -0.355</td>\n",
       "</tr>\n",
       "<tr>\n",
       "  <th>age</th>              <td>   -0.0087</td> <td>    0.001</td> <td>   -6.650</td> <td> 0.000</td> <td>   -0.011</td> <td>   -0.006</td>\n",
       "</tr>\n",
       "<tr>\n",
       "  <th>sibsp</th>            <td>   -0.0427</td> <td>    0.019</td> <td>   -2.231</td> <td> 0.026</td> <td>   -0.080</td> <td>   -0.005</td>\n",
       "</tr>\n",
       "<tr>\n",
       "  <th>fare</th>             <td>    0.0008</td> <td>    0.000</td> <td>    2.077</td> <td> 0.038</td> <td>  4.6e-05</td> <td>    0.002</td>\n",
       "</tr>\n",
       "</table>\n",
       "<table class=\"simpletable\">\n",
       "<tr>\n",
       "  <th>Omnibus:</th>       <td>258.942</td> <th>  Durbin-Watson:     </th> <td>   1.924</td>\n",
       "</tr>\n",
       "<tr>\n",
       "  <th>Prob(Omnibus):</th> <td> 0.000</td>  <th>  Jarque-Bera (JB):  </th> <td>  49.026</td>\n",
       "</tr>\n",
       "<tr>\n",
       "  <th>Skew:</th>          <td> 0.336</td>  <th>  Prob(JB):          </th> <td>2.26e-11</td>\n",
       "</tr>\n",
       "<tr>\n",
       "  <th>Kurtosis:</th>      <td> 1.906</td>  <th>  Cond. No.          </th> <td>    387.</td>\n",
       "</tr>\n",
       "</table><br/><br/>Notes:<br/>[1] Standard Errors assume that the covariance matrix of the errors is correctly specified."
      ],
      "text/plain": [
       "<class 'statsmodels.iolib.summary.Summary'>\n",
       "\"\"\"\n",
       "                            OLS Regression Results                            \n",
       "==============================================================================\n",
       "Dep. Variable:               survived   R-squared:                       0.190\n",
       "Model:                            OLS   Adj. R-squared:                  0.184\n",
       "Method:                 Least Squares   F-statistic:                     33.16\n",
       "Date:                Fri, 30 Apr 2021   Prob (F-statistic):           1.90e-30\n",
       "Time:                        07:01:56   Log-Likelihood:                -430.30\n",
       "No. Observations:                 714   AIC:                             872.6\n",
       "Df Residuals:                     708   BIC:                             900.0\n",
       "Df Model:                           5                                         \n",
       "Covariance Type:            nonrobust                                         \n",
       "====================================================================================\n",
       "                       coef    std err          t      P>|t|      [0.025      0.975]\n",
       "------------------------------------------------------------------------------------\n",
       "Intercept            0.9329      0.074     12.692      0.000       0.789       1.077\n",
       "classe[T.Second]    -0.1938      0.056     -3.480      0.001      -0.303      -0.084\n",
       "classe[T.Third]     -0.4616      0.054     -8.518      0.000      -0.568      -0.355\n",
       "age                 -0.0087      0.001     -6.650      0.000      -0.011      -0.006\n",
       "sibsp               -0.0427      0.019     -2.231      0.026      -0.080      -0.005\n",
       "fare                 0.0008      0.000      2.077      0.038     4.6e-05       0.002\n",
       "==============================================================================\n",
       "Omnibus:                      258.942   Durbin-Watson:                   1.924\n",
       "Prob(Omnibus):                  0.000   Jarque-Bera (JB):               49.026\n",
       "Skew:                           0.336   Prob(JB):                     2.26e-11\n",
       "Kurtosis:                       1.906   Cond. No.                         387.\n",
       "==============================================================================\n",
       "\n",
       "Notes:\n",
       "[1] Standard Errors assume that the covariance matrix of the errors is correctly specified.\n",
       "\"\"\""
      ]
     },
     "execution_count": 8,
     "metadata": {},
     "output_type": "execute_result"
    }
   ],
   "source": [
    "results.summary()"
   ]
  },
  {
   "cell_type": "markdown",
   "id": "ba55fbd1-edc8-44cc-b8bd-0e27ab9c003d",
   "metadata": {},
   "source": [
    "#### Format classique"
   ]
  },
  {
   "cell_type": "code",
   "execution_count": 9,
   "id": "088d118d-3958-4d7c-bd80-f98ec190a7ad",
   "metadata": {
    "execution": {
     "iopub.execute_input": "2021-04-30T05:01:57.231997Z",
     "iopub.status.busy": "2021-04-30T05:01:57.231828Z",
     "iopub.status.idle": "2021-04-30T05:01:57.234330Z",
     "shell.execute_reply": "2021-04-30T05:01:57.233797Z",
     "shell.execute_reply.started": "2021-04-30T05:01:57.231977Z"
    },
    "tags": []
   },
   "outputs": [],
   "source": [
    "import pandas as pd"
   ]
  },
  {
   "cell_type": "code",
   "execution_count": 10,
   "id": "ac8fa86a-bd88-4606-8d08-daf644dca425",
   "metadata": {
    "execution": {
     "iopub.execute_input": "2021-04-30T05:01:57.677095Z",
     "iopub.status.busy": "2021-04-30T05:01:57.676910Z",
     "iopub.status.idle": "2021-04-30T05:01:57.679968Z",
     "shell.execute_reply": "2021-04-30T05:01:57.679582Z",
     "shell.execute_reply.started": "2021-04-30T05:01:57.677074Z"
    },
    "tags": []
   },
   "outputs": [],
   "source": [
    "classe_dummies = pd.get_dummies(df.classe)"
   ]
  },
  {
   "cell_type": "code",
   "execution_count": 11,
   "id": "5c6c3a3c-5c3f-480b-86b8-efeca444fe6e",
   "metadata": {
    "execution": {
     "iopub.execute_input": "2021-04-30T05:01:57.952367Z",
     "iopub.status.busy": "2021-04-30T05:01:57.952194Z",
     "iopub.status.idle": "2021-04-30T05:01:57.957784Z",
     "shell.execute_reply": "2021-04-30T05:01:57.957400Z",
     "shell.execute_reply.started": "2021-04-30T05:01:57.952347Z"
    },
    "tags": []
   },
   "outputs": [],
   "source": [
    "df = pd.merge(df, classe_dummies, left_index=True, right_index=True)"
   ]
  },
  {
   "cell_type": "code",
   "execution_count": 12,
   "id": "f28580cd-df56-4e99-af15-b8c23776133e",
   "metadata": {
    "execution": {
     "iopub.execute_input": "2021-04-30T05:01:58.170373Z",
     "iopub.status.busy": "2021-04-30T05:01:58.170200Z",
     "iopub.status.idle": "2021-04-30T05:01:58.269942Z",
     "shell.execute_reply": "2021-04-30T05:01:58.269370Z",
     "shell.execute_reply.started": "2021-04-30T05:01:58.170353Z"
    },
    "tags": []
   },
   "outputs": [],
   "source": [
    "import statsmodels.api as sm\n",
    "y = df.dropna().survived\n",
    "X = df.dropna()[[\"age\",\"sibsp\",\"fare\", \"Second\", \"Third\"]]\n",
    "X = sm.add_constant(X)"
   ]
  },
  {
   "cell_type": "code",
   "execution_count": null,
   "id": "fea44ca9-552d-433a-98db-f818ea1d7896",
   "metadata": {
    "tags": []
   },
   "outputs": [],
   "source": []
  },
  {
   "cell_type": "code",
   "execution_count": 13,
   "id": "cee87fbd-d5e3-43e3-8d55-4f6d18ed97ed",
   "metadata": {
    "execution": {
     "iopub.execute_input": "2021-04-30T05:01:59.064629Z",
     "iopub.status.busy": "2021-04-30T05:01:59.064378Z",
     "iopub.status.idle": "2021-04-30T05:01:59.086841Z",
     "shell.execute_reply": "2021-04-30T05:01:59.086350Z",
     "shell.execute_reply.started": "2021-04-30T05:01:59.064597Z"
    },
    "tags": []
   },
   "outputs": [
    {
     "data": {
      "text/html": [
       "<table class=\"simpletable\">\n",
       "<caption>OLS Regression Results</caption>\n",
       "<tr>\n",
       "  <th>Dep. Variable:</th>        <td>survived</td>     <th>  R-squared:         </th> <td>   0.093</td>\n",
       "</tr>\n",
       "<tr>\n",
       "  <th>Model:</th>                   <td>OLS</td>       <th>  Adj. R-squared:    </th> <td>   0.067</td>\n",
       "</tr>\n",
       "<tr>\n",
       "  <th>Method:</th>             <td>Least Squares</td>  <th>  F-statistic:       </th> <td>   3.619</td>\n",
       "</tr>\n",
       "<tr>\n",
       "  <th>Date:</th>             <td>Fri, 30 Apr 2021</td> <th>  Prob (F-statistic):</th>  <td>0.00385</td>\n",
       "</tr>\n",
       "<tr>\n",
       "  <th>Time:</th>                 <td>07:01:59</td>     <th>  Log-Likelihood:    </th> <td> -111.18</td>\n",
       "</tr>\n",
       "<tr>\n",
       "  <th>No. Observations:</th>      <td>   182</td>      <th>  AIC:               </th> <td>   234.4</td>\n",
       "</tr>\n",
       "<tr>\n",
       "  <th>Df Residuals:</th>          <td>   176</td>      <th>  BIC:               </th> <td>   253.6</td>\n",
       "</tr>\n",
       "<tr>\n",
       "  <th>Df Model:</th>              <td>     5</td>      <th>                     </th>     <td> </td>   \n",
       "</tr>\n",
       "<tr>\n",
       "  <th>Covariance Type:</th>      <td>nonrobust</td>    <th>                     </th>     <td> </td>   \n",
       "</tr>\n",
       "</table>\n",
       "<table class=\"simpletable\">\n",
       "<tr>\n",
       "     <td></td>       <th>coef</th>     <th>std err</th>      <th>t</th>      <th>P>|t|</th>  <th>[0.025</th>    <th>0.975]</th>  \n",
       "</tr>\n",
       "<tr>\n",
       "  <th>const</th>  <td>    0.9138</td> <td>    0.115</td> <td>    7.965</td> <td> 0.000</td> <td>    0.687</td> <td>    1.140</td>\n",
       "</tr>\n",
       "<tr>\n",
       "  <th>age</th>    <td>   -0.0078</td> <td>    0.002</td> <td>   -3.328</td> <td> 0.001</td> <td>   -0.012</td> <td>   -0.003</td>\n",
       "</tr>\n",
       "<tr>\n",
       "  <th>sibsp</th>  <td>    0.0193</td> <td>    0.055</td> <td>    0.351</td> <td> 0.726</td> <td>   -0.090</td> <td>    0.128</td>\n",
       "</tr>\n",
       "<tr>\n",
       "  <th>fare</th>   <td>    0.0005</td> <td>    0.000</td> <td>    1.016</td> <td> 0.311</td> <td>   -0.000</td> <td>    0.001</td>\n",
       "</tr>\n",
       "<tr>\n",
       "  <th>Second</th> <td>    0.0662</td> <td>    0.132</td> <td>    0.502</td> <td> 0.616</td> <td>   -0.194</td> <td>    0.326</td>\n",
       "</tr>\n",
       "<tr>\n",
       "  <th>Third</th>  <td>   -0.2595</td> <td>    0.160</td> <td>   -1.625</td> <td> 0.106</td> <td>   -0.575</td> <td>    0.056</td>\n",
       "</tr>\n",
       "</table>\n",
       "<table class=\"simpletable\">\n",
       "<tr>\n",
       "  <th>Omnibus:</th>       <td>74.262</td> <th>  Durbin-Watson:     </th> <td>   1.987</td>\n",
       "</tr>\n",
       "<tr>\n",
       "  <th>Prob(Omnibus):</th> <td> 0.000</td> <th>  Jarque-Bera (JB):  </th> <td>  23.162</td>\n",
       "</tr>\n",
       "<tr>\n",
       "  <th>Skew:</th>          <td>-0.658</td> <th>  Prob(JB):          </th> <td>9.34e-06</td>\n",
       "</tr>\n",
       "<tr>\n",
       "  <th>Kurtosis:</th>      <td> 1.849</td> <th>  Cond. No.          </th> <td>    601.</td>\n",
       "</tr>\n",
       "</table><br/><br/>Notes:<br/>[1] Standard Errors assume that the covariance matrix of the errors is correctly specified."
      ],
      "text/plain": [
       "<class 'statsmodels.iolib.summary.Summary'>\n",
       "\"\"\"\n",
       "                            OLS Regression Results                            \n",
       "==============================================================================\n",
       "Dep. Variable:               survived   R-squared:                       0.093\n",
       "Model:                            OLS   Adj. R-squared:                  0.067\n",
       "Method:                 Least Squares   F-statistic:                     3.619\n",
       "Date:                Fri, 30 Apr 2021   Prob (F-statistic):            0.00385\n",
       "Time:                        07:01:59   Log-Likelihood:                -111.18\n",
       "No. Observations:                 182   AIC:                             234.4\n",
       "Df Residuals:                     176   BIC:                             253.6\n",
       "Df Model:                           5                                         \n",
       "Covariance Type:            nonrobust                                         \n",
       "==============================================================================\n",
       "                 coef    std err          t      P>|t|      [0.025      0.975]\n",
       "------------------------------------------------------------------------------\n",
       "const          0.9138      0.115      7.965      0.000       0.687       1.140\n",
       "age           -0.0078      0.002     -3.328      0.001      -0.012      -0.003\n",
       "sibsp          0.0193      0.055      0.351      0.726      -0.090       0.128\n",
       "fare           0.0005      0.000      1.016      0.311      -0.000       0.001\n",
       "Second         0.0662      0.132      0.502      0.616      -0.194       0.326\n",
       "Third         -0.2595      0.160     -1.625      0.106      -0.575       0.056\n",
       "==============================================================================\n",
       "Omnibus:                       74.262   Durbin-Watson:                   1.987\n",
       "Prob(Omnibus):                  0.000   Jarque-Bera (JB):               23.162\n",
       "Skew:                          -0.658   Prob(JB):                     9.34e-06\n",
       "Kurtosis:                       1.849   Cond. No.                         601.\n",
       "==============================================================================\n",
       "\n",
       "Notes:\n",
       "[1] Standard Errors assume that the covariance matrix of the errors is correctly specified.\n",
       "\"\"\""
      ]
     },
     "execution_count": 13,
     "metadata": {},
     "output_type": "execute_result"
    }
   ],
   "source": [
    "sm.OLS(y, X.dropna()).fit().summary()"
   ]
  },
  {
   "cell_type": "code",
   "execution_count": null,
   "id": "64e17c24-5335-484f-b284-9b719f5eee9e",
   "metadata": {},
   "outputs": [],
   "source": []
  }
 ],
 "metadata": {
  "kernelspec": {
   "display_name": "Python 3",
   "language": "python",
   "name": "python3"
  },
  "language_info": {
   "codemirror_mode": {
    "name": "ipython",
    "version": 3
   },
   "file_extension": ".py",
   "mimetype": "text/x-python",
   "name": "python",
   "nbconvert_exporter": "python",
   "pygments_lexer": "ipython3",
   "version": "3.8.8"
  }
 },
 "nbformat": 4,
 "nbformat_minor": 5
}
